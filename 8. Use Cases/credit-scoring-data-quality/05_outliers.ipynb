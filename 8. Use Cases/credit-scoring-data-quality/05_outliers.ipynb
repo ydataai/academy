{
 "cells": [
  {
   "cell_type": "markdown",
   "id": "aca4bef5-f7de-4e6c-ba63-9790a77f30a5",
   "metadata": {
    "papermill": {
     "duration": 0.044687,
     "end_time": "2022-10-24T06:30:54.505750",
     "exception": false,
     "start_time": "2022-10-24T06:30:54.461063",
     "status": "completed"
    },
    "tags": []
   },
   "source": [
    "# 5. Outliers processing\n",
    "\n",
    "## Identification & processing"
   ]
  },
  {
   "cell_type": "markdown",
   "id": "a6b724cb",
   "metadata": {
    "papermill": {
     "duration": 0.047568,
     "end_time": "2022-10-24T06:30:54.598667",
     "exception": false,
     "start_time": "2022-10-24T06:30:54.551099",
     "status": "completed"
    },
    "tags": []
   },
   "source": [
    "### Import the needed packages"
   ]
  },
  {
   "cell_type": "code",
   "execution_count": 19,
   "id": "c5b83744-5c37-4b77-8c7f-794c9e510096",
   "metadata": {
    "papermill": {
     "duration": 0.460781,
     "end_time": "2022-10-24T06:30:55.103198",
     "exception": false,
     "start_time": "2022-10-24T06:30:54.642417",
     "status": "completed"
    },
    "tags": []
   },
   "outputs": [],
   "source": [
    "import pickle \n",
    "\n",
    "import pandas as pd\n",
    "\n",
    "from ydata.dataset import Dataset\n",
    "from ydata.metadata import Metadata\n",
    "\n",
    "from ydata.quality.outlier import OutlierEngine, OutlierSteps, OutlierPipeline\n",
    "from ydata.quality.outlier.detection import IsolationForest, StandardDeviation\n",
    "from ydata.quality.outlier.projection import PCA, ICA\n",
    "from ydata.quality.outlier.clustering import HDBSCANClustering"
   ]
  },
  {
   "cell_type": "code",
   "execution_count": 20,
   "id": "86cca448-1d4c-4b75-bcb8-6f1bfed048c9",
   "metadata": {
    "papermill": {
     "duration": 0.062403,
     "end_time": "2022-10-24T06:30:55.205706",
     "exception": false,
     "start_time": "2022-10-24T06:30:55.143303",
     "status": "completed"
    },
    "tags": []
   },
   "outputs": [],
   "source": [
    "prep = pickle.load(open('prep_parameters.pkl', 'rb'))"
   ]
  },
  {
   "cell_type": "markdown",
   "id": "b67a98b8-18c3-4b10-935c-1ef6ef9bfc93",
   "metadata": {
    "papermill": {
     "duration": 0.042101,
     "end_time": "2022-10-24T06:30:55.292259",
     "exception": false,
     "start_time": "2022-10-24T06:30:55.250158",
     "status": "completed"
    },
    "tags": []
   },
   "source": [
    "## Identify the existing outliers"
   ]
  },
  {
   "cell_type": "code",
   "execution_count": 21,
   "id": "7355ed27-dd0c-4666-ad16-f5b3cfec97ad",
   "metadata": {
    "papermill": {
     "duration": 0.250178,
     "end_time": "2022-10-24T06:30:55.589854",
     "exception": false,
     "start_time": "2022-10-24T06:30:55.339676",
     "status": "completed"
    },
    "tags": []
   },
   "outputs": [],
   "source": [
    "## Read the data from the last pipeline step\n",
    "train_data = pd.read_csv('prep_traindata.csv', index_col=[0])"
   ]
  },
  {
   "cell_type": "code",
   "execution_count": 22,
   "id": "9814456d-f62b-4956-a3b5-1d011f7b61ec",
   "metadata": {},
   "outputs": [],
   "source": [
    "train_data = train_data[train_data['age'] != 101]\n",
    "train_data = train_data[train_data['age'] != 99]\n",
    "train_data = train_data[train_data['age'] != 0]"
   ]
  },
  {
   "cell_type": "markdown",
   "id": "790a4382-e52b-4788-8f6b-3023cebe0dff",
   "metadata": {
    "papermill": {
     "duration": 0.042276,
     "end_time": "2022-10-24T06:30:56.027093",
     "exception": false,
     "start_time": "2022-10-24T06:30:55.984817",
     "status": "completed"
    },
    "tags": []
   },
   "source": [
    "## Pipeline outputs"
   ]
  },
  {
   "cell_type": "code",
   "execution_count": 17,
   "id": "e00e2ab7-afa7-4fec-91fd-865f966d6ea3",
   "metadata": {
    "papermill": {
     "duration": 0.822355,
     "end_time": "2022-10-24T06:30:56.892136",
     "exception": false,
     "start_time": "2022-10-24T06:30:56.069781",
     "status": "completed"
    },
    "tags": []
   },
   "outputs": [],
   "source": [
    "train_data.to_csv('prep_traindata.csv')\n",
    "\n",
    "pickle.dump(prep, open('prep_parameters.pkl', 'wb'))"
   ]
  }
 ],
 "metadata": {
  "kernelspec": {
   "display_name": "Python 3 (ipykernel)",
   "language": "python",
   "name": "python3"
  },
  "language_info": {
   "codemirror_mode": {
    "name": "ipython",
    "version": 3
   },
   "file_extension": ".py",
   "mimetype": "text/x-python",
   "name": "python",
   "nbconvert_exporter": "python",
   "pygments_lexer": "ipython3",
   "version": "3.8.15"
  },
  "papermill": {
   "default_parameters": {},
   "duration": 4.084978,
   "end_time": "2022-10-24T06:30:57.383510",
   "environment_variables": {},
   "exception": null,
   "input_path": "/mnt/laboratory/1ffabd97-374f-483a-885a-d025b3a2e2ef/04_drop_duplicates.ipynb",
   "output_path": "/mnt/laboratory/1ffabd97-374f-483a-885a-d025b3a2e2ef/04_drop_duplicates.ipynb",
   "parameters": {},
   "start_time": "2022-10-24T06:30:53.298532",
   "version": "2.4.0"
  }
 },
 "nbformat": 4,
 "nbformat_minor": 5
}
