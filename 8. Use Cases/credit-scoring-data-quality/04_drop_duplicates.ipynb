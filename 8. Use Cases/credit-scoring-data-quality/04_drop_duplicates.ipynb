{
 "cells": [
  {
   "cell_type": "markdown",
   "id": "aca4bef5-f7de-4e6c-ba63-9790a77f30a5",
   "metadata": {
    "papermill": {
     "duration": 0.044687,
     "end_time": "2022-10-24T06:30:54.505750",
     "exception": false,
     "start_time": "2022-10-24T06:30:54.461063",
     "status": "completed"
    },
    "tags": []
   },
   "source": [
    "# 4. Duplicate records\n",
    "\n",
    "## Processing\n",
    "\n",
    "Duplicates can represent a massive problem for the training of a Machine Learning model. In a lot of cases it is recommend to drop the duplicate records, unless, they are one of the behaviors being modeled and their presence provides in fact relevant information for the use-case being explored.\n",
    "\n",
    "For the particular pipeline we are exploring, credit scoring, the presence of duplicates can lead to:\n",
    "\n",
    "- Overfit of the model to training data which leads to a poor generalization in production systems. Biased models are something that can be dangerous, particularly, for the example use case we are exploring;\n",
    "- Duplicates can also lead to information leakage between validation and training sets. If the same point is splitted between the training and validation, this will increase in validation performance of the model\n",
    "\n",
    "For this particular dataset, the presence of duplicates is rather small, nevertheless, we will compare our scoring model performance before and after the duplicates drop."
   ]
  },
  {
   "cell_type": "markdown",
   "id": "a6b724cb",
   "metadata": {
    "papermill": {
     "duration": 0.047568,
     "end_time": "2022-10-24T06:30:54.598667",
     "exception": false,
     "start_time": "2022-10-24T06:30:54.551099",
     "status": "completed"
    },
    "tags": []
   },
   "source": [
    "### Import the needed packages"
   ]
  },
  {
   "cell_type": "code",
   "execution_count": 9,
   "id": "c5b83744-5c37-4b77-8c7f-794c9e510096",
   "metadata": {
    "papermill": {
     "duration": 0.460781,
     "end_time": "2022-10-24T06:30:55.103198",
     "exception": false,
     "start_time": "2022-10-24T06:30:54.642417",
     "status": "completed"
    },
    "tags": []
   },
   "outputs": [],
   "source": [
    "import os\n",
    "\n",
    "import pickle \n",
    "\n",
    "import pandas as pd"
   ]
  },
  {
   "cell_type": "code",
   "execution_count": 10,
   "id": "86cca448-1d4c-4b75-bcb8-6f1bfed048c9",
   "metadata": {
    "papermill": {
     "duration": 0.062403,
     "end_time": "2022-10-24T06:30:55.205706",
     "exception": false,
     "start_time": "2022-10-24T06:30:55.143303",
     "status": "completed"
    },
    "tags": []
   },
   "outputs": [],
   "source": [
    "prep = pickle.load(open('prep_parameters.pkl', 'rb'))"
   ]
  },
  {
   "cell_type": "markdown",
   "id": "b67a98b8-18c3-4b10-935c-1ef6ef9bfc93",
   "metadata": {
    "papermill": {
     "duration": 0.042101,
     "end_time": "2022-10-24T06:30:55.292259",
     "exception": false,
     "start_time": "2022-10-24T06:30:55.250158",
     "status": "completed"
    },
    "tags": []
   },
   "source": [
    "## Identify the number of duplicates"
   ]
  },
  {
   "cell_type": "code",
   "execution_count": 11,
   "id": "7355ed27-dd0c-4666-ad16-f5b3cfec97ad",
   "metadata": {
    "papermill": {
     "duration": 0.250178,
     "end_time": "2022-10-24T06:30:55.589854",
     "exception": false,
     "start_time": "2022-10-24T06:30:55.339676",
     "status": "completed"
    },
    "tags": []
   },
   "outputs": [],
   "source": [
    "## Read the data from the last pipeline step\n",
    "train_data = pd.read_csv('prep_traindata.csv', index_col=[0])"
   ]
  },
  {
   "cell_type": "code",
   "execution_count": 12,
   "id": "0b80bd85-8142-4e1b-a5b2-0a3d461da135",
   "metadata": {
    "papermill": {
     "duration": 0.113663,
     "end_time": "2022-10-24T06:30:55.745128",
     "exception": false,
     "start_time": "2022-10-24T06:30:55.631465",
     "status": "completed"
    },
    "tags": []
   },
   "outputs": [],
   "source": [
    "n_duplicates = train_data[train_data.duplicated()].shape[0]"
   ]
  },
  {
   "cell_type": "code",
   "execution_count": 13,
   "id": "5aeaec35-3350-4e0b-8931-57c62550d4a1",
   "metadata": {
    "papermill": {
     "duration": 0.052735,
     "end_time": "2022-10-24T06:30:55.841284",
     "exception": false,
     "start_time": "2022-10-24T06:30:55.788549",
     "status": "completed"
    },
    "tags": []
   },
   "outputs": [],
   "source": [
    "try:\n",
    "    drop = int(os.getenv('DROP'))\n",
    "except:\n",
    "    drop = 1"
   ]
  },
  {
   "cell_type": "code",
   "execution_count": 14,
   "id": "0a6755de-417c-4e39-8047-4202848021d5",
   "metadata": {
    "papermill": {
     "duration": 0.056737,
     "end_time": "2022-10-24T06:30:55.942370",
     "exception": false,
     "start_time": "2022-10-24T06:30:55.885633",
     "status": "completed"
    },
    "tags": []
   },
   "outputs": [],
   "source": [
    "if drop and n_duplicates>0:\n",
    "    prep_data = train_data.drop_duplicates()\n",
    "    prep['Drop Duplicates'] = 1\n",
    "else:\n",
    "    prep_data=train_data\n",
    "    prep['Drop Duplicates'] = 0"
   ]
  },
  {
   "cell_type": "markdown",
   "id": "790a4382-e52b-4788-8f6b-3023cebe0dff",
   "metadata": {
    "papermill": {
     "duration": 0.042276,
     "end_time": "2022-10-24T06:30:56.027093",
     "exception": false,
     "start_time": "2022-10-24T06:30:55.984817",
     "status": "completed"
    },
    "tags": []
   },
   "source": [
    "## Outputs"
   ]
  },
  {
   "cell_type": "code",
   "execution_count": 15,
   "id": "e00e2ab7-afa7-4fec-91fd-865f966d6ea3",
   "metadata": {
    "papermill": {
     "duration": 0.822355,
     "end_time": "2022-10-24T06:30:56.892136",
     "exception": false,
     "start_time": "2022-10-24T06:30:56.069781",
     "status": "completed"
    },
    "tags": []
   },
   "outputs": [],
   "source": [
    "prep_data.to_csv('prep_traindata.csv')\n",
    "\n",
    "pickle.dump(prep, open('prep_parameters.pkl', 'wb'))"
   ]
  },
  {
   "cell_type": "markdown",
   "id": "47fff000-9e9b-4303-8240-7df7cc72bbc1",
   "metadata": {
    "papermill": {
     "duration": 0.050457,
     "end_time": "2022-10-24T06:30:56.986581",
     "exception": false,
     "start_time": "2022-10-24T06:30:56.936124",
     "status": "completed"
    },
    "tags": []
   },
   "source": [
    "### Creating the pipeline step outputs"
   ]
  },
  {
   "cell_type": "code",
   "execution_count": 16,
   "id": "43c34797-5117-4a48-86c3-cfa852969bf3",
   "metadata": {
    "papermill": {
     "duration": 0.093699,
     "end_time": "2022-10-24T06:30:57.121996",
     "exception": false,
     "start_time": "2022-10-24T06:30:57.028297",
     "status": "completed"
    },
    "tags": []
   },
   "outputs": [],
   "source": [
    "import json\n",
    "metadata = {\n",
    "    'outputs' : [\n",
    "        {\n",
    "      'type': 'markdown',\n",
    "      'storage': 'inline',\n",
    "      'source': f'## **Drop duplicates:** {bool(drop)}',\n",
    "        }, \n",
    "        {\n",
    "      'type': 'markdown',\n",
    "      'storage': 'inline',\n",
    "      'source': f'## **Number of duplicates:** {n_duplicates}',\n",
    "        },\n",
    "    ]\n",
    "  }\n",
    "\n",
    "with open('mlpipeline-ui-metadata.json', 'w') as metadata_file:\n",
    "    json.dump(metadata, metadata_file)"
   ]
  },
  {
   "cell_type": "code",
   "execution_count": null,
   "id": "ad764e68-ff79-4d5b-8a1f-6b3f296e2a65",
   "metadata": {},
   "outputs": [],
   "source": []
  }
 ],
 "metadata": {
  "kernelspec": {
   "display_name": "Python 3 (ipykernel)",
   "language": "python",
   "name": "python3"
  },
  "language_info": {
   "codemirror_mode": {
    "name": "ipython",
    "version": 3
   },
   "file_extension": ".py",
   "mimetype": "text/x-python",
   "name": "python",
   "nbconvert_exporter": "python",
   "pygments_lexer": "ipython3",
   "version": "3.8.15"
  },
  "papermill": {
   "default_parameters": {},
   "duration": 4.084978,
   "end_time": "2022-10-24T06:30:57.383510",
   "environment_variables": {},
   "exception": null,
   "input_path": "/mnt/laboratory/1ffabd97-374f-483a-885a-d025b3a2e2ef/04_drop_duplicates.ipynb",
   "output_path": "/mnt/laboratory/1ffabd97-374f-483a-885a-d025b3a2e2ef/04_drop_duplicates.ipynb",
   "parameters": {},
   "start_time": "2022-10-24T06:30:53.298532",
   "version": "2.4.0"
  }
 },
 "nbformat": 4,
 "nbformat_minor": 5
}
