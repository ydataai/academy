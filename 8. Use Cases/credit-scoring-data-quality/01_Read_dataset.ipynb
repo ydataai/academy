{
 "cells": [
  {
   "cell_type": "markdown",
   "id": "c8a676f1-a811-4a60-9786-b2a11fc7e5fd",
   "metadata": {
    "execution": {
     "iopub.execute_input": "2022-09-05T22:46:12.358397Z",
     "iopub.status.busy": "2022-09-05T22:46:12.357479Z",
     "iopub.status.idle": "2022-09-05T22:46:12.362365Z",
     "shell.execute_reply": "2022-09-05T22:46:12.361701Z"
    },
    "papermill": {
     "duration": 0.041868,
     "end_time": "2022-12-08T19:15:50.016528",
     "exception": false,
     "start_time": "2022-12-08T19:15:49.974660",
     "status": "completed"
    },
    "tags": []
   },
   "source": [
    "# 1. Improving credit card scoring through data quality"
   ]
  },
  {
   "cell_type": "markdown",
   "id": "0faf5f68",
   "metadata": {
    "papermill": {
     "duration": 0.040368,
     "end_time": "2022-12-08T19:15:50.099387",
     "exception": false,
     "start_time": "2022-12-08T19:15:50.059019",
     "status": "completed"
    },
    "tags": [],
    "pycharm": {
     "name": "#%% md\n"
    }
   },
   "source": [
    "We are all familiar with the axiom \"Garbage in, garbage out\", and this is very much true, specially in a setting and market where we see models getting more and more commmoditized. The business advatage will remain in the component that it is unique to every organization - the data.\n",
    "\n",
    "In every case - and particularly for credit scoring use cases - data preparation is a paramount. Nevertheless, and althoug the achievments we have observed in the past few years, data preparation is still the most challenging and time-consuming step. Ensuring data quality helps data teams to achieve bigger ROI from AI initiatives at a fraction of the effort it used to, translating into better scorecards that positively impact the business and customer experience.\n",
    "\n",
    "When we look into the credit scoring, there are particular issues that can dampen model accuracy - presence of outliers, missing values and the presence of imbalanced classes.\n",
    "\n",
    "In this usecase we will explore not only an iterative, traceable and comparable data processing for to improve the quality of the data for credit scorecards, but also how to mitigate each one of the identified challenges: missing data, presence of duplicates and last but not the least, imabalanced data.\n",
    "\n",
    "\n",
    "The dataset leveraged for the use-case can be easily found in [Kaggle - Give me some credit](https://www.kaggle.com/competitions/GiveMeSomeCredit/overview)."
   ]
  },
  {
   "cell_type": "markdown",
   "id": "522ccb94",
   "metadata": {
    "papermill": {
     "duration": 0.042582,
     "end_time": "2022-12-08T19:15:50.181561",
     "exception": false,
     "start_time": "2022-12-08T19:15:50.138979",
     "status": "completed"
    },
    "tags": [],
    "pycharm": {
     "name": "#%% md\n"
    }
   },
   "source": [
    "## Read the data\n",
    "\n",
    "The first step is to read the data. As Data Scientists it is usual to find the use of CSV as the main data sources. For that reason we enable a flexible interface to consume CSV data.\n",
    "\n",
    "- Through YData SDK - LocalConnector - this method returns automatically a Dataset object that is ready to be consumed in downstream applications such as Synthetisizer.\n",
    "- Leveraging pandas - Pandas is available in YData image. This method requires the data to be converted into Dataset, if the user wants to leverage downstream applications such as Synthesizers, or the scale from our distributed computing engine.\n",
    "\n",
    "In this particular example, we have decided to load the data while using pandas SDK method `read_csv`."
   ]
  },
  {
   "cell_type": "markdown",
   "id": "08918b8a-a05f-496d-9e66-6ca49449ff3e",
   "metadata": {
    "papermill": {
     "duration": 0.043251,
     "end_time": "2022-12-08T19:15:50.265106",
     "exception": false,
     "start_time": "2022-12-08T19:15:50.221855",
     "status": "completed"
    },
    "tags": []
   },
   "source": [
    "### Import needed packages"
   ]
  },
  {
   "cell_type": "code",
   "execution_count": 5,
   "id": "c6a63de2-d443-4bd9-a065-cd85759b7e0e",
   "metadata": {
    "papermill": {
     "duration": 2.364569,
     "end_time": "2022-12-08T19:15:52.672134",
     "exception": false,
     "start_time": "2022-12-08T19:15:50.307565",
     "status": "completed"
    },
    "tags": []
   },
   "outputs": [],
   "source": [
    "import os\n",
    "\n",
    "import numpy as np\n",
    "import pandas as pd\n",
    "\n",
    "from ydata.utils.formats import read_json\n",
    "from ydata.dataset import Dataset\n",
    "from ydata.metadata import Metadata\n",
    "from ydata.labs.datasources import DataSources\n",
    "\n",
    "from ydata.connectors.filetype import FileType\n",
    "from ydata.connectors import GCSConnector\n",
    "\n",
    "\n",
    "from ydata.dataset.holdout import Holdout"
   ]
  },
  {
   "cell_type": "markdown",
   "id": "77c0e416-786a-4cf9-bbf5-5383246a9c23",
   "metadata": {
    "papermill": {
     "duration": 0.041629,
     "end_time": "2022-12-08T19:15:52.756405",
     "exception": false,
     "start_time": "2022-12-08T19:15:52.714776",
     "status": "completed"
    },
    "tags": []
   },
   "source": [
    "### Read the data from an existing source"
   ]
  },
  {
   "cell_type": "code",
   "execution_count": 10,
   "id": "bd392e34-4ed3-41fc-bd44-941a4e026dbe",
   "metadata": {
    "papermill": {
     "duration": 12.550591,
     "end_time": "2022-12-08T19:16:05.351495",
     "exception": false,
     "start_time": "2022-12-08T19:15:52.800904",
     "status": "completed"
    },
    "tags": [],
    "pycharm": {
     "name": "#%%\n"
    }
   },
   "outputs": [
    {
     "name": "stderr",
     "output_type": "stream",
     "text": [
      "/opt/conda/lib/python3.8/site-packages/ydata/metadata/metadata.py:143: UserWarning: Datasets other than Timeseries don't make use of dataset_attrs\n",
      "  warn(\"Datasets other than Timeseries don't make use of dataset_attrs\")\n"
     ]
    }
   ],
   "source": [
    "dataset = DataSources.get(uid='{datasource-id}').read()\n",
    "\n",
    "metadata = Metadata(dataset)"
   ]
  },
  {
   "cell_type": "code",
   "execution_count": 8,
   "id": "31e7a014-864c-4229-b2f0-0a1ba3be81d9",
   "metadata": {
    "papermill": {
     "duration": 0.320925,
     "end_time": "2022-12-08T19:16:05.719776",
     "exception": false,
     "start_time": "2022-12-08T19:16:05.398851",
     "status": "completed"
    },
    "tags": []
   },
   "outputs": [
    {
     "name": "stdout",
     "output_type": "stream",
     "text": [
      "\u001B[1mDataset \n",
      " \n",
      "\u001B[0m\u001B[1mShape: \u001B[0m(50000, 11)\n",
      "\u001B[1mSchema: \u001B[0m\n",
      "                                  Column Variable type\n",
      "0                       SeriousDlqin2yrs           int\n",
      "1   RevolvingUtilizationOfUnsecuredLines         float\n",
      "2                                    age           int\n",
      "3   NumberOfTime30-59DaysPastDueNotWorse           int\n",
      "4                              DebtRatio         float\n",
      "5                          MonthlyIncome         float\n",
      "6        NumberOfOpenCreditLinesAndLoans           int\n",
      "7                NumberOfTimes90DaysLate           int\n",
      "8           NumberRealEstateLoansOrLines           int\n",
      "9   NumberOfTime60-89DaysPastDueNotWorse           int\n",
      "10                    NumberOfDependents         float\n",
      "\n",
      "\n"
     ]
    }
   ],
   "source": [
    "print(dataset)"
   ]
  },
  {
   "cell_type": "code",
   "execution_count": 9,
   "id": "cbf48a6f-8fad-40c6-9ada-ddb391955481",
   "metadata": {
    "papermill": {
     "duration": 0.057831,
     "end_time": "2022-12-08T19:16:05.825714",
     "exception": false,
     "start_time": "2022-12-08T19:16:05.767883",
     "status": "completed"
    },
    "tags": []
   },
   "outputs": [],
   "source": [
    "metadata.update_datatypes({'SeriousDlqin2yrs': 'categorical'})"
   ]
  },
  {
   "cell_type": "markdown",
   "id": "5533a97a",
   "metadata": {
    "papermill": {
     "duration": 0.046203,
     "end_time": "2022-12-08T19:16:05.916739",
     "exception": false,
     "start_time": "2022-12-08T19:16:05.870536",
     "status": "completed"
    },
    "tags": [],
    "pycharm": {
     "name": "#%% md\n"
    }
   },
   "source": [
    "## Preparing the data for the data preparation workflow\n",
    "Now that we have our dataset ready to start working, before any data analysis and preparation it is always recommended to create a holdout. This ensures unbiased results in terms of improvements achieved."
   ]
  },
  {
   "cell_type": "code",
   "execution_count": null,
   "id": "a02ca02d-5355-4854-9bd7-c5ce60e078a9",
   "metadata": {
    "papermill": {
     "duration": 9.131178,
     "end_time": "2022-12-08T19:16:15.094851",
     "exception": false,
     "start_time": "2022-12-08T19:16:05.963673",
     "status": "completed"
    },
    "tags": []
   },
   "outputs": [],
   "source": [
    "holdout = Holdout()\n",
    "train, test = holdout.get_split(dataset, metadata)"
   ]
  },
  {
   "cell_type": "code",
   "execution_count": null,
   "id": "ce11e60d-02c0-49ab-b47e-b5ff98f6a41f",
   "metadata": {
    "papermill": {
     "duration": 209.289149,
     "end_time": "2022-12-08T19:19:44.433613",
     "exception": false,
     "start_time": "2022-12-08T19:16:15.144464",
     "status": "completed"
    },
    "tags": []
   },
   "outputs": [],
   "source": [
    "metadata = Metadata(train)"
   ]
  },
  {
   "cell_type": "code",
   "execution_count": null,
   "id": "ba4f95bb-63d3-40e1-89a0-293a8f8c11d0",
   "metadata": {
    "papermill": {
     "duration": 0.059495,
     "end_time": "2022-12-08T19:19:44.548309",
     "exception": false,
     "start_time": "2022-12-08T19:19:44.488814",
     "status": "completed"
    },
    "tags": []
   },
   "outputs": [],
   "source": [
    "metadata.update_datatypes({'SeriousDlqin2yrs':'categorical'})"
   ]
  },
  {
   "cell_type": "code",
   "execution_count": null,
   "id": "3efe0d58-84fc-421b-b07e-c0da43480087",
   "metadata": {
    "papermill": {
     "duration": 0.055783,
     "end_time": "2022-12-08T19:19:44.650171",
     "exception": false,
     "start_time": "2022-12-08T19:19:44.594388",
     "status": "completed"
    },
    "tags": []
   },
   "outputs": [],
   "source": [
    "print(dataset)"
   ]
  },
  {
   "cell_type": "code",
   "execution_count": null,
   "id": "60b64e59-3ed3-48be-a583-b8194c6e6187",
   "metadata": {
    "papermill": {
     "duration": 0.059489,
     "end_time": "2022-12-08T19:19:44.759935",
     "exception": false,
     "start_time": "2022-12-08T19:19:44.700446",
     "status": "completed"
    },
    "tags": []
   },
   "outputs": [],
   "source": [
    "#Get metadata warnings\n",
    "warnings=[]\n",
    "for warning, val in metadata.warnings.items():\n",
    "    for col in val:\n",
    "        try:\n",
    "            level = col.details['level'].name\n",
    "            value = round(col.details['value'], 4)\n",
    "        except:\n",
    "            level = None\n",
    "            value = None\n",
    "        warnings.append({'warning': warning, 'column': col.column, 'level': level, 'value':value})\n",
    "\n",
    "df_warnings= pd.DataFrame(warnings)"
   ]
  },
  {
   "cell_type": "markdown",
   "id": "b5ecf980-edf0-4135-a541-73bb9c08f921",
   "metadata": {
    "execution": {
     "iopub.execute_input": "2022-09-05T22:46:16.495431Z",
     "iopub.status.busy": "2022-09-05T22:46:16.494648Z",
     "iopub.status.idle": "2022-09-05T22:46:16.498307Z",
     "shell.execute_reply": "2022-09-05T22:46:16.497592Z"
    },
    "papermill": {
     "duration": 0.043495,
     "end_time": "2022-12-08T19:19:44.847056",
     "exception": false,
     "start_time": "2022-12-08T19:19:44.803561",
     "status": "completed"
    },
    "tags": []
   },
   "source": [
    "## Create pipeline outputs\n",
    "Setting our pipeline outputs to share data and artifacts in-between the different steps of the pipeline, as well as for visualization.\n",
    "\n",
    "### Outputs"
   ]
  },
  {
   "cell_type": "code",
   "execution_count": null,
   "id": "131ad374-9a13-44bb-8e9a-c4e62ad96ef1",
   "metadata": {
    "papermill": {
     "duration": 4.349743,
     "end_time": "2022-12-08T19:19:49.246571",
     "exception": false,
     "start_time": "2022-12-08T19:19:44.896828",
     "status": "completed"
    },
    "tags": []
   },
   "outputs": [],
   "source": [
    "#Save the train metadata\n",
    "metadata.save('metadata.pkl')\n",
    "\n",
    "#Save the train dataset\n",
    "train.to_pandas().to_csv('train.csv')\n",
    "\n",
    "#Save the holdout set\n",
    "test.to_pandas().to_csv('test.csv')"
   ]
  },
  {
   "cell_type": "markdown",
   "id": "e07018e2-1d55-4d72-a724-068bc06f97e6",
   "metadata": {
    "papermill": {
     "duration": 0.042443,
     "end_time": "2022-12-08T19:19:49.333954",
     "exception": false,
     "start_time": "2022-12-08T19:19:49.291511",
     "status": "completed"
    },
    "tags": []
   },
   "source": [
    "### Visualizations"
   ]
  },
  {
   "cell_type": "code",
   "execution_count": 11,
   "id": "8c08efaf-cc84-4d32-be7a-cda1f7a28cbb",
   "metadata": {
    "papermill": {
     "duration": 0.097759,
     "end_time": "2022-12-08T19:19:49.477883",
     "exception": false,
     "start_time": "2022-12-08T19:19:49.380124",
     "status": "completed"
    },
    "tags": []
   },
   "outputs": [],
   "source": [
    "import json\n",
    "\n",
    "metadata = {\n",
    "    'outputs' : [\n",
    "        {\n",
    "      'type': 'table',\n",
    "      'storage': 'inline',\n",
    "      'format': 'csv',\n",
    "      'header': list(df_warnings.columns),\n",
    "      'source': df_warnings.to_csv(header=False, index=False)\n",
    "    }\n",
    "    ]\n",
    "  }\n",
    "\n",
    "with open('mlpipeline-ui-metadata.json', 'w') as metadata_file:\n",
    "    json.dump(metadata, metadata_file)"
   ]
  },
  {
   "cell_type": "code",
   "execution_count": null,
   "id": "b19976cf-0feb-4375-ba55-159bd9792b1c",
   "metadata": {},
   "outputs": [],
   "source": []
  }
 ],
 "metadata": {
  "kernelspec": {
   "display_name": "Python 3 (ipykernel)",
   "language": "python",
   "name": "python3"
  },
  "language_info": {
   "codemirror_mode": {
    "name": "ipython",
    "version": 3
   },
   "file_extension": ".py",
   "mimetype": "text/x-python",
   "name": "python",
   "nbconvert_exporter": "python",
   "pygments_lexer": "ipython3",
   "version": "3.8.15"
  },
  "papermill": {
   "default_parameters": {},
   "duration": 241.457973,
   "end_time": "2022-12-08T19:19:50.239052",
   "environment_variables": {},
   "exception": null,
   "input_path": "/mnt/laboratory/b81ae1d3-8ba3-4f83-a6c3-facf4f6b8e19/01_Read_dataset.ipynb",
   "output_path": "/mnt/laboratory/b81ae1d3-8ba3-4f83-a6c3-facf4f6b8e19/01_Read_dataset.ipynb",
   "parameters": {},
   "start_time": "2022-12-08T19:15:48.781079",
   "version": "2.4.0"
  }
 },
 "nbformat": 4,
 "nbformat_minor": 5
}