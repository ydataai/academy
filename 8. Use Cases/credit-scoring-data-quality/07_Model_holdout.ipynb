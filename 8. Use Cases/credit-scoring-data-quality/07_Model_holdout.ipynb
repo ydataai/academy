{
 "cells": [
  {
   "cell_type": "markdown",
   "id": "f1f9be08-de78-47e2-9b08-d7adbefc221c",
   "metadata": {},
   "source": [
    "# 6. Holdout set validation"
   ]
  },
  {
   "cell_type": "markdown",
   "id": "5e0465e7-2480-49d7-94b4-c7be0165717a",
   "metadata": {},
   "source": [
    "#### Import the needed packages"
   ]
  },
  {
   "cell_type": "code",
   "execution_count": 1,
   "id": "83029183-4c40-4f03-809e-98291300feb7",
   "metadata": {},
   "outputs": [],
   "source": [
    "%%capture\n",
    "!pip install xgboost"
   ]
  },
  {
   "cell_type": "code",
   "execution_count": 1,
   "id": "9191fd1c-ee37-461a-a17f-00c02bca577b",
   "metadata": {
    "papermill": {
     "duration": 0.806881,
     "end_time": "2022-10-24T06:31:30.400963",
     "exception": false,
     "start_time": "2022-10-24T06:31:29.594082",
     "status": "completed"
    },
    "tags": []
   },
   "outputs": [],
   "source": [
    "import pickle\n",
    "import base64\n",
    "\n",
    "import numpy as np\n",
    "import pandas as pd\n",
    "\n",
    "import seaborn as sns\n",
    "import matplotlib.pyplot as plt\n",
    "\n",
    "from sklearn.metrics import (f1_score, precision_score, recall_score, roc_auc_score, accuracy_score, confusion_matrix)\n",
    "from sklearn.calibration import CalibratedClassifierCV, calibration_curve"
   ]
  },
  {
   "cell_type": "code",
   "execution_count": 2,
   "id": "0d50bcff-2d1f-4c0f-b79e-10ba3f9d3fea",
   "metadata": {
    "papermill": {
     "duration": 0.145333,
     "end_time": "2022-10-24T06:31:30.588885",
     "exception": false,
     "start_time": "2022-10-24T06:31:30.443552",
     "status": "completed"
    },
    "tags": []
   },
   "outputs": [],
   "source": [
    "try:\n",
    "    test_data_path = os.environ['TEST_SPLIT']\n",
    "except:\n",
    "    test_data_path = 'test.csv'\n",
    "    \n",
    "test_data = pd.read_csv(test_data_path, index_col=[0])\n",
    "\n",
    "#Read the trained models\n",
    "model = pickle.load(open('best_model.pkl', 'rb'))\n",
    "\n",
    "#Read the preprocessing flow parameters\n",
    "prep = pickle.load(open('prep_parameters.pkl', 'rb'))\n",
    "\n",
    "#Import the prep method \n",
    "if prep['Imputation']:\n",
    "    imputer = pickle.load(open('prep_parameters.pkl', 'rb'))"
   ]
  },
  {
   "cell_type": "markdown",
   "id": "ebd8aca0-ff16-46ad-9769-90d8700a3614",
   "metadata": {},
   "source": [
    "#### Auxiliary functions"
   ]
  },
  {
   "cell_type": "code",
   "execution_count": 3,
   "id": "7203a2ee-402e-4473-871c-1c73be8be848",
   "metadata": {},
   "outputs": [],
   "source": [
    "def plot_confusion_matrix(cnf_matrix, group_names=[\"True Neg\",\"False Pos\",\"False Neg\",\"True Pos\"]):\n",
    "    group_names = group_names\n",
    "    group_counts = [\"{0:0.0f}\".format(value) for value in cnf_matrix.flatten()]\n",
    "    group_percentages = [\"{0:.2%}\".format(value) for value in cnf_matrix.flatten()/np.sum(cnf_matrix)]\n",
    "    labels = [f\"{v1}\\n{v2}\\n{v3}\" for v1, v2, v3 in zip(group_names,group_counts,group_percentages)]\n",
    "\n",
    "    labels = np.asarray(labels).reshape(2,2)\n",
    "    \n",
    "    return sns.heatmap(cnf_matrix, annot=labels, fmt='', cmap='Blues')"
   ]
  },
  {
   "cell_type": "markdown",
   "id": "ed63bcc0-d631-4780-9f6e-d1971bc72b5d",
   "metadata": {
    "papermill": {
     "duration": 0.046708,
     "end_time": "2022-10-24T06:31:30.839224",
     "exception": false,
     "start_time": "2022-10-24T06:31:30.792516",
     "status": "completed"
    },
    "tags": []
   },
   "source": [
    "### Preprocess the holdout set"
   ]
  },
  {
   "cell_type": "code",
   "execution_count": 4,
   "id": "339c3c6e-f3a7-420b-9095-08b4febccbf2",
   "metadata": {
    "papermill": {
     "duration": 0.065145,
     "end_time": "2022-10-24T06:31:30.952803",
     "exception": false,
     "start_time": "2022-10-24T06:31:30.887658",
     "status": "completed"
    },
    "tags": []
   },
   "outputs": [],
   "source": [
    "X = test_data.dropna()\n",
    "y = np.round(pd.DataFrame(X['SeriousDlqin2yrs']))\n",
    "X = X.drop('SeriousDlqin2yrs', axis=1)"
   ]
  },
  {
   "cell_type": "code",
   "execution_count": 5,
   "id": "bfcbc074-662c-4066-82a0-ff18765ec3c6",
   "metadata": {
    "papermill": {
     "duration": 0.15712,
     "end_time": "2022-10-24T06:31:31.153397",
     "exception": false,
     "start_time": "2022-10-24T06:31:30.996277",
     "status": "completed"
    },
    "tags": []
   },
   "outputs": [],
   "source": [
    "pred_proba = model.predict(X)"
   ]
  },
  {
   "cell_type": "code",
   "execution_count": 6,
   "id": "1959b96c-cd31-4734-864d-1ea02b7a7b2c",
   "metadata": {
    "papermill": {
     "duration": 0.086251,
     "end_time": "2022-10-24T06:31:31.283104",
     "exception": false,
     "start_time": "2022-10-24T06:31:31.196853",
     "status": "completed"
    },
    "tags": []
   },
   "outputs": [
    {
     "name": "stdout",
     "output_type": "stream",
     "text": [
      "Roc_auc: 0.7486846776333406\n",
      "Precision: 0.318915207689667\n",
      "Recall: 0.5917197452229299\n",
      "Accuracy: 0.8838392778121957\n",
      "F1 Score: 0.41445460629043046\n"
     ]
    }
   ],
   "source": [
    "recall = recall_score(y, pred_proba)\n",
    "roc_auc = roc_auc_score(y, pred_proba)\n",
    "f1 = f1_score(y, pred_proba)\n",
    "precision = precision_score(y, pred_proba)\n",
    "accuracy = accuracy_score(y, pred_proba)\n",
    "print(f'Roc_auc: {roc_auc}')\n",
    "print(f'Precision: {precision}')\n",
    "print(f'Recall: {recall}')\n",
    "print(f'Accuracy: {accuracy}')\n",
    "print(f'F1 Score: {f1}')"
   ]
  },
  {
   "cell_type": "code",
   "execution_count": 7,
   "id": "e09ebbd3-0467-4f7b-9450-b9cd5217e40a",
   "metadata": {
    "papermill": {
     "duration": 0.072143,
     "end_time": "2022-10-24T06:31:31.398983",
     "exception": false,
     "start_time": "2022-10-24T06:31:31.326840",
     "status": "completed"
    },
    "tags": []
   },
   "outputs": [
    {
     "data": {
      "image/png": "[encoded data removed]",
      "text/plain": [
       "<Figure size 640x480 with 2 Axes>"
      ]
     },
     "metadata": {},
     "output_type": "display_data"
    }
   ],
   "source": [
    "cnf_matrix=confusion_matrix(y, pred_proba)\n",
    "\n",
    "heatmap_ax = plot_confusion_matrix(cnf_matrix)\n",
    "\n",
    "plt.savefig('heatmap_confusion_matrix.png')\n",
    "\n",
    "matrix_graph = open('heatmap_confusion_matrix.png', 'rb').read() # read bytes from file\n",
    "matrix_graph = base64.b64encode(matrix_graph)  # encode to base64 (bytes)\n",
    "matrix_graph = matrix_graph.decode()\n",
    "\n",
    "html_matrix = f\"\"\"\n",
    "<body>\n",
    "<h2>Confusion Matrix</h2>\n",
    "<p style=\"text-align:center;\"><img src=\"data:image/png;base64,{matrix_graph}\"></p>\n",
    "</body>\n",
    "\"\"\""
   ]
  },
  {
   "cell_type": "code",
   "execution_count": 8,
   "id": "6cfe2789-f0f7-45e2-9ca0-b7c1ffe7472e",
   "metadata": {
    "papermill": {
     "duration": 0.060453,
     "end_time": "2022-10-24T06:31:31.503089",
     "exception": false,
     "start_time": "2022-10-24T06:31:31.442636",
     "status": "completed"
    },
    "tags": []
   },
   "outputs": [],
   "source": [
    "import numpy\n",
    "unique, counts = numpy.unique(y.values, return_counts=True)"
   ]
  },
  {
   "cell_type": "markdown",
   "id": "85a7f796-0a4a-4cd3-ac51-59b4401388e0",
   "metadata": {
    "papermill": {
     "duration": 0.043501,
     "end_time": "2022-10-24T06:31:31.696203",
     "exception": false,
     "start_time": "2022-10-24T06:31:31.652702",
     "status": "completed"
    },
    "tags": []
   },
   "source": [
    "## Ouputs"
   ]
  },
  {
   "cell_type": "code",
   "execution_count": 9,
   "id": "551ed218-a766-4e8e-bc12-5085068d2404",
   "metadata": {},
   "outputs": [],
   "source": [
    "import json\n",
    "\n",
    "profile_pipeline_output = {\n",
    "    'outputs' : [\n",
    "        {\n",
    "          'type': 'web-app',\n",
    "          'storage': 'inline',\n",
    "          'source': html_matrix,\n",
    "        },\n",
    "    ]\n",
    "  }\n",
    "\n",
    "with open('mlpipeline-ui-metadata.json', 'w') as metadata_file:\n",
    "    json.dump(profile_pipeline_output, metadata_file)"
   ]
  },
  {
   "cell_type": "code",
   "execution_count": 10,
   "id": "596ec37c-592c-4207-9edb-79bc25e5fc73",
   "metadata": {
    "papermill": {
     "duration": 0.094205,
     "end_time": "2022-10-24T06:31:31.837463",
     "exception": false,
     "start_time": "2022-10-24T06:31:31.743258",
     "status": "completed"
    },
    "tags": []
   },
   "outputs": [],
   "source": [
    "metrics = {\n",
    "'metrics': [\n",
    "    {\n",
    "        'name': 'f1-score',\n",
    "        'numberValue':  f1,\n",
    "        'format': 'PERCENTAGE'\n",
    "    },\n",
    "    {\n",
    "        'name': 'recall-score',\n",
    "        'numberValue':  recall,\n",
    "        'format': 'PERCENTAGE'       \n",
    "    },\n",
    "    {\n",
    "        'name': 'roc-auc-score',\n",
    "        'numberValue':  roc_auc,\n",
    "        'format': 'PERCENTAGE'       \n",
    "    },\n",
    "    {\n",
    "        'name': 'wdata-imp-strategy',\n",
    "        'numberValue': prep['Imputation'],\n",
    "        'format': 'RAW'\n",
    "    },\n",
    "    {\n",
    "        'name': 'wdata-aug-strategy',\n",
    "        'numberValue': prep['Balancing'],\n",
    "        'format': 'RAW'\n",
    "    },\n",
    "]\n",
    "}\n",
    "\n",
    "with open('mlpipeline-metrics.json', 'w') as f:\n",
    "    json.dump(metrics, f)"
   ]
  }
 ],
 "metadata": {
  "kernelspec": {
   "display_name": "Python 3 (ipykernel)",
   "language": "python",
   "name": "python3"
  },
  "language_info": {
   "codemirror_mode": {
    "name": "ipython",
    "version": 3
   },
   "file_extension": ".py",
   "mimetype": "text/x-python",
   "name": "python",
   "nbconvert_exporter": "python",
   "pygments_lexer": "ipython3",
   "version": "3.8.15"
  },
  "papermill": {
   "default_parameters": {},
   "duration": 4.035159,
   "end_time": "2022-10-24T06:31:32.302975",
   "environment_variables": {},
   "exception": null,
   "input_path": "/mnt/laboratory/1ffabd97-374f-483a-885a-d025b3a2e2ef/06_Model_holdout.ipynb",
   "output_path": "/mnt/laboratory/1ffabd97-374f-483a-885a-d025b3a2e2ef/06_Model_holdout.ipynb",
   "parameters": {},
   "start_time": "2022-10-24T06:31:28.267816",
   "version": "2.4.0"
  }
 },
 "nbformat": 4,
 "nbformat_minor": 5
}
