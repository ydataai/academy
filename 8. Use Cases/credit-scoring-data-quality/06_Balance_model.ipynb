{
 "cells": [
  {
   "cell_type": "markdown",
   "id": "3da70f32",
   "metadata": {
    "papermill": {
     "duration": 0.043052,
     "end_time": "2022-10-24T06:30:58.897744",
     "exception": false,
     "start_time": "2022-10-24T06:30:58.854692",
     "status": "completed"
    },
    "tags": []
   },
   "source": [
    "# 5. Imbalanced classes\n",
    "\n",
    "## Synthesize and Modeling the Data \n",
    "\n",
    "Oftenly in credit scoring use-cases and mainly in porfolios of secured loans as mortage loans, there is a significant presence of class imbalancement. Class imbalance occurs when the number of a certain class outweights the number of other classes present in the dataset. If a naive classifier model is used under the presence of imbalanced classes, it can achieve high accuracy by assigning all cases to the majority class - but this is very damaging for a a business and can have high costs associated with it.\n",
    "\n",
    "\n",
    "\n",
    "Since we had earlier diagnosed an imbalanced class problem, using YData's state-of-the-art synthesizers, we can generate synthetic data for the minority class and balance it.\n",
    "\n",
    "However, we would only do so for the training dataset, thus continuously evaluating the performance against the real unaltered test dataset."
   ]
  },
  {
   "cell_type": "markdown",
   "id": "96d0b698-7e76-4fc5-a8f6-73eb1b3fa68e",
   "metadata": {
    "papermill": {
     "duration": 0.045129,
     "end_time": "2022-10-24T06:30:58.986966",
     "exception": false,
     "start_time": "2022-10-24T06:30:58.941837",
     "status": "completed"
    },
    "tags": []
   },
   "source": [
    "### Import the needed packages"
   ]
  },
  {
   "cell_type": "code",
   "execution_count": 16,
   "id": "211366eb-3e7c-4a02-85f3-89108aef89a6",
   "metadata": {},
   "outputs": [],
   "source": [
    "%%capture\n",
    "!pip install xgboost"
   ]
  },
  {
   "cell_type": "code",
   "execution_count": 17,
   "id": "f065aa5e-c316-4686-8e15-e202a2015709",
   "metadata": {
    "papermill": {
     "duration": 2.615864,
     "end_time": "2022-10-24T06:31:01.645661",
     "exception": false,
     "start_time": "2022-10-24T06:30:59.029797",
     "status": "completed"
    },
    "tags": []
   },
   "outputs": [],
   "source": [
    "import os\n",
    "import sys\n",
    "\n",
    "import pickle \n",
    "\n",
    "import pandas as pd\n",
    "\n",
    "from balance_model_training import train_model, augment_minority"
   ]
  },
  {
   "cell_type": "code",
   "execution_count": 18,
   "id": "0e1f74f6",
   "metadata": {
    "papermill": {
     "duration": 0.05257,
     "end_time": "2022-10-24T06:31:01.742295",
     "exception": false,
     "start_time": "2022-10-24T06:31:01.689725",
     "status": "completed"
    },
    "tags": []
   },
   "outputs": [],
   "source": [
    "module_path = os.path.abspath(os.path.join('..'))\n",
    "if module_path not in sys.path:\n",
    "    sys.path.append(module_path)"
   ]
  },
  {
   "cell_type": "code",
   "execution_count": 19,
   "id": "08ebee4b-c8d5-4028-9a30-35bb80316f3c",
   "metadata": {
    "papermill": {
     "duration": 0.051136,
     "end_time": "2022-10-24T06:31:01.836175",
     "exception": false,
     "start_time": "2022-10-24T06:31:01.785039",
     "status": "completed"
    },
    "tags": []
   },
   "outputs": [],
   "source": [
    "augment=int(os.getenv('AUGMENT', 1))"
   ]
  },
  {
   "cell_type": "code",
   "execution_count": 20,
   "id": "e5e2bb60-d7dd-4fbf-b591-9bcdc4c740c9",
   "metadata": {
    "papermill": {
     "duration": 0.064537,
     "end_time": "2022-10-24T06:31:01.945899",
     "exception": false,
     "start_time": "2022-10-24T06:31:01.881362",
     "status": "completed"
    },
    "tags": []
   },
   "outputs": [],
   "source": [
    "prep = pickle.load(open('prep_parameters.pkl', 'rb'))"
   ]
  },
  {
   "cell_type": "markdown",
   "id": "2aafa489-1b22-405d-bc3e-9e1bbe99477f",
   "metadata": {
    "papermill": {
     "duration": 0.042214,
     "end_time": "2022-10-24T06:31:02.031270",
     "exception": false,
     "start_time": "2022-10-24T06:31:01.989056",
     "status": "completed"
    },
    "tags": []
   },
   "source": [
    "### Get the training dataset"
   ]
  },
  {
   "cell_type": "code",
   "execution_count": 21,
   "id": "af1c45e5-ad3e-4917-ae91-4052f047f8d5",
   "metadata": {
    "papermill": {
     "duration": 0.237475,
     "end_time": "2022-10-24T06:31:02.313531",
     "exception": false,
     "start_time": "2022-10-24T06:31:02.076056",
     "status": "completed"
    },
    "tags": []
   },
   "outputs": [],
   "source": [
    "data = pd.read_csv('prep_traindata.csv', index_col=[0])"
   ]
  },
  {
   "cell_type": "code",
   "execution_count": 22,
   "id": "86145bcf-47d6-4922-adb9-16d1e07ec2d3",
   "metadata": {},
   "outputs": [],
   "source": [
    "fraud = data[data['SeriousDlqin2yrs']==1]\n",
    "nonfraud = data[data['SeriousDlqin2yrs']==0]\n",
    "nonfraud = nonfraud.sample(int(len(nonfraud)*0.6))"
   ]
  },
  {
   "cell_type": "code",
   "execution_count": 23,
   "id": "8e777ca2-ba73-4a41-907e-7bebde69d231",
   "metadata": {},
   "outputs": [],
   "source": [
    "data = pd.concat([fraud, nonfraud])"
   ]
  },
  {
   "cell_type": "markdown",
   "id": "73785504-6f60-4963-8438-95181ed8755e",
   "metadata": {},
   "source": [
    "#### Augment the less represented class"
   ]
  },
  {
   "cell_type": "code",
   "execution_count": 49,
   "id": "b620eb0a",
   "metadata": {
    "papermill": {
     "duration": 24.608997,
     "end_time": "2022-10-24T06:31:26.966307",
     "exception": false,
     "start_time": "2022-10-24T06:31:02.357310",
     "status": "completed"
    },
    "tags": []
   },
   "outputs": [
    {
     "name": "stdout",
     "output_type": "stream",
     "text": [
      "40000\n",
      "(6531, 10)\n",
      "INFO: 2022-12-08 23:00:01,685 [SYNTHESIZER] - Number columns considered for synth: 10\n",
      "INFO: 2022-12-08 23:00:03,063 [SYNTHESIZER] - Starting the synthetic data modeling process over 1x1 blocks.\n",
      "INFO: 2022-12-08 23:00:03,067 [SYNTHESIZER] - Preprocess segment\n",
      "INFO: 2022-12-08 23:00:03,071 [SYNTHESIZER] - Synthesizer init.\n",
      "INFO: 2022-12-08 23:00:03,071 [SYNTHESIZER] - Processing the data prior fitting the synthesizer.\n",
      "INFO: 2022-12-08 23:00:04,907 [SYNTHESIZER] - Start generating model samples.\n",
      "Size training: 137596\n",
      "Size test: 24400\n",
      "Model training: DummyClassifier\n",
      "Model training: RandomForestClassifier\n",
      "Model training: AdaBoostClassifier\n",
      "Model training: XGBClassifier\n"
     ]
    }
   ],
   "source": [
    "if augment==1:\n",
    "    result, models = train_model(X=data, label='SeriousDlqin2yrs', augmentation=True, train_synth=True)\n",
    "else:\n",
    "    result, models = train_model(X=data, label='SeriousDlqin2yrs', augmentation=False, train_synth=False)\n",
    "    \n",
    "prep['Balancing'] = augment"
   ]
  },
  {
   "cell_type": "code",
   "execution_count": 50,
   "id": "4cd9314c-4f39-4ba9-84d6-0e9d0a124745",
   "metadata": {},
   "outputs": [
    {
     "data": {
      "text/html": [
       "<div>\n",
       "<style scoped>\n",
       "    .dataframe tbody tr th:only-of-type {\n",
       "        vertical-align: middle;\n",
       "    }\n",
       "\n",
       "    .dataframe tbody tr th {\n",
       "        vertical-align: top;\n",
       "    }\n",
       "\n",
       "    .dataframe thead th {\n",
       "        text-align: right;\n",
       "    }\n",
       "</style>\n",
       "<table border=\"1\" class=\"dataframe\">\n",
       "  <thead>\n",
       "    <tr style=\"text-align: right;\">\n",
       "      <th></th>\n",
       "      <th>model</th>\n",
       "      <th>f1_score</th>\n",
       "      <th>recall</th>\n",
       "      <th>precision</th>\n",
       "      <th>roc_auc</th>\n",
       "      <th>accuracy</th>\n",
       "    </tr>\n",
       "  </thead>\n",
       "  <tbody>\n",
       "    <tr>\n",
       "      <th>0</th>\n",
       "      <td>DummyClassifier</td>\n",
       "      <td>0.112215</td>\n",
       "      <td>0.344424</td>\n",
       "      <td>0.067026</td>\n",
       "      <td>0.501404</td>\n",
       "      <td>0.637500</td>\n",
       "    </tr>\n",
       "    <tr>\n",
       "      <th>1</th>\n",
       "      <td>RandomForestClassifier</td>\n",
       "      <td>0.389459</td>\n",
       "      <td>0.514479</td>\n",
       "      <td>0.313321</td>\n",
       "      <td>0.717068</td>\n",
       "      <td>0.892705</td>\n",
       "    </tr>\n",
       "    <tr>\n",
       "      <th>2</th>\n",
       "      <td>AdaBoostClassifier</td>\n",
       "      <td>0.407816</td>\n",
       "      <td>0.591497</td>\n",
       "      <td>0.311183</td>\n",
       "      <td>0.749101</td>\n",
       "      <td>0.885738</td>\n",
       "    </tr>\n",
       "    <tr>\n",
       "      <th>3</th>\n",
       "      <td>XGBClassifier</td>\n",
       "      <td>0.400863</td>\n",
       "      <td>0.572397</td>\n",
       "      <td>0.308433</td>\n",
       "      <td>0.740472</td>\n",
       "      <td>0.886189</td>\n",
       "    </tr>\n",
       "  </tbody>\n",
       "</table>\n",
       "</div>"
      ],
      "text/plain": [
       "                    model  f1_score    recall  precision   roc_auc  accuracy\n",
       "0         DummyClassifier  0.112215  0.344424   0.067026  0.501404  0.637500\n",
       "1  RandomForestClassifier  0.389459  0.514479   0.313321  0.717068  0.892705\n",
       "2      AdaBoostClassifier  0.407816  0.591497   0.311183  0.749101  0.885738\n",
       "3           XGBClassifier  0.400863  0.572397   0.308433  0.740472  0.886189"
      ]
     },
     "execution_count": 50,
     "metadata": {},
     "output_type": "execute_result"
    }
   ],
   "source": [
    "result"
   ]
  },
  {
   "cell_type": "code",
   "execution_count": 53,
   "id": "a8de7a2c-1069-4ce6-8b7e-b4ef7e6153f8",
   "metadata": {
    "papermill": {
     "duration": 0.059637,
     "end_time": "2022-10-24T06:31:27.077645",
     "exception": false,
     "start_time": "2022-10-24T06:31:27.018008",
     "status": "completed"
    },
    "tags": []
   },
   "outputs": [],
   "source": [
    "#Save the best model? Does it make sense?\n",
    "#Here save the models dict? What can I do about this\n",
    "optimized_model = models[result.set_index('model')['f1_score'].idxmax()]"
   ]
  },
  {
   "cell_type": "code",
   "execution_count": 54,
   "id": "f15d0a23-839c-4230-80f5-03d3ee69e49d",
   "metadata": {
    "papermill": {
     "duration": 0.140915,
     "end_time": "2022-10-24T06:31:27.264940",
     "exception": false,
     "start_time": "2022-10-24T06:31:27.124025",
     "status": "completed"
    },
    "tags": []
   },
   "outputs": [],
   "source": [
    "#Here the model needs also to be an output to be shown\n",
    "pickle.dump(optimized_model, open('best_model.pkl', 'wb'))\n",
    "pickle.dump(prep, open('prep_parameters.pkl', 'wb'))"
   ]
  },
  {
   "cell_type": "markdown",
   "id": "62ca2b49-e2c8-481b-adb1-0b8ccdd0e47c",
   "metadata": {
    "papermill": {
     "duration": 0.044011,
     "end_time": "2022-10-24T06:31:27.354014",
     "exception": false,
     "start_time": "2022-10-24T06:31:27.310003",
     "status": "completed"
    },
    "tags": []
   },
   "source": [
    "### Creating the pipeline step outputs"
   ]
  },
  {
   "cell_type": "code",
   "execution_count": 42,
   "id": "f67a00b2-09e4-47aa-b1c6-85d4786680ab",
   "metadata": {
    "papermill": {
     "duration": 0.100735,
     "end_time": "2022-10-24T06:31:27.496925",
     "exception": false,
     "start_time": "2022-10-24T06:31:27.396190",
     "status": "completed"
    },
    "tags": []
   },
   "outputs": [],
   "source": [
    "import json \n",
    "\n",
    "metadata = {\n",
    "    'outputs' : [\n",
    "        {\n",
    "          'type': 'markdown',\n",
    "          'storage': 'inline',\n",
    "          'source': f'## **Dataset balancing:** {bool(augment)}',\n",
    "        },\n",
    "        {\n",
    "          'type': 'table',\n",
    "          'storage': 'inline',\n",
    "          'format': 'csv',\n",
    "          'header': list(result.columns),\n",
    "          'source': result.to_csv(header=False, index=False)\n",
    "        },\n",
    "    ]\n",
    "  }\n",
    "\n",
    "#heatmap_output(data=data_mask.corr()[mask_cols].drop(missing_col+mask_cols), title='Missing correlation')\n",
    "with open('mlpipeline-ui-metadata.json', 'w') as metadata_file:\n",
    "    json.dump(metadata, metadata_file)"
   ]
  }
 ],
 "metadata": {
  "kernelspec": {
   "display_name": "Python 3 (ipykernel)",
   "language": "python",
   "name": "python3"
  },
  "language_info": {
   "codemirror_mode": {
    "name": "ipython",
    "version": 3
   },
   "file_extension": ".py",
   "mimetype": "text/x-python",
   "name": "python",
   "nbconvert_exporter": "python",
   "pygments_lexer": "ipython3",
   "version": "3.8.15"
  },
  "papermill": {
   "duration": 30.667118,
   "end_time": "2022-10-24T06:31:28.162532",
   "environment_variables": {},
   "exception": null,
   "input_path": "/mnt/laboratory/1ffabd97-374f-483a-885a-d025b3a2e2ef/05_Balance_model.ipynb",
   "output_path": "/mnt/laboratory/1ffabd97-374f-483a-885a-d025b3a2e2ef/05_Balance_model.ipynb",
   "parameters": {},
   "start_time": "2022-10-24T06:30:57.495414",
   "version": "2.1.0"
  }
 },
 "nbformat": 4,
 "nbformat_minor": 5
}
