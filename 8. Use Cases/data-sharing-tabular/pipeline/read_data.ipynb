{
 "cells": [
  {
   "cell_type": "markdown",
   "id": "808213c0",
   "metadata": {
    "papermill": {
     "duration": 0.004409,
     "end_time": "2021-08-10T08:28:13.383093",
     "exception": false,
     "start_time": "2021-08-10T08:28:13.378684",
     "status": "completed"
    },
    "tags": []
   },
   "source": [
    "## Accessing the data \n",
    "\n",
    "In YData's platform we make available scalable connectors to a variety of different data storages. The connection to the data can be made either through the UI or also via Notebooks. Below we show how we can use a connector in the notebooks."
   ]
  },
  {
   "cell_type": "code",
   "execution_count": 1,
   "id": "dbc3991c-9348-4b42-8ac8-78f9053d947d",
   "metadata": {
    "execution": {
     "iopub.execute_input": "2021-08-10T08:28:13.400910Z",
     "iopub.status.busy": "2021-08-10T08:28:13.400248Z",
     "iopub.status.idle": "2021-08-10T08:28:33.446507Z",
     "shell.execute_reply": "2021-08-10T08:28:33.445901Z"
    },
    "papermill": {
     "duration": 20.059396,
     "end_time": "2021-08-10T08:28:33.446661",
     "exception": false,
     "start_time": "2021-08-10T08:28:13.387265",
     "status": "completed"
    },
    "tags": []
   },
   "outputs": [],
   "source": [
    "import json\n",
    "from ydata.connectors import GCSConnector\n",
    "from ydata.connectors.filetype import FileType\n",
    "from ydata.utils.formats import read_json\n",
    "from pathlib import Path\n",
    "\n",
    "token=read_json('gcs_credentials.json')  \n",
    "connector = GCSConnector('ydatasynthetic', keyfile_dict=token)\n",
    "data = connector.read_file(path='gs://ydata_testdata/tabular/telco_churn/data.csv', file_type=FileType.CSV)\n",
    "data = data.to_pandas()\n",
    "data.to_csv('original_data.csv', index=False)"
   ]
  },
  {
   "cell_type": "markdown",
   "id": "85b7b732-d2db-44d8-9a76-42a43227a84f",
   "metadata": {
    "papermill": {
     "duration": 0.004078,
     "end_time": "2021-08-10T08:28:33.454962",
     "exception": false,
     "start_time": "2021-08-10T08:28:33.450884",
     "status": "completed"
    },
    "tags": []
   },
   "source": [
    "### Creation of the artifact "
   ]
  },
  {
   "cell_type": "markdown",
   "id": "7d83daa3-d6ba-416d-a256-01819050d8b3",
   "metadata": {
    "papermill": {
     "duration": 0.003433,
     "end_time": "2021-08-10T08:28:33.461993",
     "exception": false,
     "start_time": "2021-08-10T08:28:33.458560",
     "status": "completed"
    },
    "tags": []
   },
   "source": [
    "In order to show the downloaded data on the platform we are going to create an artifact that will be dumped in the pipeline. "
   ]
  },
  {
   "cell_type": "code",
   "execution_count": 2,
   "id": "7f3045d7-5a51-4822-b608-6410fe2dbe83",
   "metadata": {
    "execution": {
     "iopub.execute_input": "2021-08-10T08:28:33.481123Z",
     "iopub.status.busy": "2021-08-10T08:28:33.480489Z",
     "iopub.status.idle": "2021-08-10T08:28:33.528905Z",
     "shell.execute_reply": "2021-08-10T08:28:33.529381Z"
    },
    "papermill": {
     "duration": 0.062453,
     "end_time": "2021-08-10T08:28:33.529581",
     "exception": false,
     "start_time": "2021-08-10T08:28:33.467128",
     "status": "completed"
    },
    "tags": []
   },
   "outputs": [],
   "source": [
    "cat_cols=[\n",
    "    \"PaymentMethod\",\n",
    "    \"MultipleLines\",\n",
    "    \"InternetService\",\n",
    "    \"OnlineSecurity\",\n",
    "    \"OnlineBackup\",\n",
    "    \"DeviceProtection\",\n",
    "    \"TechSupport\",\n",
    "    \"StreamingTV\",\n",
    "    \"StreamingMovies\",\n",
    "    \"Contract\"\n",
    "]\n",
    "\n",
    "schema = [\n",
    "    {\n",
    "        \"name\": c, \n",
    "        \"type\": \"CATEGORY\" if c in cat_cols else \"NUMBER\"\n",
    "    } for c in data.columns\n",
    "]\n",
    "\n",
    "metadata = {\n",
    "    \"outputs\": [\n",
    "        {\n",
    "            \"type\": \"table\",\n",
    "            \"format\": \"csv\",\n",
    "            \"header\": [x[\"name\"] for x in schema],\n",
    "            \"source\": data.to_csv(header=True,index=False),\n",
    "            \"storage\": \"inline\",\n",
    "        }\n",
    "    ]\n",
    "}\n",
    "\n",
    "with open('mlpipeline-ui-metadata.json', 'w') as f:\n",
    "    json.dump(metadata, f)"
   ]
  }
 ],
 "metadata": {
  "kernelspec": {
   "display_name": "Python 3 (ipykernel)",
   "language": "python",
   "name": "python3"
  },
  "language_info": {
   "codemirror_mode": {
    "name": "ipython",
    "version": 3
   },
   "file_extension": ".py",
   "mimetype": "text/x-python",
   "name": "python",
   "nbconvert_exporter": "python",
   "pygments_lexer": "ipython3",
   "version": "3.7.10"
  },
  "papermill": {
   "default_parameters": {},
   "duration": 22.043283,
   "end_time": "2021-08-10T08:28:34.689754",
   "environment_variables": {},
   "exception": null,
   "input_path": "/home/ydata/2 - Data Synthesization/Pipeline/read_data.ipynb",
   "output_path": "/home/ydata/2 - Data Synthesization/Pipeline/read_data.ipynb",
   "parameters": {},
   "start_time": "2021-08-10T08:28:12.646471",
   "version": "2.3.3"
  }
 },
 "nbformat": 4,
 "nbformat_minor": 5
}