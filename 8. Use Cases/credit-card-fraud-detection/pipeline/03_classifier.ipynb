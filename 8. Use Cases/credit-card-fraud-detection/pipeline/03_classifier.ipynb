{
 "cells": [
  {
   "cell_type": "markdown",
   "id": "0f06017d-571b-433a-b5ef-cf4bd4184708",
   "metadata": {},
   "source": [
    "# Fraud classifier | Training the classifier\n",
    "Let's try to develop a model basedo n the assumption that everything is ok with our dataset, and understand how good is our classifier to indetify fraudulent events.\n",
    "Here we've decided to develop a classifier using [RandomForest from the scikit-learn](https://scikit-learn.org/stable/modules/generated/sklearn.ensemble.RandomForestClassifier.html) package."
   ]
  },
  {
   "cell_type": "code",
   "execution_count": 1,
   "id": "b5b48606-af8e-4c83-927e-61f07d010741",
   "metadata": {},
   "outputs": [],
   "source": [
    "%%capture\n",
    "!pip install xgboost"
   ]
  },
  {
   "cell_type": "markdown",
   "id": "a342c846-989d-49f0-b03b-39b73cb7c7c2",
   "metadata": {},
   "source": [
    "#### Import the needed packages"
   ]
  },
  {
   "cell_type": "code",
   "execution_count": 2,
   "id": "feb8d24b-9ba0-4aee-80ed-4c192f0ef17c",
   "metadata": {},
   "outputs": [],
   "source": [
    "import os\n",
    "import base64\n",
    "\n",
    "import pandas as pd\n",
    "import matplotlib.pyplot as plt\n",
    "\n",
    "from functions.saving_functions import read_file, save_file\n",
    "\n",
    "#Using XGBOOST model to train the model\n",
    "from xgboost import XGBClassifier\n",
    "\n",
    "#Data scaling and preprocessing before training the model\n",
    "from sklearn.preprocessing import RobustScaler, StandardScaler\n",
    "from sklearn.metrics import accuracy_score, classification_report, plot_confusion_matrix\n",
    "from sklearn.metrics import f1_score,roc_auc_score, precision_score, recall_score\n",
    "\n",
    "from sklearn.model_selection import train_test_split"
   ]
  },
  {
   "cell_type": "markdown",
   "id": "3c9e9aab-8d9a-49cc-99c5-be6ce614a3a8",
   "metadata": {},
   "source": [
    "#### Auxiliary functions"
   ]
  },
  {
   "cell_type": "code",
   "execution_count": 3,
   "id": "3ea1bb77-5e8c-4040-8508-5494ed774222",
   "metadata": {},
   "outputs": [],
   "source": [
    "def preprocess_df(df, std_scaler, rob_scaler):\n",
    "    df['Amount'] = std_scaler.fit_transform(df['Amount'].values.reshape(-1,1))\n",
    "    df['Time'] = rob_scaler.fit_transform(df['Time'].values.reshape(-1,1))\n",
    "    return df"
   ]
  },
  {
   "cell_type": "code",
   "execution_count": 4,
   "id": "fd577c08-8c06-43fb-ade4-06b7e4bd59c7",
   "metadata": {},
   "outputs": [],
   "source": [
    "#Function to define the classifier to be used\n",
    "def XGBoost_Classifier(X, y, Xtest):\n",
    "    \"\"\"XGBoost training code\"\"\"\n",
    "    classifier = XGBClassifier()\n",
    "    print('Start fitting XGBoost classifier')\n",
    "    classifier.fit(X, y)\n",
    "    y_pred = classifier.predict(Xtest)\n",
    "    print('Classifier trained.')\n",
    "    return classifier, y_pred"
   ]
  },
  {
   "cell_type": "code",
   "execution_count": 5,
   "id": "8f745675-1874-4e7e-b6ca-84b115e81146",
   "metadata": {},
   "outputs": [],
   "source": [
    "def print_confusion_matrix(model, X_test, y_test):\n",
    "    \"\"\" Plot normalized and non-normalized confusion matrices \"\"\"\n",
    "    titles_options = [(\"Confusion matrix, without normalization\", None),\n",
    "                      (\"Normalized confusion matrix\", 'true')]\n",
    "\n",
    "    fig, axes = plt.subplots(1,2,figsize=(20,8))\n",
    "    for (title, normalize), ax in zip(titles_options, axes):\n",
    "\n",
    "        disp = plot_confusion_matrix(model, X_test, y_test,\n",
    "                                     display_labels=[\"Normal\", \"Fraud\"],\n",
    "                                     cmap=plt.cm.Blues,\n",
    "                                     normalize=normalize,\n",
    "                                     ax=ax)\n",
    "\n",
    "        ax.set_title(title, fontsize=20, pad=10)\n",
    "    \n",
    "    return ax"
   ]
  },
  {
   "cell_type": "code",
   "execution_count": 6,
   "id": "ae6c1c28-f37b-4d1d-a8ce-7463cc8c4719",
   "metadata": {},
   "outputs": [],
   "source": [
    "fn_metrics = {\n",
    "    'recall': recall_score,\n",
    "    'precision': precision_score,\n",
    "    'f1': f1_score\n",
    "}"
   ]
  },
  {
   "cell_type": "markdown",
   "id": "4063e2ae-3942-4567-ba58-15752b94c2a6",
   "metadata": {},
   "source": [
    "#### Getting the environment configurations"
   ]
  },
  {
   "cell_type": "code",
   "execution_count": 17,
   "id": "d9491a27-c731-4dd9-b238-8f02eac0b2a4",
   "metadata": {},
   "outputs": [],
   "source": [
    "path = os.getenv('DATA_PATH', 'aug_data.pkl')"
   ]
  },
  {
   "cell_type": "markdown",
   "id": "50f91a3f-c1c6-47c7-a040-b9e762e2509d",
   "metadata": {},
   "source": [
    "### Reading the dataset"
   ]
  },
  {
   "cell_type": "code",
   "execution_count": 18,
   "id": "5c8fdc2f-22f4-436d-ac66-b31e97315bdb",
   "metadata": {},
   "outputs": [],
   "source": [
    "dataset = read_file(path)\n",
    "data = dataset.to_pandas()\n",
    "\n",
    "pipeline_config = read_file('pipeline_config.pkl')"
   ]
  },
  {
   "cell_type": "markdown",
   "id": "14b35a13-6fa9-4e09-9996-01097b55bb42",
   "metadata": {},
   "source": [
    "#### Preparing the data for the classifier"
   ]
  },
  {
   "cell_type": "code",
   "execution_count": 19,
   "id": "e4e6b654-abfb-4df5-89a0-0fbea31fe16b",
   "metadata": {},
   "outputs": [
    {
     "name": "stdout",
     "output_type": "stream",
     "text": [
      "Number transactions train dataset:  199370\n",
      "Number transactions test dataset:  85445\n",
      "Total number of transactions:  284815\n"
     ]
    }
   ],
   "source": [
    "X = data.drop('Class', axis=1)\n",
    "cols = X.columns\n",
    "X = X.values\n",
    "y = data['Class']\n",
    "\n",
    "X_train, X_test, y_train, y_test = train_test_split(X,y,test_size = 0.3, random_state = 0)\n",
    "\n",
    "print(\"Number transactions train dataset: \", len(X_train))\n",
    "print(\"Number transactions test dataset: \", len(X_test))\n",
    "print(\"Total number of transactions: \", len(X_train)+len(X_test))"
   ]
  },
  {
   "cell_type": "code",
   "execution_count": 20,
   "id": "78040d41-3d41-49c8-ad59-ce018bca10f7",
   "metadata": {},
   "outputs": [],
   "source": [
    "X_train = pd.DataFrame(X_train, columns=cols)\n",
    "X_test = pd.DataFrame(X_test, columns=cols)"
   ]
  },
  {
   "cell_type": "code",
   "execution_count": 21,
   "id": "1a6a3465-81a5-4b46-841a-86b17d3dc938",
   "metadata": {},
   "outputs": [],
   "source": [
    "stdscaler = StandardScaler()\n",
    "robscaler = RobustScaler()\n",
    "\n",
    "X_train = preprocess_df(X_train, stdscaler, robscaler)\n",
    "X_test = preprocess_df(X_test, stdscaler, robscaler)"
   ]
  },
  {
   "cell_type": "code",
   "execution_count": 22,
   "id": "78725a11-5ffe-4b50-ad03-8688e271f8d7",
   "metadata": {},
   "outputs": [
    {
     "name": "stdout",
     "output_type": "stream",
     "text": [
      "Start fitting XGBoost classifier\n",
      "Classifier trained.\n"
     ]
    }
   ],
   "source": [
    "classifier_model, y_pred = XGBoost_Classifier(X_train, y_train, X_test)"
   ]
  },
  {
   "cell_type": "code",
   "execution_count": 23,
   "id": "781a0fe1-0922-4f79-a605-553a7f209672",
   "metadata": {},
   "outputs": [],
   "source": [
    "metrics = {}\n",
    "\n",
    "for k, metric in fn_metrics.items():\n",
    "    metrics[k]=metric(y_true = y_test, y_pred=y_pred)"
   ]
  },
  {
   "cell_type": "code",
   "execution_count": 25,
   "id": "f582651f-e470-43e8-aea5-018fe1c7b200",
   "metadata": {},
   "outputs": [
    {
     "name": "stdout",
     "output_type": "stream",
     "text": [
      "Overall accuracy score : 0.999777634735795\n",
      "Classifier performance report: \n",
      "              precision    recall  f1-score   support\n",
      "\n",
      "      Normal       1.00      1.00      1.00     85290\n",
      "       Fraud       0.97      0.90      0.94       155\n",
      "\n",
      "    accuracy                           1.00     85445\n",
      "   macro avg       0.99      0.95      0.97     85445\n",
      "weighted avg       1.00      1.00      1.00     85445\n",
      "\n"
     ]
    }
   ],
   "source": [
    "# Print precision / recall report\n",
    "print('Overall accuracy score :',accuracy_score(y_test, y_pred))\n",
    "print('Classifier performance report: ')\n",
    "print(classification_report(y_test, y_pred, target_names=['Normal', 'Fraud']))"
   ]
  },
  {
   "cell_type": "markdown",
   "id": "6b4a67c3-5522-44d4-b705-6a359bfc9459",
   "metadata": {},
   "source": [
    "#### Output the confusion matrix"
   ]
  },
  {
   "cell_type": "code",
   "execution_count": 26,
   "id": "75d2d15a-7862-4d62-a323-554882f0fee4",
   "metadata": {},
   "outputs": [
    {
     "data": {
      "image/png": "[encoded data removed]",
      "text/plain": [
       "<Figure size 2000x800 with 4 Axes>"
      ]
     },
     "metadata": {},
     "output_type": "display_data"
    }
   ],
   "source": [
    "cnf_matrix = print_confusion_matrix(classifier_model, X_test, y_test)\n",
    "\n",
    "plt.savefig('cnf_matrix.png')\n",
    "\n",
    "matrix_graph = open('cnf_matrix.png', 'rb').read() # read bytes from file\n",
    "matrix_graph = base64.b64encode(matrix_graph)  # encode to base64 (bytes)\n",
    "matrix_graph = matrix_graph.decode()\n",
    "\n",
    "html_matrix = f\"\"\"\n",
    "<body>\n",
    "<h2>Confusion Matrix</h2>\n",
    "<p style=\"text-align:center;\"><img src=\"data:image/png;base64,{matrix_graph}\"></p>\n",
    "</body>\n",
    "\"\"\""
   ]
  },
  {
   "cell_type": "markdown",
   "id": "f2f7c996-3d78-49e0-87d7-93d3beb5a2c2",
   "metadata": {
    "tags": []
   },
   "source": [
    "### Prepare the pipeline outputs"
   ]
  },
  {
   "cell_type": "code",
   "execution_count": 27,
   "id": "9ba2958a-81b6-43c0-9392-49fc9d897565",
   "metadata": {},
   "outputs": [],
   "source": [
    "import json\n",
    "\n",
    "profile_pipeline_output = {\n",
    "    'outputs' : [\n",
    "    {\n",
    "      'type': 'web-app',\n",
    "      'storage': 'inline',\n",
    "      'source': html_matrix,\n",
    "    },\n",
    "    ]\n",
    "  }\n",
    "\n",
    "with open('mlpipeline-ui-metadata.json', 'w') as metadata_file:\n",
    "    json.dump(profile_pipeline_output, metadata_file)"
   ]
  },
  {
   "cell_type": "code",
   "execution_count": 28,
   "id": "79af405e-8df9-432c-8605-5abd53a5c50b",
   "metadata": {},
   "outputs": [],
   "source": [
    "metrics = {\n",
    "'metrics': [\n",
    "    {\n",
    "        'name': 'f1-score',\n",
    "        'numberValue':  metrics[\"f1\"],\n",
    "        'format': 'PERCENTAGE'  \n",
    "    },\n",
    "    {\n",
    "        'name': 'precision',\n",
    "        'numberValue':  metrics[\"precision\"],\n",
    "        'format': 'PERCENTAGE'  \n",
    "    },\n",
    "    {\n",
    "        'name': 'recall',\n",
    "        'numberValue':  metrics[\"recall\"],\n",
    "        'format': 'PERCENTAGE'  \n",
    "    },\n",
    "    {\n",
    "        'name': 'y-sample-size',\n",
    "        'numberValue':  pipeline_config['sample_size'],\n",
    "        'format': 'RAW'  \n",
    "    },\n",
    "    {\n",
    "        'name': 'y-augment',\n",
    "        'numberValue':  pipeline_config['augment'],\n",
    "        'format': 'RAW'  \n",
    "    }\n",
    "]\n",
    "}\n",
    "with open('mlpipeline-metrics.json', 'w') as f:\n",
    "    json.dump(metrics, f)"
   ]
  }
 ],
 "metadata": {
  "kernelspec": {
   "display_name": "Python 3 (ipykernel)",
   "language": "python",
   "name": "python3"
  },
  "language_info": {
   "codemirror_mode": {
    "name": "ipython",
    "version": 3
   },
   "file_extension": ".py",
   "mimetype": "text/x-python",
   "name": "python",
   "nbconvert_exporter": "python",
   "pygments_lexer": "ipython3",
   "version": "3.10.12"
  }
 },
 "nbformat": 4,
 "nbformat_minor": 5
}
