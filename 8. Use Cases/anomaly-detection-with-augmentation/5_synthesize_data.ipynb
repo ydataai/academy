{
 "cells": [
  {
   "cell_type": "markdown",
   "id": "4976c60a-db0e-46b8-b8cc-61f4edf4ab15",
   "metadata": {
    "papermill": {
     "duration": 0.014293,
     "end_time": "2022-03-30T14:06:26.682714",
     "exception": false,
     "start_time": "2022-03-30T14:06:26.668421",
     "status": "completed"
    },
    "tags": []
   },
   "source": [
    "# Synthesize Data "
   ]
  },
  {
   "cell_type": "markdown",
   "id": "923bd7b6-5274-401b-8b51-a1bdf139f64a",
   "metadata": {
    "papermill": {
     "duration": 0.013665,
     "end_time": "2022-03-30T14:06:26.707375",
     "exception": false,
     "start_time": "2022-03-30T14:06:26.693710",
     "status": "completed"
    },
    "tags": []
   },
   "source": [
    "## 0 - Setup"
   ]
  },
  {
   "cell_type": "markdown",
   "id": "28cdad08-ac1e-4b3b-9236-c40201ad6472",
   "metadata": {
    "papermill": {
     "duration": 0.018272,
     "end_time": "2022-03-30T14:06:26.748375",
     "exception": false,
     "start_time": "2022-03-30T14:06:26.730103",
     "status": "completed"
    },
    "tags": []
   },
   "source": [
    "### 0.1 - Packages "
   ]
  },
  {
   "cell_type": "code",
   "execution_count": 1,
   "id": "8dbbf7e4-bd2c-45d5-9c7a-af2c321c3380",
   "metadata": {
    "papermill": {
     "duration": 3.923738,
     "end_time": "2022-03-30T14:06:30.683364",
     "exception": false,
     "start_time": "2022-03-30T14:06:26.759626",
     "status": "completed"
    },
    "tags": []
   },
   "outputs": [
    {
     "name": "stderr",
     "output_type": "stream",
     "text": [
      "/opt/conda/lib/python3.8/site-packages/sklearn/utils/validation.py:67: FutureWarning: Pass memory=None, verbose=False as keyword args. From version 0.25 passing these as positional arguments will result in an error\n",
      "  warnings.warn(\"Pass {} as keyword args. From version 0.25 \"\n"
     ]
    }
   ],
   "source": [
    "import pandas as pd\n",
    "from numpy import repeat\n",
    "\n",
    "from ydata.metadata import Metadata\n",
    "from ydata.synthesizers.regular import RegularSynthesizer\n",
    "from ydata.connectors import LocalConnector\n",
    "from ydata.connectors.filetype import FileType\n",
    "from ydata.dataset import Dataset"
   ]
  },
  {
   "cell_type": "markdown",
   "id": "6ed1c6a9-5215-4b8d-ae1b-6d6babe3d152",
   "metadata": {
    "papermill": {
     "duration": 0.013027,
     "end_time": "2022-03-30T14:06:30.707228",
     "exception": false,
     "start_time": "2022-03-30T14:06:30.694201",
     "status": "completed"
    },
    "tags": []
   },
   "source": [
    "## 1 - Load Data"
   ]
  },
  {
   "cell_type": "code",
   "execution_count": 2,
   "id": "11a89a2b-ba74-4b0d-acbf-20edb67ea7ac",
   "metadata": {
    "papermill": {
     "duration": 14.229558,
     "end_time": "2022-03-30T14:06:44.947751",
     "exception": false,
     "start_time": "2022-03-30T14:06:30.718193",
     "status": "completed"
    },
    "tags": []
   },
   "outputs": [],
   "source": [
    "# Read the data (Only if you want to train a new network)\n",
    "data = pd.read_csv('data_processed.csv')\n",
    "#Filter the data by the unusual observations\n",
    "data = data.query(\"Unusual == 1\")"
   ]
  },
  {
   "cell_type": "code",
   "execution_count": 3,
   "id": "d50ee837-0988-4d26-8b1c-b541d983ec35",
   "metadata": {},
   "outputs": [],
   "source": [
    "data = data.drop(['Time', 'CellName'], axis=1)"
   ]
  },
  {
   "cell_type": "markdown",
   "id": "27b573cb-05d3-427a-996a-450fe888e1b6",
   "metadata": {
    "papermill": {
     "duration": 0.016556,
     "end_time": "2022-03-30T14:06:44.976223",
     "exception": false,
     "start_time": "2022-03-30T14:06:44.959667",
     "status": "completed"
    },
    "tags": []
   },
   "source": [
    "## 2 - Synthesization "
   ]
  },
  {
   "cell_type": "markdown",
   "id": "47d07bff-1eab-4218-94f7-76834cc2a192",
   "metadata": {
    "papermill": {
     "duration": 0.009695,
     "end_time": "2022-03-30T14:06:44.995666",
     "exception": false,
     "start_time": "2022-03-30T14:06:44.985971",
     "status": "completed"
    },
    "tags": []
   },
   "source": [
    "### 2.1 - Train the Synthesizer "
   ]
  },
  {
   "cell_type": "code",
   "execution_count": 4,
   "id": "a4af84ad-927d-4737-855c-335dbfa62009",
   "metadata": {},
   "outputs": [
    {
     "name": "stdout",
     "output_type": "stream",
     "text": [
      "[########################################] | 100% Completed |  0.7s\n"
     ]
    }
   ],
   "source": [
    "#create the dataset. This allows scale and integration with YData's platform SDK's\n",
    "dataset = Dataset(data)\n",
    "#Calculate the metadata\n",
    "m = Metadata(dataset)"
   ]
  },
  {
   "cell_type": "code",
   "execution_count": 5,
   "id": "1a2d82b6-c94b-4dcb-9073-7c855991cbf6",
   "metadata": {},
   "outputs": [
    {
     "name": "stdout",
     "output_type": "stream",
     "text": [
      "\u001b[1mMetadata Summary \n",
      " \n",
      "\u001b[0m\u001b[1mDataset type: \u001b[0mTABULAR\n",
      "\u001b[1mDataset attributes: \u001b[0m\n",
      "\u001b[1mNumber of columns: \u001b[0m9\n",
      "\u001b[1m% of duplicate rows: \u001b[0m0\n",
      "\u001b[1mTarget column: \u001b[0m\n",
      "\n",
      "\u001b[1mColumn detail: \u001b[0m\n",
      "        Column    Data type Variable type\n",
      "0   PRBUsageUL    numerical         float\n",
      "1   PRBUsageDL    numerical         float\n",
      "2   meanThr_DL    numerical         float\n",
      "3   meanThr_UL    numerical         float\n",
      "4    maxThr_DL    numerical         float\n",
      "5    maxThr_UL    numerical         float\n",
      "6    meanUE_UL    numerical         float\n",
      "7  maxUE_UL+DL  categorical           int\n",
      "8      Unusual  categorical           int\n",
      "\n",
      "\u001b[1mWarnings: \u001b[0m\n",
      "                   Warning                                                                 Columns\n",
      "0     WarningType.SKEWNESS  [PRBUsageUL, PRBUsageDL, meanThr_DL, meanThr_UL, maxThr_DL, maxThr_UL]\n",
      "1  WarningType.CARDINALITY                                                           [maxUE_UL+DL]\n",
      "\n"
     ]
    }
   ],
   "source": [
    "print(m)"
   ]
  },
  {
   "cell_type": "code",
   "execution_count": 6,
   "id": "aa20bc19-e4ce-4620-bcf4-2b2f8d751905",
   "metadata": {
    "papermill": {
     "duration": 15.148453,
     "end_time": "2022-03-30T14:07:00.155764",
     "exception": false,
     "start_time": "2022-03-30T14:06:45.007311",
     "status": "completed"
    },
    "tags": []
   },
   "outputs": [
    {
     "name": "stdout",
     "output_type": "stream",
     "text": [
      "INFO: 2022-07-26 07:44:48,930 [SYNTHESIZER] - Number columns considered for synth: 9\n",
      "INFO: 2022-07-26 07:45:00,978 [SYNTHESIZER] - Starting the synthetic data modeling process over 1x1 blocks.\n",
      "INFO: 2022-07-26 07:45:00,983 [SYNTHESIZER] - Preprocess segment\n",
      "INFO: 2022-07-26 07:45:03,788 [SYNTHESIZER] - Synthesizer init.\n",
      "INFO: 2022-07-26 07:45:03,790 [SYNTHESIZER] - Processing the data prior fitting the synthesizer.\n"
     ]
    }
   ],
   "source": [
    "# Initialize and Load an alerady trained Synthesizer.\n",
    "network_synth = RegularSynthesizer()\n",
    "\n",
    "network_synth.fit(dataset, metadata=m)\n",
    "network_synth.save('trained_model.pkl')\n",
    "\n",
    "#Load a pre-saved model\n",
    "#network_synth = network_synth.load('trained_model.pkl')"
   ]
  },
  {
   "cell_type": "markdown",
   "id": "d5f96c34-8581-4bf9-9acc-c41461c02122",
   "metadata": {
    "papermill": {
     "duration": 0.253719,
     "end_time": "2022-03-30T14:07:00.430306",
     "exception": false,
     "start_time": "2022-03-30T14:07:00.176587",
     "status": "completed"
    },
    "tags": []
   },
   "source": [
    "### 2.2 - Sample Data "
   ]
  },
  {
   "cell_type": "code",
   "execution_count": 7,
   "id": "bf82ae37-892f-4697-8e43-57e1ca2a5ace",
   "metadata": {
    "papermill": {
     "duration": 5.673723,
     "end_time": "2022-03-30T14:07:06.165302",
     "exception": false,
     "start_time": "2022-03-30T14:07:00.491579",
     "status": "completed"
    },
    "tags": []
   },
   "outputs": [
    {
     "name": "stdout",
     "output_type": "stream",
     "text": [
      "INFO: 2022-07-26 07:45:05,842 [SYNTHESIZER] - Start generating model samples.\n"
     ]
    }
   ],
   "source": [
    "# Create the samples and flag them.\n",
    "synth_sample = network_synth.sample(5000).to_pandas()\n",
    "\n",
    "# Flag the created samples and assign columns \n",
    "synth_sample.index = repeat(999999, len(synth_sample))\n",
    "synth_sample.columns = data.columns"
   ]
  },
  {
   "cell_type": "markdown",
   "id": "6b1ad41b-a5f5-49ad-8620-f7205d5a32c3",
   "metadata": {
    "papermill": {
     "duration": 0.016318,
     "end_time": "2022-03-30T14:07:06.200048",
     "exception": false,
     "start_time": "2022-03-30T14:07:06.183730",
     "status": "completed"
    },
    "tags": []
   },
   "source": [
    "### 3 - Store Data "
   ]
  },
  {
   "cell_type": "code",
   "execution_count": 8,
   "id": "7e65a3ed-f5fc-4457-873d-09ef4849ee72",
   "metadata": {
    "papermill": {
     "duration": 0.074007,
     "end_time": "2022-03-30T14:07:06.290857",
     "exception": false,
     "start_time": "2022-03-30T14:07:06.216850",
     "status": "completed"
    },
    "tags": []
   },
   "outputs": [],
   "source": [
    "synth_sample.to_csv('data_sampled.csv', index=False)"
   ]
  }
 ],
 "metadata": {
  "kernelspec": {
   "display_name": "Python 3 (ipykernel)",
   "language": "python",
   "name": "python3"
  },
  "language_info": {
   "codemirror_mode": {
    "name": "ipython",
    "version": 3
   },
   "file_extension": ".py",
   "mimetype": "text/x-python",
   "name": "python",
   "nbconvert_exporter": "python",
   "pygments_lexer": "ipython3",
   "version": "3.8.13"
  },
  "papermill": {
   "default_parameters": {},
   "duration": 41.942923,
   "end_time": "2022-03-30T14:07:07.228654",
   "environment_variables": {},
   "exception": null,
   "input_path": "/home/ydata/5_synthesize_data.ipynb",
   "output_path": "/home/ydata/5_synthesize_data.ipynb",
   "parameters": {},
   "start_time": "2022-03-30T14:06:25.285731",
   "version": "2.3.4"
  }
 },
 "nbformat": 4,
 "nbformat_minor": 5
}
