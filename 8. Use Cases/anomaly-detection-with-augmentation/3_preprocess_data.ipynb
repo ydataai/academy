{
 "cells": [
  {
   "cell_type": "markdown",
   "id": "6ce04436-358b-4b53-a942-dbf0472abb63",
   "metadata": {
    "execution": {
     "iopub.execute_input": "2022-03-17T18:23:04.814760Z",
     "iopub.status.busy": "2022-03-17T18:23:04.812935Z",
     "iopub.status.idle": "2022-03-17T18:23:06.176237Z",
     "shell.execute_reply": "2022-03-17T18:23:06.175358Z"
    },
    "papermill": {
     "duration": 0.009083,
     "end_time": "2022-03-30T14:06:09.966489",
     "exception": false,
     "start_time": "2022-03-30T14:06:09.957406",
     "status": "completed"
    },
    "tags": []
   },
   "source": [
    "# Preprocess Data"
   ]
  },
  {
   "cell_type": "markdown",
   "id": "6c3fb6d6-5646-41c4-a6e1-5348356a3006",
   "metadata": {
    "papermill": {
     "duration": 0.009244,
     "end_time": "2022-03-30T14:06:09.984351",
     "exception": false,
     "start_time": "2022-03-30T14:06:09.975107",
     "status": "completed"
    },
    "tags": []
   },
   "source": [
    "# 0 - Setup"
   ]
  },
  {
   "cell_type": "markdown",
   "id": "1bdd316f-3613-4c9b-8070-c49d10c5584a",
   "metadata": {
    "papermill": {
     "duration": 0.012494,
     "end_time": "2022-03-30T14:06:10.008112",
     "exception": false,
     "start_time": "2022-03-30T14:06:09.995618",
     "status": "completed"
    },
    "tags": []
   },
   "source": [
    "### 0.1 Packages "
   ]
  },
  {
   "cell_type": "code",
   "execution_count": 1,
   "id": "c85ea6aa-8d55-4df5-8cf9-73fa5d406fb6",
   "metadata": {
    "papermill": {
     "duration": 1.979743,
     "end_time": "2022-03-30T14:06:11.996429",
     "exception": false,
     "start_time": "2022-03-30T14:06:10.016686",
     "status": "completed"
    },
    "tags": []
   },
   "outputs": [],
   "source": [
    "import pandas as pd\n",
    "from ydata.connectors import LocalConnector\n",
    "from ydata.connectors.filetype import FileType\n",
    "from ydata.utils.formats import read_json"
   ]
  },
  {
   "cell_type": "markdown",
   "id": "de17f65e-ae29-4d6f-808f-2fd3333dc2e8",
   "metadata": {
    "papermill": {
     "duration": 0.008487,
     "end_time": "2022-03-30T14:06:12.014546",
     "exception": false,
     "start_time": "2022-03-30T14:06:12.006059",
     "status": "completed"
    },
    "tags": []
   },
   "source": [
    "## 1 - Load Data"
   ]
  },
  {
   "cell_type": "code",
   "execution_count": 2,
   "id": "f57fd320-87b3-4227-82ad-cae3549cd6bf",
   "metadata": {
    "papermill": {
     "duration": 12.226723,
     "end_time": "2022-03-30T14:06:24.249817",
     "exception": false,
     "start_time": "2022-03-30T14:06:12.023094",
     "status": "completed"
    },
    "tags": []
   },
   "outputs": [],
   "source": [
    "# Read the data \n",
    "data = pd.read_csv('data.csv')"
   ]
  },
  {
   "cell_type": "markdown",
   "id": "7d1f6076-0e29-4aee-994e-76dce3e3ee58",
   "metadata": {
    "papermill": {
     "duration": 0.01013,
     "end_time": "2022-03-30T14:06:24.272357",
     "exception": false,
     "start_time": "2022-03-30T14:06:24.262227",
     "status": "completed"
    },
    "tags": []
   },
   "source": [
    "## 2 - Data Processing "
   ]
  },
  {
   "cell_type": "code",
   "execution_count": 3,
   "id": "08df7e54-0d69-49b5-a8b9-de9f9c55fdee",
   "metadata": {
    "papermill": {
     "duration": 0.041326,
     "end_time": "2022-03-30T14:06:24.322873",
     "exception": false,
     "start_time": "2022-03-30T14:06:24.281547",
     "status": "completed"
    },
    "tags": []
   },
   "outputs": [],
   "source": [
    "# Do the little preprocessing\n",
    "data.drop_duplicates(inplace=True)\n",
    "data.drop(['meanUE_DL', 'maxUE_DL', 'maxUE_UL'], axis=1, inplace=True)"
   ]
  },
  {
   "cell_type": "markdown",
   "id": "04e5c28d-9581-481f-8373-02ad241184d5",
   "metadata": {
    "papermill": {
     "duration": 0.008582,
     "end_time": "2022-03-30T14:06:24.339955",
     "exception": false,
     "start_time": "2022-03-30T14:06:24.331373",
     "status": "completed"
    },
    "tags": []
   },
   "source": [
    "## 3 - Store Data "
   ]
  },
  {
   "cell_type": "code",
   "execution_count": 4,
   "id": "296db964-0f59-486f-a010-59cadfc7d960",
   "metadata": {
    "papermill": {
     "duration": 0.258863,
     "end_time": "2022-03-30T14:06:24.612440",
     "exception": false,
     "start_time": "2022-03-30T14:06:24.353577",
     "status": "completed"
    },
    "tags": []
   },
   "outputs": [],
   "source": [
    "# Output the changed data\n",
    "\n",
    "data.to_csv('data_processed.csv', index=False)"
   ]
  }
 ],
 "metadata": {
  "kernelspec": {
   "display_name": "Python 3 (ipykernel)",
   "language": "python",
   "name": "python3"
  },
  "language_info": {
   "codemirror_mode": {
    "name": "ipython",
    "version": 3
   },
   "file_extension": ".py",
   "mimetype": "text/x-python",
   "name": "python",
   "nbconvert_exporter": "python",
   "pygments_lexer": "ipython3",
   "version": "3.8.13"
  },
  "papermill": {
   "default_parameters": {},
   "duration": 16.66653,
   "end_time": "2022-03-30T14:06:25.249920",
   "environment_variables": {},
   "exception": null,
   "input_path": "/home/ydata/4_preprocess_data.ipynb",
   "output_path": "/home/ydata/4_preprocess_data.ipynb",
   "parameters": {},
   "start_time": "2022-03-30T14:06:08.583390",
   "version": "2.3.4"
  }
 },
 "nbformat": 4,
 "nbformat_minor": 5
}
