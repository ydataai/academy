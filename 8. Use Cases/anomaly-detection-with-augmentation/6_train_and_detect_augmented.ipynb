{
 "cells": [
  {
   "cell_type": "markdown",
   "id": "7bea8e98-849a-4d7f-b33a-36c02d0c10f8",
   "metadata": {
    "papermill": {
     "duration": 0.015765,
     "end_time": "2022-03-30T14:07:26.829433",
     "exception": false,
     "start_time": "2022-03-30T14:07:26.813668",
     "status": "completed"
    },
    "tags": []
   },
   "source": [
    "# Anomaly Detection "
   ]
  },
  {
   "cell_type": "markdown",
   "id": "e4c664db-ee7d-4c77-bbf4-6dcbe5a424ed",
   "metadata": {
    "papermill": {
     "duration": 0.018293,
     "end_time": "2022-03-30T14:07:26.862802",
     "exception": false,
     "start_time": "2022-03-30T14:07:26.844509",
     "status": "completed"
    },
    "tags": []
   },
   "source": [
    "## 0 - Imports"
   ]
  },
  {
   "cell_type": "code",
   "execution_count": 1,
   "id": "a3de3bf7-cad0-4f28-9b74-9116b1ea987a",
   "metadata": {
    "papermill": {
     "duration": 2.705861,
     "end_time": "2022-03-30T14:07:29.592344",
     "exception": false,
     "start_time": "2022-03-30T14:07:26.886483",
     "status": "completed"
    },
    "tags": []
   },
   "outputs": [],
   "source": [
    "%%capture\n",
    "import json\n",
    "import pandas as pd\n",
    "\n",
    "from sklearn.tree import DecisionTreeClassifier\n",
    "from sklearn.model_selection import train_test_split\n",
    "from sklearn.metrics import accuracy_score, f1_score, recall_score, precision_score\n",
    "\n",
    "# Proprietary \n",
    "from ydata.connectors import LocalConnector\n",
    "from ydata.connectors.filetype import FileType"
   ]
  },
  {
   "cell_type": "markdown",
   "id": "4b2f4dc7-fe0a-48e7-b845-2572e54a27d9",
   "metadata": {
    "papermill": {
     "duration": 0.012175,
     "end_time": "2022-03-30T14:07:29.618597",
     "exception": false,
     "start_time": "2022-03-30T14:07:29.606422",
     "status": "completed"
    },
    "tags": []
   },
   "source": [
    "## 1 - Load Data "
   ]
  },
  {
   "cell_type": "code",
   "execution_count": 7,
   "id": "96686440-06ce-43e5-a5f1-8c2d343536d1",
   "metadata": {
    "papermill": {
     "duration": 15.031781,
     "end_time": "2022-03-30T14:07:44.662291",
     "exception": false,
     "start_time": "2022-03-30T14:07:29.630510",
     "status": "completed"
    },
    "tags": []
   },
   "outputs": [],
   "source": [
    "# Read the data. Augumented and original\n",
    "data_processed = pd.read_csv('data_processed.csv')\n",
    "data_sampled = pd.read_csv('data_sampled.csv')\n",
    "x_test = pd.read_csv('test_set.csv').drop('Unnamed: 0', axis=1)\n",
    "\n",
    "# Concatenate synthesized data and original data\n",
    "aug_df = pd.concat([data_processed, data_sampled])"
   ]
  },
  {
   "cell_type": "markdown",
   "id": "1249d8aa-4ff6-43e5-bf5e-c127c12ac445",
   "metadata": {
    "papermill": {
     "duration": 0.014237,
     "end_time": "2022-03-30T14:07:44.691062",
     "exception": false,
     "start_time": "2022-03-30T14:07:44.676825",
     "status": "completed"
    },
    "tags": []
   },
   "source": [
    "## 2 - Classification "
   ]
  },
  {
   "cell_type": "markdown",
   "id": "41a4abd2-b72f-4858-8966-9d57c815e2e2",
   "metadata": {
    "papermill": {
     "duration": 0.01526,
     "end_time": "2022-03-30T14:07:44.718843",
     "exception": false,
     "start_time": "2022-03-30T14:07:44.703583",
     "status": "completed"
    },
    "tags": []
   },
   "source": [
    "### 2.1 - Split the Data "
   ]
  },
  {
   "cell_type": "code",
   "execution_count": 8,
   "id": "296338ef-1b57-450b-8eed-964ff4592e3d",
   "metadata": {
    "papermill": {
     "duration": 0.03742,
     "end_time": "2022-03-30T14:07:44.771564",
     "exception": false,
     "start_time": "2022-03-30T14:07:44.734144",
     "status": "completed"
    },
    "tags": []
   },
   "outputs": [],
   "source": [
    "# Split the data into train and test\n",
    "x_train_augmented = aug_df.drop(x_test.index)"
   ]
  },
  {
   "cell_type": "code",
   "execution_count": 9,
   "id": "4bbf72fd-5733-47d6-a1ca-5ffdae136db7",
   "metadata": {},
   "outputs": [],
   "source": [
    "#Removing the index columns as the data is sorted\n",
    "x_train_augmented = x_train_augmented.drop(['Time', 'CellName'], axis=1)\n",
    "x_test = x_test.drop(['Time', 'CellName'], axis=1)"
   ]
  },
  {
   "cell_type": "markdown",
   "id": "35fade63-f663-4595-aedc-0834c6002134",
   "metadata": {
    "papermill": {
     "duration": 0.014242,
     "end_time": "2022-03-30T14:07:44.800681",
     "exception": false,
     "start_time": "2022-03-30T14:07:44.786439",
     "status": "completed"
    },
    "tags": []
   },
   "source": [
    "### 2.2 - Model Training "
   ]
  },
  {
   "cell_type": "code",
   "execution_count": 10,
   "id": "8189246b-c31a-4f98-a967-c14907be08a1",
   "metadata": {
    "papermill": {
     "duration": 0.596702,
     "end_time": "2022-03-30T14:07:45.410127",
     "exception": false,
     "start_time": "2022-03-30T14:07:44.813425",
     "status": "completed"
    },
    "tags": []
   },
   "outputs": [
    {
     "data": {
      "text/plain": [
       "DecisionTreeClassifier(random_state=4)"
      ]
     },
     "execution_count": 10,
     "metadata": {},
     "output_type": "execute_result"
    }
   ],
   "source": [
    "# Create the DecisionTreeClassifier. One for the normal data and another for the augmented data.\n",
    "aug_tree_clf = DecisionTreeClassifier(random_state=4)\n",
    "\n",
    "# Fit the model and predict\n",
    "aug_tree_clf.fit(x_train_augmented.drop('Unusual', axis=1), x_train_augmented['Unusual'])"
   ]
  },
  {
   "cell_type": "markdown",
   "id": "ee3fef69-932d-4da2-a8e2-5b70cee0a723",
   "metadata": {
    "papermill": {
     "duration": 0.013559,
     "end_time": "2022-03-30T14:07:45.437535",
     "exception": false,
     "start_time": "2022-03-30T14:07:45.423976",
     "status": "completed"
    },
    "tags": []
   },
   "source": [
    "### 2.3 - Predict "
   ]
  },
  {
   "cell_type": "code",
   "execution_count": 11,
   "id": "fe42647e-cda7-42be-a2d3-de31087255ad",
   "metadata": {
    "papermill": {
     "duration": 0.056024,
     "end_time": "2022-03-30T14:07:45.506605",
     "exception": false,
     "start_time": "2022-03-30T14:07:45.450581",
     "status": "completed"
    },
    "tags": []
   },
   "outputs": [],
   "source": [
    "aug_preds = aug_tree_clf.predict(x_test.drop('Unusual', axis=1))"
   ]
  },
  {
   "cell_type": "markdown",
   "id": "73615fe9-0c31-4115-a76d-56fe0c51daeb",
   "metadata": {
    "papermill": {
     "duration": 0.012899,
     "end_time": "2022-03-30T14:07:45.532411",
     "exception": false,
     "start_time": "2022-03-30T14:07:45.519512",
     "status": "completed"
    },
    "tags": []
   },
   "source": [
    "### 2.4 - Evaluate Predictions "
   ]
  },
  {
   "cell_type": "code",
   "execution_count": 12,
   "id": "71e7f74a-8d2a-4dc4-9bc8-983a0cc2b3d1",
   "metadata": {
    "papermill": {
     "duration": 0.034318,
     "end_time": "2022-03-30T14:07:45.580461",
     "exception": false,
     "start_time": "2022-03-30T14:07:45.546143",
     "status": "completed"
    },
    "tags": []
   },
   "outputs": [],
   "source": [
    "# Look at F1 score and Accuracy\n",
    "aug_acc = accuracy_score(x_test['Unusual'].values, aug_preds)\n",
    "aug_f1 = f1_score(x_test['Unusual'].values, aug_preds)\n",
    "aug_recall = recall_score(x_test['Unusual'].values, aug_preds)\n",
    "aug_precision = precision_score(x_test['Unusual'].values, aug_preds)"
   ]
  },
  {
   "cell_type": "markdown",
   "id": "562eb8af-20ba-497d-b72c-19d70e9bfcc5",
   "metadata": {
    "papermill": {
     "duration": 0.013391,
     "end_time": "2022-03-30T14:07:45.608360",
     "exception": false,
     "start_time": "2022-03-30T14:07:45.594969",
     "status": "completed"
    },
    "tags": []
   },
   "source": [
    "## 3 - Create Artifacts "
   ]
  },
  {
   "cell_type": "code",
   "execution_count": 13,
   "id": "4136fd2d-b3ed-496e-b6be-29a5f1773204",
   "metadata": {
    "papermill": {
     "duration": 0.024639,
     "end_time": "2022-03-30T14:07:45.645250",
     "exception": false,
     "start_time": "2022-03-30T14:07:45.620611",
     "status": "completed"
    },
    "tags": []
   },
   "outputs": [],
   "source": [
    "# Create Artifact. The table with the metrics will be shown on the \"Run Output\" section of the \"Runs\". \n",
    "metrics = {\n",
    "    'metrics': [\n",
    "         {\n",
    "            'name': 'augmented-accuracy-score',\n",
    "            'numberValue':  aug_acc,\n",
    "            'format': 'PERCENTAGE'\n",
    "        },\n",
    "         {\n",
    "            'name': 'augmented-f1-score',\n",
    "            'numberValue':  aug_f1,\n",
    "            'format': 'PERCENTAGE'\n",
    "        },\n",
    "        {\n",
    "            'name': 'augmented-recall-score',\n",
    "            'numberValue':  aug_recall,\n",
    "            'format': 'PERCENTAGE'\n",
    "        },\n",
    "        {\n",
    "            'name': 'augmented-precision-score',\n",
    "            'numberValue':  aug_precision,\n",
    "            'format': 'PERCENTAGE'\n",
    "        },\n",
    "    ]\n",
    "  }\n",
    "\n",
    "with open(\"mlpipeline-metrics.json\", 'w') as f:\n",
    "    json.dump(metrics, f)"
   ]
  },
  {
   "cell_type": "code",
   "execution_count": 14,
   "id": "1e75bfc7-8ce3-46e3-bfab-a89a76011189",
   "metadata": {},
   "outputs": [],
   "source": [
    "from sklearn.metrics import confusion_matrix \n",
    "\n",
    "pos_neg = confusion_matrix(x_test['Unusual'].values, aug_preds).ravel()\n",
    "\n",
    "matrix = [\n",
    "    ['normal', 'normal', pos_neg[0]],\n",
    "    ['normal', 'unusual', pos_neg[1]],\n",
    "    ['unusual', 'normal', pos_neg[2]],\n",
    "    ['unusual', 'unusual', pos_neg[3]]\n",
    "]\n",
    "\n",
    "df = pd.DataFrame(matrix,columns=['target','predicted','count'])\n",
    "\n",
    "metadata = {\n",
    "    \"outputs\": [\n",
    "        {\n",
    "            \"type\": \"confusion_matrix\",\n",
    "            \"format\": \"csv\",\n",
    "            \"schema\": [\n",
    "                {\n",
    "                    \"name\": \"target\",\n",
    "                    \"type\": \"CATEGORY\"\n",
    "                },\n",
    "                {\n",
    "                    \"name\": \"predicted\",\n",
    "                    \"type\": \"CATEGORY\"\n",
    "                },\n",
    "                {\n",
    "                    \"name\": \"count\",\n",
    "                    \"type\": \"NUMBER\"\n",
    "                }\n",
    "            ],\n",
    "            \"source\": df.to_csv(header=False, index=False),\n",
    "            \"storage\": \"inline\",\n",
    "            \"labels\": [\n",
    "                \"normal\",\n",
    "                \"unusual\"\n",
    "            ]\n",
    "        }\n",
    "    ]\n",
    "}\n",
    "\n",
    "with open('mlpipeline-ui-metadata.json', 'w') as f:\n",
    "    json.dump(metadata, f)"
   ]
  }
 ],
 "metadata": {
  "kernelspec": {
   "display_name": "Python 3 (ipykernel)",
   "language": "python",
   "name": "python3"
  },
  "language_info": {
   "codemirror_mode": {
    "name": "ipython",
    "version": 3
   },
   "file_extension": ".py",
   "mimetype": "text/x-python",
   "name": "python",
   "nbconvert_exporter": "python",
   "pygments_lexer": "ipython3",
   "version": "3.8.13"
  },
  "papermill": {
   "default_parameters": {},
   "duration": 20.948385,
   "end_time": "2022-03-30T14:07:46.390809",
   "environment_variables": {},
   "exception": null,
   "input_path": "/home/ydata/7_train_and_detect.ipynb",
   "output_path": "/home/ydata/7_train_and_detect.ipynb",
   "parameters": {},
   "start_time": "2022-03-30T14:07:25.442424",
   "version": "2.3.4"
  }
 },
 "nbformat": 4,
 "nbformat_minor": 5
}
