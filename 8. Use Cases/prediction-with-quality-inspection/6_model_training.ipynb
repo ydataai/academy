{
 "cells": [
  {
   "cell_type": "markdown",
   "id": "0adf9551-75bb-49e8-8fc8-3224e658f50c",
   "metadata": {},
   "source": [
    "# 6. Model training"
   ]
  },
  {
   "cell_type": "markdown",
   "id": "4576ca77-7526-4bf3-928d-d4c774bef1eb",
   "metadata": {},
   "source": [
    "### Import needed packages"
   ]
  },
  {
   "cell_type": "code",
   "execution_count": 6,
   "id": "37437b63-60a0-417a-b42d-b74f4d358d29",
   "metadata": {},
   "outputs": [],
   "source": [
    "from pickle import load, dump\n",
    "\n",
    "import pandas as pd\n",
    "\n",
    "from sklearn.metrics import accuracy_score, confusion_matrix, classification_report, roc_auc_score, precision_score, recall_score\n",
    "from sklearn.neighbors import KNeighborsClassifier\n",
    "from sklearn.tree import DecisionTreeClassifier\n",
    "\n",
    "from sklearn.model_selection import GridSearchCV\n",
    "\n",
    "from functions.save_load import load_sets"
   ]
  },
  {
   "cell_type": "markdown",
   "id": "8ed13391-5d06-44a6-b9e3-55ca9a65b09f",
   "metadata": {},
   "source": [
    "### Loading the dataset"
   ]
  },
  {
   "cell_type": "code",
   "execution_count": 3,
   "id": "51c9a300-7007-4c80-8fd0-646eabe98fe1",
   "metadata": {},
   "outputs": [],
   "source": [
    "X_train, y_train = load_sets('dataprep_train.pkl')\n",
    "X_val, y_val = load_sets('dataprep_validation.pkl')"
   ]
  },
  {
   "cell_type": "code",
   "execution_count": 4,
   "id": "9ed54560-10dc-4458-8ad6-5321c4cf9eae",
   "metadata": {},
   "outputs": [
    {
     "name": "stdout",
     "output_type": "stream",
     "text": [
      "(71274, 36) (11939, 36)\n"
     ]
    }
   ],
   "source": [
    "print(X_train.shape, X_val.shape)"
   ]
  },
  {
   "cell_type": "code",
   "execution_count": 7,
   "id": "5a161e5e-8f42-4ed6-9652-b67499fa5757",
   "metadata": {},
   "outputs": [
    {
     "name": "stdout",
     "output_type": "stream",
     "text": [
      "Best Parameters using Grid Search: \n",
      " {'max_depth': 7, 'min_samples_split': 140}\n"
     ]
    }
   ],
   "source": [
    "dtc = DecisionTreeClassifier(criterion = 'gini', random_state = 20)\n",
    "\n",
    "param_dist = {'max_depth': [3,5,6,7], 'min_samples_split': [140,280,420,560,700]}\n",
    "dtc_grid = GridSearchCV(dtc, param_grid = param_dist, cv = 10, n_jobs = -1 )\n",
    "dtc_grid.fit(X_train, y_train)\n",
    "\n",
    "print('Best Parameters using Grid Search: \\n', dtc_grid.best_params_)"
   ]
  },
  {
   "cell_type": "code",
   "execution_count": 8,
   "id": "bf8c96b1-fcb7-40fb-b399-33c57cc4b61f",
   "metadata": {},
   "outputs": [
    {
     "data": {
      "text/plain": [
       "DecisionTreeClassifier(max_depth=7, min_samples_split=140, random_state=0)"
      ]
     },
     "execution_count": 8,
     "metadata": {},
     "output_type": "execute_result"
    }
   ],
   "source": [
    "#Training the model with the best choice of parameters\n",
    "\n",
    "dtc = DecisionTreeClassifier(criterion = 'gini', random_state = 0, max_depth = 7, min_samples_split=140)\n",
    "dtc.fit(X_train,y_train) "
   ]
  },
  {
   "cell_type": "code",
   "execution_count": 9,
   "id": "4238a051-7d7b-46ff-85c1-1e8332fc3dfa",
   "metadata": {},
   "outputs": [],
   "source": [
    "y_pred_dtc = dtc.predict(X_val)"
   ]
  },
  {
   "cell_type": "markdown",
   "id": "19a7ba16-a045-4127-a69d-c3b830ceab0a",
   "metadata": {},
   "source": [
    "## Run the metrics for performance comparision"
   ]
  },
  {
   "cell_type": "code",
   "execution_count": null,
   "id": "778981f7-1808-4256-8e01-0f830b89d2fa",
   "metadata": {},
   "outputs": [],
   "source": [
    "acc_dtc = accuracy_score(y_val, y_pred_dtc)\n",
    "conf_matrix = confusion_matrix(y_val, y_pred_dtc)\n",
    "clf_report = classification_report(y_val, y_pred_dtc, output_dict=True)\n",
    "roc_auc = roc_auc_score(y_val, y_pred_dtc)\n",
    "precision = precision_score(y_val, y_pred_dtc)\n",
    "recall = recall_score(y_val, y_pred_dtc)"
   ]
  },
  {
   "cell_type": "code",
   "execution_count": 11,
   "id": "72edd998-ee69-4a57-a294-9873960a13d1",
   "metadata": {},
   "outputs": [],
   "source": [
    "conf_matrix = pd.DataFrame(conf_matrix, columns=['target', 'predicted'])"
   ]
  },
  {
   "cell_type": "markdown",
   "id": "46876a18-618c-4384-a851-d63d56e67d9d",
   "metadata": {},
   "source": [
    "### Save model"
   ]
  },
  {
   "cell_type": "code",
   "execution_count": 12,
   "id": "2b0fb0aa-4dad-48f4-a3d4-1257bbdc2c60",
   "metadata": {},
   "outputs": [],
   "source": [
    "with open('model.pkl', 'wb') as f:\n",
    "    dump(dtc, f)"
   ]
  },
  {
   "cell_type": "markdown",
   "id": "d765bf80-43de-4a4c-9711-f6dcf5fa6b79",
   "metadata": {},
   "source": [
    "## Pipeline output"
   ]
  },
  {
   "cell_type": "code",
   "execution_count": 13,
   "id": "cbc74afa-5bb9-459e-9b87-dfc83d739015",
   "metadata": {},
   "outputs": [],
   "source": [
    "import json\n",
    "\n",
    "metrics = {\n",
    "'metrics': [\n",
    "    {\n",
    "        'name': 'accuracy-score',\n",
    "        'numberValue':  acc_dtc,\n",
    "        'format': 'PERCENTAGE'\n",
    "    },\n",
    "    {\n",
    "        'name': 'roc-auc-score',\n",
    "        'numberValue':  roc_auc,\n",
    "        'format': 'PERCENTAGE'       \n",
    "    },\n",
    "    {\n",
    "        'name': 'precision-score',\n",
    "        'numberValue':  precision,\n",
    "        'format': 'PERCENTAGE'       \n",
    "    },\n",
    "    {\n",
    "        'name': 'recall-score',\n",
    "        'numberValue':  recall,\n",
    "        'format': 'PERCENTAGE'       \n",
    "    }\n",
    "]\n",
    "}\n",
    "\n",
    "\n",
    "with open('mlpipeline-metrics.json', 'w') as f:\n",
    "    json.dump(metrics, f)"
   ]
  }
 ],
 "metadata": {
  "kernelspec": {
   "display_name": "Python 3 (ipykernel)",
   "language": "python",
   "name": "python3"
  },
  "language_info": {
   "codemirror_mode": {
    "name": "ipython",
    "version": 3
   },
   "file_extension": ".py",
   "mimetype": "text/x-python",
   "name": "python",
   "nbconvert_exporter": "python",
   "pygments_lexer": "ipython3",
   "version": "3.8.15"
  }
 },
 "nbformat": 4,
 "nbformat_minor": 5
}
