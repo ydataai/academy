{
 "cells": [
  {
   "cell_type": "markdown",
   "id": "d9cc8a93-de02-49ba-a810-05235faec89c",
   "metadata": {},
   "source": [
    "# Creating the train, validation and holdout sets"
   ]
  },
  {
   "cell_type": "markdown",
   "id": "e009d4c1-9d2c-4a11-bf44-1b5645b826ce",
   "metadata": {},
   "source": [
    "### Import the need packages"
   ]
  },
  {
   "cell_type": "code",
   "execution_count": 17,
   "id": "617cdfb4-9c56-43bd-94ce-8b9fcaee56c3",
   "metadata": {},
   "outputs": [],
   "source": [
    "import os \n",
    "from pickle import load, dump, HIGHEST_PROTOCOL\n",
    "\n",
    "import pandas as pd\n",
    "from sklearn.model_selection import train_test_split"
   ]
  },
  {
   "cell_type": "markdown",
   "id": "363b8d9b-5724-4679-b3b5-47baf8ae26e5",
   "metadata": {},
   "source": [
    "### Getting environment variables values"
   ]
  },
  {
   "cell_type": "code",
   "execution_count": 18,
   "id": "40e64ecc-ed5a-4d45-97ca-86a3207ac855",
   "metadata": {},
   "outputs": [],
   "source": [
    "train_size = float(os.environ.get('TRAIN_SIZE', 0.8))\n",
    "validation_size = float(os.environ.get('TEST_SIZE', 0.5))"
   ]
  },
  {
   "cell_type": "markdown",
   "id": "b66b98ee-b064-468b-a955-545bbb0eda6b",
   "metadata": {},
   "source": [
    "## Read the dataset & metadata"
   ]
  },
  {
   "cell_type": "code",
   "execution_count": 19,
   "id": "cdd2d40c-174e-404c-8ee2-d0f5ccbdb959",
   "metadata": {},
   "outputs": [],
   "source": [
    "with open('bookings.pkl', 'rb') as file:\n",
    "    data = load(file)\n",
    "    \n",
    "df = data.to_pandas()"
   ]
  },
  {
   "cell_type": "code",
   "execution_count": 20,
   "id": "0b0766bf-426e-46b7-ae04-27d40fb90084",
   "metadata": {},
   "outputs": [],
   "source": [
    "X = df.drop(columns=['is_canceled']).copy()\n",
    "y = df['is_canceled']"
   ]
  },
  {
   "cell_type": "markdown",
   "id": "28eeda36-e122-47b3-aca7-8c9f8057237b",
   "metadata": {},
   "source": [
    "## Create the dataset split into train & validation sets"
   ]
  },
  {
   "cell_type": "code",
   "execution_count": 21,
   "id": "94dd5362-0b1d-41e6-ba91-1b38da4672ef",
   "metadata": {},
   "outputs": [],
   "source": [
    "## Creating the first split - Train & Validation + holdout\n",
    "X_train, X_rem, y_train, y_rem = train_test_split(X, y, train_size=train_size, stratify=y)\n",
    "    \n",
    "X_val, X_holdout, y_val, y_holdout = train_test_split(X_rem, y_rem, test_size=validation_size, stratify=y_rem)"
   ]
  },
  {
   "cell_type": "code",
   "execution_count": 22,
   "id": "e1cc8792-c121-4017-89ed-f3aad3c519f7",
   "metadata": {},
   "outputs": [
    {
     "name": "stdout",
     "output_type": "stream",
     "text": [
      "(95512, 31)\n",
      "(11939, 31)\n",
      "(11939, 31)\n"
     ]
    }
   ],
   "source": [
    "print(X_train.shape)\n",
    "print(X_val.shape)\n",
    "print(X_holdout.shape)"
   ]
  },
  {
   "cell_type": "markdown",
   "id": "9b3ffb6b-b908-49c1-b757-ea1d219d6c3d",
   "metadata": {},
   "source": [
    "## Pipeline outputs"
   ]
  },
  {
   "cell_type": "code",
   "execution_count": 23,
   "id": "9bbb037b-237e-4f55-ab14-2ad4c9f859c6",
   "metadata": {},
   "outputs": [],
   "source": [
    "def pickle_sets(df: pd.DataFrame, y: pd.Series, path:str):\n",
    "    dataset = (df, y)\n",
    "    \n",
    "    with open(path, 'wb') as f:\n",
    "        dump(dataset, f)"
   ]
  },
  {
   "cell_type": "code",
   "execution_count": 24,
   "id": "513be0b9-b254-4267-bcbb-a9b9a216eb94",
   "metadata": {},
   "outputs": [],
   "source": [
    "## Saving the sets of data\n",
    "pickle_sets(df=X_train, y=y_train, path='train.pkl')\n",
    "pickle_sets(df=X_val, y=y_val, path='validation.pkl')\n",
    "pickle_sets(df=X_holdout, y=y_holdout, path='holdout.pkl')"
   ]
  }
 ],
 "metadata": {
  "kernelspec": {
   "display_name": "Python 3 (ipykernel)",
   "language": "python",
   "name": "python3"
  },
  "language_info": {
   "codemirror_mode": {
    "name": "ipython",
    "version": 3
   },
   "file_extension": ".py",
   "mimetype": "text/x-python",
   "name": "python",
   "nbconvert_exporter": "python",
   "pygments_lexer": "ipython3",
   "version": "3.8.15"
  }
 },
 "nbformat": 4,
 "nbformat_minor": 5
}
