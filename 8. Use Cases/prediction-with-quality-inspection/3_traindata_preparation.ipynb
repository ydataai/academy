{
 "cells": [
  {
   "cell_type": "markdown",
   "id": "a28fa267-53ac-4256-8b88-6a5850b71eca",
   "metadata": {
    "tags": []
   },
   "source": [
    "# 3. Data preparation"
   ]
  },
  {
   "cell_type": "markdown",
   "id": "53d67c4f-c661-4bd8-b6d9-4fd4460236b6",
   "metadata": {},
   "source": [
    "### Import the needed packages"
   ]
  },
  {
   "cell_type": "code",
   "execution_count": 53,
   "id": "fa2afa55-b41b-4b03-be71-da9a84436d5a",
   "metadata": {},
   "outputs": [],
   "source": [
    "import os\n",
    "import json\n",
    "from pickle import load, dump\n",
    "\n",
    "import numpy as np\n",
    "import pandas as pd\n",
    "from pandas import DataFrame\n",
    "from ydata.metadata import Metadata\n",
    "\n",
    "from functions.get_dummies import GetDummies\n",
    "\n",
    "from sklearn.preprocessing import LabelEncoder\n",
    "from sklearn.preprocessing import StandardScaler\n",
    "from sklearn.impute import SimpleImputer\n",
    "from sklearn.feature_selection import VarianceThreshold, SelectKBest, chi2"
   ]
  },
  {
   "cell_type": "markdown",
   "id": "8054a6ca-6eee-4ad1-9ccb-044da28383dc",
   "metadata": {},
   "source": [
    "### Getting the environment variables values"
   ]
  },
  {
   "cell_type": "code",
   "execution_count": 54,
   "id": "497dd162-4ca3-44c1-9a6e-e667a79a0cbb",
   "metadata": {},
   "outputs": [],
   "source": [
    "data_split = os.environ.get('DATA_SPLIT', 'train')\n",
    "dups = os.environ.get('KEEP_DUP', 'first')"
   ]
  },
  {
   "cell_type": "markdown",
   "id": "94967b78-4dab-416f-93fe-26168557731e",
   "metadata": {},
   "source": [
    "### Auxiliary functions definition"
   ]
  },
  {
   "cell_type": "code",
   "execution_count": 55,
   "id": "bb475624-277d-4b36-b3d0-1ad9d78e11be",
   "metadata": {},
   "outputs": [],
   "source": [
    "#Function to load the training set\n",
    "def load_sets(path: str):\n",
    "    with open(path, 'rb') as f:\n",
    "        return load(f)\n",
    "    \n",
    "def pickle_sets(df: pd.DataFrame, y: pd.Series, path:str):\n",
    "    dataset = (df, y)\n",
    "    \n",
    "    with open(path, 'wb') as f:\n",
    "        dump(dataset, f)"
   ]
  },
  {
   "cell_type": "code",
   "execution_count": 56,
   "id": "70460b8f-edc9-4837-9894-07a51ca9ffd0",
   "metadata": {},
   "outputs": [],
   "source": [
    "def profile_json(df: DataFrame):\n",
    "    profile = ProfileReport(df = df)\n",
    "    profile_json = json.loads(profile.json)\n",
    "    \n",
    "    return profile_json\n",
    "\n",
    "def calculate_profile_diff(profiles: list):\n",
    "    return profiles"
   ]
  },
  {
   "cell_type": "code",
   "execution_count": 57,
   "id": "e273adcc-e4a7-496f-a9fa-169d0d893a15",
   "metadata": {},
   "outputs": [],
   "source": [
    "def unique_levels(x):\n",
    "    x = x.value_counts().count()\n",
    "    return x"
   ]
  },
  {
   "cell_type": "markdown",
   "id": "b929cda4-1650-4619-85e4-2b21b23f388d",
   "metadata": {},
   "source": [
    "## Read the dataset, metadata & profiling"
   ]
  },
  {
   "cell_type": "code",
   "execution_count": 108,
   "id": "4d142a6f-3f7e-4f78-81dd-4d9a390c616f",
   "metadata": {},
   "outputs": [],
   "source": [
    "metadata = Metadata.load('bookings_metadata.pkl')"
   ]
  },
  {
   "cell_type": "code",
   "execution_count": 109,
   "id": "1e74b916-237c-430f-b349-a94abf8c0c22",
   "metadata": {},
   "outputs": [],
   "source": [
    "data, y = load_sets(f'{data_split}.pkl')\n",
    "data['is_canceled']=y"
   ]
  },
  {
   "cell_type": "markdown",
   "id": "c3055158-7d0b-46ea-95ba-a0d10e41a8ee",
   "metadata": {},
   "source": [
    "## Prepare the data"
   ]
  },
  {
   "cell_type": "markdown",
   "id": "1b5d02dc-3448-43bd-a1dc-69ae944cd18c",
   "metadata": {},
   "source": [
    "### Check & act upon the metadata warnings"
   ]
  },
  {
   "cell_type": "code",
   "execution_count": 110,
   "id": "c88087a0-0555-48d9-888f-26e91f41f0dd",
   "metadata": {},
   "outputs": [],
   "source": [
    "#remove duplicates\n",
    "for warning_type, warnings in metadata.warnings.items():\n",
    "    if warning_type == 'duplicates' and len(warnings)>0:\n",
    "        ##filter the dataset duplicates\n",
    "        data.drop_duplicates(keep=dups, inplace=True)"
   ]
  },
  {
   "cell_type": "code",
   "execution_count": 111,
   "id": "15d553bc-6e48-428f-b24a-35303e0a0c99",
   "metadata": {},
   "outputs": [],
   "source": [
    "y = data['is_canceled']\n",
    "data.drop(['is_canceled', 'booking_changes'], axis=1, inplace=True)"
   ]
  },
  {
   "cell_type": "code",
   "execution_count": 112,
   "id": "7a9f8fc8-e75f-4e02-8afd-2966814783da",
   "metadata": {},
   "outputs": [],
   "source": [
    "fltr_metadata=metadata[[col for col in metadata.columns if col not in ['is_canceled', 'booking_changes']]]"
   ]
  },
  {
   "cell_type": "code",
   "execution_count": 113,
   "id": "e7d60620-0d99-435a-b122-81a22dc89aa5",
   "metadata": {},
   "outputs": [],
   "source": [
    "## Split Features into numerical and categorical\n",
    "num = data[fltr_metadata.numerical_vars]\n",
    "char = data[fltr_metadata.categorical_vars]"
   ]
  },
  {
   "cell_type": "code",
   "execution_count": 114,
   "id": "0156911b-a870-420c-8c2d-8ea00883fa7c",
   "metadata": {},
   "outputs": [],
   "source": [
    "#Check num and categorical\n",
    "# check for how many unique values each column has\n",
    "df_value_counts = pd.DataFrame(num.apply(lambda X: unique_levels(X)))\n",
    "\n",
    "df_value_counts.columns = ['feature_levels']\n",
    "df_value_counts.sort_values(by = 'feature_levels', ascending=False)\n",
    "\n",
    "slice1 = df_value_counts.loc[df_value_counts['feature_levels']<=20]\n",
    "cat_list = slice1.index\n",
    "cat = num.loc[:, cat_list]\n",
    "\n",
    "slice2 = df_value_counts.loc[df_value_counts['feature_levels']>20]\n",
    "num_list = slice2.index\n",
    "num = num.loc[:, num_list]\n",
    "\n",
    "char = pd.concat([char, cat], axis = 1, join = 'inner')"
   ]
  },
  {
   "cell_type": "code",
   "execution_count": 124,
   "id": "08b5095e-5663-4bed-9bab-c7ddb2cf9888",
   "metadata": {},
   "outputs": [],
   "source": [
    "char = char.replace(np.nan, '')"
   ]
  },
  {
   "cell_type": "code",
   "execution_count": 115,
   "id": "6f400da4-c8e5-401b-9dfd-08fc861dc7db",
   "metadata": {},
   "outputs": [],
   "source": [
    "## Dropping Variables that have >25% missing data\n",
    "#only numerical has missing data\n",
    "num = num.loc[:, num.isnull().mean() <= 0.25]"
   ]
  },
  {
   "cell_type": "code",
   "execution_count": 116,
   "id": "6608f9cd-78a8-451d-a8a5-f88dce4f453d",
   "metadata": {},
   "outputs": [],
   "source": [
    "cols_split = {'cat': list(char.columns), 'num': list(num.columns)}"
   ]
  },
  {
   "cell_type": "code",
   "execution_count": 125,
   "id": "cb9270f6-afa8-4254-b706-72aa9f356171",
   "metadata": {},
   "outputs": [],
   "source": [
    "##Defining the imputers for the missing data identified\n",
    "imputers= {'cat': SimpleImputer(missing_values='', strategy='most_frequent'),\n",
    "           'num': SimpleImputer(missing_values=np.nan, strategy='mean')}"
   ]
  },
  {
   "cell_type": "code",
   "execution_count": 127,
   "id": "5a7cd58d-4798-4b36-94c5-ea84f229d3cc",
   "metadata": {},
   "outputs": [],
   "source": [
    "for k, imputer in imputers.items():\n",
    "    if k=='cat':\n",
    "        char_i = pd.DataFrame(imputer.fit_transform(char), index = char.index, columns=char.columns)\n",
    "    elif k=='num':\n",
    "        num_i = pd.DataFrame(imputer.fit_transform(num), index = num.index, columns=num.columns)"
   ]
  },
  {
   "cell_type": "markdown",
   "id": "35b11942-2f13-47da-ae08-9aef049731fb",
   "metadata": {},
   "source": [
    "### Feature Selection"
   ]
  },
  {
   "cell_type": "code",
   "execution_count": 130,
   "id": "13b7f275-2b1a-493f-9389-436bf1987118",
   "metadata": {},
   "outputs": [],
   "source": [
    "## Remove variables with zero variance\n",
    "varselector = VarianceThreshold(threshold = 0)\n",
    "varselector.fit_transform(num_i)\n",
    "\n",
    "cols = varselector.get_support(indices=True)\n",
    "\n",
    "##select_cols\n",
    "num_i = num_i.iloc[:, cols]\n",
    "\n",
    "##Create new features\n",
    "num_i['day_wait_ind'] = np.where(num_i['days_in_waiting_list']>0, 1, 0)\n",
    "num_i['previous_bookings_not_canceled_ind'] = np.where(num_i['previous_bookings_not_canceled']>0, 1, 0)\n",
    "                                                             \n",
    "try:\n",
    "    num_i['booking_changes_ind'] = np.where(num_i['booking_changes']<0, 1, 0)\n",
    "\n",
    "    num_varlist = ['arrival_date_day_of_month', 'arrival_date_week_number', 'days_in_waiting_list', 'previous_bookings_not_canceled', 'booking_changes']\n",
    "except:\n",
    "    num_varlist = ['arrival_date_day_of_month', 'arrival_date_week_number', 'days_in_waiting_list', 'previous_bookings_not_canceled']\n",
    "\n",
    "num_i.drop(num_varlist, axis=1, inplace=True)"
   ]
  },
  {
   "cell_type": "code",
   "execution_count": 131,
   "id": "c974e3f4-44e8-4182-97ee-8664756188e6",
   "metadata": {},
   "outputs": [
    {
     "data": {
      "text/html": [
       "<div>\n",
       "<style scoped>\n",
       "    .dataframe tbody tr th:only-of-type {\n",
       "        vertical-align: middle;\n",
       "    }\n",
       "\n",
       "    .dataframe tbody tr th {\n",
       "        vertical-align: top;\n",
       "    }\n",
       "\n",
       "    .dataframe thead th {\n",
       "        text-align: right;\n",
       "    }\n",
       "</style>\n",
       "<table border=\"1\" class=\"dataframe\">\n",
       "  <thead>\n",
       "    <tr style=\"text-align: right;\">\n",
       "      <th></th>\n",
       "      <th>hotel</th>\n",
       "      <th>arrival_date_month</th>\n",
       "      <th>meal</th>\n",
       "      <th>country</th>\n",
       "      <th>market_segment</th>\n",
       "      <th>distribution_channel</th>\n",
       "      <th>reserved_room_type</th>\n",
       "      <th>assigned_room_type</th>\n",
       "      <th>deposit_type</th>\n",
       "      <th>customer_type</th>\n",
       "      <th>reservation_status</th>\n",
       "      <th>arrival_date_year</th>\n",
       "      <th>stays_in_weekend_nights</th>\n",
       "      <th>adults</th>\n",
       "      <th>children</th>\n",
       "      <th>babies</th>\n",
       "      <th>is_repeated_guest</th>\n",
       "      <th>previous_cancellations</th>\n",
       "      <th>required_car_parking_spaces</th>\n",
       "      <th>total_of_special_requests</th>\n",
       "    </tr>\n",
       "  </thead>\n",
       "  <tbody>\n",
       "    <tr>\n",
       "      <th>82752</th>\n",
       "      <td>City Hotel</td>\n",
       "      <td>October</td>\n",
       "      <td>BB</td>\n",
       "      <td>PRT</td>\n",
       "      <td>Offline TA/TO</td>\n",
       "      <td>TA/TO</td>\n",
       "      <td>A</td>\n",
       "      <td>A</td>\n",
       "      <td>Non Refund</td>\n",
       "      <td>Transient</td>\n",
       "      <td>Canceled</td>\n",
       "      <td>2016</td>\n",
       "      <td>1</td>\n",
       "      <td>2</td>\n",
       "      <td>0.0</td>\n",
       "      <td>0</td>\n",
       "      <td>0</td>\n",
       "      <td>1</td>\n",
       "      <td>0</td>\n",
       "      <td>0</td>\n",
       "    </tr>\n",
       "    <tr>\n",
       "      <th>101242</th>\n",
       "      <td>City Hotel</td>\n",
       "      <td>November</td>\n",
       "      <td>BB</td>\n",
       "      <td>PRT</td>\n",
       "      <td>Corporate</td>\n",
       "      <td>Corporate</td>\n",
       "      <td>D</td>\n",
       "      <td>D</td>\n",
       "      <td>No Deposit</td>\n",
       "      <td>Transient</td>\n",
       "      <td>Check-Out</td>\n",
       "      <td>2016</td>\n",
       "      <td>0</td>\n",
       "      <td>1</td>\n",
       "      <td>0.0</td>\n",
       "      <td>0</td>\n",
       "      <td>1</td>\n",
       "      <td>0</td>\n",
       "      <td>0</td>\n",
       "      <td>1</td>\n",
       "    </tr>\n",
       "    <tr>\n",
       "      <th>48725</th>\n",
       "      <td>City Hotel</td>\n",
       "      <td>March</td>\n",
       "      <td>SC</td>\n",
       "      <td>PRT</td>\n",
       "      <td>Online TA</td>\n",
       "      <td>TA/TO</td>\n",
       "      <td>A</td>\n",
       "      <td>A</td>\n",
       "      <td>No Deposit</td>\n",
       "      <td>Transient-Party</td>\n",
       "      <td>Check-Out</td>\n",
       "      <td>2016</td>\n",
       "      <td>1</td>\n",
       "      <td>2</td>\n",
       "      <td>0.0</td>\n",
       "      <td>0</td>\n",
       "      <td>0</td>\n",
       "      <td>0</td>\n",
       "      <td>0</td>\n",
       "      <td>2</td>\n",
       "    </tr>\n",
       "    <tr>\n",
       "      <th>70855</th>\n",
       "      <td>City Hotel</td>\n",
       "      <td>June</td>\n",
       "      <td>HB</td>\n",
       "      <td>FRA</td>\n",
       "      <td>Online TA</td>\n",
       "      <td>TA/TO</td>\n",
       "      <td>E</td>\n",
       "      <td>E</td>\n",
       "      <td>No Deposit</td>\n",
       "      <td>Transient</td>\n",
       "      <td>Canceled</td>\n",
       "      <td>2017</td>\n",
       "      <td>1</td>\n",
       "      <td>3</td>\n",
       "      <td>0.0</td>\n",
       "      <td>0</td>\n",
       "      <td>0</td>\n",
       "      <td>0</td>\n",
       "      <td>0</td>\n",
       "      <td>2</td>\n",
       "    </tr>\n",
       "    <tr>\n",
       "      <th>42541</th>\n",
       "      <td>City Hotel</td>\n",
       "      <td>September</td>\n",
       "      <td>BB</td>\n",
       "      <td>PRT</td>\n",
       "      <td>Direct</td>\n",
       "      <td>Direct</td>\n",
       "      <td>A</td>\n",
       "      <td>A</td>\n",
       "      <td>No Deposit</td>\n",
       "      <td>Transient</td>\n",
       "      <td>No-Show</td>\n",
       "      <td>2015</td>\n",
       "      <td>1</td>\n",
       "      <td>1</td>\n",
       "      <td>0.0</td>\n",
       "      <td>0</td>\n",
       "      <td>0</td>\n",
       "      <td>0</td>\n",
       "      <td>0</td>\n",
       "      <td>1</td>\n",
       "    </tr>\n",
       "    <tr>\n",
       "      <th>...</th>\n",
       "      <td>...</td>\n",
       "      <td>...</td>\n",
       "      <td>...</td>\n",
       "      <td>...</td>\n",
       "      <td>...</td>\n",
       "      <td>...</td>\n",
       "      <td>...</td>\n",
       "      <td>...</td>\n",
       "      <td>...</td>\n",
       "      <td>...</td>\n",
       "      <td>...</td>\n",
       "      <td>...</td>\n",
       "      <td>...</td>\n",
       "      <td>...</td>\n",
       "      <td>...</td>\n",
       "      <td>...</td>\n",
       "      <td>...</td>\n",
       "      <td>...</td>\n",
       "      <td>...</td>\n",
       "      <td>...</td>\n",
       "    </tr>\n",
       "    <tr>\n",
       "      <th>32471</th>\n",
       "      <td>Resort Hotel</td>\n",
       "      <td>January</td>\n",
       "      <td>BB</td>\n",
       "      <td>GBR</td>\n",
       "      <td>Online TA</td>\n",
       "      <td>TA/TO</td>\n",
       "      <td>D</td>\n",
       "      <td>D</td>\n",
       "      <td>No Deposit</td>\n",
       "      <td>Transient</td>\n",
       "      <td>Check-Out</td>\n",
       "      <td>2017</td>\n",
       "      <td>4</td>\n",
       "      <td>1</td>\n",
       "      <td>0.0</td>\n",
       "      <td>0</td>\n",
       "      <td>0</td>\n",
       "      <td>0</td>\n",
       "      <td>0</td>\n",
       "      <td>1</td>\n",
       "    </tr>\n",
       "    <tr>\n",
       "      <th>6259</th>\n",
       "      <td>Resort Hotel</td>\n",
       "      <td>May</td>\n",
       "      <td>HB</td>\n",
       "      <td>GBR</td>\n",
       "      <td>Offline TA/TO</td>\n",
       "      <td>TA/TO</td>\n",
       "      <td>E</td>\n",
       "      <td>E</td>\n",
       "      <td>No Deposit</td>\n",
       "      <td>Transient</td>\n",
       "      <td>Check-Out</td>\n",
       "      <td>2016</td>\n",
       "      <td>2</td>\n",
       "      <td>2</td>\n",
       "      <td>1.0</td>\n",
       "      <td>0</td>\n",
       "      <td>0</td>\n",
       "      <td>0</td>\n",
       "      <td>0</td>\n",
       "      <td>1</td>\n",
       "    </tr>\n",
       "    <tr>\n",
       "      <th>39452</th>\n",
       "      <td>Resort Hotel</td>\n",
       "      <td>August</td>\n",
       "      <td>BB</td>\n",
       "      <td>AUS</td>\n",
       "      <td>Online TA</td>\n",
       "      <td>TA/TO</td>\n",
       "      <td>A</td>\n",
       "      <td>A</td>\n",
       "      <td>No Deposit</td>\n",
       "      <td>Transient</td>\n",
       "      <td>Check-Out</td>\n",
       "      <td>2017</td>\n",
       "      <td>1</td>\n",
       "      <td>2</td>\n",
       "      <td>0.0</td>\n",
       "      <td>0</td>\n",
       "      <td>0</td>\n",
       "      <td>0</td>\n",
       "      <td>0</td>\n",
       "      <td>2</td>\n",
       "    </tr>\n",
       "    <tr>\n",
       "      <th>1106</th>\n",
       "      <td>Resort Hotel</td>\n",
       "      <td>August</td>\n",
       "      <td>HB</td>\n",
       "      <td>PRT</td>\n",
       "      <td>Online TA</td>\n",
       "      <td>TA/TO</td>\n",
       "      <td>D</td>\n",
       "      <td>D</td>\n",
       "      <td>No Deposit</td>\n",
       "      <td>Transient</td>\n",
       "      <td>Canceled</td>\n",
       "      <td>2015</td>\n",
       "      <td>2</td>\n",
       "      <td>2</td>\n",
       "      <td>0.0</td>\n",
       "      <td>0</td>\n",
       "      <td>0</td>\n",
       "      <td>0</td>\n",
       "      <td>0</td>\n",
       "      <td>0</td>\n",
       "    </tr>\n",
       "    <tr>\n",
       "      <th>37360</th>\n",
       "      <td>Resort Hotel</td>\n",
       "      <td>June</td>\n",
       "      <td>HB</td>\n",
       "      <td>POL</td>\n",
       "      <td>Offline TA/TO</td>\n",
       "      <td>TA/TO</td>\n",
       "      <td>A</td>\n",
       "      <td>A</td>\n",
       "      <td>No Deposit</td>\n",
       "      <td>Contract</td>\n",
       "      <td>Check-Out</td>\n",
       "      <td>2017</td>\n",
       "      <td>1</td>\n",
       "      <td>2</td>\n",
       "      <td>0.0</td>\n",
       "      <td>0</td>\n",
       "      <td>0</td>\n",
       "      <td>0</td>\n",
       "      <td>0</td>\n",
       "      <td>3</td>\n",
       "    </tr>\n",
       "  </tbody>\n",
       "</table>\n",
       "<p>71274 rows × 20 columns</p>\n",
       "</div>"
      ],
      "text/plain": [
       "               hotel  ... total_of_special_requests\n",
       "82752     City Hotel  ...                         0\n",
       "101242    City Hotel  ...                         1\n",
       "48725     City Hotel  ...                         2\n",
       "70855     City Hotel  ...                         2\n",
       "42541     City Hotel  ...                         1\n",
       "...              ...  ...                       ...\n",
       "32471   Resort Hotel  ...                         1\n",
       "6259    Resort Hotel  ...                         1\n",
       "39452   Resort Hotel  ...                         2\n",
       "1106    Resort Hotel  ...                         0\n",
       "37360   Resort Hotel  ...                         3\n",
       "\n",
       "[71274 rows x 20 columns]"
      ]
     },
     "execution_count": 131,
     "metadata": {},
     "output_type": "execute_result"
    }
   ],
   "source": [
    "char_i"
   ]
  },
  {
   "cell_type": "code",
   "execution_count": 133,
   "id": "87a11ea4-06a8-4b59-89e2-761b36bafee8",
   "metadata": {},
   "outputs": [],
   "source": [
    "#Categorical features\n",
    "try:\n",
    "    charlist = ['arrival_date_month', 'country', 'assigned_room_type', 'reservation_status',\n",
    "                'reservation_status_date', 'arrival_date_year']\n",
    "    char_i.drop(charlist, axis=1, inplace=True)\n",
    "except:\n",
    "    charlist = ['arrival_date_month', 'country', 'assigned_room_type', 'reservation_status', 'arrival_date_year']\n",
    "    char_i.drop(charlist, axis=1, inplace=True)"
   ]
  },
  {
   "cell_type": "code",
   "execution_count": 134,
   "id": "58acee2a-374b-4672-9ca8-10ea38f4f101",
   "metadata": {},
   "outputs": [],
   "source": [
    "#LabelEncoder\n",
    "#Encode all the categorical columns\n",
    "le = GetDummies()\n",
    "\n",
    "le.fit(char_i)\n",
    "char_encoded = le.transform(char_i)"
   ]
  },
  {
   "cell_type": "code",
   "execution_count": 135,
   "id": "0be86a81-7696-4fdc-a559-f5d0f25075d3",
   "metadata": {},
   "outputs": [],
   "source": [
    "selector = SelectKBest(chi2, k=30)\n",
    "selector.fit_transform(char_encoded, y)\n",
    "\n",
    "#get columns to create new df with them only\n",
    "cols = selector.get_support(indices=True)\n",
    "select_features_df_char = char_encoded.iloc[:,cols]"
   ]
  },
  {
   "cell_type": "code",
   "execution_count": 136,
   "id": "7c027a9f-8cb6-4904-8522-2e61b10a2cd3",
   "metadata": {},
   "outputs": [],
   "source": [
    "##Setting the final DF\n",
    "X_train = pd.concat([select_features_df_char, num_i], axis=1, join='inner')"
   ]
  },
  {
   "cell_type": "code",
   "execution_count": 137,
   "id": "46f7c534-6110-474d-9408-7e9cc5377da9",
   "metadata": {},
   "outputs": [],
   "source": [
    "selected_vars= {'cat': list(select_features_df_char.columns), 'num': list(num_i.columns)}"
   ]
  },
  {
   "cell_type": "markdown",
   "id": "2772d804-8f5b-49c8-bc2a-b72b05f7e5cf",
   "metadata": {},
   "source": [
    "### Output methods for data preparation"
   ]
  },
  {
   "cell_type": "code",
   "execution_count": 138,
   "id": "d777d2bf-3a30-4c45-af41-c551fdf2d09a",
   "metadata": {},
   "outputs": [],
   "source": [
    "with open('cols_split.pkl', 'wb') as f:\n",
    "    dump(cols_split, f)\n",
    "\n",
    "with open('imputers.pkl', 'wb') as f:\n",
    "    dump(imputers, f)\n",
    "    \n",
    "with open('encoders.pkl', 'wb') as f:\n",
    "    dump(le, f)\n",
    "    \n",
    "with open('selected_vars.pkl', 'wb') as f:\n",
    "    dump(selected_vars, f)"
   ]
  },
  {
   "cell_type": "markdown",
   "id": "f1a7ae1a-348b-49b3-93ba-5bf386bc5d89",
   "metadata": {},
   "source": [
    "## Output data"
   ]
  },
  {
   "cell_type": "code",
   "execution_count": 139,
   "id": "6e1f2724-a9d4-412c-af49-46027026698c",
   "metadata": {},
   "outputs": [],
   "source": [
    "## Add here more details\n",
    "pickle_sets(df=X_train, y=y, path=f'dataprep_{data_split}.pkl')"
   ]
  }
 ],
 "metadata": {
  "kernelspec": {
   "display_name": "Python 3 (ipykernel)",
   "language": "python",
   "name": "python3"
  },
  "language_info": {
   "codemirror_mode": {
    "name": "ipython",
    "version": 3
   },
   "file_extension": ".py",
   "mimetype": "text/x-python",
   "name": "python",
   "nbconvert_exporter": "python",
   "pygments_lexer": "ipython3",
   "version": "3.8.15"
  }
 },
 "nbformat": 4,
 "nbformat_minor": 5
}
