{
 "cells": [
  {
   "cell_type": "markdown",
   "id": "0687a777-4363-4d03-8d67-92a2342dc569",
   "metadata": {},
   "source": [
    "# 4. Exploratory data analysis - First understanding of the data"
   ]
  },
  {
   "cell_type": "markdown",
   "id": "8619741d-a1d4-43ca-978d-2bbe16326d53",
   "metadata": {},
   "source": [
    "### Import the needed packages"
   ]
  },
  {
   "cell_type": "code",
   "execution_count": 3,
   "id": "356ebcab-f335-4624-9eb7-26e0cdea5549",
   "metadata": {},
   "outputs": [],
   "source": [
    "import os\n",
    "\n",
    "from pickle import load\n",
    "import pandas as pd\n",
    "\n",
    "from ydata.metadata import Metadata\n",
    "from ydata.profiling import ProfileReport\n",
    "\n",
    "from functions.save_load import load_sets"
   ]
  },
  {
   "cell_type": "markdown",
   "id": "417cf0c2-0689-493a-9c8f-052afc1a0013",
   "metadata": {},
   "source": [
    "### Getting the environment variables values"
   ]
  },
  {
   "cell_type": "code",
   "execution_count": 10,
   "id": "075b714d-eda9-4eb0-b061-ec162af018a0",
   "metadata": {},
   "outputs": [],
   "source": [
    "set_path = os.environ.get('SET_PATH', 'train.pkl')\n",
    "data_split=os.environ.get('DATA_SPLIT', 'train')"
   ]
  },
  {
   "cell_type": "markdown",
   "id": "2f0c0cbc-2033-46fe-9e36-39b9d9b83e3c",
   "metadata": {},
   "source": [
    "## Load the dataset & metadata"
   ]
  },
  {
   "cell_type": "code",
   "execution_count": 6,
   "id": "d67b3ce6-cb30-4115-8f0a-bd5dba7b91fe",
   "metadata": {},
   "outputs": [],
   "source": [
    "data, y = load_sets(set_path)"
   ]
  },
  {
   "cell_type": "code",
   "execution_count": 7,
   "id": "45aeb20c-9170-4874-8dce-a490401776da",
   "metadata": {},
   "outputs": [],
   "source": [
    "try:\n",
    "    data = data.drop('Unnamed: 0', axis=1)\n",
    "except:\n",
    "    \"No unnamed\""
   ]
  },
  {
   "cell_type": "code",
   "execution_count": 9,
   "id": "ae99d996-326f-43d9-8d97-566bcdd4813f",
   "metadata": {},
   "outputs": [
    {
     "name": "stdout",
     "output_type": "stream",
     "text": [
      "\u001b[1mMetadata Summary \n",
      " \n",
      "\u001b[0m\u001b[1mDataset type: \u001b[0mTABULAR\n",
      "\u001b[1mDataset attributes: \u001b[0m\n",
      "\u001b[1mNumber of columns: \u001b[0m32\n",
      "\u001b[1m% of duplicate rows: \u001b[0m26\n",
      "\u001b[1mTarget column: \u001b[0m\n",
      "\n",
      "\u001b[1mColumn detail: \u001b[0m\n",
      "                            Column    Data type Variable type\n",
      "0                            hotel  categorical        string\n",
      "1                      is_canceled  categorical           int\n",
      "2                        lead_time    numerical           int\n",
      "3                arrival_date_year    numerical           int\n",
      "4               arrival_date_month  categorical        string\n",
      "5         arrival_date_week_number    numerical           int\n",
      "6        arrival_date_day_of_month    numerical           int\n",
      "7          stays_in_weekend_nights    numerical           int\n",
      "8             stays_in_week_nights    numerical           int\n",
      "9                           adults    numerical           int\n",
      "10                        children    numerical         float\n",
      "11                          babies    numerical           int\n",
      "12                            meal  categorical        string\n",
      "13                         country  categorical        string\n",
      "14                  market_segment  categorical        string\n",
      "15            distribution_channel  categorical        string\n",
      "16               is_repeated_guest    numerical           int\n",
      "17          previous_cancellations    numerical           int\n",
      "18  previous_bookings_not_canceled    numerical           int\n",
      "19              reserved_room_type  categorical        string\n",
      "20              assigned_room_type  categorical        string\n",
      "21                 booking_changes    numerical           int\n",
      "22                    deposit_type  categorical        string\n",
      "23                           agent    numerical         float\n",
      "24                         company    numerical         float\n",
      "25            days_in_waiting_list    numerical           int\n",
      "26                   customer_type  categorical        string\n",
      "27                             adr    numerical         float\n",
      "28     required_car_parking_spaces    numerical           int\n",
      "29       total_of_special_requests    numerical           int\n",
      "30              reservation_status  categorical        string\n",
      "31         reservation_status_date         date      datetime\n",
      "\n",
      "\u001b[1mWarnings: \u001b[0m\n",
      "           Warning                                                                                                                                                                                                                                                                              Columns\n",
      "0         skewness                            [lead_time, stays_in_weekend_nights, stays_in_week_nights, adults, babies, is_repeated_guest, previous_cancellations, previous_bookings_not_canceled, booking_changes, days_in_waiting_list, adr, required_car_parking_spaces, total_of_special_requests]\n",
      "1      cardinality                                                                                                                                                                                                                                                                            [country]\n",
      "2         missings                                                                                                                                                                                                                                                  [children, country, agent, company]\n",
      "3       duplicates                                                                                                                                                                                                                                                                            [dataset]\n",
      "4            zeros  [lead_time, stays_in_weekend_nights, stays_in_week_nights, adults, children, babies, is_repeated_guest, previous_cancellations, previous_bookings_not_canceled, booking_changes, agent, company, days_in_waiting_list, adr, required_car_parking_spaces, total_of_special_requests]\n",
      "5      correlation                                                                                                                                                                                           [arrival_date_year|arrival_date_week_number, stays_in_weekend_nights|stays_in_week_nights]\n",
      "6  constant_length                                                                                                                                                                                                                               [reserved_room_type, assigned_room_type, deposit_type]\n",
      "\n"
     ]
    }
   ],
   "source": [
    "meta = Metadata.load('bookings_metadata.pkl')\n",
    "print(meta)"
   ]
  },
  {
   "cell_type": "markdown",
   "id": "c3080656-b0a5-4b99-a61e-ffabdf58f165",
   "metadata": {},
   "source": [
    "## Generating the full data profile"
   ]
  },
  {
   "cell_type": "code",
   "execution_count": 11,
   "id": "2b7b0d4b-762d-4f53-aa8e-b14b8f26e532",
   "metadata": {},
   "outputs": [
    {
     "name": "stdout",
     "output_type": "stream",
     "text": [
      "Profile Name: train_profile\n"
     ]
    },
    {
     "data": {
      "application/vnd.jupyter.widget-view+json": {
       "model_id": "a528f1800e1d49b3a53801b49947812f",
       "version_major": 2,
       "version_minor": 0
      },
      "text/plain": [
       "Summarize dataset:   0%|          | 0/5 [00:00<?, ?it/s]"
      ]
     },
     "metadata": {},
     "output_type": "display_data"
    },
    {
     "data": {
      "application/vnd.jupyter.widget-view+json": {
       "model_id": "1a3399d798434de4af3209dd88a52c5e",
       "version_major": 2,
       "version_minor": 0
      },
      "text/plain": [
       "Generate report structure:   0%|          | 0/1 [00:00<?, ?it/s]"
      ]
     },
     "metadata": {},
     "output_type": "display_data"
    },
    {
     "data": {
      "application/vnd.jupyter.widget-view+json": {
       "model_id": "ad99c28ec6ad4638a7e20e4644b1aa12",
       "version_major": 2,
       "version_minor": 0
      },
      "text/plain": [
       "Render HTML:   0%|          | 0/1 [00:00<?, ?it/s]"
      ]
     },
     "metadata": {},
     "output_type": "display_data"
    },
    {
     "data": {
      "application/vnd.jupyter.widget-view+json": {
       "model_id": "6b537078c32a464f8aa34f2742857637",
       "version_major": 2,
       "version_minor": 0
      },
      "text/plain": [
       "Export report to file:   0%|          | 0/1 [00:00<?, ?it/s]"
      ]
     },
     "metadata": {},
     "output_type": "display_data"
    }
   ],
   "source": [
    "print(f'Profile Name: {data_split}_profile')\n",
    "profile = ProfileReport(df=data, title='Hotel bookings demand')\n",
    "profile.config.html.navbar_show = False\n",
    "\n",
    "profile.to_file(f'{data_split}_profile.html')"
   ]
  },
  {
   "cell_type": "markdown",
   "id": "ffd25c3b-c35d-4466-b3bd-525f56b45733",
   "metadata": {},
   "source": [
    "### Plotting the target ratio"
   ]
  },
  {
   "cell_type": "code",
   "execution_count": 12,
   "id": "99421611-2a1c-4ce3-8a43-22053c836057",
   "metadata": {},
   "outputs": [],
   "source": [
    "ratio_labels = pd.DataFrame(y.value_counts(normalize=True))"
   ]
  },
  {
   "cell_type": "code",
   "execution_count": 13,
   "id": "92ae5bf8-2375-41d5-9780-bfa6d8386db6",
   "metadata": {},
   "outputs": [
    {
     "data": {
      "text/html": [
       "<div>\n",
       "<style scoped>\n",
       "    .dataframe tbody tr th:only-of-type {\n",
       "        vertical-align: middle;\n",
       "    }\n",
       "\n",
       "    .dataframe tbody tr th {\n",
       "        vertical-align: top;\n",
       "    }\n",
       "\n",
       "    .dataframe thead th {\n",
       "        text-align: right;\n",
       "    }\n",
       "</style>\n",
       "<table border=\"1\" class=\"dataframe\">\n",
       "  <thead>\n",
       "    <tr style=\"text-align: right;\">\n",
       "      <th></th>\n",
       "      <th>is_canceled</th>\n",
       "    </tr>\n",
       "  </thead>\n",
       "  <tbody>\n",
       "    <tr>\n",
       "      <th>0</th>\n",
       "      <td>0.629586</td>\n",
       "    </tr>\n",
       "    <tr>\n",
       "      <th>1</th>\n",
       "      <td>0.370414</td>\n",
       "    </tr>\n",
       "  </tbody>\n",
       "</table>\n",
       "</div>"
      ],
      "text/plain": [
       "   is_canceled\n",
       "0     0.629586\n",
       "1     0.370414"
      ]
     },
     "execution_count": 13,
     "metadata": {},
     "output_type": "execute_result"
    }
   ],
   "source": [
    "ratio_labels"
   ]
  },
  {
   "cell_type": "markdown",
   "id": "336091c2-01d0-494b-88af-275c1c5f3991",
   "metadata": {},
   "source": [
    "## Pipeline output"
   ]
  },
  {
   "cell_type": "code",
   "execution_count": 14,
   "id": "7884d159-747d-4abc-b957-5c2a9e137b27",
   "metadata": {},
   "outputs": [],
   "source": [
    "import json\n",
    "\n",
    "metadata = {\n",
    "    'outputs' : [\n",
    "        {\n",
    "      'type': 'table',\n",
    "      'storage': 'inline',\n",
    "      'format': 'csv',\n",
    "      'header': list(ratio_labels.columns),\n",
    "      'source': ratio_labels.to_csv(header=False, index=True)\n",
    "    },\n",
    "        {\n",
    "      'type': 'web-app',\n",
    "      'storage': 'inline',\n",
    "      'source': profile.to_html(),\n",
    "    }\n",
    "    ]\n",
    "  }\n",
    "\n",
    "with open('mlpipeline-ui-metadata.json', 'w') as metadata_file:\n",
    "    json.dump(metadata, metadata_file)"
   ]
  }
 ],
 "metadata": {
  "kernelspec": {
   "display_name": "Python 3 (ipykernel)",
   "language": "python",
   "name": "python3"
  },
  "language_info": {
   "codemirror_mode": {
    "name": "ipython",
    "version": 3
   },
   "file_extension": ".py",
   "mimetype": "text/x-python",
   "name": "python",
   "nbconvert_exporter": "python",
   "pygments_lexer": "ipython3",
   "version": "3.8.15"
  }
 },
 "nbformat": 4,
 "nbformat_minor": 5
}
