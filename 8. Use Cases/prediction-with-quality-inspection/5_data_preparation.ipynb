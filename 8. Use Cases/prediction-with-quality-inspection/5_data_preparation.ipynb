{
 "cells": [
  {
   "cell_type": "markdown",
   "id": "a28fa267-53ac-4256-8b88-6a5850b71eca",
   "metadata": {},
   "source": [
    "# 5. Data preparation"
   ]
  },
  {
   "cell_type": "markdown",
   "id": "a48955c2-d193-42f5-b27f-481e69ef205f",
   "metadata": {},
   "source": [
    "### Import needed packages"
   ]
  },
  {
   "cell_type": "code",
   "execution_count": 24,
   "id": "694b3ba4-e304-439a-ae68-384b69c46659",
   "metadata": {},
   "outputs": [],
   "source": [
    "import os\n",
    "from pickle import load, dump\n",
    "import json \n",
    "\n",
    "import numpy as np\n",
    "import pandas as pd\n",
    "from pandas import DataFrame\n",
    "\n",
    "from ydata.metadata import Metadata\n",
    "\n",
    "from functions.save_load import load_sets, pickle_sets\n",
    "\n",
    "from sklearn.preprocessing import LabelEncoder\n",
    "from sklearn.preprocessing import StandardScaler\n",
    "\n",
    "from functions.get_dummies import GetDummies"
   ]
  },
  {
   "cell_type": "markdown",
   "id": "6dfab293-a97b-4db2-bcef-e06ad8f7b6bb",
   "metadata": {},
   "source": [
    "### Getting the environment variables values"
   ]
  },
  {
   "cell_type": "code",
   "execution_count": 5,
   "id": "4588ca29-d391-4f41-a4d6-d5ee1dcd019d",
   "metadata": {},
   "outputs": [],
   "source": [
    "data_split=os.environ.get('DATA_SPLIT', 'validation')"
   ]
  },
  {
   "cell_type": "markdown",
   "id": "053f83aa-1831-4a34-9b03-329cc3452dd6",
   "metadata": {},
   "source": [
    "### Auxiliary functions definition"
   ]
  },
  {
   "cell_type": "code",
   "execution_count": 7,
   "id": "228dfdaf-cac9-4298-88b9-6214ad264d15",
   "metadata": {},
   "outputs": [],
   "source": [
    "def profile_json(df: DataFrame):\n",
    "    profile = ProfileReport(df = df)\n",
    "    profile_json = json.loads(profile.json)\n",
    "    \n",
    "    return profile_json\n",
    "\n",
    "def calculate_profile_diff(profiles: list):\n",
    "    return profiles"
   ]
  },
  {
   "cell_type": "markdown",
   "id": "b929cda4-1650-4619-85e4-2b21b23f388d",
   "metadata": {},
   "source": [
    "## Get metadata and dataset profiling"
   ]
  },
  {
   "cell_type": "code",
   "execution_count": 8,
   "id": "4d142a6f-3f7e-4f78-81dd-4d9a390c616f",
   "metadata": {},
   "outputs": [],
   "source": [
    "metadata = Metadata.load('bookings_metadata.pkl')"
   ]
  },
  {
   "cell_type": "code",
   "execution_count": 9,
   "id": "04e9fca5-ef73-414f-8920-48d424efe2e8",
   "metadata": {},
   "outputs": [],
   "source": [
    "data, y = load_sets(f'{data_split}.pkl')\n",
    "data.drop(['booking_changes'], axis=1, inplace=True)"
   ]
  },
  {
   "cell_type": "markdown",
   "id": "c3055158-7d0b-46ea-95ba-a0d10e41a8ee",
   "metadata": {},
   "source": [
    "## Prepare the data"
   ]
  },
  {
   "cell_type": "markdown",
   "id": "1b5d02dc-3448-43bd-a1dc-69ae944cd18c",
   "metadata": {},
   "source": [
    "### Load the methods and preprocessing pipeline"
   ]
  },
  {
   "cell_type": "code",
   "execution_count": 12,
   "id": "6e4c1f85-38b2-4758-a8ac-a22deeffb9a9",
   "metadata": {},
   "outputs": [],
   "source": [
    "with open('imputers.pkl', 'rb') as f:\n",
    "    imputers = load(f)\n",
    "    \n",
    "with open('encoders.pkl', 'rb') as f:\n",
    "    encoders= load(f)\n",
    "    \n",
    "with open('selected_vars.pkl', 'rb') as f:\n",
    "    selected_vars = load(f)\n",
    "    \n",
    "with open('cols_split.pkl', 'rb') as f:\n",
    "    cols_split = load(f)"
   ]
  },
  {
   "cell_type": "code",
   "execution_count": 15,
   "id": "f17a8d8c-67ea-4993-bf59-1786180fb2d7",
   "metadata": {},
   "outputs": [],
   "source": [
    "## Split Features into numerical and categorical\n",
    "num = data[cols_split['num']]\n",
    "char = data[cols_split['cat']]\n",
    "\n",
    "char = char.replace(np.nan, '')"
   ]
  },
  {
   "cell_type": "code",
   "execution_count": 16,
   "id": "9bc8857f-5f53-4da6-bc03-2d96ef553807",
   "metadata": {},
   "outputs": [],
   "source": [
    "for k, imputer in imputers.items():\n",
    "    if k=='cat':\n",
    "        char_i = pd.DataFrame(imputer.transform(char), index = char.index, columns=char.columns)\n",
    "    elif k=='num':\n",
    "        num_i = pd.DataFrame(imputer.transform(num), index = num.index, columns=num.columns)"
   ]
  },
  {
   "cell_type": "code",
   "execution_count": 17,
   "id": "65bc7aef-8322-48e8-a80c-9156d3a2c5d6",
   "metadata": {},
   "outputs": [
    {
     "name": "stdout",
     "output_type": "stream",
     "text": [
      "No booking changes ind\n"
     ]
    }
   ],
   "source": [
    "##Create new features\n",
    "num_i['day_wait_ind'] = np.where(num_i['days_in_waiting_list']>0, 1, 0)\n",
    "num_i['previous_bookings_not_canceled_ind'] = np.where(num_i['previous_bookings_not_canceled']>0, 1, 0)\n",
    "\n",
    "try:\n",
    "    num_i['booking_changes_ind'] = np.where(num_i['booking_changes']<0, 1, 0)\n",
    "except:\n",
    "    print('No booking changes ind')"
   ]
  },
  {
   "cell_type": "code",
   "execution_count": 18,
   "id": "604697f2-5b16-4e3d-8a8e-c171819ef18a",
   "metadata": {},
   "outputs": [],
   "source": [
    "#Encode the categorical features\n",
    "\n",
    "char_encoded = encoders.transform(char_i)"
   ]
  },
  {
   "cell_type": "code",
   "execution_count": 21,
   "id": "98aa8f0a-d2ca-4a1c-bff1-e31028c94631",
   "metadata": {},
   "outputs": [],
   "source": [
    "##Filter by the selected variables\n",
    "num_data = num_i[selected_vars['num']]\n",
    "char_data = char_encoded[selected_vars['cat']]"
   ]
  },
  {
   "cell_type": "code",
   "execution_count": 22,
   "id": "470fb4a0-efd7-40ab-8cdf-1a1c6f2ea3a4",
   "metadata": {},
   "outputs": [],
   "source": [
    "X_validation = pd.concat([char_data, num_data], axis=1, join='inner')"
   ]
  },
  {
   "cell_type": "markdown",
   "id": "f1a7ae1a-348b-49b3-93ba-5bf386bc5d89",
   "metadata": {},
   "source": [
    "## Pipeline Output"
   ]
  },
  {
   "cell_type": "code",
   "execution_count": 23,
   "id": "6e1f2724-a9d4-412c-af49-46027026698c",
   "metadata": {},
   "outputs": [],
   "source": [
    "## Add here more details\n",
    "pickle_sets(df=X_validation, y=y, path=f'dataprep_validation.pkl')"
   ]
  }
 ],
 "metadata": {
  "kernelspec": {
   "display_name": "Python 3 (ipykernel)",
   "language": "python",
   "name": "python3"
  },
  "language_info": {
   "codemirror_mode": {
    "name": "ipython",
    "version": 3
   },
   "file_extension": ".py",
   "mimetype": "text/x-python",
   "name": "python",
   "nbconvert_exporter": "python",
   "pygments_lexer": "ipython3",
   "version": "3.8.15"
  }
 },
 "nbformat": 4,
 "nbformat_minor": 5
}
