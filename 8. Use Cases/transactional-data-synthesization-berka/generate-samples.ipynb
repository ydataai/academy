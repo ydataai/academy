{
 "cells": [
  {
   "cell_type": "markdown",
   "id": "c535221d-79ad-4694-b451-5f2641bb90e5",
   "metadata": {},
   "source": [
    "# Generating sequential synthetic samples"
   ]
  },
  {
   "cell_type": "markdown",
   "id": "a0f2c7fe-6700-499d-a2fd-72be2f6247a6",
   "metadata": {},
   "source": [
    "#### Importing the required packages"
   ]
  },
  {
   "cell_type": "code",
   "execution_count": null,
   "id": "edeb1671-f999-4240-b8d1-114fb063b0dc",
   "metadata": {},
   "outputs": [],
   "source": [
    "import os \n",
    "import json\n",
    "import pickle as pkl\n",
    "import pandas as pd\n",
    "\n",
    "from ydata.connectors import GCSConnector\n",
    "from ydata.connectors import LocalConnector\n",
    "from ydata.utils.formats import read_json\n",
    "from ydata.connectors.filetype import FileType\n",
    "\n",
    "from ydata.synthesizers.timeseries import TimeSeriesSynthesizer\n",
    "from ydata.metadata import Metadata\n",
    "from ydata.dataset import Dataset\n",
    "from ydata.utils.data_types import DataType"
   ]
  },
  {
   "cell_type": "code",
   "execution_count": null,
   "id": "ddc7021c-78e8-4c29-8071-6caa820d1db4",
   "metadata": {},
   "outputs": [],
   "source": [
    "def generate(nsamples: int):\n",
    "    synth = TimeSeriesSynthesizer.load('outputs/model.pkl')\n",
    "    return synth.sample(n_samples=n_samples)"
   ]
  },
  {
   "cell_type": "markdown",
   "id": "23e4750a-2875-40b0-87b7-a9ff96757a97",
   "metadata": {},
   "source": [
    "#### Loading the artifacts from previous steps"
   ]
  },
  {
   "cell_type": "code",
   "execution_count": null,
   "id": "01dc1f97-1c6c-4737-b0b2-e6b633c37f50",
   "metadata": {},
   "outputs": [],
   "source": [
    "#Check wether the synth is already trained\n",
    "with open('outputs/shape.json', 'r') as shape:\n",
    "    real_shape = json.load(shape)"
   ]
  },
  {
   "cell_type": "code",
   "execution_count": null,
   "id": "5317a33d-1980-4da8-a402-ac92f7cd951c",
   "metadata": {},
   "outputs": [],
   "source": [
    "try:\n",
    "    n_samples=os.environ['NSAMPLE']\n",
    "except KeyError:\n",
    "    n_samples=real_shape[0][1]\n",
    "    \n",
    "try:\n",
    "    path=os.environ['OUTPUT_PATH']\n",
    "except KeyError:\n",
    "    path='gs://ydata_testdata/timeseries/berka/synth_samples.csv'"
   ]
  },
  {
   "cell_type": "markdown",
   "id": "cb6a4fe6-36ca-4889-9d9f-bb2bb2a935c3",
   "metadata": {},
   "source": [
    "## Generating synthetic samples"
   ]
  },
  {
   "cell_type": "code",
   "execution_count": null,
   "id": "36b12bca-60ad-4654-b526-694658a5ef10",
   "metadata": {},
   "outputs": [],
   "source": [
    "synth_samples = generate(nsamples=n_samples)"
   ]
  },
  {
   "cell_type": "code",
   "execution_count": null,
   "id": "fe7efd02-2102-4476-9bf8-c20d1679fc4e",
   "metadata": {},
   "outputs": [],
   "source": [
    "# Initialize the local connector\n",
    "connector = LocalConnector()\n",
    "connector.write_file(data= synth_samples, path='outputs/synth_data.csv', index=False)"
   ]
  },
  {
   "cell_type": "markdown",
   "id": "82030228-8c26-44de-a113-c347278b5981",
   "metadata": {},
   "source": [
    "### Saving generated samples to a remote storage"
   ]
  },
  {
   "cell_type": "markdown",
   "id": "d8c5bf2d-a222-4cdb-9c1a-42e6fcdcd924",
   "metadata": {},
   "source": [
    "#### Init the connector to the remote storage"
   ]
  },
  {
   "cell_type": "code",
   "execution_count": null,
   "id": "9e1515fe-25de-4c3b-b8e1-11344e273bed",
   "metadata": {},
   "outputs": [],
   "source": [
    "token = read_json('credentials/gcs_credentials.json')\n",
    "read_connector = GCSConnector('ydatasynthetic', keyfile_dict=token)"
   ]
  },
  {
   "cell_type": "markdown",
   "id": "563a5f21-5b30-4d27-b0a0-bacd8a25103c",
   "metadata": {},
   "source": [
    "#### Write to a provided path"
   ]
  },
  {
   "cell_type": "code",
   "execution_count": null,
   "id": "d748dba4-d59b-4ee6-a62b-af4196a07e07",
   "metadata": {},
   "outputs": [],
   "source": [
    "read_connector.write_file(data=synth_samples, path=path, file_type = FileType.CSV)"
   ]
  },
  {
   "cell_type": "code",
   "execution_count": null,
   "id": "90664c28-98fc-496b-89c0-7aa62f494fa2",
   "metadata": {},
   "outputs": [],
   "source": [
    "metadata = {\n",
    "    'outputs' : [{\n",
    "      'type': 'table',\n",
    "      'storage': 'inline',\n",
    "      'format': 'csv',\n",
    "      'header': list(synth_samples.columns),\n",
    "      'source': str(synth_samples)\n",
    "    }]\n",
    "  }\n",
    "\n",
    "with open(\"mlpipeline-ui-metadata.json\", 'w') as metadata_file:\n",
    "    json.dump(metadata, metadata_file)"
   ]
  }
 ],
 "metadata": {
  "kernelspec": {
   "display_name": "Python 3 (ipykernel)",
   "language": "python",
   "name": "python3"
  },
  "language_info": {
   "codemirror_mode": {
    "name": "ipython",
    "version": 3
   },
   "file_extension": ".py",
   "mimetype": "text/x-python",
   "name": "python",
   "nbconvert_exporter": "python",
   "pygments_lexer": "ipython3",
   "version": "3.7.11"
  }
 },
 "nbformat": 4,
 "nbformat_minor": 5
}
