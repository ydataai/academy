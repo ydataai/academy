{
 "cells": [
  {
   "cell_type": "markdown",
   "id": "81a18317-7446-4f53-b0c9-79b1f29bc53e",
   "metadata": {},
   "source": [
    "# Training a sequential synthesizer"
   ]
  },
  {
   "cell_type": "markdown",
   "id": "b7e2666c-4516-4eee-bb17-b89ca56bee6a",
   "metadata": {},
   "source": [
    "### Import required packages"
   ]
  },
  {
   "cell_type": "code",
   "execution_count": 1,
   "id": "8345fb85-be4f-4ee6-a308-370ed7a0d624",
   "metadata": {},
   "outputs": [],
   "source": [
    "import os \n",
    "import json\n",
    "import pickle as pkl\n",
    "import pandas as pd\n",
    "\n",
    "from ydata.synthesizers.timeseries import TimeSeriesSynthesizer\n",
    "from ydata.metadata import Metadata\n",
    "from ydata.dataset import Dataset\n",
    "from ydata.utils.data_types import DataType"
   ]
  },
  {
   "cell_type": "markdown",
   "id": "f59ce3e9-9b1e-4558-abf8-1325a6c4751f",
   "metadata": {},
   "source": [
    "In order to have the pipeline running smoothly we encourage to always create validation mechanisms."
   ]
  },
  {
   "cell_type": "code",
   "execution_count": 2,
   "id": "a9126df9-856a-40f8-8d2d-d48361454bda",
   "metadata": {},
   "outputs": [],
   "source": [
    "def import_validations(dataset: pd.DataFrame, dataset_sttr: dict, column: dict):\n",
    "    return True"
   ]
  },
  {
   "cell_type": "markdown",
   "id": "621b71ca-6930-4d1a-af6f-428e735a7dd0",
   "metadata": {},
   "source": [
    "### Getting the required elements\n",
    "As a first step we have to read and init the output elements from the last step of the pipeline"
   ]
  },
  {
   "cell_type": "code",
   "execution_count": 3,
   "id": "3de5381d-4cd9-4904-ba0c-083846ac66f8",
   "metadata": {},
   "outputs": [],
   "source": [
    "#Getting the dataset header columns\n",
    "with open('outputs/dataset_attrs.json', 'r') as attributes:\n",
    "    dataset_attr=dict(json.load(attributes))\n",
    "\n",
    "#Getting the defined dataset attributes\n",
    "with open('outputs/data_columns.pkl', 'rb') as columns:\n",
    "    columns= pkl.load(columns)\n",
    "\n",
    "column_names = [col for col in columns.keys()]\n",
    "\n",
    "#Reading the dataset\n",
    "real_data = Dataset(pd.read_csv('outputs/real_data.csv', names=column_names))"
   ]
  },
  {
   "cell_type": "code",
   "execution_count": 4,
   "id": "fac47771-eba6-4caf-bb0f-ee33b76d5a4a",
   "metadata": {},
   "outputs": [
    {
     "name": "stdout",
     "output_type": "stream",
     "text": [
      "[########################################] | 100% Completed |  2.3s\n"
     ]
    }
   ],
   "source": [
    "#Init the metadata to be provided to the synthesizer\n",
    "metadata = Metadata()\n",
    "metadata(real_data, dataset_attrs=dataset_attr)\n",
    "\n",
    "metadata.columns['date'].datatype = DataType.NUMERICAL"
   ]
  },
  {
   "cell_type": "markdown",
   "id": "2d36cd72-199c-4f6c-b30f-2c73e0cafa8f",
   "metadata": {},
   "source": [
    "## Fitting a sequential data synthesizer"
   ]
  },
  {
   "cell_type": "markdown",
   "id": "a354bc62-3a54-4fc3-b425-a28f8ae54e40",
   "metadata": {},
   "source": [
    "#### Init & fit of the synthesizer"
   ]
  },
  {
   "cell_type": "code",
   "execution_count": 5,
   "id": "c39722a5-268d-497d-b9ba-74cc2baeb611",
   "metadata": {},
   "outputs": [
    {
     "name": "stdout",
     "output_type": "stream",
     "text": [
      "INFO: 2022-02-13 22:28:17,147 [SYNTHESIZER] - Initializing Time Series SYNTHESIZER.\n",
      "INFO: 2022-02-13 22:28:17,389 [SYNTHESIZER] - Starting the synthetic data generation process.\n"
     ]
    },
    {
     "data": {
      "text/plain": [
       "<ydata.synthesizers.timeseries.model.TimeSeriesSynthesizer at 0x7f4a891c8d10>"
      ]
     },
     "execution_count": 5,
     "metadata": {},
     "output_type": "execute_result"
    }
   ],
   "source": [
    "synth = TimeSeriesSynthesizer()\n",
    "synth.fit(real_data, metadata=metadata)"
   ]
  },
  {
   "cell_type": "markdown",
   "id": "6ae8776f-30ad-4043-8259-e7c6943ba94f",
   "metadata": {},
   "source": [
    "#### Saving the fitted synthesizer"
   ]
  },
  {
   "cell_type": "code",
   "execution_count": 6,
   "id": "fd50754f-7799-4859-ab4d-a03b1c1ba583",
   "metadata": {},
   "outputs": [
    {
     "name": "stdout",
     "output_type": "stream",
     "text": [
      "None\n",
      "INFO: 2022-02-13 22:28:57,248 [SYNTHESIZER] - Saving SYNTHESIZER state.\n"
     ]
    }
   ],
   "source": [
    "print(os.getenv('MODEL_PATH'))\n",
    "synth.save('outputs/model.pkl')"
   ]
  },
  {
   "cell_type": "code",
   "execution_count": null,
   "id": "24d8565f-3dd2-412d-bc4b-b6ca3bdacdfb",
   "metadata": {},
   "outputs": [],
   "source": []
  }
 ],
 "metadata": {
  "kernelspec": {
   "display_name": "Python 3 (ipykernel)",
   "language": "python",
   "name": "python3"
  },
  "language_info": {
   "codemirror_mode": {
    "name": "ipython",
    "version": 3
   },
   "file_extension": ".py",
   "mimetype": "text/x-python",
   "name": "python",
   "nbconvert_exporter": "python",
   "pygments_lexer": "ipython3",
   "version": "3.7.11"
  }
 },
 "nbformat": 4,
 "nbformat_minor": 5
}
