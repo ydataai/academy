{
 "cells": [
  {
   "cell_type": "markdown",
   "id": "25cc270e-7d90-41db-92a3-f81c16b077f1",
   "metadata": {
    "papermill": {
     "duration": 0.040908,
     "end_time": "2022-12-06T16:21:44.038867",
     "exception": false,
     "start_time": "2022-12-06T16:21:43.997959",
     "status": "completed"
    },
    "tags": []
   },
   "source": [
    "# Install requirements"
   ]
  },
  {
   "cell_type": "code",
   "execution_count": 1,
   "id": "b556407f-f705-41a9-ab36-36608855bee2",
   "metadata": {
    "execution": {
     "iopub.execute_input": "2022-12-06T16:21:44.122659Z",
     "iopub.status.busy": "2022-12-06T16:21:44.121841Z",
     "iopub.status.idle": "2022-12-06T16:21:47.278342Z",
     "shell.execute_reply": "2022-12-06T16:21:47.277373Z"
    },
    "papermill": {
     "duration": 3.200827,
     "end_time": "2022-12-06T16:21:47.280469",
     "exception": false,
     "start_time": "2022-12-06T16:21:44.079642",
     "status": "completed"
    },
    "tags": []
   },
   "outputs": [],
   "source": [
    "%%capture\n",
    "!pip install sdv"
   ]
  },
  {
   "cell_type": "markdown",
   "id": "9870a229-b56a-4759-8e71-159195a0f1e6",
   "metadata": {
    "papermill": {
     "duration": 0.041154,
     "end_time": "2022-12-06T16:21:47.363348",
     "exception": false,
     "start_time": "2022-12-06T16:21:47.322194",
     "status": "completed"
    },
    "tags": []
   },
   "source": [
    "# Model Evaluation"
   ]
  },
  {
   "cell_type": "code",
   "execution_count": 2,
   "id": "9c4db3ec-4f2f-46a0-acd9-ef636f3d2d7c",
   "metadata": {
    "execution": {
     "iopub.execute_input": "2022-12-06T16:21:47.451503Z",
     "iopub.status.busy": "2022-12-06T16:21:47.450881Z",
     "iopub.status.idle": "2022-12-06T16:21:49.498565Z",
     "shell.execute_reply": "2022-12-06T16:21:49.497830Z"
    },
    "papermill": {
     "duration": 2.094567,
     "end_time": "2022-12-06T16:21:49.500664",
     "exception": false,
     "start_time": "2022-12-06T16:21:47.406097",
     "status": "completed"
    },
    "tags": []
   },
   "outputs": [],
   "source": [
    "from typing import Dict\n",
    "from sdmetrics.reports.single_table import QualityReport\n",
    "from pandas import read_csv\n",
    "import time\n",
    "import os\n",
    "from pathlib import Path\n",
    "\n",
    "from ydata.metadata import Metadata\n",
    "from ydata.dataset import Dataset\n",
    "\n",
    "from common.config import *\n",
    "from common.utils import update_json_file, ndd, ndd_to_dict, load_dataframe, get_model_class\n",
    "from common.sdv import fabric_to_sdv_metadata\n",
    "\n",
    "def convert_metadata(model_name: str, dataset_name: str) -> Dict:\n",
    "    metadata = Metadata.load(str(Path(DATASET_PATH) / f'{dataset_name}_all.metadata.pkl'))\n",
    "    sdv_metadata = fabric_to_sdv_metadata(metadata)\n",
    "    sdv_metadata = sdv_metadata.to_dict()\n",
    "    json_object = json.dumps(sdv_metadata, indent=4)\n",
    "    with open(Path(DATASET_PATH) / f'{dataset_name}_all.metadata.sdv.json', \"w\") as outfile:\n",
    "        outfile.write(json_object)\n",
    "\n",
    "\n",
    "def convert_all_metadatal():\n",
    "    datasets_config = get_datsets_config()\n",
    "    models_config = get_models_config()\n",
    "\n",
    "    for dataset_name in datasets_config.keys():\n",
    "        print(f'# Holdout on {dataset_name}')\n",
    "        for model_name in models_config.keys():\n",
    "            print(f'# Model {model_name} on {dataset_name}')\n",
    "            try:\n",
    "                convert_metadata(model_name, dataset_name)\n",
    "            except Exception as e:\n",
    "                print('Could not convert the metadata')\n",
    "                print(e)\n",
    "\n"
   ]
  },
  {
   "cell_type": "code",
   "execution_count": 3,
   "id": "9f6268e1-b1a8-4fb5-bce4-363c649fac23",
   "metadata": {
    "execution": {
     "iopub.execute_input": "2022-12-06T16:21:49.587400Z",
     "iopub.status.busy": "2022-12-06T16:21:49.586481Z",
     "iopub.status.idle": "2022-12-06T16:21:49.763642Z",
     "shell.execute_reply": "2022-12-06T16:21:49.761703Z"
    },
    "papermill": {
     "duration": 0.221155,
     "end_time": "2022-12-06T16:21:49.764914",
     "exception": true,
     "start_time": "2022-12-06T16:21:49.543759",
     "status": "failed"
    },
    "tags": []
   },
   "outputs": [
    {
     "ename": "FileNotFoundError",
     "evalue": "[Errno 2] No such file or directory: '/mount/laboratory/ec9ddafc-a127-4444-af4a-b76735f9e4c3/config/datasets.json'",
     "output_type": "error",
     "traceback": [
      "\u001b[0;31m---------------------------------------------------------------------------\u001b[0m",
      "\u001b[0;31mFileNotFoundError\u001b[0m                         Traceback (most recent call last)",
      "Cell \u001b[0;32mIn [3], line 1\u001b[0m\n\u001b[0;32m----> 1\u001b[0m \u001b[43mconvert_all_metadatal\u001b[49m\u001b[43m(\u001b[49m\u001b[43m)\u001b[49m\n",
      "Cell \u001b[0;32mIn [2], line 25\u001b[0m, in \u001b[0;36mconvert_all_metadatal\u001b[0;34m()\u001b[0m\n\u001b[1;32m     24\u001b[0m \u001b[38;5;28;01mdef\u001b[39;00m \u001b[38;5;21mconvert_all_metadatal\u001b[39m():\n\u001b[0;32m---> 25\u001b[0m     datasets_config \u001b[38;5;241m=\u001b[39m \u001b[43mget_datsets_config\u001b[49m\u001b[43m(\u001b[49m\u001b[43m)\u001b[49m\n\u001b[1;32m     26\u001b[0m     models_config \u001b[38;5;241m=\u001b[39m get_models_config()\n\u001b[1;32m     28\u001b[0m     \u001b[38;5;28;01mfor\u001b[39;00m dataset_name \u001b[38;5;129;01min\u001b[39;00m datasets_config\u001b[38;5;241m.\u001b[39mkeys():\n",
      "File \u001b[0;32m/mnt/laboratory/ec9ddafc-a127-4444-af4a-b76735f9e4c3/common/config.py:34\u001b[0m, in \u001b[0;36mget_datsets_config\u001b[0;34m(config_path)\u001b[0m\n\u001b[1;32m     33\u001b[0m \u001b[38;5;28;01mdef\u001b[39;00m \u001b[38;5;21mget_datsets_config\u001b[39m(config_path \u001b[38;5;241m=\u001b[39m Path(CONFIG_PATH) \u001b[38;5;241m/\u001b[39m \u001b[38;5;124m'\u001b[39m\u001b[38;5;124mdatasets.json\u001b[39m\u001b[38;5;124m'\u001b[39m):\n\u001b[0;32m---> 34\u001b[0m      \u001b[38;5;28;01mreturn\u001b[39;00m \u001b[43mload_config\u001b[49m\u001b[43m(\u001b[49m\u001b[43mconfig_path\u001b[49m\u001b[43m)\u001b[49m\n",
      "File \u001b[0;32m/mnt/laboratory/ec9ddafc-a127-4444-af4a-b76735f9e4c3/common/config.py:30\u001b[0m, in \u001b[0;36mload_config\u001b[0;34m(config_path)\u001b[0m\n\u001b[1;32m     29\u001b[0m \u001b[38;5;28;01mdef\u001b[39;00m \u001b[38;5;21mload_config\u001b[39m(config_path):\n\u001b[0;32m---> 30\u001b[0m     f \u001b[38;5;241m=\u001b[39m \u001b[38;5;28;43mopen\u001b[39;49m\u001b[43m(\u001b[49m\u001b[43mconfig_path\u001b[49m\u001b[43m)\u001b[49m\n\u001b[1;32m     31\u001b[0m     \u001b[38;5;28;01mreturn\u001b[39;00m json\u001b[38;5;241m.\u001b[39mload(f)\n",
      "\u001b[0;31mFileNotFoundError\u001b[0m: [Errno 2] No such file or directory: '/mount/laboratory/ec9ddafc-a127-4444-af4a-b76735f9e4c3/config/datasets.json'"
     ]
    }
   ],
   "source": [
    "convert_all_metadatal()"
   ]
  },
  {
   "cell_type": "code",
   "execution_count": null,
   "id": "e171ba56-4592-41df-84b3-5a8897d6b831",
   "metadata": {
    "papermill": {
     "duration": null,
     "end_time": null,
     "exception": null,
     "start_time": null,
     "status": "pending"
    },
    "tags": []
   },
   "outputs": [],
   "source": []
  }
 ],
 "metadata": {
  "kernelspec": {
   "display_name": "Python 3 (ipykernel)",
   "language": "python",
   "name": "python3"
  },
  "language_info": {
   "codemirror_mode": {
    "name": "ipython",
    "version": 3
   },
   "file_extension": ".py",
   "mimetype": "text/x-python",
   "name": "python",
   "nbconvert_exporter": "python",
   "pygments_lexer": "ipython3",
   "version": "3.7.4"
  },
  "papermill": {
   "default_parameters": {},
   "duration": 7.461595,
   "end_time": "2022-12-06T16:21:50.323046",
   "environment_variables": {},
   "exception": true,
   "input_path": "/mnt/laboratory/ec9ddafc-a127-4444-af4a-b76735f9e4c3/041_metadata_to_SDV.ipynb",
   "output_path": "/mnt/laboratory/ec9ddafc-a127-4444-af4a-b76735f9e4c3/041_metadata_to_SDV.ipynb",
   "parameters": {},
   "start_time": "2022-12-06T16:21:42.861451",
   "version": "2.4.0"
  }
 },
 "nbformat": 4,
 "nbformat_minor": 5
}
