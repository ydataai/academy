{
 "cells": [
  {
   "cell_type": "code",
   "execution_count": null,
   "id": "5a685c9b-0726-4254-92bc-f1e1aec91a00",
   "metadata": {},
   "outputs": [],
   "source": [
    "from common.config import get_analysis_config\n",
    "\n",
    "from pandas import DataFrame as pdDataFrame, read_json as pd_read_json"
   ]
  },
  {
   "cell_type": "code",
   "execution_count": 4,
   "id": "a3a48e3d-3f9e-486a-ad1c-9b9e83d49696",
   "metadata": {},
   "outputs": [
    {
     "data": {
      "text/html": [
       "<div>\n",
       "<style scoped>\n",
       "    .dataframe tbody tr th:only-of-type {\n",
       "        vertical-align: middle;\n",
       "    }\n",
       "\n",
       "    .dataframe tbody tr th {\n",
       "        vertical-align: top;\n",
       "    }\n",
       "\n",
       "    .dataframe thead th {\n",
       "        text-align: right;\n",
       "    }\n",
       "</style>\n",
       "<table border=\"1\" class=\"dataframe\">\n",
       "  <thead>\n",
       "    <tr style=\"text-align: right;\">\n",
       "      <th></th>\n",
       "      <th>sdv.adult</th>\n",
       "      <th>sdv.adult - training</th>\n",
       "      <th>sdv.adult - sample</th>\n",
       "    </tr>\n",
       "  </thead>\n",
       "  <tbody>\n",
       "    <tr>\n",
       "      <th>fabric.regular</th>\n",
       "      <td>234.812302</td>\n",
       "      <td>231.980674</td>\n",
       "      <td>2.831629</td>\n",
       "    </tr>\n",
       "    <tr>\n",
       "      <th>sdv.tabular</th>\n",
       "      <td>1.167056</td>\n",
       "      <td>0.725372</td>\n",
       "      <td>0.441684</td>\n",
       "    </tr>\n",
       "  </tbody>\n",
       "</table>\n",
       "</div>"
      ],
      "text/plain": [
       "                 sdv.adult  sdv.adult - training  sdv.adult - sample\n",
       "fabric.regular  234.812302            231.980674            2.831629\n",
       "sdv.tabular       1.167056              0.725372            0.441684"
      ]
     },
     "execution_count": 4,
     "metadata": {},
     "output_type": "execute_result"
    }
   ],
   "source": [
    "analysis_config = get_analysis_config()\n",
    "path = analysis_config['output_files']['timers']\n",
    "\n",
    "eval_df = pd_read_json(path)\n",
    "\n",
    "for c in eval_df.columns:\n",
    "    keys = ['training', 'sample']\n",
    "    c_names = [f'{c} - {e}' for e in keys]\n",
    "    for e, k in zip(keys, c_names):\n",
    "        eval_df[k] = eval_df[c].apply(lambda x: x[e] if isinstance(x, dict) else x)\n",
    "    eval_df[c] = eval_df[c_names].sum(axis=1)\n",
    "eval_time_df = eval_df\n",
    "eval_time_df"
   ]
  },
  {
   "cell_type": "code",
   "execution_count": null,
   "id": "88bc3af5-f6a8-456c-b93c-13b196acad4d",
   "metadata": {},
   "outputs": [],
   "source": [
    "from common.config import get_models_config, get_datsets_config"
   ]
  },
  {
   "cell_type": "code",
   "execution_count": 5,
   "id": "20dceb80-3720-40e6-9142-75d387414c3a",
   "metadata": {},
   "outputs": [
    {
     "data": {
      "text/html": [
       "<div>\n",
       "<style scoped>\n",
       "    .dataframe tbody tr th:only-of-type {\n",
       "        vertical-align: middle;\n",
       "    }\n",
       "\n",
       "    .dataframe tbody tr th {\n",
       "        vertical-align: top;\n",
       "    }\n",
       "\n",
       "    .dataframe thead th {\n",
       "        text-align: right;\n",
       "    }\n",
       "</style>\n",
       "<table border=\"1\" class=\"dataframe\">\n",
       "  <thead>\n",
       "    <tr style=\"text-align: right;\">\n",
       "      <th></th>\n",
       "      <th>sdv.adult</th>\n",
       "    </tr>\n",
       "  </thead>\n",
       "  <tbody>\n",
       "    <tr>\n",
       "      <th>fabric.regular</th>\n",
       "      <td>234.812302</td>\n",
       "    </tr>\n",
       "    <tr>\n",
       "      <th>sdv.tabular</th>\n",
       "      <td>1.167056</td>\n",
       "    </tr>\n",
       "  </tbody>\n",
       "</table>\n",
       "</div>"
      ],
      "text/plain": [
       "                 sdv.adult\n",
       "fabric.regular  234.812302\n",
       "sdv.tabular       1.167056"
      ]
     },
     "execution_count": 5,
     "metadata": {},
     "output_type": "execute_result"
    }
   ],
   "source": [
    "datasets_list = get_datsets_config().keys()\n",
    "models_list = [k for k,v in get_models_config().items() if v.get('enabled', True)]\n",
    "eval_df_total = eval_time_df[[c for c in datasets_list if c in eval_time_df.columns]]\n",
    "eval_df_total"
   ]
  },
  {
   "cell_type": "code",
   "execution_count": 10,
   "id": "3577b26f-3f5b-4a31-a890-c1aecb83b178",
   "metadata": {},
   "outputs": [
    {
     "data": {
      "image/png": "[encoded data removed]",
      "text/plain": [
       "<Figure size 640x480 with 1 Axes>"
      ]
     },
     "metadata": {},
     "output_type": "display_data"
    }
   ],
   "source": [
    "import numpy as np\n",
    "import matplotlib.pyplot as plt\n",
    "from io import BytesIO\n",
    "import base64\n",
    "from pathlib import Path\n",
    "\n",
    "from common.config import ANALYSIS_PLOTS_PATH\n",
    "\n",
    "encoded_imgs = {}\n",
    "\n",
    "for dataset in datasets_list:\n",
    "    bars_training = eval_time_df[f'{dataset} - training']\n",
    "    bars_sampling = eval_time_df[f'{dataset} - sample']\n",
    "    y_pos = np.arange(len(bars_training))\n",
    "    \n",
    "    plt.bar(y_pos, bars_training, label='Fitting')\n",
    "    plt.bar(y_pos, bars_sampling, bottom=bars_training,  label='Sampling')\n",
    "        \n",
    "    plt.xticks(y_pos, models_list)\n",
    "    plt.xticks(rotation = 45)\n",
    "    plt.title(f'Total time to fit and sample a model on {dataset}')\n",
    "    plt.xlabel('Models')\n",
    "    plt.ylabel('Times (s)')\n",
    "    plt.legend()\n",
    "    plt.tight_layout()\n",
    "    \n",
    "    p = Path(ANALYSIS_PLOTS_PATH)\n",
    "\n",
    "    plt.savefig(p / f\"time_{dataset}.png\")\n",
    "    tmpfile = BytesIO()\n",
    "    plt.savefig(tmpfile, format='png')\n",
    "    encoded_imgs[dataset] = base64.b64encode(tmpfile.getvalue()).decode('utf-8')\n",
    "    \n",
    "    plt.show()\n"
   ]
  },
  {
   "cell_type": "code",
   "execution_count": 11,
   "id": "7e7e83e3-f565-4e2d-b396-81e7591d4aa3",
   "metadata": {},
   "outputs": [],
   "source": [
    "import json\n",
    "\n",
    "metadata = {\n",
    "    \"outputs\": [\n",
    "        {\n",
    "          \"type\": \"table\",\n",
    "          \"storage\": \"inline\",\n",
    "          \"format\": \"csv\",\n",
    "          \"header\": [\" \"] + list(eval_time_df.columns),\n",
    "          \"source\": eval_time_df.to_csv()\n",
    "        }\n",
    "    ]\n",
    "  }\n",
    "\n",
    "for dataset, encoded in encoded_imgs.items():\n",
    "    metadata['outputs'].append(\n",
    "        {\n",
    "          \"type\": \"web-app\",\n",
    "          \"storage\": \"inline\",\n",
    "          \"source\": f\"<img src='data:image/png;base64,{encoded}'>\",\n",
    "        }\n",
    "    )\n",
    "\n",
    "with open(\"mlpipeline-ui-metadata.json\", \"w\") as metadata_file:\n",
    "    json.dump(metadata, metadata_file)"
   ]
  },
  {
   "cell_type": "code",
   "execution_count": null,
   "id": "6e47cdb0-83df-41b7-9c73-f8f5043d80d9",
   "metadata": {},
   "outputs": [],
   "source": []
  }
 ],
 "metadata": {
  "kernelspec": {
   "display_name": "Python 3 (ipykernel)",
   "language": "python",
   "name": "python3"
  },
  "language_info": {
   "codemirror_mode": {
    "name": "ipython",
    "version": 3
   },
   "file_extension": ".py",
   "mimetype": "text/x-python",
   "name": "python",
   "nbconvert_exporter": "python",
   "pygments_lexer": "ipython3",
   "version": "3.7.4"
  }
 },
 "nbformat": 4,
 "nbformat_minor": 5
}
