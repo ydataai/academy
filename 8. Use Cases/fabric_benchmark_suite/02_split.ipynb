{
 "cells": [
  {
   "cell_type": "markdown",
   "id": "01b60762-0805-4288-bc42-9cb1041612c8",
   "metadata": {},
   "source": [
    "# Split the datasets\n",
    "\n",
    "We prepare the dataset by splitting them into a training and a holdout.   \n",
    "For each dataset, we calculate the metadata object for the whole dataset, the training set and the holdout.   "
   ]
  },
  {
   "cell_type": "code",
   "execution_count": 1,
   "id": "6bb4756e-7fe6-44b7-967d-dfadf396099b",
   "metadata": {},
   "outputs": [
    {
     "name": "stdout",
     "output_type": "stream",
     "text": [
      "# Get sdv.adult\n",
      " -> Load metadada\n",
      " -> Holdout files already exists...\n"
     ]
    }
   ],
   "source": [
    "import os\n",
    "from pathlib import Path\n",
    "\n",
    "from ydata.dataset.holdout import Holdout\n",
    "from ydata.metadata.column import Column\n",
    "from ydata.metadata import Metadata\n",
    "from ydata.dataset import Dataset\n",
    "from ydata.utils.data_types import DataType\n",
    "\n",
    "from common.config import *\n",
    "from common.utils import load_dataframe\n",
    "\n",
    "datasets_config = get_datsets_config()\n",
    "\n",
    "for name in datasets_config.keys():\n",
    "    print(f'# Get {name}')\n",
    "    metadata_path = str(Path(DATASET_PATH) / f'{name}_all.metadata.pkl')\n",
    "    dataset = Dataset(load_dataframe(name))\n",
    "    if os.path.isfile(metadata_path):\n",
    "        print(' -> Load metadada')\n",
    "        metadata = Metadata.load(metadata_path)\n",
    "    else:\n",
    "        metadata = Metadata(dataset)\n",
    "        for k, v in metadata.columns.items():\n",
    "            if v.datatype == DataType.LONGTEXT:\n",
    "                metadata.columns[k] = Column(k, DataType.CATEGORICAL, v.vartype)\n",
    "        metadata.save(metadata_path)\n",
    "    \n",
    "    metadata_train_path = str(Path(DATASET_PATH) / f'{name}_train.metadata.pkl')\n",
    "    metadata_holdout_path = str(Path(DATASET_PATH) / f'{name}_holdout.metadata.pkl')\n",
    "    dataset_train_path = Path(DATASET_PATH) / f'{name}_train.csv'\n",
    "    dataset_holdout_path = Path(DATASET_PATH) / f'{name}_holdout.csv'\n",
    "    \n",
    "    # If we are missing any file regarding the split, we recreate a split from scratch to avoid inconsistency\n",
    "    if not os.path.isfile(metadata_train_path) \\\n",
    "        or not os.path.isfile(metadata_holdout_path) \\\n",
    "        or not os.path.isfile(dataset_train_path) \\\n",
    "        or not os.path.isfile(dataset_holdout_path):\n",
    "        train, holdout = Holdout().get_split(dataset, metadata)\n",
    "\n",
    "        metadata_train = Metadata(train)\n",
    "        for k, v in metadata_train.columns.items():\n",
    "            if v.datatype == DataType.LONGTEXT:\n",
    "                metadata_train.columns[k] = Column(k, DataType.CATEGORICAL, v.vartype)\n",
    "        metadata_train.save(metadata_train_path)\n",
    "\n",
    "        metadata_holdout = Metadata(holdout)\n",
    "        for k, v in metadata_holdout.columns.items():\n",
    "            if v.datatype == DataType.LONGTEXT:\n",
    "                metadata_holdout.columns[k] = Column(k, DataType.CATEGORICAL, v.vartype)\n",
    "        metadata_holdout.save(metadata_holdout_path)\n",
    "\n",
    "        train_df = train.to_pandas() \n",
    "        train_df.to_csv(dataset_train_path, index=False)\n",
    "\n",
    "        holdout_df = holdout.to_pandas() \n",
    "        holdout_df.to_csv(dataset_holdout_path, index=False)\n",
    "    else:\n",
    "        print(' -> Holdout files already exists...')"
   ]
  },
  {
   "cell_type": "code",
   "execution_count": null,
   "id": "919b7179-dce0-4c8f-8d72-4e11a17e9f06",
   "metadata": {},
   "outputs": [],
   "source": []
  }
 ],
 "metadata": {
  "kernelspec": {
   "display_name": "Python 3 (ipykernel)",
   "language": "python",
   "name": "python3"
  },
  "language_info": {
   "codemirror_mode": {
    "name": "ipython",
    "version": 3
   },
   "file_extension": ".py",
   "mimetype": "text/x-python",
   "name": "python",
   "nbconvert_exporter": "python",
   "pygments_lexer": "ipython3",
   "version": "3.7.4"
  }
 },
 "nbformat": 4,
 "nbformat_minor": 5
}
