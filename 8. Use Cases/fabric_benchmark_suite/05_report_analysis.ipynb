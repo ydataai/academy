{
 "cells": [
  {
   "cell_type": "code",
   "execution_count": 1,
   "id": "85301e15-d5c8-4ef0-b4b5-115c454b7cbb",
   "metadata": {},
   "outputs": [
    {
     "data": {
      "text/html": [
       "<div>\n",
       "<style scoped>\n",
       "    .dataframe tbody tr th:only-of-type {\n",
       "        vertical-align: middle;\n",
       "    }\n",
       "\n",
       "    .dataframe tbody tr th {\n",
       "        vertical-align: top;\n",
       "    }\n",
       "\n",
       "    .dataframe thead th {\n",
       "        text-align: right;\n",
       "    }\n",
       "</style>\n",
       "<table border=\"1\" class=\"dataframe\">\n",
       "  <thead>\n",
       "    <tr style=\"text-align: right;\">\n",
       "      <th></th>\n",
       "      <th>sdv.adult</th>\n",
       "    </tr>\n",
       "  </thead>\n",
       "  <tbody>\n",
       "    <tr>\n",
       "      <th>fabric.regular</th>\n",
       "      <td>{'sdv': {'score': 0.992828731244727, 'properti...</td>\n",
       "    </tr>\n",
       "    <tr>\n",
       "      <th>holdout</th>\n",
       "      <td>{'sdv': {'score': 0.9976801464742051, 'propert...</td>\n",
       "    </tr>\n",
       "    <tr>\n",
       "      <th>sdv.tabular</th>\n",
       "      <td>{'sdv': {'score': 0.85401852627936, 'propertie...</td>\n",
       "    </tr>\n",
       "  </tbody>\n",
       "</table>\n",
       "</div>"
      ],
      "text/plain": [
       "                                                        sdv.adult\n",
       "fabric.regular  {'sdv': {'score': 0.992828731244727, 'properti...\n",
       "holdout         {'sdv': {'score': 0.9976801464742051, 'propert...\n",
       "sdv.tabular     {'sdv': {'score': 0.85401852627936, 'propertie..."
      ]
     },
     "execution_count": 1,
     "metadata": {},
     "output_type": "execute_result"
    }
   ],
   "source": [
    "from pandas import DataFrame as pdDataFrame, read_json as pd_read_json\n",
    "from common.config import *\n",
    "\n",
    "analysis_config = get_analysis_config()\n",
    "path = analysis_config['output_files']['eval']\n",
    "\n",
    "eval_df = pd_read_json(path)\n",
    "\n",
    "eval_df"
   ]
  },
  {
   "cell_type": "code",
   "execution_count": 2,
   "id": "bcb7657a-7a06-4015-93d2-a1a60502c299",
   "metadata": {},
   "outputs": [],
   "source": [
    "for c in eval_df.columns:\n",
    "    dataset_name = c.split('.', 1)[-1]\n",
    "    eval_df[f'{c}.Score'] = eval_df[c].apply(lambda x: x.get('sdv', {}).get('score') if isinstance(x, dict) else x)\n",
    "    for p in eval_df[c].iloc[0]['sdv']['properties'].keys():\n",
    "        eval_df[f'{c}.{p}'] = eval_df[c].apply(lambda x: x.get('sdv', {}).get('properties', {}).get(p)  if isinstance(x, dict) else x)\n",
    "    eval_df = eval_df.drop(columns=c)\n",
    "eval_df = eval_df.T\n",
    "eval_df.columns = ['holdout'] + [c for c in eval_df.columns if c != 'holdout']"
   ]
  },
  {
   "cell_type": "code",
   "execution_count": 3,
   "id": "768d00b9-1647-4462-a953-ae3b496967b1",
   "metadata": {},
   "outputs": [
    {
     "data": {
      "text/html": [
       "<div>\n",
       "<style scoped>\n",
       "    .dataframe tbody tr th:only-of-type {\n",
       "        vertical-align: middle;\n",
       "    }\n",
       "\n",
       "    .dataframe tbody tr th {\n",
       "        vertical-align: top;\n",
       "    }\n",
       "\n",
       "    .dataframe thead th {\n",
       "        text-align: right;\n",
       "    }\n",
       "</style>\n",
       "<table border=\"1\" class=\"dataframe\">\n",
       "  <thead>\n",
       "    <tr style=\"text-align: right;\">\n",
       "      <th></th>\n",
       "      <th>sdv.adult.Score</th>\n",
       "    </tr>\n",
       "  </thead>\n",
       "  <tbody>\n",
       "    <tr>\n",
       "      <th>holdout</th>\n",
       "      <td>0.992829</td>\n",
       "    </tr>\n",
       "    <tr>\n",
       "      <th>fabric.regular</th>\n",
       "      <td>0.997680</td>\n",
       "    </tr>\n",
       "    <tr>\n",
       "      <th>sdv.tabular</th>\n",
       "      <td>0.854019</td>\n",
       "    </tr>\n",
       "  </tbody>\n",
       "</table>\n",
       "</div>"
      ],
      "text/plain": [
       "                sdv.adult.Score\n",
       "holdout                0.992829\n",
       "fabric.regular         0.997680\n",
       "sdv.tabular            0.854019"
      ]
     },
     "execution_count": 3,
     "metadata": {},
     "output_type": "execute_result"
    }
   ],
   "source": [
    "eval_df_score = eval_df.T[[c for c in eval_df.T.columns if 'Score' in c]]\n",
    "eval_df_score.rename(columns={c:c.rsplit('.', 1)[0] for c in eval_df_score.columns})\n",
    "eval_df_score.columns = sorted(eval_df_score.columns)\n",
    "eval_df_score"
   ]
  },
  {
   "cell_type": "code",
   "execution_count": null,
   "id": "3c8122f5-e0cb-4e3d-b9d0-f948b0c52d25",
   "metadata": {},
   "outputs": [],
   "source": [
    "import json\n",
    "\n",
    "metadata = {\n",
    "    \"outputs\": [\n",
    "        {\n",
    "          \"type\": \"web-app\",\n",
    "          \"storage\": \"inline\",\n",
    "          \"source\": eval_df_score.to_html(),\n",
    "        },\n",
    "        {\n",
    "          \"type\": \"table\",\n",
    "          \"storage\": \"inline\",\n",
    "          \"format\": \"csv\",\n",
    "          \"header\": [\" \"] + list(eval_df_score.columns),\n",
    "          \"source\": eval_df_score.to_csv()\n",
    "        }\n",
    "    ]\n",
    "  }\n",
    "\n",
    "with open(\"mlpipeline-ui-metadata.json\", \"w\") as metadata_file:\n",
    "    json.dump(metadata, metadata_file)"
   ]
  }
 ],
 "metadata": {
  "kernelspec": {
   "display_name": "Python 3 (ipykernel)",
   "language": "python",
   "name": "python3"
  },
  "language_info": {
   "codemirror_mode": {
    "name": "ipython",
    "version": 3
   },
   "file_extension": ".py",
   "mimetype": "text/x-python",
   "name": "python",
   "nbconvert_exporter": "python",
   "pygments_lexer": "ipython3",
   "version": "3.7.4"
  }
 },
 "nbformat": 4,
 "nbformat_minor": 5
}
