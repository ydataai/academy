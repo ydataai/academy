{
 "cells": [
  {
   "cell_type": "markdown",
   "id": "2a95365b-3778-42a7-baf7-b2a9ab90da53",
   "metadata": {},
   "source": [
    "# Install requirements"
   ]
  },
  {
   "cell_type": "code",
   "execution_count": 1,
   "id": "aec5a0a9-570e-41b8-b025-60eb622ab4cc",
   "metadata": {},
   "outputs": [],
   "source": [
    "%%capture\n",
    "!pip install pandas-profiling==3.5.0"
   ]
  },
  {
   "cell_type": "markdown",
   "id": "83b802f8-4f80-4581-b5a9-98da2cb800c9",
   "metadata": {},
   "source": [
    "# Sample Comparison Report"
   ]
  },
  {
   "cell_type": "code",
   "execution_count": 2,
   "id": "97da262b-e19e-4524-93de-d28f8eb1e742",
   "metadata": {},
   "outputs": [
    {
     "data": {
      "application/vnd.jupyter.widget-view+json": {
       "model_id": "31373e5feaa545628d3b24e619971075",
       "version_major": 2,
       "version_minor": 0
      },
      "text/plain": [
       "Summarize dataset:   0%|          | 0/5 [00:00<?, ?it/s]"
      ]
     },
     "metadata": {},
     "output_type": "display_data"
    },
    {
     "data": {
      "application/vnd.jupyter.widget-view+json": {
       "model_id": "4d49bdbd134d429ba69ea2aa98e3145e",
       "version_major": 2,
       "version_minor": 0
      },
      "text/plain": [
       "Summarize dataset:   0%|          | 0/5 [00:00<?, ?it/s]"
      ]
     },
     "metadata": {},
     "output_type": "display_data"
    }
   ],
   "source": [
    "from typing import Dict\n",
    "import time\n",
    "import os\n",
    "from pathlib import Path\n",
    "import pandas as pd\n",
    "from pathlib import Path\n",
    "from pandas_profiling import ProfileReport\n",
    "\n",
    "from ydata.metadata import Metadata\n",
    "from ydata.dataset import Dataset\n",
    "\n",
    "from common.utils import load_dataframe, get_model_class\n",
    "\n",
    "import sdv\n",
    "\n",
    "from common.config import *\n",
    "\n",
    "datasets_config = get_datsets_config()\n",
    "models_config = get_models_config()\n",
    "analysis_config = get_analysis_config()\n",
    "\n",
    "for dataset_name in datasets_config.keys():\n",
    "    print(f'# Dataset: {dataset_name} ')\n",
    "    dataset = load_dataframe(dataset_name, split='train')\n",
    "    metadata = Metadata.load(str(Path(DATASET_PATH) / f'{dataset_name}_train.metadata.pkl'))\n",
    "    for model_name, model_info in models_config.items():\n",
    "        if not model_info.get('enabled', True):\n",
    "            continue\n",
    "            \n",
    "        report_path = Path(ANALYSIS_REPORTS_PATH) / f\"{dataset_name}_{model_name}_report.html\"\n",
    "        if not os.path.isfile(report_path):\n",
    "            try:\n",
    "                holdout_df = pd.read_csv(Path(DATASET_PATH) / f'{dataset_name}_holdout.csv')\n",
    "                sample_df = pd.read_csv(Path(SAMPLES_PATH) / f'{model_name}_{dataset_name}_sample.csv')\n",
    "\n",
    "                holdout_profile = ProfileReport(holdout_df, title=f'Holdout - {dataset_name}')\n",
    "                sample_profile  = ProfileReport(sample_df, title=f'Sample - {dataset_name} - Model {model_name}')\n",
    "                comparison = holdout_profile.compare(sample_profile)\n",
    "\n",
    "                comparison.to_file(report_path)\n",
    "            except Exception as e:\n",
    "                print(f'Could not generate the comparison report for dataset {dataset_name} and model {model_name}: {e}')\n",
    "        else:\n",
    "            print(f'Report already exist for dataset {dataset_name} and model {model_name}')"
   ]
  },
  {
   "cell_type": "code",
   "execution_count": null,
   "id": "7e3ba48f-5364-4a5f-9591-8b64e8ea4670",
   "metadata": {},
   "outputs": [],
   "source": []
  }
 ],
 "metadata": {
  "kernelspec": {
   "display_name": "Python 3 (ipykernel)",
   "language": "python",
   "name": "python3"
  },
  "language_info": {
   "codemirror_mode": {
    "name": "ipython",
    "version": 3
   },
   "file_extension": ".py",
   "mimetype": "text/x-python",
   "name": "python",
   "nbconvert_exporter": "python",
   "pygments_lexer": "ipython3",
   "version": "3.7.4"
  }
 },
 "nbformat": 4,
 "nbformat_minor": 5
}
