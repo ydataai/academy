{
 "cells": [
  {
   "cell_type": "markdown",
   "id": "7ab1cf8a",
   "metadata": {
    "pycharm": {
     "name": "#%% md\n"
    }
   },
   "source": [
    "# **Using YData to mitigate privacy risks**\n",
    "\n",
    "Most of the datasets that store data related to people contain personal information that can be used to identify each individual. For ethical and (sometimes) legal reasons, such datasets need to be de-identified before being used or publicly published. De-identification consists in removing or anonymizing any data that can be used to identify a subject. YData offers a solution to this problem through synthetic data generation. After training a YData synthesizer with the original data, users are able to sample synthetic data which presents the original characteristics while preserving privacy. Therefore, the resulting synthetic dataset is faithful to the original one but is de-identified by nature.\n",
    "\n",
    "A domain where personal attributes commonly exist is healthcare, particularly datasets that record patients' data concerning a specific disease. It is common for these datasets to have attributes that univocally identify a person, such as the full name, a social security number, or even a patient identifier. These attributes are called **direct identifiers** since their values are unique for each subject. However, these datasets can also contain attributes that alone are not direct identifiers, but when combined can identify a person. For example, let us assume a medical dataset that stores the age, weight, and height of each patient. By themselves, these attributes don't identify any patient. However, it's highly unlikely that there could be two patients with the same age, weight, and height. Therefore, when combining these three attributes, we are able to univocally identify a person within the dataset. The attributes which display these characteristics are called **quasi-identifiers** since their combined values can uniquely identify a person.\n",
    "\n",
    "In this use case, we demonstrate how YData's synthesizer can be used to solve these privacy issues in a medical dataset, namely the [Cardiovascular Disease](https://www.kaggle.com/datasets/sulianova/cardiovascular-disease-dataset) dataset. Besides the original attributes, this version of the dataset also contains a patient identifier that is unique for every person, the patient's name, and the social security number. We start by performing a quick analysis of the dataset, and we move forward to show how YData's synthesizer solves the privacy issues for the direct and quasi-identifier attributes. We finish by calculating and discussing three privacy metrics for the synthetically generated data."
   ]
  },
  {
   "cell_type": "code",
   "execution_count": 1,
   "id": "af04a2e4",
   "metadata": {
    "pycharm": {
     "name": "#%%\n"
    }
   },
   "outputs": [],
   "source": [
    "import pandas as pd\n",
    "import matplotlib.pyplot as plt\n",
    "from ydata.metadata import Metadata\n",
    "from ydata.labs import DataSources\n",
    "from ydata.synthesizers.regular.model import RegularSynthesizer\n",
    "from ydata.preprocessors.methods.anonymization import AnonymizerType\n",
    "from ydata.report import SyntheticDataProfile\n",
    "\n",
    "from ydata.preprocessors.methods.anonymization.utils import get_n_unique_from_one, get_one_regex\n",
    "from ydata.preprocessors.methods.anonymization.anonymizer import name_anonymizer, ssn_anonymizer"
   ]
  },
  {
   "cell_type": "markdown",
   "id": "2dcf6d82-77f0-4f5d-ae55-b4ff5febe9a0",
   "metadata": {
    "pycharm": {
     "name": "#%% md\n"
    }
   },
   "source": [
    "### **Cardiovascular Disease Dataset**\n",
    "\n",
    "Let us start by obtaining the dataset from the YData data source previously created through the Fabric UI. We can then take a look at the first records of the dataset."
   ]
  },
  {
   "cell_type": "code",
   "execution_count": 2,
   "id": "53723c9a",
   "metadata": {
    "pycharm": {
     "name": "#%%\n"
    }
   },
   "outputs": [],
   "source": [
    "datasource = DataSources.get(uid='{dasource-uid}')\n",
    "data = datasource.read()"
   ]
  },
  {
   "cell_type": "code",
   "execution_count": 3,
   "id": "9bc8a10c-f58d-4cf1-9598-20c5e52955da",
   "metadata": {
    "pycharm": {
     "name": "#%%\n"
    }
   },
   "outputs": [
    {
     "data": {
      "text/html": [
       "<div>\n",
       "<style scoped>\n",
       "    .dataframe tbody tr th:only-of-type {\n",
       "        vertical-align: middle;\n",
       "    }\n",
       "\n",
       "    .dataframe tbody tr th {\n",
       "        vertical-align: top;\n",
       "    }\n",
       "\n",
       "    .dataframe thead th {\n",
       "        text-align: right;\n",
       "    }\n",
       "</style>\n",
       "<table border=\"1\" class=\"dataframe\">\n",
       "  <thead>\n",
       "    <tr style=\"text-align: right;\">\n",
       "      <th></th>\n",
       "      <th>age</th>\n",
       "      <th>gender</th>\n",
       "      <th>height</th>\n",
       "      <th>weight</th>\n",
       "      <th>ap_hi</th>\n",
       "      <th>ap_lo</th>\n",
       "      <th>cholesterol</th>\n",
       "      <th>gluc</th>\n",
       "      <th>smoke</th>\n",
       "      <th>alco</th>\n",
       "      <th>active</th>\n",
       "      <th>cardio</th>\n",
       "      <th>patient_id</th>\n",
       "      <th>name</th>\n",
       "      <th>ssn</th>\n",
       "    </tr>\n",
       "  </thead>\n",
       "  <tbody>\n",
       "    <tr>\n",
       "      <th>0</th>\n",
       "      <td>18393</td>\n",
       "      <td>2</td>\n",
       "      <td>168</td>\n",
       "      <td>62.0</td>\n",
       "      <td>110</td>\n",
       "      <td>80</td>\n",
       "      <td>1</td>\n",
       "      <td>1</td>\n",
       "      <td>0</td>\n",
       "      <td>0</td>\n",
       "      <td>1</td>\n",
       "      <td>0</td>\n",
       "      <td>HM-52100684</td>\n",
       "      <td>Jack Gardner-Sixtus</td>\n",
       "      <td>610-62-8364</td>\n",
       "    </tr>\n",
       "    <tr>\n",
       "      <th>1</th>\n",
       "      <td>20228</td>\n",
       "      <td>1</td>\n",
       "      <td>156</td>\n",
       "      <td>85.0</td>\n",
       "      <td>140</td>\n",
       "      <td>90</td>\n",
       "      <td>3</td>\n",
       "      <td>1</td>\n",
       "      <td>0</td>\n",
       "      <td>0</td>\n",
       "      <td>1</td>\n",
       "      <td>1</td>\n",
       "      <td>IV-61832113</td>\n",
       "      <td>Kulnun Pichpandecha</td>\n",
       "      <td>153-76-2237</td>\n",
       "    </tr>\n",
       "    <tr>\n",
       "      <th>2</th>\n",
       "      <td>18857</td>\n",
       "      <td>1</td>\n",
       "      <td>165</td>\n",
       "      <td>64.0</td>\n",
       "      <td>130</td>\n",
       "      <td>70</td>\n",
       "      <td>3</td>\n",
       "      <td>1</td>\n",
       "      <td>0</td>\n",
       "      <td>0</td>\n",
       "      <td>0</td>\n",
       "      <td>1</td>\n",
       "      <td>FW-67818205</td>\n",
       "      <td>Justin Baldick</td>\n",
       "      <td>665-37-2173</td>\n",
       "    </tr>\n",
       "    <tr>\n",
       "      <th>3</th>\n",
       "      <td>17623</td>\n",
       "      <td>2</td>\n",
       "      <td>169</td>\n",
       "      <td>82.0</td>\n",
       "      <td>150</td>\n",
       "      <td>100</td>\n",
       "      <td>1</td>\n",
       "      <td>1</td>\n",
       "      <td>0</td>\n",
       "      <td>0</td>\n",
       "      <td>1</td>\n",
       "      <td>1</td>\n",
       "      <td>GF-83816286</td>\n",
       "      <td>Ivo Sá</td>\n",
       "      <td>661-70-4175</td>\n",
       "    </tr>\n",
       "    <tr>\n",
       "      <th>4</th>\n",
       "      <td>17474</td>\n",
       "      <td>1</td>\n",
       "      <td>156</td>\n",
       "      <td>56.0</td>\n",
       "      <td>100</td>\n",
       "      <td>60</td>\n",
       "      <td>1</td>\n",
       "      <td>1</td>\n",
       "      <td>0</td>\n",
       "      <td>0</td>\n",
       "      <td>0</td>\n",
       "      <td>0</td>\n",
       "      <td>RW-63212154</td>\n",
       "      <td>Lisa Callahan</td>\n",
       "      <td>266-91-3083</td>\n",
       "    </tr>\n",
       "  </tbody>\n",
       "</table>\n",
       "</div>"
      ],
      "text/plain": [
       "     age  gender  height  weight  ap_hi  ap_lo  cholesterol  gluc  smoke  \\\n",
       "0  18393       2     168    62.0    110     80            1     1      0   \n",
       "1  20228       1     156    85.0    140     90            3     1      0   \n",
       "2  18857       1     165    64.0    130     70            3     1      0   \n",
       "3  17623       2     169    82.0    150    100            1     1      0   \n",
       "4  17474       1     156    56.0    100     60            1     1      0   \n",
       "\n",
       "   alco  active  cardio   patient_id                 name          ssn  \n",
       "0     0       1       0  HM-52100684  Jack Gardner-Sixtus  610-62-8364  \n",
       "1     0       1       1  IV-61832113  Kulnun Pichpandecha  153-76-2237  \n",
       "2     0       0       1  FW-67818205       Justin Baldick  665-37-2173  \n",
       "3     0       1       1  GF-83816286               Ivo Sá  661-70-4175  \n",
       "4     0       0       0  RW-63212154        Lisa Callahan  266-91-3083  "
      ]
     },
     "execution_count": 3,
     "metadata": {},
     "output_type": "execute_result"
    }
   ],
   "source": [
    "data.head()"
   ]
  },
  {
   "cell_type": "markdown",
   "id": "cc2eb971-eba6-437e-868b-3454e518d555",
   "metadata": {
    "pycharm": {
     "name": "#%% md\n"
    }
   },
   "source": [
    "This dataset has 70K rows and 15 columns (i.e., attributes). Describing each of the columns:\n",
    "- age - age of the patient in days\n",
    "- height - height of the patient in centimeters\n",
    "- weight - weight of the patient in kilograms\n",
    "- gender - gender of the patient (1: women, 2: men)\n",
    "- ap_hi - systolic blood pressure\n",
    "- ap_lo - diastolic blood pressure\n",
    "- cholesterol - cholesterol level (1: normal, 2: above normal, 3: well above normal)\n",
    "- gluc - glucose level (1: normal, 2: above normal, 3: well above normal)\n",
    "- smoke - whether the patient smokes (1) or not (0)\n",
    "- alco -  whether the patient drinks alcohol (1) or not (0)\n",
    "- active - whether the patient is physically active (1) or not (0)\n",
    "- cardio - whether the patient has cardiovascular disease (1) or not (0)\n",
    "- patient_id - patient unique identifier\n",
    "- name - patient name\n",
    "- ssn - patient social security number.\n",
    "\n",
    "Since this dataset is mostly used to predict if a patient has cardiovascular disease or not, the `cardio` column is the more common target."
   ]
  },
  {
   "cell_type": "markdown",
   "id": "0d225add",
   "metadata": {
    "pycharm": {
     "name": "#%% md\n"
    }
   },
   "source": [
    "## **Direct Identifiers**\n",
    "\n",
    "When analyzing the columns of the dataset, we can point out three attributes that uniquely identify each patient: `patient_id`, `name`, and `ssn`. Therefore, these attributes classify as direct identifiers. To keep the patients' privacy, we need to de-identify them in what concerns these columns. For this purpose, YData' synthesizer provides an anonymization feature that replaces these identifiers for pseudonyms or custom tokens. The synthesizer already comes with a set of predefined types of anonymization, but it also offers the capability of creating user-defined tokens.\n",
    "\n",
    "To take advantage of this anonymization feature, the user has to create a dictionary that defines the type of anonymizer to be applied to the desired columns. Each entry in this dictionary uses the column name as the key and the anonymizer type as the value. Alternatively, the value can also be a regex expression representing the expected output format after the anonymization process. The dictionary is then passed to the `anonymize` parameter of the `fit` method.\n",
    "\n",
    "We can then sample from the synthesizer to obtain the de-identified data."
   ]
  },
  {
   "cell_type": "code",
   "execution_count": 4,
   "id": "4b3291fc",
   "metadata": {
    "pycharm": {
     "name": "#%%\n"
    }
   },
   "outputs": [
    {
     "name": "stdout",
     "output_type": "stream",
     "text": [
      "INFO: 2023-02-21 16:05:10,758 [SYNTHESIZER] - Number columns considered for synth: 15\n",
      "INFO: 2023-02-21 16:05:41,050 [SYNTHESIZER] - Starting the synthetic data modeling process over 2x1 blocks.\n",
      "INFO: 2023-02-21 16:05:41,051 [SYNTHESIZER] - Generating pipeline for segment (-0.001, 27999.5]\n",
      "INFO: 2023-02-21 16:05:41,061 [SYNTHESIZER] - Preprocess segment\n",
      "INFO: 2023-02-21 16:05:41,069 [SYNTHESIZER] - Synthesizer init.\n",
      "INFO: 2023-02-21 16:05:41,070 [SYNTHESIZER] - Processing the data prior fitting the synthesizer.\n",
      "INFO: 2023-02-21 16:05:50,987 [SYNTHESIZER] - Generating pipeline for segment (27999.5, 55999.0]\n",
      "INFO: 2023-02-21 16:05:50,999 [SYNTHESIZER] - Preprocess segment\n",
      "INFO: 2023-02-21 16:05:51,015 [SYNTHESIZER] - Synthesizer init.\n",
      "INFO: 2023-02-21 16:05:51,016 [SYNTHESIZER] - Processing the data prior fitting the synthesizer.\n",
      "INFO: 2023-02-21 16:06:01,796 [SYNTHESIZER] - Start generating model samples.\n",
      "INFO: 2023-02-21 16:06:01,797 [SYNTHESIZER] - Sample segment (-0.001, 27999.5]\n",
      "INFO: 2023-02-21 16:06:08,373 [SYNTHESIZER] - Sample segment (27999.5, 55999.0]\n"
     ]
    }
   ],
   "source": [
    "patient_id_regex = r\"[A-Z]{2}-[0-9]{8}\"\n",
    "anonymize = {\n",
    "    \"patient_id\": patient_id_regex,\n",
    "    \"name\": AnonymizerType.NAME,\n",
    "    \"ssn\": AnonymizerType.SSN\n",
    "}\n",
    "synthesizer = RegularSynthesizer()\n",
    "synthesizer.fit(data, Metadata(data), anonymize=anonymize)\n",
    "synth_data = synthesizer.sample(len(data))"
   ]
  },
  {
   "cell_type": "code",
   "execution_count": 5,
   "id": "fca021e1-5535-400a-ad1a-10f795a1820f",
   "metadata": {
    "pycharm": {
     "name": "#%%\n"
    }
   },
   "outputs": [
    {
     "data": {
      "text/html": [
       "<div>\n",
       "<style scoped>\n",
       "    .dataframe tbody tr th:only-of-type {\n",
       "        vertical-align: middle;\n",
       "    }\n",
       "\n",
       "    .dataframe tbody tr th {\n",
       "        vertical-align: top;\n",
       "    }\n",
       "\n",
       "    .dataframe thead th {\n",
       "        text-align: right;\n",
       "    }\n",
       "</style>\n",
       "<table border=\"1\" class=\"dataframe\">\n",
       "  <thead>\n",
       "    <tr style=\"text-align: right;\">\n",
       "      <th></th>\n",
       "      <th>age</th>\n",
       "      <th>gender</th>\n",
       "      <th>height</th>\n",
       "      <th>weight</th>\n",
       "      <th>ap_hi</th>\n",
       "      <th>ap_lo</th>\n",
       "      <th>cholesterol</th>\n",
       "      <th>gluc</th>\n",
       "      <th>smoke</th>\n",
       "      <th>alco</th>\n",
       "      <th>active</th>\n",
       "      <th>cardio</th>\n",
       "      <th>patient_id</th>\n",
       "      <th>name</th>\n",
       "      <th>ssn</th>\n",
       "    </tr>\n",
       "  </thead>\n",
       "  <tbody>\n",
       "    <tr>\n",
       "      <th>0</th>\n",
       "      <td>19436</td>\n",
       "      <td>1</td>\n",
       "      <td>150</td>\n",
       "      <td>73.0</td>\n",
       "      <td>90</td>\n",
       "      <td>60</td>\n",
       "      <td>1</td>\n",
       "      <td>1</td>\n",
       "      <td>0</td>\n",
       "      <td>0</td>\n",
       "      <td>0</td>\n",
       "      <td>1</td>\n",
       "      <td>BU-53803668</td>\n",
       "      <td>Steven Harper</td>\n",
       "      <td>626-14-8325</td>\n",
       "    </tr>\n",
       "    <tr>\n",
       "      <th>1</th>\n",
       "      <td>22077</td>\n",
       "      <td>1</td>\n",
       "      <td>137</td>\n",
       "      <td>161.0</td>\n",
       "      <td>120</td>\n",
       "      <td>80</td>\n",
       "      <td>3</td>\n",
       "      <td>3</td>\n",
       "      <td>0</td>\n",
       "      <td>0</td>\n",
       "      <td>1</td>\n",
       "      <td>0</td>\n",
       "      <td>SC-91259661</td>\n",
       "      <td>Brittany Nelson</td>\n",
       "      <td>034-09-4354</td>\n",
       "    </tr>\n",
       "    <tr>\n",
       "      <th>2</th>\n",
       "      <td>20516</td>\n",
       "      <td>1</td>\n",
       "      <td>164</td>\n",
       "      <td>106.0</td>\n",
       "      <td>140</td>\n",
       "      <td>90</td>\n",
       "      <td>1</td>\n",
       "      <td>1</td>\n",
       "      <td>0</td>\n",
       "      <td>0</td>\n",
       "      <td>1</td>\n",
       "      <td>1</td>\n",
       "      <td>YF-41179192</td>\n",
       "      <td>Victoria Ruiz</td>\n",
       "      <td>876-86-4564</td>\n",
       "    </tr>\n",
       "    <tr>\n",
       "      <th>3</th>\n",
       "      <td>17421</td>\n",
       "      <td>1</td>\n",
       "      <td>160</td>\n",
       "      <td>60.0</td>\n",
       "      <td>100</td>\n",
       "      <td>80</td>\n",
       "      <td>1</td>\n",
       "      <td>1</td>\n",
       "      <td>0</td>\n",
       "      <td>0</td>\n",
       "      <td>1</td>\n",
       "      <td>0</td>\n",
       "      <td>OC-28964347</td>\n",
       "      <td>Sheila Mitchell</td>\n",
       "      <td>621-83-5854</td>\n",
       "    </tr>\n",
       "    <tr>\n",
       "      <th>4</th>\n",
       "      <td>19569</td>\n",
       "      <td>2</td>\n",
       "      <td>158</td>\n",
       "      <td>53.0</td>\n",
       "      <td>120</td>\n",
       "      <td>80</td>\n",
       "      <td>1</td>\n",
       "      <td>1</td>\n",
       "      <td>0</td>\n",
       "      <td>0</td>\n",
       "      <td>1</td>\n",
       "      <td>0</td>\n",
       "      <td>KQ-19899079</td>\n",
       "      <td>Daniel Mcdonald</td>\n",
       "      <td>413-93-1963</td>\n",
       "    </tr>\n",
       "  </tbody>\n",
       "</table>\n",
       "</div>"
      ],
      "text/plain": [
       "     age  gender  height  weight  ap_hi  ap_lo  cholesterol  gluc  smoke  \\\n",
       "0  19436       1     150    73.0     90     60            1     1      0   \n",
       "1  22077       1     137   161.0    120     80            3     3      0   \n",
       "2  20516       1     164   106.0    140     90            1     1      0   \n",
       "3  17421       1     160    60.0    100     80            1     1      0   \n",
       "4  19569       2     158    53.0    120     80            1     1      0   \n",
       "\n",
       "   alco  active  cardio   patient_id             name          ssn  \n",
       "0     0       0       1  BU-53803668    Steven Harper  626-14-8325  \n",
       "1     0       1       0  SC-91259661  Brittany Nelson  034-09-4354  \n",
       "2     0       1       1  YF-41179192    Victoria Ruiz  876-86-4564  \n",
       "3     0       1       0  OC-28964347  Sheila Mitchell  621-83-5854  \n",
       "4     0       1       0  KQ-19899079  Daniel Mcdonald  413-93-1963  "
      ]
     },
     "execution_count": 5,
     "metadata": {},
     "output_type": "execute_result"
    }
   ],
   "source": [
    "synth_data.head()"
   ]
  },
  {
   "cell_type": "markdown",
   "id": "72fd6138",
   "metadata": {
    "pycharm": {
     "name": "#%% md\n"
    }
   },
   "source": [
    "The direct identifiers have the same format in the synthetic and original data. However, as seen in the code blocks below, the identifiers from the synthetic data are essentially different from the ones in the original data, except for a small percentage of names since different people can have the same first and last names. Therefore, the patients are no longer identifiable in the synthetic data. In other words, the dataset is de-identified in what concerns direct identifiers."
   ]
  },
  {
   "cell_type": "code",
   "execution_count": 6,
   "id": "04b31e5a-b0c6-4088-ab6d-f0536ca6a7d3",
   "metadata": {
    "pycharm": {
     "name": "#%%\n"
    }
   },
   "outputs": [],
   "source": [
    "data_df = data.to_pandas()\n",
    "synth_data_df = synth_data.to_pandas()"
   ]
  },
  {
   "cell_type": "code",
   "execution_count": 7,
   "id": "06bef901",
   "metadata": {
    "pycharm": {
     "name": "#%%\n"
    }
   },
   "outputs": [],
   "source": [
    "synth_data_df[\"patient_id\"] = get_n_unique_from_one(get_one_regex(patient_id_regex), len(synth_data_df))\n",
    "synth_data_df[\"name\"] = name_anonymizer(data_df[[\"name\"]], {\"name\": data_df[\"name\"].nunique()})[\"name\"]\n",
    "synth_data_df[\"ssn\"] = ssn_anonymizer(data_df[[\"ssn\"]], {\"ssn\": data_df[\"ssn\"].nunique()})[\"ssn\"]"
   ]
  },
  {
   "cell_type": "code",
   "execution_count": 8,
   "id": "e923ff6b",
   "metadata": {
    "pycharm": {
     "name": "#%%\n"
    }
   },
   "outputs": [
    {
     "name": "stdout",
     "output_type": "stream",
     "text": [
      "\u001b[1mUnique patient identifiers on the original data: 70000\n",
      "\u001b[1mUnique patient identifiers on the synthetic data: 70000\n",
      "\u001b[1mPatient identifiers shared by the original and synthetic data: 0\n"
     ]
    }
   ],
   "source": [
    "pid_orig = set(data_df[\"patient_id\"].unique())\n",
    "pid_synth = set(synth_data_df[\"patient_id\"].unique())\n",
    "print(f\"\\033[1mUnique patient identifiers on the original data: {len(pid_orig)}\")\n",
    "print(f\"\\033[1mUnique patient identifiers on the synthetic data: {len(pid_synth)}\")\n",
    "print(f\"\\033[1mPatient identifiers shared by the original and synthetic data: {len(pid_orig & pid_synth)}\")"
   ]
  },
  {
   "cell_type": "code",
   "execution_count": 9,
   "id": "3745ad55-dcc4-43be-bad2-1b3fd3b3a445",
   "metadata": {
    "pycharm": {
     "name": "#%%\n"
    }
   },
   "outputs": [
    {
     "name": "stdout",
     "output_type": "stream",
     "text": [
      "\u001b[1mUnique patient names on the original data: 61143\n",
      "\u001b[1mUnique patient names on the synthetic data: 61143\n",
      "\u001b[1mPatient names shared by the original and synthetic data: 9364\n"
     ]
    }
   ],
   "source": [
    "name_orig = set(data_df[\"name\"].unique())\n",
    "name_synth = set(synth_data_df[\"name\"].unique())\n",
    "print(f\"\\033[1mUnique patient names on the original data: {len(name_orig)}\")\n",
    "print(f\"\\033[1mUnique patient names on the synthetic data: {len(name_synth)}\")\n",
    "print(f\"\\033[1mPatient names shared by the original and synthetic data: {len(name_orig & name_synth)}\")"
   ]
  },
  {
   "cell_type": "code",
   "execution_count": 21,
   "id": "68e54d1b-65eb-4e62-a35b-1f18e2f646f3",
   "metadata": {
    "pycharm": {
     "name": "#%%\n"
    }
   },
   "outputs": [
    {
     "name": "stdout",
     "output_type": "stream",
     "text": [
      "\u001b[1mUnique patient SSNs on the original data: 69994\n",
      "\u001b[1mUnique patient SSNs on the synthetic data: 69994\n",
      "\u001b[1mPatient SSNs shared by the original and synthetic data: 8\n"
     ]
    }
   ],
   "source": [
    "ssn_orig = set(data_df[\"ssn\"].unique())\n",
    "ssn_synth = set(synth_data_df[\"ssn\"].unique())\n",
    "print(f\"\\033[1mUnique patient SSNs on the original data: {len(ssn_orig)}\")\n",
    "print(f\"\\033[1mUnique patient SSNs on the synthetic data: {len(ssn_synth)}\")\n",
    "print(f\"\\033[1mPatient SSNs shared by the original and synthetic data: {len(ssn_orig & ssn_synth)}\")"
   ]
  },
  {
   "cell_type": "markdown",
   "id": "b21a38cc",
   "metadata": {
    "pycharm": {
     "name": "#%% md\n"
    }
   },
   "source": [
    "## **Quasi-identifiers**\n",
    "\n",
    "Most attributes that represent a characteristic of an individual can be considered quasi-identifiers. In this dataset, there are three columns that naturally fit this description: `age`, `height`, and `weight`. However, after analyzing the table below, which displays the percentage of patients that can be uniquely identifiable when combining all columns of the dataset in pairs of two, there are two other columns that classify as quasi-identifiers: `ap_hi` and `ap_lo`. Although these latter two attributes seem less capable of representing a subject, it is important to take into account their domain and variability. Blood pressure is highly volatile throughout the day, and can increase or decrease rapidly according to many external factors. Therefore, it is highly unlikely that two individuals with a given age, height, or weight (or any combination of the three) have the same blood pressure. For that reason, systolic and diastolic blood pressure are also quasi-identifiers in this context."
   ]
  },
  {
   "cell_type": "code",
   "execution_count": 11,
   "id": "bfdfc15e",
   "metadata": {
    "pycharm": {
     "name": "#%%\n"
    }
   },
   "outputs": [
    {
     "data": {
      "text/html": [
       "<div>\n",
       "<style scoped>\n",
       "    .dataframe tbody tr th:only-of-type {\n",
       "        vertical-align: middle;\n",
       "    }\n",
       "\n",
       "    .dataframe tbody tr th {\n",
       "        vertical-align: top;\n",
       "    }\n",
       "\n",
       "    .dataframe thead th {\n",
       "        text-align: right;\n",
       "    }\n",
       "</style>\n",
       "<table border=\"1\" class=\"dataframe\">\n",
       "  <thead>\n",
       "    <tr style=\"text-align: right;\">\n",
       "      <th></th>\n",
       "      <th>age</th>\n",
       "      <th>gender</th>\n",
       "      <th>height</th>\n",
       "      <th>weight</th>\n",
       "      <th>ap_hi</th>\n",
       "      <th>ap_lo</th>\n",
       "      <th>cholesterol</th>\n",
       "      <th>gluc</th>\n",
       "      <th>smoke</th>\n",
       "      <th>alco</th>\n",
       "      <th>active</th>\n",
       "      <th>cardio</th>\n",
       "    </tr>\n",
       "  </thead>\n",
       "  <tbody>\n",
       "    <tr>\n",
       "      <th>gender</th>\n",
       "      <td>3.6%</td>\n",
       "      <td></td>\n",
       "      <td></td>\n",
       "      <td></td>\n",
       "      <td></td>\n",
       "      <td></td>\n",
       "      <td></td>\n",
       "      <td></td>\n",
       "      <td></td>\n",
       "      <td></td>\n",
       "      <td></td>\n",
       "      <td></td>\n",
       "    </tr>\n",
       "    <tr>\n",
       "      <th>height</th>\n",
       "      <td>64.8%</td>\n",
       "      <td>0.1%</td>\n",
       "      <td></td>\n",
       "      <td></td>\n",
       "      <td></td>\n",
       "      <td></td>\n",
       "      <td></td>\n",
       "      <td></td>\n",
       "      <td></td>\n",
       "      <td></td>\n",
       "      <td></td>\n",
       "      <td></td>\n",
       "    </tr>\n",
       "    <tr>\n",
       "      <th>weight</th>\n",
       "      <td>76.2%</td>\n",
       "      <td>0.2%</td>\n",
       "      <td>1.5%</td>\n",
       "      <td></td>\n",
       "      <td></td>\n",
       "      <td></td>\n",
       "      <td></td>\n",
       "      <td></td>\n",
       "      <td></td>\n",
       "      <td></td>\n",
       "      <td></td>\n",
       "      <td></td>\n",
       "    </tr>\n",
       "    <tr>\n",
       "      <th>ap_hi</th>\n",
       "      <td>26.7%</td>\n",
       "      <td>0.1%</td>\n",
       "      <td>1.2%</td>\n",
       "      <td>1.8%</td>\n",
       "      <td></td>\n",
       "      <td></td>\n",
       "      <td></td>\n",
       "      <td></td>\n",
       "      <td></td>\n",
       "      <td></td>\n",
       "      <td></td>\n",
       "      <td></td>\n",
       "    </tr>\n",
       "    <tr>\n",
       "      <th>ap_lo</th>\n",
       "      <td>18.8%</td>\n",
       "      <td>0.1%</td>\n",
       "      <td>1.1%</td>\n",
       "      <td>1.6%</td>\n",
       "      <td>1.1%</td>\n",
       "      <td></td>\n",
       "      <td></td>\n",
       "      <td></td>\n",
       "      <td></td>\n",
       "      <td></td>\n",
       "      <td></td>\n",
       "      <td></td>\n",
       "    </tr>\n",
       "    <tr>\n",
       "      <th>cholesterol</th>\n",
       "      <td>7.5%</td>\n",
       "      <td>0.0%</td>\n",
       "      <td>0.1%</td>\n",
       "      <td>0.3%</td>\n",
       "      <td>0.1%</td>\n",
       "      <td>0.1%</td>\n",
       "      <td></td>\n",
       "      <td></td>\n",
       "      <td></td>\n",
       "      <td></td>\n",
       "      <td></td>\n",
       "      <td></td>\n",
       "    </tr>\n",
       "    <tr>\n",
       "      <th>gluc</th>\n",
       "      <td>7.5%</td>\n",
       "      <td>0.0%</td>\n",
       "      <td>0.1%</td>\n",
       "      <td>0.2%</td>\n",
       "      <td>0.1%</td>\n",
       "      <td>0.1%</td>\n",
       "      <td>0.0%</td>\n",
       "      <td></td>\n",
       "      <td></td>\n",
       "      <td></td>\n",
       "      <td></td>\n",
       "      <td></td>\n",
       "    </tr>\n",
       "    <tr>\n",
       "      <th>smoke</th>\n",
       "      <td>4.5%</td>\n",
       "      <td>0.0%</td>\n",
       "      <td>0.1%</td>\n",
       "      <td>0.2%</td>\n",
       "      <td>0.1%</td>\n",
       "      <td>0.1%</td>\n",
       "      <td>0.0%</td>\n",
       "      <td>0.0%</td>\n",
       "      <td></td>\n",
       "      <td></td>\n",
       "      <td></td>\n",
       "      <td></td>\n",
       "    </tr>\n",
       "    <tr>\n",
       "      <th>alco</th>\n",
       "      <td>4.1%</td>\n",
       "      <td>0.0%</td>\n",
       "      <td>0.0%</td>\n",
       "      <td>0.2%</td>\n",
       "      <td>0.1%</td>\n",
       "      <td>0.1%</td>\n",
       "      <td>0.0%</td>\n",
       "      <td>0.0%</td>\n",
       "      <td>0.0%</td>\n",
       "      <td></td>\n",
       "      <td></td>\n",
       "      <td></td>\n",
       "    </tr>\n",
       "    <tr>\n",
       "      <th>active</th>\n",
       "      <td>4.3%</td>\n",
       "      <td>0.0%</td>\n",
       "      <td>0.1%</td>\n",
       "      <td>0.2%</td>\n",
       "      <td>0.1%</td>\n",
       "      <td>0.1%</td>\n",
       "      <td>0.0%</td>\n",
       "      <td>0.0%</td>\n",
       "      <td>0.0%</td>\n",
       "      <td>0.0%</td>\n",
       "      <td></td>\n",
       "      <td></td>\n",
       "    </tr>\n",
       "    <tr>\n",
       "      <th>cardio</th>\n",
       "      <td>3.7%</td>\n",
       "      <td>0.0%</td>\n",
       "      <td>0.1%</td>\n",
       "      <td>0.2%</td>\n",
       "      <td>0.1%</td>\n",
       "      <td>0.1%</td>\n",
       "      <td>0.0%</td>\n",
       "      <td>0.0%</td>\n",
       "      <td>0.0%</td>\n",
       "      <td>0.0%</td>\n",
       "      <td>0.0%</td>\n",
       "      <td></td>\n",
       "    </tr>\n",
       "  </tbody>\n",
       "</table>\n",
       "</div>"
      ],
      "text/plain": [
       "               age gender height weight ap_hi ap_lo cholesterol  gluc smoke  \\\n",
       "gender        3.6%                                                            \n",
       "height       64.8%   0.1%                                                     \n",
       "weight       76.2%   0.2%   1.5%                                              \n",
       "ap_hi        26.7%   0.1%   1.2%   1.8%                                       \n",
       "ap_lo        18.8%   0.1%   1.1%   1.6%  1.1%                                 \n",
       "cholesterol   7.5%   0.0%   0.1%   0.3%  0.1%  0.1%                           \n",
       "gluc          7.5%   0.0%   0.1%   0.2%  0.1%  0.1%        0.0%               \n",
       "smoke         4.5%   0.0%   0.1%   0.2%  0.1%  0.1%        0.0%  0.0%         \n",
       "alco          4.1%   0.0%   0.0%   0.2%  0.1%  0.1%        0.0%  0.0%  0.0%   \n",
       "active        4.3%   0.0%   0.1%   0.2%  0.1%  0.1%        0.0%  0.0%  0.0%   \n",
       "cardio        3.7%   0.0%   0.1%   0.2%  0.1%  0.1%        0.0%  0.0%  0.0%   \n",
       "\n",
       "             alco active cardio  \n",
       "gender                           \n",
       "height                           \n",
       "weight                           \n",
       "ap_hi                            \n",
       "ap_lo                            \n",
       "cholesterol                      \n",
       "gluc                             \n",
       "smoke                            \n",
       "alco                             \n",
       "active       0.0%                \n",
       "cardio       0.0%   0.0%         "
      ]
     },
     "execution_count": 11,
     "metadata": {},
     "output_type": "execute_result"
    }
   ],
   "source": [
    "def count_unique_rows(df: pd.DataFrame):\n",
    "    matrix = pd.DataFrame()\n",
    "    for i, col1 in enumerate(df.columns):\n",
    "        vals = {}\n",
    "        for col2 in df.columns[i+1:]:\n",
    "            vals[col2] = f\"{((df[[col1, col2]].value_counts() == 1).sum() / len(df)) * 100:.1f}%\"\n",
    "        matrix = pd.concat([matrix, pd.Series(vals, name=col1).astype(\"string\").to_frame().T])\n",
    "    return matrix.fillna(\"\").T\n",
    "\n",
    "count_unique_rows(data_df.drop(columns=[\"patient_id\", \"name\", \"ssn\"]))"
   ]
  },
  {
   "cell_type": "markdown",
   "id": "07f8db59-d06b-46ba-ad1d-f66808fc6111",
   "metadata": {
    "pycharm": {
     "name": "#%% md\n"
    }
   },
   "source": [
    "Focusing just on the age and weight attributes, we can see from the image below that the 76.2% of uniquely identifiable patients are not localized in particular spectrums of the attributes' domains (i.e., they are not related to potential outliers or extreme values). Therefore, the combination of these two attributes allows for direct identification of patients."
   ]
  },
  {
   "cell_type": "code",
   "execution_count": 12,
   "id": "70c1147c",
   "metadata": {
    "pycharm": {
     "name": "#%%\n"
    }
   },
   "outputs": [
    {
     "data": {
      "image/png": "[encoded data removed]",
      "text/plain": [
       "<Figure size 640x480 with 1 Axes>"
      ]
     },
     "metadata": {},
     "output_type": "display_data"
    }
   ],
   "source": [
    "groups = data_df.groupby([\"age\", \"weight\"])\n",
    "unique = set()\n",
    "for k in groups.groups:\n",
    "    g = groups.get_group(k)\n",
    "    if len(g) == 1:\n",
    "        unique.add(g.index[0])\n",
    "mask = [idx in unique for idx in data_df.index]\n",
    "df_comb = data_df[[\"age\", \"weight\"]].copy()\n",
    "df_comb[\"label\"] = [\"unique\" if x else \"non-unique\" for x in mask]\n",
    "groups = df_comb.groupby(\"label\")\n",
    "for (name, group), color in reversed(list(zip(groups, [\"#166FF5\", \"#E32212\"]))):\n",
    "    plt.scatter(group[\"age\"], group[\"weight\"], s=8, color=color, alpha=0.6, label=name)\n",
    "plt.gca().legend()\n",
    "_ = plt.ylabel(\"weight\")\n",
    "_ = plt.xlabel(\"age\")"
   ]
  },
  {
   "cell_type": "markdown",
   "id": "0cfc2c45",
   "metadata": {
    "pycharm": {
     "name": "#%% md\n"
    }
   },
   "source": [
    "When considering the synthetic data generated, we find the same identifiability patterns as in the original data. The table below shows once again the percentage of patients that can be uniquely identifiable when combining all columns of the dataset in pairs of two, but now for YData's synthesizer data. As expected, we see the same patterns based on the same quasi-identifiers, which means the synthesizer correctly reproduced the characteristics of the original data."
   ]
  },
  {
   "cell_type": "code",
   "execution_count": 13,
   "id": "29ff0118-d6cc-4862-90cb-26e601e950f3",
   "metadata": {
    "pycharm": {
     "name": "#%%\n"
    }
   },
   "outputs": [
    {
     "data": {
      "text/html": [
       "<div>\n",
       "<style scoped>\n",
       "    .dataframe tbody tr th:only-of-type {\n",
       "        vertical-align: middle;\n",
       "    }\n",
       "\n",
       "    .dataframe tbody tr th {\n",
       "        vertical-align: top;\n",
       "    }\n",
       "\n",
       "    .dataframe thead th {\n",
       "        text-align: right;\n",
       "    }\n",
       "</style>\n",
       "<table border=\"1\" class=\"dataframe\">\n",
       "  <thead>\n",
       "    <tr style=\"text-align: right;\">\n",
       "      <th></th>\n",
       "      <th>age</th>\n",
       "      <th>gender</th>\n",
       "      <th>height</th>\n",
       "      <th>weight</th>\n",
       "      <th>ap_hi</th>\n",
       "      <th>ap_lo</th>\n",
       "      <th>cholesterol</th>\n",
       "      <th>gluc</th>\n",
       "      <th>smoke</th>\n",
       "      <th>alco</th>\n",
       "      <th>active</th>\n",
       "      <th>cardio</th>\n",
       "    </tr>\n",
       "  </thead>\n",
       "  <tbody>\n",
       "    <tr>\n",
       "      <th>gender</th>\n",
       "      <td>3.3%</td>\n",
       "      <td></td>\n",
       "      <td></td>\n",
       "      <td></td>\n",
       "      <td></td>\n",
       "      <td></td>\n",
       "      <td></td>\n",
       "      <td></td>\n",
       "      <td></td>\n",
       "      <td></td>\n",
       "      <td></td>\n",
       "      <td></td>\n",
       "    </tr>\n",
       "    <tr>\n",
       "      <th>height</th>\n",
       "      <td>37.9%</td>\n",
       "      <td>0.0%</td>\n",
       "      <td></td>\n",
       "      <td></td>\n",
       "      <td></td>\n",
       "      <td></td>\n",
       "      <td></td>\n",
       "      <td></td>\n",
       "      <td></td>\n",
       "      <td></td>\n",
       "      <td></td>\n",
       "      <td></td>\n",
       "    </tr>\n",
       "    <tr>\n",
       "      <th>weight</th>\n",
       "      <td>64.5%</td>\n",
       "      <td>0.1%</td>\n",
       "      <td>0.8%</td>\n",
       "      <td></td>\n",
       "      <td></td>\n",
       "      <td></td>\n",
       "      <td></td>\n",
       "      <td></td>\n",
       "      <td></td>\n",
       "      <td></td>\n",
       "      <td></td>\n",
       "      <td></td>\n",
       "    </tr>\n",
       "    <tr>\n",
       "      <th>ap_hi</th>\n",
       "      <td>24.3%</td>\n",
       "      <td>0.1%</td>\n",
       "      <td>0.8%</td>\n",
       "      <td>1.0%</td>\n",
       "      <td></td>\n",
       "      <td></td>\n",
       "      <td></td>\n",
       "      <td></td>\n",
       "      <td></td>\n",
       "      <td></td>\n",
       "      <td></td>\n",
       "      <td></td>\n",
       "    </tr>\n",
       "    <tr>\n",
       "      <th>ap_lo</th>\n",
       "      <td>17.3%</td>\n",
       "      <td>0.0%</td>\n",
       "      <td>0.8%</td>\n",
       "      <td>1.0%</td>\n",
       "      <td>0.5%</td>\n",
       "      <td></td>\n",
       "      <td></td>\n",
       "      <td></td>\n",
       "      <td></td>\n",
       "      <td></td>\n",
       "      <td></td>\n",
       "      <td></td>\n",
       "    </tr>\n",
       "    <tr>\n",
       "      <th>cholesterol</th>\n",
       "      <td>6.9%</td>\n",
       "      <td>0.0%</td>\n",
       "      <td>0.1%</td>\n",
       "      <td>0.1%</td>\n",
       "      <td>0.1%</td>\n",
       "      <td>0.1%</td>\n",
       "      <td></td>\n",
       "      <td></td>\n",
       "      <td></td>\n",
       "      <td></td>\n",
       "      <td></td>\n",
       "      <td></td>\n",
       "    </tr>\n",
       "    <tr>\n",
       "      <th>gluc</th>\n",
       "      <td>7.0%</td>\n",
       "      <td>0.0%</td>\n",
       "      <td>0.0%</td>\n",
       "      <td>0.1%</td>\n",
       "      <td>0.1%</td>\n",
       "      <td>0.1%</td>\n",
       "      <td>0.0%</td>\n",
       "      <td></td>\n",
       "      <td></td>\n",
       "      <td></td>\n",
       "      <td></td>\n",
       "      <td></td>\n",
       "    </tr>\n",
       "    <tr>\n",
       "      <th>smoke</th>\n",
       "      <td>4.1%</td>\n",
       "      <td>0.0%</td>\n",
       "      <td>0.0%</td>\n",
       "      <td>0.1%</td>\n",
       "      <td>0.0%</td>\n",
       "      <td>0.1%</td>\n",
       "      <td>0.0%</td>\n",
       "      <td>0.0%</td>\n",
       "      <td></td>\n",
       "      <td></td>\n",
       "      <td></td>\n",
       "      <td></td>\n",
       "    </tr>\n",
       "    <tr>\n",
       "      <th>alco</th>\n",
       "      <td>3.6%</td>\n",
       "      <td>0.0%</td>\n",
       "      <td>0.0%</td>\n",
       "      <td>0.1%</td>\n",
       "      <td>0.1%</td>\n",
       "      <td>0.1%</td>\n",
       "      <td>0.0%</td>\n",
       "      <td>0.0%</td>\n",
       "      <td>0.0%</td>\n",
       "      <td></td>\n",
       "      <td></td>\n",
       "      <td></td>\n",
       "    </tr>\n",
       "    <tr>\n",
       "      <th>active</th>\n",
       "      <td>3.8%</td>\n",
       "      <td>0.0%</td>\n",
       "      <td>0.0%</td>\n",
       "      <td>0.1%</td>\n",
       "      <td>0.1%</td>\n",
       "      <td>0.1%</td>\n",
       "      <td>0.0%</td>\n",
       "      <td>0.0%</td>\n",
       "      <td>0.0%</td>\n",
       "      <td>0.0%</td>\n",
       "      <td></td>\n",
       "      <td></td>\n",
       "    </tr>\n",
       "    <tr>\n",
       "      <th>cardio</th>\n",
       "      <td>3.3%</td>\n",
       "      <td>0.0%</td>\n",
       "      <td>0.0%</td>\n",
       "      <td>0.1%</td>\n",
       "      <td>0.0%</td>\n",
       "      <td>0.0%</td>\n",
       "      <td>0.0%</td>\n",
       "      <td>0.0%</td>\n",
       "      <td>0.0%</td>\n",
       "      <td>0.0%</td>\n",
       "      <td>0.0%</td>\n",
       "      <td></td>\n",
       "    </tr>\n",
       "  </tbody>\n",
       "</table>\n",
       "</div>"
      ],
      "text/plain": [
       "               age gender height weight ap_hi ap_lo cholesterol  gluc smoke  \\\n",
       "gender        3.3%                                                            \n",
       "height       37.9%   0.0%                                                     \n",
       "weight       64.5%   0.1%   0.8%                                              \n",
       "ap_hi        24.3%   0.1%   0.8%   1.0%                                       \n",
       "ap_lo        17.3%   0.0%   0.8%   1.0%  0.5%                                 \n",
       "cholesterol   6.9%   0.0%   0.1%   0.1%  0.1%  0.1%                           \n",
       "gluc          7.0%   0.0%   0.0%   0.1%  0.1%  0.1%        0.0%               \n",
       "smoke         4.1%   0.0%   0.0%   0.1%  0.0%  0.1%        0.0%  0.0%         \n",
       "alco          3.6%   0.0%   0.0%   0.1%  0.1%  0.1%        0.0%  0.0%  0.0%   \n",
       "active        3.8%   0.0%   0.0%   0.1%  0.1%  0.1%        0.0%  0.0%  0.0%   \n",
       "cardio        3.3%   0.0%   0.0%   0.1%  0.0%  0.0%        0.0%  0.0%  0.0%   \n",
       "\n",
       "             alco active cardio  \n",
       "gender                           \n",
       "height                           \n",
       "weight                           \n",
       "ap_hi                            \n",
       "ap_lo                            \n",
       "cholesterol                      \n",
       "gluc                             \n",
       "smoke                            \n",
       "alco                             \n",
       "active       0.0%                \n",
       "cardio       0.0%   0.0%         "
      ]
     },
     "execution_count": 13,
     "metadata": {},
     "output_type": "execute_result"
    }
   ],
   "source": [
    "count_unique_rows(synth_data_df.drop(columns=[\"patient_id\", \"name\", \"ssn\"]))"
   ]
  },
  {
   "cell_type": "markdown",
   "id": "7e757069",
   "metadata": {
    "pycharm": {
     "name": "#%% md\n"
    }
   },
   "source": [
    "Nevertheless, YData's synthesizer was able to provide de-identified data without privacy leakage. Although both the synthetic and original data present the same characteristics, the set of uniquely identifiable patients is different in both datasets, apart from a small intersection group of approximately 5%. We can state that the uniquely identifiable patients are different because the combined values for the quasi-identifiers are not the same in the original and synthetic data. Therefore, the synthetic data presents the same characteristics and patterns as the original data, but ensures that the personal information of the patients is protected since it can not be traced back."
   ]
  },
  {
   "cell_type": "code",
   "execution_count": 14,
   "id": "e8ee128c",
   "metadata": {
    "pycharm": {
     "name": "#%%\n"
    }
   },
   "outputs": [],
   "source": [
    "original_group = data_df.groupby([\"age\", \"height\", \"weight\", \"ap_hi\", \"ap_lo\"])\n",
    "synth_group = synth_data_df.groupby([\"age\", \"height\", \"weight\", \"ap_hi\", \"ap_lo\"])\n",
    "original_keys = [k for k, g in original_group.groups.items() if len(g) == 1]\n",
    "synth_keys = [k for k, g in synth_group.groups.items() if len(g) == 1]"
   ]
  },
  {
   "cell_type": "code",
   "execution_count": 15,
   "id": "24da78b9-90ab-4d86-8b55-cd238057f8a8",
   "metadata": {
    "pycharm": {
     "name": "#%%\n"
    }
   },
   "outputs": [
    {
     "name": "stdout",
     "output_type": "stream",
     "text": [
      "\u001b[1mNumber of uniquely identifiable combinations of quasi-identifiers on the original data: 69726\n",
      "\u001b[1mNumber of uniquely identifiable combinations of quasi-identifiers on the synthetic data: 64519\n",
      "\u001b[1mNumber of uniquely identifiable combinations of quasi-identifiers shared by the original and synthetic data: 3644 (5.2% of the combinations in the original data)\n"
     ]
    }
   ],
   "source": [
    "print(f\"\\033[1mNumber of uniquely identifiable combinations of quasi-identifiers on the original data: {len(original_keys)}\")\n",
    "print(f\"\\033[1mNumber of uniquely identifiable combinations of quasi-identifiers on the synthetic data: {len(synth_keys)}\")\n",
    "num_comb_inter = len(set(original_keys) & set(synth_keys))\n",
    "print(f\"\\033[1mNumber of uniquely identifiable combinations of quasi-identifiers shared by the original and synthetic data: {num_comb_inter} ({(num_comb_inter / len(original_keys) * 100):.1f}% of the combinations in the original data)\")"
   ]
  },
  {
   "cell_type": "markdown",
   "id": "b1cb9159",
   "metadata": {
    "pycharm": {
     "name": "#%% md\n"
    }
   },
   "source": [
    "Even when considering the small percentage of patients whose quasi-identifiers are the same in the original and synthetic data, we can see that all of them present different values for one or more of the remaining columns, making traceability and re-identification very difficult. We can see below the percentage of these patients that have one or more non-identifiable attributes with different values in the original and synthetic data."
   ]
  },
  {
   "cell_type": "code",
   "execution_count": 16,
   "id": "e41c5310",
   "metadata": {
    "pycharm": {
     "name": "#%%\n"
    }
   },
   "outputs": [],
   "source": [
    "diff_columns = {}\n",
    "for k in set(original_keys) & set(synth_keys):\n",
    "    orow = original_group.get_group(k).iloc[0]\n",
    "    srow = synth_group.get_group(k).iloc[0]\n",
    "    count = (orow != srow).sum()\n",
    "    if count not in diff_columns:\n",
    "        diff_columns[count] = 0\n",
    "    diff_columns[count] += 1"
   ]
  },
  {
   "cell_type": "code",
   "execution_count": 17,
   "id": "22431052-1cb4-44c7-b345-72403389dfd0",
   "metadata": {
    "pycharm": {
     "name": "#%%\n"
    }
   },
   "outputs": [
    {
     "name": "stdout",
     "output_type": "stream",
     "text": [
      "\u001b[1mPercentage of patients with 3 different non-identifiable attribute(s): 44.3%\n",
      "\u001b[1mPercentage of patients with 4 different non-identifiable attribute(s): 27.3%\n",
      "\u001b[1mPercentage of patients with 5 different non-identifiable attribute(s): 16.3%\n",
      "\u001b[1mPercentage of patients with 6 different non-identifiable attribute(s): 9.1%\n",
      "\u001b[1mPercentage of patients with 7 different non-identifiable attribute(s): 2.8%\n"
     ]
    }
   ],
   "source": [
    "for i in range(0, 8):\n",
    "    if i in diff_columns.keys():\n",
    "        print(f\"\\033[1mPercentage of patients with {i} different non-identifiable attribute(s): {(diff_columns[i] / num_comb_inter) * 100:.1f}%\")"
   ]
  },
  {
   "cell_type": "markdown",
   "id": "6c696b7f-a2d5-426b-9d5f-1b75f1856b79",
   "metadata": {
    "pycharm": {
     "name": "#%% md\n"
    }
   },
   "source": [
    "In conclusion, we can see that YData's synthesizer is able to reproduce the characteristics and patterns of the original data while keeping the patients' privacy by not leaking personal information and preventing re-identification. Such claims are supported by two main facts: the combinations of quasi-identifiers shared by the original and synthetic data are minimal, and even the small percentage of patients that are shared have different values for the remaining non-identifiable attributes."
   ]
  },
  {
   "cell_type": "markdown",
   "id": "4c4486c3",
   "metadata": {
    "pycharm": {
     "name": "#%% md\n"
    }
   },
   "source": [
    "## **Privacy Metrics**"
   ]
  },
  {
   "cell_type": "markdown",
   "id": "c06f77ce",
   "metadata": {
    "pycharm": {
     "name": "#%% md\n"
    }
   },
   "source": [
    "To further reinforce the privacy qualities of YData's synthesizer, we present the scores for three privacy metrics that are calculated between the original and synthetic data:\n",
    "- Exact Matches: counts the number of sensitive records in the synthetic data that match the records in the original dataset.\n",
    "- Neighbors Privacy: measures the likelihood of finding the original data points within a certain radius of the synthetic data points, which accounts for how close these synthetic data points are to the original data point.\n",
    "- Synthetic Classifier: evaluates if an attacker can distinguish synthetic data records from real ones.\n",
    "\n",
    "We use YData's reporting tool to obtain the mentioned metrics, and we remove the direct identifiers prior to the calculation. Finally, we also present the overall privacy score."
   ]
  },
  {
   "cell_type": "code",
   "execution_count": 18,
   "id": "015bd7c9",
   "metadata": {
    "pycharm": {
     "name": "#%%\n"
    }
   },
   "outputs": [],
   "source": [
    "data.drop_columns(columns=[\"patient_id\", \"name\", \"ssn\"], inplace=True)\n",
    "synth_data.drop_columns(columns=[\"patient_id\", \"name\", \"ssn\"], inplace=True)\n",
    "metadata = Metadata(data)\n",
    "privacy_metrics = SyntheticDataProfile().get_privacy_metrics(data, synth_data, metadata)"
   ]
  },
  {
   "cell_type": "code",
   "execution_count": 19,
   "id": "5f6b9cc3-ea78-4fb5-bc52-3be035b17c9e",
   "metadata": {},
   "outputs": [],
   "source": [
    "privacy_score = SyntheticDataProfile().get_summary(data, synth_data, metadata)[\"privacy\"]"
   ]
  },
  {
   "cell_type": "code",
   "execution_count": 20,
   "id": "a3a30d23-ca3e-406b-99bb-2b7c92505bc4",
   "metadata": {
    "pycharm": {
     "name": "#%%\n"
    }
   },
   "outputs": [
    {
     "name": "stdout",
     "output_type": "stream",
     "text": [
      "\u001b[1mExact Matches: 0.03\n",
      "\u001b[1mNeighbors Privacy: 0.99\n",
      "\u001b[1mSynthetic Classifier: 1.00\n",
      "\n",
      "\u001b[1mOverall Privacy Score: 0.99\n"
     ]
    }
   ],
   "source": [
    "print(f\"\\033[1mExact Matches: {privacy_metrics['exact_matches']:.2f}\")\n",
    "print(f\"\\033[1mNeighbors Privacy: {privacy_metrics['neighbours_privacy']:.2f}\")\n",
    "print(f\"\\033[1mSynthetic Classifier: {privacy_metrics['synth_classifier']:.2f}\")\n",
    "print(f\"\\n\\033[1mOverall Privacy Score: {privacy_score:.2f}\")"
   ]
  },
  {
   "cell_type": "markdown",
   "id": "6c7473f7-96c3-49c7-81ad-f2f86747f9ae",
   "metadata": {
    "pycharm": {
     "name": "#%% md\n"
    }
   },
   "source": [
    "From the privacy metrics' scores, we can extrapolate the following additional conclusions:\n",
    "- The number of exact matches is very small (3%), which means the YData's synthesizer is capable of generating synthetic data that presents the same properties as the original data without simply copying it. As a consequence, the synthesizer ensures privacy and de-identification of the original data, since the personal information of the patients is not replicated in the synthetic data. Further investigation could be performed to understand the origin of the 3% exact matches, but this amount of replication is not significant enough to compromise the patients' privacy.\n",
    "- The neighbors' privacy score is close to 1, which would be the perfect score. Such a high score shows the robustness of YData's synthesizer since it is capable of mimicking the original data characteristics without generating data points too similar to the original data. In other words, the synthesizer presents an excellent balance between reproducing the original data proprieties and generating new unseen samples. This characteristic of the synthesizer is essential to provide good fidelity combined with high privacy.\n",
    "- The synthetic classifier also presents a score close to 1, which means the estimator is unable to distinguish between the original and synthetic data. As a consequence, the synthetic data is safe to be shared without compromising the patients' privacy.\n",
    "\n",
    "Based on these three metrics, the overall privacy score is close to 1, representing almost perfect privacy.\n",
    "\n",
    "In conclusion, YData's synthesizer excels in all the privacy metrics, which further reinforces its privacy qualities. The synthesizer is able to produce synthetic data that can not be traced back and re-identified, ensuring minimal to no data leakage."
   ]
  }
 ],
 "metadata": {
  "kernelspec": {
   "display_name": "Python 3 (ipykernel)",
   "language": "python",
   "name": "python3"
  },
  "language_info": {
   "codemirror_mode": {
    "name": "ipython",
    "version": 3
   },
   "file_extension": ".py",
   "mimetype": "text/x-python",
   "name": "python",
   "nbconvert_exporter": "python",
   "pygments_lexer": "ipython3",
   "version": "3.10.9"
  },
  "varInspector": {
   "cols": {
    "lenName": 16,
    "lenType": 16,
    "lenVar": 40
   },
   "kernels_config": {
    "python": {
     "delete_cmd_postfix": "",
     "delete_cmd_prefix": "del ",
     "library": "var_list.py",
     "varRefreshCmd": "print(var_dic_list())"
    },
    "r": {
     "delete_cmd_postfix": ") ",
     "delete_cmd_prefix": "rm(",
     "library": "var_list.r",
     "varRefreshCmd": "cat(var_dic_list()) "
    }
   },
   "types_to_exclude": [
    "module",
    "function",
    "builtin_function_or_method",
    "instance",
    "_Feature"
   ],
   "window_display": false
  }
 },
 "nbformat": 4,
 "nbformat_minor": 5
}
