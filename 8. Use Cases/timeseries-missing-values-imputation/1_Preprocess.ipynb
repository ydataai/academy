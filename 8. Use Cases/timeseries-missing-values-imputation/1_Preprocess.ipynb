{
 "cells": [
  {
   "cell_type": "markdown",
   "id": "339d53fe",
   "metadata": {
    "papermill": {
     "duration": 0.008015,
     "end_time": "2022-02-17T17:47:19.263965",
     "exception": false,
     "start_time": "2022-02-17T17:47:19.255950",
     "status": "completed"
    },
    "tags": []
   },
   "source": [
    "# Data Preprocessing\n",
    "This notebooks loads and preprocesses the raw data for missing values imputation."
   ]
  },
  {
   "cell_type": "markdown",
   "id": "aa9a2f31",
   "metadata": {
    "papermill": {
     "duration": 0.006107,
     "end_time": "2022-02-17T17:47:19.277148",
     "exception": false,
     "start_time": "2022-02-17T17:47:19.271041",
     "status": "completed"
    },
    "tags": []
   },
   "source": [
    "## 0 - Setup"
   ]
  },
  {
   "cell_type": "markdown",
   "id": "235de369",
   "metadata": {
    "papermill": {
     "duration": 0.005989,
     "end_time": "2022-02-17T17:47:19.289169",
     "exception": false,
     "start_time": "2022-02-17T17:47:19.283180",
     "status": "completed"
    },
    "tags": []
   },
   "source": [
    "### 0.1 - Imports\n",
    "Load the necessary dependencies."
   ]
  },
  {
   "cell_type": "code",
   "execution_count": 1,
   "id": "0df1043b",
   "metadata": {
    "papermill": {
     "duration": 1.365349,
     "end_time": "2022-02-17T17:47:20.660933",
     "exception": false,
     "start_time": "2022-02-17T17:47:19.295584",
     "status": "completed"
    },
    "tags": []
   },
   "outputs": [],
   "source": [
    "%%capture\n",
    "from ydata.connectors import GCSConnector, LocalConnector\n",
    "from ydata.utils.formats import read_json"
   ]
  },
  {
   "cell_type": "markdown",
   "id": "92741485",
   "metadata": {
    "papermill": {
     "duration": 0.006693,
     "end_time": "2022-02-17T17:47:20.675283",
     "exception": false,
     "start_time": "2022-02-17T17:47:20.668590",
     "status": "completed"
    },
    "tags": []
   },
   "source": [
    "## 0.2 - Auxiliary Functions\n",
    "The auxiliary functions are custom-designed utilities developed for this use case."
   ]
  },
  {
   "cell_type": "code",
   "execution_count": 2,
   "id": "8a605e7c",
   "metadata": {
    "papermill": {
     "duration": 0.014639,
     "end_time": "2022-02-17T17:47:20.697423",
     "exception": false,
     "start_time": "2022-02-17T17:47:20.682784",
     "status": "completed"
    },
    "tags": []
   },
   "outputs": [],
   "source": [
    "from ydata.dataset import Dataset\n",
    "from preprocess import preprocess_data"
   ]
  },
  {
   "cell_type": "markdown",
   "id": "eb916350",
   "metadata": {
    "papermill": {
     "duration": 0.006489,
     "end_time": "2022-02-17T17:47:20.710565",
     "exception": false,
     "start_time": "2022-02-17T17:47:20.704076",
     "status": "completed"
    },
    "tags": []
   },
   "source": [
    "## 1 - Load Data\n",
    "First extraction: 26 November 2020 - 15 July 2021\n",
    "\n",
    "Second extraction: 15 July 2021 - 29 September 2021"
   ]
  },
  {
   "cell_type": "code",
   "execution_count": 3,
   "id": "33614c64",
   "metadata": {
    "papermill": {
     "duration": 9.56871,
     "end_time": "2022-02-17T17:47:30.285651",
     "exception": false,
     "start_time": "2022-02-17T17:47:20.716941",
     "status": "completed"
    },
    "tags": []
   },
   "outputs": [],
   "source": [
    "# Load the credentials\n",
    "credentials = read_json('gcs_credentials.json')\n",
    "\n",
    "# Create the connector for Google Cloud Storage\n",
    "connector = GCSConnector('ydatasynthetic', gcs_credentials=credentials)\n",
    "\n",
    "# Read the first extraction data 26 Nov 2020 to 15 Jul 2021\n",
    "data = connector.read_file('gs://pipelines_artifacts/wind_measurements_pipeline/data/ethiopia_wind_lot_nan.csv')"
   ]
  },
  {
   "cell_type": "markdown",
   "id": "c1dbf28a",
   "metadata": {
    "papermill": {
     "duration": 0.01676,
     "end_time": "2022-02-17T17:47:30.321114",
     "exception": false,
     "start_time": "2022-02-17T17:47:30.304354",
     "status": "completed"
    },
    "tags": []
   },
   "source": [
    "## 2 - Data Processing\n",
    "\n",
    "Train: 26 November 2021 - 31 August 2021\n",
    "\n",
    "Holdout: 1 September 2021 - 29 September 2021\n",
    "\n",
    "Steps:\n",
    "  1. Select the relevant columns\n",
    "  2. Convert to Pandas DataFrame\n",
    "  3. Cast to the correct data types\n",
    "  4. Join the readings from both extractions into a single table\n",
    "  5. Split into train and holdout"
   ]
  },
  {
   "cell_type": "code",
   "execution_count": 4,
   "id": "ca86ff00",
   "metadata": {
    "papermill": {
     "duration": 6.355492,
     "end_time": "2022-02-17T17:47:36.691195",
     "exception": false,
     "start_time": "2022-02-17T17:47:30.335703",
     "status": "completed"
    },
    "tags": []
   },
   "outputs": [],
   "source": [
    "train, holdout = preprocess_data(data)"
   ]
  },
  {
   "cell_type": "markdown",
   "id": "9bf698ff",
   "metadata": {
    "papermill": {
     "duration": 0.008091,
     "end_time": "2022-02-17T17:47:36.707575",
     "exception": false,
     "start_time": "2022-02-17T17:47:36.699484",
     "status": "completed"
    },
    "tags": []
   },
   "source": [
    "## 3 - Store Data\n",
    "After data is preprocessed, store locally or to cloud storage."
   ]
  },
  {
   "cell_type": "code",
   "execution_count": 5,
   "id": "5830e795",
   "metadata": {
    "papermill": {
     "duration": 0.746573,
     "end_time": "2022-02-17T17:47:37.462875",
     "exception": false,
     "start_time": "2022-02-17T17:47:36.716302",
     "status": "completed"
    },
    "tags": []
   },
   "outputs": [],
   "source": [
    "%%capture\n",
    "local_connector = LocalConnector()\n",
    "\n",
    "# Store the train\n",
    "local_connector.write_file(data=train.reset_index(), path='train_allmeters.csv', index=True)\n",
    "\n",
    "# Store the holdout\n",
    "local_connector.write_file(data=holdout.reset_index(), path='holdout_allmeters.csv', index=True)"
   ]
  }
 ],
 "metadata": {
  "interpreter": {
   "hash": "9ea8bb7365730d103fd67461bc9b3ce908dae9a09e6c17b8942395d50e6cfca7"
  },
  "kernelspec": {
   "display_name": "Python 3 (ipykernel)",
   "language": "python",
   "name": "python3"
  },
  "language_info": {
   "codemirror_mode": {
    "name": "ipython",
    "version": 3
   },
   "file_extension": ".py",
   "mimetype": "text/x-python",
   "name": "python",
   "nbconvert_exporter": "python",
   "pygments_lexer": "ipython3",
   "version": "3.7.11"
  },
  "papermill": {
   "default_parameters": {},
   "duration": 20.012627,
   "end_time": "2022-02-17T17:47:38.194888",
   "environment_variables": {},
   "exception": null,
   "input_path": "/home/ydata/1_Preprocess.ipynb",
   "output_path": "/home/ydata/1_Preprocess.ipynb",
   "parameters": {},
   "start_time": "2022-02-17T17:47:18.182261",
   "version": "2.3.4"
  }
 },
 "nbformat": 4,
 "nbformat_minor": 5
}
