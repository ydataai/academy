{
 "cells": [
  {
   "cell_type": "markdown",
   "id": "58f5bcc8",
   "metadata": {
    "papermill": {
     "duration": 0.009965,
     "end_time": "2022-02-18T13:48:46.656022",
     "exception": false,
     "start_time": "2022-02-18T13:48:46.646057",
     "status": "completed"
    },
    "tags": []
   },
   "source": [
    "# Factors\n",
    "This notebook calculates the factors used to add seasonality patterns to reconstructed data.\n",
    "\n",
    "Factors are multiplicative scalars applied for a numerical feature for each groupby value (e.g. average monthly windspeed ratio as percentage of annual average)"
   ]
  },
  {
   "cell_type": "markdown",
   "id": "7e39c0ee",
   "metadata": {
    "papermill": {
     "duration": 0.007805,
     "end_time": "2022-02-18T13:48:46.671810",
     "exception": false,
     "start_time": "2022-02-18T13:48:46.664005",
     "status": "completed"
    },
    "tags": []
   },
   "source": [
    "## 0 - Setup"
   ]
  },
  {
   "cell_type": "markdown",
   "id": "112747f9",
   "metadata": {
    "papermill": {
     "duration": 0.007551,
     "end_time": "2022-02-18T13:48:46.687212",
     "exception": false,
     "start_time": "2022-02-18T13:48:46.679661",
     "status": "completed"
    },
    "tags": []
   },
   "source": [
    "### 0.1 - Imports\n",
    "Load the necessary dependencies."
   ]
  },
  {
   "cell_type": "code",
   "execution_count": 1,
   "id": "30066c6c",
   "metadata": {
    "papermill": {
     "duration": 1.335383,
     "end_time": "2022-02-18T13:48:48.030244",
     "exception": false,
     "start_time": "2022-02-18T13:48:46.694861",
     "status": "completed"
    },
    "tags": []
   },
   "outputs": [],
   "source": [
    "%%capture\n",
    "from ydata.connectors import GCSConnector\n",
    "from ydata.utils.formats import read_json\n",
    "from typing import List\n",
    "from pandas import concat"
   ]
  },
  {
   "cell_type": "markdown",
   "id": "c731413e",
   "metadata": {
    "papermill": {
     "duration": 0.008336,
     "end_time": "2022-02-18T13:48:48.047507",
     "exception": false,
     "start_time": "2022-02-18T13:48:48.039171",
     "status": "completed"
    },
    "tags": []
   },
   "source": [
    "## 0.2 - Auxiliary Functions\n",
    "The auxiliary functions are custom-designed utilities developed for the use case."
   ]
  },
  {
   "cell_type": "code",
   "execution_count": 2,
   "id": "8587ecca",
   "metadata": {
    "papermill": {
     "duration": 0.017506,
     "end_time": "2022-02-18T13:48:48.073219",
     "exception": false,
     "start_time": "2022-02-18T13:48:48.055713",
     "status": "completed"
    },
    "tags": []
   },
   "outputs": [],
   "source": [
    "from factors import save_json"
   ]
  },
  {
   "cell_type": "markdown",
   "id": "30a4c86b",
   "metadata": {
    "papermill": {
     "duration": 0.008141,
     "end_time": "2022-02-18T13:48:48.089509",
     "exception": false,
     "start_time": "2022-02-18T13:48:48.081368",
     "status": "completed"
    },
    "tags": []
   },
   "source": [
    "## 1 - Load Data"
   ]
  },
  {
   "cell_type": "code",
   "execution_count": 3,
   "id": "4200a137",
   "metadata": {
    "papermill": {
     "duration": 13.097553,
     "end_time": "2022-02-18T13:49:01.195244",
     "exception": false,
     "start_time": "2022-02-18T13:48:48.097691",
     "status": "completed"
    },
    "tags": []
   },
   "outputs": [],
   "source": [
    "# Load the credentials\n",
    "credentials = read_json('gcs_credentials.json')\n",
    "\n",
    "# Create the connector for Google Cloud Storage\n",
    "connector = GCSConnector('ydatasynthetic', gcs_credentials=credentials)"
   ]
  },
  {
   "cell_type": "markdown",
   "id": "d03c38d9",
   "metadata": {
    "papermill": {
     "duration": 0.009563,
     "end_time": "2022-02-18T13:49:01.215179",
     "exception": false,
     "start_time": "2022-02-18T13:49:01.205616",
     "status": "completed"
    },
    "tags": []
   },
   "source": [
    "## 2 - Calculate Factors\n",
    "Calculate the average windspeed per month for meters in relevant provinces."
   ]
  },
  {
   "cell_type": "code",
   "execution_count": 4,
   "id": "2886b677",
   "metadata": {
    "papermill": {
     "duration": 0.019353,
     "end_time": "2022-02-18T13:49:01.243999",
     "exception": false,
     "start_time": "2022-02-18T13:49:01.224646",
     "status": "completed"
    },
    "tags": []
   },
   "outputs": [],
   "source": [
    "YEARS = [2018, 2019, 2020, 2021]"
   ]
  },
  {
   "cell_type": "code",
   "execution_count": 5,
   "id": "f4d8f5fa",
   "metadata": {
    "papermill": {
     "duration": 0.028049,
     "end_time": "2022-02-18T13:49:01.281081",
     "exception": false,
     "start_time": "2022-02-18T13:49:01.253032",
     "status": "completed"
    },
    "tags": []
   },
   "outputs": [],
   "source": [
    "# Internal IDs that identify stations which are in the same provinces\n",
    "\n",
    "meter_ids = read_json('meter_ids.json')"
   ]
  },
  {
   "cell_type": "code",
   "execution_count": 6,
   "id": "82949d1b",
   "metadata": {
    "papermill": {
     "duration": 0.025521,
     "end_time": "2022-02-18T13:49:01.321209",
     "exception": false,
     "start_time": "2022-02-18T13:49:01.295688",
     "status": "completed"
    },
    "tags": []
   },
   "outputs": [],
   "source": [
    "def get_monthly_avg_per_year(connector: GCSConnector, meter_ids: List, years=YEARS):\n",
    "    \"Calculates the monthly factor over the anual average, per year, for meters within same provinces as the original data.\"\n",
    "\n",
    "    # create a map of each month to corresponding index\n",
    "    meses = ['january', 'february', 'march', 'april', 'may', 'june', 'july',\n",
    "             'august', 'september', 'october', 'november', 'december']\n",
    "\n",
    "    months = {k : v for (k, v) in zip(meses, range(1, len(meses) + 1))}\n",
    "\n",
    "    factors = []  # will contain a Series of monthly averages over anual, per each year\n",
    "\n",
    "    for year in years:\n",
    "        filepath = f'gs://pipelines_artifacts/wind_measurements_pipeline/data/df_for_factors_{str(year)}.csv'\n",
    "        df = connector.read_file(filepath, assume_missing=True).to_pandas().set_index('name_station')  # read the yearly monthly averages\n",
    "        df = df[df.index.isin(meter_ids)]                                                # filter for meters in same provinces\n",
    "        df = df.dropna()                                                                 # drop the missing values\n",
    "        for month in months.keys():                                                      # calculate factor as ratio of monthly average\n",
    "            df[month] = df[month] / df['yearly']                                          # over the anual average\n",
    "        factors.append(df[months.keys()].mean().copy())\n",
    "\n",
    "    # Aggregate data\n",
    "    agg_data = concat(factors, axis=1)\n",
    "    agg_data.columns = years\n",
    "    agg_data = agg_data.rename(index=months)\n",
    "    agg_data['avg'] = agg_data.mean(axis=1)\n",
    "    return agg_data"
   ]
  },
  {
   "cell_type": "code",
   "execution_count": 7,
   "id": "3aa01c8c",
   "metadata": {
    "papermill": {
     "duration": 11.957055,
     "end_time": "2022-02-18T13:49:13.287206",
     "exception": false,
     "start_time": "2022-02-18T13:49:01.330151",
     "status": "completed"
    },
    "tags": []
   },
   "outputs": [],
   "source": [
    "factors = get_monthly_avg_per_year(connector=connector, meter_ids=meter_ids)"
   ]
  },
  {
   "cell_type": "markdown",
   "id": "fabf0405",
   "metadata": {
    "papermill": {
     "duration": 0.011497,
     "end_time": "2022-02-18T13:49:13.311575",
     "exception": false,
     "start_time": "2022-02-18T13:49:13.300078",
     "status": "completed"
    },
    "tags": []
   },
   "source": [
    "## 3 - Store Data\n",
    "Save factors as a JSON of windspeed factor per each month."
   ]
  },
  {
   "cell_type": "code",
   "execution_count": 8,
   "id": "e7547fe9",
   "metadata": {
    "papermill": {
     "duration": 0.03102,
     "end_time": "2022-02-18T13:49:13.359039",
     "exception": false,
     "start_time": "2022-02-18T13:49:13.328019",
     "status": "completed"
    },
    "tags": []
   },
   "outputs": [],
   "source": [
    "# Store the average per month of year\n",
    "save_json({'windspeed': factors['avg'].to_dict()}, 'df_factors_2018_2021.json')"
   ]
  }
 ],
 "metadata": {
  "interpreter": {
   "hash": "9ea8bb7365730d103fd67461bc9b3ce908dae9a09e6c17b8942395d50e6cfca7"
  },
  "kernelspec": {
   "display_name": "Python 3 (ipykernel)",
   "language": "python",
   "name": "python3"
  },
  "language_info": {
   "codemirror_mode": {
    "name": "ipython",
    "version": 3
   },
   "file_extension": ".py",
   "mimetype": "text/x-python",
   "name": "python",
   "nbconvert_exporter": "python",
   "pygments_lexer": "ipython3",
   "version": "3.7.11"
  },
  "papermill": {
   "default_parameters": {},
   "duration": 28.465106,
   "end_time": "2022-02-18T13:49:14.004145",
   "environment_variables": {},
   "exception": null,
   "input_path": "/home/ydata/2_Factors.ipynb",
   "output_path": "/home/ydata/2_Factors.ipynb",
   "parameters": {},
   "start_time": "2022-02-18T13:48:45.539039",
   "version": "2.3.4"
  }
 },
 "nbformat": 4,
 "nbformat_minor": 5
}
