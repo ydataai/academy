{
 "cells": [
  {
   "cell_type": "markdown",
   "metadata": {},
   "source": [
    "# Results Validation\n",
    "This notebook loads the reconstructed data and compares the results with the available data."
   ]
  },
  {
   "cell_type": "markdown",
   "metadata": {},
   "source": [
    "## 0 - Setup"
   ]
  },
  {
   "cell_type": "markdown",
   "metadata": {},
   "source": [
    "### 0.1 - Imports\n",
    "Load the necessary dependencies."
   ]
  },
  {
   "cell_type": "code",
   "execution_count": 1,
   "metadata": {
    "tags": []
   },
   "outputs": [],
   "source": [
    "%%capture \n",
    "!pip install ipywidgets "
   ]
  },
  {
   "cell_type": "code",
   "execution_count": 2,
   "metadata": {
    "tags": []
   },
   "outputs": [],
   "source": [
    "%%capture\n",
    "from ydata.connectors import LocalConnector\n",
    "from ipywidgets import interact"
   ]
  },
  {
   "cell_type": "markdown",
   "metadata": {
    "tags": []
   },
   "source": [
    "## 0.2 - Auxiliary Functions\n",
    "The auxiliary functions are custom-designed utilities developed for the REE use case."
   ]
  },
  {
   "cell_type": "code",
   "execution_count": 3,
   "metadata": {},
   "outputs": [],
   "source": [
    "from utils import setting_index_data\n",
    "from imputation import resample_station_data\n",
    "from results import meter_statistics\n",
    "from results_viz import plot_timeseries, compare_acf, plot_multicolor_line, plot_hist, compare_lags, plot_metric_byperiod, polar_graph"
   ]
  },
  {
   "cell_type": "markdown",
   "metadata": {},
   "source": [
    "## 1 - Load Data"
   ]
  },
  {
   "cell_type": "code",
   "execution_count": 4,
   "metadata": {},
   "outputs": [],
   "source": [
    "connector = LocalConnector()"
   ]
  },
  {
   "cell_type": "code",
   "execution_count": 5,
   "metadata": {},
   "outputs": [],
   "source": [
    "# Load the reconstructed data for the given device\n",
    "reconstructed = setting_index_data(connector.read_file('whole_year_reconstructed.csv'))"
   ]
  },
  {
   "cell_type": "code",
   "execution_count": 6,
   "metadata": {},
   "outputs": [],
   "source": [
    "# Load the original data for the given device\n",
    "original = setting_index_data(connector.read_file('train_allmeters.csv'))"
   ]
  },
  {
   "cell_type": "markdown",
   "metadata": {},
   "source": [
    "## 2 - Results per Meter"
   ]
  },
  {
   "cell_type": "code",
   "execution_count": 7,
   "metadata": {
    "tags": []
   },
   "outputs": [
    {
     "data": {
      "application/vnd.jupyter.widget-view+json": {
       "model_id": "cde2571e62d44ff987f15f53f83ec1fd",
       "version_major": 2,
       "version_minor": 0
      },
      "text/plain": [
       "interactive(children=(Dropdown(description='meter', options=('diredawa1', 'seladingay', 'maymekden', 'deday', …"
      ]
     },
     "metadata": {},
     "output_type": "display_data"
    }
   ],
   "source": [
    "@interact(meter=set(reconstructed['station']))\n",
    "def plot_meter_results(meter):\n",
    "    meter_reconstructed = reconstructed[reconstructed['station']==meter]\n",
    "    meter_original = original[original['station']==meter]\n",
    "    \n",
    "    # Convert the original data into resampled for full year \n",
    "    original_year = resample_station_data(meter_original)\n",
    "\n",
    "    meter_statistics(original_year)\n",
    "    plot_timeseries(data=original_year, feature='speed', title='Original Data for '+meter)\n",
    "    plot_multicolor_line(original_year, meter_reconstructed, title='Reconstruction of '+meter)\n",
    "    compare_acf(original_year, meter_reconstructed, title='Hourly Autocorrelation')\n",
    "    plot_hist(original_year, meter_reconstructed, title='Distribution Overlap - Original and Reconstructed Series - '+meter)\n",
    "    compare_lags(original_year, meter_reconstructed, 'speed')\n",
    "    plot_metric_byperiod(original_year, reconstructed, 'speed')\n",
    "    polar_graph(original_year, reconstructed)"
   ]
  }
 ],
 "metadata": {
  "interpreter": {
   "hash": "97368d82be436453fc70c6f6344601e0c3d1f89db9828d3df64f3a7192c2ced9"
  },
  "kernelspec": {
   "display_name": "Python 3 (ipykernel)",
   "language": "python",
   "name": "python3"
  },
  "language_info": {
   "codemirror_mode": {
    "name": "ipython",
    "version": 3
   },
   "file_extension": ".py",
   "mimetype": "text/x-python",
   "name": "python",
   "nbconvert_exporter": "python",
   "pygments_lexer": "ipython3",
   "version": "3.7.11"
  }
 },
 "nbformat": 4,
 "nbformat_minor": 4
}
