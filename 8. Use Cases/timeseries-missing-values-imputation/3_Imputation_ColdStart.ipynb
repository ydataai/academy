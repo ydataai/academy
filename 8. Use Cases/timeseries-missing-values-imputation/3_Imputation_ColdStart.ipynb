{
 "cells": [
  {
   "cell_type": "markdown",
   "id": "55826ad1",
   "metadata": {
    "papermill": {
     "duration": 0.017586,
     "end_time": "2022-02-17T17:47:59.400891",
     "exception": false,
     "start_time": "2022-02-17T17:47:59.383305",
     "status": "completed"
    },
    "tags": []
   },
   "source": [
    "# Missing Values Imputation\n",
    "This notebook loads the preprocessed data and impute the missing values for each station."
   ]
  },
  {
   "cell_type": "markdown",
   "id": "c8ba35d9",
   "metadata": {
    "papermill": {
     "duration": 0.016407,
     "end_time": "2022-02-17T17:47:59.434055",
     "exception": false,
     "start_time": "2022-02-17T17:47:59.417648",
     "status": "completed"
    },
    "tags": []
   },
   "source": [
    "## 0 - Setup"
   ]
  },
  {
   "cell_type": "markdown",
   "id": "9ae07c62",
   "metadata": {
    "papermill": {
     "duration": 0.0161,
     "end_time": "2022-02-17T17:47:59.466315",
     "exception": false,
     "start_time": "2022-02-17T17:47:59.450215",
     "status": "completed"
    },
    "tags": []
   },
   "source": [
    "### 0.1 - Imports\n",
    "Load the necessary dependencies."
   ]
  },
  {
   "cell_type": "code",
   "execution_count": 1,
   "id": "649c0d05",
   "metadata": {
    "papermill": {
     "duration": 2.432349,
     "end_time": "2022-02-17T17:48:01.915847",
     "exception": false,
     "start_time": "2022-02-17T17:47:59.483498",
     "status": "completed"
    },
    "tags": []
   },
   "outputs": [],
   "source": [
    "%%capture\n",
    "from ydata.connectors import LocalConnector, GCSConnector\n",
    "from ydata.utils.formats import read_json\n",
    "from ydata.quality.impute.timeseries import TSMissingImputer"
   ]
  },
  {
   "cell_type": "markdown",
   "id": "5db02be9",
   "metadata": {
    "papermill": {
     "duration": 0.017103,
     "end_time": "2022-02-17T17:48:01.950539",
     "exception": false,
     "start_time": "2022-02-17T17:48:01.933436",
     "status": "completed"
    },
    "tags": []
   },
   "source": [
    "## 0.2 - Auxiliary Functions\n",
    "The auxiliary functions are custom-designed utilities developed for the REE use case."
   ]
  },
  {
   "cell_type": "code",
   "execution_count": 2,
   "id": "14e78b6d",
   "metadata": {
    "papermill": {
     "duration": 0.025509,
     "end_time": "2022-02-17T17:48:01.992798",
     "exception": false,
     "start_time": "2022-02-17T17:48:01.967289",
     "status": "completed"
    },
    "tags": []
   },
   "outputs": [],
   "source": [
    "from utils import setting_index_data\n",
    "from imputation import (get_cold_start_meters, get_proxy_data,\n",
    "                        resample_station_data, data_boundaries, load_factors)"
   ]
  },
  {
   "cell_type": "markdown",
   "id": "c2476b6d",
   "metadata": {
    "papermill": {
     "duration": 0.017992,
     "end_time": "2022-02-17T17:48:02.028476",
     "exception": false,
     "start_time": "2022-02-17T17:48:02.010484",
     "status": "completed"
    },
    "tags": []
   },
   "source": [
    "## 1 - Load Data\n",
    "Train data comprises the preprocessed readings until August 2021"
   ]
  },
  {
   "cell_type": "code",
   "execution_count": 3,
   "id": "9bffa087",
   "metadata": {
    "papermill": {
     "duration": 4.202589,
     "end_time": "2022-02-17T17:48:06.248965",
     "exception": false,
     "start_time": "2022-02-17T17:48:02.046376",
     "status": "completed"
    },
    "tags": []
   },
   "outputs": [],
   "source": [
    "# Create the connector for Google Cloud Storage\n",
    "connector = LocalConnector()\n",
    "\n",
    "# Read the train data\n",
    "data = connector.read_file('train_allmeters.csv')"
   ]
  },
  {
   "cell_type": "code",
   "execution_count": 4,
   "id": "a9ef1e94",
   "metadata": {
    "papermill": {
     "duration": 0.027519,
     "end_time": "2022-02-17T17:48:06.294262",
     "exception": false,
     "start_time": "2022-02-17T17:48:06.266743",
     "status": "completed"
    },
    "tags": []
   },
   "outputs": [],
   "source": [
    "# Load the factors\n",
    "add_factors = load_factors('df_factors_2018_2021.json')\n"
   ]
  },
  {
   "cell_type": "markdown",
   "id": "c5be9114",
   "metadata": {
    "papermill": {
     "duration": 0.021044,
     "end_time": "2022-02-17T17:48:06.333309",
     "exception": false,
     "start_time": "2022-02-17T17:48:06.312265",
     "status": "completed"
    },
    "tags": []
   },
   "source": [
    "## 2 - Data Processing"
   ]
  },
  {
   "cell_type": "markdown",
   "id": "850e4c40",
   "metadata": {
    "papermill": {
     "duration": 0.017087,
     "end_time": "2022-02-17T17:48:06.367594",
     "exception": false,
     "start_time": "2022-02-17T17:48:06.350507",
     "status": "completed"
    },
    "tags": []
   },
   "source": [
    "### 2.1 - Data Wrangling\n",
    "Parse the data into the correct types and with the right format."
   ]
  },
  {
   "cell_type": "code",
   "execution_count": 5,
   "id": "903d0fdf",
   "metadata": {
    "papermill": {
     "duration": 6.275514,
     "end_time": "2022-02-17T17:48:12.660444",
     "exception": true,
     "start_time": "2022-02-17T17:48:06.384930",
     "status": "failed"
    },
    "tags": []
   },
   "outputs": [],
   "source": [
    "# Preprocess data to be ready for imputation\n",
    "data = setting_index_data(data)"
   ]
  },
  {
   "cell_type": "markdown",
   "id": "ac00be21",
   "metadata": {
    "papermill": {
     "duration": null,
     "end_time": null,
     "exception": null,
     "start_time": null,
     "status": "pending"
    },
    "tags": []
   },
   "source": [
    "### 2.2 - Cold Start\n",
    "Training on cold-start meters (i.e. without any observed values) should be made in separate from the rest of the meters."
   ]
  },
  {
   "cell_type": "code",
   "execution_count": 6,
   "id": "679d1eea",
   "metadata": {
    "papermill": {
     "duration": null,
     "end_time": null,
     "exception": null,
     "start_time": null,
     "status": "pending"
    },
    "tags": []
   },
   "outputs": [
    {
     "data": {
      "text/plain": [
       "['aysha1', 'gode1']"
      ]
     },
     "execution_count": 6,
     "metadata": {},
     "output_type": "execute_result"
    }
   ],
   "source": [
    "# Get a list of cold-start meters\n",
    "cold_start_meters = get_cold_start_meters(data)\n",
    "cold_start_meters"
   ]
  },
  {
   "cell_type": "code",
   "execution_count": 7,
   "id": "676fd7a6",
   "metadata": {
    "papermill": {
     "duration": null,
     "end_time": null,
     "exception": null,
     "start_time": null,
     "status": "pending"
    },
    "tags": []
   },
   "outputs": [],
   "source": [
    "# Define the stations that can serve as proxy data for the cold-start meters\n",
    "proxy_stations = {\n",
    "    'aysha1': ['diredawa1', 'tuluguled1'],\n",
    "    'gode1': ['seladingay', 'ziway'],\n",
    "}"
   ]
  },
  {
   "cell_type": "code",
   "execution_count": 8,
   "id": "67b57641",
   "metadata": {
    "papermill": {
     "duration": null,
     "end_time": null,
     "exception": null,
     "start_time": null,
     "status": "pending"
    },
    "tags": []
   },
   "outputs": [],
   "source": [
    "proxy_data = get_proxy_data(proxy_stations, data)"
   ]
  },
  {
   "cell_type": "code",
   "execution_count": 9,
   "id": "69932be6",
   "metadata": {
    "papermill": {
     "duration": null,
     "end_time": null,
     "exception": null,
     "start_time": null,
     "status": "pending"
    },
    "tags": []
   },
   "outputs": [],
   "source": [
    "# Subset the data for cold-start meters only.\n",
    "cold_start_data = data[data['station'].isin(cold_start_meters)]"
   ]
  },
  {
   "cell_type": "markdown",
   "id": "bc59b6fe",
   "metadata": {
    "papermill": {
     "duration": null,
     "end_time": null,
     "exception": null,
     "start_time": null,
     "status": "pending"
    },
    "tags": []
   },
   "source": [
    "### 2.3 - Data Boundaries"
   ]
  },
  {
   "cell_type": "code",
   "execution_count": 10,
   "id": "31584c55",
   "metadata": {
    "papermill": {
     "duration": null,
     "end_time": null,
     "exception": null,
     "start_time": null,
     "status": "pending"
    },
    "tags": []
   },
   "outputs": [],
   "source": [
    "# Apply the data boundaries to each dataframe used as proxy data for cold start\n",
    "proxy_data = {k: data_boundaries(v, replace_na=True) for (k,v) in proxy_data.items()}"
   ]
  },
  {
   "cell_type": "markdown",
   "id": "1255afd1",
   "metadata": {
    "papermill": {
     "duration": null,
     "end_time": null,
     "exception": null,
     "start_time": null,
     "status": "pending"
    },
    "tags": []
   },
   "source": [
    "## 3 - Imputer\n",
    "The TSMissingImputer is responsible to impute the missing values for time-series.\n",
    "- Learns the temporal dynamics from the observed values\n",
    "- Supports multiple entities with the `partition_by` parameter\n",
    "- Follows the usual scikit-learn method interfaces (e.g. fit, transform)"
   ]
  },
  {
   "cell_type": "markdown",
   "id": "5d980cda",
   "metadata": {
    "papermill": {
     "duration": null,
     "end_time": null,
     "exception": null,
     "start_time": null,
     "status": "pending"
    },
    "tags": []
   },
   "source": [
    "### 3.1 - Train the TSMissing Imputer"
   ]
  },
  {
   "cell_type": "code",
   "execution_count": 11,
   "id": "726a396c",
   "metadata": {
    "papermill": {
     "duration": null,
     "end_time": null,
     "exception": null,
     "start_time": null,
     "status": "pending"
    },
    "tags": []
   },
   "outputs": [],
   "source": [
    "# Train the Imputer\n",
    "imputer = TSMissingImputer()"
   ]
  },
  {
   "cell_type": "code",
   "execution_count": 12,
   "id": "e21900dd",
   "metadata": {
    "papermill": {
     "duration": null,
     "end_time": null,
     "exception": null,
     "start_time": null,
     "status": "pending"
    },
    "tags": []
   },
   "outputs": [
    {
     "data": {
      "text/plain": [
       "TSMissingImputer()"
      ]
     },
     "execution_count": 12,
     "metadata": {},
     "output_type": "execute_result"
    }
   ],
   "source": [
    "# Train the Imputer\n",
    "imputer.fit(cold_start_data, partition_by='station', num_cols=['speed'], proxy_data=proxy_data, add_factors=add_factors)"
   ]
  },
  {
   "cell_type": "markdown",
   "id": "8d15360f",
   "metadata": {
    "papermill": {
     "duration": null,
     "end_time": null,
     "exception": null,
     "start_time": null,
     "status": "pending"
    },
    "tags": []
   },
   "source": [
    "### 3.2 - Impute for Full Year\n",
    "Construct a full year of data, on hourly basis, for devices with observed readings. For each hour, the average of windspeed/winddirection is calculated and used as ground-truth for observed readings."
   ]
  },
  {
   "cell_type": "code",
   "execution_count": 13,
   "id": "344edd44",
   "metadata": {
    "papermill": {
     "duration": null,
     "end_time": null,
     "exception": null,
     "start_time": null,
     "status": "pending"
    },
    "tags": []
   },
   "outputs": [],
   "source": [
    "# Create a DataFrame of2m a whole year for all the meters with observed values.\n",
    "whole_year = resample_station_data(cold_start_data)"
   ]
  },
  {
   "cell_type": "code",
   "execution_count": 14,
   "id": "c353efd8",
   "metadata": {
    "papermill": {
     "duration": null,
     "end_time": null,
     "exception": null,
     "start_time": null,
     "status": "pending"
    },
    "tags": []
   },
   "outputs": [],
   "source": [
    "# Apply the missing values imputation to reconstruct a whole year of data.\n",
    "reconstructed = imputer.transform(whole_year)"
   ]
  },
  {
   "cell_type": "markdown",
   "id": "e73931d1",
   "metadata": {
    "papermill": {
     "duration": null,
     "end_time": null,
     "exception": null,
     "start_time": null,
     "status": "pending"
    },
    "tags": []
   },
   "source": [
    "### 3.3 - Impute for Holdout\n",
    "Construct a full month of holdout, on hourly basis, for devices with observed readings."
   ]
  },
  {
   "cell_type": "code",
   "execution_count": 15,
   "id": "2df4535c",
   "metadata": {
    "papermill": {
     "duration": null,
     "end_time": null,
     "exception": null,
     "start_time": null,
     "status": "pending"
    },
    "tags": []
   },
   "outputs": [],
   "source": [
    "# Apply the missing values imputation to reconstruct the holdout period\n",
    "holdout = connector.read_file('holdout_allmeters.csv')\n",
    "holdout = setting_index_data(holdout)\n",
    "\n",
    "# Filter for cold-start meters on holdout data.\n",
    "holdout = holdout[holdout['station'].isin(cold_start_meters)]\n",
    "whole_holdout = resample_station_data(holdout, start_ts='2021-09-01', end_ts='2021-10-01')\n",
    "holdout_reconstructed = imputer.transform(whole_holdout)"
   ]
  },
  {
   "cell_type": "markdown",
   "id": "085b77a2",
   "metadata": {
    "papermill": {
     "duration": null,
     "end_time": null,
     "exception": null,
     "start_time": null,
     "status": "pending"
    },
    "tags": []
   },
   "source": [
    "## 3.3 - Data Validation"
   ]
  },
  {
   "cell_type": "code",
   "execution_count": 16,
   "id": "6ccf36a5",
   "metadata": {
    "papermill": {
     "duration": null,
     "end_time": null,
     "exception": null,
     "start_time": null,
     "status": "pending"
    },
    "tags": []
   },
   "outputs": [],
   "source": [
    "# After reconstruction, no value should be missing\n",
    "assert reconstructed.isna().sum().sum() == 0, \"The reconstructed dataset contains missing values after reconstruction.\"\n",
    "assert holdout_reconstructed.isna().sum().sum() == 0, \"The reconstructed dataset of holdout contains missing values after reconstruction.\""
   ]
  },
  {
   "cell_type": "markdown",
   "id": "41077de9",
   "metadata": {
    "papermill": {
     "duration": null,
     "end_time": null,
     "exception": null,
     "start_time": null,
     "status": "pending"
    },
    "tags": []
   },
   "source": [
    "### 3.4 - Data PostProcessing\n",
    "The imputation of time-series is applicable to any type of numerical data and thus agnostic to energy-specific boundaries of wind measurements. To guarantee adequacy for wind speed and direction, we enforce that wind speed cannot be negative and that wind direction should range within degree angles (between 0 and 360)."
   ]
  },
  {
   "cell_type": "code",
   "execution_count": 17,
   "id": "44c0601f",
   "metadata": {
    "papermill": {
     "duration": null,
     "end_time": null,
     "exception": null,
     "start_time": null,
     "status": "pending"
    },
    "tags": []
   },
   "outputs": [],
   "source": [
    "# Postprocess the training data\n",
    "postprocessed = data_boundaries(data=reconstructed)\n",
    "\n",
    "# Postprocess the holdout data\n",
    "postprocessed_holdout = data_boundaries(data=holdout_reconstructed)"
   ]
  },
  {
   "cell_type": "markdown",
   "id": "0db0be58",
   "metadata": {
    "papermill": {
     "duration": null,
     "end_time": null,
     "exception": null,
     "start_time": null,
     "status": "pending"
    },
    "tags": []
   },
   "source": [
    "## 4 - Store Data\n",
    "After the data is fully reconstructed, store to cloud storage."
   ]
  },
  {
   "cell_type": "code",
   "execution_count": 18,
   "id": "418f7c04",
   "metadata": {
    "papermill": {
     "duration": null,
     "end_time": null,
     "exception": null,
     "start_time": null,
     "status": "pending"
    },
    "tags": []
   },
   "outputs": [
    {
     "name": "stderr",
     "output_type": "stream",
     "text": [
      "/opt/conda/lib/python3.7/site-packages/distributed/client.py:1265: VersionMismatchWarning: Mismatched versions found\n",
      "\n",
      "+---------+----------------+----------------+----------------+\n",
      "| Package | client         | scheduler      | workers        |\n",
      "+---------+----------------+----------------+----------------+\n",
      "| python  | 3.7.11.final.0 | 3.7.10.final.0 | 3.7.10.final.0 |\n",
      "+---------+----------------+----------------+----------------+\n",
      "  warnings.warn(version_module.VersionMismatchWarning(msg[0][\"warning\"]))\n",
      "/opt/conda/lib/python3.7/site-packages/dask/dataframe/io/csv.py:905: UserWarning: Appending data to a network storage system may not work.\n",
      "  warn(\"Appending data to a network storage system may not work.\")\n"
     ]
    }
   ],
   "source": [
    "# Load the credentials\n",
    "credentials = read_json('gcs_credentials.json')\n",
    "\n",
    "# Create the connector for Google Cloud Storage\n",
    "connector = GCSConnector('ydatasynthetic', gcs_credentials=credentials)\n",
    "\n",
    "# Store the whole year reconstructed\n",
    "connector.write_file(data=postprocessed, path='gs://pipelines_artifacts/wind_measurements_pipeline/outputs/whole_year_coldstart_reconstructed.csv', index=True)\n",
    "\n",
    "# Store the holdout\n",
    "connector.write_file(data=postprocessed_holdout, path='gs://pipelines_artifacts/wind_measurements_pipeline/outputs/holdout_coldstart_reconstructed.csv', index=True)"
   ]
  }
 ],
 "metadata": {
  "interpreter": {
   "hash": "9ea8bb7365730d103fd67461bc9b3ce908dae9a09e6c17b8942395d50e6cfca7"
  },
  "kernelspec": {
   "display_name": "Python 3 (ipykernel)",
   "language": "python",
   "name": "python3"
  },
  "language_info": {
   "codemirror_mode": {
    "name": "ipython",
    "version": 3
   },
   "file_extension": ".py",
   "mimetype": "text/x-python",
   "name": "python",
   "nbconvert_exporter": "python",
   "pygments_lexer": "ipython3",
   "version": "3.7.11"
  },
  "papermill": {
   "default_parameters": {},
   "duration": 15.346978,
   "end_time": "2022-02-17T17:48:13.600787",
   "environment_variables": {},
   "exception": true,
   "input_path": "/home/ydata/3_Imputation_ColdStart.ipynb",
   "output_path": "/home/ydata/3_Imputation_ColdStart.ipynb",
   "parameters": {},
   "start_time": "2022-02-17T17:47:58.253809",
   "version": "2.3.4"
  }
 },
 "nbformat": 4,
 "nbformat_minor": 5
}
