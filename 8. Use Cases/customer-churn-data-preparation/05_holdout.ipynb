{
 "cells": [
  {
   "cell_type": "markdown",
   "id": "109158f4-e060-45f8-a297-298ebfdb6237",
   "metadata": {
    "papermill": {
     "duration": 0.048091,
     "end_time": "2022-11-05T00:47:56.623790",
     "exception": false,
     "start_time": "2022-11-05T00:47:56.575699",
     "status": "completed"
    },
    "tags": []
   },
   "source": [
    "# 4. Holdout creation"
   ]
  },
  {
   "cell_type": "markdown",
   "id": "8007de3d-5dac-46f5-a3fd-18ea7fd699a8",
   "metadata": {},
   "source": [
    "### Import the needed packages"
   ]
  },
  {
   "cell_type": "code",
   "execution_count": 13,
   "id": "89a2e99e-9fc2-435d-8f5b-6f4f65a605e4",
   "metadata": {
    "papermill": {
     "duration": 1.570127,
     "end_time": "2022-11-05T00:47:58.235074",
     "exception": false,
     "start_time": "2022-11-05T00:47:56.664947",
     "status": "completed"
    },
    "tags": []
   },
   "outputs": [],
   "source": [
    "import os\n",
    "from ydata.labs.datasources import DataSources\n",
    "\n",
    "from ydata.dataset import Dataset\n",
    "from ydata.metadata import Metadata\n",
    "from ydata.dataset.holdout import Holdout\n",
    "\n",
    "from functions.saving_functions import read_file, save_file"
   ]
  },
  {
   "cell_type": "markdown",
   "id": "49a434ba-9d81-4f9b-9b2a-2f7140d8d566",
   "metadata": {},
   "source": [
    "#### Get environment variables values"
   ]
  },
  {
   "cell_type": "code",
   "execution_count": 14,
   "id": "93ef2a6c-5cf5-45ca-8b22-b9d6c79fd8bb",
   "metadata": {},
   "outputs": [],
   "source": [
    "pipeline_parameters = read_file(file_path='pipeline_parameters.pkl')"
   ]
  },
  {
   "cell_type": "markdown",
   "id": "28a53cf7-b7ba-46bd-9496-0005080494ae",
   "metadata": {},
   "source": [
    "### Read the dataset & Metadata"
   ]
  },
  {
   "cell_type": "code",
   "execution_count": 15,
   "id": "06173de6-d9a6-4864-9687-acc91cbf0e7b",
   "metadata": {
    "papermill": {
     "duration": 0.130052,
     "end_time": "2022-11-05T00:47:58.407242",
     "exception": false,
     "start_time": "2022-11-05T00:47:58.277190",
     "status": "completed"
    },
    "tags": []
   },
   "outputs": [],
   "source": [
    "metadata = Metadata.load('proc_metadata.pkl')\n",
    "\n",
    "dataset = DataSources.get(uid=pipeline_parameters['preprocessed_id']).read()"
   ]
  },
  {
   "cell_type": "code",
   "execution_count": 16,
   "id": "deb375ab-3b6b-4f0c-8aff-76c6c33be7eb",
   "metadata": {},
   "outputs": [
    {
     "data": {
      "text/html": [
       "<div>\n",
       "<style scoped>\n",
       "    .dataframe tbody tr th:only-of-type {\n",
       "        vertical-align: middle;\n",
       "    }\n",
       "\n",
       "    .dataframe tbody tr th {\n",
       "        vertical-align: top;\n",
       "    }\n",
       "\n",
       "    .dataframe thead th {\n",
       "        text-align: right;\n",
       "    }\n",
       "</style>\n",
       "<table border=\"1\" class=\"dataframe\">\n",
       "  <thead>\n",
       "    <tr style=\"text-align: right;\">\n",
       "      <th></th>\n",
       "      <th>Gender</th>\n",
       "      <th>Senior Citizen</th>\n",
       "      <th>Partner</th>\n",
       "      <th>Dependents</th>\n",
       "      <th>Tenure</th>\n",
       "      <th>Phone Service</th>\n",
       "      <th>Multiple Lines</th>\n",
       "      <th>Internet Service</th>\n",
       "      <th>Online Security</th>\n",
       "      <th>Online Backup</th>\n",
       "      <th>...</th>\n",
       "      <th>Streaming Movies</th>\n",
       "      <th>Contract</th>\n",
       "      <th>Paperless Billing</th>\n",
       "      <th>Payment Method</th>\n",
       "      <th>Monthly Charges</th>\n",
       "      <th>Total Charges</th>\n",
       "      <th>Churn</th>\n",
       "      <th>CLTV</th>\n",
       "      <th>Avg Montly charges per city</th>\n",
       "      <th>Avg Total charges per city</th>\n",
       "    </tr>\n",
       "  </thead>\n",
       "  <tbody>\n",
       "    <tr>\n",
       "      <th>0</th>\n",
       "      <td>Male</td>\n",
       "      <td>No</td>\n",
       "      <td>No</td>\n",
       "      <td>No</td>\n",
       "      <td>2</td>\n",
       "      <td>Yes</td>\n",
       "      <td>No</td>\n",
       "      <td>DSL</td>\n",
       "      <td>Yes</td>\n",
       "      <td>Yes</td>\n",
       "      <td>...</td>\n",
       "      <td>No</td>\n",
       "      <td>Month-to-month</td>\n",
       "      <td>Yes</td>\n",
       "      <td>Mailed check</td>\n",
       "      <td>53.85</td>\n",
       "      <td>108.15</td>\n",
       "      <td>1</td>\n",
       "      <td>3239</td>\n",
       "      <td>62.42377</td>\n",
       "      <td>2130.760691</td>\n",
       "    </tr>\n",
       "    <tr>\n",
       "      <th>1</th>\n",
       "      <td>Female</td>\n",
       "      <td>No</td>\n",
       "      <td>No</td>\n",
       "      <td>Yes</td>\n",
       "      <td>2</td>\n",
       "      <td>Yes</td>\n",
       "      <td>No</td>\n",
       "      <td>Fiber optic</td>\n",
       "      <td>No</td>\n",
       "      <td>No</td>\n",
       "      <td>...</td>\n",
       "      <td>No</td>\n",
       "      <td>Month-to-month</td>\n",
       "      <td>Yes</td>\n",
       "      <td>Electronic check</td>\n",
       "      <td>70.70</td>\n",
       "      <td>151.65</td>\n",
       "      <td>1</td>\n",
       "      <td>2701</td>\n",
       "      <td>62.42377</td>\n",
       "      <td>2130.760691</td>\n",
       "    </tr>\n",
       "    <tr>\n",
       "      <th>2</th>\n",
       "      <td>Female</td>\n",
       "      <td>No</td>\n",
       "      <td>No</td>\n",
       "      <td>Yes</td>\n",
       "      <td>8</td>\n",
       "      <td>Yes</td>\n",
       "      <td>Yes</td>\n",
       "      <td>Fiber optic</td>\n",
       "      <td>No</td>\n",
       "      <td>No</td>\n",
       "      <td>...</td>\n",
       "      <td>Yes</td>\n",
       "      <td>Month-to-month</td>\n",
       "      <td>Yes</td>\n",
       "      <td>Electronic check</td>\n",
       "      <td>99.65</td>\n",
       "      <td>820.50</td>\n",
       "      <td>1</td>\n",
       "      <td>5372</td>\n",
       "      <td>62.42377</td>\n",
       "      <td>2130.760691</td>\n",
       "    </tr>\n",
       "    <tr>\n",
       "      <th>3</th>\n",
       "      <td>Female</td>\n",
       "      <td>No</td>\n",
       "      <td>Yes</td>\n",
       "      <td>Yes</td>\n",
       "      <td>28</td>\n",
       "      <td>Yes</td>\n",
       "      <td>Yes</td>\n",
       "      <td>Fiber optic</td>\n",
       "      <td>No</td>\n",
       "      <td>No</td>\n",
       "      <td>...</td>\n",
       "      <td>Yes</td>\n",
       "      <td>Month-to-month</td>\n",
       "      <td>Yes</td>\n",
       "      <td>Electronic check</td>\n",
       "      <td>104.80</td>\n",
       "      <td>3046.05</td>\n",
       "      <td>1</td>\n",
       "      <td>5003</td>\n",
       "      <td>62.42377</td>\n",
       "      <td>2130.760691</td>\n",
       "    </tr>\n",
       "    <tr>\n",
       "      <th>4</th>\n",
       "      <td>Male</td>\n",
       "      <td>No</td>\n",
       "      <td>No</td>\n",
       "      <td>Yes</td>\n",
       "      <td>49</td>\n",
       "      <td>Yes</td>\n",
       "      <td>Yes</td>\n",
       "      <td>Fiber optic</td>\n",
       "      <td>No</td>\n",
       "      <td>Yes</td>\n",
       "      <td>...</td>\n",
       "      <td>Yes</td>\n",
       "      <td>Month-to-month</td>\n",
       "      <td>Yes</td>\n",
       "      <td>Bank transfer (automatic)</td>\n",
       "      <td>103.70</td>\n",
       "      <td>5036.30</td>\n",
       "      <td>1</td>\n",
       "      <td>5340</td>\n",
       "      <td>62.42377</td>\n",
       "      <td>2130.760691</td>\n",
       "    </tr>\n",
       "  </tbody>\n",
       "</table>\n",
       "<p>5 rows × 23 columns</p>\n",
       "</div>"
      ],
      "text/plain": [
       "   Gender Senior Citizen Partner Dependents  Tenure Phone Service  \\\n",
       "0    Male             No      No         No       2           Yes   \n",
       "1  Female             No      No        Yes       2           Yes   \n",
       "2  Female             No      No        Yes       8           Yes   \n",
       "3  Female             No     Yes        Yes      28           Yes   \n",
       "4    Male             No      No        Yes      49           Yes   \n",
       "\n",
       "  Multiple Lines Internet Service Online Security Online Backup  ...  \\\n",
       "0             No              DSL             Yes           Yes  ...   \n",
       "1             No      Fiber optic              No            No  ...   \n",
       "2            Yes      Fiber optic              No            No  ...   \n",
       "3            Yes      Fiber optic              No            No  ...   \n",
       "4            Yes      Fiber optic              No           Yes  ...   \n",
       "\n",
       "  Streaming Movies        Contract Paperless Billing  \\\n",
       "0               No  Month-to-month               Yes   \n",
       "1               No  Month-to-month               Yes   \n",
       "2              Yes  Month-to-month               Yes   \n",
       "3              Yes  Month-to-month               Yes   \n",
       "4              Yes  Month-to-month               Yes   \n",
       "\n",
       "              Payment Method Monthly Charges Total Charges Churn  CLTV  \\\n",
       "0               Mailed check           53.85        108.15     1  3239   \n",
       "1           Electronic check           70.70        151.65     1  2701   \n",
       "2           Electronic check           99.65        820.50     1  5372   \n",
       "3           Electronic check          104.80       3046.05     1  5003   \n",
       "4  Bank transfer (automatic)          103.70       5036.30     1  5340   \n",
       "\n",
       "   Avg Montly charges per city  Avg Total charges per city  \n",
       "0                     62.42377                 2130.760691  \n",
       "1                     62.42377                 2130.760691  \n",
       "2                     62.42377                 2130.760691  \n",
       "3                     62.42377                 2130.760691  \n",
       "4                     62.42377                 2130.760691  \n",
       "\n",
       "[5 rows x 23 columns]"
      ]
     },
     "execution_count": 16,
     "metadata": {},
     "output_type": "execute_result"
    }
   ],
   "source": [
    "dataset.head()"
   ]
  },
  {
   "cell_type": "markdown",
   "id": "f73e4682-f1fc-42c9-a4a4-a206fe577e5c",
   "metadata": {},
   "source": [
    "## Get an holdout sample"
   ]
  },
  {
   "cell_type": "code",
   "execution_count": 17,
   "id": "4702e34a-9ed1-4e45-b56c-b370cf6574c9",
   "metadata": {
    "papermill": {
     "duration": 2.374989,
     "end_time": "2022-11-05T00:48:00.828521",
     "exception": false,
     "start_time": "2022-11-05T00:47:58.453532",
     "status": "completed"
    },
    "tags": []
   },
   "outputs": [],
   "source": [
    "#Creating the holdout set\n",
    "#Reading the holdout size from the pipeline definition\n",
    "holdout_ratio = float(os.environ.get('HOLDOUT_RATIO', 0.15))"
   ]
  },
  {
   "cell_type": "code",
   "execution_count": 18,
   "id": "4fb8c39f-82fd-433c-b2c2-2206604fe5f1",
   "metadata": {},
   "outputs": [],
   "source": [
    "data = dataset.to_pandas()\n",
    "holdout_set = data.sample(frac=holdout_ratio)\n",
    "train_set = data.drop(holdout_set.index)"
   ]
  },
  {
   "cell_type": "code",
   "execution_count": null,
   "id": "418be0d6-8ad5-4916-aa77-945e020b3bb7",
   "metadata": {},
   "outputs": [],
   "source": [
    "train_set = Dataset(train_set)\n",
    "holdout_set = Dataset(holdout_set)"
   ]
  },
  {
   "cell_type": "code",
   "execution_count": 19,
   "id": "84715221-6af9-44cb-9e6e-b2bc6d0846ea",
   "metadata": {
    "papermill": {
     "duration": 0.059212,
     "end_time": "2022-11-05T00:48:00.928917",
     "exception": false,
     "start_time": "2022-11-05T00:48:00.869705",
     "status": "completed"
    },
    "tags": []
   },
   "outputs": [
    {
     "name": "stdout",
     "output_type": "stream",
     "text": [
      "[                                        ] | 0% Completed | 265.50 us"
     ]
    },
    {
     "name": "stderr",
     "output_type": "stream",
     "text": [
      "/opt/conda/lib/python3.8/site-packages/ydata/metadata/metadata.py:143: UserWarning: Datasets other than Timeseries don't make use of dataset_attrs\n",
      "  warn(\"Datasets other than Timeseries don't make use of dataset_attrs\")\n"
     ]
    },
    {
     "name": "stdout",
     "output_type": "stream",
     "text": [
      "[########################################] | 100% Completed | 102.07 ms\n",
      "[########################################] | 100% Completed | 830.49 ms\n",
      "[                                        ] | 0% Completed | 181.70 us"
     ]
    },
    {
     "name": "stderr",
     "output_type": "stream",
     "text": [
      "/opt/conda/lib/python3.8/site-packages/ydata/metadata/metadata.py:143: UserWarning: Datasets other than Timeseries don't make use of dataset_attrs\n",
      "  warn(\"Datasets other than Timeseries don't make use of dataset_attrs\")\n"
     ]
    },
    {
     "name": "stdout",
     "output_type": "stream",
     "text": [
      "[########################################] | 100% Completed | 101.91 ms\n",
      "[########################################] | 100% Completed | 725.61 ms\n"
     ]
    }
   ],
   "source": [
    "#recalculate the metadata\n",
    "metadata_train = Metadata(train_set)\n",
    "metadata_holdout = Metadata(holdout_set)"
   ]
  },
  {
   "cell_type": "code",
   "execution_count": 20,
   "id": "58b1e1c1-ada7-4740-ab79-7bee43a9eb5a",
   "metadata": {},
   "outputs": [
    {
     "name": "stdout",
     "output_type": "stream",
     "text": [
      "[                                        ] | 0% Completed | 166.40 us"
     ]
    },
    {
     "name": "stderr",
     "output_type": "stream",
     "text": [
      "/opt/conda/lib/python3.8/site-packages/ydata/metadata/metadata.py:143: UserWarning: Datasets other than Timeseries don't make use of dataset_attrs\n",
      "  warn(\"Datasets other than Timeseries don't make use of dataset_attrs\")\n"
     ]
    },
    {
     "name": "stdout",
     "output_type": "stream",
     "text": [
      "[########################################] | 100% Completed | 101.52 ms\n",
      "[########################################] | 100% Completed | 725.66 ms\n"
     ]
    }
   ],
   "source": [
    "metadata_holdout = Metadata(holdout_set)"
   ]
  },
  {
   "cell_type": "code",
   "execution_count": 21,
   "id": "3a992d0b-20e6-4f0e-bd7f-097814172c52",
   "metadata": {},
   "outputs": [
    {
     "data": {
      "text/plain": [
       "<ydata.metadata.metadata.Metadata at 0x7f3c6533cf70>"
      ]
     },
     "execution_count": 21,
     "metadata": {},
     "output_type": "execute_result"
    }
   ],
   "source": [
    "metadata_holdout"
   ]
  },
  {
   "cell_type": "code",
   "execution_count": 22,
   "id": "f6ff2912-7ef6-4922-a474-ab7b408c695d",
   "metadata": {},
   "outputs": [
    {
     "name": "stdout",
     "output_type": "stream",
     "text": [
      "\u001b[1mMetadata Summary \n",
      " \n",
      "\u001b[0m\u001b[1mDataset type: \u001b[0mTABULAR\n",
      "\u001b[1mDataset attributes: \u001b[0m\n",
      "\u001b[1mNumber of columns: \u001b[0m23\n",
      "\u001b[1mDuplicate rows: \u001b[0m1\n",
      "\u001b[1mTarget column: \u001b[0m\n",
      "\n",
      "\u001b[1mColumn detail: \u001b[0m\n",
      "                         Column    Data type Variable type\n",
      "0                        Gender  categorical        string\n",
      "1                Senior Citizen  categorical        string\n",
      "2                       Partner  categorical        string\n",
      "3                    Dependents  categorical        string\n",
      "4                        Tenure    numerical           int\n",
      "5                 Phone Service  categorical        string\n",
      "6                Multiple Lines  categorical        string\n",
      "7              Internet Service  categorical        string\n",
      "8               Online Security  categorical        string\n",
      "9                 Online Backup  categorical        string\n",
      "10            Device Protection  categorical        string\n",
      "11                 Tech Support  categorical        string\n",
      "12                 Streaming TV  categorical        string\n",
      "13             Streaming Movies  categorical        string\n",
      "14                     Contract  categorical        string\n",
      "15            Paperless Billing  categorical        string\n",
      "16               Payment Method  categorical        string\n",
      "17              Monthly Charges    numerical         float\n",
      "18                Total Charges    numerical         float\n",
      "19                        Churn    numerical           int\n",
      "20                         CLTV    numerical           int\n",
      "21  Avg Montly charges per city    numerical         float\n",
      "22   Avg Total charges per city    numerical         float\n",
      "\n",
      "\u001b[1mWarnings: \u001b[0m\n",
      "       Warning                                                                                                        Columns\n",
      "0     skewness                                                             [Total Charges, Churn, Avg Total charges per city]\n",
      "1        zeros                                                                                                        [Churn]\n",
      "2  correlation  [Tenure|Total Charges, Monthly Charges|Total Charges, Avg Montly charges per city|Avg Total charges per city]\n",
      "3       unique                                                                                                [Total Charges]\n",
      "\n"
     ]
    }
   ],
   "source": [
    "print(metadata_holdout)"
   ]
  },
  {
   "cell_type": "markdown",
   "id": "2e0a5b4a-77b3-4679-8544-513493cf35f9",
   "metadata": {},
   "source": [
    "## Create pipeline outputs"
   ]
  },
  {
   "cell_type": "code",
   "execution_count": 23,
   "id": "1c6bd8d3-49b5-4224-8790-4e865ecd8e13",
   "metadata": {},
   "outputs": [],
   "source": [
    "pipeline_parameters= read_file('pipeline_parameters.pkl')\n",
    "pipeline_parameters['holdout'] = holdout_ratio\n",
    "save_file(pipeline_parameters, 'pipeline_parameters.pkl')"
   ]
  },
  {
   "cell_type": "code",
   "execution_count": 24,
   "id": "3d967873-05bb-46dc-ab16-cff76a7596c8",
   "metadata": {
    "papermill": {
     "duration": 0.215546,
     "end_time": "2022-11-05T00:48:01.188465",
     "exception": false,
     "start_time": "2022-11-05T00:48:00.972919",
     "status": "completed"
    },
    "tags": []
   },
   "outputs": [],
   "source": [
    "metadata_train.save('metadata_train.pkl')\n",
    "metadata_holdout.save('metadata_holdout.pkl')\n",
    "\n",
    "save_file(train_set, 'train_set.pkl')\n",
    "save_file(holdout_set, 'holdout_set.pkl')"
   ]
  }
 ],
 "metadata": {
  "kernelspec": {
   "display_name": "Python 3 (ipykernel)",
   "language": "python",
   "name": "python3"
  },
  "language_info": {
   "codemirror_mode": {
    "name": "ipython",
    "version": 3
   },
   "file_extension": ".py",
   "mimetype": "text/x-python",
   "name": "python",
   "nbconvert_exporter": "python",
   "pygments_lexer": "ipython3",
   "version": "3.10.12"
  },
  "papermill": {
   "default_parameters": {},
   "duration": 6.848737,
   "end_time": "2022-11-05T00:48:01.914983",
   "environment_variables": {},
   "exception": null,
   "input_path": "/mnt/laboratory/5d43d643-fb1b-42e1-b84d-97ed329d4953/holdout.ipynb",
   "output_path": "/mnt/laboratory/5d43d643-fb1b-42e1-b84d-97ed329d4953/holdout.ipynb",
   "parameters": {},
   "start_time": "2022-11-05T00:47:55.066246",
   "version": "2.4.0"
  }
 },
 "nbformat": 4,
 "nbformat_minor": 5
}
