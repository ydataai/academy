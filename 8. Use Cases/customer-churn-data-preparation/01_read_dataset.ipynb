{
 "cells": [
  {
   "cell_type": "markdown",
   "id": "556e1a8e-ea01-4456-bbfe-74558a0c41af",
   "metadata": {
    "papermill": {
     "duration": 0.04862,
     "end_time": "2022-11-05T00:46:42.456373",
     "exception": false,
     "start_time": "2022-11-05T00:46:42.407753",
     "status": "completed"
    },
    "tags": []
   },
   "source": [
    "# 1. The impact of synthetic data on customer churn"
   ]
  },
  {
   "cell_type": "markdown",
   "id": "9e516a56-b114-410e-9fbc-211c45033c7c",
   "metadata": {},
   "source": [
    "We are all familiar with the axiom \"Garbage in, garbage out\", and this is very much true, specially in a setting and market where we see models getting more and more commmoditized. The business advatage will remain in the component that it is unique to every organization - the data.\n",
    "\n",
    "In every case - and particularly for credit scoring use cases - data preparation is a paramount. Nevertheless, and althoug the achievments we have observed in the past few years, data preparation is still the most challenging and time-consuming step. Ensuring data quality helps data teams to achieve bigger ROI from AI initiatives at a fraction of the effort it used to, translating into better scorecards that positively impact the business and customer experience.\n",
    "\n",
    "When we look into the credit scoring, there are particular issues that can dampen model accuracy - presence of outliers, missing values and the presence of imbalanced classes.\n",
    "\n",
    "In this usecase we will explore not only an iterative, traceable and comparable data processing for to improve the quality of the data for credit scorecards, but also how to mitigate each one of the identified challenges: missing data, presence of duplicates and last but not the least, imabalanced data.\n",
    "\n",
    "The dataset leveraged for the use-case can be easily found in [Kaggle - Telco churn](https://www.kaggle.com/datasets/blastchar/telco-customer-churn/code).\n"
   ]
  },
  {
   "cell_type": "markdown",
   "id": "89c76265-0f40-4b71-a123-8066103930b9",
   "metadata": {},
   "source": [
    "### Import needed packages"
   ]
  },
  {
   "cell_type": "code",
   "execution_count": 1,
   "id": "ac23c142-d3be-480e-9777-8ec21d5ba433",
   "metadata": {
    "tags": []
   },
   "outputs": [],
   "source": [
    "import os\n",
    "import pandas as pd\n",
    "from pathlib import Path\n",
    "\n",
    "# Importing YData's SDK packages\n",
    "from ydata.labs.datasources import DataSources\n",
    "from ydata.dataset import Dataset\n",
    "\n",
    "from functions.saving_functions import save_file"
   ]
  },
  {
   "cell_type": "markdown",
   "id": "7a319eb2-ad6a-41d3-be93-c9e09c64c931",
   "metadata": {
    "papermill": {
     "duration": 0.044602,
     "end_time": "2022-11-05T00:46:42.544860",
     "exception": false,
     "start_time": "2022-11-05T00:46:42.500258",
     "status": "completed"
    },
    "tags": []
   },
   "source": [
    "## Read the data\n",
    "\n",
    "The first step is to read the data. We have previously created the DataSource at the level of the UI. \n",
    "\n",
    "Because Fabric enables an ease integration between the labs and other workbenck elements (such as Datasources and Synthetisizers). The code below depicts how:"
   ]
  },
  {
   "cell_type": "code",
   "execution_count": 2,
   "id": "cbbc0936-2432-41f9-836c-a05ce7775bb8",
   "metadata": {
    "papermill": {
     "duration": 13.827613,
     "end_time": "2022-11-05T00:46:56.510025",
     "exception": false,
     "start_time": "2022-11-05T00:46:42.682412",
     "status": "completed"
    },
    "tags": []
   },
   "outputs": [
    {
     "name": "stdout",
     "output_type": "stream",
     "text": [
      "\u001b[1mMetadata Summary \n",
      " \n",
      "\u001b[0m\u001b[1mDataset type: \u001b[0mTABULAR\n",
      "\u001b[1mDataset attributes: \u001b[0m\n",
      "\u001b[1mNumber of columns: \u001b[0m32\n",
      "\u001b[1mNumber of rows: \u001b[0m7043\n",
      "\u001b[1mDuplicate rows: \u001b[0m33\n",
      "\u001b[1mTarget column: \u001b[0m\n",
      "\n",
      "\u001b[1mColumn detail: \u001b[0m\n",
      "               Column    Data type Variable type Characteristics\n",
      "0          CustomerID       string        string              id\n",
      "1               Count  categorical           int                \n",
      "2             Country  categorical        string        location\n",
      "3               State  categorical        string        location\n",
      "4                City       string        string                \n",
      "5            Zip Code    numerical           int                \n",
      "6            Lat Long       string        string                \n",
      "7            Latitude    numerical         float                \n",
      "8           Longitude    numerical         float                \n",
      "9              Gender  categorical        string                \n",
      "10     Senior Citizen  categorical        string                \n",
      "11            Partner  categorical        string                \n",
      "12         Dependents  categorical        string                \n",
      "13      Tenure Months    numerical           int                \n",
      "14      Phone Service  categorical        string                \n",
      "15     Multiple Lines  categorical        string                \n",
      "16   Internet Service  categorical        string                \n",
      "17    Online Security  categorical        string                \n",
      "18      Online Backup  categorical        string                \n",
      "19  Device Protection  categorical        string                \n",
      "20       Tech Support  categorical        string                \n",
      "21       Streaming TV  categorical        string                \n",
      "22   Streaming Movies  categorical        string                \n",
      "23           Contract  categorical        string                \n",
      "24  Paperless Billing  categorical        string                \n",
      "25     Payment Method  categorical        string                \n",
      "26    Monthly Charges    numerical         float                \n",
      "27      Total Charges    numerical         float                \n",
      "28        Churn Label  categorical        string                \n",
      "29        Churn Value  categorical           int                \n",
      "30               CLTV    numerical           int                \n",
      "31       Churn Reason  categorical        string                \n",
      "\n",
      "\u001b[1mWarnings: \u001b[0m\n",
      "           Warning                                                                                                                                                                                                                                                                                                                                                                                                                                                                                                                                                                                                                                                                                                                                                                                                                                                                                                                                                                                                                                                                                                                                                                                                                                                                               Columns\n",
      "0         skewness                                                                                                                                                                                                                                                                                                                                                                                                                                                                                                                                                                                                                                                                                                                                                                                                                                                                                                                                                                                                                                                                                                                                                                                                                                                                       [Total Charges]\n",
      "1      cardinality                                                                                                                                                                                                                                                                                                                                                                                                                                                                                                                                                                                                                                                                                                                                                                                                                                                                                                                                                                                                                                                                                                                                                                                                                                                          [CustomerID, City, Lat Long]\n",
      "2         missings                                                                                                                                                                                                                                                                                                                                                                                                                                                                                                                                                                                                                                                                                                                                                                                                                                                                                                                                                                                                                                                                                                                                                                                                                                                         [Total Charges, Churn Reason]\n",
      "3         constant                                                                                                                                                                                                                                                                                                                                                                                                                                                                                                                                                                                                                                                                                                                                                                                                                                                                                                                                                                                                                                                                                                                                                                                                                                                               [Count, Country, State]\n",
      "4            zeros                                                                                                                                                                                                                                                                                                                                                                                                                                                                                                                                                                                                                                                                                                                                                                                                                                                                                                                                                                                                                                                                                                                                                                                                                                                                       [Tenure Months]\n",
      "5        imbalance                                                                                                                                                                                                                                                                                                                                                                                                                                                                                                                                                                                                                                                                                                                                                                                                                                                                                                                                                                                                                                                                                                                                                                                                                 [Senior Citizen, Dependents, Phone Service, Churn Label, Churn Value]\n",
      "6           unique                                                                                                                                                                                                                                                                                                                                                                                                                                                                                                                                                                                                                                                                                                                                                                                                                                                                                                                                                                                                                                                                                                                                                                                                                                                                          [CustomerID]\n",
      "7  constant_length                                                                                                                                                                                                                                                                                                                                                                                                                                                                                                                                                                                                                                                                                                                                                                                                                                                                                                                                                                                                                                                                                                                                                                                                                                                          [CustomerID, Country, State]\n",
      "8      correlation  [City|Zip Code, City|Latitude, City|Longitude, Zip Code|Latitude, Zip Code|Longitude, Latitude|Longitude, Tenure Months|Contract, Tenure Months|Total Charges, Phone Service|Multiple Lines, Phone Service|Internet Service, Phone Service|Monthly Charges, Multiple Lines|Monthly Charges, Internet Service|Online Security, Internet Service|Online Backup, Internet Service|Device Protection, Internet Service|Tech Support, Internet Service|Streaming TV, Internet Service|Streaming Movies, Internet Service|Monthly Charges, Online Security|Online Backup, Online Security|Device Protection, Online Security|Tech Support, Online Security|Streaming TV, Online Security|Streaming Movies, Online Security|Monthly Charges, Online Backup|Device Protection, Online Backup|Tech Support, Online Backup|Streaming TV, Online Backup|Streaming Movies, Online Backup|Monthly Charges, Device Protection|Tech Support, Device Protection|Streaming TV, Device Protection|Streaming Movies, Device Protection|Monthly Charges, Tech Support|Streaming TV, Tech Support|Streaming Movies, Tech Support|Monthly Charges, Streaming TV|Streaming Movies, Streaming TV|Monthly Charges, Streaming Movies|Monthly Charges, Monthly Charges|Total Charges, Churn Label|Churn Reason]\n",
      "\n"
     ]
    }
   ],
   "source": [
    "# Importing YData's packages\n",
    "from ydata.labs import DataSources\n",
    "# Reading the Dataset from the DataSource\n",
    "datasource = DataSources.get(uid='17488144-9467-4902-8df9-5380a6a5700e', namespace='a0717134-f616-42fd-a38e-468c63d26802')\n",
    "dataset = datasource.dataset\n",
    "# Getting the calculated Metadata to get the profile overview information in the labs\n",
    "metadata = datasource.metadata\n",
    "print(metadata)"
   ]
  },
  {
   "cell_type": "code",
   "execution_count": 3,
   "id": "998072b2-81c7-4629-8ae9-017af130eb63",
   "metadata": {
    "tags": []
   },
   "outputs": [],
   "source": [
    "#Convert dataset to Dask engine\n",
    "dd_dataset = dataset.to_dask()\n",
    "\n",
    "#Rename the columns tenure and Churn Value for ease of exploration\n",
    "dd_dataset = dd_dataset.rename(columns={\"Tenure Months\": \"Tenure\", \"Churn Value\": \"Churn\"})"
   ]
  },
  {
   "cell_type": "code",
   "execution_count": 4,
   "id": "2b17124b-7cf8-49b5-9a12-a87ed4a18b65",
   "metadata": {
    "tags": []
   },
   "outputs": [],
   "source": [
    "dataset = Dataset(dd_dataset)"
   ]
  },
  {
   "cell_type": "markdown",
   "id": "83d5fbad-ee36-45ea-ab56-7e3b4fd3f82c",
   "metadata": {
    "papermill": {
     "duration": 0.048645,
     "end_time": "2022-11-05T00:46:57.380392",
     "exception": false,
     "start_time": "2022-11-05T00:46:57.331747",
     "status": "completed"
    },
    "tags": []
   },
   "source": [
    "## Data Exploration \n",
    "\n",
    "As a critical first step, we should develop a more comprehensive view of our data in order to understand the key drivers of customer churn."
   ]
  },
  {
   "cell_type": "code",
   "execution_count": 5,
   "id": "f1a63baf-7fbf-41b9-a8ff-6d3fe80e296f",
   "metadata": {
    "papermill": {
     "duration": 0.166432,
     "end_time": "2022-11-05T00:46:57.691642",
     "exception": false,
     "start_time": "2022-11-05T00:46:57.525210",
     "status": "completed"
    },
    "tags": []
   },
   "outputs": [
    {
     "data": {
      "text/html": [
       "<div>\n",
       "<style scoped>\n",
       "    .dataframe tbody tr th:only-of-type {\n",
       "        vertical-align: middle;\n",
       "    }\n",
       "\n",
       "    .dataframe tbody tr th {\n",
       "        vertical-align: top;\n",
       "    }\n",
       "\n",
       "    .dataframe thead th {\n",
       "        text-align: right;\n",
       "    }\n",
       "</style>\n",
       "<table border=\"1\" class=\"dataframe\">\n",
       "  <thead>\n",
       "    <tr style=\"text-align: right;\">\n",
       "      <th></th>\n",
       "      <th>CustomerID</th>\n",
       "      <th>Count</th>\n",
       "      <th>Country</th>\n",
       "      <th>State</th>\n",
       "      <th>City</th>\n",
       "      <th>Zip Code</th>\n",
       "      <th>Lat Long</th>\n",
       "      <th>Latitude</th>\n",
       "      <th>Longitude</th>\n",
       "      <th>Gender</th>\n",
       "      <th>...</th>\n",
       "      <th>Streaming Movies</th>\n",
       "      <th>Contract</th>\n",
       "      <th>Paperless Billing</th>\n",
       "      <th>Payment Method</th>\n",
       "      <th>Monthly Charges</th>\n",
       "      <th>Total Charges</th>\n",
       "      <th>Churn Label</th>\n",
       "      <th>Churn</th>\n",
       "      <th>CLTV</th>\n",
       "      <th>Churn Reason</th>\n",
       "    </tr>\n",
       "  </thead>\n",
       "  <tbody>\n",
       "    <tr>\n",
       "      <th>0</th>\n",
       "      <td>3668-QPYBK</td>\n",
       "      <td>1</td>\n",
       "      <td>United States</td>\n",
       "      <td>California</td>\n",
       "      <td>Los Angeles</td>\n",
       "      <td>90003</td>\n",
       "      <td>33.964131, -118.272783</td>\n",
       "      <td>33.964131</td>\n",
       "      <td>-118.272783</td>\n",
       "      <td>Male</td>\n",
       "      <td>...</td>\n",
       "      <td>No</td>\n",
       "      <td>Month-to-month</td>\n",
       "      <td>Yes</td>\n",
       "      <td>Mailed check</td>\n",
       "      <td>53.85</td>\n",
       "      <td>108.15</td>\n",
       "      <td>Yes</td>\n",
       "      <td>1</td>\n",
       "      <td>3239</td>\n",
       "      <td>Competitor made better offer</td>\n",
       "    </tr>\n",
       "    <tr>\n",
       "      <th>1</th>\n",
       "      <td>9237-HQITU</td>\n",
       "      <td>1</td>\n",
       "      <td>United States</td>\n",
       "      <td>California</td>\n",
       "      <td>Los Angeles</td>\n",
       "      <td>90005</td>\n",
       "      <td>34.059281, -118.30742</td>\n",
       "      <td>34.059281</td>\n",
       "      <td>-118.307420</td>\n",
       "      <td>Female</td>\n",
       "      <td>...</td>\n",
       "      <td>No</td>\n",
       "      <td>Month-to-month</td>\n",
       "      <td>Yes</td>\n",
       "      <td>Electronic check</td>\n",
       "      <td>70.70</td>\n",
       "      <td>151.65</td>\n",
       "      <td>Yes</td>\n",
       "      <td>1</td>\n",
       "      <td>2701</td>\n",
       "      <td>Moved</td>\n",
       "    </tr>\n",
       "    <tr>\n",
       "      <th>2</th>\n",
       "      <td>9305-CDSKC</td>\n",
       "      <td>1</td>\n",
       "      <td>United States</td>\n",
       "      <td>California</td>\n",
       "      <td>Los Angeles</td>\n",
       "      <td>90006</td>\n",
       "      <td>34.048013, -118.293953</td>\n",
       "      <td>34.048013</td>\n",
       "      <td>-118.293953</td>\n",
       "      <td>Female</td>\n",
       "      <td>...</td>\n",
       "      <td>Yes</td>\n",
       "      <td>Month-to-month</td>\n",
       "      <td>Yes</td>\n",
       "      <td>Electronic check</td>\n",
       "      <td>99.65</td>\n",
       "      <td>820.50</td>\n",
       "      <td>Yes</td>\n",
       "      <td>1</td>\n",
       "      <td>5372</td>\n",
       "      <td>Moved</td>\n",
       "    </tr>\n",
       "    <tr>\n",
       "      <th>3</th>\n",
       "      <td>7892-POOKP</td>\n",
       "      <td>1</td>\n",
       "      <td>United States</td>\n",
       "      <td>California</td>\n",
       "      <td>Los Angeles</td>\n",
       "      <td>90010</td>\n",
       "      <td>34.062125, -118.315709</td>\n",
       "      <td>34.062125</td>\n",
       "      <td>-118.315709</td>\n",
       "      <td>Female</td>\n",
       "      <td>...</td>\n",
       "      <td>Yes</td>\n",
       "      <td>Month-to-month</td>\n",
       "      <td>Yes</td>\n",
       "      <td>Electronic check</td>\n",
       "      <td>104.80</td>\n",
       "      <td>3046.05</td>\n",
       "      <td>Yes</td>\n",
       "      <td>1</td>\n",
       "      <td>5003</td>\n",
       "      <td>Moved</td>\n",
       "    </tr>\n",
       "    <tr>\n",
       "      <th>4</th>\n",
       "      <td>0280-XJGEX</td>\n",
       "      <td>1</td>\n",
       "      <td>United States</td>\n",
       "      <td>California</td>\n",
       "      <td>Los Angeles</td>\n",
       "      <td>90015</td>\n",
       "      <td>34.039224, -118.266293</td>\n",
       "      <td>34.039224</td>\n",
       "      <td>-118.266293</td>\n",
       "      <td>Male</td>\n",
       "      <td>...</td>\n",
       "      <td>Yes</td>\n",
       "      <td>Month-to-month</td>\n",
       "      <td>Yes</td>\n",
       "      <td>Bank transfer (automatic)</td>\n",
       "      <td>103.70</td>\n",
       "      <td>5036.30</td>\n",
       "      <td>Yes</td>\n",
       "      <td>1</td>\n",
       "      <td>5340</td>\n",
       "      <td>Competitor had better devices</td>\n",
       "    </tr>\n",
       "  </tbody>\n",
       "</table>\n",
       "<p>5 rows × 32 columns</p>\n",
       "</div>"
      ],
      "text/plain": [
       "   CustomerID  Count        Country       State         City  Zip Code  \\\n",
       "0  3668-QPYBK      1  United States  California  Los Angeles     90003   \n",
       "1  9237-HQITU      1  United States  California  Los Angeles     90005   \n",
       "2  9305-CDSKC      1  United States  California  Los Angeles     90006   \n",
       "3  7892-POOKP      1  United States  California  Los Angeles     90010   \n",
       "4  0280-XJGEX      1  United States  California  Los Angeles     90015   \n",
       "\n",
       "                 Lat Long   Latitude   Longitude  Gender  ...  \\\n",
       "0  33.964131, -118.272783  33.964131 -118.272783    Male  ...   \n",
       "1   34.059281, -118.30742  34.059281 -118.307420  Female  ...   \n",
       "2  34.048013, -118.293953  34.048013 -118.293953  Female  ...   \n",
       "3  34.062125, -118.315709  34.062125 -118.315709  Female  ...   \n",
       "4  34.039224, -118.266293  34.039224 -118.266293    Male  ...   \n",
       "\n",
       "  Streaming Movies        Contract Paperless Billing  \\\n",
       "0               No  Month-to-month               Yes   \n",
       "1               No  Month-to-month               Yes   \n",
       "2              Yes  Month-to-month               Yes   \n",
       "3              Yes  Month-to-month               Yes   \n",
       "4              Yes  Month-to-month               Yes   \n",
       "\n",
       "              Payment Method Monthly Charges Total Charges Churn Label Churn  \\\n",
       "0               Mailed check           53.85        108.15         Yes     1   \n",
       "1           Electronic check           70.70        151.65         Yes     1   \n",
       "2           Electronic check           99.65        820.50         Yes     1   \n",
       "3           Electronic check          104.80       3046.05         Yes     1   \n",
       "4  Bank transfer (automatic)          103.70       5036.30         Yes     1   \n",
       "\n",
       "   CLTV                   Churn Reason  \n",
       "0  3239   Competitor made better offer  \n",
       "1  2701                          Moved  \n",
       "2  5372                          Moved  \n",
       "3  5003                          Moved  \n",
       "4  5340  Competitor had better devices  \n",
       "\n",
       "[5 rows x 32 columns]"
      ]
     },
     "execution_count": 5,
     "metadata": {},
     "output_type": "execute_result"
    }
   ],
   "source": [
    "# Quickly previewing the Dataset\n",
    "dataset.head()"
   ]
  },
  {
   "cell_type": "markdown",
   "id": "87302ea0-9e1f-4ad3-9a07-027d7135c7da",
   "metadata": {
    "papermill": {
     "duration": 0.047505,
     "end_time": "2022-11-05T00:46:57.787207",
     "exception": false,
     "start_time": "2022-11-05T00:46:57.739702",
     "status": "completed"
    },
    "tags": []
   },
   "source": [
    "It is crucial for any Data Science process that the dataset variable types are correctly set, otherwise the process of data preparation might not be optimal, resulting in lower performance at the level of the classifiers to be built!"
   ]
  },
  {
   "cell_type": "code",
   "execution_count": 6,
   "id": "b4bf297f-090e-4d25-abb4-2c6fa61aa644",
   "metadata": {
    "papermill": {
     "duration": 0.172752,
     "end_time": "2022-11-05T00:46:58.009846",
     "exception": false,
     "start_time": "2022-11-05T00:46:57.837094",
     "status": "completed"
    },
    "tags": []
   },
   "outputs": [
    {
     "name": "stdout",
     "output_type": "stream",
     "text": [
      "\u001b[1mDataset \n",
      " \n",
      "\u001b[0m\u001b[1mShape: \u001b[0m(7043, 32)\n",
      "\u001b[1mSchema: \u001b[0m\n",
      "               Column Variable type\n",
      "0          CustomerID        string\n",
      "1               Count           int\n",
      "2             Country        string\n",
      "3               State        string\n",
      "4                City        string\n",
      "5            Zip Code           int\n",
      "6            Lat Long        string\n",
      "7            Latitude         float\n",
      "8           Longitude         float\n",
      "9              Gender        string\n",
      "10     Senior Citizen        string\n",
      "11            Partner        string\n",
      "12         Dependents        string\n",
      "13             Tenure           int\n",
      "14      Phone Service        string\n",
      "15     Multiple Lines        string\n",
      "16   Internet Service        string\n",
      "17    Online Security        string\n",
      "18      Online Backup        string\n",
      "19  Device Protection        string\n",
      "20       Tech Support        string\n",
      "21       Streaming TV        string\n",
      "22   Streaming Movies        string\n",
      "23           Contract        string\n",
      "24  Paperless Billing        string\n",
      "25     Payment Method        string\n",
      "26    Monthly Charges         float\n",
      "27      Total Charges         float\n",
      "28        Churn Label        string\n",
      "29              Churn           int\n",
      "30               CLTV           int\n",
      "31       Churn Reason        string\n",
      "\n",
      "\n"
     ]
    }
   ],
   "source": [
    "print(dataset)"
   ]
  },
  {
   "cell_type": "markdown",
   "id": "fb27b6c7-8def-4c58-8137-8732c07ccf86",
   "metadata": {},
   "source": [
    "Based on the above dataset summary and metadata information, we have identified that the **CustomerID** column is in fact an *ID* type. For that reason we have to update the Metadata selected data types. "
   ]
  },
  {
   "cell_type": "code",
   "execution_count": 9,
   "id": "706cd562-a25a-45d8-8349-95fb81d44457",
   "metadata": {
    "tags": []
   },
   "outputs": [],
   "source": [
    "#Updating the metadata with the correct data types\n",
    "metadata.update_datatypes({'CustomerID': 'string',\n",
    "                           'Churn Reason': 'longtext'})"
   ]
  },
  {
   "cell_type": "markdown",
   "id": "6db3ff78-b731-41b5-b0aa-311fca7e0743",
   "metadata": {},
   "source": [
    "## Create pipeline outputs"
   ]
  },
  {
   "cell_type": "code",
   "execution_count": 10,
   "id": "3a34a8f6-03d4-425d-99f9-2be56b953820",
   "metadata": {
    "papermill": {
     "duration": 2.611809,
     "end_time": "2022-11-05T00:47:02.265497",
     "exception": false,
     "start_time": "2022-11-05T00:46:59.653688",
     "status": "completed"
    },
    "tags": []
   },
   "outputs": [],
   "source": [
    "metadata.save('metadata.pkl')\n",
    "#saving the dataset\n",
    "save_file(dataset, file_path='dataset.pkl')"
   ]
  },
  {
   "cell_type": "code",
   "execution_count": 11,
   "id": "8a8e07ea-7cd5-463c-8661-db0d0d5c0540",
   "metadata": {
    "papermill": {
     "duration": 0.062437,
     "end_time": "2022-11-05T00:47:02.375912",
     "exception": false,
     "start_time": "2022-11-05T00:47:02.313475",
     "status": "completed"
    },
    "tags": []
   },
   "outputs": [],
   "source": [
    "#Get metadata warnings\n",
    "warnings=[]\n",
    "for warning, val in metadata.warnings.items():\n",
    "    for col in val:\n",
    "        try:\n",
    "            level = col.details['level'].name\n",
    "            value = round(col.details['value'], 4)\n",
    "        except:\n",
    "            level = None\n",
    "            value = None\n",
    "        warnings.append({'warning': warning, 'column': col.column, 'level': level, 'value':value})\n",
    "\n",
    "df_warnings= pd.DataFrame(warnings)"
   ]
  },
  {
   "cell_type": "code",
   "execution_count": 12,
   "id": "7423478a-1788-4a5d-ab26-b65bd80f1efa",
   "metadata": {
    "papermill": {
     "duration": 0.099634,
     "end_time": "2022-11-05T00:47:02.524875",
     "exception": false,
     "start_time": "2022-11-05T00:47:02.425241",
     "status": "completed"
    },
    "tags": []
   },
   "outputs": [],
   "source": [
    "import json\n",
    "\n",
    "metadata = {\n",
    "    'outputs' : [\n",
    "        {\n",
    "      'type': 'table',\n",
    "      'storage': 'inline',\n",
    "      'format': 'csv',\n",
    "      'header': list(df_warnings.columns),\n",
    "      'source': df_warnings.to_csv(header=False, index=False)\n",
    "    }\n",
    "    ]\n",
    "  }\n",
    "\n",
    "with open('mlpipeline-ui-metadata.json', 'w') as metadata_file:\n",
    "    json.dump(metadata, metadata_file)"
   ]
  }
 ],
 "metadata": {
  "kernelspec": {
   "display_name": "Python 3 (ipykernel)",
   "language": "python",
   "name": "python3"
  },
  "language_info": {
   "codemirror_mode": {
    "name": "ipython",
    "version": 3
   },
   "file_extension": ".py",
   "mimetype": "text/x-python",
   "name": "python",
   "nbconvert_exporter": "python",
   "pygments_lexer": "ipython3",
   "version": "3.10.12"
  },
  "papermill": {
   "default_parameters": {},
   "duration": 22.556678,
   "end_time": "2022-11-05T00:47:03.605300",
   "environment_variables": {},
   "exception": null,
   "input_path": "/mnt/laboratory/5d43d643-fb1b-42e1-b84d-97ed329d4953/01_read_and_clean.ipynb",
   "output_path": "/mnt/laboratory/5d43d643-fb1b-42e1-b84d-97ed329d4953/01_read_and_clean.ipynb",
   "parameters": {},
   "start_time": "2022-11-05T00:46:41.048622",
   "version": "2.4.0"
  }
 },
 "nbformat": 4,
 "nbformat_minor": 5
}
