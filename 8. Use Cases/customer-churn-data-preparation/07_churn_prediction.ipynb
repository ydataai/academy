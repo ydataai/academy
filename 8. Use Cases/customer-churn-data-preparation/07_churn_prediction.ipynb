{
 "cells": [
  {
   "cell_type": "markdown",
   "id": "30cf900b-69ee-4954-be37-4224fe60417e",
   "metadata": {
    "papermill": {
     "duration": 0.054354,
     "end_time": "2022-11-05T00:48:13.196017",
     "exception": false,
     "start_time": "2022-11-05T00:48:13.141663",
     "status": "completed"
    },
    "tags": []
   },
   "source": [
    "# 7. Customer churn classifier"
   ]
  },
  {
   "cell_type": "code",
   "execution_count": 1,
   "id": "d04110a5-49f1-404d-bdb0-6050fe6ac90f",
   "metadata": {
    "papermill": {
     "duration": 8.308769,
     "end_time": "2022-11-05T00:48:21.551422",
     "exception": false,
     "start_time": "2022-11-05T00:48:13.242653",
     "status": "completed"
    },
    "tags": []
   },
   "outputs": [],
   "source": [
    "%%capture\n",
    "!pip install catboost\n",
    "!pip install xgboost"
   ]
  },
  {
   "cell_type": "markdown",
   "id": "e25d3bec-ed43-41b3-89dc-04e62b72ec89",
   "metadata": {},
   "source": [
    "#### Import needed packages"
   ]
  },
  {
   "cell_type": "code",
   "execution_count": 2,
   "id": "eedcf43b-f7f3-4f13-b0dd-efcaeee00db6",
   "metadata": {
    "papermill": {
     "duration": 4.160311,
     "end_time": "2022-11-05T00:48:25.759550",
     "exception": false,
     "start_time": "2022-11-05T00:48:21.599239",
     "status": "completed"
    },
    "tags": []
   },
   "outputs": [
    {
     "name": "stdout",
     "output_type": "stream",
     "text": [
      "INFO: 2022-12-04 07:54:37,735 generated new fontManager\n"
     ]
    }
   ],
   "source": [
    "import os\n",
    "import base64\n",
    "from dataclasses import field, dataclass\n",
    "from typing import Callable, List, Tuple\n",
    "from pathlib import Path\n",
    "import itertools\n",
    "\n",
    "from functions.saving_functions import read_file\n",
    "from functions.preprocessing import transform_features\n",
    "\n",
    "import numpy as np\n",
    "\n",
    "# Importing YData's packages\n",
    "from ydata.labs.datasources import DataSources\n",
    "from ydata.metadata import Metadata\n",
    "from ydata.dataset import Dataset\n",
    "from ydata.utils.data_types import DataType\n",
    "\n",
    "import pandas as pd\n",
    "\n",
    "from sklearn.model_selection import train_test_split\n",
    "from sklearn.metrics import f1_score,roc_auc_score, confusion_matrix, precision_score, recall_score\n",
    "\n",
    "import matplotlib.pyplot as plt\n",
    "from matplotlib import rc,rcParams\n",
    "import seaborn as sns\n",
    "\n",
    "from sklearn.dummy import DummyClassifier\n",
    "from sklearn.ensemble import RandomForestClassifier, GradientBoostingClassifier\n",
    "from sklearn.model_selection import StratifiedKFold\n",
    "from sklearn.tree import DecisionTreeClassifier\n",
    "from catboost import CatBoostClassifier\n",
    "from lightgbm import LGBMClassifier\n",
    "from xgboost import XGBClassifier"
   ]
  },
  {
   "cell_type": "markdown",
   "id": "2e7656cf-4cb2-442f-a4c3-28ecac5cff71",
   "metadata": {
    "jp-MarkdownHeadingCollapsed": true,
    "tags": []
   },
   "source": [
    "#### Auxiliary functions"
   ]
  },
  {
   "cell_type": "code",
   "execution_count": 3,
   "id": "995e671d-182b-4b30-a9e2-437f9ba6e059",
   "metadata": {},
   "outputs": [],
   "source": [
    "def validate_models(models:list, X_test, y_test):\n",
    "    results_df = []\n",
    "    for k, model in models.items():\n",
    "        y_pred=models[k].predict(X_test)\n",
    "        roc_auc = roc_auc_score(y_test, model.predict_proba(X_test)[:,1])\n",
    "        f1 = f1_score(y_test, y_pred)\n",
    "        cnf_matrix=confusion_matrix(y_test, y_pred)\n",
    "        precision=precision_score(y_test, y_pred)\n",
    "        recall = recall_score(y_test, y_pred)\n",
    "\n",
    "        tn, fp, fn, tp = cnf_matrix.ravel()\n",
    "\n",
    "        results_df.append({'model': k, 'rocauc': roc_auc, 'f1': f1, 'precision': precision, 'recall': recall})\n",
    "\n",
    "    results_df = pd.DataFrame(results_df)\n",
    "    \n",
    "    return results_df"
   ]
  },
  {
   "cell_type": "code",
   "execution_count": 4,
   "id": "5d577d68-2e8a-4634-bef7-0d0f54982c90",
   "metadata": {},
   "outputs": [],
   "source": [
    "def plot_confusion_matrix(cnf_matrix, group_names=[\"True Neg\",\"False Pos\",\"False Neg\",\"True Pos\"]):\n",
    "    group_names = group_names\n",
    "    group_counts = [\"{0:0.0f}\".format(value) for value in cnf_matrix.flatten()]\n",
    "    group_percentages = [\"{0:.2%}\".format(value) for value in cnf_matrix.flatten()/np.sum(cnf_matrix)]\n",
    "    labels = [f\"{v1}\\n{v2}\\n{v3}\" for v1, v2, v3 in zip(group_names,group_counts,group_percentages)]\n",
    "\n",
    "    labels = np.asarray(labels).reshape(2,2)\n",
    "    \n",
    "    return sns.heatmap(cnf_matrix, annot=labels, fmt='', cmap='Blues')"
   ]
  },
  {
   "cell_type": "code",
   "execution_count": 5,
   "id": "9afd990b-5bda-49ac-acfb-27b5f8758015",
   "metadata": {},
   "outputs": [],
   "source": [
    "metric_colors = [\"#0047AB\", \"#6495ED\", \"#bcd3eb\", \"#7393B3\"]\n",
    "\n",
    "sel_models = [  \n",
    "               RandomForestClassifier(random_state = 42),\n",
    "               GradientBoostingClassifier(random_state = 42),\n",
    "               LGBMClassifier(random_state = 42),\n",
    "               XGBClassifier(random_state = 42),\n",
    "               DecisionTreeClassifier(random_state = 42)\n",
    "            ]"
   ]
  },
  {
   "cell_type": "markdown",
   "id": "310b6a65-f19a-450b-a9de-20fb1cb16b85",
   "metadata": {
    "jp-MarkdownHeadingCollapsed": true,
    "tags": []
   },
   "source": [
    "#### Get environment variables"
   ]
  },
  {
   "cell_type": "code",
   "execution_count": 6,
   "id": "361503ee-ddf8-40c2-8140-ca81e5116042",
   "metadata": {},
   "outputs": [],
   "source": [
    "target_col = os.environ.get('TARGET_COL', 'Churn')"
   ]
  },
  {
   "cell_type": "markdown",
   "id": "ee97953f-0267-49e4-87a7-2a31cc622384",
   "metadata": {},
   "source": [
    "## Read the dataset & Metadata"
   ]
  },
  {
   "cell_type": "code",
   "execution_count": 7,
   "id": "b56e1aaf-06e0-4d85-863d-fbd5a777848d",
   "metadata": {
    "papermill": {
     "duration": 0.142994,
     "end_time": "2022-11-05T00:48:26.054357",
     "exception": false,
     "start_time": "2022-11-05T00:48:25.911363",
     "status": "completed"
    },
    "tags": []
   },
   "outputs": [],
   "source": [
    "# read the inputs\n",
    "metadata = read_file('metadata_train.pkl')\n",
    "dataset = read_file('train_set.pkl')"
   ]
  },
  {
   "cell_type": "code",
   "execution_count": 8,
   "id": "a64dc162-c650-487c-b3ca-5259e747a712",
   "metadata": {},
   "outputs": [
    {
     "data": {
      "text/html": [
       "<div>\n",
       "<style scoped>\n",
       "    .dataframe tbody tr th:only-of-type {\n",
       "        vertical-align: middle;\n",
       "    }\n",
       "\n",
       "    .dataframe tbody tr th {\n",
       "        vertical-align: top;\n",
       "    }\n",
       "\n",
       "    .dataframe thead th {\n",
       "        text-align: right;\n",
       "    }\n",
       "</style>\n",
       "<table border=\"1\" class=\"dataframe\">\n",
       "  <thead>\n",
       "    <tr style=\"text-align: right;\">\n",
       "      <th></th>\n",
       "      <th>Gender</th>\n",
       "      <th>Senior Citizen</th>\n",
       "      <th>Partner</th>\n",
       "      <th>Dependents</th>\n",
       "      <th>Tenure</th>\n",
       "      <th>Phone Service</th>\n",
       "      <th>Multiple Lines</th>\n",
       "      <th>Internet Service</th>\n",
       "      <th>Online Security</th>\n",
       "      <th>Online Backup</th>\n",
       "      <th>...</th>\n",
       "      <th>Streaming Movies</th>\n",
       "      <th>Contract</th>\n",
       "      <th>Paperless Billing</th>\n",
       "      <th>Payment Method</th>\n",
       "      <th>Monthly Charges</th>\n",
       "      <th>Total Charges</th>\n",
       "      <th>Churn</th>\n",
       "      <th>CLTV</th>\n",
       "      <th>Avg Montly charges per city</th>\n",
       "      <th>Avg Total charges per city</th>\n",
       "    </tr>\n",
       "  </thead>\n",
       "  <tbody>\n",
       "    <tr>\n",
       "      <th>1</th>\n",
       "      <td>Female</td>\n",
       "      <td>No</td>\n",
       "      <td>No</td>\n",
       "      <td>Yes</td>\n",
       "      <td>2</td>\n",
       "      <td>Yes</td>\n",
       "      <td>No</td>\n",
       "      <td>Fiber optic</td>\n",
       "      <td>No</td>\n",
       "      <td>No</td>\n",
       "      <td>...</td>\n",
       "      <td>No</td>\n",
       "      <td>Month-to-month</td>\n",
       "      <td>Yes</td>\n",
       "      <td>Electronic check</td>\n",
       "      <td>70.70</td>\n",
       "      <td>151.65</td>\n",
       "      <td>1</td>\n",
       "      <td>2701</td>\n",
       "      <td>62.42377</td>\n",
       "      <td>2130.760691</td>\n",
       "    </tr>\n",
       "    <tr>\n",
       "      <th>2</th>\n",
       "      <td>Female</td>\n",
       "      <td>No</td>\n",
       "      <td>No</td>\n",
       "      <td>Yes</td>\n",
       "      <td>8</td>\n",
       "      <td>Yes</td>\n",
       "      <td>Yes</td>\n",
       "      <td>Fiber optic</td>\n",
       "      <td>No</td>\n",
       "      <td>No</td>\n",
       "      <td>...</td>\n",
       "      <td>Yes</td>\n",
       "      <td>Month-to-month</td>\n",
       "      <td>Yes</td>\n",
       "      <td>Electronic check</td>\n",
       "      <td>99.65</td>\n",
       "      <td>820.50</td>\n",
       "      <td>1</td>\n",
       "      <td>5372</td>\n",
       "      <td>62.42377</td>\n",
       "      <td>2130.760691</td>\n",
       "    </tr>\n",
       "    <tr>\n",
       "      <th>4</th>\n",
       "      <td>Male</td>\n",
       "      <td>No</td>\n",
       "      <td>No</td>\n",
       "      <td>Yes</td>\n",
       "      <td>49</td>\n",
       "      <td>Yes</td>\n",
       "      <td>Yes</td>\n",
       "      <td>Fiber optic</td>\n",
       "      <td>No</td>\n",
       "      <td>Yes</td>\n",
       "      <td>...</td>\n",
       "      <td>Yes</td>\n",
       "      <td>Month-to-month</td>\n",
       "      <td>Yes</td>\n",
       "      <td>Bank transfer (automatic)</td>\n",
       "      <td>103.70</td>\n",
       "      <td>5036.30</td>\n",
       "      <td>1</td>\n",
       "      <td>5340</td>\n",
       "      <td>62.42377</td>\n",
       "      <td>2130.760691</td>\n",
       "    </tr>\n",
       "    <tr>\n",
       "      <th>6</th>\n",
       "      <td>Male</td>\n",
       "      <td>Yes</td>\n",
       "      <td>No</td>\n",
       "      <td>No</td>\n",
       "      <td>1</td>\n",
       "      <td>No</td>\n",
       "      <td>No phone service</td>\n",
       "      <td>DSL</td>\n",
       "      <td>No</td>\n",
       "      <td>No</td>\n",
       "      <td>...</td>\n",
       "      <td>Yes</td>\n",
       "      <td>Month-to-month</td>\n",
       "      <td>Yes</td>\n",
       "      <td>Electronic check</td>\n",
       "      <td>39.65</td>\n",
       "      <td>39.65</td>\n",
       "      <td>1</td>\n",
       "      <td>5433</td>\n",
       "      <td>62.42377</td>\n",
       "      <td>2130.760691</td>\n",
       "    </tr>\n",
       "    <tr>\n",
       "      <th>7</th>\n",
       "      <td>Male</td>\n",
       "      <td>No</td>\n",
       "      <td>No</td>\n",
       "      <td>No</td>\n",
       "      <td>1</td>\n",
       "      <td>Yes</td>\n",
       "      <td>No</td>\n",
       "      <td>No</td>\n",
       "      <td>No internet service</td>\n",
       "      <td>No internet service</td>\n",
       "      <td>...</td>\n",
       "      <td>No internet service</td>\n",
       "      <td>Month-to-month</td>\n",
       "      <td>No</td>\n",
       "      <td>Mailed check</td>\n",
       "      <td>20.15</td>\n",
       "      <td>20.15</td>\n",
       "      <td>1</td>\n",
       "      <td>4832</td>\n",
       "      <td>62.42377</td>\n",
       "      <td>2130.760691</td>\n",
       "    </tr>\n",
       "  </tbody>\n",
       "</table>\n",
       "<p>5 rows × 23 columns</p>\n",
       "</div>"
      ],
      "text/plain": [
       "   Gender Senior Citizen Partner Dependents  Tenure Phone Service  \\\n",
       "1  Female             No      No        Yes       2           Yes   \n",
       "2  Female             No      No        Yes       8           Yes   \n",
       "4    Male             No      No        Yes      49           Yes   \n",
       "6    Male            Yes      No         No       1            No   \n",
       "7    Male             No      No         No       1           Yes   \n",
       "\n",
       "     Multiple Lines Internet Service      Online Security  \\\n",
       "1                No      Fiber optic                   No   \n",
       "2               Yes      Fiber optic                   No   \n",
       "4               Yes      Fiber optic                   No   \n",
       "6  No phone service              DSL                   No   \n",
       "7                No               No  No internet service   \n",
       "\n",
       "         Online Backup  ...     Streaming Movies        Contract  \\\n",
       "1                   No  ...                   No  Month-to-month   \n",
       "2                   No  ...                  Yes  Month-to-month   \n",
       "4                  Yes  ...                  Yes  Month-to-month   \n",
       "6                   No  ...                  Yes  Month-to-month   \n",
       "7  No internet service  ...  No internet service  Month-to-month   \n",
       "\n",
       "  Paperless Billing             Payment Method Monthly Charges Total Charges  \\\n",
       "1               Yes           Electronic check           70.70        151.65   \n",
       "2               Yes           Electronic check           99.65        820.50   \n",
       "4               Yes  Bank transfer (automatic)          103.70       5036.30   \n",
       "6               Yes           Electronic check           39.65         39.65   \n",
       "7                No               Mailed check           20.15         20.15   \n",
       "\n",
       "  Churn  CLTV  Avg Montly charges per city  Avg Total charges per city  \n",
       "1     1  2701                     62.42377                 2130.760691  \n",
       "2     1  5372                     62.42377                 2130.760691  \n",
       "4     1  5340                     62.42377                 2130.760691  \n",
       "6     1  5433                     62.42377                 2130.760691  \n",
       "7     1  4832                     62.42377                 2130.760691  \n",
       "\n",
       "[5 rows x 23 columns]"
      ]
     },
     "execution_count": 8,
     "metadata": {},
     "output_type": "execute_result"
    }
   ],
   "source": [
    "dataset.head()"
   ]
  },
  {
   "cell_type": "code",
   "execution_count": 9,
   "id": "e81f3225-6de8-4cb8-aee9-db71690f8706",
   "metadata": {},
   "outputs": [],
   "source": [
    "df = dataset.to_pandas()\n",
    "\n",
    "y = df[target_col]\n",
    "X = df.drop(target_col, axis=1)\n",
    "\n",
    "X_train, X_test, y_train, y_test = train_test_split(X,y ,\n",
    "                                   random_state=104, \n",
    "                                   test_size=0.20, \n",
    "                                   shuffle=True)"
   ]
  },
  {
   "cell_type": "markdown",
   "id": "a43bee3a-3495-454a-a831-e68962b95b80",
   "metadata": {},
   "source": [
    "### Data preparation to run the classifier (encoding, etc)"
   ]
  },
  {
   "cell_type": "code",
   "execution_count": 10,
   "id": "f9e39416-0ed9-4c86-8244-21de4068b88a",
   "metadata": {},
   "outputs": [],
   "source": [
    "#Muda para receber apenas as colunas do X\n",
    "X_metadata = metadata[list(set(X.columns)-set([target_col]))]\n",
    "pX_train, transformer = transform_features(X_train, X_metadata)"
   ]
  },
  {
   "cell_type": "markdown",
   "id": "35beecbd-1d71-4351-970b-30a2de6a01ef",
   "metadata": {
    "jp-MarkdownHeadingCollapsed": true,
    "tags": []
   },
   "source": [
    "### Train classifiers"
   ]
  },
  {
   "cell_type": "code",
   "execution_count": 11,
   "id": "0d03c617-1089-4e8c-bfd8-1d592e8374ac",
   "metadata": {},
   "outputs": [
    {
     "data": {
      "text/plain": [
       "{'RandomForestClassifier': RandomForestClassifier(random_state=42),\n",
       " 'GradientBoostingClassifier': GradientBoostingClassifier(random_state=42),\n",
       " 'LGBMClassifier': LGBMClassifier(random_state=42),\n",
       " 'XGBClassifier': XGBClassifier(base_score=0.5, booster='gbtree', callbacks=None,\n",
       "               colsample_bylevel=1, colsample_bynode=1, colsample_bytree=1,\n",
       "               early_stopping_rounds=None, enable_categorical=False,\n",
       "               eval_metric=None, feature_types=None, gamma=0, gpu_id=-1,\n",
       "               grow_policy='depthwise', importance_type=None,\n",
       "               interaction_constraints='', learning_rate=0.300000012,\n",
       "               max_bin=256, max_cat_threshold=64, max_cat_to_onehot=4,\n",
       "               max_delta_step=0, max_depth=6, max_leaves=0, min_child_weight=1,\n",
       "               missing=nan, monotone_constraints='()', n_estimators=100,\n",
       "               n_jobs=0, num_parallel_tree=1, predictor='auto', random_state=42, ...),\n",
       " 'DecisionTreeClassifier': DecisionTreeClassifier(random_state=42)}"
      ]
     },
     "execution_count": 11,
     "metadata": {},
     "output_type": "execute_result"
    }
   ],
   "source": [
    "models = {}\n",
    "for model in sel_models:\n",
    "    models[type(model).__name__]=model.fit(pX_train, y_train)\n",
    "    \n",
    "models"
   ]
  },
  {
   "cell_type": "markdown",
   "id": "fad59c5e-ea24-4604-87ad-e4189e25ca51",
   "metadata": {
    "jp-MarkdownHeadingCollapsed": true,
    "tags": []
   },
   "source": [
    "## Holdout prediction\n",
    "This should be split into another step"
   ]
  },
  {
   "cell_type": "code",
   "execution_count": 12,
   "id": "b9e85bc8-2c17-429e-b6ab-4873838958a4",
   "metadata": {
    "papermill": {
     "duration": 2.437385,
     "end_time": "2022-11-05T00:48:46.743394",
     "exception": false,
     "start_time": "2022-11-05T00:48:44.306009",
     "status": "completed"
    },
    "tags": []
   },
   "outputs": [],
   "source": [
    "holdout  = read_file('holdout_set.pkl')\n",
    "holdout_metadata = Metadata.load('metadata_holdout.pkl')"
   ]
  },
  {
   "cell_type": "code",
   "execution_count": 13,
   "id": "fec57f91-a279-4e66-8b54-db975b820afe",
   "metadata": {},
   "outputs": [],
   "source": [
    "test = holdout.to_pandas()\n",
    "y_holdout = test[target_col]\n",
    "X_holdout = test.drop(target_col, axis=1)\n",
    "\n",
    "pX_holdout = transformer.transform(X_holdout)"
   ]
  },
  {
   "cell_type": "code",
   "execution_count": 14,
   "id": "d03c6008-51a3-4c42-9b53-a26b09d7afd9",
   "metadata": {},
   "outputs": [],
   "source": [
    "holdout_labels = dict(y_holdout.value_counts())"
   ]
  },
  {
   "cell_type": "code",
   "execution_count": 15,
   "id": "06f52eca-cf95-4d1b-a65f-04e01bfd9d76",
   "metadata": {},
   "outputs": [],
   "source": [
    "pX_test = transformer.transform(X_test)"
   ]
  },
  {
   "cell_type": "code",
   "execution_count": 16,
   "id": "312c125e-9a95-47ae-a164-b178f25efd97",
   "metadata": {
    "papermill": {
     "duration": 0.112082,
     "end_time": "2022-11-05T00:48:46.908156",
     "exception": false,
     "start_time": "2022-11-05T00:48:46.796074",
     "status": "completed"
    },
    "tags": []
   },
   "outputs": [],
   "source": [
    "results_df = validate_models(models, pX_test, y_test)"
   ]
  },
  {
   "cell_type": "code",
   "execution_count": 17,
   "id": "674cf639-a440-458b-9ebc-aaf3e3468dad",
   "metadata": {
    "papermill": {
     "duration": 1.30105,
     "end_time": "2022-11-05T00:48:48.631644",
     "exception": false,
     "start_time": "2022-11-05T00:48:47.330594",
     "status": "completed"
    },
    "tags": []
   },
   "outputs": [
    {
     "data": {
      "image/png": "[encoded data removed]",
      "text/plain": [
       "<Figure size 640x480 with 1 Axes>"
      ]
     },
     "metadata": {},
     "output_type": "display_data"
    }
   ],
   "source": [
    "ax = results_df.sort_values('f1').plot.barh(x=\"model\", color=metric_colors, title='Classifiers results')\n",
    "ax.set_xlabel(\"Classifier models\")\n",
    "ax.set_ylabel(\"Percentage\")\n",
    "#Ok configure this plot to be used\n",
    "\n",
    "plt.savefig('models_metrics.png')\n",
    "\n",
    "metrics_graph = open('models_metrics.png', 'rb').read() # read bytes from file\n",
    "metrics_graph = base64.b64encode(metrics_graph)  # encode to base64 (bytes)\n",
    "metrics_graph = metrics_graph.decode()"
   ]
  },
  {
   "cell_type": "code",
   "execution_count": 18,
   "id": "e37346cf-2f05-42f4-ae48-ab458873ea1e",
   "metadata": {},
   "outputs": [],
   "source": [
    "best_results_test = dict(results_df.loc[results_df['f1'].idxmax()])"
   ]
  },
  {
   "cell_type": "code",
   "execution_count": 19,
   "id": "06acc5e7-d049-4dfb-98c1-fd084288e313",
   "metadata": {},
   "outputs": [],
   "source": [
    "best_model = models[best_results_test['model']]"
   ]
  },
  {
   "cell_type": "markdown",
   "id": "bfd96545-a60b-42f3-b0ad-18e495f6c71f",
   "metadata": {
    "jp-MarkdownHeadingCollapsed": true,
    "tags": []
   },
   "source": [
    "### Calculating Holdout metrics"
   ]
  },
  {
   "cell_type": "code",
   "execution_count": 20,
   "id": "002dd076-5396-4b0a-9d8e-55c9da0f0156",
   "metadata": {},
   "outputs": [],
   "source": [
    "holdout_pred = best_model.predict(pX_holdout)\n",
    "\n",
    "roc_auc = roc_auc_score(y_holdout, best_model.predict_proba(pX_holdout)[:,1])\n",
    "f1 = f1_score(y_holdout, holdout_pred)\n",
    "cnf_matrix=confusion_matrix(y_holdout, holdout_pred)\n",
    "precision=precision_score(y_holdout, holdout_pred)\n",
    "recall = recall_score(y_holdout, holdout_pred)\n",
    "cnf_matrix = confusion_matrix(y_holdout, holdout_pred)\n",
    "\n",
    "metrics = {\"rocauc\": roc_auc,\n",
    "           \"f1\": f1,\n",
    "           \"precision\":precision,\n",
    "           \"recall\": recall}"
   ]
  },
  {
   "cell_type": "code",
   "execution_count": 21,
   "id": "eac33412-b691-4cb3-8df6-decb882e4401",
   "metadata": {},
   "outputs": [
    {
     "data": {
      "image/png": "[encoded data removed]",
      "text/plain": [
       "<Figure size 640x480 with 2 Axes>"
      ]
     },
     "metadata": {},
     "output_type": "display_data"
    }
   ],
   "source": [
    "heamap_ax = plot_confusion_matrix(cnf_matrix)\n",
    "\n",
    "plt.savefig('heatmap_confusion_matrix.png')\n",
    "\n",
    "matrix_graph = open('heatmap_confusion_matrix.png', 'rb').read() # read bytes from file\n",
    "matrix_graph = base64.b64encode(matrix_graph)  # encode to base64 (bytes)\n",
    "matrix_graph = matrix_graph.decode()"
   ]
  },
  {
   "cell_type": "code",
   "execution_count": 23,
   "id": "1858b607-9d93-4d0c-90eb-77bfbbda3631",
   "metadata": {
    "papermill": {
     "duration": 0.065301,
     "end_time": "2022-11-05T00:48:49.315440",
     "exception": false,
     "start_time": "2022-11-05T00:48:49.250139",
     "status": "completed"
    },
    "tags": []
   },
   "outputs": [],
   "source": [
    "# generating the html to visualise in the pipeline!\n",
    "\n",
    "html_metrics = f\"\"\"\n",
    "<body>\n",
    "<h2>Model Performance</h2>\n",
    "<p style=\"text-align:center;\"><img src=\"data:image/png;base64,{metrics_graph}\"></p>\n",
    "</body>\n",
    "\"\"\"\n",
    "\n",
    "\n",
    "\n",
    "html_matrix = f\"\"\"\n",
    "<body>\n",
    "<h2>Confusion Matrix</h2>\n",
    "<p style=\"text-align:center;\"><img src=\"data:image/png;base64,{matrix_graph}\"></p>\n",
    "</body>\n",
    "\"\"\""
   ]
  },
  {
   "cell_type": "markdown",
   "id": "84b73caf-6126-4c85-80a5-e8c7c6425523",
   "metadata": {},
   "source": [
    "## Pipelines output"
   ]
  },
  {
   "cell_type": "code",
   "execution_count": 24,
   "id": "d4a88b0c-b1ca-47e0-92a7-7b6705a370e1",
   "metadata": {},
   "outputs": [],
   "source": [
    "pipeline_parameters = read_file('pipeline_parameters.pkl')"
   ]
  },
  {
   "cell_type": "code",
   "execution_count": 25,
   "id": "58f6106f-a7d8-4d2a-8f0f-2071dd835955",
   "metadata": {},
   "outputs": [],
   "source": [
    "pipeline_parameters= read_file('pipeline_parameters.pkl')\n",
    "\n",
    "try:\n",
    "    augment = int(pipeline_parameters['augment'])\n",
    "except:\n",
    "    print(pipeline_parameters)\n",
    "    \n",
    "sample_size=int(pipeline_parameters['sample_size'])"
   ]
  },
  {
   "cell_type": "code",
   "execution_count": 27,
   "id": "ec70be1f-6063-4249-991f-a6fb8539e704",
   "metadata": {
    "papermill": {
     "duration": 0.098242,
     "end_time": "2022-11-05T00:48:49.473092",
     "exception": false,
     "start_time": "2022-11-05T00:48:49.374850",
     "status": "completed"
    },
    "tags": []
   },
   "outputs": [],
   "source": [
    "import json\n",
    "\n",
    "profile_pipeline_output = {\n",
    "    'outputs' : [\n",
    "        {\n",
    "      'type': 'web-app',\n",
    "      'storage': 'inline',\n",
    "      'source': html_metrics,\n",
    "    },\n",
    "    {\n",
    "      'type': 'web-app',\n",
    "      'storage': 'inline',\n",
    "      'source': html_matrix,\n",
    "    },\n",
    "    ]\n",
    "  }\n",
    "\n",
    "with open('mlpipeline-ui-metadata.json', 'w') as metadata_file:\n",
    "    json.dump(profile_pipeline_output, metadata_file)"
   ]
  },
  {
   "cell_type": "code",
   "execution_count": 28,
   "id": "6be71a29-2dd5-40df-9968-604a8391fdb9",
   "metadata": {
    "papermill": {
     "duration": 0.113019,
     "end_time": "2022-11-05T00:48:49.763616",
     "exception": false,
     "start_time": "2022-11-05T00:48:49.650597",
     "status": "completed"
    },
    "tags": []
   },
   "outputs": [],
   "source": [
    "metrics = {\n",
    "'metrics': [\n",
    "    {\n",
    "        'name': 'roc-auc-score',\n",
    "        'numberValue':  metrics[\"rocauc\"],\n",
    "        'format': 'PERCENTAGE'       \n",
    "    },\n",
    "    {\n",
    "        'name': 'f1-score',\n",
    "        'numberValue':  metrics[\"f1\"],\n",
    "        'format': 'PERCENTAGE'  \n",
    "    },\n",
    "    {\n",
    "        'name': 'precision',\n",
    "        'numberValue':  metrics[\"precision\"],\n",
    "        'format': 'PERCENTAGE'  \n",
    "    },\n",
    "    {\n",
    "        'name': 'recall',\n",
    "        'numberValue':  metrics[\"recall\"],\n",
    "        'format': 'PERCENTAGE'  \n",
    "    },\n",
    "    {\n",
    "        'name': 'y-augment',\n",
    "        'numberValue':  augment,\n",
    "        'format': 'RAW'  \n",
    "    },\n",
    "    {\n",
    "        'name': 'y-sample-size',\n",
    "        'numberValue':  sample_size,\n",
    "        'format': 'RAW' \n",
    "    }\n",
    "]\n",
    "}\n",
    "with open('mlpipeline-metrics.json', 'w') as f:\n",
    "    json.dump(metrics, f)"
   ]
  }
 ],
 "metadata": {
  "kernelspec": {
   "display_name": "Python 3 (ipykernel)",
   "language": "python",
   "name": "python3"
  },
  "language_info": {
   "codemirror_mode": {
    "name": "ipython",
    "version": 3
   },
   "file_extension": ".py",
   "mimetype": "text/x-python",
   "name": "python",
   "nbconvert_exporter": "python",
   "pygments_lexer": "ipython3",
   "version": "3.10.12"
  },
  "papermill": {
   "default_parameters": {},
   "duration": 39.344174,
   "end_time": "2022-11-05T00:48:51.045876",
   "environment_variables": {},
   "exception": null,
   "input_path": "/mnt/laboratory/5d43d643-fb1b-42e1-b84d-97ed329d4953/05_churn_prediction.ipynb",
   "output_path": "/mnt/laboratory/5d43d643-fb1b-42e1-b84d-97ed329d4953/05_churn_prediction.ipynb",
   "parameters": {},
   "start_time": "2022-11-05T00:48:11.701702",
   "version": "2.4.0"
  }
 },
 "nbformat": 4,
 "nbformat_minor": 5
}
