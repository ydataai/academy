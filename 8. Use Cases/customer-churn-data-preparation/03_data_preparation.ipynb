{
 "cells": [
  {
   "cell_type": "markdown",
   "id": "e77027d0-4276-427e-902f-11460252e186",
   "metadata": {
    "execution": {
     "iopub.execute_input": "2022-11-05T00:47:49.549045Z",
     "iopub.status.busy": "2022-11-05T00:47:49.547681Z",
     "iopub.status.idle": "2022-11-05T00:47:51.111108Z",
     "shell.execute_reply": "2022-11-05T00:47:51.109344Z"
    },
    "papermill": {
     "duration": 1.616097,
     "end_time": "2022-11-05T00:47:51.114521",
     "exception": false,
     "start_time": "2022-11-05T00:47:49.498424",
     "status": "completed"
    },
    "tags": []
   },
   "source": [
    "# 3. Data preprocessing"
   ]
  },
  {
   "cell_type": "markdown",
   "id": "1a8bb77c-b935-45c4-886a-75bb9600c8f6",
   "metadata": {},
   "source": [
    "Feature engineering can be really helpful for data science projects by allowing the extraction/selection of the most relevant and important variables for a use case. Optimizing feature selection based on your downstream application is important to expective the expected results of AI developed solutions.\n",
    "\n",
    "In what concerns this customer churn use case, there is a lot of potential around location based columns and the available target information."
   ]
  },
  {
   "cell_type": "markdown",
   "id": "35eea72f-1d15-432e-93d6-a911d822c81a",
   "metadata": {
    "tags": []
   },
   "source": [
    "### Import needed packages"
   ]
  },
  {
   "cell_type": "code",
   "execution_count": 2,
   "id": "df7dcab7-0b4a-4084-a799-bfab271e86a4",
   "metadata": {},
   "outputs": [],
   "source": [
    "import os\n",
    "from pathlib import Path\n",
    "\n",
    "from functions.saving_functions import save_file, read_file\n",
    "\n",
    "from pandas_profiling import ProfileReport\n",
    "\n",
    "from ydata.dataset import Dataset\n",
    "from ydata.metadata import Metadata\n",
    "\n",
    "from sklearn.cluster import DBSCAN\n",
    "import joblib"
   ]
  },
  {
   "cell_type": "markdown",
   "id": "0c6bee15-1441-4e23-9a82-937fbf8c4f4a",
   "metadata": {},
   "source": [
    "#### Environment variables"
   ]
  },
  {
   "cell_type": "code",
   "execution_count": 3,
   "id": "ed462098-364b-45bb-9dd2-f81ac3bde6f7",
   "metadata": {},
   "outputs": [],
   "source": [
    "feat_eng = bool(os.environ.get('FEATURE_ENG', \"True\"))"
   ]
  },
  {
   "cell_type": "markdown",
   "id": "b4671822-3227-46a9-abb4-e5975bf807c6",
   "metadata": {},
   "source": [
    "## Read the dataset & load the metadata"
   ]
  },
  {
   "cell_type": "code",
   "execution_count": 4,
   "id": "a6c88e00-bf90-41f5-95ca-c47d1a34fc92",
   "metadata": {},
   "outputs": [],
   "source": [
    "dataset = read_file('dataset.pkl')\n",
    "metadata = Metadata.load('metadata.pkl')"
   ]
  },
  {
   "cell_type": "code",
   "execution_count": 5,
   "id": "da14c1a3-acfa-4cd9-a658-70e3e876800e",
   "metadata": {
    "papermill": {
     "duration": 0.129213,
     "end_time": "2022-11-05T00:47:51.284334",
     "exception": false,
     "start_time": "2022-11-05T00:47:51.155121",
     "status": "completed"
    },
    "tags": []
   },
   "outputs": [
    {
     "data": {
      "text/html": [
       "<div>\n",
       "<style scoped>\n",
       "    .dataframe tbody tr th:only-of-type {\n",
       "        vertical-align: middle;\n",
       "    }\n",
       "\n",
       "    .dataframe tbody tr th {\n",
       "        vertical-align: top;\n",
       "    }\n",
       "\n",
       "    .dataframe thead th {\n",
       "        text-align: right;\n",
       "    }\n",
       "</style>\n",
       "<table border=\"1\" class=\"dataframe\">\n",
       "  <thead>\n",
       "    <tr style=\"text-align: right;\">\n",
       "      <th></th>\n",
       "      <th>CustomerID</th>\n",
       "      <th>Count</th>\n",
       "      <th>Country</th>\n",
       "      <th>State</th>\n",
       "      <th>City</th>\n",
       "      <th>Zip Code</th>\n",
       "      <th>Lat Long</th>\n",
       "      <th>Latitude</th>\n",
       "      <th>Longitude</th>\n",
       "      <th>Gender</th>\n",
       "      <th>...</th>\n",
       "      <th>Streaming Movies</th>\n",
       "      <th>Contract</th>\n",
       "      <th>Paperless Billing</th>\n",
       "      <th>Payment Method</th>\n",
       "      <th>Monthly Charges</th>\n",
       "      <th>Total Charges</th>\n",
       "      <th>Churn Label</th>\n",
       "      <th>Churn</th>\n",
       "      <th>CLTV</th>\n",
       "      <th>Churn Reason</th>\n",
       "    </tr>\n",
       "  </thead>\n",
       "  <tbody>\n",
       "    <tr>\n",
       "      <th>0</th>\n",
       "      <td>3668-QPYBK</td>\n",
       "      <td>1</td>\n",
       "      <td>United States</td>\n",
       "      <td>California</td>\n",
       "      <td>Los Angeles</td>\n",
       "      <td>90003</td>\n",
       "      <td>33.964131, -118.272783</td>\n",
       "      <td>33.964131</td>\n",
       "      <td>-118.272783</td>\n",
       "      <td>Male</td>\n",
       "      <td>...</td>\n",
       "      <td>No</td>\n",
       "      <td>Month-to-month</td>\n",
       "      <td>Yes</td>\n",
       "      <td>Mailed check</td>\n",
       "      <td>53.85</td>\n",
       "      <td>108.15</td>\n",
       "      <td>Yes</td>\n",
       "      <td>1</td>\n",
       "      <td>3239</td>\n",
       "      <td>Competitor made better offer</td>\n",
       "    </tr>\n",
       "    <tr>\n",
       "      <th>1</th>\n",
       "      <td>9237-HQITU</td>\n",
       "      <td>1</td>\n",
       "      <td>United States</td>\n",
       "      <td>California</td>\n",
       "      <td>Los Angeles</td>\n",
       "      <td>90005</td>\n",
       "      <td>34.059281, -118.30742</td>\n",
       "      <td>34.059281</td>\n",
       "      <td>-118.307420</td>\n",
       "      <td>Female</td>\n",
       "      <td>...</td>\n",
       "      <td>No</td>\n",
       "      <td>Month-to-month</td>\n",
       "      <td>Yes</td>\n",
       "      <td>Electronic check</td>\n",
       "      <td>70.70</td>\n",
       "      <td>151.65</td>\n",
       "      <td>Yes</td>\n",
       "      <td>1</td>\n",
       "      <td>2701</td>\n",
       "      <td>Moved</td>\n",
       "    </tr>\n",
       "    <tr>\n",
       "      <th>2</th>\n",
       "      <td>9305-CDSKC</td>\n",
       "      <td>1</td>\n",
       "      <td>United States</td>\n",
       "      <td>California</td>\n",
       "      <td>Los Angeles</td>\n",
       "      <td>90006</td>\n",
       "      <td>34.048013, -118.293953</td>\n",
       "      <td>34.048013</td>\n",
       "      <td>-118.293953</td>\n",
       "      <td>Female</td>\n",
       "      <td>...</td>\n",
       "      <td>Yes</td>\n",
       "      <td>Month-to-month</td>\n",
       "      <td>Yes</td>\n",
       "      <td>Electronic check</td>\n",
       "      <td>99.65</td>\n",
       "      <td>820.50</td>\n",
       "      <td>Yes</td>\n",
       "      <td>1</td>\n",
       "      <td>5372</td>\n",
       "      <td>Moved</td>\n",
       "    </tr>\n",
       "    <tr>\n",
       "      <th>3</th>\n",
       "      <td>7892-POOKP</td>\n",
       "      <td>1</td>\n",
       "      <td>United States</td>\n",
       "      <td>California</td>\n",
       "      <td>Los Angeles</td>\n",
       "      <td>90010</td>\n",
       "      <td>34.062125, -118.315709</td>\n",
       "      <td>34.062125</td>\n",
       "      <td>-118.315709</td>\n",
       "      <td>Female</td>\n",
       "      <td>...</td>\n",
       "      <td>Yes</td>\n",
       "      <td>Month-to-month</td>\n",
       "      <td>Yes</td>\n",
       "      <td>Electronic check</td>\n",
       "      <td>104.80</td>\n",
       "      <td>3046.05</td>\n",
       "      <td>Yes</td>\n",
       "      <td>1</td>\n",
       "      <td>5003</td>\n",
       "      <td>Moved</td>\n",
       "    </tr>\n",
       "    <tr>\n",
       "      <th>4</th>\n",
       "      <td>0280-XJGEX</td>\n",
       "      <td>1</td>\n",
       "      <td>United States</td>\n",
       "      <td>California</td>\n",
       "      <td>Los Angeles</td>\n",
       "      <td>90015</td>\n",
       "      <td>34.039224, -118.266293</td>\n",
       "      <td>34.039224</td>\n",
       "      <td>-118.266293</td>\n",
       "      <td>Male</td>\n",
       "      <td>...</td>\n",
       "      <td>Yes</td>\n",
       "      <td>Month-to-month</td>\n",
       "      <td>Yes</td>\n",
       "      <td>Bank transfer (automatic)</td>\n",
       "      <td>103.70</td>\n",
       "      <td>5036.30</td>\n",
       "      <td>Yes</td>\n",
       "      <td>1</td>\n",
       "      <td>5340</td>\n",
       "      <td>Competitor had better devices</td>\n",
       "    </tr>\n",
       "  </tbody>\n",
       "</table>\n",
       "<p>5 rows × 32 columns</p>\n",
       "</div>"
      ],
      "text/plain": [
       "   CustomerID  Count        Country       State         City  Zip Code  \\\n",
       "0  3668-QPYBK      1  United States  California  Los Angeles     90003   \n",
       "1  9237-HQITU      1  United States  California  Los Angeles     90005   \n",
       "2  9305-CDSKC      1  United States  California  Los Angeles     90006   \n",
       "3  7892-POOKP      1  United States  California  Los Angeles     90010   \n",
       "4  0280-XJGEX      1  United States  California  Los Angeles     90015   \n",
       "\n",
       "                 Lat Long   Latitude   Longitude  Gender  ...  \\\n",
       "0  33.964131, -118.272783  33.964131 -118.272783    Male  ...   \n",
       "1   34.059281, -118.30742  34.059281 -118.307420  Female  ...   \n",
       "2  34.048013, -118.293953  34.048013 -118.293953  Female  ...   \n",
       "3  34.062125, -118.315709  34.062125 -118.315709  Female  ...   \n",
       "4  34.039224, -118.266293  34.039224 -118.266293    Male  ...   \n",
       "\n",
       "  Streaming Movies        Contract Paperless Billing  \\\n",
       "0               No  Month-to-month               Yes   \n",
       "1               No  Month-to-month               Yes   \n",
       "2              Yes  Month-to-month               Yes   \n",
       "3              Yes  Month-to-month               Yes   \n",
       "4              Yes  Month-to-month               Yes   \n",
       "\n",
       "              Payment Method Monthly Charges Total Charges Churn Label Churn  \\\n",
       "0               Mailed check           53.85        108.15         Yes     1   \n",
       "1           Electronic check           70.70        151.65         Yes     1   \n",
       "2           Electronic check           99.65        820.50         Yes     1   \n",
       "3           Electronic check          104.80       3046.05         Yes     1   \n",
       "4  Bank transfer (automatic)          103.70       5036.30         Yes     1   \n",
       "\n",
       "   CLTV                   Churn Reason  \n",
       "0  3239   Competitor made better offer  \n",
       "1  2701                          Moved  \n",
       "2  5372                          Moved  \n",
       "3  5003                          Moved  \n",
       "4  5340  Competitor had better devices  \n",
       "\n",
       "[5 rows x 32 columns]"
      ]
     },
     "execution_count": 5,
     "metadata": {},
     "output_type": "execute_result"
    }
   ],
   "source": [
    "dataset.head()"
   ]
  },
  {
   "cell_type": "code",
   "execution_count": 6,
   "id": "d424a5bf-1126-4601-a6af-1a8c24c8d716",
   "metadata": {},
   "outputs": [
    {
     "name": "stdout",
     "output_type": "stream",
     "text": [
      "\u001b[1mMetadata Summary \n",
      " \n",
      "\u001b[0m\u001b[1mDataset type: \u001b[0mTABULAR\n",
      "\u001b[1mDataset attributes: \u001b[0m\n",
      "\u001b[1mNumber of columns: \u001b[0m32\n",
      "\u001b[1mDuplicate rows: \u001b[0m12\n",
      "\u001b[1mTarget column: \u001b[0m\n",
      "\n",
      "\u001b[1mColumn detail: \u001b[0m\n",
      "               Column    Data type Variable type\n",
      "0          CustomerID           id        string\n",
      "1               Count    numerical           int\n",
      "2             Country  categorical        string\n",
      "3               State  categorical        string\n",
      "4                City  categorical        string\n",
      "5            Zip Code    numerical           int\n",
      "6            Lat Long  categorical        string\n",
      "7            Latitude    numerical         float\n",
      "8           Longitude    numerical         float\n",
      "9              Gender  categorical        string\n",
      "10     Senior Citizen  categorical        string\n",
      "11            Partner  categorical        string\n",
      "12         Dependents  categorical        string\n",
      "13             Tenure    numerical           int\n",
      "14      Phone Service  categorical        string\n",
      "15     Multiple Lines  categorical        string\n",
      "16   Internet Service  categorical        string\n",
      "17    Online Security  categorical        string\n",
      "18      Online Backup  categorical        string\n",
      "19  Device Protection  categorical        string\n",
      "20       Tech Support  categorical        string\n",
      "21       Streaming TV  categorical        string\n",
      "22   Streaming Movies  categorical        string\n",
      "23           Contract  categorical        string\n",
      "24  Paperless Billing  categorical        string\n",
      "25     Payment Method  categorical        string\n",
      "26    Monthly Charges    numerical         float\n",
      "27      Total Charges    numerical         float\n",
      "28        Churn Label  categorical        string\n",
      "29              Churn    numerical           int\n",
      "30               CLTV    numerical           int\n",
      "31       Churn Reason     longtext        string\n",
      "\n",
      "\u001b[1mWarnings: \u001b[0m\n",
      "           Warning                                                                                                           Columns\n",
      "0         skewness                                                                                                           [Churn]\n",
      "1      cardinality                                                                                                  [City, Lat Long]\n",
      "2         missings                                                                                                   [Total Charges]\n",
      "3         constant                                                                                           [Count, Country, State]\n",
      "4            zeros                                                                                    [Tenure, Total Charges, Churn]\n",
      "5      correlation  [Zip Code|Latitude, Zip Code|Longitude, Latitude|Longitude, Tenure|Total Charges, Monthly Charges|Total Charges]\n",
      "6           unique                                                                                       [CustomerID, Total Charges]\n",
      "7  constant_length                                                                                                  [Country, State]\n",
      "\n"
     ]
    }
   ],
   "source": [
    "print(metadata)"
   ]
  },
  {
   "cell_type": "markdown",
   "id": "3036a6aa-3212-4242-a4a0-bfa4c2e28da8",
   "metadata": {},
   "source": [
    "## Preprocess & Feature Engineering"
   ]
  },
  {
   "cell_type": "code",
   "execution_count": 7,
   "id": "121cba5e-5de9-40e4-bb5b-8b655e8a5620",
   "metadata": {},
   "outputs": [],
   "source": [
    "#Remove any ID columns as they are expected to be unique throughout the whoel dataset\n",
    "dataset = dataset.drop_columns(metadata.id_vars)"
   ]
  },
  {
   "cell_type": "code",
   "execution_count": 8,
   "id": "bbb84b5c-8218-4607-9928-d9da3de83050",
   "metadata": {
    "papermill": {
     "duration": 0.131114,
     "end_time": "2022-11-05T00:47:51.458073",
     "exception": false,
     "start_time": "2022-11-05T00:47:51.326959",
     "status": "completed"
    },
    "tags": []
   },
   "outputs": [],
   "source": [
    "#Clean the dataset based on Metadata\n",
    "dataset_cols = list(dataset.columns)\n",
    "if len(metadata.warnings['constant']) > 0:\n",
    "    const_cols = [warning.column for warning in metadata.warnings['constant']]\n",
    "\n",
    "dataset = dataset.select_columns(list(set(dataset_cols)-set(const_cols)))"
   ]
  },
  {
   "cell_type": "code",
   "execution_count": 9,
   "id": "35a635c9-9f33-414f-9303-90a538017004",
   "metadata": {},
   "outputs": [],
   "source": [
    "len_dataset = len(dataset)\n",
    "cardinality_cols = [(warning.details['value']/len_dataset) for warning in metadata.warnings['cardinality']]"
   ]
  },
  {
   "cell_type": "code",
   "execution_count": 10,
   "id": "1cc71805-72a5-4fac-ab55-adef5f8df96f",
   "metadata": {},
   "outputs": [],
   "source": [
    "#Lat lon is a calculated field which means it can be removed\n",
    "\n",
    "#Let's have a look into the cities representative distribution\n",
    "cities_cardinality = dataset.to_dask().groupby('City').count().sort_values(by='Zip Code', ascending=False)[['Zip Code']].compute()"
   ]
  },
  {
   "cell_type": "markdown",
   "id": "423dd263-f375-4300-8ee2-6641e83183ba",
   "metadata": {},
   "source": [
    "## Explore the city impact with compare profiling"
   ]
  },
  {
   "cell_type": "code",
   "execution_count": 11,
   "id": "7373f1cd-4622-49d7-a85e-f5156188cb08",
   "metadata": {},
   "outputs": [],
   "source": [
    "ten_cust = list(cities_cardinality[cities_cardinality['Zip Code'] <=10].reset_index()['City'])\n",
    "plus10_cust = list(cities_cardinality[cities_cardinality['Zip Code'] >10].reset_index()['City'])"
   ]
  },
  {
   "cell_type": "code",
   "execution_count": 12,
   "id": "6f0cee90-7d6e-40bf-b446-eff045a33257",
   "metadata": {},
   "outputs": [],
   "source": [
    "small_cities = dataset._data[dataset._data['City'].isin(ten_cust)].compute()\n",
    "bigger_cities = dataset._data[dataset._data['City'].isin(plus10_cust)].compute()"
   ]
  },
  {
   "cell_type": "code",
   "execution_count": 13,
   "id": "12be7edb-e1e6-41a4-8249-b395f0cb8394",
   "metadata": {},
   "outputs": [
    {
     "data": {
      "application/vnd.jupyter.widget-view+json": {
       "model_id": "912222267b40483d9682789f504c33b7",
       "version_major": 2,
       "version_minor": 0
      },
      "text/plain": [
       "Summarize dataset:   0%|          | 0/5 [00:00<?, ?it/s]"
      ]
     },
     "metadata": {},
     "output_type": "display_data"
    },
    {
     "data": {
      "application/vnd.jupyter.widget-view+json": {
       "model_id": "89faa44d21134f08a1aac4866a74ce0e",
       "version_major": 2,
       "version_minor": 0
      },
      "text/plain": [
       "Summarize dataset:   0%|          | 0/5 [00:00<?, ?it/s]"
      ]
     },
     "metadata": {},
     "output_type": "display_data"
    }
   ],
   "source": [
    "biggercities_r = ProfileReport(bigger_cities, title='Cities with +customers')\n",
    "smallcities_r = ProfileReport(small_cities, title='Cities with less customers')\n",
    "\n",
    "compare_report = biggercities_r.compare(smallcities_r)"
   ]
  },
  {
   "cell_type": "markdown",
   "id": "6e8c88d6-6f45-43f6-8cf2-7e4e91ce49e1",
   "metadata": {},
   "source": [
    "#### Dropping columns that are not relevant for the use case"
   ]
  },
  {
   "cell_type": "code",
   "execution_count": 15,
   "id": "94d1086f-52a3-4938-9de8-e0c1bf262abc",
   "metadata": {},
   "outputs": [],
   "source": [
    "## Drop variables related to location as they seem to hold no information\n",
    "location_var = ['Latitude', 'Longitude', 'Lat Long']"
   ]
  },
  {
   "cell_type": "code",
   "execution_count": 16,
   "id": "d36b8d24-2305-48fc-ae88-ee589da7ea93",
   "metadata": {},
   "outputs": [],
   "source": [
    "flrt_dataset = dataset.select_columns(list(set(dataset.columns) - set(location_var)))"
   ]
  },
  {
   "cell_type": "code",
   "execution_count": 17,
   "id": "7a59bae4-bcc8-4322-8169-8880bb9b3b51",
   "metadata": {},
   "outputs": [
    {
     "data": {
      "text/plain": [
       "0           Los Angeles\n",
       "1         Beverly Hills\n",
       "2       Huntington Park\n",
       "3               Lynwood\n",
       "4        Marina Del Rey\n",
       "             ...       \n",
       "1124            Milford\n",
       "1125            Calpine\n",
       "1126           Standish\n",
       "1127           Tulelake\n",
       "1128     Olympic Valley\n",
       "Name: City, Length: 1129, dtype: string"
      ]
     },
     "execution_count": 17,
     "metadata": {},
     "output_type": "execute_result"
    }
   ],
   "source": [
    "#create a new column based on wether is Los Angeles or not\n",
    "flrt_dataset.to_dask()['City'].unique().compute()"
   ]
  },
  {
   "cell_type": "code",
   "execution_count": 18,
   "id": "18673172-27d0-4183-afbf-0a1049ebc1ce",
   "metadata": {},
   "outputs": [
    {
     "data": {
      "text/html": [
       "<div>\n",
       "<style scoped>\n",
       "    .dataframe tbody tr th:only-of-type {\n",
       "        vertical-align: middle;\n",
       "    }\n",
       "\n",
       "    .dataframe tbody tr th {\n",
       "        vertical-align: top;\n",
       "    }\n",
       "\n",
       "    .dataframe thead th {\n",
       "        text-align: right;\n",
       "    }\n",
       "</style>\n",
       "<table border=\"1\" class=\"dataframe\">\n",
       "  <thead>\n",
       "    <tr style=\"text-align: right;\">\n",
       "      <th></th>\n",
       "      <th>City</th>\n",
       "      <th>Gender</th>\n",
       "      <th>Senior Citizen</th>\n",
       "      <th>Partner</th>\n",
       "      <th>Dependents</th>\n",
       "      <th>Tenure</th>\n",
       "      <th>Phone Service</th>\n",
       "      <th>Multiple Lines</th>\n",
       "      <th>Internet Service</th>\n",
       "      <th>Online Security</th>\n",
       "      <th>...</th>\n",
       "      <th>Streaming Movies</th>\n",
       "      <th>Contract</th>\n",
       "      <th>Paperless Billing</th>\n",
       "      <th>Payment Method</th>\n",
       "      <th>Monthly Charges</th>\n",
       "      <th>Total Charges</th>\n",
       "      <th>Churn Label</th>\n",
       "      <th>Churn</th>\n",
       "      <th>CLTV</th>\n",
       "      <th>Churn Reason</th>\n",
       "    </tr>\n",
       "  </thead>\n",
       "  <tbody>\n",
       "    <tr>\n",
       "      <th>0</th>\n",
       "      <td>Los Angeles</td>\n",
       "      <td>Male</td>\n",
       "      <td>No</td>\n",
       "      <td>No</td>\n",
       "      <td>No</td>\n",
       "      <td>2</td>\n",
       "      <td>Yes</td>\n",
       "      <td>No</td>\n",
       "      <td>DSL</td>\n",
       "      <td>Yes</td>\n",
       "      <td>...</td>\n",
       "      <td>No</td>\n",
       "      <td>Month-to-month</td>\n",
       "      <td>Yes</td>\n",
       "      <td>Mailed check</td>\n",
       "      <td>53.85</td>\n",
       "      <td>108.15</td>\n",
       "      <td>Yes</td>\n",
       "      <td>1</td>\n",
       "      <td>3239</td>\n",
       "      <td>Competitor made better offer</td>\n",
       "    </tr>\n",
       "    <tr>\n",
       "      <th>1</th>\n",
       "      <td>Los Angeles</td>\n",
       "      <td>Female</td>\n",
       "      <td>No</td>\n",
       "      <td>No</td>\n",
       "      <td>Yes</td>\n",
       "      <td>2</td>\n",
       "      <td>Yes</td>\n",
       "      <td>No</td>\n",
       "      <td>Fiber optic</td>\n",
       "      <td>No</td>\n",
       "      <td>...</td>\n",
       "      <td>No</td>\n",
       "      <td>Month-to-month</td>\n",
       "      <td>Yes</td>\n",
       "      <td>Electronic check</td>\n",
       "      <td>70.70</td>\n",
       "      <td>151.65</td>\n",
       "      <td>Yes</td>\n",
       "      <td>1</td>\n",
       "      <td>2701</td>\n",
       "      <td>Moved</td>\n",
       "    </tr>\n",
       "    <tr>\n",
       "      <th>2</th>\n",
       "      <td>Los Angeles</td>\n",
       "      <td>Female</td>\n",
       "      <td>No</td>\n",
       "      <td>No</td>\n",
       "      <td>Yes</td>\n",
       "      <td>8</td>\n",
       "      <td>Yes</td>\n",
       "      <td>Yes</td>\n",
       "      <td>Fiber optic</td>\n",
       "      <td>No</td>\n",
       "      <td>...</td>\n",
       "      <td>Yes</td>\n",
       "      <td>Month-to-month</td>\n",
       "      <td>Yes</td>\n",
       "      <td>Electronic check</td>\n",
       "      <td>99.65</td>\n",
       "      <td>820.50</td>\n",
       "      <td>Yes</td>\n",
       "      <td>1</td>\n",
       "      <td>5372</td>\n",
       "      <td>Moved</td>\n",
       "    </tr>\n",
       "    <tr>\n",
       "      <th>3</th>\n",
       "      <td>Los Angeles</td>\n",
       "      <td>Female</td>\n",
       "      <td>No</td>\n",
       "      <td>Yes</td>\n",
       "      <td>Yes</td>\n",
       "      <td>28</td>\n",
       "      <td>Yes</td>\n",
       "      <td>Yes</td>\n",
       "      <td>Fiber optic</td>\n",
       "      <td>No</td>\n",
       "      <td>...</td>\n",
       "      <td>Yes</td>\n",
       "      <td>Month-to-month</td>\n",
       "      <td>Yes</td>\n",
       "      <td>Electronic check</td>\n",
       "      <td>104.80</td>\n",
       "      <td>3046.05</td>\n",
       "      <td>Yes</td>\n",
       "      <td>1</td>\n",
       "      <td>5003</td>\n",
       "      <td>Moved</td>\n",
       "    </tr>\n",
       "    <tr>\n",
       "      <th>4</th>\n",
       "      <td>Los Angeles</td>\n",
       "      <td>Male</td>\n",
       "      <td>No</td>\n",
       "      <td>No</td>\n",
       "      <td>Yes</td>\n",
       "      <td>49</td>\n",
       "      <td>Yes</td>\n",
       "      <td>Yes</td>\n",
       "      <td>Fiber optic</td>\n",
       "      <td>No</td>\n",
       "      <td>...</td>\n",
       "      <td>Yes</td>\n",
       "      <td>Month-to-month</td>\n",
       "      <td>Yes</td>\n",
       "      <td>Bank transfer (automatic)</td>\n",
       "      <td>103.70</td>\n",
       "      <td>5036.30</td>\n",
       "      <td>Yes</td>\n",
       "      <td>1</td>\n",
       "      <td>5340</td>\n",
       "      <td>Competitor had better devices</td>\n",
       "    </tr>\n",
       "  </tbody>\n",
       "</table>\n",
       "<p>5 rows × 24 columns</p>\n",
       "</div>"
      ],
      "text/plain": [
       "          City  Gender Senior Citizen Partner Dependents  Tenure  \\\n",
       "0  Los Angeles    Male             No      No         No       2   \n",
       "1  Los Angeles  Female             No      No        Yes       2   \n",
       "2  Los Angeles  Female             No      No        Yes       8   \n",
       "3  Los Angeles  Female             No     Yes        Yes      28   \n",
       "4  Los Angeles    Male             No      No        Yes      49   \n",
       "\n",
       "  Phone Service Multiple Lines Internet Service Online Security  ...  \\\n",
       "0           Yes             No              DSL             Yes  ...   \n",
       "1           Yes             No      Fiber optic              No  ...   \n",
       "2           Yes            Yes      Fiber optic              No  ...   \n",
       "3           Yes            Yes      Fiber optic              No  ...   \n",
       "4           Yes            Yes      Fiber optic              No  ...   \n",
       "\n",
       "  Streaming Movies        Contract Paperless Billing  \\\n",
       "0               No  Month-to-month               Yes   \n",
       "1               No  Month-to-month               Yes   \n",
       "2              Yes  Month-to-month               Yes   \n",
       "3              Yes  Month-to-month               Yes   \n",
       "4              Yes  Month-to-month               Yes   \n",
       "\n",
       "              Payment Method Monthly Charges Total Charges Churn Label Churn  \\\n",
       "0               Mailed check           53.85        108.15         Yes     1   \n",
       "1           Electronic check           70.70        151.65         Yes     1   \n",
       "2           Electronic check           99.65        820.50         Yes     1   \n",
       "3           Electronic check          104.80       3046.05         Yes     1   \n",
       "4  Bank transfer (automatic)          103.70       5036.30         Yes     1   \n",
       "\n",
       "   CLTV                   Churn Reason  \n",
       "0  3239   Competitor made better offer  \n",
       "1  2701                          Moved  \n",
       "2  5372                          Moved  \n",
       "3  5003                          Moved  \n",
       "4  5340  Competitor had better devices  \n",
       "\n",
       "[5 rows x 24 columns]"
      ]
     },
     "execution_count": 18,
     "metadata": {},
     "output_type": "execute_result"
    }
   ],
   "source": [
    "flrt_dataset.head()"
   ]
  },
  {
   "cell_type": "code",
   "execution_count": 19,
   "id": "e12fc3e1-20f9-46e2-a941-fec1d220ae47",
   "metadata": {},
   "outputs": [],
   "source": [
    "dd_data = flrt_dataset.to_dask()"
   ]
  },
  {
   "cell_type": "code",
   "execution_count": 20,
   "id": "e576cad6-d7f9-40a7-8b33-b67cef992143",
   "metadata": {},
   "outputs": [],
   "source": [
    "dd_city = dd_data.groupby(['City'])[['Monthly Charges','Total Charges']].mean().reset_index()\n",
    "dd_city.columns = ['City', 'Avg Montly charges per city','Avg Total charges per city']"
   ]
  },
  {
   "cell_type": "code",
   "execution_count": 21,
   "id": "39c044d0-7264-4ce0-ba97-caed2bc92101",
   "metadata": {},
   "outputs": [],
   "source": [
    "#Add new columns to extract the city information\n",
    "dd_data = dd_data.merge(dd_city,on='City',suffixes=('_x', '_y'))"
   ]
  },
  {
   "cell_type": "code",
   "execution_count": 22,
   "id": "c0fb3014-2639-4e42-8711-689d72bd4530",
   "metadata": {},
   "outputs": [],
   "source": [
    "dd_data = dd_data.drop(['City', 'Churn Label'], axis=1)"
   ]
  },
  {
   "cell_type": "markdown",
   "id": "049135fb-7724-44e9-bd90-00602e417736",
   "metadata": {},
   "source": [
    "### Dropping churn reason as it leaks information"
   ]
  },
  {
   "cell_type": "code",
   "execution_count": 23,
   "id": "9f07afa2-6ac4-4cb8-9d32-193ee8d3096a",
   "metadata": {},
   "outputs": [],
   "source": [
    "dd_data = dd_data.drop('Churn Reason', axis=1)"
   ]
  },
  {
   "cell_type": "markdown",
   "id": "b6d345e1-da06-4036-8ae0-0fc2d49026b3",
   "metadata": {},
   "source": [
    "## Missing values processing"
   ]
  },
  {
   "cell_type": "code",
   "execution_count": 24,
   "id": "7f51dc6c-dedc-4f4f-8c5e-0be56c984f92",
   "metadata": {},
   "outputs": [],
   "source": [
    "dd_data = dd_data.dropna()"
   ]
  },
  {
   "cell_type": "code",
   "execution_count": 25,
   "id": "2db0dd71-1c6e-47bf-a929-7c406f4f96c2",
   "metadata": {},
   "outputs": [
    {
     "name": "stdout",
     "output_type": "stream",
     "text": [
      "[                                        ] | 0% Completed | 102.91 ms"
     ]
    },
    {
     "name": "stderr",
     "output_type": "stream",
     "text": [
      "/opt/conda/lib/python3.8/site-packages/ydata/metadata/metadata.py:143: UserWarning: Datasets other than Timeseries don't make use of dataset_attrs\n",
      "  warn(\"Datasets other than Timeseries don't make use of dataset_attrs\")\n"
     ]
    },
    {
     "name": "stdout",
     "output_type": "stream",
     "text": [
      "[########################################] | 100% Completed | 316.01 ms\n",
      "[########################################] | 100% Completed | 1.30 sms\n"
     ]
    }
   ],
   "source": [
    "preprocessed_data = Dataset(dd_data)\n",
    "preprocessed_meta = Metadata(preprocessed_data)"
   ]
  },
  {
   "cell_type": "markdown",
   "id": "b43b3cff-2b01-44e8-980a-0e3c0e0ff186",
   "metadata": {},
   "source": [
    "## Save as new datasource"
   ]
  },
  {
   "cell_type": "code",
   "execution_count": 26,
   "id": "55f40c4c-1415-4290-8160-91c9ff68c6db",
   "metadata": {},
   "outputs": [],
   "source": [
    "## add here the connector details\n",
    "from ydata.labs.connectors import Connectors\n",
    "from ydata.labs import GoogleCloudStorageDataSource, DataType, FileType\n",
    "\n",
    "conn=Connectors.get('{connector-id}')"
   ]
  },
  {
   "cell_type": "code",
   "execution_count": null,
   "id": "3aaf8d16-7937-411b-ae49-55a3ac8108a1",
   "metadata": {},
   "outputs": [],
   "source": [
    "conn.write_file(data=preprocessed_data, \n",
    "                path=\"{add-file-path}\")"
   ]
  },
  {
   "cell_type": "code",
   "execution_count": null,
   "id": "5c0a60b9-f081-4b33-8a3e-596c35af40c9",
   "metadata": {},
   "outputs": [],
   "source": [
    "datasource = GoogleCloudStorageDataSource(name='Customer churn - Preprocessed',\n",
    "                                          connector=conn,\n",
    "                                          data_type=DataType.TABULAR,\n",
    "                                          path=\"{add-file-path}\",\n",
    "                                          file_type=FileType.CSV,\n",
    "                                         )\n",
    "datasource.create()"
   ]
  },
  {
   "cell_type": "markdown",
   "id": "1f7fc6ae-68c7-4ed2-88cf-3a5c24689eed",
   "metadata": {},
   "source": [
    "## Create pipeline outputs"
   ]
  },
  {
   "cell_type": "markdown",
   "id": "d7752640-7159-4060-b646-f40641080ce2",
   "metadata": {},
   "source": [
    "### Saving the artifacts"
   ]
  },
  {
   "cell_type": "code",
   "execution_count": 31,
   "id": "b9a01bdf-eb87-44d4-a296-81c0df97f7de",
   "metadata": {},
   "outputs": [],
   "source": [
    "parameters = {'preprocessed_id': datasource.id}"
   ]
  },
  {
   "cell_type": "code",
   "execution_count": 32,
   "id": "f6746df4-10d9-42b0-b1cd-4b060c8cb496",
   "metadata": {
    "papermill": {
     "duration": 0.180654,
     "end_time": "2022-11-05T00:47:54.303344",
     "exception": false,
     "start_time": "2022-11-05T00:47:54.122690",
     "status": "completed"
    },
    "tags": []
   },
   "outputs": [],
   "source": [
    "metadata = preprocessed_meta.save('proc_metadata.pkl')\n",
    "\n",
    "#Saving pipeline parameters file\n",
    "save_file(parameters, file_path='pipeline_parameters.pkl')"
   ]
  },
  {
   "cell_type": "code",
   "execution_count": null,
   "id": "ee8717f1-d06a-402c-8998-39fe871d6ad1",
   "metadata": {},
   "outputs": [],
   "source": [
    "import json\n",
    "\n",
    "profile_pipeline_output = {\n",
    "    'outputs' : [\n",
    "        {\n",
    "      'type': 'web-app',\n",
    "      'storage': 'inline',\n",
    "      'source': compare_report.to_html(),\n",
    "    }\n",
    "    ]\n",
    "  }\n",
    "\n",
    "with open('mlpipeline-ui-metadata.json', 'w') as metadata_file:\n",
    "    json.dump(profile_pipeline_output, metadata_file)"
   ]
  }
 ],
 "metadata": {
  "kernelspec": {
   "display_name": "Python 3 (ipykernel)",
   "language": "python",
   "name": "python3"
  },
  "language_info": {
   "codemirror_mode": {
    "name": "ipython",
    "version": 3
   },
   "file_extension": ".py",
   "mimetype": "text/x-python",
   "name": "python",
   "nbconvert_exporter": "python",
   "pygments_lexer": "ipython3",
   "version": "3.10.12"
  },
  "papermill": {
   "default_parameters": {},
   "duration": 6.854638,
   "end_time": "2022-11-05T00:47:54.959239",
   "environment_variables": {},
   "exception": null,
   "input_path": "/mnt/laboratory/5d43d643-fb1b-42e1-b84d-97ed329d4953/feature_engineering.ipynb",
   "output_path": "/mnt/laboratory/5d43d643-fb1b-42e1-b84d-97ed329d4953/feature_engineering.ipynb",
   "parameters": {},
   "start_time": "2022-11-05T00:47:48.104601",
   "version": "2.4.0"
  }
 },
 "nbformat": 4,
 "nbformat_minor": 5
}
