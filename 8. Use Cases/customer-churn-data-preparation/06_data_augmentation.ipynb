{
 "cells": [
  {
   "cell_type": "markdown",
   "id": "556e1a8e-ea01-4456-bbfe-74558a0c41af",
   "metadata": {
    "papermill": {
     "duration": 0.046008,
     "end_time": "2022-11-05T00:38:00.309707",
     "exception": false,
     "start_time": "2022-11-05T00:38:00.263699",
     "status": "completed"
    },
    "tags": []
   },
   "source": [
    "# 6. Augment underepresented class with Synthetic data"
   ]
  },
  {
   "cell_type": "markdown",
   "id": "c479f862-fe26-4064-8068-15c1cc4d73d8",
   "metadata": {},
   "source": [
    "### Import the need packages"
   ]
  },
  {
   "cell_type": "code",
   "execution_count": 3,
   "id": "916ba7ed-b256-4b7a-b1b7-4fee7ed67d0a",
   "metadata": {
    "papermill": {
     "duration": 1.753869,
     "end_time": "2022-11-05T00:38:02.109726",
     "exception": false,
     "start_time": "2022-11-05T00:38:00.355857",
     "status": "completed"
    },
    "tags": []
   },
   "outputs": [],
   "source": [
    "import os\n",
    "from pathlib import Path\n",
    "import pandas as pd\n",
    "import numpy as np\n",
    "\n",
    "import dask.dataframe as dd\n",
    "\n",
    "from ydata.profiling import ProfileReport\n",
    "\n",
    "from ydata.synthesizers.regular import RegularSynthesizer\n",
    "\n",
    "from functions.saving_functions import read_file, save_file"
   ]
  },
  {
   "cell_type": "markdown",
   "id": "70f33a78-04ff-4680-9db0-8a87c926152a",
   "metadata": {
    "tags": []
   },
   "source": [
    "### Getting the running settings"
   ]
  },
  {
   "cell_type": "code",
   "execution_count": 4,
   "id": "1672b75d-79f0-4e41-b36f-8da4e381ce05",
   "metadata": {},
   "outputs": [],
   "source": [
    "#Reading the environment variables\n",
    "augment = int(os.environ.get('AUGMENT', 1))\n",
    "augment_class = os.environ.get('AUGMENT_CLASS', 'Churn')\n",
    "augment_class_val = int(os.environ.get('AUGMENT_CLASS_VAL', 1))\n",
    "sample_size = int(os.environ.get('SAMPLE_SIZE', 1000))\n",
    "\n",
    "try:\n",
    "    augment_class_val = int(os.environ.get('AUGMENT_CLASS_VAL', 1))\n",
    "except: \n",
    "    augment_class_val = os.environ.get('AUGMENT_CLASS_VAL', 1)"
   ]
  },
  {
   "cell_type": "markdown",
   "id": "d3758c8f-da4b-4126-b9fa-631a5a294054",
   "metadata": {},
   "source": [
    "## Read the dataset & Metadata"
   ]
  },
  {
   "cell_type": "code",
   "execution_count": 5,
   "id": "68a3d710-e125-49fd-9649-cabf6b1d49f9",
   "metadata": {},
   "outputs": [],
   "source": [
    "metadata = read_file('metadata_train.pkl')\n",
    "dataset = read_file('train_set.pkl')"
   ]
  },
  {
   "cell_type": "code",
   "execution_count": 6,
   "id": "f2da02db-0f7a-4e1c-918b-70424af49ad8",
   "metadata": {},
   "outputs": [],
   "source": [
    "# Importing YData's packages\n",
    "from ydata.labs import DataSources\n",
    "# Reading the Dataset from the DataSource\n",
    "datasource = DataSources.get(uid='{datasource-id}')\n",
    "\n",
    "dataset = datasource.dataset\n",
    "# Getting the calculated Metadata to get the profile overview information in the labs\n",
    "metadata = datasource.metadata"
   ]
  },
  {
   "cell_type": "markdown",
   "id": "27294780-4094-4cf9-af4a-31cc7e6224e8",
   "metadata": {
    "papermill": {
     "duration": 0.07576,
     "end_time": "2022-11-05T00:38:02.950536",
     "exception": false,
     "start_time": "2022-11-05T00:38:02.874776",
     "status": "completed"
    },
    "tags": []
   },
   "source": [
    "### The data synthesis"
   ]
  },
  {
   "cell_type": "markdown",
   "id": "aa797778-907f-41b3-84a9-ba3dea05037c",
   "metadata": {
    "papermill": {
     "duration": 0.044305,
     "end_time": "2022-11-05T00:38:03.777980",
     "exception": false,
     "start_time": "2022-11-05T00:38:03.733675",
     "status": "completed"
    },
    "tags": []
   },
   "source": [
    "#### Training the synthesizer"
   ]
  },
  {
   "cell_type": "code",
   "execution_count": 13,
   "id": "c6f0a3f3-0fe0-4bc1-bb58-3878182f0a24",
   "metadata": {
    "papermill": {
     "duration": 17.992648,
     "end_time": "2022-11-05T00:38:21.816622",
     "exception": false,
     "start_time": "2022-11-05T00:38:03.823974",
     "status": "completed"
    },
    "tags": []
   },
   "outputs": [
    {
     "name": "stdout",
     "output_type": "stream",
     "text": [
      "[########################################] | 100% Completed | 324.59 ms\n",
      "[########################################] | 100% Completed | 1.69 sms\n",
      "INFO: 2022-12-04 02:50:23,154 [SYNTHESIZER] - Number columns considered for synth: 23\n",
      "INFO: 2022-12-04 02:50:39,199 [SYNTHESIZER] - Starting the synthetic data modeling process over 1x1 blocks.\n",
      "INFO: 2022-12-04 02:50:39,205 [SYNTHESIZER] - Preprocess segment\n",
      "INFO: 2022-12-04 02:50:39,209 [SYNTHESIZER] - Synthesizer init.\n",
      "INFO: 2022-12-04 02:50:39,210 [SYNTHESIZER] - Processing the data prior fitting the synthesizer.\n",
      "INFO: 2022-12-04 02:50:42,195 [SYNTHESIZER] - Start generating model samples.\n"
     ]
    }
   ],
   "source": [
    "from ydata.dataset import Dataset\n",
    "from ydata.metadata import Metadata \n",
    "\n",
    "if bool(augment):    \n",
    "    synth = RegularSynthesizer()\n",
    "    synth.fit(dataset, metadata=metadata, condition_on=[augment_class])\n",
    "    synth_sample = synth.sample(sample_size)\n",
    "    \n",
    "    #Convert synth sample to DASK\n",
    "    synth_dataset = synth_sample.to_dask()\n",
    "    \n",
    "    #Re-compute dataset & Metadata    \n",
    "    dataset = Dataset(dd.concat([dataset.to_dask(), synth_dataset]))\n",
    "    metadata = Metadata(dataset)"
   ]
  },
  {
   "cell_type": "markdown",
   "id": "70e229a0-b316-4f4d-b348-b7244f301c14",
   "metadata": {},
   "source": [
    "## Pipeline Outputs"
   ]
  },
  {
   "cell_type": "code",
   "execution_count": 14,
   "id": "306a54a0-b7e2-4532-9bd7-14cae05f818f",
   "metadata": {},
   "outputs": [],
   "source": [
    "#Saving the generated sample\n",
    "if augment:\n",
    "    save_file(dataset, 'train_set.pkl')\n",
    "    metadata.save('metadata_train.pkl')"
   ]
  },
  {
   "cell_type": "code",
   "execution_count": 8,
   "id": "d5c68da8-d3c1-4677-bcf6-793eebf79f0f",
   "metadata": {},
   "outputs": [],
   "source": [
    "pipeline_parameters = read_file('pipeline_parameters.pkl')\n",
    "pipeline_parameters['augment'] = augment\n",
    "pipeline_parameters['sample_size'] = sample_size\n",
    "save_file(pipeline_parameters, 'pipeline_parameters.pkl')"
   ]
  }
 ],
 "metadata": {
  "kernelspec": {
   "display_name": "Python 3 (ipykernel)",
   "language": "python",
   "name": "python3"
  },
  "language_info": {
   "codemirror_mode": {
    "name": "ipython",
    "version": 3
   },
   "file_extension": ".py",
   "mimetype": "text/x-python",
   "name": "python",
   "nbconvert_exporter": "python",
   "pygments_lexer": "ipython3",
   "version": "3.10.12"
  },
  "papermill": {
   "default_parameters": {},
   "duration": 365.045245,
   "end_time": "2022-11-05T00:44:03.989019",
   "environment_variables": {},
   "exception": null,
   "input_path": "/mnt/laboratory/5d43d643-fb1b-42e1-b84d-97ed329d4953/03_synthesize_and_anonymize.ipynb",
   "output_path": "/mnt/laboratory/5d43d643-fb1b-42e1-b84d-97ed329d4953/03_synthesize_and_anonymize.ipynb",
   "parameters": {},
   "start_time": "2022-11-05T00:37:58.943774",
   "version": "2.4.0"
  }
 },
 "nbformat": 4,
 "nbformat_minor": 5
}
