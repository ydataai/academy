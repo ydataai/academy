{
 "cells": [
  {
   "cell_type": "markdown",
   "metadata": {},
   "source": [
    "# Datasets profiling compare\n",
    "\n",
    "Comparing data profiling across different datasets is essential for several reasons:\n",
    "\n",
    "**Ensuring Consistency and Quality:** Identifies discrepancies and maintains data quality when merging datasets.\n",
    "\n",
    "**Detecting Anomalies:** Highlights outliers and unexpected patterns not visible in isolated datasets.\n",
    "\n",
    "**Schema Comparison:** Ensures key fields match for seamless data integration.\n",
    "\n",
    "**Benchmarking:** Assesses data against industry or internal standards for quality and completeness.\n",
    "\n",
    "**Resource Allocation:** Guides where to focus cleaning and preprocessing efforts.\n",
    "\n",
    "**Historical Analysis:** Tracks data evolution over time for trend analysis and quality monitoring.\n",
    "\n",
    "**Feature Engineering:** Aids in creating robust machine learning models by understanding feature variations.\n",
    "\n",
    "By comparing dataset profiles, you can enhance the reliability and effectiveness of your data-driven processes."
   ]
  },
  {
   "cell_type": "markdown",
   "metadata": {},
   "source": [
    "## Read the datasets from the Catalog"
   ]
  },
  {
   "cell_type": "markdown",
   "metadata": {},
   "source": [
    "### Real dataset"
   ]
  },
  {
   "cell_type": "code",
   "execution_count": 1,
   "metadata": {
    "collapsed": false,
    "jupyter": {
     "outputs_hidden": false
    },
    "tags": []
   },
   "outputs": [
    {
     "name": "stdout",
     "output_type": "stream",
     "text": [
      "\u001b[1mMetadata Summary \n",
      " \n",
      "\u001b[0m\u001b[1mDataset type: \u001b[0mTABULAR\n",
      "\u001b[1mDataset attributes: \u001b[0m\n",
      "\u001b[1mNumber of columns: \u001b[0m15\n",
      "\u001b[1mNumber of rows: \u001b[0m32561\n",
      "\u001b[1mDuplicate rows: \u001b[0m0\n",
      "\u001b[1mTarget column: \u001b[0m\n",
      "\n",
      "\u001b[1mColumn detail: \u001b[0m\n",
      "            Column    Data type Variable type Characteristics\n",
      "0              age    numerical           int                \n",
      "1        workclass  categorical        string                \n",
      "2           fnlwgt    numerical           int                \n",
      "3        education  categorical        string                \n",
      "4    education-num  categorical           int                \n",
      "5   marital-status  categorical        string                \n",
      "6       occupation  categorical        string                \n",
      "7     relationship  categorical        string                \n",
      "8             race  categorical        string                \n",
      "9              sex  categorical        string                \n",
      "10    capital-gain    numerical           int                \n",
      "11    capital-loss    numerical           int                \n",
      "12  hours-per-week    numerical           int                \n",
      "13  native-country       string        string                \n",
      "14          income  categorical        string                \n",
      "\n",
      "\u001b[1mWarnings: \u001b[0m\n",
      "       Warning                                                                                                            Columns\n",
      "0     skewness                                                                          [age, fnlwgt, capital-gain, capital-loss]\n",
      "1  cardinality                                                                                                   [native-country]\n",
      "2     missings                                                                            [workclass, occupation, native-country]\n",
      "3        zeros                                                                                       [capital-gain, capital-loss]\n",
      "4    imbalance                  [workclass, education, education-num, marital-status, relationship, race, native-country, income]\n",
      "5  correlation  [education|education-num, marital-status|relationship, marital-status|sex, relationship|sex, relationship|income]\n",
      "\n"
     ]
    }
   ],
   "source": [
    "# Importing YData's packages\n",
    "from ydata.labs import DataSources\n",
    "# Reading the Dataset from the DataSource\n",
    "datasource = DataSources.get(uid='{datasource_id}')\n",
    "dataset = datasource.dataset\n",
    "# Getting the calculated Metadata to get the profile overview information in the labs\n",
    "metadata = datasource.metadata\n",
    "print(metadata)"
   ]
  },
  {
   "cell_type": "markdown",
   "metadata": {},
   "source": [
    "### Synthetic dataset"
   ]
  },
  {
   "cell_type": "code",
   "execution_count": 3,
   "metadata": {
    "tags": []
   },
   "outputs": [
    {
     "name": "stdout",
     "output_type": "stream",
     "text": [
      "\u001b[1mMetadata Summary \n",
      " \n",
      "\u001b[0m\u001b[1mDataset type: \u001b[0mTABULAR\n",
      "\u001b[1mDataset attributes: \u001b[0m\n",
      "\u001b[1mNumber of columns: \u001b[0m15\n",
      "\u001b[1mNumber of rows: \u001b[0m32561\n",
      "\u001b[1mDuplicate rows: \u001b[0m0\n",
      "\u001b[1mTarget column: \u001b[0m\n",
      "\n",
      "\u001b[1mColumn detail: \u001b[0m\n",
      "            Column    Data type Variable type Characteristics\n",
      "0              age    numerical           int                \n",
      "1        workclass  categorical        string                \n",
      "2           fnlwgt    numerical           int                \n",
      "3        education  categorical        string                \n",
      "4    education-num  categorical           int                \n",
      "5   marital-status  categorical        string                \n",
      "6       occupation  categorical        string                \n",
      "7     relationship  categorical        string                \n",
      "8             race  categorical        string                \n",
      "9              sex  categorical        string                \n",
      "10    capital-gain    numerical           int                \n",
      "11    capital-loss    numerical           int                \n",
      "12  hours-per-week    numerical           int                \n",
      "13  native-country       string        string                \n",
      "14          income  categorical        string                \n",
      "\n",
      "\u001b[1mWarnings: \u001b[0m\n",
      "       Warning                                                                                                            Columns\n",
      "0     skewness                                                                          [age, fnlwgt, capital-gain, capital-loss]\n",
      "1  cardinality                                                                                                   [native-country]\n",
      "2     missings                                                                            [workclass, occupation, native-country]\n",
      "3        zeros                                                                                       [capital-gain, capital-loss]\n",
      "4    imbalance                  [workclass, education, education-num, marital-status, relationship, race, native-country, income]\n",
      "5  correlation  [education|education-num, marital-status|relationship, marital-status|sex, relationship|sex, relationship|income]\n",
      "\n"
     ]
    }
   ],
   "source": [
    "# Importing YData's packages\n",
    "from ydata.labs import DataSources\n",
    "# Reading the Dataset from the DataSource\n",
    "datasource_synth = DataSources.get(uid='{datasource_id}')\n",
    "dataset_synth = datasource_synth.dataset\n",
    "# Getting the calculated Metadata to get the profile overview information in the labs\n",
    "metadata_synth = datasource_synth.metadata\n",
    "print(metadata_synth)"
   ]
  },
  {
   "cell_type": "markdown",
   "metadata": {
    "tags": []
   },
   "source": [
    "## Profile a dataset"
   ]
  },
  {
   "cell_type": "code",
   "execution_count": 4,
   "metadata": {
    "tags": []
   },
   "outputs": [
    {
     "name": "stdout",
     "output_type": "stream",
     "text": [
      "INFO: 2024-08-08 23:38:05,375 Pandas backend loaded 1.5.3\n",
      "INFO: 2024-08-08 23:38:05,383 Numpy backend loaded 1.23.5\n",
      "INFO: 2024-08-08 23:38:05,385 Pyspark backend NOT loaded\n",
      "INFO: 2024-08-08 23:38:05,386 Python backend loaded\n"
     ]
    },
    {
     "name": "stderr",
     "output_type": "stream",
     "text": [
      "/home/ydata/.venv/lib/python3.10/site-packages/numba/core/decorators.py:262: NumbaDeprecationWarning: \u001b[1mnumba.generated_jit is deprecated. Please see the documentation at: https://numba.readthedocs.io/en/stable/reference/deprecation.html#deprecation-of-generated-jit for more information and advice on a suitable replacement.\u001b[0m\n",
      "  warnings.warn(msg, NumbaDeprecationWarning)\n",
      "/home/ydata/.venv/lib/python3.10/site-packages/visions/backends/shared/nan_handling.py:51: NumbaDeprecationWarning: \u001b[1mThe 'nopython' keyword argument was not supplied to the 'numba.jit' decorator. The implicit default value for this argument is currently False, but it will be changed to True in Numba 0.59.0. See https://numba.readthedocs.io/en/stable/reference/deprecation.html#deprecation-of-object-mode-fall-back-behaviour-when-using-jit for details.\u001b[0m\n",
      "  def hasna(x: np.ndarray) -> bool:\n"
     ]
    }
   ],
   "source": [
    "from ydata.profiling import ProfileReport"
   ]
  },
  {
   "cell_type": "code",
   "execution_count": null,
   "metadata": {
    "tags": []
   },
   "outputs": [],
   "source": [
    "report = ProfileReport(dataset, title='Census original')\n",
    "report_synth = ProfileReport(dataset_synth, title='Census synthetic')\n",
    "report.to_file('census_original_profiling.html') #This will save the report as a shareable HTML file\n",
    "report_synth.to_file('census_synthetic_profiling.html')\n",
    "# Compare the synthetic data with the original data\n",
    "comparison_report = report.compare(report_synth)\n",
    "comparison_report.to_file(\"comparison_profiling_report.html\")\n",
    "\n",
    "# The profiling report can be also stored as json using the command below\n",
    "#report.to_file('census_compare_profiling.json')"
   ]
  },
  {
   "cell_type": "code",
   "execution_count": null,
   "metadata": {},
   "outputs": [],
   "source": []
  }
 ],
 "metadata": {
  "kernelspec": {
   "display_name": "Python 3 (ipykernel)",
   "language": "python",
   "name": "python3"
  },
  "language_info": {
   "codemirror_mode": {
    "name": "ipython",
    "version": 3
   },
   "file_extension": ".py",
   "mimetype": "text/x-python",
   "name": "python",
   "nbconvert_exporter": "python",
   "pygments_lexer": "ipython3",
   "version": "3.10.12"
  }
 },
 "nbformat": 4,
 "nbformat_minor": 4
}
