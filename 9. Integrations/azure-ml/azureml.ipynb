{
 "cells": [
  {
   "cell_type": "markdown",
   "id": "88a7d959-4d32-4e34-af16-e01060757747",
   "metadata": {},
   "source": [
    "## Train a Churn Prediction model on YData and deploy it on Azure Container Instance (ACI)\n",
    "\n",
    "In this tutorial, you train a machine learning model on YData and then deploy it on Azure.\n",
    "\n",
    "This tutorial trains a simple logistic regression model using the [TelcoChurn](https://www.kaggle.com/bandiatindra/telecom-churn-prediction/data) dataset and [scikit-learn](http://scikit-learn.org) with Azure Machine Learning.\n",
    "\n",
    "In this tutroial you will learn to:\n",
    "\n",
    "> * Set up your development environment\n",
    "> * Access and examine the data\n",
    "> * Train and pickle a simple logistic regression model using YData\n",
    "> * Review training results\n",
    "> * Set up your testing environment on ACI\n",
    "> * Retrieve the model from your workspace\n",
    "> * Test the model locally\n",
    "> * Deploy the model to ACI\n",
    "> * Test the deployed model"
   ]
  },
  {
   "cell_type": "markdown",
   "id": "bb3f652b-3cfa-4d63-b156-b89a2cd2656c",
   "metadata": {},
   "source": [
    "## Set up your development environment\n",
    "\n",
    "All the setup for your development work can be accomplished in a Python notebook.  Setup includes:\n",
    "\n",
    "* Importing Python packages\n",
    "* Connecting to a workspace to enable communication between your local computer and remote resources\n",
    "* Creating a remote compute target to use for training\n",
    "\n",
    "### Import packages\n",
    "\n",
    "Import Python packages you need in this session. Also display the Azure Machine Learning SDK version."
   ]
  },
  {
   "cell_type": "code",
   "execution_count": 1,
   "id": "52155713-0acf-4a9e-9963-f4e7cea5836e",
   "metadata": {},
   "outputs": [
    {
     "name": "stdout",
     "output_type": "stream",
     "text": [
      "Collecting azureml-sdk\n",
      "  Using cached azureml_sdk-1.36.0-py3-none-any.whl (4.5 kB)\n",
      "Collecting scikit-learn==0.22.1\n",
      "  Using cached scikit_learn-0.22.1-cp37-cp37m-manylinux1_x86_64.whl (7.0 MB)\n",
      "Requirement already satisfied: pandas in /opt/conda/lib/python3.7/site-packages (1.2.3)\n",
      "Requirement already satisfied: numpy in /opt/conda/lib/python3.7/site-packages (1.19.5)\n",
      "Requirement already satisfied: matplotlib in /opt/conda/lib/python3.7/site-packages (3.4.3)\n",
      "Requirement already satisfied: joblib>=0.11 in /opt/conda/lib/python3.7/site-packages (from scikit-learn==0.22.1) (1.1.0)\n",
      "Requirement already satisfied: scipy>=0.17.0 in /opt/conda/lib/python3.7/site-packages (from scikit-learn==0.22.1) (1.4.1)\n",
      "Collecting azureml-dataset-runtime[fuse]~=1.36.0\n",
      "  Using cached azureml_dataset_runtime-1.36.0-py3-none-any.whl (3.5 kB)\n",
      "Collecting azureml-core~=1.36.0\n",
      "  Using cached azureml_core-1.36.0.post2-py3-none-any.whl (2.4 MB)\n",
      "Collecting azureml-train-automl-client~=1.36.0\n",
      "  Using cached azureml_train_automl_client-1.36.0-py3-none-any.whl (135 kB)\n",
      "Collecting azureml-pipeline~=1.36.0\n",
      "  Using cached azureml_pipeline-1.36.0-py3-none-any.whl (3.7 kB)\n",
      "Collecting azureml-train-core~=1.36.0\n",
      "  Using cached azureml_train_core-1.36.0-py3-none-any.whl (8.6 MB)\n",
      "Requirement already satisfied: python-dateutil>=2.7.3 in /opt/conda/lib/python3.7/site-packages (from pandas) (2.8.2)\n",
      "Requirement already satisfied: pytz>=2017.3 in /opt/conda/lib/python3.7/site-packages (from pandas) (2021.3)\n",
      "Requirement already satisfied: pillow>=6.2.0 in /opt/conda/lib/python3.7/site-packages (from matplotlib) (8.4.0)\n",
      "Requirement already satisfied: cycler>=0.10 in /opt/conda/lib/python3.7/site-packages (from matplotlib) (0.10.0)\n",
      "Requirement already satisfied: pyparsing>=2.2.1 in /opt/conda/lib/python3.7/site-packages (from matplotlib) (2.4.7)\n",
      "Requirement already satisfied: kiwisolver>=1.0.1 in /opt/conda/lib/python3.7/site-packages (from matplotlib) (1.3.2)\n",
      "Requirement already satisfied: urllib3<=1.26.7,>=1.23 in /opt/conda/lib/python3.7/site-packages (from azureml-core~=1.36.0->azureml-sdk) (1.26.7)\n",
      "Collecting azure-mgmt-keyvault<10.0.0,>=0.40.0\n",
      "  Using cached azure_mgmt_keyvault-9.3.0-py2.py3-none-any.whl (412 kB)\n",
      "Collecting azure-mgmt-containerregistry>=2.0.0\n",
      "  Using cached azure_mgmt_containerregistry-8.2.0-py2.py3-none-any.whl (928 kB)\n",
      "Collecting docker<6.0.0\n",
      "  Using cached docker-5.0.3-py2.py3-none-any.whl (146 kB)\n",
      "Collecting jsonpickle<3.0.0\n",
      "  Using cached jsonpickle-2.0.0-py2.py3-none-any.whl (37 kB)\n",
      "Requirement already satisfied: pathspec<1.0.0 in /opt/conda/lib/python3.7/site-packages (from azureml-core~=1.36.0->azureml-sdk) (0.9.0)\n",
      "Requirement already satisfied: adal<=1.2.7,>=1.2.0 in /opt/conda/lib/python3.7/site-packages (from azureml-core~=1.36.0->azureml-sdk) (1.2.7)\n",
      "Requirement already satisfied: requests<3.0.0,>=2.19.1 in /opt/conda/lib/python3.7/site-packages (from azureml-core~=1.36.0->azureml-sdk) (2.25.1)\n",
      "Collecting contextlib2<22.0.0\n",
      "  Using cached contextlib2-21.6.0-py2.py3-none-any.whl (13 kB)\n",
      "Requirement already satisfied: msrestazure<=0.6.4,>=0.4.33 in /opt/conda/lib/python3.7/site-packages (from azureml-core~=1.36.0->azureml-sdk) (0.6.4)\n",
      "Collecting azure-mgmt-resource<15.0.0,>=1.2.1\n",
      "  Using cached azure_mgmt_resource-13.0.0-py2.py3-none-any.whl (1.3 MB)\n",
      "Collecting azure-mgmt-storage<16.0.0,>=1.5.0\n",
      "  Using cached azure_mgmt_storage-11.2.0-py2.py3-none-any.whl (547 kB)\n",
      "Requirement already satisfied: msrest<1.0.0,>=0.5.1 in /opt/conda/lib/python3.7/site-packages (from azureml-core~=1.36.0->azureml-sdk) (0.6.21)\n",
      "Collecting ndg-httpsclient<=0.5.1\n",
      "  Using cached ndg_httpsclient-0.5.1-py3-none-any.whl (34 kB)\n",
      "Requirement already satisfied: cryptography!=1.9,!=2.0.*,!=2.1.*,!=2.2.*,<4.0.0 in /opt/conda/lib/python3.7/site-packages (from azureml-core~=1.36.0->azureml-sdk) (3.4.8)\n",
      "Requirement already satisfied: jmespath<1.0.0 in /opt/conda/lib/python3.7/site-packages (from azureml-core~=1.36.0->azureml-sdk) (0.10.0)\n",
      "Collecting azure-mgmt-authorization<1.0.0,>=0.40.0\n",
      "  Using cached azure_mgmt_authorization-0.61.0-py2.py3-none-any.whl (94 kB)\n",
      "Requirement already satisfied: azure-common<2.0.0,>=1.1.12 in /opt/conda/lib/python3.7/site-packages (from azureml-core~=1.36.0->azureml-sdk) (1.1.25)\n",
      "Collecting backports.tempfile\n",
      "  Using cached backports.tempfile-1.0-py2.py3-none-any.whl (4.4 kB)\n",
      "Collecting SecretStorage<4.0.0\n",
      "  Using cached SecretStorage-3.3.1-py3-none-any.whl (15 kB)\n",
      "Requirement already satisfied: pyopenssl<21.0.0 in /opt/conda/lib/python3.7/site-packages (from azureml-core~=1.36.0->azureml-sdk) (20.0.1)\n",
      "Requirement already satisfied: PyJWT<3.0.0 in /opt/conda/lib/python3.7/site-packages (from azureml-core~=1.36.0->azureml-sdk) (2.3.0)\n",
      "Collecting azure-graphrbac<1.0.0,>=0.40.0\n",
      "  Using cached azure_graphrbac-0.61.1-py2.py3-none-any.whl (141 kB)\n",
      "Requirement already satisfied: pyarrow<4.0.0,>=0.17.0 in /opt/conda/lib/python3.7/site-packages (from azureml-dataset-runtime[fuse]~=1.36.0->azureml-sdk) (2.0.0)\n",
      "Collecting azureml-dataprep<2.25.0a,>=2.24.0a\n",
      "  Using cached azureml_dataprep-2.24.4-py3-none-any.whl (39.4 MB)\n",
      "Collecting fusepy<4.0.0,>=3.0.1\n",
      "  Using cached fusepy-3.0.1-py3-none-any.whl\n",
      "Collecting azureml-pipeline-steps~=1.36.0\n",
      "  Using cached azureml_pipeline_steps-1.36.0-py3-none-any.whl (70 kB)\n",
      "Collecting azureml-pipeline-core~=1.36.0\n",
      "  Using cached azureml_pipeline_core-1.36.0-py3-none-any.whl (313 kB)\n",
      "Collecting azureml-automl-core~=1.36.0\n",
      "  Using cached azureml_automl_core-1.36.1-py3-none-any.whl (221 kB)\n",
      "Collecting azureml-telemetry~=1.36.0\n",
      "  Using cached azureml_telemetry-1.36.0-py3-none-any.whl (30 kB)\n",
      "Collecting azureml-train-restclients-hyperdrive~=1.36.0\n",
      "  Using cached azureml_train_restclients_hyperdrive-1.36.0-py3-none-any.whl (19 kB)\n",
      "Requirement already satisfied: six in /opt/conda/lib/python3.7/site-packages (from cycler>=0.10->matplotlib) (1.15.0)\n",
      "Collecting azure-mgmt-core<2.0.0,>=1.2.0\n",
      "  Using cached azure_mgmt_core-1.3.0-py2.py3-none-any.whl (25 kB)\n",
      "Requirement already satisfied: cloudpickle<2.0.0,>=1.1.0 in /opt/conda/lib/python3.7/site-packages (from azureml-dataprep<2.25.0a,>=2.24.0a->azureml-dataset-runtime[fuse]~=1.36.0->azureml-sdk) (1.6.0)\n",
      "Collecting azureml-dataprep-native<39.0.0,>=38.0.0\n",
      "  Using cached azureml_dataprep_native-38.0.0-cp37-cp37m-manylinux1_x86_64.whl (1.3 MB)\n",
      "Collecting dotnetcore2<3.0.0,>=2.1.14\n",
      "  Using cached dotnetcore2-2.1.22-py3-none-manylinux1_x86_64.whl (29.3 MB)\n",
      "Requirement already satisfied: azure-identity==1.7.0 in /opt/conda/lib/python3.7/site-packages (from azureml-dataprep<2.25.0a,>=2.24.0a->azureml-dataset-runtime[fuse]~=1.36.0->azureml-sdk) (1.7.0)\n",
      "Collecting azureml-dataprep-rslex~=2.0.0dev0\n",
      "  Using cached azureml_dataprep_rslex-2.0.3-cp37-cp37m-manylinux2010_x86_64.whl (13.1 MB)\n",
      "Requirement already satisfied: msal-extensions~=0.3.0 in /opt/conda/lib/python3.7/site-packages (from azure-identity==1.7.0->azureml-dataprep<2.25.0a,>=2.24.0a->azureml-dataset-runtime[fuse]~=1.36.0->azureml-sdk) (0.3.0)\n",
      "Requirement already satisfied: azure-core<2.0.0,>=1.11.0 in /opt/conda/lib/python3.7/site-packages (from azure-identity==1.7.0->azureml-dataprep<2.25.0a,>=2.24.0a->azureml-dataset-runtime[fuse]~=1.36.0->azureml-sdk) (1.19.0)\n",
      "Requirement already satisfied: msal<2.0.0,>=1.12.0 in /opt/conda/lib/python3.7/site-packages (from azure-identity==1.7.0->azureml-dataprep<2.25.0a,>=2.24.0a->azureml-dataset-runtime[fuse]~=1.36.0->azureml-sdk) (1.15.0)\n",
      "Collecting applicationinsights\n",
      "  Using cached applicationinsights-0.11.10-py2.py3-none-any.whl (55 kB)\n",
      "Requirement already satisfied: cffi>=1.12 in /opt/conda/lib/python3.7/site-packages (from cryptography!=1.9,!=2.0.*,!=2.1.*,!=2.2.*,<4.0.0->azureml-core~=1.36.0->azureml-sdk) (1.14.6)\n",
      "Requirement already satisfied: websocket-client>=0.32.0 in /opt/conda/lib/python3.7/site-packages (from docker<6.0.0->azureml-core~=1.36.0->azureml-sdk) (1.2.1)\n",
      "Requirement already satisfied: importlib-metadata in /opt/conda/lib/python3.7/site-packages (from jsonpickle<3.0.0->azureml-core~=1.36.0->azureml-sdk) (4.8.1)\n",
      "Requirement already satisfied: requests-oauthlib>=0.5.0 in /opt/conda/lib/python3.7/site-packages (from msrest<1.0.0,>=0.5.1->azureml-core~=1.36.0->azureml-sdk) (1.3.0)\n",
      "Requirement already satisfied: certifi>=2017.4.17 in /opt/conda/lib/python3.7/site-packages (from msrest<1.0.0,>=0.5.1->azureml-core~=1.36.0->azureml-sdk) (2021.10.8)\n",
      "Requirement already satisfied: isodate>=0.6.0 in /opt/conda/lib/python3.7/site-packages (from msrest<1.0.0,>=0.5.1->azureml-core~=1.36.0->azureml-sdk) (0.6.0)\n",
      "Requirement already satisfied: pyasn1>=0.1.1 in /opt/conda/lib/python3.7/site-packages (from ndg-httpsclient<=0.5.1->azureml-core~=1.36.0->azureml-sdk) (0.4.8)\n",
      "Requirement already satisfied: idna<3,>=2.5 in /opt/conda/lib/python3.7/site-packages (from requests<3.0.0,>=2.19.1->azureml-core~=1.36.0->azureml-sdk) (2.10)\n",
      "Requirement already satisfied: chardet<5,>=3.0.2 in /opt/conda/lib/python3.7/site-packages (from requests<3.0.0,>=2.19.1->azureml-core~=1.36.0->azureml-sdk) (3.0.4)\n",
      "Collecting jeepney>=0.6\n",
      "  Using cached jeepney-0.7.1-py3-none-any.whl (54 kB)\n",
      "Collecting backports.weakref\n",
      "  Using cached backports.weakref-1.0.post1-py2.py3-none-any.whl (5.2 kB)\n",
      "Requirement already satisfied: pycparser in /opt/conda/lib/python3.7/site-packages (from cffi>=1.12->cryptography!=1.9,!=2.0.*,!=2.1.*,!=2.2.*,<4.0.0->azureml-core~=1.36.0->azureml-sdk) (2.20)\n",
      "Collecting distro>=1.2.0\n",
      "  Using cached distro-1.6.0-py2.py3-none-any.whl (19 kB)\n",
      "Requirement already satisfied: oauthlib>=3.0.0 in /opt/conda/lib/python3.7/site-packages (from requests-oauthlib>=0.5.0->msrest<1.0.0,>=0.5.1->azureml-core~=1.36.0->azureml-sdk) (3.1.1)\n",
      "Requirement already satisfied: zipp>=0.5 in /opt/conda/lib/python3.7/site-packages (from importlib-metadata->jsonpickle<3.0.0->azureml-core~=1.36.0->azureml-sdk) (3.6.0)\n",
      "Requirement already satisfied: typing-extensions>=3.6.4 in /opt/conda/lib/python3.7/site-packages (from importlib-metadata->jsonpickle<3.0.0->azureml-core~=1.36.0->azureml-sdk) (3.7.4.3)\n",
      "Requirement already satisfied: portalocker~=1.0 in /opt/conda/lib/python3.7/site-packages (from msal-extensions~=0.3.0->azure-identity==1.7.0->azureml-dataprep<2.25.0a,>=2.24.0a->azureml-dataset-runtime[fuse]~=1.36.0->azureml-sdk) (1.7.1)\n",
      "Installing collected packages: jeepney, distro, backports.weakref, azure-mgmt-core, SecretStorage, ndg-httpsclient, jsonpickle, dotnetcore2, docker, contextlib2, backports.tempfile, azureml-dataprep-rslex, azureml-dataprep-native, azure-mgmt-storage, azure-mgmt-resource, azure-mgmt-keyvault, azure-mgmt-containerregistry, azure-mgmt-authorization, azure-graphrbac, azureml-dataprep, azureml-core, applicationinsights, azureml-train-restclients-hyperdrive, azureml-telemetry, azureml-dataset-runtime, azureml-train-core, azureml-automl-core, azureml-train-automl-client, azureml-pipeline-core, fusepy, azureml-pipeline-steps, azureml-pipeline, scikit-learn, azureml-sdk\n",
      "  Attempting uninstall: scikit-learn\n",
      "    Found existing installation: scikit-learn 0.23.2\n",
      "    Uninstalling scikit-learn-0.23.2:\n",
      "      Successfully uninstalled scikit-learn-0.23.2\n",
      "\u001b[31mERROR: pip's dependency resolver does not currently take into account all the packages that are installed. This behaviour is the source of the following dependency conflicts.\n",
      "ydata-utils 1.0.0rc30 requires scikit-learn==0.23.2, but you have scikit-learn 0.22.1 which is incompatible.\n",
      "sktime 0.5.3 requires scikit-learn>=0.23.0, but you have scikit-learn 0.22.1 which is incompatible.\n",
      "dask-ml 1.9.0 requires scikit-learn>=0.23, but you have scikit-learn 0.22.1 which is incompatible.\u001b[0m\n",
      "Successfully installed SecretStorage-3.3.1 applicationinsights-0.11.10 azure-graphrbac-0.61.1 azure-mgmt-authorization-0.61.0 azure-mgmt-containerregistry-8.2.0 azure-mgmt-core-1.3.0 azure-mgmt-keyvault-9.3.0 azure-mgmt-resource-13.0.0 azure-mgmt-storage-11.2.0 azureml-automl-core-1.36.1 azureml-core-1.36.0.post2 azureml-dataprep-2.24.4 azureml-dataprep-native-38.0.0 azureml-dataprep-rslex-2.0.3 azureml-dataset-runtime-1.36.0 azureml-pipeline-1.36.0 azureml-pipeline-core-1.36.0 azureml-pipeline-steps-1.36.0 azureml-sdk-1.36.0 azureml-telemetry-1.36.0 azureml-train-automl-client-1.36.0 azureml-train-core-1.36.0 azureml-train-restclients-hyperdrive-1.36.0 backports.tempfile-1.0 backports.weakref-1.0.post1 contextlib2-21.6.0 distro-1.6.0 docker-5.0.3 dotnetcore2-2.1.22 fusepy-3.0.1 jeepney-0.7.1 jsonpickle-2.0.0 ndg-httpsclient-0.5.1 scikit-learn-0.22.1\n"
     ]
    }
   ],
   "source": [
    "!pip install azureml-sdk scikit-learn==0.22.1 pandas numpy matplotlib"
   ]
  },
  {
   "cell_type": "markdown",
   "id": "df41b6ed-d97e-42b7-b0a3-b0f066eef12d",
   "metadata": {},
   "source": [
    "### Connect to workspace\n",
    "\n",
    "Download your Azure Workspace configuration file and upload it in this working directory - It will be used to remotely access your Azure Workspace from YData\n",
    "\n",
    "Create a workspace object from the existing workspace. `Workspace.from_config()` reads the file **config.json** and loads the details into an object named `ws`."
   ]
  },
  {
   "cell_type": "code",
   "execution_count": 2,
   "id": "74a69c26-169d-4401-a8b0-73380173c916",
   "metadata": {},
   "outputs": [],
   "source": [
    "from azureml.core import Workspace\n",
    "ws_other_environment = Workspace.from_config(path=\"./config.json\")"
   ]
  },
  {
   "cell_type": "code",
   "execution_count": 3,
   "id": "cb1dba63-e19c-4f51-add2-8e31812a00ae",
   "metadata": {
    "gather": {
     "logged": 1633332195879
    },
    "tags": [
     "check version"
    ]
   },
   "outputs": [
    {
     "name": "stdout",
     "output_type": "stream",
     "text": [
      "Azure ML SDK Version:  1.36.0\n"
     ]
    }
   ],
   "source": [
    "%matplotlib inline\n",
    "import numpy as np\n",
    "import matplotlib.pyplot as plt\n",
    "\n",
    "import azureml.core\n",
    "from azureml.core import Workspace\n",
    "\n",
    "# check core SDK version number\n",
    "print(\"Azure ML SDK Version: \", azureml.core.VERSION)"
   ]
  },
  {
   "cell_type": "markdown",
   "id": "5d941493-142c-40e1-a3ef-fafc3937ed0c",
   "metadata": {},
   "source": [
    "### Load workspace configuration from the config.json file in the current folder"
   ]
  },
  {
   "cell_type": "code",
   "execution_count": 4,
   "id": "f4ceabf7-bd45-4a8e-b1b6-2e06ded1664a",
   "metadata": {
    "gather": {
     "logged": 1633332198974
    },
    "tags": [
     "load workspace"
    ]
   },
   "outputs": [
    {
     "name": "stdout",
     "output_type": "stream",
     "text": [
      "azureml-demo\teastus\tarunn-demos\n"
     ]
    }
   ],
   "source": [
    "ws = ws_other_environment\n",
    "print(ws.name, ws.location, ws.resource_group, sep='\\t')"
   ]
  },
  {
   "cell_type": "markdown",
   "id": "1a6272dc-0ec4-4c36-b3d1-34a386955e70",
   "metadata": {},
   "source": [
    "### Load data\n",
    "\n",
    "Load the test data from the **Data Sources** using YData's Connectors"
   ]
  },
  {
   "cell_type": "code",
   "execution_count": 7,
   "id": "2114d2ec-75ed-44a7-9f99-7ce0468971bc",
   "metadata": {},
   "outputs": [
    {
     "name": "stderr",
     "output_type": "stream",
     "text": [
      "/opt/conda/lib/python3.7/site-packages/distributed/client.py:1128: VersionMismatchWarning: Mismatched versions found\n",
      "\n",
      "+---------+----------------+----------------+----------------+\n",
      "| Package | client         | scheduler      | workers        |\n",
      "+---------+----------------+----------------+----------------+\n",
      "| python  | 3.7.11.final.0 | 3.7.10.final.0 | 3.7.10.final.0 |\n",
      "+---------+----------------+----------------+----------------+\n",
      "  warnings.warn(version_module.VersionMismatchWarning(msg[0][\"warning\"]))\n"
     ]
    }
   ],
   "source": [
    "import numpy as np\n",
    "import argparse\n",
    "import os\n",
    "from sklearn.linear_model import LogisticRegression\n",
    "import joblib\n",
    "\n",
    "import pandas as pd\n",
    "\n",
    "from azureml.core import Run\n",
    "\n",
    "import numpy as np\n",
    "\n",
    "from ydata.connectors.filetype import FileType\n",
    "from ydata.connectors.storages.local_connector import LocalConnector\n",
    "\n",
    "connector = LocalConnector()\n",
    "files_dirs = connector.list(path='/home/ydata/data')\n"
   ]
  },
  {
   "cell_type": "code",
   "execution_count": 9,
   "id": "bca999a0-504c-47ab-903f-d7446e3c5287",
   "metadata": {},
   "outputs": [],
   "source": [
    "data = connector.read_file('/home/ydata/data/telco_churn.csv', file_type=FileType.CSV).to_pandas()"
   ]
  },
  {
   "cell_type": "code",
   "execution_count": 10,
   "id": "a79ccf93-4019-400b-993c-424727b0c2c7",
   "metadata": {},
   "outputs": [
    {
     "data": {
      "text/html": [
       "<div>\n",
       "<style scoped>\n",
       "    .dataframe tbody tr th:only-of-type {\n",
       "        vertical-align: middle;\n",
       "    }\n",
       "\n",
       "    .dataframe tbody tr th {\n",
       "        vertical-align: top;\n",
       "    }\n",
       "\n",
       "    .dataframe thead th {\n",
       "        text-align: right;\n",
       "    }\n",
       "</style>\n",
       "<table border=\"1\" class=\"dataframe\">\n",
       "  <thead>\n",
       "    <tr style=\"text-align: right;\">\n",
       "      <th></th>\n",
       "      <th>customerID</th>\n",
       "      <th>gender</th>\n",
       "      <th>SeniorCitizen</th>\n",
       "      <th>Partner</th>\n",
       "      <th>Dependents</th>\n",
       "      <th>tenure</th>\n",
       "      <th>PhoneService</th>\n",
       "      <th>MultipleLines</th>\n",
       "      <th>InternetService</th>\n",
       "      <th>OnlineSecurity</th>\n",
       "      <th>...</th>\n",
       "      <th>DeviceProtection</th>\n",
       "      <th>TechSupport</th>\n",
       "      <th>StreamingTV</th>\n",
       "      <th>StreamingMovies</th>\n",
       "      <th>Contract</th>\n",
       "      <th>PaperlessBilling</th>\n",
       "      <th>PaymentMethod</th>\n",
       "      <th>MonthlyCharges</th>\n",
       "      <th>TotalCharges</th>\n",
       "      <th>Churn</th>\n",
       "    </tr>\n",
       "  </thead>\n",
       "  <tbody>\n",
       "    <tr>\n",
       "      <th>0</th>\n",
       "      <td>7590-VHVEG</td>\n",
       "      <td>Female</td>\n",
       "      <td>0</td>\n",
       "      <td>Yes</td>\n",
       "      <td>No</td>\n",
       "      <td>1</td>\n",
       "      <td>No</td>\n",
       "      <td>No phone service</td>\n",
       "      <td>DSL</td>\n",
       "      <td>No</td>\n",
       "      <td>...</td>\n",
       "      <td>No</td>\n",
       "      <td>No</td>\n",
       "      <td>No</td>\n",
       "      <td>No</td>\n",
       "      <td>Month-to-month</td>\n",
       "      <td>Yes</td>\n",
       "      <td>Electronic check</td>\n",
       "      <td>29.85</td>\n",
       "      <td>29.85</td>\n",
       "      <td>No</td>\n",
       "    </tr>\n",
       "    <tr>\n",
       "      <th>2</th>\n",
       "      <td>3668-QPYBK</td>\n",
       "      <td>Male</td>\n",
       "      <td>0</td>\n",
       "      <td>No</td>\n",
       "      <td>No</td>\n",
       "      <td>2</td>\n",
       "      <td>Yes</td>\n",
       "      <td>No</td>\n",
       "      <td>DSL</td>\n",
       "      <td>Yes</td>\n",
       "      <td>...</td>\n",
       "      <td>No</td>\n",
       "      <td>No</td>\n",
       "      <td>No</td>\n",
       "      <td>No</td>\n",
       "      <td>Month-to-month</td>\n",
       "      <td>Yes</td>\n",
       "      <td>Mailed check</td>\n",
       "      <td>53.85</td>\n",
       "      <td>108.15</td>\n",
       "      <td>Yes</td>\n",
       "    </tr>\n",
       "    <tr>\n",
       "      <th>3</th>\n",
       "      <td>7795-CFOCW</td>\n",
       "      <td>Male</td>\n",
       "      <td>0</td>\n",
       "      <td>No</td>\n",
       "      <td>No</td>\n",
       "      <td>45</td>\n",
       "      <td>No</td>\n",
       "      <td>No phone service</td>\n",
       "      <td>DSL</td>\n",
       "      <td>Yes</td>\n",
       "      <td>...</td>\n",
       "      <td>Yes</td>\n",
       "      <td>Yes</td>\n",
       "      <td>No</td>\n",
       "      <td>No</td>\n",
       "      <td>One year</td>\n",
       "      <td>No</td>\n",
       "      <td>Bank transfer (automatic)</td>\n",
       "      <td>42.30</td>\n",
       "      <td>1840.75</td>\n",
       "      <td>No</td>\n",
       "    </tr>\n",
       "    <tr>\n",
       "      <th>4</th>\n",
       "      <td>9237-HQITU</td>\n",
       "      <td>Female</td>\n",
       "      <td>0</td>\n",
       "      <td>No</td>\n",
       "      <td>No</td>\n",
       "      <td>2</td>\n",
       "      <td>Yes</td>\n",
       "      <td>No</td>\n",
       "      <td>Fiber optic</td>\n",
       "      <td>No</td>\n",
       "      <td>...</td>\n",
       "      <td>No</td>\n",
       "      <td>No</td>\n",
       "      <td>No</td>\n",
       "      <td>No</td>\n",
       "      <td>Month-to-month</td>\n",
       "      <td>Yes</td>\n",
       "      <td>Electronic check</td>\n",
       "      <td>70.70</td>\n",
       "      <td>151.65</td>\n",
       "      <td>Yes</td>\n",
       "    </tr>\n",
       "    <tr>\n",
       "      <th>6</th>\n",
       "      <td>1452-KIOVK</td>\n",
       "      <td>Male</td>\n",
       "      <td>0</td>\n",
       "      <td>No</td>\n",
       "      <td>Yes</td>\n",
       "      <td>22</td>\n",
       "      <td>Yes</td>\n",
       "      <td>Yes</td>\n",
       "      <td>Fiber optic</td>\n",
       "      <td>No</td>\n",
       "      <td>...</td>\n",
       "      <td>No</td>\n",
       "      <td>No</td>\n",
       "      <td>Yes</td>\n",
       "      <td>No</td>\n",
       "      <td>Month-to-month</td>\n",
       "      <td>Yes</td>\n",
       "      <td>Credit card (automatic)</td>\n",
       "      <td>89.10</td>\n",
       "      <td>1949.4</td>\n",
       "      <td>No</td>\n",
       "    </tr>\n",
       "  </tbody>\n",
       "</table>\n",
       "<p>5 rows × 21 columns</p>\n",
       "</div>"
      ],
      "text/plain": [
       "   customerID  gender  SeniorCitizen Partner Dependents  tenure PhoneService  \\\n",
       "0  7590-VHVEG  Female              0     Yes         No       1           No   \n",
       "2  3668-QPYBK    Male              0      No         No       2          Yes   \n",
       "3  7795-CFOCW    Male              0      No         No      45           No   \n",
       "4  9237-HQITU  Female              0      No         No       2          Yes   \n",
       "6  1452-KIOVK    Male              0      No        Yes      22          Yes   \n",
       "\n",
       "      MultipleLines InternetService OnlineSecurity  ... DeviceProtection  \\\n",
       "0  No phone service             DSL             No  ...               No   \n",
       "2                No             DSL            Yes  ...               No   \n",
       "3  No phone service             DSL            Yes  ...              Yes   \n",
       "4                No     Fiber optic             No  ...               No   \n",
       "6               Yes     Fiber optic             No  ...               No   \n",
       "\n",
       "  TechSupport StreamingTV StreamingMovies        Contract PaperlessBilling  \\\n",
       "0          No          No              No  Month-to-month              Yes   \n",
       "2          No          No              No  Month-to-month              Yes   \n",
       "3         Yes          No              No        One year               No   \n",
       "4          No          No              No  Month-to-month              Yes   \n",
       "6          No         Yes              No  Month-to-month              Yes   \n",
       "\n",
       "               PaymentMethod MonthlyCharges  TotalCharges Churn  \n",
       "0           Electronic check          29.85         29.85    No  \n",
       "2               Mailed check          53.85        108.15   Yes  \n",
       "3  Bank transfer (automatic)          42.30       1840.75    No  \n",
       "4           Electronic check          70.70        151.65   Yes  \n",
       "6    Credit card (automatic)          89.10        1949.4    No  \n",
       "\n",
       "[5 rows x 21 columns]"
      ]
     },
     "execution_count": 10,
     "metadata": {},
     "output_type": "execute_result"
    }
   ],
   "source": [
    "#inspect the data\n",
    "data.head()"
   ]
  },
  {
   "cell_type": "code",
   "execution_count": 11,
   "id": "6f27e16b-a89a-4bc8-8a50-effbb4286386",
   "metadata": {},
   "outputs": [
    {
     "data": {
      "text/plain": [
       "customerID           object\n",
       "gender               object\n",
       "SeniorCitizen         int64\n",
       "Partner              object\n",
       "Dependents           object\n",
       "tenure                int64\n",
       "PhoneService         object\n",
       "MultipleLines        object\n",
       "InternetService      object\n",
       "OnlineSecurity       object\n",
       "OnlineBackup         object\n",
       "DeviceProtection     object\n",
       "TechSupport          object\n",
       "StreamingTV          object\n",
       "StreamingMovies      object\n",
       "Contract             object\n",
       "PaperlessBilling     object\n",
       "PaymentMethod        object\n",
       "MonthlyCharges      float64\n",
       "TotalCharges         object\n",
       "Churn                object\n",
       "dtype: object"
      ]
     },
     "execution_count": 11,
     "metadata": {},
     "output_type": "execute_result"
    }
   ],
   "source": [
    "# Checking the data types of all the columns\n",
    "data.dtypes"
   ]
  },
  {
   "cell_type": "code",
   "execution_count": 12,
   "id": "6c80c696-ea28-47fd-b10a-9c2ed8b0c3cb",
   "metadata": {},
   "outputs": [
    {
     "data": {
      "text/plain": [
       "customerID           0\n",
       "gender               0\n",
       "SeniorCitizen        0\n",
       "Partner              0\n",
       "Dependents           0\n",
       "tenure               0\n",
       "PhoneService         0\n",
       "MultipleLines        0\n",
       "InternetService      0\n",
       "OnlineSecurity       0\n",
       "OnlineBackup         0\n",
       "DeviceProtection     0\n",
       "TechSupport          0\n",
       "StreamingTV          0\n",
       "StreamingMovies      0\n",
       "Contract             0\n",
       "PaperlessBilling     0\n",
       "PaymentMethod        0\n",
       "MonthlyCharges       0\n",
       "TotalCharges        11\n",
       "Churn                0\n",
       "dtype: int64"
      ]
     },
     "execution_count": 12,
     "metadata": {},
     "output_type": "execute_result"
    }
   ],
   "source": [
    "# Converting Total Charges to a numerical data type.\n",
    "data.TotalCharges = pd.to_numeric(data.TotalCharges, errors='coerce')\n",
    "data.isnull().sum()"
   ]
  },
  {
   "cell_type": "code",
   "execution_count": 13,
   "id": "66fd015a-9490-49ca-a4b8-25224236eae4",
   "metadata": {},
   "outputs": [
    {
     "data": {
      "text/html": [
       "<div>\n",
       "<style scoped>\n",
       "    .dataframe tbody tr th:only-of-type {\n",
       "        vertical-align: middle;\n",
       "    }\n",
       "\n",
       "    .dataframe tbody tr th {\n",
       "        vertical-align: top;\n",
       "    }\n",
       "\n",
       "    .dataframe thead th {\n",
       "        text-align: right;\n",
       "    }\n",
       "</style>\n",
       "<table border=\"1\" class=\"dataframe\">\n",
       "  <thead>\n",
       "    <tr style=\"text-align: right;\">\n",
       "      <th></th>\n",
       "      <th>SeniorCitizen</th>\n",
       "      <th>tenure</th>\n",
       "      <th>MonthlyCharges</th>\n",
       "      <th>TotalCharges</th>\n",
       "      <th>Churn</th>\n",
       "      <th>gender_Female</th>\n",
       "      <th>gender_Male</th>\n",
       "      <th>Partner_No</th>\n",
       "      <th>Partner_Yes</th>\n",
       "      <th>Dependents_No</th>\n",
       "      <th>...</th>\n",
       "      <th>StreamingMovies_Yes</th>\n",
       "      <th>Contract_Month-to-month</th>\n",
       "      <th>Contract_One year</th>\n",
       "      <th>Contract_Two year</th>\n",
       "      <th>PaperlessBilling_No</th>\n",
       "      <th>PaperlessBilling_Yes</th>\n",
       "      <th>PaymentMethod_Bank transfer (automatic)</th>\n",
       "      <th>PaymentMethod_Credit card (automatic)</th>\n",
       "      <th>PaymentMethod_Electronic check</th>\n",
       "      <th>PaymentMethod_Mailed check</th>\n",
       "    </tr>\n",
       "  </thead>\n",
       "  <tbody>\n",
       "    <tr>\n",
       "      <th>0</th>\n",
       "      <td>0</td>\n",
       "      <td>1</td>\n",
       "      <td>29.85</td>\n",
       "      <td>29.85</td>\n",
       "      <td>0</td>\n",
       "      <td>1</td>\n",
       "      <td>0</td>\n",
       "      <td>0</td>\n",
       "      <td>1</td>\n",
       "      <td>1</td>\n",
       "      <td>...</td>\n",
       "      <td>0</td>\n",
       "      <td>1</td>\n",
       "      <td>0</td>\n",
       "      <td>0</td>\n",
       "      <td>0</td>\n",
       "      <td>1</td>\n",
       "      <td>0</td>\n",
       "      <td>0</td>\n",
       "      <td>1</td>\n",
       "      <td>0</td>\n",
       "    </tr>\n",
       "    <tr>\n",
       "      <th>2</th>\n",
       "      <td>0</td>\n",
       "      <td>2</td>\n",
       "      <td>53.85</td>\n",
       "      <td>108.15</td>\n",
       "      <td>1</td>\n",
       "      <td>0</td>\n",
       "      <td>1</td>\n",
       "      <td>1</td>\n",
       "      <td>0</td>\n",
       "      <td>1</td>\n",
       "      <td>...</td>\n",
       "      <td>0</td>\n",
       "      <td>1</td>\n",
       "      <td>0</td>\n",
       "      <td>0</td>\n",
       "      <td>0</td>\n",
       "      <td>1</td>\n",
       "      <td>0</td>\n",
       "      <td>0</td>\n",
       "      <td>0</td>\n",
       "      <td>1</td>\n",
       "    </tr>\n",
       "    <tr>\n",
       "      <th>3</th>\n",
       "      <td>0</td>\n",
       "      <td>45</td>\n",
       "      <td>42.30</td>\n",
       "      <td>1840.75</td>\n",
       "      <td>0</td>\n",
       "      <td>0</td>\n",
       "      <td>1</td>\n",
       "      <td>1</td>\n",
       "      <td>0</td>\n",
       "      <td>1</td>\n",
       "      <td>...</td>\n",
       "      <td>0</td>\n",
       "      <td>0</td>\n",
       "      <td>1</td>\n",
       "      <td>0</td>\n",
       "      <td>1</td>\n",
       "      <td>0</td>\n",
       "      <td>1</td>\n",
       "      <td>0</td>\n",
       "      <td>0</td>\n",
       "      <td>0</td>\n",
       "    </tr>\n",
       "    <tr>\n",
       "      <th>4</th>\n",
       "      <td>0</td>\n",
       "      <td>2</td>\n",
       "      <td>70.70</td>\n",
       "      <td>151.65</td>\n",
       "      <td>1</td>\n",
       "      <td>1</td>\n",
       "      <td>0</td>\n",
       "      <td>1</td>\n",
       "      <td>0</td>\n",
       "      <td>1</td>\n",
       "      <td>...</td>\n",
       "      <td>0</td>\n",
       "      <td>1</td>\n",
       "      <td>0</td>\n",
       "      <td>0</td>\n",
       "      <td>0</td>\n",
       "      <td>1</td>\n",
       "      <td>0</td>\n",
       "      <td>0</td>\n",
       "      <td>1</td>\n",
       "      <td>0</td>\n",
       "    </tr>\n",
       "    <tr>\n",
       "      <th>6</th>\n",
       "      <td>0</td>\n",
       "      <td>22</td>\n",
       "      <td>89.10</td>\n",
       "      <td>1949.40</td>\n",
       "      <td>0</td>\n",
       "      <td>0</td>\n",
       "      <td>1</td>\n",
       "      <td>1</td>\n",
       "      <td>0</td>\n",
       "      <td>0</td>\n",
       "      <td>...</td>\n",
       "      <td>0</td>\n",
       "      <td>1</td>\n",
       "      <td>0</td>\n",
       "      <td>0</td>\n",
       "      <td>0</td>\n",
       "      <td>1</td>\n",
       "      <td>0</td>\n",
       "      <td>1</td>\n",
       "      <td>0</td>\n",
       "      <td>0</td>\n",
       "    </tr>\n",
       "  </tbody>\n",
       "</table>\n",
       "<p>5 rows × 46 columns</p>\n",
       "</div>"
      ],
      "text/plain": [
       "   SeniorCitizen  tenure  MonthlyCharges  TotalCharges  Churn  gender_Female  \\\n",
       "0              0       1           29.85         29.85      0              1   \n",
       "2              0       2           53.85        108.15      1              0   \n",
       "3              0      45           42.30       1840.75      0              0   \n",
       "4              0       2           70.70        151.65      1              1   \n",
       "6              0      22           89.10       1949.40      0              0   \n",
       "\n",
       "   gender_Male  Partner_No  Partner_Yes  Dependents_No  ...  \\\n",
       "0            0           0            1              1  ...   \n",
       "2            1           1            0              1  ...   \n",
       "3            1           1            0              1  ...   \n",
       "4            0           1            0              1  ...   \n",
       "6            1           1            0              0  ...   \n",
       "\n",
       "   StreamingMovies_Yes  Contract_Month-to-month  Contract_One year  \\\n",
       "0                    0                        1                  0   \n",
       "2                    0                        1                  0   \n",
       "3                    0                        0                  1   \n",
       "4                    0                        1                  0   \n",
       "6                    0                        1                  0   \n",
       "\n",
       "   Contract_Two year  PaperlessBilling_No  PaperlessBilling_Yes  \\\n",
       "0                  0                    0                     1   \n",
       "2                  0                    0                     1   \n",
       "3                  0                    1                     0   \n",
       "4                  0                    0                     1   \n",
       "6                  0                    0                     1   \n",
       "\n",
       "   PaymentMethod_Bank transfer (automatic)  \\\n",
       "0                                        0   \n",
       "2                                        0   \n",
       "3                                        1   \n",
       "4                                        0   \n",
       "6                                        0   \n",
       "\n",
       "   PaymentMethod_Credit card (automatic)  PaymentMethod_Electronic check  \\\n",
       "0                                      0                               1   \n",
       "2                                      0                               0   \n",
       "3                                      0                               0   \n",
       "4                                      0                               1   \n",
       "6                                      1                               0   \n",
       "\n",
       "   PaymentMethod_Mailed check  \n",
       "0                           0  \n",
       "2                           1  \n",
       "3                           0  \n",
       "4                           0  \n",
       "6                           0  \n",
       "\n",
       "[5 rows x 46 columns]"
      ]
     },
     "execution_count": 13,
     "metadata": {},
     "output_type": "execute_result"
    }
   ],
   "source": [
    "# Removing missing values \n",
    "data.dropna(inplace = True)\n",
    "\n",
    "# Remove customer IDs from the data set\n",
    "df = data.iloc[:,1:]\n",
    "\n",
    "# Convertin the predictor variable in a binary numeric variable\n",
    "df['Churn'].replace(to_replace='Yes', value=1, inplace=True)\n",
    "df['Churn'].replace(to_replace='No',  value=0, inplace=True)\n",
    "\n",
    "# Let's convert all the categorical variables into dummy variables\n",
    "df_dummies = pd.get_dummies(df)\n",
    "df_dummies.head()"
   ]
  },
  {
   "cell_type": "code",
   "execution_count": 14,
   "id": "29a4ff88-06a0-4c4b-a8ba-b80c2b2162ed",
   "metadata": {},
   "outputs": [],
   "source": [
    "# We will use the data frame where we had created dummy variables\n",
    "y = df_dummies['Churn'].values\n",
    "X = df_dummies.drop(columns = ['Churn'])\n",
    "\n",
    "# Scaling all the variables to a range of 0 to 1\n",
    "from sklearn.preprocessing import MinMaxScaler\n",
    "\n",
    "features = X.columns.values\n",
    "scaler = MinMaxScaler(feature_range = (0,1))\n",
    "scaler.fit(X)\n",
    "X = pd.DataFrame(scaler.transform(X))\n",
    "X.columns = features"
   ]
  },
  {
   "cell_type": "code",
   "execution_count": 84,
   "id": "afa23246-09f5-4f6e-98a4-bc36ddfc75aa",
   "metadata": {},
   "outputs": [],
   "source": [
    "# Create Train & Test Data\n",
    "from sklearn.model_selection import train_test_split\n",
    "from sklearn import metrics\n",
    "\n",
    "X_train, X_test, y_train, y_test = train_test_split(X, y, test_size=0.2, random_state=101)"
   ]
  },
  {
   "cell_type": "code",
   "execution_count": 86,
   "id": "f6d45964-ca9f-4ece-a00b-cafa7b929c2d",
   "metadata": {},
   "outputs": [],
   "source": [
    "# Save the test data for later use in testing the deployed models\n",
    "\n",
    "test_data = X_test.copy()\n",
    "test_data['Churn'] = y_test\n",
    "test_data.to_csv('/home/ydata/data/test_data.csv', index=False)"
   ]
  },
  {
   "cell_type": "markdown",
   "id": "eb1fb21c-6578-402b-a166-a3abe462feea",
   "metadata": {
    "tags": []
   },
   "source": [
    "## Train the Logistic Regression Model"
   ]
  },
  {
   "cell_type": "code",
   "execution_count": 39,
   "id": "012046f3-2009-4f94-bc55-33ce2036114d",
   "metadata": {},
   "outputs": [
    {
     "name": "stdout",
     "output_type": "stream",
     "text": [
      "Train a logistic regression model\n",
      "Predict the test set\n",
      "Accuracy is 0.7974413646055437\n"
     ]
    }
   ],
   "source": [
    "print('Train a logistic regression model')\n",
    "clf = LogisticRegression(C=1.0/0.5, solver=\"liblinear\", multi_class=\"auto\", random_state=42)\n",
    "clf.fit(X_train, y_train)\n",
    "\n",
    "print('Predict the test set')\n",
    "y_hat = clf.predict(X_test.to_numpy())\n",
    "\n",
    "# calculate accuracy on the prediction\n",
    "acc = np.average(y_hat == y_test)\n",
    "print('Accuracy is', acc)"
   ]
  },
  {
   "cell_type": "markdown",
   "id": "df8dfb43-be5f-4d2b-afa2-52e454cc50aa",
   "metadata": {
    "tags": []
   },
   "source": [
    "### Package (pickle) and save the model"
   ]
  },
  {
   "cell_type": "code",
   "execution_count": null,
   "id": "b20a1f68-98d0-49bf-b795-00241b399198",
   "metadata": {},
   "outputs": [],
   "source": [
    "joblib.dump(value=clf, filename='./sklearn_churn_model.pkl')"
   ]
  },
  {
   "cell_type": "markdown",
   "id": "5055f866-eaaa-40e3-b72c-2dc21f5d16ad",
   "metadata": {},
   "source": [
    "### Register the model on Azure"
   ]
  },
  {
   "cell_type": "code",
   "execution_count": null,
   "id": "0a15af3d-6427-415a-920a-29540e2c25e5",
   "metadata": {},
   "outputs": [],
   "source": [
    "from azureml.core import Workspace\n",
    "ws = ws_other_environment\n",
    "\n",
    "from azureml.core.model import Model\n",
    "\n",
    "model_name = \"sklearn_churn\"\n",
    "model = Model.register(model_path=\"sklearn_churn_model.pkl\",\n",
    "                        model_name=model_name,\n",
    "                        tags={\"data\": \"telco\", \"model\": \"classification\"},\n",
    "                        description=\"Telco Customer Churn Prediction\",\n",
    "                        workspace=ws)"
   ]
  },
  {
   "cell_type": "markdown",
   "id": "5ac19958-a4d1-469c-927f-675418c58995",
   "metadata": {},
   "source": [
    "### Prepare the Deployment Environment on Azure"
   ]
  },
  {
   "cell_type": "code",
   "execution_count": 43,
   "id": "39b92105-4131-435b-b83d-9e4ca08be607",
   "metadata": {},
   "outputs": [
    {
     "data": {
      "text/plain": [
       "{\n",
       "    \"databricks\": {\n",
       "        \"eggLibraries\": [],\n",
       "        \"jarLibraries\": [],\n",
       "        \"mavenLibraries\": [],\n",
       "        \"pypiLibraries\": [],\n",
       "        \"rcranLibraries\": []\n",
       "    },\n",
       "    \"docker\": {\n",
       "        \"arguments\": [],\n",
       "        \"baseDockerfile\": null,\n",
       "        \"baseImage\": \"mcr.microsoft.com/azureml/openmpi3.1.2-ubuntu18.04:20211029.v1\",\n",
       "        \"baseImageRegistry\": {\n",
       "            \"address\": null,\n",
       "            \"password\": null,\n",
       "            \"registryIdentity\": null,\n",
       "            \"username\": null\n",
       "        },\n",
       "        \"enabled\": false,\n",
       "        \"platform\": {\n",
       "            \"architecture\": \"amd64\",\n",
       "            \"os\": \"Linux\"\n",
       "        },\n",
       "        \"sharedVolumes\": true,\n",
       "        \"shmSize\": null\n",
       "    },\n",
       "    \"environmentVariables\": {\n",
       "        \"EXAMPLE_ENV_VAR\": \"EXAMPLE_VALUE\"\n",
       "    },\n",
       "    \"inferencingStackVersion\": null,\n",
       "    \"name\": \"tutorial-env\",\n",
       "    \"python\": {\n",
       "        \"baseCondaEnvironment\": null,\n",
       "        \"condaDependencies\": {\n",
       "            \"channels\": [\n",
       "                \"anaconda\",\n",
       "                \"conda-forge\"\n",
       "            ],\n",
       "            \"dependencies\": [\n",
       "                \"python=3.6.2\",\n",
       "                {\n",
       "                    \"pip\": [\n",
       "                        \"azureml-dataset-runtime[pandas,fuse]\",\n",
       "                        \"azureml-defaults\"\n",
       "                    ]\n",
       "                },\n",
       "                \"scikit-learn==0.22.1\"\n",
       "            ],\n",
       "            \"name\": \"azureml_a0ea606c1ba30965e62aafc0e194fb4e\"\n",
       "        },\n",
       "        \"condaDependenciesFile\": null,\n",
       "        \"interpreterPath\": \"python\",\n",
       "        \"userManagedDependencies\": false\n",
       "    },\n",
       "    \"r\": null,\n",
       "    \"spark\": {\n",
       "        \"packages\": [],\n",
       "        \"precachePackages\": true,\n",
       "        \"repositories\": []\n",
       "    },\n",
       "    \"version\": \"3\"\n",
       "}"
      ]
     },
     "execution_count": 43,
     "metadata": {},
     "output_type": "execute_result"
    }
   ],
   "source": [
    "from azureml.core.environment import Environment\n",
    "from azureml.core.conda_dependencies import CondaDependencies\n",
    "\n",
    "# to install required packages\n",
    "env = Environment('tutorial-env')\n",
    "cd = CondaDependencies.create(pip_packages=['azureml-dataset-runtime[pandas,fuse]', 'azureml-defaults'], conda_packages = ['scikit-learn==0.22.1'])\n",
    "\n",
    "env.python.conda_dependencies = cd\n",
    "\n",
    "# Register environment to re-use later\n",
    "env.register(workspace = ws)"
   ]
  },
  {
   "cell_type": "markdown",
   "id": "c1cb743e-52cc-4b8f-b107-3f702de9d4a3",
   "metadata": {
    "tags": []
   },
   "source": [
    "## Deploy as web service\n",
    "\n",
    "Deploy the model as a web service hosted in ACI. \n",
    "\n",
    "To build the correct environment for ACI, provide the following:\n",
    "* A scoring script to show how to use the model\n",
    "* A configuration file to build the ACI\n",
    "* The model you trained before\n",
    "\n",
    "### Create scoring script\n",
    "\n",
    "Create the scoring script, called score.py, used by the web service call to show how to use the model.\n",
    "Note that this script will be run directly on ACI, and not here on YData\n",
    "\n",
    "You must include two required functions into the scoring script:\n",
    "* The `init()` function, which typically loads the model into a global object on Azure. This function is run only once when the Docker container is started. \n",
    "\n",
    "* The `run(input_data)` function uses the model to predict a value based on the input data. Inputs and outputs to the run typically use JSON for serialization and de-serialization, but other formats are supported. This is the function that will be called for each test run\n"
   ]
  },
  {
   "cell_type": "code",
   "execution_count": 52,
   "id": "fbf30ce7-600a-4b1c-9c93-779ffaa73d7b",
   "metadata": {},
   "outputs": [
    {
     "name": "stdout",
     "output_type": "stream",
     "text": [
      "Overwriting score.py\n"
     ]
    }
   ],
   "source": [
    "%%writefile score.py\n",
    "import json\n",
    "import numpy as np\n",
    "import os\n",
    "import pickle\n",
    "import joblib\n",
    "\n",
    "def init():\n",
    "    global model\n",
    "    # AZUREML_MODEL_DIR is an environment variable created during deployment.\n",
    "    # It is the path to the model folder (./azureml-models/$MODEL_NAME/$VERSION)\n",
    "    # For multiple models, it points to the folder containing all deployed models (./azureml-models)\n",
    "    model_path = os.path.join(os.getenv('AZUREML_MODEL_DIR'), 'sklearn_churn_model.pkl')\n",
    "    model = joblib.load(model_path)\n",
    "\n",
    "def run(raw_data):\n",
    "    data = np.array(json.loads(raw_data)['data'])\n",
    "    # make prediction\n",
    "    y_hat = model.predict(data)\n",
    "    # you can return any data type as long as it is JSON-serializable\n",
    "    return y_hat.tolist()"
   ]
  },
  {
   "cell_type": "markdown",
   "id": "fd178a03-f198-48a0-9a08-c4310fa5ed06",
   "metadata": {
    "tags": []
   },
   "source": [
    "### Create configuration file\n",
    "\n",
    "Create a deployment configuration file and specify the number of CPUs and gigabyte of RAM needed for your ACI container. While it depends on your model, the default of 1 core and 1 gigabyte of RAM is usually sufficient for many models. If you feel you need more later, you would have to recreate the image and redeploy the service."
   ]
  },
  {
   "cell_type": "code",
   "execution_count": 53,
   "id": "731ebbc2-f3f7-4883-9f3f-cb011d21189c",
   "metadata": {
    "gather": {
     "logged": 1633354325111
    },
    "tags": [
     "configure web service",
     "aci"
    ]
   },
   "outputs": [],
   "source": [
    "from azureml.core.webservice import AciWebservice\n",
    "\n",
    "aciconfig = AciWebservice.deploy_configuration(cpu_cores=1, \n",
    "                                               memory_gb=1, \n",
    "                                               tags={\"data\": \"telco\", \"model\": \"classification\"},\n",
    "                                               description=\"Telco Customer Churn Prediction\")"
   ]
  },
  {
   "cell_type": "markdown",
   "id": "71a953d9-a71e-453c-a068-88df7f0bc834",
   "metadata": {},
   "source": [
    "### Deploy in ACI\n",
    "Estimated time to complete: **about 2-5 minutes**\n",
    "\n",
    "Configure the image and deploy. The following code goes through these steps:\n",
    "\n",
    "1. Create environment object containing dependencies needed by the model using the environment file (`myenv.yml`)\n",
    "1. Create inference configuration necessary to deploy the model as a web service using:\n",
    "   * The scoring file (`score.py`)\n",
    "   * envrionment object created in previous step\n",
    "1. Deploy the model to the ACI container.\n",
    "1. Get the web service HTTP endpoint."
   ]
  },
  {
   "cell_type": "code",
   "execution_count": 54,
   "id": "e39b8155-f8af-4865-8b2f-a2daae86fb99",
   "metadata": {
    "tags": [
     "configure image",
     "create image",
     "deploy web service",
     "aci"
    ]
   },
   "outputs": [
    {
     "name": "stdout",
     "output_type": "stream",
     "text": [
      "Tips: You can try get_logs(): https://aka.ms/debugimage#dockerlog or local deployment: https://aka.ms/debugimage#debug-locally to debug if deployment takes longer than 10 minutes.\n",
      "Running\n",
      "2021-12-13 17:05:10+00:00 Creating Container Registry if not exists.\n",
      "2021-12-13 17:05:10+00:00 Registering the environment.\n",
      "2021-12-13 17:05:12+00:00 Use the existing image.\n",
      "2021-12-13 17:05:12+00:00 Generating deployment configuration.\n",
      "2021-12-13 17:05:13+00:00 Submitting deployment to compute.\n",
      "2021-12-13 17:05:18+00:00 Checking the status of deployment sklearn-churn-svc-2369..\n",
      "2021-12-13 17:07:54+00:00 Checking the status of inference endpoint sklearn-churn-svc-2369.\n",
      "Succeeded\n",
      "ACI service creation operation finished, operation \"Succeeded\"\n",
      "CPU times: user 927 ms, sys: 72.2 ms, total: 999 ms\n",
      "Wall time: 2min 53s\n"
     ]
    }
   ],
   "source": [
    "%%time\n",
    "import uuid\n",
    "from azureml.core.webservice import Webservice\n",
    "from azureml.core.model import InferenceConfig\n",
    "from azureml.core.environment import Environment\n",
    "from azureml.core import Workspace\n",
    "from azureml.core.model import Model\n",
    "\n",
    "ws = Workspace.from_config()\n",
    "model = Model(ws, 'sklearn_churn')\n",
    "\n",
    "\n",
    "myenv = Environment.get(workspace=ws, name=\"tutorial-env\", version=\"1\")\n",
    "inference_config = InferenceConfig(entry_script=\"score.py\", environment=myenv)\n",
    "\n",
    "service_name = 'sklearn-churn-svc-' + str(uuid.uuid4())[:4]\n",
    "service = Model.deploy(workspace=ws, \n",
    "                       name=service_name, \n",
    "                       models=[model], \n",
    "                       inference_config=inference_config, \n",
    "                       deployment_config=aciconfig)\n",
    "\n",
    "service.wait_for_deployment(show_output=True)"
   ]
  },
  {
   "cell_type": "markdown",
   "id": "1e43eb72-9605-4087-9f27-a1764bd31890",
   "metadata": {},
   "source": [
    "Get the scoring web service's HTTP endpoint, which accepts REST client calls. This endpoint can be shared with anyone who wants to test the web service or integrate it into an application."
   ]
  },
  {
   "cell_type": "code",
   "execution_count": 55,
   "id": "68030ccb-4027-4aae-ade4-82bfc02257b7",
   "metadata": {
    "gather": {
     "logged": 1633354452136
    },
    "tags": [
     "get scoring uri"
    ]
   },
   "outputs": [
    {
     "name": "stdout",
     "output_type": "stream",
     "text": [
      "http://cb0a0c8b-38db-4bf8-a430-38cd1d33ea1f.eastus.azurecontainer.io/score\n"
     ]
    }
   ],
   "source": [
    "print(service.scoring_uri)"
   ]
  },
  {
   "cell_type": "markdown",
   "id": "b15b0266-6e9b-45da-b758-e595a5092345",
   "metadata": {},
   "source": [
    "## Test the model\n"
   ]
  },
  {
   "cell_type": "markdown",
   "id": "65736800-71af-4bfe-b0f4-2c299a4fd656",
   "metadata": {},
   "source": [
    "### Load test data\n",
    "\n",
    "Since we have the data in the X_test and y_test variables we can skip this step.\n",
    "If not, we load the test data using the connectors."
   ]
  },
  {
   "cell_type": "code",
   "execution_count": 104,
   "id": "9824e42d-66f5-479b-95d8-6d65fa7c07f6",
   "metadata": {},
   "outputs": [],
   "source": [
    "test_data = connector.read_file('/home/ydata/data/test_data.csv', file_type=FileType.CSV).to_pandas()"
   ]
  },
  {
   "cell_type": "code",
   "execution_count": 105,
   "id": "a0ddd5c7-bb63-4541-a0e0-bce9b5662bd5",
   "metadata": {},
   "outputs": [],
   "source": [
    "y_test = test_data['Churn'].values\n",
    "X_test = test_data.drop(columns = ['Churn'])"
   ]
  },
  {
   "cell_type": "markdown",
   "id": "87b6993f-6ce3-4b16-a1d4-9f9bcdf59a30",
   "metadata": {
    "tags": []
   },
   "source": [
    "### Predict test data\n",
    "\n",
    "Feed the test dataset to the model to get predictions.\n",
    "\n",
    "\n",
    "The following code goes through these steps:\n",
    "1. Send the data as a Pandas Dataframe to the web service hosted in ACI. \n",
    "\n",
    "1. Use the SDK's `run` API to invoke the service. You can also make raw calls using any HTTP tool such as curl."
   ]
  },
  {
   "cell_type": "code",
   "execution_count": 94,
   "id": "5e43c3f9-3591-458e-8499-65137ad8978e",
   "metadata": {
    "gather": {
     "logged": 1633355971086
    }
   },
   "outputs": [],
   "source": [
    "import json\n",
    "test = json.dumps({\"data\": X_test.to_numpy().tolist()})\n",
    "test = bytes(test, encoding='utf8')\n",
    "y_hat = service.run(input_data=test)"
   ]
  },
  {
   "cell_type": "markdown",
   "id": "1a6439dd-7061-46a0-99c0-a2d3d7e97071",
   "metadata": {},
   "source": [
    "###  Examine the confusion matrix\n",
    "\n",
    "Generate a confusion matrix to see how many samples from the test set are classified correctly. Notice the mis-classified value for the incorrect predictions."
   ]
  },
  {
   "cell_type": "code",
   "execution_count": 95,
   "id": "ebdaf07b-3bcc-475a-9a0d-29e0350466a3",
   "metadata": {
    "gather": {
     "logged": 1633355979822
    }
   },
   "outputs": [
    {
     "name": "stdout",
     "output_type": "stream",
     "text": [
      "[[904 124]\n",
      " [161 218]]\n",
      "Overall accuracy: 0.7974413646055437\n"
     ]
    }
   ],
   "source": [
    "from sklearn.metrics import confusion_matrix\n",
    "\n",
    "conf_mx = confusion_matrix(y_test, y_hat)\n",
    "print(conf_mx)\n",
    "print('Overall accuracy:', np.average(y_hat == y_test))"
   ]
  },
  {
   "cell_type": "markdown",
   "id": "1b8f5fc1-5555-4e7f-81d5-b5a4fcb2aee3",
   "metadata": {
    "tags": []
   },
   "source": [
    "## Make predictions through HTTP requests\n",
    "\n",
    "Test the deployed model with a random sample of customers from the test data. Since the model accuracy is high, you might have to run the following code a few times before you can see a misclassified sample. You can also send raw HTTP request to test the web service."
   ]
  },
  {
   "cell_type": "code",
   "execution_count": 106,
   "id": "ba744cf6-84d8-4889-8d51-43bbc481b25d",
   "metadata": {
    "gather": {
     "logged": 1633356003883
    },
    "tags": [
     "score web service"
    ]
   },
   "outputs": [
    {
     "name": "stdout",
     "output_type": "stream",
     "text": [
      "POST to url http://cb0a0c8b-38db-4bf8-a430-38cd1d33ea1f.eastus.azurecontainer.io/score\n",
      "Response:  b'[0]'\n",
      "\n",
      "Customer Index: 309\n",
      "label: 0\n",
      "prediction: [0]\n"
     ]
    }
   ],
   "source": [
    "import requests\n",
    "\n",
    "# send a random row from the test set to score\n",
    "random_index = np.random.randint(0, len(X_test)-1)\n",
    "input_data = \"{\\\"data\\\": [\" + str(list(X_test.to_numpy()[random_index])) + \"]}\"\n",
    "\n",
    "headers = {'Content-Type':'application/json'}\n",
    "\n",
    "# for AKS deployment you'd need to the service key in the header as well\n",
    "# api_key = service.get_key()\n",
    "# headers = {'Content-Type':'application/json',  'Authorization':('Bearer '+ api_key)} \n",
    "\n",
    "resp = requests.post(service.scoring_uri, input_data, headers=headers)\n",
    "\n",
    "print(\"POST to url\", service.scoring_uri)\n",
    "#print(\"input data:\", input_data)\n",
    "\n",
    "print(\"Response: \", resp.content)\n",
    "print(\"\\nCustomer Index:\", random_index)\n",
    "print(\"label:\", y_test[random_index])\n",
    "print(\"prediction:\", resp.text)"
   ]
  },
  {
   "cell_type": "markdown",
   "id": "fcb389ac-73be-4d8f-a295-8d3454754571",
   "metadata": {},
   "source": [
    "## Clean up resources\n",
    "\n",
    "To keep the resource group and workspace for other tutorials and exploration, you can delete only the ACI deployment using this API call:"
   ]
  },
  {
   "cell_type": "code",
   "execution_count": 108,
   "id": "7263db68-647e-4f6b-8a18-a71400a55f66",
   "metadata": {
    "tags": [
     "delete web service"
    ]
   },
   "outputs": [
    {
     "name": "stdout",
     "output_type": "stream",
     "text": [
      "No service with name sklearn-churn-svc-2369 found to delete.\n"
     ]
    }
   ],
   "source": [
    "service.delete()"
   ]
  }
 ],
 "metadata": {
  "kernelspec": {
   "display_name": "Python 3 (ipykernel)",
   "language": "python",
   "name": "python3"
  },
  "language_info": {
   "codemirror_mode": {
    "name": "ipython",
    "version": 3
   },
   "file_extension": ".py",
   "mimetype": "text/x-python",
   "name": "python",
   "nbconvert_exporter": "python",
   "pygments_lexer": "ipython3",
   "version": "3.7.11"
  }
 },
 "nbformat": 4,
 "nbformat_minor": 5
}
