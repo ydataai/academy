{
 "cells": [
  {
   "cell_type": "markdown",
   "id": "869be392",
   "metadata": {},
   "source": [
    "# Multi-Table Synthesis - Database from multiple CSV files\n",
    "\n",
    "### Multiple files can also serve as databases\n",
    "\n",
    "For many data science scenarios, a single-table model is usually the go-to, but the truth is that databases and other relational-like storages are important for more complex use cases, such as systems testing, replicating a database for customer segmentation, or even for data migrations between on-prem and the cloud. \n",
    "\n",
    "YData Fabric offers an easy-to-use and familiar interface through code to support Multi-Table Synthesis from multiple local or cloud storage files. With a few lines of code, users can replicate full relational databases while maintaining the consistency of all the keys and the statistical information of cross-table relations. \n",
    "\n",
    "[Berka](https://data.world/lpetrocelli/czech-financial-dataset-real-anonymized-transactions) is the dataset chosen to demo Fabric Multi-Table synthesis properties and interface. "
   ]
  },
  {
   "cell_type": "markdown",
   "id": "9d9e33ee-c9cb-407e-827e-d55ae6a47911",
   "metadata": {},
   "source": [
    "## Creating your Database\n",
    "\n",
    "In this example we are downloaded and used multiple CSV files define our Database for Synthesis. It is also possible to use a connector to any other type of storage (like AWS S3 or Azure Blob) to read the data from. \n",
    "\n",
    "Each data file must represent a table of our Database. To create the **Database** definition we must respect the following structure: \n",
    "\n",
    "```yml\n",
    "{\n",
    "   'table1_name': `Dataset`, \n",
    "   'table2_name': `Dataset`,\n",
    "   etc.\n",
    "}\n",
    "```\n",
    "\n",
    "For this flow, we have added all the database CSV files to a folder called `data` and read all the available files that had a `.CSV` extension using pandas."
   ]
  },
  {
   "cell_type": "code",
   "execution_count": 1,
   "id": "99519bbc-4a71-4808-8b6d-57cb46119159",
   "metadata": {
    "tags": []
   },
   "outputs": [
    {
     "name": "stdout",
     "output_type": "stream",
     "text": [
      "{   'account': <ydata.dataset.dataset.Dataset object at 0x7f51a418bbb0>,\n",
      "    'card': <ydata.dataset.dataset.Dataset object at 0x7f520d1d9180>,\n",
      "    'client': <ydata.dataset.dataset.Dataset object at 0x7f51a3fe5420>,\n",
      "    'disp': <ydata.dataset.dataset.Dataset object at 0x7f520d1d9a50>,\n",
      "    'district': <ydata.dataset.dataset.Dataset object at 0x7f51c572bd00>,\n",
      "    'loan': <ydata.dataset.dataset.Dataset object at 0x7f51a418b1f0>,\n",
      "    'order': <ydata.dataset.dataset.Dataset object at 0x7f51a418ad10>}\n"
     ]
    }
   ],
   "source": [
    "import os\n",
    "import pprint\n",
    "\n",
    "import pandas as pd \n",
    "\n",
    "from ydata.dataset import Dataset\n",
    "\n",
    "# To print the dictionary structure (Optional)\n",
    "pp = pprint.PrettyPrinter(indent=4)\n",
    "\n",
    "datasets = {}\n",
    "\n",
    "for f in os.listdir('data'):\n",
    "    if f.endswith(\".csv\"):\n",
    "        path = os.path.join('data', f)\n",
    "        df = pd.read_csv(path, sep=';')\n",
    "        dataset = Dataset(df)\n",
    "        \n",
    "        datasets[f.replace('.csv', '')] = dataset\n",
    "        \n",
    "pp.pprint(datasets)"
   ]
  },
  {
   "cell_type": "markdown",
   "id": "90dbc6be-0889-4982-848d-a0f3052f8b75",
   "metadata": {
    "tags": []
   },
   "source": [
    "## Setting the Database schema\n",
    "\n",
    "In order to properly define our Database file it is needed a schema. When leveraging an `RBMS` storage this is already ensured by the storage system itself, but when using files we need to manually define the relationships between the tables/files. \n",
    "\n",
    "You can achieve that by reading a pre-defined schema from a yaml file or, have it defined manually through code. See the code examples below. "
   ]
  },
  {
   "cell_type": "markdown",
   "id": "c9b53fc3-2060-4575-adba-d21b96b88157",
   "metadata": {},
   "source": [
    "### Reading from a yaml file\n",
    "\n",
    "The relationships are represented as a dictionary with its primary and foreign keys. Below an example of what you yaml file with the tables relationships is expected to look like: \n",
    "\n",
    "```yml\n",
    "table1_name: \n",
    "  primary_keys: [table1_PK]\n",
    "\n",
    "table2_name:\n",
    "  primary_keys: [table2_PK]\n",
    "  foreign_keys:\n",
    "    - {column: table1_PK, parent_table: table1_name, parent_column: table1_PK}\n",
    "```"
   ]
  },
  {
   "cell_type": "code",
   "execution_count": 2,
   "id": "8322b949-f518-4978-97d8-0d65d19e8360",
   "metadata": {
    "tags": []
   },
   "outputs": [
    {
     "name": "stdout",
     "output_type": "stream",
     "text": [
      "{   'account': {   'foreign_keys': [   {   'column': 'district_id',\n",
      "                                           'parent_column': 'A1',\n",
      "                                           'parent_table': 'district'}],\n",
      "                   'primary_keys': ['account_id']},\n",
      "    'card': {   'foreign_keys': [   {   'column': 'disp_id',\n",
      "                                        'parent_column': 'disp_id',\n",
      "                                        'parent_table': 'disp'}],\n",
      "                'primary_keys': ['card_id']},\n",
      "    'client': {   'foreign_keys': [   {   'column': 'district_id',\n",
      "                                          'parent_column': 'A1',\n",
      "                                          'parent_table': 'district'}],\n",
      "                  'primary_keys': ['client_id']},\n",
      "    'disp': {   'foreign_keys': [   {   'column': 'account_id',\n",
      "                                        'parent_column': 'account_id',\n",
      "                                        'parent_table': 'account'},\n",
      "                                    {   'column': 'client_id',\n",
      "                                        'parent_column': 'client_id',\n",
      "                                        'parent_table': 'client'}],\n",
      "                'primary_keys': ['disp_id']},\n",
      "    'district': {'primary_keys': ['A1']},\n",
      "    'loan': {   'foreign_keys': [   {   'column': 'account_id',\n",
      "                                        'parent_column': 'account_id',\n",
      "                                        'parent_table': 'account'}],\n",
      "                'primary_keys': ['loan_id']},\n",
      "    'order': {   'foreign_keys': [   {   'column': 'account_id',\n",
      "                                         'parent_column': 'account_id',\n",
      "                                         'parent_table': 'account'}],\n",
      "                 'primary_keys': ['order_id']},\n",
      "    'trans': {   'foreign_keys': [   {   'column': 'account_id',\n",
      "                                         'parent_column': 'account_id',\n",
      "                                         'parent_table': 'account'}],\n",
      "                 'primary_keys': ['trans_id']}}\n"
     ]
    }
   ],
   "source": [
    "from yaml import safe_load\n",
    "\n",
    "with open(f\"data/schema.yml\", \"r\") as f:\n",
    "    schema = safe_load(f)\n",
    "    \n",
    "pp.pprint(schema)"
   ]
  },
  {
   "cell_type": "markdown",
   "id": "311755cc-c566-44eb-a207-0bc01e8b7f36",
   "metadata": {},
   "source": [
    "### Defining it manually through code"
   ]
  },
  {
   "cell_type": "code",
   "execution_count": 17,
   "id": "ce1412bb-0ec3-4468-a9f0-6234b9d25d92",
   "metadata": {
    "tags": []
   },
   "outputs": [
    {
     "name": "stdout",
     "output_type": "stream",
     "text": [
      "{   'account': TableSchema(primary_keys=['account_id'], foreign_keys=[]),\n",
      "    'district': TableSchema(primary_keys=['A1'], foreign_keys=[]),\n",
      "    'order': TableSchema(primary_keys=['order_id'], foreign_keys=[ForeignReference(table='order', column='account_id', parent_table='account', parent_column='account_id', relation_type=<RelationType.ONE_TO_MANY: '1-n'>)])}\n"
     ]
    }
   ],
   "source": [
    "from ydata.dataset.multidataset import MultiTableSchema\n",
    "\n",
    "schema = MultiTableSchema({\"account\": {\"primary_keys\": [\"account_id\"]},\n",
    "                           \"order\": {\"primary_keys\": [\"order_id\"]},\n",
    "                           \"district\": {}})\n",
    "\n",
    "#add a new primary key for an existing table\n",
    "schema.add_primary_key(\"district\", \"A1\")\n",
    "\n",
    "#add new foreign keys to the schema definition\n",
    "schema.add_foreign_key(table=\"order\", column=\"account_id\",\n",
    "                       parent_table=\"account\", parent_column=\"account_id\",\n",
    "                       relation_type=\"1-n\")\n",
    "\n",
    "pp.pprint(schema)"
   ]
  },
  {
   "cell_type": "markdown",
   "id": "f94c74a9-20de-4eaf-a942-fe25ccffa6a1",
   "metadata": {},
   "source": [
    "## Creating the MultiDataset\n",
    "\n",
    "Now that we have both the list of Tables and Schema, we can now succesfully define our Database as a `MultiDataset` object."
   ]
  },
  {
   "cell_type": "code",
   "execution_count": 4,
   "id": "f95a2af4-473b-48a3-af8f-49e5b52fc0a2",
   "metadata": {
    "tags": []
   },
   "outputs": [
    {
     "name": "stdout",
     "output_type": "stream",
     "text": [
      "\u001b[1mMultiDataset Summary \n",
      " \n",
      "\u001b[0m\u001b[1mNumber of tables: \u001b[0m7 \n",
      " \n",
      "  Table name  Num cols  Num rows  Primary keys             Foreign keys Notes\n",
      "0   district        16        77          [A1]                               \n",
      "1     client         3      5369   [client_id]            [district_id]      \n",
      "2    account         4      4500  [account_id]            [district_id]      \n",
      "3       disp         4      5369     [disp_id]  [account_id, client_id]      \n",
      "4       card         4       892     [card_id]                [disp_id]      \n",
      "5       loan         7       682     [loan_id]             [account_id]      \n",
      "6      order         6      6471    [order_id]             [account_id]      \n"
     ]
    }
   ],
   "source": [
    "from ydata.dataset.multidataset import MultiDataset\n",
    "\n",
    "database = MultiDataset(datasets, schema=schema)\n",
    "print(database)"
   ]
  },
  {
   "cell_type": "markdown",
   "id": "04400aa3-8e92-40ff-bf07-44fda5c26c72",
   "metadata": {},
   "source": [
    "Let's display the data of the `order` table."
   ]
  },
  {
   "cell_type": "code",
   "execution_count": 5,
   "id": "f921089f-311f-411d-8554-94b4502b939e",
   "metadata": {
    "tags": []
   },
   "outputs": [
    {
     "data": {
      "text/html": [
       "<div>\n",
       "<style scoped>\n",
       "    .dataframe tbody tr th:only-of-type {\n",
       "        vertical-align: middle;\n",
       "    }\n",
       "\n",
       "    .dataframe tbody tr th {\n",
       "        vertical-align: top;\n",
       "    }\n",
       "\n",
       "    .dataframe thead th {\n",
       "        text-align: right;\n",
       "    }\n",
       "</style>\n",
       "<table border=\"1\" class=\"dataframe\">\n",
       "  <thead>\n",
       "    <tr style=\"text-align: right;\">\n",
       "      <th></th>\n",
       "      <th>order_id</th>\n",
       "      <th>account_id</th>\n",
       "      <th>bank_to</th>\n",
       "      <th>account_to</th>\n",
       "      <th>amount</th>\n",
       "      <th>k_symbol</th>\n",
       "    </tr>\n",
       "  </thead>\n",
       "  <tbody>\n",
       "    <tr>\n",
       "      <th>0</th>\n",
       "      <td>29401</td>\n",
       "      <td>1</td>\n",
       "      <td>YZ</td>\n",
       "      <td>87144583</td>\n",
       "      <td>2452.0</td>\n",
       "      <td>SIPO</td>\n",
       "    </tr>\n",
       "    <tr>\n",
       "      <th>1</th>\n",
       "      <td>29402</td>\n",
       "      <td>2</td>\n",
       "      <td>ST</td>\n",
       "      <td>89597016</td>\n",
       "      <td>3372.7</td>\n",
       "      <td>UVER</td>\n",
       "    </tr>\n",
       "    <tr>\n",
       "      <th>2</th>\n",
       "      <td>29403</td>\n",
       "      <td>2</td>\n",
       "      <td>QR</td>\n",
       "      <td>13943797</td>\n",
       "      <td>7266.0</td>\n",
       "      <td>SIPO</td>\n",
       "    </tr>\n",
       "    <tr>\n",
       "      <th>3</th>\n",
       "      <td>29404</td>\n",
       "      <td>3</td>\n",
       "      <td>WX</td>\n",
       "      <td>83084338</td>\n",
       "      <td>1135.0</td>\n",
       "      <td>SIPO</td>\n",
       "    </tr>\n",
       "    <tr>\n",
       "      <th>4</th>\n",
       "      <td>29405</td>\n",
       "      <td>3</td>\n",
       "      <td>CD</td>\n",
       "      <td>24485939</td>\n",
       "      <td>327.0</td>\n",
       "      <td></td>\n",
       "    </tr>\n",
       "  </tbody>\n",
       "</table>\n",
       "</div>"
      ],
      "text/plain": [
       "   order_id  account_id bank_to  account_to  amount k_symbol\n",
       "0     29401           1      YZ    87144583  2452.0     SIPO\n",
       "1     29402           2      ST    89597016  3372.7     UVER\n",
       "2     29403           2      QR    13943797  7266.0     SIPO\n",
       "3     29404           3      WX    83084338  1135.0     SIPO\n",
       "4     29405           3      CD    24485939   327.0         "
      ]
     },
     "execution_count": 5,
     "metadata": {},
     "output_type": "execute_result"
    }
   ],
   "source": [
    "database['order'].head()"
   ]
  },
  {
   "cell_type": "markdown",
   "id": "8faf53cb-4062-4aa1-bf54-2c0044a19c85",
   "metadata": {},
   "source": [
    "## Creating the MultiMetadata\n",
    "\n",
    "Similarly to what was done for the `MultiDataset`, and to be able to train our `MultiTableSynthesizer` we need to create the Metadata of our Database. For that purpose, we will be using the `MultiMetadata` object.\n",
    "\n",
    "The metadata is an important to step for the synthetisis process, as not only allows to in general terms describe the quality of the data, but also extract some insights regarding the different tables relations."
   ]
  },
  {
   "cell_type": "code",
   "execution_count": 6,
   "id": "bff6e82c-2905-473c-8390-abde02eef3b5",
   "metadata": {
    "tags": []
   },
   "outputs": [
    {
     "name": "stdout",
     "output_type": "stream",
     "text": [
      "[########################################] | 100% Completed | 101.93 ms\n",
      "[########################################] | 100% Completed | 108.50 ms\n",
      "[########################################] | 100% Completed | 108.29 ms\n",
      "[########################################] | 100% Completed | 102.98 ms\n",
      "[########################################] | 100% Completed | 111.41 ms\n",
      "[########################################] | 100% Completed | 102.26 ms\n",
      "[########################################] | 100% Completed | 107.05 ms\n",
      "[########################################] | 100% Completed | 102.29 ms\n",
      "[########################################] | 100% Completed | 102.34 ms\n",
      "[########################################] | 100% Completed | 101.73 ms\n",
      "[########################################] | 100% Completed | 101.90 ms\n",
      "[########################################] | 100% Completed | 111.29 ms\n",
      "[########################################] | 100% Completed | 102.38 ms\n",
      "[########################################] | 100% Completed | 101.87 ms\n",
      "[########################################] | 100% Completed | 102.25 ms\n",
      "[########################################] | 100% Completed | 108.22 ms\n",
      "[########################################] | 100% Completed | 101.92 ms\n",
      "[########################################] | 100% Completed | 102.13 ms\n",
      "[########################################] | 100% Completed | 102.55 ms\n",
      "[########################################] | 100% Completed | 101.57 ms\n",
      "[########################################] | 100% Completed | 103.31 ms\n",
      "[########################################] | 100% Completed | 101.99 ms\n",
      "[########################################] | 100% Completed | 102.06 ms\n",
      "[########################################] | 100% Completed | 102.78 ms\n",
      "[########################################] | 100% Completed | 522.49 ms\n",
      "[########################################] | 100% Completed | 313.96 ms\n",
      "[########################################] | 100% Completed | 101.98 ms\n",
      "[########################################] | 100% Completed | 101.86 ms\n",
      "[########################################] | 100% Completed | 102.00 ms\n",
      "[########################################] | 100% Completed | 101.92 ms\n",
      "[########################################] | 100% Completed | 103.38 ms\n",
      "[########################################] | 100% Completed | 102.65 ms\n",
      "[########################################] | 100% Completed | 102.01 ms\n",
      "[########################################] | 100% Completed | 102.13 ms\n",
      "[########################################] | 100% Completed | 102.09 ms\n",
      "[########################################] | 100% Completed | 102.43 ms\n",
      "[########################################] | 100% Completed | 102.05 ms\n",
      "[########################################] | 100% Completed | 104.95 ms\n",
      "[########################################] | 100% Completed | 208.39 ms\n",
      "[########################################] | 100% Completed | 102.44 ms\n",
      "[########################################] | 100% Completed | 102.11 ms\n",
      "[########################################] | 100% Completed | 105.64 ms\n",
      "[########################################] | 100% Completed | 102.10 ms\n",
      "[########################################] | 100% Completed | 102.33 ms\n",
      "[########################################] | 100% Completed | 206.98 ms\n",
      "[########################################] | 100% Completed | 120.51 ms\n",
      "[########################################] | 100% Completed | 103.91 ms\n",
      "[########################################] | 100% Completed | 103.00 ms\n",
      "[########################################] | 100% Completed | 103.80 ms\n",
      "[########################################] | 100% Completed | 102.33 ms\n",
      "[########################################] | 100% Completed | 101.82 ms\n",
      "[########################################] | 100% Completed | 105.55 ms\n",
      "[########################################] | 100% Completed | 207.95 ms\n",
      "[########################################] | 100% Completed | 102.25 ms\n",
      "[########################################] | 100% Completed | 102.59 ms\n",
      "[########################################] | 100% Completed | 102.45 ms\n",
      "[########################################] | 100% Completed | 103.09 ms\n",
      "[########################################] | 100% Completed | 103.25 ms\n",
      "[########################################] | 100% Completed | 103.89 ms\n",
      "[########################################] | 100% Completed | 102.75 ms\n",
      "[########################################] | 100% Completed | 105.19 ms\n",
      "[########################################] | 100% Completed | 102.11 ms\n",
      "[########################################] | 100% Completed | 319.51 ms\n",
      "[########################################] | 100% Completed | 206.39 ms\n",
      "[########################################] | 100% Completed | 101.52 ms\n",
      "[########################################] | 100% Completed | 106.68 ms\n",
      "[########################################] | 100% Completed | 102.07 ms\n",
      "[########################################] | 100% Completed | 101.70 ms\n",
      "[########################################] | 100% Completed | 106.74 ms\n",
      "[########################################] | 100% Completed | 101.74 ms\n",
      "[########################################] | 100% Completed | 106.30 ms\n",
      "[########################################] | 100% Completed | 102.15 ms\n",
      "[########################################] | 100% Completed | 101.69 ms\n",
      "[########################################] | 100% Completed | 102.38 ms\n",
      "[########################################] | 100% Completed | 102.38 ms\n",
      "[########################################] | 100% Completed | 102.60 ms\n",
      "[########################################] | 100% Completed | 102.39 ms\n",
      "[########################################] | 100% Completed | 103.94 ms\n",
      "[########################################] | 100% Completed | 208.30 ms\n",
      "[########################################] | 100% Completed | 104.96 ms\n",
      "\u001b[1mMultiMetadata Summary \n",
      " \n",
      "\u001b[0m\u001b[1mNumber of tables: \u001b[0m7 \n",
      " \n",
      "  Table name  # cols Primary keys             Foreign keys PK characteristics                           FK characteristics Notes\n",
      "0   district      16           A1                                        [id]                                                   \n",
      "1     client       3    client_id            [district_id]               [id]                      {'district_id': ['id']}      \n",
      "2    account       4   account_id            [district_id]               [id]                      {'district_id': ['id']}      \n",
      "3       disp       4      disp_id  [account_id, client_id]               [id]  {'account_id': ['id'], 'client_id': ['id']}      \n",
      "4       card       4      card_id                [disp_id]               [id]                          {'disp_id': ['id']}      \n",
      "5       loan       7      loan_id             [account_id]               [id]                       {'account_id': ['id']}      \n",
      "6      order       6     order_id             [account_id]               [id]                       {'account_id': ['id']}      \n"
     ]
    }
   ],
   "source": [
    "from ydata.metadata.multimetadata import MultiMetadata\n",
    "\n",
    "database_metadata = MultiMetadata(database)\n",
    "print(database_metadata)"
   ]
  },
  {
   "cell_type": "markdown",
   "id": "877abd3b",
   "metadata": {},
   "source": [
    "## Training & sampling a Database Synthetic Data generator"
   ]
  },
  {
   "cell_type": "markdown",
   "id": "6fdec661",
   "metadata": {},
   "source": [
    "We can now train the synthesizer by creating a `MultiTableSynthesizer` and passing the data and the metadata."
   ]
  },
  {
   "cell_type": "code",
   "execution_count": 7,
   "id": "74693170",
   "metadata": {
    "tags": []
   },
   "outputs": [
    {
     "name": "stdout",
     "output_type": "stream",
     "text": [
      "INFO: 2024-02-07 23:11:30,932 (1/7) - Fitting table: [district]\n",
      "[########################################] | 100% Completed | 103.17 ms\n",
      "[########################################] | 100% Completed | 101.77 ms\n",
      "[########################################] | 100% Completed | 104.20 ms\n",
      "[########################################] | 100% Completed | 101.68 ms\n",
      "[########################################] | 100% Completed | 102.28 ms\n",
      "[########################################] | 100% Completed | 101.88 ms\n",
      "[########################################] | 100% Completed | 102.16 ms\n",
      "[########################################] | 100% Completed | 102.50 ms\n",
      "[########################################] | 100% Completed | 101.76 ms\n",
      "[########################################] | 100% Completed | 102.09 ms\n",
      "[########################################] | 100% Completed | 101.75 ms\n",
      "[########################################] | 100% Completed | 102.21 ms\n",
      "[########################################] | 100% Completed | 101.56 ms\n",
      "[########################################] | 100% Completed | 101.98 ms\n",
      "[########################################] | 100% Completed | 101.84 ms\n",
      "[########################################] | 100% Completed | 108.68 ms\n",
      "[########################################] | 100% Completed | 107.78 ms\n",
      "[########################################] | 100% Completed | 107.42 ms\n",
      "[########################################] | 100% Completed | 102.08 ms\n",
      "[########################################] | 100% Completed | 101.91 ms\n",
      "[########################################] | 100% Completed | 101.87 ms\n",
      "[########################################] | 100% Completed | 101.69 ms\n",
      "[########################################] | 100% Completed | 101.65 ms\n",
      "[########################################] | 100% Completed | 102.90 ms\n",
      "[########################################] | 100% Completed | 101.72 ms\n",
      "[########################################] | 100% Completed | 416.48 ms\n",
      "INFO: 2024-02-07 23:11:34,526 [SYNTHESIZER] - Number columns considered for synth: 16\n",
      "INFO: 2024-02-07 23:11:34,668 [SYNTHESIZER] - Starting the synthetic data modeling process over 1x1 blocks.\n",
      "INFO: 2024-02-07 23:11:34,671 [SYNTHESIZER] - Preprocess segment\n",
      "INFO: 2024-02-07 23:11:34,678 [SYNTHESIZER] - Synthesizer init.\n",
      "INFO: 2024-02-07 23:11:34,679 [SYNTHESIZER] - Processing the data prior fitting the synthesizer.\n",
      "INFO: 2024-02-07 23:11:34,983 (2/7) - Fitting table: [client]\n",
      "[########################################] | 100% Completed | 101.83 ms\n",
      "[########################################] | 100% Completed | 105.60 ms\n",
      "[########################################] | 100% Completed | 102.44 ms\n",
      "[########################################] | 100% Completed | 107.57 ms\n",
      "[########################################] | 100% Completed | 108.38 ms\n",
      "[########################################] | 100% Completed | 107.91 ms\n",
      "[########################################] | 100% Completed | 102.04 ms\n",
      "[########################################] | 100% Completed | 102.13 ms\n",
      "[########################################] | 100% Completed | 102.07 ms\n",
      "[########################################] | 100% Completed | 101.99 ms\n",
      "[########################################] | 100% Completed | 101.61 ms\n",
      "[########################################] | 100% Completed | 102.07 ms\n",
      "[########################################] | 100% Completed | 101.70 ms\n",
      "[########################################] | 100% Completed | 102.68 ms\n",
      "[########################################] | 100% Completed | 108.12 ms\n",
      "[########################################] | 100% Completed | 102.75 ms\n",
      "[########################################] | 100% Completed | 101.77 ms\n",
      "[########################################] | 100% Completed | 102.33 ms\n",
      "[########################################] | 100% Completed | 102.42 ms\n",
      "[########################################] | 100% Completed | 101.88 ms\n",
      "[########################################] | 100% Completed | 102.23 ms\n",
      "[########################################] | 100% Completed | 101.82 ms\n",
      "[########################################] | 100% Completed | 109.29 ms\n",
      "[########################################] | 100% Completed | 101.76 ms\n",
      "[########################################] | 100% Completed | 101.93 ms\n",
      "[########################################] | 100% Completed | 101.87 ms\n",
      "[########################################] | 100% Completed | 101.41 ms\n",
      "[########################################] | 100% Completed | 101.76 ms\n",
      "[########################################] | 100% Completed | 102.31 ms\n",
      "[########################################] | 100% Completed | 101.42 ms\n",
      "[########################################] | 100% Completed | 102.05 ms\n",
      "[########################################] | 100% Completed | 623.89 ms\n",
      "INFO: 2024-02-07 23:11:39,542 [SYNTHESIZER] - Number columns considered for synth: 19\n",
      "INFO: 2024-02-07 23:11:39,692 [SYNTHESIZER] - Starting the synthetic data modeling process over 1x1 blocks.\n",
      "INFO: 2024-02-07 23:11:39,695 [SYNTHESIZER] - Preprocess segment\n",
      "INFO: 2024-02-07 23:11:39,705 [SYNTHESIZER] - Synthesizer init.\n",
      "INFO: 2024-02-07 23:11:39,706 [SYNTHESIZER] - Processing the data prior fitting the synthesizer.\n",
      "INFO: 2024-02-07 23:11:40,484 (3/7) - Fitting table: [disp]\n",
      "[########################################] | 100% Completed | 101.65 ms\n",
      "[########################################] | 100% Completed | 103.45 ms\n",
      "[########################################] | 100% Completed | 102.84 ms\n",
      "[########################################] | 100% Completed | 102.43 ms\n",
      "[########################################] | 100% Completed | 102.00 ms\n",
      "[########################################] | 100% Completed | 102.44 ms\n",
      "[########################################] | 100% Completed | 101.88 ms\n",
      "[########################################] | 100% Completed | 101.69 ms\n",
      "[########################################] | 100% Completed | 101.65 ms\n",
      "[########################################] | 100% Completed | 102.75 ms\n",
      "[########################################] | 100% Completed | 102.01 ms\n",
      "[########################################] | 100% Completed | 101.86 ms\n",
      "[########################################] | 100% Completed | 101.83 ms\n",
      "[########################################] | 100% Completed | 204.30 ms\n",
      "INFO: 2024-02-07 23:11:42,297 [SYNTHESIZER] - Number columns considered for synth: 7\n",
      "INFO: 2024-02-07 23:11:42,352 [SYNTHESIZER] - Starting the synthetic data modeling process over 1x1 blocks.\n",
      "INFO: 2024-02-07 23:11:42,355 [SYNTHESIZER] - Preprocess segment\n",
      "INFO: 2024-02-07 23:11:42,360 [SYNTHESIZER] - Synthesizer init.\n",
      "INFO: 2024-02-07 23:11:42,361 [SYNTHESIZER] - Processing the data prior fitting the synthesizer.\n",
      "INFO: 2024-02-07 23:11:43,996 (4/7) - Fitting table: [card]\n",
      "[########################################] | 100% Completed | 102.05 ms\n",
      "[########################################] | 100% Completed | 102.04 ms\n",
      "[########################################] | 100% Completed | 101.89 ms\n",
      "[########################################] | 100% Completed | 101.78 ms\n",
      "[########################################] | 100% Completed | 102.10 ms\n",
      "[########################################] | 100% Completed | 101.87 ms\n",
      "[########################################] | 100% Completed | 101.73 ms\n",
      "[########################################] | 100% Completed | 101.82 ms\n",
      "[########################################] | 100% Completed | 101.74 ms\n",
      "[########################################] | 100% Completed | 101.95 ms\n",
      "[########################################] | 100% Completed | 102.09 ms\n",
      "[########################################] | 100% Completed | 310.05 ms\n",
      "INFO: 2024-02-07 23:11:45,732 [SYNTHESIZER] - Number columns considered for synth: 8\n",
      "INFO: 2024-02-07 23:11:45,800 [SYNTHESIZER] - Starting the synthetic data modeling process over 1x1 blocks.\n",
      "INFO: 2024-02-07 23:11:45,803 [SYNTHESIZER] - Preprocess segment\n",
      "INFO: 2024-02-07 23:11:45,808 [SYNTHESIZER] - Synthesizer init.\n",
      "INFO: 2024-02-07 23:11:45,810 [SYNTHESIZER] - Processing the data prior fitting the synthesizer.\n",
      "INFO: 2024-02-07 23:11:46,254 (5/7) - Fitting table: [account]\n",
      "[########################################] | 100% Completed | 104.40 ms\n",
      "[########################################] | 100% Completed | 102.19 ms\n",
      "[########################################] | 100% Completed | 101.77 ms\n",
      "[########################################] | 100% Completed | 102.73 ms\n",
      "[########################################] | 100% Completed | 101.75 ms\n",
      "[########################################] | 100% Completed | 106.99 ms\n",
      "[########################################] | 100% Completed | 102.21 ms\n",
      "[########################################] | 100% Completed | 101.67 ms\n",
      "[########################################] | 100% Completed | 108.05 ms\n",
      "[########################################] | 100% Completed | 102.00 ms\n",
      "[########################################] | 100% Completed | 101.81 ms\n",
      "[########################################] | 100% Completed | 101.97 ms\n",
      "[########################################] | 100% Completed | 105.89 ms\n",
      "[########################################] | 100% Completed | 588.31 ms\n",
      "INFO: 2024-02-07 23:11:48,524 [SYNTHESIZER] - Number columns considered for synth: 8\n",
      "INFO: 2024-02-07 23:11:48,592 [SYNTHESIZER] - Starting the synthetic data modeling process over 1x1 blocks.\n",
      "INFO: 2024-02-07 23:11:48,595 [SYNTHESIZER] - Preprocess segment\n",
      "INFO: 2024-02-07 23:11:48,599 [SYNTHESIZER] - Synthesizer init.\n",
      "INFO: 2024-02-07 23:11:48,600 [SYNTHESIZER] - Processing the data prior fitting the synthesizer.\n",
      "INFO: 2024-02-07 23:11:50,381 (6/7) - Fitting table: [order]\n",
      "[########################################] | 100% Completed | 101.66 ms\n",
      "[########################################] | 100% Completed | 101.63 ms\n",
      "[########################################] | 100% Completed | 102.02 ms\n",
      "[########################################] | 100% Completed | 102.34 ms\n",
      "[########################################] | 100% Completed | 101.93 ms\n",
      "[########################################] | 100% Completed | 102.13 ms\n",
      "[########################################] | 100% Completed | 103.05 ms\n",
      "[########################################] | 100% Completed | 102.58 ms\n",
      "[########################################] | 100% Completed | 102.23 ms\n",
      "[########################################] | 100% Completed | 102.83 ms\n",
      "[########################################] | 100% Completed | 107.21 ms\n",
      "[########################################] | 100% Completed | 109.83 ms\n",
      "[########################################] | 100% Completed | 102.79 ms\n",
      "[########################################] | 100% Completed | 103.20 ms\n",
      "[########################################] | 100% Completed | 107.82 ms\n",
      "[########################################] | 100% Completed | 419.88 ms\n",
      "INFO: 2024-02-07 23:11:52,754 [SYNTHESIZER] - Number columns considered for synth: 10\n",
      "INFO: 2024-02-07 23:11:52,853 [SYNTHESIZER] - Starting the synthetic data modeling process over 1x1 blocks.\n",
      "INFO: 2024-02-07 23:11:52,857 [SYNTHESIZER] - Preprocess segment\n",
      "INFO: 2024-02-07 23:11:52,863 [SYNTHESIZER] - Synthesizer init.\n",
      "INFO: 2024-02-07 23:11:52,863 [SYNTHESIZER] - Processing the data prior fitting the synthesizer.\n",
      "INFO: 2024-02-07 23:11:55,839 (7/7) - Fitting table: [loan]\n",
      "[########################################] | 100% Completed | 102.05 ms\n",
      "[########################################] | 100% Completed | 102.54 ms\n",
      "[########################################] | 100% Completed | 101.35 ms\n",
      "[########################################] | 100% Completed | 102.20 ms\n",
      "[########################################] | 100% Completed | 102.22 ms\n",
      "[########################################] | 100% Completed | 102.25 ms\n",
      "[########################################] | 100% Completed | 101.83 ms\n",
      "[########################################] | 100% Completed | 106.31 ms\n",
      "[########################################] | 100% Completed | 101.88 ms\n",
      "[########################################] | 100% Completed | 103.79 ms\n",
      "[########################################] | 100% Completed | 102.27 ms\n",
      "[########################################] | 100% Completed | 101.60 ms\n",
      "[########################################] | 100% Completed | 101.92 ms\n",
      "[########################################] | 100% Completed | 102.22 ms\n",
      "[########################################] | 100% Completed | 107.05 ms\n",
      "[########################################] | 100% Completed | 101.90 ms\n",
      "[########################################] | 100% Completed | 101.82 ms\n",
      "[########################################] | 100% Completed | 101.69 ms\n",
      "[########################################] | 100% Completed | 101.85 ms\n",
      "[########################################] | 100% Completed | 307.02 ms\n",
      "INFO: 2024-02-07 23:11:58,522 [SYNTHESIZER] - Number columns considered for synth: 11\n",
      "INFO: 2024-02-07 23:11:58,615 [SYNTHESIZER] - Starting the synthetic data modeling process over 1x1 blocks.\n",
      "INFO: 2024-02-07 23:11:58,618 [SYNTHESIZER] - Preprocess segment\n",
      "INFO: 2024-02-07 23:11:58,623 [SYNTHESIZER] - Synthesizer init.\n",
      "INFO: 2024-02-07 23:11:58,624 [SYNTHESIZER] - Processing the data prior fitting the synthesizer.\n"
     ]
    },
    {
     "data": {
      "text/plain": [
       "<ydata.synthesizers.multitable.model.MultiTableSynthesizer at 0x7f5177d623b0>"
      ]
     },
     "execution_count": 7,
     "metadata": {},
     "output_type": "execute_result"
    }
   ],
   "source": [
    "from ydata.synthesizers import MultiTableSynthesizer\n",
    "\n",
    "synth = MultiTableSynthesizer()\n",
    "synth.fit(database, database_metadata)"
   ]
  },
  {
   "cell_type": "markdown",
   "id": "15a72b2c",
   "metadata": {},
   "source": [
    "To generate the synthetic data we call the `sample` method.\n",
    "\n",
    "Since there is a need to keep the consistency of the tables, as well as the referential integrity, to sample from trained synthesizers the number of records is set through a ratio based on the original number of records (e.g., 1.0 is equivalent to the size of the original database)."
   ]
  },
  {
   "cell_type": "code",
   "execution_count": 10,
   "id": "165781c6-058c-4e1a-8877-8e952bb586ed",
   "metadata": {
    "tags": []
   },
   "outputs": [
    {
     "name": "stdout",
     "output_type": "stream",
     "text": [
      "INFO: 2024-02-07 23:14:39,041 (1/7) - Synthesizing table: district\n",
      "INFO: 2024-02-07 23:14:39,043 [SYNTHESIZER] - Start generating model samples.\n",
      "INFO: 2024-02-07 23:14:39,584 (2/7) - Synthesizing table: client\n",
      "INFO: 2024-02-07 23:14:39,686 [SYNTHESIZER] - Start generating model samples.\n",
      "INFO: 2024-02-07 23:14:40,346 (3/7) - Synthesizing table: disp\n",
      "INFO: 2024-02-07 23:14:40,378 [SYNTHESIZER] - Start generating model samples.\n",
      "INFO: 2024-02-07 23:14:41,149 (4/7) - Synthesizing table: card\n",
      "INFO: 2024-02-07 23:14:41,189 [SYNTHESIZER] - Start generating model samples.\n",
      "INFO: 2024-02-07 23:14:41,561 (5/7) - Synthesizing table: account\n",
      "INFO: 2024-02-07 23:14:41,666 [SYNTHESIZER] - Start generating model samples.\n",
      "INFO: 2024-02-07 23:14:42,052 (6/7) - Synthesizing table: order\n",
      "INFO: 2024-02-07 23:14:42,095 [SYNTHESIZER] - Start generating model samples.\n",
      "INFO: 2024-02-07 23:14:43,210 (7/7) - Synthesizing table: loan\n",
      "INFO: 2024-02-07 23:14:43,267 [SYNTHESIZER] - Start generating model samples.\n",
      "\u001b[1mMultiDataset Summary \n",
      " \n",
      "\u001b[0m\u001b[1mNumber of tables: \u001b[0m7 \n",
      " \n",
      "  Table name  Num cols  Num rows  Primary keys             Foreign keys Notes\n",
      "0   district        16        77          [A1]                               \n",
      "1     client         3      4663   [client_id]            [district_id]      \n",
      "2    account         4      3944  [account_id]            [district_id]      \n",
      "3       disp         4      4663     [disp_id]  [account_id, client_id]      \n",
      "4       card         4      4663     [card_id]                [disp_id]      \n",
      "5       loan         7      3944     [loan_id]             [account_id]      \n",
      "6      order         6      6720    [order_id]             [account_id]      \n"
     ]
    }
   ],
   "source": [
    "sample = synth.sample(n_samples=1.)\n",
    "print(sample)"
   ]
  },
  {
   "cell_type": "markdown",
   "id": "710ac51d",
   "metadata": {},
   "source": [
    "We can now display the sampled data of the `account` and `order` tables."
   ]
  },
  {
   "cell_type": "code",
   "execution_count": 11,
   "id": "3ddf4276-2f1c-431d-80f2-63aa544554a6",
   "metadata": {
    "tags": []
   },
   "outputs": [
    {
     "data": {
      "text/html": [
       "<div>\n",
       "<style scoped>\n",
       "    .dataframe tbody tr th:only-of-type {\n",
       "        vertical-align: middle;\n",
       "    }\n",
       "\n",
       "    .dataframe tbody tr th {\n",
       "        vertical-align: top;\n",
       "    }\n",
       "\n",
       "    .dataframe thead th {\n",
       "        text-align: right;\n",
       "    }\n",
       "</style>\n",
       "<table border=\"1\" class=\"dataframe\">\n",
       "  <thead>\n",
       "    <tr style=\"text-align: right;\">\n",
       "      <th></th>\n",
       "      <th>account_id</th>\n",
       "      <th>district_id</th>\n",
       "      <th>frequency</th>\n",
       "      <th>date</th>\n",
       "    </tr>\n",
       "  </thead>\n",
       "  <tbody>\n",
       "    <tr>\n",
       "      <th>0</th>\n",
       "      <td>1</td>\n",
       "      <td>5.0</td>\n",
       "      <td>POPLATEK MESICNE</td>\n",
       "      <td>950324</td>\n",
       "    </tr>\n",
       "    <tr>\n",
       "      <th>1</th>\n",
       "      <td>2</td>\n",
       "      <td>1.0</td>\n",
       "      <td>POPLATEK MESICNE</td>\n",
       "      <td>930226</td>\n",
       "    </tr>\n",
       "    <tr>\n",
       "      <th>2</th>\n",
       "      <td>3</td>\n",
       "      <td>1.0</td>\n",
       "      <td>POPLATEK MESICNE</td>\n",
       "      <td>970707</td>\n",
       "    </tr>\n",
       "    <tr>\n",
       "      <th>3</th>\n",
       "      <td>4</td>\n",
       "      <td>18.0</td>\n",
       "      <td>POPLATEK MESICNE</td>\n",
       "      <td>970530</td>\n",
       "    </tr>\n",
       "    <tr>\n",
       "      <th>4</th>\n",
       "      <td>5</td>\n",
       "      <td>5.0</td>\n",
       "      <td>POPLATEK MESICNE</td>\n",
       "      <td>970707</td>\n",
       "    </tr>\n",
       "  </tbody>\n",
       "</table>\n",
       "</div>"
      ],
      "text/plain": [
       "   account_id  district_id         frequency    date\n",
       "0           1          5.0  POPLATEK MESICNE  950324\n",
       "1           2          1.0  POPLATEK MESICNE  930226\n",
       "2           3          1.0  POPLATEK MESICNE  970707\n",
       "3           4         18.0  POPLATEK MESICNE  970530\n",
       "4           5          5.0  POPLATEK MESICNE  970707"
      ]
     },
     "execution_count": 11,
     "metadata": {},
     "output_type": "execute_result"
    }
   ],
   "source": [
    "sample['account'].head()"
   ]
  }
 ],
 "metadata": {
  "kernelspec": {
   "display_name": "Python 3 (ipykernel)",
   "language": "python",
   "name": "python3"
  },
  "language_info": {
   "codemirror_mode": {
    "name": "ipython",
    "version": 3
   },
   "file_extension": ".py",
   "mimetype": "text/x-python",
   "name": "python",
   "nbconvert_exporter": "python",
   "pygments_lexer": "ipython3",
   "version": "3.10.12"
  }
 },
 "nbformat": 4,
 "nbformat_minor": 5
}
