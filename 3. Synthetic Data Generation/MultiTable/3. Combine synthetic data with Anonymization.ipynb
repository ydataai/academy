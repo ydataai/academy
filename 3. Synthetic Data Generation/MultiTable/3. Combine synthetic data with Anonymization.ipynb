{
 "cells": [
  {
   "cell_type": "markdown",
   "id": "869be392",
   "metadata": {},
   "source": [
    "# Multi-Table Synthesis combined with Anonymization\n",
    "\n",
    "Combining synthetic data with traditional anonymization enhances privacy and data utility while ensuring compliance with regulations. Synthetic data reduces re-identification risks by not being directly tied to individuals, preserving the usefulness of data for analysis. This approach also facilitates safer data sharing and collaboration by adding an extra layer of privacy protection that allows to replicate the same schema while protecting certain identifiers, like zip-codes or even unique identifiers, making it a strategic choice for organizations handling sensitive information.\n",
    "\n",
    "In this notebook we will be exploring how to combine the benefits of the `MultiTableSynthesizer`with YData Fabric Anonymizer."
   ]
  },
  {
   "cell_type": "markdown",
   "id": "9d9e33ee-c9cb-407e-827e-d55ae6a47911",
   "metadata": {},
   "source": [
    "## Getting your database from the Data Catalog\n",
    "\n",
    "In this example we have create our database in a MySQL server and [created a Dataset in Fabric Data Catalog](https://docs.sdk.ydata.ai/0.10/get-started/create_multitable_dataset/)."
   ]
  },
  {
   "cell_type": "code",
   "execution_count": 1,
   "id": "99519bbc-4a71-4808-8b6d-57cb46119159",
   "metadata": {
    "tags": []
   },
   "outputs": [
    {
     "name": "stderr",
     "output_type": "stream",
     "text": [
      "/home/ydata/.venv/lib/python3.10/site-packages/distributed/client.py:3163: UserWarning: Sending large graph of size 9.55 MiB.\n",
      "This may cause some slowdown.\n",
      "Consider scattering data ahead of time and using futures.\n",
      "  warnings.warn(\n",
      "/home/ydata/.venv/lib/python3.10/site-packages/distributed/client.py:3163: UserWarning: Sending large graph of size 9.56 MiB.\n",
      "This may cause some slowdown.\n",
      "Consider scattering data ahead of time and using futures.\n",
      "  warnings.warn(\n"
     ]
    },
    {
     "name": "stdout",
     "output_type": "stream",
     "text": [
      "\u001B[1mMultiMetadata Summary \n",
      " \n",
      "\u001B[0m\u001B[1mNumber of tables: \u001B[0m9 \n",
      " \n",
      "  Table name  # cols Primary keys             Foreign keys PK characteristics                           FK characteristics Notes\n",
      "0     append       3                                                                                                            \n",
      "1   district      16           a1                                        [id]                                                   \n",
      "2    account       4   account_id            [district_id]               [id]                      {'district_id': ['id']}      \n",
      "3     client       6    client_id            [district_id]               [id]                      {'district_id': ['id']}      \n",
      "4       disp       4      disp_id  [client_id, account_id]               [id]  {'client_id': ['id'], 'account_id': ['id']}      \n",
      "5       loan       9      loan_id             [account_id]               [id]                       {'account_id': ['id']}      \n",
      "6      order       6     order_id             [account_id]               [id]                       {'account_id': ['id']}      \n",
      "7      trans      10     trans_id             [account_id]               [id]                       {'account_id': ['id']}      \n",
      "8       card       4      card_id                [disp_id]               [id]                          {'disp_id': ['id']}      \n"
     ]
    }
   ],
   "source": [
    "# Importing YData's packages\n",
    "from ydata.labs import DataSources\n",
    "# Reading the Dataset from the DataSource\n",
    "datasource = DataSources.get(uid='{insert-database-id}')\n",
    "\n",
    "dataset = datasource.dataset"
   ]
  },
  {
   "cell_type": "markdown",
   "id": "877abd3b",
   "metadata": {},
   "source": [
    "## Training & sampling a Database Synthetic Data generator"
   ]
  },
  {
   "cell_type": "markdown",
   "id": "6fdec661",
   "metadata": {},
   "source": [
    "We can now define the **Anonymize** configuration that will allow to set an extra layer of protection over some of the database properties, while ensuring that the original schema is reflected.\n",
    "By default, columns that have been defined as **PK** are always anonymized with an incremental integers. This pattern can be changed by the user.\n",
    "\n",
    "In this example, the `Berka` database transactions table can be considered a time series. For that reason, the table **trans** will to be set as a `timeseries` and the column `date` as the table time order reference (**sortbykey**). For that reason we need to calculate a new `MultiMetadata`."
   ]
  },
  {
   "cell_type": "code",
   "execution_count": 2,
   "id": "308c304c-6c68-4969-9f6a-e0932dfb3bd3",
   "metadata": {
    "tags": []
   },
   "outputs": [
    {
     "name": "stderr",
     "output_type": "stream",
     "text": [
      "/home/ydata/.venv/lib/python3.10/site-packages/distributed/client.py:3163: UserWarning: Sending large graph of size 9.55 MiB.\n",
      "This may cause some slowdown.\n",
      "Consider scattering data ahead of time and using futures.\n",
      "  warnings.warn(\n",
      "/home/ydata/.venv/lib/python3.10/site-packages/distributed/client.py:3163: UserWarning: Sending large graph of size 9.55 MiB.\n",
      "This may cause some slowdown.\n",
      "Consider scattering data ahead of time and using futures.\n",
      "  warnings.warn(\n",
      "/home/ydata/.venv/lib/python3.10/site-packages/distributed/client.py:3163: UserWarning: Sending large graph of size 9.55 MiB.\n",
      "This may cause some slowdown.\n",
      "Consider scattering data ahead of time and using futures.\n",
      "  warnings.warn(\n",
      "/home/ydata/.venv/lib/python3.10/site-packages/distributed/client.py:3163: UserWarning: Sending large graph of size 9.55 MiB.\n",
      "This may cause some slowdown.\n",
      "Consider scattering data ahead of time and using futures.\n",
      "  warnings.warn(\n",
      "/home/ydata/.venv/lib/python3.10/site-packages/distributed/client.py:3163: UserWarning: Sending large graph of size 9.55 MiB.\n",
      "This may cause some slowdown.\n",
      "Consider scattering data ahead of time and using futures.\n",
      "  warnings.warn(\n",
      "/home/ydata/.venv/lib/python3.10/site-packages/distributed/client.py:3163: UserWarning: Sending large graph of size 9.55 MiB.\n",
      "This may cause some slowdown.\n",
      "Consider scattering data ahead of time and using futures.\n",
      "  warnings.warn(\n",
      "/home/ydata/.venv/lib/python3.10/site-packages/distributed/client.py:3163: UserWarning: Sending large graph of size 9.55 MiB.\n",
      "This may cause some slowdown.\n",
      "Consider scattering data ahead of time and using futures.\n",
      "  warnings.warn(\n",
      "/home/ydata/.venv/lib/python3.10/site-packages/distributed/client.py:3163: UserWarning: Sending large graph of size 9.55 MiB.\n",
      "This may cause some slowdown.\n",
      "Consider scattering data ahead of time and using futures.\n",
      "  warnings.warn(\n",
      "/home/ydata/.venv/lib/python3.10/site-packages/distributed/client.py:3163: UserWarning: Sending large graph of size 9.55 MiB.\n",
      "This may cause some slowdown.\n",
      "Consider scattering data ahead of time and using futures.\n",
      "  warnings.warn(\n",
      "/home/ydata/.venv/lib/python3.10/site-packages/distributed/client.py:3163: UserWarning: Sending large graph of size 9.55 MiB.\n",
      "This may cause some slowdown.\n",
      "Consider scattering data ahead of time and using futures.\n",
      "  warnings.warn(\n",
      "/home/ydata/.venv/lib/python3.10/site-packages/distributed/client.py:3163: UserWarning: Sending large graph of size 9.55 MiB.\n",
      "This may cause some slowdown.\n",
      "Consider scattering data ahead of time and using futures.\n",
      "  warnings.warn(\n",
      "/home/ydata/.venv/lib/python3.10/site-packages/distributed/client.py:3163: UserWarning: Sending large graph of size 9.55 MiB.\n",
      "This may cause some slowdown.\n",
      "Consider scattering data ahead of time and using futures.\n",
      "  warnings.warn(\n",
      "/home/ydata/.venv/lib/python3.10/site-packages/distributed/client.py:3163: UserWarning: Sending large graph of size 9.67 MiB.\n",
      "This may cause some slowdown.\n",
      "Consider scattering data ahead of time and using futures.\n",
      "  warnings.warn(\n",
      "/home/ydata/.venv/lib/python3.10/site-packages/distributed/client.py:3163: UserWarning: Sending large graph of size 9.57 MiB.\n",
      "This may cause some slowdown.\n",
      "Consider scattering data ahead of time and using futures.\n",
      "  warnings.warn(\n",
      "/home/ydata/.venv/lib/python3.10/site-packages/distributed/client.py:3163: UserWarning: Sending large graph of size 9.56 MiB.\n",
      "This may cause some slowdown.\n",
      "Consider scattering data ahead of time and using futures.\n",
      "  warnings.warn(\n"
     ]
    }
   ],
   "source": [
    "from ydata.metadata.multimetadata import MultiMetadata\n",
    "\n",
    "dataset_type = {\n",
    "    'trans': 'timeseries'\n",
    "}\n",
    "\n",
    "dataset_attrs = {\n",
    "    'trans': {\n",
    "        'sortbykey': 'date',\n",
    "        'entities': []\n",
    "    }\n",
    "}\n",
    "\n",
    "metadata = MultiMetadata(dataset, dataset_attrs=dataset_attrs, dataset_type=dataset_type)"
   ]
  },
  {
   "cell_type": "markdown",
   "id": "0851c37b-6f50-4a54-bee9-114f4a115690",
   "metadata": {},
   "source": [
    "In this example, the following columns are anonymized:\n",
    "- The `district` table primary key (`district.a1`) and all its references (i.e., foreign keys) across the database, such as the `account.district_id`. The replacement data will be generated according to the specified regex expression.\n",
    "- All the primary keys from the `account` table, as well as their references across the database. The replacement data are integers.\n",
    "- The values from the `bank_to` column from the `order` table will be replaced by city names (other strategies are available according to the specified `AnonymizerType`)."
   ]
  },
  {
   "cell_type": "code",
   "execution_count": 4,
   "id": "9dc6af6d-6d9c-4abf-8c2e-e7531327e84e",
   "metadata": {
    "tags": []
   },
   "outputs": [],
   "source": [
    "## setting the Anonymizer definition\n",
    "from ydata.preprocessors.methods.anonymization import AnonymizerType\n",
    "\n",
    "anonymizer_config = {\n",
    "    'district': {\n",
    "        'a1': r'[0-9]{4}-[A-Z]{5}'\n",
    "    },\n",
    "    'account': {\n",
    "        'anonymize_primary_keys': True\n",
    "    },\n",
    "    'order': {\n",
    "        'bank_to': AnonymizerType.CITY\n",
    "    }\n",
    "}"
   ]
  },
  {
   "cell_type": "code",
   "execution_count": 5,
   "id": "74693170",
   "metadata": {
    "tags": []
   },
   "outputs": [
    {
     "name": "stdout",
     "output_type": "stream",
     "text": [
      "INFO: 2024-02-08 00:02:52,096 (1/9) - Fitting table: [district]\n",
      "INFO: 2024-02-08 00:02:54,713 [SYNTHESIZER] - Number columns considered for synth: 16\n",
      "INFO: 2024-02-08 00:02:55,012 [SYNTHESIZER] - Starting the synthetic data modeling process over 1x1 blocks.\n",
      "INFO: 2024-02-08 00:02:55,017 [SYNTHESIZER] - Preprocess segment\n",
      "INFO: 2024-02-08 00:02:55,025 [SYNTHESIZER] - Synthesizer init.\n",
      "INFO: 2024-02-08 00:02:55,026 [SYNTHESIZER] - Processing the data prior fitting the synthesizer.\n",
      "INFO: 2024-02-08 00:02:55,334 (2/9) - Fitting table: [client]\n",
      "INFO: 2024-02-08 00:03:06,846 [SYNTHESIZER] - Number columns considered for synth: 22\n",
      "INFO: 2024-02-08 00:03:07,369 [SYNTHESIZER] - Starting the synthetic data modeling process over 1x1 blocks.\n",
      "INFO: 2024-02-08 00:03:07,373 [SYNTHESIZER] - Preprocess segment\n",
      "INFO: 2024-02-08 00:03:07,382 [SYNTHESIZER] - Synthesizer init.\n",
      "INFO: 2024-02-08 00:03:07,383 [SYNTHESIZER] - Processing the data prior fitting the synthesizer.\n",
      "INFO: 2024-02-08 00:03:09,060 (3/9) - Fitting table: [disp]\n",
      "INFO: 2024-02-08 00:03:10,683 [SYNTHESIZER] - Number columns considered for synth: 10\n",
      "INFO: 2024-02-08 00:03:10,870 [SYNTHESIZER] - Starting the synthetic data modeling process over 1x1 blocks.\n",
      "INFO: 2024-02-08 00:03:10,873 [SYNTHESIZER] - Preprocess segment\n",
      "INFO: 2024-02-08 00:03:10,879 [SYNTHESIZER] - Synthesizer init.\n",
      "INFO: 2024-02-08 00:03:10,880 [SYNTHESIZER] - Processing the data prior fitting the synthesizer.\n",
      "INFO: 2024-02-08 00:03:13,573 (4/9) - Fitting table: [account]\n",
      "INFO: 2024-02-08 00:03:14,872 [SYNTHESIZER] - Number columns considered for synth: 8\n",
      "INFO: 2024-02-08 00:03:14,989 [SYNTHESIZER] - Starting the synthetic data modeling process over 1x1 blocks.\n",
      "INFO: 2024-02-08 00:03:14,992 [SYNTHESIZER] - Preprocess segment\n",
      "INFO: 2024-02-08 00:03:14,997 [SYNTHESIZER] - Synthesizer init.\n",
      "INFO: 2024-02-08 00:03:14,998 [SYNTHESIZER] - Processing the data prior fitting the synthesizer.\n",
      "INFO: 2024-02-08 00:03:16,818 (5/9) - Fitting table: [trans]\n",
      "INFO: 2024-02-08 00:03:43,469 [SYNTHESIZER] - Number columns considered for synth: 14\n",
      "INFO: 2024-02-08 00:03:44,508 [SYNTHESIZER] - Starting the synthetic data modeling process over 2x1 blocks.\n",
      "INFO: 2024-02-08 00:03:44,509 [SYNTHESIZER] - Generating pipeline for segment (-0.001, 67499.5]\n",
      "INFO: 2024-02-08 00:03:44,515 [SYNTHESIZER] - Preprocess segment\n",
      "INFO: 2024-02-08 00:03:44,523 [SYNTHESIZER] - Synthesizer init.\n",
      "INFO: 2024-02-08 00:03:44,524 [SYNTHESIZER] - Processing the data prior fitting the synthesizer.\n",
      "INFO: 2024-02-08 00:04:02,387 [SYNTHESIZER] - Generating pipeline for segment (67499.5, 134999.0]\n",
      "INFO: 2024-02-08 00:04:02,393 [SYNTHESIZER] - Preprocess segment\n",
      "INFO: 2024-02-08 00:04:02,401 [SYNTHESIZER] - Synthesizer init.\n",
      "INFO: 2024-02-08 00:04:02,402 [SYNTHESIZER] - Processing the data prior fitting the synthesizer.\n",
      "INFO: 2024-02-08 00:04:19,711 (6/9) - Fitting table: [order]\n",
      "INFO: 2024-02-08 00:04:27,557 [SYNTHESIZER] - Number columns considered for synth: 10\n",
      "INFO: 2024-02-08 00:04:27,779 [SYNTHESIZER] - Starting the synthetic data modeling process over 1x1 blocks.\n",
      "INFO: 2024-02-08 00:04:27,782 [SYNTHESIZER] - Preprocess segment\n",
      "INFO: 2024-02-08 00:04:27,788 [SYNTHESIZER] - Synthesizer init.\n",
      "INFO: 2024-02-08 00:04:27,789 [SYNTHESIZER] - Processing the data prior fitting the synthesizer.\n",
      "INFO: 2024-02-08 00:04:30,895 (7/9) - Fitting table: [loan]\n",
      "INFO: 2024-02-08 00:04:32,886 [SYNTHESIZER] - Number columns considered for synth: 13\n",
      "INFO: 2024-02-08 00:04:33,187 [SYNTHESIZER] - Starting the synthetic data modeling process over 1x1 blocks.\n",
      "INFO: 2024-02-08 00:04:33,190 [SYNTHESIZER] - Preprocess segment\n",
      "INFO: 2024-02-08 00:04:33,195 [SYNTHESIZER] - Synthesizer init.\n",
      "INFO: 2024-02-08 00:04:33,197 [SYNTHESIZER] - Processing the data prior fitting the synthesizer.\n",
      "INFO: 2024-02-08 00:04:34,241 (8/9) - Fitting table: [card]\n",
      "INFO: 2024-02-08 00:04:35,391 [SYNTHESIZER] - Number columns considered for synth: 8\n",
      "INFO: 2024-02-08 00:04:35,493 [SYNTHESIZER] - Starting the synthetic data modeling process over 1x1 blocks.\n",
      "INFO: 2024-02-08 00:04:35,496 [SYNTHESIZER] - Preprocess segment\n",
      "INFO: 2024-02-08 00:04:35,501 [SYNTHESIZER] - Synthesizer init.\n",
      "INFO: 2024-02-08 00:04:35,502 [SYNTHESIZER] - Processing the data prior fitting the synthesizer.\n",
      "INFO: 2024-02-08 00:04:35,924 (9/9) - Fitting table: [append]\n",
      "INFO: 2024-02-08 00:04:36,353 [SYNTHESIZER] - Number columns considered for synth: 3\n",
      "INFO: 2024-02-08 00:04:36,434 [SYNTHESIZER] - Starting the synthetic data modeling process over 1x1 blocks.\n",
      "INFO: 2024-02-08 00:04:36,441 [SYNTHESIZER] - Preprocess segment\n",
      "INFO: 2024-02-08 00:04:36,448 [SYNTHESIZER] - Synthesizer init.\n",
      "INFO: 2024-02-08 00:04:36,451 [SYNTHESIZER] - Processing the data prior fitting the synthesizer.\n"
     ]
    },
    {
     "data": {
      "text/plain": [
       "<ydata.synthesizers.multitable.model.MultiTableSynthesizer at 0x7f6b601fcdc0>"
      ]
     },
     "execution_count": 5,
     "metadata": {},
     "output_type": "execute_result"
    }
   ],
   "source": [
    "from ydata.synthesizers.multitable.model import MultiTableSynthesizer\n",
    "\n",
    "synth = MultiTableSynthesizer()\n",
    "synth.fit(dataset, metadata, anonymize=anonymizer_config)"
   ]
  },
  {
   "cell_type": "markdown",
   "id": "15a72b2c",
   "metadata": {},
   "source": [
    "To generate the synthetic data we call the `sample` method.\n",
    "\n",
    "Since there is a need to keep the consistency of the tables, as well as the referential integrity, to sample from trained synthesizers the number of records is set through a ratio based on the original number of records (e.g., 1.0 is equivalent to the size of the original database)."
   ]
  },
  {
   "cell_type": "code",
   "execution_count": 6,
   "id": "165781c6-058c-4e1a-8877-8e952bb586ed",
   "metadata": {
    "tags": []
   },
   "outputs": [
    {
     "name": "stdout",
     "output_type": "stream",
     "text": [
      "INFO: 2024-02-08 00:04:36,569 (1/9) - Synthesizing table: district\n",
      "INFO: 2024-02-08 00:04:36,570 [SYNTHESIZER] - Start generating model samples.\n",
      "INFO: 2024-02-08 00:04:37,436 (2/9) - Synthesizing table: client\n",
      "INFO: 2024-02-08 00:04:37,700 [SYNTHESIZER] - Start generating model samples.\n",
      "INFO: 2024-02-08 00:04:38,796 (3/9) - Synthesizing table: disp\n",
      "INFO: 2024-02-08 00:04:38,924 [SYNTHESIZER] - Start generating model samples.\n",
      "INFO: 2024-02-08 00:04:39,668 (4/9) - Synthesizing table: account\n",
      "INFO: 2024-02-08 00:04:39,797 [SYNTHESIZER] - Start generating model samples.\n",
      "INFO: 2024-02-08 00:04:40,679 (5/9) - Synthesizing table: trans\n",
      "INFO: 2024-02-08 00:04:40,938 [SYNTHESIZER] - Start generating model samples.\n",
      "INFO: 2024-02-08 00:04:40,944 [SYNTHESIZER] - Sample segment (-0.001, 67499.5]\n",
      "INFO: 2024-02-08 00:04:42,644 [SYNTHESIZER] - Sample segment (67499.5, 134999.0]\n",
      "INFO: 2024-02-08 00:04:48,974 (6/9) - Synthesizing table: order\n",
      "INFO: 2024-02-08 00:04:49,071 [SYNTHESIZER] - Start generating model samples.\n",
      "INFO: 2024-02-08 00:04:49,753 (7/9) - Synthesizing table: loan\n",
      "INFO: 2024-02-08 00:04:49,892 [SYNTHESIZER] - Start generating model samples.\n",
      "INFO: 2024-02-08 00:04:51,367 (8/9) - Synthesizing table: card\n",
      "INFO: 2024-02-08 00:04:51,433 [SYNTHESIZER] - Start generating model samples.\n",
      "INFO: 2024-02-08 00:04:52,115 (9/9) - Synthesizing table: append\n",
      "INFO: 2024-02-08 00:04:52,116 [SYNTHESIZER] - Start generating model samples.\n",
      "\u001B[1mMultiDataset Summary \n",
      " \n",
      "\u001B[0m\u001B[1mNumber of tables: \u001B[0m9 \n",
      " \n",
      "  Table name  Num cols  Num rows  Primary keys             Foreign keys Notes\n",
      "0     append         3        20                                             \n",
      "1   district        16        77          [a1]                               \n",
      "2    account         4      3934  [account_id]            [district_id]      \n",
      "3     client         6      4704   [client_id]            [district_id]      \n",
      "4       disp         4      4704     [disp_id]  [client_id, account_id]      \n",
      "5       loan         9      3934     [loan_id]             [account_id]      \n",
      "6      order         6      6696    [order_id]             [account_id]      \n",
      "7      trans        10    136368    [trans_id]             [account_id]      \n",
      "8       card         4      4704     [card_id]                [disp_id]      \n"
     ]
    }
   ],
   "source": [
    "sample = synth.sample(n_samples=1.)\n",
    "print(sample)"
   ]
  },
  {
   "cell_type": "code",
   "execution_count": 7,
   "id": "3ddf4276-2f1c-431d-80f2-63aa544554a6",
   "metadata": {
    "tags": []
   },
   "outputs": [
    {
     "data": {
      "text/html": [
       "<div>\n",
       "<style scoped>\n",
       "    .dataframe tbody tr th:only-of-type {\n",
       "        vertical-align: middle;\n",
       "    }\n",
       "\n",
       "    .dataframe tbody tr th {\n",
       "        vertical-align: top;\n",
       "    }\n",
       "\n",
       "    .dataframe thead th {\n",
       "        text-align: right;\n",
       "    }\n",
       "</style>\n",
       "<table border=\"1\" class=\"dataframe\">\n",
       "  <thead>\n",
       "    <tr style=\"text-align: right;\">\n",
       "      <th></th>\n",
       "      <th>a1</th>\n",
       "      <th>a2</th>\n",
       "      <th>a3</th>\n",
       "      <th>a4</th>\n",
       "      <th>a5</th>\n",
       "      <th>a6</th>\n",
       "      <th>a7</th>\n",
       "      <th>a8</th>\n",
       "      <th>a9</th>\n",
       "      <th>a10</th>\n",
       "      <th>a11</th>\n",
       "      <th>a12</th>\n",
       "      <th>a13</th>\n",
       "      <th>a14</th>\n",
       "      <th>a15</th>\n",
       "      <th>a16</th>\n",
       "    </tr>\n",
       "  </thead>\n",
       "  <tbody>\n",
       "    <tr>\n",
       "      <th>0</th>\n",
       "      <td>7674-LTGIU</td>\n",
       "      <td>Domazlice</td>\n",
       "      <td>west Bohemia</td>\n",
       "      <td>133777</td>\n",
       "      <td>9</td>\n",
       "      <td>11</td>\n",
       "      <td>7</td>\n",
       "      <td>2</td>\n",
       "      <td>8</td>\n",
       "      <td>85.0</td>\n",
       "      <td>9832</td>\n",
       "      <td>3.32</td>\n",
       "      <td>4.0</td>\n",
       "      <td>90</td>\n",
       "      <td>6949</td>\n",
       "      <td>5273</td>\n",
       "    </tr>\n",
       "    <tr>\n",
       "      <th>1</th>\n",
       "      <td>8793-ICNMI</td>\n",
       "      <td>Brno - venkov</td>\n",
       "      <td>south Moravia</td>\n",
       "      <td>75685</td>\n",
       "      <td>31</td>\n",
       "      <td>33</td>\n",
       "      <td>1</td>\n",
       "      <td>2</td>\n",
       "      <td>4</td>\n",
       "      <td>59.0</td>\n",
       "      <td>8772</td>\n",
       "      <td>6.43</td>\n",
       "      <td>2.0</td>\n",
       "      <td>106</td>\n",
       "      <td>2595</td>\n",
       "      <td>2487</td>\n",
       "    </tr>\n",
       "    <tr>\n",
       "      <th>2</th>\n",
       "      <td>2097-SXOVW</td>\n",
       "      <td>Uherske Hradiste</td>\n",
       "      <td>south Moravia</td>\n",
       "      <td>145688</td>\n",
       "      <td>22</td>\n",
       "      <td>41</td>\n",
       "      <td>13</td>\n",
       "      <td>2</td>\n",
       "      <td>6</td>\n",
       "      <td>57.0</td>\n",
       "      <td>8369</td>\n",
       "      <td>1.29</td>\n",
       "      <td>2.0</td>\n",
       "      <td>110</td>\n",
       "      <td>2212</td>\n",
       "      <td>2906</td>\n",
       "    </tr>\n",
       "    <tr>\n",
       "      <th>3</th>\n",
       "      <td>2734-VPGRI</td>\n",
       "      <td>Rokycany</td>\n",
       "      <td>west Bohemia</td>\n",
       "      <td>159617</td>\n",
       "      <td>29</td>\n",
       "      <td>26</td>\n",
       "      <td>10</td>\n",
       "      <td>0</td>\n",
       "      <td>9</td>\n",
       "      <td>70.0</td>\n",
       "      <td>8678</td>\n",
       "      <td>3.83</td>\n",
       "      <td>5.0</td>\n",
       "      <td>131</td>\n",
       "      <td>4355</td>\n",
       "      <td>4265</td>\n",
       "    </tr>\n",
       "    <tr>\n",
       "      <th>4</th>\n",
       "      <td>2009-ALOYW</td>\n",
       "      <td>Domazlice</td>\n",
       "      <td>north Bohemia</td>\n",
       "      <td>133777</td>\n",
       "      <td>24</td>\n",
       "      <td>16</td>\n",
       "      <td>7</td>\n",
       "      <td>4</td>\n",
       "      <td>10</td>\n",
       "      <td>85.0</td>\n",
       "      <td>8705</td>\n",
       "      <td>1.39</td>\n",
       "      <td>6.0</td>\n",
       "      <td>131</td>\n",
       "      <td>4650</td>\n",
       "      <td>4505</td>\n",
       "    </tr>\n",
       "  </tbody>\n",
       "</table>\n",
       "</div>"
      ],
      "text/plain": [
       "           a1                a2             a3      a4  a5  a6  a7  a8  a9  \\\n",
       "0  7674-LTGIU         Domazlice   west Bohemia  133777   9  11   7   2   8   \n",
       "1  8793-ICNMI     Brno - venkov  south Moravia   75685  31  33   1   2   4   \n",
       "2  2097-SXOVW  Uherske Hradiste  south Moravia  145688  22  41  13   2   6   \n",
       "3  2734-VPGRI          Rokycany   west Bohemia  159617  29  26  10   0   9   \n",
       "4  2009-ALOYW         Domazlice  north Bohemia  133777  24  16   7   4  10   \n",
       "\n",
       "    a10   a11   a12  a13  a14   a15   a16  \n",
       "0  85.0  9832  3.32  4.0   90  6949  5273  \n",
       "1  59.0  8772  6.43  2.0  106  2595  2487  \n",
       "2  57.0  8369  1.29  2.0  110  2212  2906  \n",
       "3  70.0  8678  3.83  5.0  131  4355  4265  \n",
       "4  85.0  8705  1.39  6.0  131  4650  4505  "
      ]
     },
     "execution_count": 7,
     "metadata": {},
     "output_type": "execute_result"
    }
   ],
   "source": [
    "sample['district'].head()\n"
   ]
  }
 ],
 "metadata": {
  "kernelspec": {
   "display_name": "Python 3 (ipykernel)",
   "language": "python",
   "name": "python3"
  },
  "language_info": {
   "codemirror_mode": {
    "name": "ipython",
    "version": 3
   },
   "file_extension": ".py",
   "mimetype": "text/x-python",
   "name": "python",
   "nbconvert_exporter": "python",
   "pygments_lexer": "ipython3",
   "version": "3.10.12"
  }
 },
 "nbformat": 4,
 "nbformat_minor": 5
}
