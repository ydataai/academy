{
 "cells": [
  {
   "cell_type": "markdown",
   "id": "fbbe505b-6f35-4fc0-84d1-c450f81be385",
   "metadata": {
    "tags": []
   },
   "source": [
    "# MultiTable synthesis - Managing Parent-Child Table Relationships with Composite Keys\n",
    "\n",
    "Relational databases often include parent-child table relationships where composite keys—keys composed of multiple columns—play a crucial role in maintaining data integrity. In these relationships, the child table must reference a valid combination of keys from the parent table, ensuring consistency and preserving the relational structure.\n",
    "\n",
    "When generating synthetic data for such schemas, it's essential to:\n",
    "- Maintain the integrity of composite key relationships across parent and child tables.\n",
    "- Ensure that all composite key combinations in the child table exist in the parent table.\n",
    "- Generate realistic and coherent data that reflects the schema constraints.\n",
    "\n",
    "This notebook serves as a guide to creating synthetic datasets for databases with composite key dependencies. We will explore techniques to ensure relational integrity, enabling reliable testing, machine learning model training, or database simulation scenarios.\n",
    "\n",
    "In this example we will explore this can be achive by leveraging the [Football database](https://www.kaggle.com/datasets/technika148/football-database)."
   ]
  },
  {
   "cell_type": "markdown",
   "id": "951a992e-5143-4dae-a674-a8ddde733ea7",
   "metadata": {},
   "source": [
    "### Read the data from the Data Catalog"
   ]
  },
  {
   "cell_type": "code",
   "execution_count": 7,
   "id": "4db9b0f2-06bb-497c-a3f9-7ea85d30289c",
   "metadata": {
    "tags": []
   },
   "outputs": [
    {
     "name": "stdout",
     "output_type": "stream",
     "text": [
      "\u001b[1mMultiMetadata Summary \n",
      " \n",
      "\u001b[0m\u001b[1mTables Summary \u001b[0m\n",
      "\u001b[1mNumber of tables: \u001b[0m3 \n",
      " \n",
      "    Table name  # cols  # nrows Primary keys Foreign keys PK characteristics    FK characteristics Notes\n",
      "0      leagues       3        5   [leagueID]                            [id]                            \n",
      "1        games      34    12680     [gameID]   [leagueID]               [id]  {'leagueID': ['id']}      \n",
      "2  appearances      18   356513           []     [gameID]                       {'gameID': ['id']}      \n",
      " \n",
      "\u001b[1mRelations Summary \u001b[0m\n",
      "\u001b[1mNumber of relations: \u001b[0m2 \n",
      " \n",
      "         Table    Column Parent Table Parent Column Relation Type\n",
      "0        games  leagueID      leagues      leagueID           1-n\n",
      "1  appearances    gameID        games        gameID           1-n\n",
      " \n",
      "\u001b[1m No warnings Found \u001b[0m\n",
      "\n"
     ]
    }
   ],
   "source": [
    "# Importing YData's packages\n",
    "from ydata.labs import DataSources\n",
    "# Reading the Dataset from the DataSource\n",
    "datasource = DataSources.get(uid='{insert-datasource-id})\n",
    "dataset = datasource.dataset\n",
    "# Getting the calculated Metadata to get the profile overview information in the labs\n",
    "metadata = datasource.metadata\n",
    "print(metadata)"
   ]
  },
  {
   "cell_type": "markdown",
   "id": "67c704fb-1a58-4932-a93f-c00279879c62",
   "metadata": {},
   "source": [
    "### Configure relations and synthetic data generator details\n",
    "\n",
    "In this case, our database includes has the child table expecting that the parent table composite relations are kept as is in the output of the synthetic data generation process. For that reason, we will define the composite expected composite relations from both the parent and child tables."
   ]
  },
  {
   "cell_type": "code",
   "execution_count": 2,
   "id": "bf8e54bc-cad4-4218-b110-2fcbc3b174c8",
   "metadata": {},
   "outputs": [],
   "source": [
    "#set the relation between composite keys that exist in different tables\n",
    "composite_keys = {\n",
    "        \"table\": \"appearances\",\n",
    "        \"columns\": ['leagueID', 'gameID'],\n",
    "        \"parent_table\": 'games',\n",
    "        \"parent_columns\": ['leagueID', 'gameID'],\n",
    "    }\n",
    "\n",
    "dataset.schema.add_composite_keys(**composite_keys)"
   ]
  },
  {
   "cell_type": "markdown",
   "id": "ff1fc9b0-95ee-4030-adf1-79e40af6243e",
   "metadata": {},
   "source": [
    "## Synthetic data generation - train & sampling"
   ]
  },
  {
   "cell_type": "markdown",
   "id": "9a3df5c4-cec8-4578-b981-43418703762f",
   "metadata": {},
   "source": [
    "### Train"
   ]
  },
  {
   "cell_type": "code",
   "execution_count": null,
   "id": "310b650d-c6ba-4bac-b402-e73b2c9a5cd6",
   "metadata": {},
   "outputs": [],
   "source": [
    "from ydata.synthesizers.multitable.model import MultiTableSynthesizer\n",
    "\n",
    "synthesizer = MultiTableSynthesizer()\n",
    "\n",
    "synthesizer.fit(\n",
    "        X=dataset,\n",
    "        metadata=metadata,\n",
    ")"
   ]
  },
  {
   "cell_type": "markdown",
   "id": "a35956ac-a1e3-4543-8148-6c5e30512d3d",
   "metadata": {},
   "source": [
    "### Sample"
   ]
  },
  {
   "cell_type": "code",
   "execution_count": null,
   "id": "ec15d303-8ecb-42f5-be16-9526803ed947",
   "metadata": {},
   "outputs": [],
   "source": [
    "# Importing YData's packages\n",
    "from ydata.labs import Connectors\n",
    "# Getting a previously created Connector\n",
    "dest_connector = Connectors.get(uid='{insert-connector-id}')"
   ]
  },
  {
   "cell_type": "code",
   "execution_count": null,
   "id": "ab4bfdd2-cd3e-40cf-96cd-b9c3f47ddbd3",
   "metadata": {},
   "outputs": [],
   "source": [
    "synthesizer.sample(1., connector=dest_connector.connector)"
   ]
  }
 ],
 "metadata": {
  "kernelspec": {
   "display_name": "Python 3 (ipykernel)",
   "language": "python",
   "name": "python3"
  },
  "language_info": {
   "codemirror_mode": {
    "name": "ipython",
    "version": 3
   },
   "file_extension": ".py",
   "mimetype": "text/x-python",
   "name": "python",
   "nbconvert_exporter": "python",
   "pygments_lexer": "ipython3",
   "version": "3.10.12"
  }
 },
 "nbformat": 4,
 "nbformat_minor": 5
}
