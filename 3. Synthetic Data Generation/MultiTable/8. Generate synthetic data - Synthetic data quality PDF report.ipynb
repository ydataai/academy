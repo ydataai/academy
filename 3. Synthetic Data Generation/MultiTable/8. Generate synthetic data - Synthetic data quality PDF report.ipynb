{
 "cells": [
  {
   "cell_type": "markdown",
   "id": "cd21d828-8023-441b-a6e9-8c8b87c355c3",
   "metadata": {},
   "source": [
    "# Generate synthetic data quality report for multitable dataset\n",
    "\n",
    "Evaluating the quality of synthetic data is essential to ensure it effectively mirrors the original data's characteristics while safeguarding privacy. YData Fabric employs a comprehensive set of metrics to assess synthetic data across three fundamental pillars: utility, fidelity, and privacy.\n",
    "\n",
    "1. **Utility:** Measures how well synthetic data can replace real data in downstream applications, such as analytics or machine learning tasks. High utility ensures that models trained on synthetic data perform comparably to those trained on real data, making the synthetic data practically applicable.\n",
    "\n",
    "2. **Fidelity:** Evaluates the degree to which synthetic data preserves the statistical properties of the original dataset. This includes maintaining distributions, correlations, and variability. High fidelity ensures that the synthetic data accurately reflects the original data's structure, making it suitable for exploratory analysis and pattern recognition.\n",
    "\n",
    "3. **Privacy:** Assesses the extent to which synthetic data protects sensitive information from the original dataset. Effective privacy measures ensure that the synthetic data cannot be reverse-engineered to disclose personal or confidential details, thus complying with data protection regulations and ethical standards.\n",
    "\n",
    "**Generating the Quality Report**\n",
    "In this notebook, users will learn how to generate a PDF quality report to compare two databases: the synthetic and the original database. This report will leverage YData Fabric’s comprehensive metrics to provide a clear assessment of the synthetic data's utility, fidelity, and privacy for each table of a multitable dataset, ensuring its suitability for real-world applications.\n",
    "\n",
    "The process includes:\n",
    "\n",
    "- **Loading the datasets using Fabric connectors:** Reading the original and synthetic databases.\n",
    "- **Generating a comprehensive PDF report:** Compiling results into a structured PDF document for easy sharing and interpretation.\n",
    "\n",
    "This workflow streamlines the validation process, ensuring that stakeholders have clear and interpretable insights into the synthetic data's quality.\n",
    "For more information about [Fabric's Synthetic Data quality report you can download in this link a detailed whitepaper](https://ydata.ai/synthetic-data-quality-metrics)."
   ]
  },
  {
   "cell_type": "markdown",
   "id": "e4f53c85-f715-4e7a-8cf1-33473715198c",
   "metadata": {},
   "source": [
    "## Read data"
   ]
  },
  {
   "cell_type": "markdown",
   "id": "97087d0e-117f-4abf-8359-f0e8926edd92",
   "metadata": {},
   "source": [
    "### Read data real datasource (dataset & metadata)"
   ]
  },
  {
   "cell_type": "code",
   "execution_count": 1,
   "id": "47172ad3-15f1-4dae-b88f-ba456f65c690",
   "metadata": {
    "tags": []
   },
   "outputs": [
    {
     "name": "stdout",
     "output_type": "stream",
     "text": [
      "INFO: 2024-12-28 19:03:37,991 [MULTIMETADATA] - Initializing characteristics.\n"
     ]
    },
    {
     "name": "stderr",
     "output_type": "stream",
     "text": [
      "/home/ydata/.venv/lib/python3.10/site-packages/distributed/client.py:3169: UserWarning: Sending large graph of size 9.55 MiB.\n",
      "This may cause some slowdown.\n",
      "Consider scattering data ahead of time and using futures.\n",
      "  warnings.warn(\n"
     ]
    },
    {
     "name": "stdout",
     "output_type": "stream",
     "text": [
      "INFO: 2024-12-28 19:04:25,773 [MULTIMETADATA] - Validating schema.\n",
      "INFO: 2024-12-28 19:04:25,786 [MULTIMETADATA] - Update relationship types.\n"
     ]
    }
   ],
   "source": [
    "# Importing YData's packages\n",
    "from ydata.labs import DataSources\n",
    "# Reading the Dataset from the DataSource\n",
    "og_datasource = DataSources.get(uid='{insert-datasource-id}')\n",
    "og_dataset = og_datasource.dataset\n",
    "# Getting the calculated Metadata to get the profile overview information in the labs\n",
    "og_metadata = og_datasource.metadata"
   ]
  },
  {
   "cell_type": "markdown",
   "id": "8a49ffb2-a875-478e-b93d-0d52785fc475",
   "metadata": {
    "tags": []
   },
   "source": [
    "### Read data synthetic datasource (dataset & metadata)"
   ]
  },
  {
   "cell_type": "code",
   "execution_count": 2,
   "id": "764feaa5-45a2-412d-9793-7ba79a9b5744",
   "metadata": {
    "tags": []
   },
   "outputs": [
    {
     "name": "stdout",
     "output_type": "stream",
     "text": [
      "INFO: 2024-12-28 19:04:45,948 [MULTIMETADATA] - Initializing characteristics.\n"
     ]
    },
    {
     "name": "stderr",
     "output_type": "stream",
     "text": [
      "/home/ydata/.venv/lib/python3.10/site-packages/distributed/client.py:3169: UserWarning: Sending large graph of size 9.55 MiB.\n",
      "This may cause some slowdown.\n",
      "Consider scattering data ahead of time and using futures.\n",
      "  warnings.warn(\n"
     ]
    },
    {
     "name": "stdout",
     "output_type": "stream",
     "text": [
      "INFO: 2024-12-28 19:05:16,348 [MULTIMETADATA] - Validating schema.\n",
      "INFO: 2024-12-28 19:05:16,350 [MULTIMETADATA] - Update relationship types.\n"
     ]
    }
   ],
   "source": [
    "# Importing YData's packages\n",
    "from ydata.labs import DataSources\n",
    "# Reading the Dataset from the DataSource\n",
    "synth_datasource = DataSources.get(uid='{insert-datasource-id}')\n",
    "synth_dataset = synth_datasource.dataset\n",
    "# Getting the calculated Metadata to get the profile overview information in the labs\n",
    "synth_metadata = synth_datasource.metadata"
   ]
  },
  {
   "cell_type": "markdown",
   "id": "35cb2eb2-c119-4690-8472-98ca4fd7929e",
   "metadata": {},
   "source": [
    "## Generate PDF report & profile"
   ]
  },
  {
   "cell_type": "code",
   "execution_count": null,
   "id": "a0c7deaf-8bf9-4b81-9f90-4ebe4a1a8192",
   "metadata": {
    "tags": []
   },
   "outputs": [
    {
     "name": "stdout",
     "output_type": "stream",
     "text": [
      "Calculate report metrics - append\n",
      "append has not enough rows to run the data quality report.\n",
      "Calculate report metrics - district\n",
      "INFO: 2024-12-28 19:12:14,949 [PROFILEREPORT] - Starting metrics calculation.\n"
     ]
    },
    {
     "name": "stderr",
     "output_type": "stream",
     "text": [
      "/home/ydata/.venv/lib/python3.10/site-packages/ydata/report/reports/syntheticdata/syntheticdata_profile.py:91: SmallTrainingDataset: Small training dataset detected. For optimal results, training data should have at least 100 rows.\n",
      "  warn(\n"
     ]
    },
    {
     "name": "stdout",
     "output_type": "stream",
     "text": [
      "INFO: 2024-12-28 19:12:20,886 [PROFILEREPORT] - Synthetic data quality report selected target variable: None\n",
      "INFO: 2024-12-28 19:12:20,906 [PROFILEREPORT] - preparing data format.\n",
      "INFO: 2024-12-28 19:12:20,966 [PROFILEREPORT] - Preparing the data for metrics calculation\n",
      "INFO: 2024-12-28 19:12:21,065 [PROFILEREPORT] - Calculating privacy metrics.\n",
      "INFO: 2024-12-28 19:12:21,068 [PROFILEREPORT] - Calculating metric [Exact Matches].\n",
      "INFO: 2024-12-28 19:12:21,073 [PROFILEREPORT] - Metric [Exact Matches] took 0.00s.\n",
      "INFO: 2024-12-28 19:12:21,076 [PROFILEREPORT] - Calculating metric [Identifiability Risk].\n",
      "INFO: 2024-12-28 19:12:21,138 [PROFILEREPORT] - Metric [Identifiability Risk] took 0.06s.\n",
      "INFO: 2024-12-28 19:12:21,142 [PROFILEREPORT] - Calculating metric [Membership Inference Risk].\n",
      "INFO: 2024-12-28 19:12:21,142 [PROFILEREPORT] - Membership Disclosure Score sample size was reduce to match the dataset with size 77.\n",
      "INFO: 2024-12-28 19:12:21,152 [PROFILEREPORT] - Metric [Membership Inference Risk] took 0.01s.\n",
      "INFO: 2024-12-28 19:12:21,153 [PROFILEREPORT] - Calculating fidelity metrics.\n",
      "INFO: 2024-12-28 19:12:21,163 [PROFILEREPORT] - Calculating metric [Correlation Similarity].\n",
      "INFO: 2024-12-28 19:12:21,724 [PROFILEREPORT] - Metric [Correlation Similarity] took 0.56s.\n",
      "INFO: 2024-12-28 19:12:21,731 [PROFILEREPORT] - Calculating metric [Distance Distribution].\n",
      "INFO: 2024-12-28 19:12:21,748 [PROFILEREPORT] - Metric [Distance Distribution] took 0.02s.\n",
      "INFO: 2024-12-28 19:12:21,751 [PROFILEREPORT] - Calculating metric [Statistical Similarity].\n",
      "INFO: 2024-12-28 19:12:21,784 [PROFILEREPORT] - Metric [Statistical Similarity] took 0.03s.\n",
      "INFO: 2024-12-28 19:12:21,788 [PROFILEREPORT] - Calculating metric [Category Coverage].\n",
      "INFO: 2024-12-28 19:12:21,882 [PROFILEREPORT] - Metric [Category Coverage] took 0.09s.\n",
      "INFO: 2024-12-28 19:12:21,885 [PROFILEREPORT] - Calculating metric [Missing Category Coverage].\n",
      "INFO: 2024-12-28 19:12:21,907 [PROFILEREPORT] - Metric [Missing Category Coverage] took 0.02s.\n",
      "INFO: 2024-12-28 19:12:21,910 [PROFILEREPORT] - Calculating metric [Range Coverage].\n",
      "INFO: 2024-12-28 19:12:21,921 [PROFILEREPORT] - Metric [Range Coverage] took 0.01s.\n",
      "INFO: 2024-12-28 19:12:21,923 [PROFILEREPORT] - Calculating metric [Kolmogorov-Smirnov Test].\n",
      "INFO: 2024-12-28 19:12:21,935 [PROFILEREPORT] - Metric [Kolmogorov-Smirnov Test] took 0.01s.\n",
      "INFO: 2024-12-28 19:12:21,938 [PROFILEREPORT] - Calculating metric [Total Variation Distance].\n",
      "INFO: 2024-12-28 19:12:21,970 [PROFILEREPORT] - Metric [Total Variation Distance] took 0.03s.\n",
      "INFO: 2024-12-28 19:12:21,974 [PROFILEREPORT] - Calculating metric [Missing Values Similarity].\n",
      "INFO: 2024-12-28 19:12:21,978 [PROFILEREPORT] - Metric [Missing Values Similarity] took 0.00s.\n",
      "INFO: 2024-12-28 19:12:21,982 [PROFILEREPORT] - Calculating metric [Mutual Information].\n",
      "INFO: 2024-12-28 19:12:23,948 [PROFILEREPORT] - Metric [Mutual Information] took 1.96s.\n",
      "INFO: 2024-12-28 19:12:23,952 [PROFILEREPORT] - Calculating metric [Dimensionality Reduction].\n",
      "INFO: 2024-12-28 19:12:24,040 [PROFILEREPORT] - Metric [Dimensionality Reduction] took 0.08s.\n",
      "INFO: 2024-12-28 19:12:24,043 [PROFILEREPORT] - Calculating metric [Synthetic Classifier].\n",
      "INFO: 2024-12-28 19:12:24,192 [PROFILEREPORT] - Metric [Synthetic Classifier] took 0.15s.\n",
      "INFO: 2024-12-28 19:12:24,193 [PROFILEREPORT] - Calculating utility metrics.\n",
      "INFO: 2024-12-28 19:12:24,204 [PROFILEREPORT] - Calculating metric [QScore].\n"
     ]
    },
    {
     "name": "stderr",
     "output_type": "stream",
     "text": [
      "/home/ydata/.venv/lib/python3.10/site-packages/sklearn/preprocessing/_discretization.py:239: FutureWarning: In version 1.5 onwards, subsample=200_000 will be used by default. Set subsample explicitly to silence this warning in the mean time. Set subsample=None to disable subsampling explicitly.\n",
      "  warnings.warn(\n"
     ]
    },
    {
     "name": "stdout",
     "output_type": "stream",
     "text": [
      "INFO: 2024-12-28 19:12:24,793 [PROFILEREPORT] - Metric [QScore] took 0.59s.\n"
     ]
    },
    {
     "data": {
      "text/html": [
       "<h1>Metrics report</h1>"
      ],
      "text/plain": [
       "<IPython.core.display.HTML object>"
      ]
     },
     "metadata": {},
     "output_type": "display_data"
    },
    {
     "data": {
      "text/html": [
       "<p><h2>Quality & Privacy summary</h2></p>"
      ],
      "text/plain": [
       "<IPython.core.display.HTML object>"
      ]
     },
     "metadata": {},
     "output_type": "display_data"
    },
    {
     "name": "stdout",
     "output_type": "stream",
     "text": [
      "\u001b[1m# Real data records\u001b[0m: 77\n",
      "\u001b[1m# Synthetic data records generated\u001b[0m: 77\n",
      "\u001b[1m# Columns\u001b[0m: 16\n",
      "\u001b[1mFidelity Score\u001b[0m: Excellent\n",
      "\u001b[1mUtility Score\u001b[0m: Excellent\n",
      "\u001b[1mPrivacy Score\u001b[0m: Poor\n"
     ]
    },
    {
     "data": {
      "text/html": [
       "<p><h3>Fidelity</h3></p>"
      ],
      "text/plain": [
       "<IPython.core.display.HTML object>"
      ]
     },
     "metadata": {},
     "output_type": "display_data"
    },
    {
     "name": "stdout",
     "output_type": "stream",
     "text": [
      "\u001b[1mCorrelation Similarity\u001b[0m: 1.00\n",
      "\u001b[1mDistance Distribution\u001b[0m: 1.00\n",
      "\u001b[1mSynthetic Classifier\u001b[0m: 1.00\n",
      "\u001b[1mMutual Information\u001b[0m: 1.00\n",
      "\u001b[1mMissing Values Similarity\u001b[0m: 1.00\n",
      "\u001b[1mMean Similarity\u001b[0m: 1.00\n",
      "\u001b[1mStd. Dev. Similarity\u001b[0m: 1.00\n",
      "\u001b[1mMedian Similarity\u001b[0m: 1.00\n",
      "\u001b[1mQ25% Similarity\u001b[0m: 1.00\n",
      "\u001b[1mQ75% Similarity\u001b[0m: 1.00\n",
      "\u001b[1mKolmogorov-Smirnov Test\u001b[0m: 1.00\n",
      "\u001b[1mTotal Variation Distance\u001b[0m: 1.00\n",
      "\u001b[1mCategory Coverage\u001b[0m: 1.00\n",
      "\u001b[1mMissing Category Coverage\u001b[0m: 1.00\n",
      "\u001b[1mRange Coverage\u001b[0m: 1.00\n"
     ]
    },
    {
     "data": {
      "text/html": [
       "<p><h3>Utility</h3></p>"
      ],
      "text/plain": [
       "<IPython.core.display.HTML object>"
      ]
     },
     "metadata": {},
     "output_type": "display_data"
    },
    {
     "name": "stdout",
     "output_type": "stream",
     "text": [
      "\u001b[1mQScore\u001b[0m: 1.00\n"
     ]
    },
    {
     "data": {
      "text/html": [
       "<p><h3>Privacy</h3></p>"
      ],
      "text/plain": [
       "<IPython.core.display.HTML object>"
      ]
     },
     "metadata": {},
     "output_type": "display_data"
    },
    {
     "name": "stdout",
     "output_type": "stream",
     "text": [
      "\u001b[1mExact Matches\u001b[0m: 1.0\n",
      "\u001b[1mIdentifiability Risk\u001b[0m: 1.0\n",
      "\u001b[1mMembership Inference Risk\u001b[0m: 0.0\n",
      "Calculate report metrics - account\n",
      "INFO: 2024-12-28 19:12:33,105 [PROFILEREPORT] - Starting metrics calculation.\n",
      "INFO: 2024-12-28 19:12:38,375 [PROFILEREPORT] - Synthetic data quality report selected target variable: None\n",
      "INFO: 2024-12-28 19:12:38,386 [PROFILEREPORT] - preparing data format.\n",
      "INFO: 2024-12-28 19:12:38,406 [PROFILEREPORT] - Preparing the data for metrics calculation\n",
      "INFO: 2024-12-28 19:12:38,477 [PROFILEREPORT] - Calculating privacy metrics.\n",
      "INFO: 2024-12-28 19:12:38,482 [PROFILEREPORT] - Calculating metric [Exact Matches].\n",
      "INFO: 2024-12-28 19:12:38,568 [PROFILEREPORT] - Metric [Exact Matches] took 0.08s.\n",
      "INFO: 2024-12-28 19:12:38,572 [PROFILEREPORT] - Calculating metric [Identifiability Risk].\n",
      "INFO: 2024-12-28 19:12:38,601 [PROFILEREPORT] - Metric [Identifiability Risk] took 0.03s.\n",
      "INFO: 2024-12-28 19:12:38,605 [PROFILEREPORT] - Calculating metric [Membership Inference Risk].\n",
      "INFO: 2024-12-28 19:12:38,788 [PROFILEREPORT] - Metric [Membership Inference Risk] took 0.18s.\n",
      "INFO: 2024-12-28 19:12:38,789 [PROFILEREPORT] - Calculating fidelity metrics.\n",
      "INFO: 2024-12-28 19:12:38,799 [PROFILEREPORT] - Calculating metric [Correlation Similarity].\n",
      "INFO: 2024-12-28 19:12:38,994 [PROFILEREPORT] - Metric [Correlation Similarity] took 0.19s.\n",
      "INFO: 2024-12-28 19:12:38,997 [PROFILEREPORT] - Calculating metric [Distance Distribution].\n",
      "INFO: 2024-12-28 19:12:39,417 [PROFILEREPORT] - Metric [Distance Distribution] took 0.42s.\n",
      "INFO: 2024-12-28 19:12:39,420 [PROFILEREPORT] - Calculating metric [Statistical Similarity].\n",
      "INFO: 2024-12-28 19:12:39,441 [PROFILEREPORT] - Metric [Statistical Similarity] took 0.02s.\n",
      "INFO: 2024-12-28 19:12:39,444 [PROFILEREPORT] - Calculating metric [Category Coverage].\n",
      "INFO: 2024-12-28 19:12:41,209 [PROFILEREPORT] - Metric [Category Coverage] took 1.76s.\n",
      "INFO: 2024-12-28 19:12:41,212 [PROFILEREPORT] - Calculating metric [Missing Category Coverage].\n",
      "INFO: 2024-12-28 19:12:41,277 [PROFILEREPORT] - Metric [Missing Category Coverage] took 0.06s.\n",
      "INFO: 2024-12-28 19:12:41,280 [PROFILEREPORT] - Calculating metric [Range Coverage].\n",
      "INFO: 2024-12-28 19:12:41,288 [PROFILEREPORT] - Metric [Range Coverage] took 0.01s.\n",
      "INFO: 2024-12-28 19:12:41,291 [PROFILEREPORT] - Calculating metric [Kolmogorov-Smirnov Test].\n",
      "INFO: 2024-12-28 19:12:41,301 [PROFILEREPORT] - Metric [Kolmogorov-Smirnov Test] took 0.01s.\n",
      "INFO: 2024-12-28 19:12:41,304 [PROFILEREPORT] - Calculating metric [Total Variation Distance].\n",
      "INFO: 2024-12-28 19:12:41,370 [PROFILEREPORT] - Metric [Total Variation Distance] took 0.06s.\n",
      "INFO: 2024-12-28 19:12:41,373 [PROFILEREPORT] - Calculating metric [Missing Values Similarity].\n",
      "INFO: 2024-12-28 19:12:41,378 [PROFILEREPORT] - Metric [Missing Values Similarity] took 0.00s.\n",
      "INFO: 2024-12-28 19:12:41,382 [PROFILEREPORT] - Calculating metric [Mutual Information].\n",
      "INFO: 2024-12-28 19:12:41,979 [PROFILEREPORT] - Metric [Mutual Information] took 0.60s.\n",
      "INFO: 2024-12-28 19:12:41,983 [PROFILEREPORT] - Calculating metric [Dimensionality Reduction].\n",
      "INFO: 2024-12-28 19:12:42,279 [PROFILEREPORT] - Metric [Dimensionality Reduction] took 0.29s.\n",
      "INFO: 2024-12-28 19:12:42,282 [PROFILEREPORT] - Calculating metric [Synthetic Classifier].\n",
      "INFO: 2024-12-28 19:12:43,270 [PROFILEREPORT] - Metric [Synthetic Classifier] took 0.99s.\n",
      "INFO: 2024-12-28 19:12:43,273 [PROFILEREPORT] - Calculating utility metrics.\n",
      "INFO: 2024-12-28 19:12:43,283 [PROFILEREPORT] - Calculating metric [QScore].\n",
      "INFO: 2024-12-28 19:12:43,380 [PROFILEREPORT] - Metric [QScore] took 0.10s.\n"
     ]
    },
    {
     "name": "stderr",
     "output_type": "stream",
     "text": [
      "/home/ydata/.venv/lib/python3.10/site-packages/sklearn/preprocessing/_discretization.py:239: FutureWarning: In version 1.5 onwards, subsample=200_000 will be used by default. Set subsample explicitly to silence this warning in the mean time. Set subsample=None to disable subsampling explicitly.\n",
      "  warnings.warn(\n"
     ]
    },
    {
     "data": {
      "text/html": [
       "<h1>Metrics report</h1>"
      ],
      "text/plain": [
       "<IPython.core.display.HTML object>"
      ]
     },
     "metadata": {},
     "output_type": "display_data"
    },
    {
     "data": {
      "text/html": [
       "<p><h2>Quality & Privacy summary</h2></p>"
      ],
      "text/plain": [
       "<IPython.core.display.HTML object>"
      ]
     },
     "metadata": {},
     "output_type": "display_data"
    },
    {
     "name": "stdout",
     "output_type": "stream",
     "text": [
      "\u001b[1m# Real data records\u001b[0m: 4K\n",
      "\u001b[1m# Synthetic data records generated\u001b[0m: 4K\n",
      "\u001b[1m# Columns\u001b[0m: 4\n",
      "\u001b[1mFidelity Score\u001b[0m: Excellent\n",
      "\u001b[1mUtility Score\u001b[0m: Excellent\n",
      "\u001b[1mPrivacy Score\u001b[0m: Poor\n"
     ]
    },
    {
     "data": {
      "text/html": [
       "<p><h3>Fidelity</h3></p>"
      ],
      "text/plain": [
       "<IPython.core.display.HTML object>"
      ]
     },
     "metadata": {},
     "output_type": "display_data"
    },
    {
     "name": "stdout",
     "output_type": "stream",
     "text": [
      "\u001b[1mCorrelation Similarity\u001b[0m: 1.00\n",
      "\u001b[1mDistance Distribution\u001b[0m: 1.00\n",
      "\u001b[1mSynthetic Classifier\u001b[0m: 1.00\n",
      "\u001b[1mMutual Information\u001b[0m: 1.00\n",
      "\u001b[1mMissing Values Similarity\u001b[0m: 1.00\n",
      "\u001b[1mMean Similarity\u001b[0m: 1.00\n",
      "\u001b[1mStd. Dev. Similarity\u001b[0m: 1.00\n",
      "\u001b[1mMedian Similarity\u001b[0m: 1.00\n",
      "\u001b[1mQ25% Similarity\u001b[0m: 1.00\n",
      "\u001b[1mQ75% Similarity\u001b[0m: 1.00\n",
      "\u001b[1mKolmogorov-Smirnov Test\u001b[0m: 1.00\n",
      "\u001b[1mTotal Variation Distance\u001b[0m: 1.00\n",
      "\u001b[1mCategory Coverage\u001b[0m: 1.00\n",
      "\u001b[1mMissing Category Coverage\u001b[0m: 1.00\n",
      "\u001b[1mRange Coverage\u001b[0m: 1.00\n"
     ]
    },
    {
     "data": {
      "text/html": [
       "<p><h3>Utility</h3></p>"
      ],
      "text/plain": [
       "<IPython.core.display.HTML object>"
      ]
     },
     "metadata": {},
     "output_type": "display_data"
    },
    {
     "name": "stdout",
     "output_type": "stream",
     "text": [
      "\u001b[1mQScore\u001b[0m: 1.00\n"
     ]
    },
    {
     "data": {
      "text/html": [
       "<p><h3>Privacy</h3></p>"
      ],
      "text/plain": [
       "<IPython.core.display.HTML object>"
      ]
     },
     "metadata": {},
     "output_type": "display_data"
    },
    {
     "name": "stdout",
     "output_type": "stream",
     "text": [
      "\u001b[1mExact Matches\u001b[0m: 1.0\n",
      "\u001b[1mIdentifiability Risk\u001b[0m: 1.0\n",
      "\u001b[1mMembership Inference Risk\u001b[0m: 0.0\n",
      "Calculate report metrics - client\n",
      "INFO: 2024-12-28 19:12:49,214 [PROFILEREPORT] - Starting metrics calculation.\n",
      "INFO: 2024-12-28 19:12:53,486 [PROFILEREPORT] - Synthetic data quality report selected target variable: None\n",
      "INFO: 2024-12-28 19:12:53,503 [PROFILEREPORT] - preparing data format.\n",
      "INFO: 2024-12-28 19:12:53,550 [PROFILEREPORT] - Preparing the data for metrics calculation\n",
      "INFO: 2024-12-28 19:12:53,696 [PROFILEREPORT] - Calculating privacy metrics.\n",
      "INFO: 2024-12-28 19:12:53,701 [PROFILEREPORT] - Calculating metric [Exact Matches].\n",
      "INFO: 2024-12-28 19:12:53,800 [PROFILEREPORT] - Metric [Exact Matches] took 0.10s.\n",
      "INFO: 2024-12-28 19:12:53,806 [PROFILEREPORT] - Calculating metric [Identifiability Risk].\n",
      "INFO: 2024-12-28 19:12:53,854 [PROFILEREPORT] - Metric [Identifiability Risk] took 0.05s.\n",
      "INFO: 2024-12-28 19:12:53,859 [PROFILEREPORT] - Calculating metric [Membership Inference Risk].\n",
      "INFO: 2024-12-28 19:12:54,155 [PROFILEREPORT] - Metric [Membership Inference Risk] took 0.29s.\n",
      "INFO: 2024-12-28 19:12:54,156 [PROFILEREPORT] - Calculating fidelity metrics.\n",
      "INFO: 2024-12-28 19:12:54,166 [PROFILEREPORT] - Calculating metric [Correlation Similarity].\n",
      "INFO: 2024-12-28 19:12:56,503 [PROFILEREPORT] - Metric [Correlation Similarity] took 2.34s.\n",
      "INFO: 2024-12-28 19:12:56,506 [PROFILEREPORT] - Calculating metric [Distance Distribution].\n",
      "INFO: 2024-12-28 19:12:57,147 [PROFILEREPORT] - Metric [Distance Distribution] took 0.64s.\n",
      "INFO: 2024-12-28 19:12:57,150 [PROFILEREPORT] - Calculating metric [Statistical Similarity].\n",
      "INFO: 2024-12-28 19:12:57,172 [PROFILEREPORT] - Metric [Statistical Similarity] took 0.02s.\n",
      "INFO: 2024-12-28 19:12:57,175 [PROFILEREPORT] - Calculating metric [Category Coverage].\n",
      "INFO: 2024-12-28 19:13:00,399 [PROFILEREPORT] - Metric [Category Coverage] took 3.22s.\n",
      "INFO: 2024-12-28 19:13:00,402 [PROFILEREPORT] - Calculating metric [Missing Category Coverage].\n",
      "INFO: 2024-12-28 19:13:00,509 [PROFILEREPORT] - Metric [Missing Category Coverage] took 0.11s.\n",
      "INFO: 2024-12-28 19:13:00,513 [PROFILEREPORT] - Calculating metric [Range Coverage].\n",
      "INFO: 2024-12-28 19:13:00,521 [PROFILEREPORT] - Metric [Range Coverage] took 0.01s.\n",
      "INFO: 2024-12-28 19:13:00,524 [PROFILEREPORT] - Calculating metric [Kolmogorov-Smirnov Test].\n",
      "INFO: 2024-12-28 19:13:00,533 [PROFILEREPORT] - Metric [Kolmogorov-Smirnov Test] took 0.01s.\n",
      "INFO: 2024-12-28 19:13:00,537 [PROFILEREPORT] - Calculating metric [Total Variation Distance].\n",
      "INFO: 2024-12-28 19:13:00,658 [PROFILEREPORT] - Metric [Total Variation Distance] took 0.12s.\n",
      "INFO: 2024-12-28 19:13:00,662 [PROFILEREPORT] - Calculating metric [Missing Values Similarity].\n",
      "INFO: 2024-12-28 19:13:00,667 [PROFILEREPORT] - Metric [Missing Values Similarity] took 0.00s.\n",
      "INFO: 2024-12-28 19:13:00,671 [PROFILEREPORT] - Calculating metric [Mutual Information].\n",
      "INFO: 2024-12-28 19:13:05,077 [PROFILEREPORT] - Metric [Mutual Information] took 4.40s.\n",
      "INFO: 2024-12-28 19:13:05,080 [PROFILEREPORT] - Calculating metric [Dimensionality Reduction].\n",
      "INFO: 2024-12-28 19:13:05,363 [PROFILEREPORT] - Metric [Dimensionality Reduction] took 0.28s.\n",
      "INFO: 2024-12-28 19:13:05,366 [PROFILEREPORT] - Calculating metric [Synthetic Classifier].\n",
      "INFO: 2024-12-28 19:13:07,069 [PROFILEREPORT] - Metric [Synthetic Classifier] took 1.70s.\n",
      "INFO: 2024-12-28 19:13:07,070 [PROFILEREPORT] - Calculating utility metrics.\n",
      "INFO: 2024-12-28 19:13:07,079 [PROFILEREPORT] - Calculating metric [QScore].\n",
      "INFO: 2024-12-28 19:13:07,237 [PROFILEREPORT] - Metric [QScore] took 0.16s.\n"
     ]
    },
    {
     "name": "stderr",
     "output_type": "stream",
     "text": [
      "/home/ydata/.venv/lib/python3.10/site-packages/sklearn/preprocessing/_discretization.py:239: FutureWarning: In version 1.5 onwards, subsample=200_000 will be used by default. Set subsample explicitly to silence this warning in the mean time. Set subsample=None to disable subsampling explicitly.\n",
      "  warnings.warn(\n"
     ]
    },
    {
     "data": {
      "text/html": [
       "<h1>Metrics report</h1>"
      ],
      "text/plain": [
       "<IPython.core.display.HTML object>"
      ]
     },
     "metadata": {},
     "output_type": "display_data"
    },
    {
     "data": {
      "text/html": [
       "<p><h2>Quality & Privacy summary</h2></p>"
      ],
      "text/plain": [
       "<IPython.core.display.HTML object>"
      ]
     },
     "metadata": {},
     "output_type": "display_data"
    },
    {
     "name": "stdout",
     "output_type": "stream",
     "text": [
      "\u001b[1m# Real data records\u001b[0m: 5K\n",
      "\u001b[1m# Synthetic data records generated\u001b[0m: 5K\n",
      "\u001b[1m# Columns\u001b[0m: 6\n",
      "\u001b[1mFidelity Score\u001b[0m: Excellent\n",
      "\u001b[1mUtility Score\u001b[0m: Excellent\n",
      "\u001b[1mPrivacy Score\u001b[0m: Poor\n"
     ]
    },
    {
     "data": {
      "text/html": [
       "<p><h3>Fidelity</h3></p>"
      ],
      "text/plain": [
       "<IPython.core.display.HTML object>"
      ]
     },
     "metadata": {},
     "output_type": "display_data"
    },
    {
     "name": "stdout",
     "output_type": "stream",
     "text": [
      "\u001b[1mCorrelation Similarity\u001b[0m: 1.00\n",
      "\u001b[1mDistance Distribution\u001b[0m: 1.00\n",
      "\u001b[1mSynthetic Classifier\u001b[0m: 1.00\n",
      "\u001b[1mMutual Information\u001b[0m: 1.00\n",
      "\u001b[1mMissing Values Similarity\u001b[0m: 1.00\n",
      "\u001b[1mMean Similarity\u001b[0m: 1.00\n",
      "\u001b[1mStd. Dev. Similarity\u001b[0m: 1.00\n",
      "\u001b[1mMedian Similarity\u001b[0m: 1.00\n",
      "\u001b[1mQ25% Similarity\u001b[0m: 1.00\n",
      "\u001b[1mQ75% Similarity\u001b[0m: 1.00\n",
      "\u001b[1mKolmogorov-Smirnov Test\u001b[0m: 1.00\n",
      "\u001b[1mTotal Variation Distance\u001b[0m: 1.00\n",
      "\u001b[1mCategory Coverage\u001b[0m: 1.00\n",
      "\u001b[1mMissing Category Coverage\u001b[0m: 1.00\n",
      "\u001b[1mRange Coverage\u001b[0m: 1.00\n"
     ]
    },
    {
     "data": {
      "text/html": [
       "<p><h3>Utility</h3></p>"
      ],
      "text/plain": [
       "<IPython.core.display.HTML object>"
      ]
     },
     "metadata": {},
     "output_type": "display_data"
    },
    {
     "name": "stdout",
     "output_type": "stream",
     "text": [
      "\u001b[1mQScore\u001b[0m: 1.00\n"
     ]
    },
    {
     "data": {
      "text/html": [
       "<p><h3>Privacy</h3></p>"
      ],
      "text/plain": [
       "<IPython.core.display.HTML object>"
      ]
     },
     "metadata": {},
     "output_type": "display_data"
    },
    {
     "name": "stdout",
     "output_type": "stream",
     "text": [
      "\u001b[1mExact Matches\u001b[0m: 1.0\n",
      "\u001b[1mIdentifiability Risk\u001b[0m: 1.0\n",
      "\u001b[1mMembership Inference Risk\u001b[0m: 0.0\n",
      "Calculate report metrics - disp\n",
      "INFO: 2024-12-28 19:13:13,267 [PROFILEREPORT] - Starting metrics calculation.\n",
      "INFO: 2024-12-28 19:13:17,322 [PROFILEREPORT] - Synthetic data quality report selected target variable: None\n",
      "INFO: 2024-12-28 19:13:17,335 [PROFILEREPORT] - preparing data format.\n",
      "INFO: 2024-12-28 19:13:17,361 [PROFILEREPORT] - Preparing the data for metrics calculation\n",
      "INFO: 2024-12-28 19:13:17,442 [PROFILEREPORT] - Calculating privacy metrics.\n",
      "INFO: 2024-12-28 19:13:17,446 [PROFILEREPORT] - Calculating metric [Exact Matches].\n",
      "INFO: 2024-12-28 19:13:17,543 [PROFILEREPORT] - Metric [Exact Matches] took 0.10s.\n",
      "INFO: 2024-12-28 19:13:17,547 [PROFILEREPORT] - Calculating metric [Identifiability Risk].\n",
      "INFO: 2024-12-28 19:13:17,583 [PROFILEREPORT] - Metric [Identifiability Risk] took 0.03s.\n",
      "INFO: 2024-12-28 19:13:17,587 [PROFILEREPORT] - Calculating metric [Membership Inference Risk].\n",
      "INFO: 2024-12-28 19:13:17,823 [PROFILEREPORT] - Metric [Membership Inference Risk] took 0.23s.\n",
      "INFO: 2024-12-28 19:13:17,825 [PROFILEREPORT] - Calculating fidelity metrics.\n",
      "INFO: 2024-12-28 19:13:17,833 [PROFILEREPORT] - Calculating metric [Correlation Similarity].\n",
      "INFO: 2024-12-28 19:13:18,335 [PROFILEREPORT] - Metric [Correlation Similarity] took 0.50s.\n",
      "INFO: 2024-12-28 19:13:18,338 [PROFILEREPORT] - Calculating metric [Distance Distribution].\n",
      "INFO: 2024-12-28 19:13:19,775 [PROFILEREPORT] - Metric [Distance Distribution] took 1.43s.\n",
      "INFO: 2024-12-28 19:13:19,777 [PROFILEREPORT] - Calculating metric [Statistical Similarity].\n",
      "INFO: 2024-12-28 19:13:19,796 [PROFILEREPORT] - Metric [Statistical Similarity] took 0.02s.\n",
      "INFO: 2024-12-28 19:13:19,800 [PROFILEREPORT] - Calculating metric [Category Coverage].\n"
     ]
    },
    {
     "name": "stderr",
     "output_type": "stream",
     "text": [
      "/home/ydata/.venv/lib/python3.10/site-packages/numpy/core/fromnumeric.py:3432: RuntimeWarning: Mean of empty slice.\n",
      "  return _methods._mean(a, axis=axis, dtype=dtype,\n",
      "/home/ydata/.venv/lib/python3.10/site-packages/numpy/core/_methods.py:190: RuntimeWarning: invalid value encountered in double_scalars\n",
      "  ret = ret.dtype.type(ret / rcount)\n"
     ]
    },
    {
     "name": "stdout",
     "output_type": "stream",
     "text": [
      "INFO: 2024-12-28 19:13:26,514 [PROFILEREPORT] - Metric [Category Coverage] took 6.71s.\n",
      "INFO: 2024-12-28 19:13:26,520 [PROFILEREPORT] - Calculating metric [Missing Category Coverage].\n",
      "INFO: 2024-12-28 19:13:26,722 [PROFILEREPORT] - Metric [Missing Category Coverage] took 0.20s.\n",
      "INFO: 2024-12-28 19:13:26,729 [PROFILEREPORT] - Calculating metric [Range Coverage].\n",
      "INFO: 2024-12-28 19:13:26,740 [PROFILEREPORT] - Metric [Range Coverage] took 0.01s.\n",
      "INFO: 2024-12-28 19:13:26,743 [PROFILEREPORT] - Calculating metric [Kolmogorov-Smirnov Test].\n",
      "INFO: 2024-12-28 19:13:26,751 [PROFILEREPORT] - Metric [Kolmogorov-Smirnov Test] took 0.00s.\n",
      "INFO: 2024-12-28 19:13:26,756 [PROFILEREPORT] - Calculating metric [Total Variation Distance].\n"
     ]
    },
    {
     "name": "stderr",
     "output_type": "stream",
     "text": [
      "/home/ydata/.venv/lib/python3.10/site-packages/numpy/core/fromnumeric.py:3432: RuntimeWarning: Mean of empty slice.\n",
      "  return _methods._mean(a, axis=axis, dtype=dtype,\n",
      "/home/ydata/.venv/lib/python3.10/site-packages/numpy/core/_methods.py:190: RuntimeWarning: invalid value encountered in double_scalars\n",
      "  ret = ret.dtype.type(ret / rcount)\n",
      "/home/ydata/.venv/lib/python3.10/site-packages/numpy/core/fromnumeric.py:3432: RuntimeWarning: Mean of empty slice.\n",
      "  return _methods._mean(a, axis=axis, dtype=dtype,\n",
      "/home/ydata/.venv/lib/python3.10/site-packages/numpy/core/_methods.py:190: RuntimeWarning: invalid value encountered in double_scalars\n",
      "  ret = ret.dtype.type(ret / rcount)\n"
     ]
    },
    {
     "name": "stdout",
     "output_type": "stream",
     "text": [
      "INFO: 2024-12-28 19:13:26,960 [PROFILEREPORT] - Metric [Total Variation Distance] took 0.20s.\n",
      "INFO: 2024-12-28 19:13:26,964 [PROFILEREPORT] - Calculating metric [Missing Values Similarity].\n",
      "INFO: 2024-12-28 19:13:26,969 [PROFILEREPORT] - Metric [Missing Values Similarity] took 0.00s.\n",
      "INFO: 2024-12-28 19:13:26,973 [PROFILEREPORT] - Calculating metric [Mutual Information].\n",
      "INFO: 2024-12-28 19:13:27,270 [PROFILEREPORT] - Metric [Mutual Information] took 0.30s.\n",
      "INFO: 2024-12-28 19:13:27,274 [PROFILEREPORT] - Calculating metric [Dimensionality Reduction].\n",
      "INFO: 2024-12-28 19:13:27,612 [PROFILEREPORT] - Metric [Dimensionality Reduction] took 0.34s.\n",
      "INFO: 2024-12-28 19:13:27,615 [PROFILEREPORT] - Calculating metric [Synthetic Classifier].\n",
      "INFO: 2024-12-28 19:13:29,055 [PROFILEREPORT] - Metric [Synthetic Classifier] took 1.44s.\n",
      "INFO: 2024-12-28 19:13:29,056 [PROFILEREPORT] - Calculating utility metrics.\n",
      "INFO: 2024-12-28 19:13:29,066 [PROFILEREPORT] - Calculating metric [QScore].\n",
      "INFO: 2024-12-28 19:13:29,164 [PROFILEREPORT] - Metric [QScore] took 0.10s.\n"
     ]
    },
    {
     "data": {
      "text/html": [
       "<h1>Metrics report</h1>"
      ],
      "text/plain": [
       "<IPython.core.display.HTML object>"
      ]
     },
     "metadata": {},
     "output_type": "display_data"
    },
    {
     "data": {
      "text/html": [
       "<p><h2>Quality & Privacy summary</h2></p>"
      ],
      "text/plain": [
       "<IPython.core.display.HTML object>"
      ]
     },
     "metadata": {},
     "output_type": "display_data"
    },
    {
     "name": "stdout",
     "output_type": "stream",
     "text": [
      "\u001b[1m# Real data records\u001b[0m: 5K\n",
      "\u001b[1m# Synthetic data records generated\u001b[0m: 5K\n",
      "\u001b[1m# Columns\u001b[0m: 4\n",
      "\u001b[1mFidelity Score\u001b[0m: Excellent\n",
      "\u001b[1mUtility Score\u001b[0m: Excellent\n",
      "\u001b[1mPrivacy Score\u001b[0m: Poor\n"
     ]
    },
    {
     "data": {
      "text/html": [
       "<p><h3>Fidelity</h3></p>"
      ],
      "text/plain": [
       "<IPython.core.display.HTML object>"
      ]
     },
     "metadata": {},
     "output_type": "display_data"
    },
    {
     "name": "stdout",
     "output_type": "stream",
     "text": [
      "\u001b[1mCorrelation Similarity\u001b[0m: 1.00\n",
      "\u001b[1mDistance Distribution\u001b[0m: 1.00\n",
      "\u001b[1mSynthetic Classifier\u001b[0m: 1.00\n",
      "\u001b[1mMutual Information\u001b[0m: 1.00\n",
      "\u001b[1mMissing Values Similarity\u001b[0m: 1.00\n",
      "\u001b[1mMean Similarity\u001b[0m: N/A\n",
      "\u001b[1mStd. Dev. Similarity\u001b[0m: N/A\n",
      "\u001b[1mMedian Similarity\u001b[0m: N/A\n",
      "\u001b[1mQ25% Similarity\u001b[0m: N/A\n",
      "\u001b[1mQ75% Similarity\u001b[0m: N/A\n",
      "\u001b[1mKolmogorov-Smirnov Test\u001b[0m: N/A\n",
      "\u001b[1mTotal Variation Distance\u001b[0m: 1.00\n",
      "\u001b[1mCategory Coverage\u001b[0m: 1.00\n",
      "\u001b[1mMissing Category Coverage\u001b[0m: 1.00\n",
      "\u001b[1mRange Coverage\u001b[0m: N/A\n"
     ]
    },
    {
     "data": {
      "text/html": [
       "<p><h3>Utility</h3></p>"
      ],
      "text/plain": [
       "<IPython.core.display.HTML object>"
      ]
     },
     "metadata": {},
     "output_type": "display_data"
    },
    {
     "name": "stdout",
     "output_type": "stream",
     "text": [
      "\u001b[1mQScore\u001b[0m: 1.00\n"
     ]
    },
    {
     "data": {
      "text/html": [
       "<p><h3>Privacy</h3></p>"
      ],
      "text/plain": [
       "<IPython.core.display.HTML object>"
      ]
     },
     "metadata": {},
     "output_type": "display_data"
    },
    {
     "name": "stdout",
     "output_type": "stream",
     "text": [
      "\u001b[1mExact Matches\u001b[0m: 1.0\n",
      "\u001b[1mIdentifiability Risk\u001b[0m: 1.0\n",
      "\u001b[1mMembership Inference Risk\u001b[0m: 0.0\n",
      "Calculate report metrics - loan\n",
      "INFO: 2024-12-28 19:13:33,187 [PROFILEREPORT] - Starting metrics calculation.\n",
      "INFO: 2024-12-28 19:13:38,334 [PROFILEREPORT] - Synthetic data quality report selected target variable: None\n",
      "INFO: 2024-12-28 19:13:38,356 [PROFILEREPORT] - preparing data format.\n",
      "INFO: 2024-12-28 19:13:38,410 [PROFILEREPORT] - Preparing the data for metrics calculation\n",
      "INFO: 2024-12-28 19:13:38,494 [PROFILEREPORT] - Calculating privacy metrics.\n",
      "INFO: 2024-12-28 19:13:38,498 [PROFILEREPORT] - Calculating metric [Exact Matches].\n",
      "INFO: 2024-12-28 19:13:38,515 [PROFILEREPORT] - Metric [Exact Matches] took 0.02s.\n",
      "INFO: 2024-12-28 19:13:38,518 [PROFILEREPORT] - Calculating metric [Identifiability Risk].\n",
      "INFO: 2024-12-28 19:13:38,526 [PROFILEREPORT] - Metric [Identifiability Risk] took 0.01s.\n",
      "INFO: 2024-12-28 19:13:38,529 [PROFILEREPORT] - Calculating metric [Membership Inference Risk].\n",
      "INFO: 2024-12-28 19:13:38,530 [PROFILEREPORT] - Membership Disclosure Score sample size was reduce to match the dataset with size 682.\n",
      "INFO: 2024-12-28 19:13:38,583 [PROFILEREPORT] - Metric [Membership Inference Risk] took 0.05s.\n",
      "INFO: 2024-12-28 19:13:38,584 [PROFILEREPORT] - Calculating fidelity metrics.\n",
      "INFO: 2024-12-28 19:13:38,595 [PROFILEREPORT] - Calculating metric [Correlation Similarity].\n",
      "INFO: 2024-12-28 19:13:38,759 [PROFILEREPORT] - Metric [Correlation Similarity] took 0.16s.\n",
      "INFO: 2024-12-28 19:13:38,763 [PROFILEREPORT] - Calculating metric [Distance Distribution].\n",
      "INFO: 2024-12-28 19:13:38,796 [PROFILEREPORT] - Metric [Distance Distribution] took 0.03s.\n",
      "INFO: 2024-12-28 19:13:38,800 [PROFILEREPORT] - Calculating metric [Statistical Similarity].\n",
      "INFO: 2024-12-28 19:13:38,823 [PROFILEREPORT] - Metric [Statistical Similarity] took 0.02s.\n",
      "INFO: 2024-12-28 19:13:38,827 [PROFILEREPORT] - Calculating metric [Category Coverage].\n",
      "INFO: 2024-12-28 19:13:39,153 [PROFILEREPORT] - Metric [Category Coverage] took 0.32s.\n",
      "INFO: 2024-12-28 19:13:39,156 [PROFILEREPORT] - Calculating metric [Missing Category Coverage].\n",
      "INFO: 2024-12-28 19:13:39,185 [PROFILEREPORT] - Metric [Missing Category Coverage] took 0.03s.\n",
      "INFO: 2024-12-28 19:13:39,188 [PROFILEREPORT] - Calculating metric [Range Coverage].\n",
      "INFO: 2024-12-28 19:13:39,197 [PROFILEREPORT] - Metric [Range Coverage] took 0.01s.\n",
      "INFO: 2024-12-28 19:13:39,200 [PROFILEREPORT] - Calculating metric [Kolmogorov-Smirnov Test].\n",
      "INFO: 2024-12-28 19:13:39,210 [PROFILEREPORT] - Metric [Kolmogorov-Smirnov Test] took 0.01s.\n",
      "INFO: 2024-12-28 19:13:39,213 [PROFILEREPORT] - Calculating metric [Total Variation Distance].\n",
      "INFO: 2024-12-28 19:13:39,246 [PROFILEREPORT] - Metric [Total Variation Distance] took 0.03s.\n",
      "INFO: 2024-12-28 19:13:39,249 [PROFILEREPORT] - Calculating metric [Missing Values Similarity].\n",
      "INFO: 2024-12-28 19:13:39,253 [PROFILEREPORT] - Metric [Missing Values Similarity] took 0.00s.\n",
      "INFO: 2024-12-28 19:13:39,256 [PROFILEREPORT] - Calculating metric [Mutual Information].\n",
      "INFO: 2024-12-28 19:13:40,544 [PROFILEREPORT] - Metric [Mutual Information] took 1.28s.\n",
      "INFO: 2024-12-28 19:13:40,547 [PROFILEREPORT] - Calculating metric [Dimensionality Reduction].\n",
      "INFO: 2024-12-28 19:13:40,642 [PROFILEREPORT] - Metric [Dimensionality Reduction] took 0.09s.\n",
      "INFO: 2024-12-28 19:13:40,646 [PROFILEREPORT] - Calculating metric [Synthetic Classifier].\n",
      "INFO: 2024-12-28 19:13:41,012 [PROFILEREPORT] - Metric [Synthetic Classifier] took 0.37s.\n",
      "INFO: 2024-12-28 19:13:41,014 [PROFILEREPORT] - Calculating utility metrics.\n",
      "INFO: 2024-12-28 19:13:41,022 [PROFILEREPORT] - Calculating metric [QScore].\n",
      "INFO: 2024-12-28 19:13:41,218 [PROFILEREPORT] - Metric [QScore] took 0.19s.\n"
     ]
    },
    {
     "name": "stderr",
     "output_type": "stream",
     "text": [
      "/home/ydata/.venv/lib/python3.10/site-packages/sklearn/preprocessing/_discretization.py:239: FutureWarning: In version 1.5 onwards, subsample=200_000 will be used by default. Set subsample explicitly to silence this warning in the mean time. Set subsample=None to disable subsampling explicitly.\n",
      "  warnings.warn(\n"
     ]
    },
    {
     "data": {
      "text/html": [
       "<h1>Metrics report</h1>"
      ],
      "text/plain": [
       "<IPython.core.display.HTML object>"
      ]
     },
     "metadata": {},
     "output_type": "display_data"
    },
    {
     "data": {
      "text/html": [
       "<p><h2>Quality & Privacy summary</h2></p>"
      ],
      "text/plain": [
       "<IPython.core.display.HTML object>"
      ]
     },
     "metadata": {},
     "output_type": "display_data"
    },
    {
     "name": "stdout",
     "output_type": "stream",
     "text": [
      "\u001b[1m# Real data records\u001b[0m: 682\n",
      "\u001b[1m# Synthetic data records generated\u001b[0m: 682\n",
      "\u001b[1m# Columns\u001b[0m: 9\n",
      "\u001b[1mFidelity Score\u001b[0m: Excellent\n",
      "\u001b[1mUtility Score\u001b[0m: Excellent\n",
      "\u001b[1mPrivacy Score\u001b[0m: Poor\n"
     ]
    },
    {
     "data": {
      "text/html": [
       "<p><h3>Fidelity</h3></p>"
      ],
      "text/plain": [
       "<IPython.core.display.HTML object>"
      ]
     },
     "metadata": {},
     "output_type": "display_data"
    },
    {
     "name": "stdout",
     "output_type": "stream",
     "text": [
      "\u001b[1mCorrelation Similarity\u001b[0m: 1.00\n",
      "\u001b[1mDistance Distribution\u001b[0m: 1.00\n",
      "\u001b[1mSynthetic Classifier\u001b[0m: 1.00\n",
      "\u001b[1mMutual Information\u001b[0m: 1.00\n",
      "\u001b[1mMissing Values Similarity\u001b[0m: 1.00\n",
      "\u001b[1mMean Similarity\u001b[0m: 1.00\n",
      "\u001b[1mStd. Dev. Similarity\u001b[0m: 1.00\n",
      "\u001b[1mMedian Similarity\u001b[0m: 1.00\n",
      "\u001b[1mQ25% Similarity\u001b[0m: 1.00\n",
      "\u001b[1mQ75% Similarity\u001b[0m: 1.00\n",
      "\u001b[1mKolmogorov-Smirnov Test\u001b[0m: 1.00\n",
      "\u001b[1mTotal Variation Distance\u001b[0m: 1.00\n",
      "\u001b[1mCategory Coverage\u001b[0m: 1.00\n",
      "\u001b[1mMissing Category Coverage\u001b[0m: 1.00\n",
      "\u001b[1mRange Coverage\u001b[0m: 1.00\n"
     ]
    },
    {
     "data": {
      "text/html": [
       "<p><h3>Utility</h3></p>"
      ],
      "text/plain": [
       "<IPython.core.display.HTML object>"
      ]
     },
     "metadata": {},
     "output_type": "display_data"
    },
    {
     "name": "stdout",
     "output_type": "stream",
     "text": [
      "\u001b[1mQScore\u001b[0m: 1.00\n"
     ]
    },
    {
     "data": {
      "text/html": [
       "<p><h3>Privacy</h3></p>"
      ],
      "text/plain": [
       "<IPython.core.display.HTML object>"
      ]
     },
     "metadata": {},
     "output_type": "display_data"
    },
    {
     "name": "stdout",
     "output_type": "stream",
     "text": [
      "\u001b[1mExact Matches\u001b[0m: 1.0\n",
      "\u001b[1mIdentifiability Risk\u001b[0m: 1.0\n",
      "\u001b[1mMembership Inference Risk\u001b[0m: 0.0\n",
      "Calculate report metrics - order\n",
      "INFO: 2024-12-28 19:13:46,241 [PROFILEREPORT] - Starting metrics calculation.\n",
      "INFO: 2024-12-28 19:13:50,384 [PROFILEREPORT] - Synthetic data quality report selected target variable: None\n",
      "INFO: 2024-12-28 19:13:50,399 [PROFILEREPORT] - preparing data format.\n",
      "INFO: 2024-12-28 19:13:50,442 [PROFILEREPORT] - Preparing the data for metrics calculation\n",
      "INFO: 2024-12-28 19:13:50,571 [PROFILEREPORT] - Calculating privacy metrics.\n",
      "INFO: 2024-12-28 19:13:50,575 [PROFILEREPORT] - Calculating metric [Exact Matches].\n",
      "INFO: 2024-12-28 19:13:50,712 [PROFILEREPORT] - Metric [Exact Matches] took 0.14s.\n",
      "INFO: 2024-12-28 19:13:50,716 [PROFILEREPORT] - Calculating metric [Identifiability Risk].\n",
      "INFO: 2024-12-28 19:13:50,781 [PROFILEREPORT] - Metric [Identifiability Risk] took 0.06s.\n",
      "INFO: 2024-12-28 19:13:50,785 [PROFILEREPORT] - Calculating metric [Membership Inference Risk].\n",
      "INFO: 2024-12-28 19:13:51,192 [PROFILEREPORT] - Metric [Membership Inference Risk] took 0.41s.\n",
      "INFO: 2024-12-28 19:13:51,193 [PROFILEREPORT] - Calculating fidelity metrics.\n",
      "INFO: 2024-12-28 19:13:51,201 [PROFILEREPORT] - Calculating metric [Correlation Similarity].\n",
      "INFO: 2024-12-28 19:13:52,273 [PROFILEREPORT] - Metric [Correlation Similarity] took 1.07s.\n",
      "INFO: 2024-12-28 19:13:52,277 [PROFILEREPORT] - Calculating metric [Distance Distribution].\n",
      "INFO: 2024-12-28 19:13:53,368 [PROFILEREPORT] - Metric [Distance Distribution] took 1.09s.\n",
      "INFO: 2024-12-28 19:13:53,372 [PROFILEREPORT] - Calculating metric [Statistical Similarity].\n",
      "INFO: 2024-12-28 19:13:53,397 [PROFILEREPORT] - Metric [Statistical Similarity] took 0.02s.\n",
      "INFO: 2024-12-28 19:13:53,401 [PROFILEREPORT] - Calculating metric [Category Coverage].\n",
      "INFO: 2024-12-28 19:13:57,868 [PROFILEREPORT] - Metric [Category Coverage] took 4.47s.\n",
      "INFO: 2024-12-28 19:13:57,871 [PROFILEREPORT] - Calculating metric [Missing Category Coverage].\n",
      "INFO: 2024-12-28 19:13:58,004 [PROFILEREPORT] - Metric [Missing Category Coverage] took 0.13s.\n",
      "INFO: 2024-12-28 19:13:58,008 [PROFILEREPORT] - Calculating metric [Range Coverage].\n",
      "INFO: 2024-12-28 19:13:58,016 [PROFILEREPORT] - Metric [Range Coverage] took 0.01s.\n",
      "INFO: 2024-12-28 19:13:58,019 [PROFILEREPORT] - Calculating metric [Kolmogorov-Smirnov Test].\n",
      "INFO: 2024-12-28 19:13:58,030 [PROFILEREPORT] - Metric [Kolmogorov-Smirnov Test] took 0.01s.\n",
      "INFO: 2024-12-28 19:13:58,033 [PROFILEREPORT] - Calculating metric [Total Variation Distance].\n",
      "INFO: 2024-12-28 19:13:58,165 [PROFILEREPORT] - Metric [Total Variation Distance] took 0.13s.\n",
      "INFO: 2024-12-28 19:13:58,167 [PROFILEREPORT] - Calculating metric [Missing Values Similarity].\n",
      "INFO: 2024-12-28 19:13:58,171 [PROFILEREPORT] - Metric [Missing Values Similarity] took 0.00s.\n",
      "INFO: 2024-12-28 19:13:58,174 [PROFILEREPORT] - Calculating metric [Mutual Information].\n",
      "INFO: 2024-12-28 19:14:05,169 [PROFILEREPORT] - Metric [Mutual Information] took 6.99s.\n",
      "INFO: 2024-12-28 19:14:05,173 [PROFILEREPORT] - Calculating metric [Dimensionality Reduction].\n",
      "INFO: 2024-12-28 19:14:05,470 [PROFILEREPORT] - Metric [Dimensionality Reduction] took 0.30s.\n",
      "INFO: 2024-12-28 19:14:05,473 [PROFILEREPORT] - Calculating metric [Synthetic Classifier].\n",
      "INFO: 2024-12-28 19:14:07,742 [PROFILEREPORT] - Metric [Synthetic Classifier] took 2.27s.\n",
      "INFO: 2024-12-28 19:14:07,743 [PROFILEREPORT] - Calculating utility metrics.\n",
      "INFO: 2024-12-28 19:14:07,753 [PROFILEREPORT] - Calculating metric [QScore].\n",
      "INFO: 2024-12-28 19:14:07,934 [PROFILEREPORT] - Metric [QScore] took 0.18s.\n"
     ]
    },
    {
     "name": "stderr",
     "output_type": "stream",
     "text": [
      "/home/ydata/.venv/lib/python3.10/site-packages/sklearn/preprocessing/_discretization.py:239: FutureWarning: In version 1.5 onwards, subsample=200_000 will be used by default. Set subsample explicitly to silence this warning in the mean time. Set subsample=None to disable subsampling explicitly.\n",
      "  warnings.warn(\n"
     ]
    },
    {
     "data": {
      "text/html": [
       "<h1>Metrics report</h1>"
      ],
      "text/plain": [
       "<IPython.core.display.HTML object>"
      ]
     },
     "metadata": {},
     "output_type": "display_data"
    },
    {
     "data": {
      "text/html": [
       "<p><h2>Quality & Privacy summary</h2></p>"
      ],
      "text/plain": [
       "<IPython.core.display.HTML object>"
      ]
     },
     "metadata": {},
     "output_type": "display_data"
    },
    {
     "name": "stdout",
     "output_type": "stream",
     "text": [
      "\u001b[1m# Real data records\u001b[0m: 6K\n",
      "\u001b[1m# Synthetic data records generated\u001b[0m: 6K\n",
      "\u001b[1m# Columns\u001b[0m: 6\n",
      "\u001b[1mFidelity Score\u001b[0m: Excellent\n",
      "\u001b[1mUtility Score\u001b[0m: Excellent\n",
      "\u001b[1mPrivacy Score\u001b[0m: Poor\n"
     ]
    },
    {
     "data": {
      "text/html": [
       "<p><h3>Fidelity</h3></p>"
      ],
      "text/plain": [
       "<IPython.core.display.HTML object>"
      ]
     },
     "metadata": {},
     "output_type": "display_data"
    },
    {
     "name": "stdout",
     "output_type": "stream",
     "text": [
      "\u001b[1mCorrelation Similarity\u001b[0m: 1.00\n",
      "\u001b[1mDistance Distribution\u001b[0m: 1.00\n",
      "\u001b[1mSynthetic Classifier\u001b[0m: 1.00\n",
      "\u001b[1mMutual Information\u001b[0m: 1.00\n",
      "\u001b[1mMissing Values Similarity\u001b[0m: 1.00\n",
      "\u001b[1mMean Similarity\u001b[0m: 1.00\n",
      "\u001b[1mStd. Dev. Similarity\u001b[0m: 1.00\n",
      "\u001b[1mMedian Similarity\u001b[0m: 1.00\n",
      "\u001b[1mQ25% Similarity\u001b[0m: 1.00\n",
      "\u001b[1mQ75% Similarity\u001b[0m: 1.00\n",
      "\u001b[1mKolmogorov-Smirnov Test\u001b[0m: 1.00\n",
      "\u001b[1mTotal Variation Distance\u001b[0m: 1.00\n",
      "\u001b[1mCategory Coverage\u001b[0m: 1.00\n",
      "\u001b[1mMissing Category Coverage\u001b[0m: 1.00\n",
      "\u001b[1mRange Coverage\u001b[0m: 1.00\n"
     ]
    },
    {
     "data": {
      "text/html": [
       "<p><h3>Utility</h3></p>"
      ],
      "text/plain": [
       "<IPython.core.display.HTML object>"
      ]
     },
     "metadata": {},
     "output_type": "display_data"
    },
    {
     "name": "stdout",
     "output_type": "stream",
     "text": [
      "\u001b[1mQScore\u001b[0m: 1.00\n"
     ]
    },
    {
     "data": {
      "text/html": [
       "<p><h3>Privacy</h3></p>"
      ],
      "text/plain": [
       "<IPython.core.display.HTML object>"
      ]
     },
     "metadata": {},
     "output_type": "display_data"
    },
    {
     "name": "stdout",
     "output_type": "stream",
     "text": [
      "\u001b[1mExact Matches\u001b[0m: 1.0\n",
      "\u001b[1mIdentifiability Risk\u001b[0m: 1.0\n",
      "\u001b[1mMembership Inference Risk\u001b[0m: 0.0\n",
      "Calculate report metrics - trans\n",
      "INFO: 2024-12-28 19:14:20,783 [PROFILEREPORT] - Starting metrics calculation.\n"
     ]
    },
    {
     "name": "stderr",
     "output_type": "stream",
     "text": [
      "/home/ydata/.venv/lib/python3.10/site-packages/distributed/client.py:3169: UserWarning: Sending large graph of size 9.55 MiB.\n",
      "This may cause some slowdown.\n",
      "Consider scattering data ahead of time and using futures.\n",
      "  warnings.warn(\n",
      "/home/ydata/.venv/lib/python3.10/site-packages/distributed/client.py:3169: UserWarning: Sending large graph of size 9.55 MiB.\n",
      "This may cause some slowdown.\n",
      "Consider scattering data ahead of time and using futures.\n",
      "  warnings.warn(\n",
      "/home/ydata/.venv/lib/python3.10/site-packages/distributed/client.py:3169: UserWarning: Sending large graph of size 9.55 MiB.\n",
      "This may cause some slowdown.\n",
      "Consider scattering data ahead of time and using futures.\n",
      "  warnings.warn(\n"
     ]
    },
    {
     "name": "stdout",
     "output_type": "stream",
     "text": [
      "INFO: 2024-12-28 19:14:29,206 [PROFILEREPORT] - Synthetic data quality report selected target variable: None\n",
      "INFO: 2024-12-28 19:14:29,308 [PROFILEREPORT] - preparing data format.\n",
      "INFO: 2024-12-28 19:14:29,739 [PROFILEREPORT] - Preparing the data for metrics calculation\n",
      "INFO: 2024-12-28 19:14:31,318 [PROFILEREPORT] - Calculating privacy metrics.\n",
      "INFO: 2024-12-28 19:14:31,340 [PROFILEREPORT] - Calculating metric [Exact Matches].\n",
      "INFO: 2024-12-28 19:14:33,995 [PROFILEREPORT] - Metric [Exact Matches] took 2.65s.\n",
      "INFO: 2024-12-28 19:14:34,009 [PROFILEREPORT] - Calculating metric [Identifiability Risk].\n",
      "INFO: 2024-12-28 19:14:36,111 [PROFILEREPORT] - Metric [Identifiability Risk] took 2.10s.\n",
      "INFO: 2024-12-28 19:14:36,124 [PROFILEREPORT] - Calculating metric [Membership Inference Risk].\n",
      "INFO: 2024-12-28 19:14:44,401 [PROFILEREPORT] - Metric [Membership Inference Risk] took 8.28s.\n",
      "INFO: 2024-12-28 19:14:44,402 [PROFILEREPORT] - Calculating fidelity metrics.\n",
      "INFO: 2024-12-28 19:14:44,433 [PROFILEREPORT] - Calculating metric [Correlation Similarity].\n",
      "INFO: 2024-12-28 19:15:10,308 [PROFILEREPORT] - Metric [Correlation Similarity] took 25.87s.\n",
      "INFO: 2024-12-28 19:15:10,321 [PROFILEREPORT] - Calculating metric [Distance Distribution].\n"
     ]
    }
   ],
   "source": [
    "from ydata.report import SyntheticDataProfile\n",
    "from ydata.report.reports.report_type import ReportType\n",
    "\n",
    "for table in og_dataset.rdbms_schema.tables.keys():\n",
    "    og_table = og_dataset[table]\n",
    "    synth_table = og_dataset[table]\n",
    "    \n",
    "    table_metadata = og_metadata[table]\n",
    "    data_types = {k: v.datatype for k, v in table_metadata.columns.items()}\n",
    "    \n",
    "    print(f'Calculate report metrics - {table}')\n",
    "    \n",
    "    try:\n",
    "        #calculate PDF report per table\n",
    "        sdf = SyntheticDataProfile(report_type=ReportType.TABULAR,\n",
    "                                   real=og_table,\n",
    "                                   synth=synth_table,\n",
    "                                   training_data=og_table,\n",
    "                                   data_types=data_types,\n",
    "                                   metadata=table_metadata)\n",
    "\n",
    "\n",
    "        sdf.generate_report(output_path=f'report_{table}.pdf')\n",
    "    except:\n",
    "        print(f'{table} has not enough rows to run the data quality report.')"
   ]
  }
 ],
 "metadata": {
  "kernelspec": {
   "display_name": "Python 3 (ipykernel)",
   "language": "python",
   "name": "python3"
  },
  "language_info": {
   "codemirror_mode": {
    "name": "ipython",
    "version": 3
   },
   "file_extension": ".py",
   "mimetype": "text/x-python",
   "name": "python",
   "nbconvert_exporter": "python",
   "pygments_lexer": "ipython3",
   "version": "3.10.12"
  }
 },
 "nbformat": 4,
 "nbformat_minor": 5
}
