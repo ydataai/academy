{
 "cells": [
  {
   "cell_type": "markdown",
   "id": "fbbe505b-6f35-4fc0-84d1-c450f81be385",
   "metadata": {
    "tags": []
   },
   "source": [
    "# MultiTable synthesis - Database with attribute tables\n",
    "\n",
    "Relational databases often include attribute tables that provide descriptive metadata about entities in a primary table. These attribute tables, such as those describing product categories, geographic locations, or league information, enhance the database structure by offering additional context and classification for the main data.\n",
    "\n",
    "When generating synthetic data for schemas with attribute tables, it is essential to:\n",
    "- Ensure that all references in the main table align with valid entries in the attribute tables.\n",
    "- Maintain the logical connections between entities and their attributes.\n",
    "- Preserve the distribution and relationships between attribute values and the main data.\n",
    "\n",
    "This notebook introduces strategies for generating synthetic datasets that respect the relationships between primary and attribute tables. By maintaining relational integrity and ensuring realistic attribute distributions, the resulting data can be effectively used for testing, analytics, or machine learning applications.\n",
    "\n",
    "\n",
    "In this example we will explore this can be achive by leveraging the [Football database](https://www.kaggle.com/datasets/technika148/football-database)."
   ]
  },
  {
   "cell_type": "markdown",
   "id": "951a992e-5143-4dae-a674-a8ddde733ea7",
   "metadata": {},
   "source": [
    "### Read the data from the Data Catalog"
   ]
  },
  {
   "cell_type": "code",
   "execution_count": 1,
   "id": "4db9b0f2-06bb-497c-a3f9-7ea85d30289c",
   "metadata": {
    "tags": []
   },
   "outputs": [
    {
     "name": "stdout",
     "output_type": "stream",
     "text": [
      "\u001b[1mMultiMetadata Summary \n",
      " \n",
      "\u001b[0m\u001b[1mTables Summary \u001b[0m\n",
      "\u001b[1mNumber of tables: \u001b[0m7 \n",
      " \n",
      "    Table name  # cols  # nrows        Primary keys                        Foreign keys PK characteristics                                                FK characteristics Notes\n",
      "0      leagues       3        5          [leagueID]                                                   [id]                                                                        \n",
      "1      players       2     7659          [playerID]                                                   [id]                                                                        \n",
      "2        teams       2      146            [teamID]                                                   [id]                                                                        \n",
      "3        games      34    12680            [gameID]  [leagueID, homeTeamID, awayTeamID]               [id]  {'leagueID': ['id'], 'homeTeamID': ['id'], 'awayTeamID': ['id']}      \n",
      "4  appearances      19    53349  [gameID, playerID]                  [gameID, leagueID]           [id, id]                            {'gameID': ['id'], 'leagueID': ['id']}      \n",
      "5        shots      16    25360                  []                    [gameID, teamID]                                                 {'gameID': ['id'], 'teamID': ['id']}      \n",
      "6    teamstats      16    25360    [gameID, teamID]                    [gameID, teamID]           [id, id]                              {'gameID': ['id'], 'teamID': ['id']}      \n",
      " \n",
      "\u001b[1mRelations Summary \u001b[0m\n",
      "\u001b[1mNumber of relations: \u001b[0m9 \n",
      " \n",
      "         Table      Column Parent Table Parent Column Relation Type\n",
      "0        games    leagueID      leagues      leagueID           1-n\n",
      "1        games  homeTeamID        teams        teamID           1-n\n",
      "2        games  awayTeamID        teams        teamID           1-n\n",
      "3  appearances      gameID        games        gameID           1-n\n",
      "4  appearances    leagueID      leagues      leagueID           1-n\n",
      "5        shots      gameID        games        gameID           1-n\n",
      "6        shots      teamID        teams        teamID           1-n\n",
      "7    teamstats      gameID        games        gameID           1-n\n",
      "8    teamstats      teamID        teams        teamID           1-n\n",
      " \n",
      "\u001b[1mWarnings Summary\u001b[0m\n",
      "\u001b[1mindependent_table: \u001b[0mFound 1 with no relationship with any other table\n",
      "\u001b[1mcircular_reference: \u001b[0mOne or more potential circular references found.\n",
      "\u001b[1mindirect_relationship: \u001b[0mOne or more indirect relationships found.\n",
      "\n"
     ]
    }
   ],
   "source": [
    "# Importing YData's packages\n",
    "from ydata.labs import DataSources\n",
    "# Reading the Dataset from the DataSource\n",
    "datasource = DataSources.get(uid='{insert-datasource-id}')\n",
    "dataset = datasource.dataset\n",
    "# Getting the calculated Metadata to get the profile overview information in the labs\n",
    "metadata = datasource.metadata\n",
    "print(metadata)"
   ]
  },
  {
   "cell_type": "markdown",
   "id": "ff1fc9b0-95ee-4030-adf1-79e40af6243e",
   "metadata": {},
   "source": [
    "## Synthetic data generation - train & sampling"
   ]
  },
  {
   "cell_type": "markdown",
   "id": "9a3df5c4-cec8-4578-b981-43418703762f",
   "metadata": {},
   "source": [
    "### Train\n",
    "\n",
    "In this particular database setting, some of the tables are actually attribute tables, meaning, they only hold information that describes a certain attribute/activity/place etc. We can consider as attribute tables the leagues, teams and players  table.  \n",
    "\n",
    "For that reason we will add the *attribute_tables* configuration to the fit of the synthetic data generator. Attribute tables will be still generated, but with its values masked/anonymized, so the synthetic data generated can comply with privacy regulations."
   ]
  },
  {
   "cell_type": "code",
   "execution_count": null,
   "id": "b970df3b-aa61-487f-b919-e3c9023d5e28",
   "metadata": {},
   "outputs": [],
   "source": [
    "from ydata.synthesizers.multitable.model import MultiTableSynthesizer\n",
    "\n",
    "synthesizer = MultiTableSynthesizer()\n",
    "\n",
    "synthesizer.fit(\n",
    "        X=dataset,\n",
    "        metadata=metadata,\n",
    "     attribute_tables=[\"leagues\", 'teams', 'players']  # or [\"leagues\"]\n",
    ")"
   ]
  },
  {
   "cell_type": "markdown",
   "id": "a35956ac-a1e3-4543-8148-6c5e30512d3d",
   "metadata": {},
   "source": [
    "### Sample"
   ]
  },
  {
   "cell_type": "code",
   "execution_count": null,
   "id": "ec15d303-8ecb-42f5-be16-9526803ed947",
   "metadata": {},
   "outputs": [],
   "source": [
    "# Importing YData's packages\n",
    "from ydata.labs import Connectors\n",
    "# Getting a previously created Connector\n",
    "dest_connector = Connectors.get(uid='{insert-connector-id}')"
   ]
  },
  {
   "cell_type": "code",
   "execution_count": null,
   "id": "ab4bfdd2-cd3e-40cf-96cd-b9c3f47ddbd3",
   "metadata": {},
   "outputs": [],
   "source": [
    "synthesizer.sample(1., connector=dest_connector.connector)"
   ]
  }
 ],
 "metadata": {
  "kernelspec": {
   "display_name": "Python 3 (ipykernel)",
   "language": "python",
   "name": "python3"
  },
  "language_info": {
   "codemirror_mode": {
    "name": "ipython",
    "version": 3
   },
   "file_extension": ".py",
   "mimetype": "text/x-python",
   "name": "python",
   "nbconvert_exporter": "python",
   "pygments_lexer": "ipython3",
   "version": "3.10.12"
  }
 },
 "nbformat": 4,
 "nbformat_minor": 5
}
