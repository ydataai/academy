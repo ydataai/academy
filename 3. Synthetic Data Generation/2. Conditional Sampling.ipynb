{
 "cells": [
  {
   "cell_type": "markdown",
   "id": "cbfdc7c8-0d64-49ce-b022-2c809f910bfc",
   "metadata": {},
   "source": [
    "# **YData Synthetic Data Generation with Conditional Sampling**\n",
    "\n",
    "YData synthesizers now support conditional sampling. The `fit` method has an additional parameter named `condition_on`, which receives a list of features to condition upon. Furthermore, the `sample` method receives the conditions to be applied through an additional parameter also named `condition_on`. For now, there are three types of conditions:\n",
    "- Condition upon a categorical (or string) feature. The parameters are the name of the feature and a list of values (i.e., categories) to be considered. Each category also has its percentage of representativeness. For example, if we want to condition upon two categories, we need to define the percentage of rows each of these categories will have on the synthetic dataset. Naturally, the sum of such percentages needs to be 1.\n",
    "- Condition upon a numerical feature. The parameters are the name of the feature and the minimum and maximum of the range to be considered. This feature will present a uniform distribution on the synthetic dataset, limited by the specified range. \n",
    "- A generic type of condition where the feature's values are defined according to the data returned by a Generator function.\n",
    "\n",
    "This notebook describes how to apply conditional sampling with the regular synthesizer. The same logic here explained can be equally applied to the time series synthesizer.\n",
    "\n",
    "We will use the Adult Census Income dataset to demonstrate how to perform the conditional sampling. This dataset is a collection of census data from 1994 mainly used for prediction tasks where the goal is to identify if a person makes over 50K a year (https://archive.ics.uci.edu/ml/datasets/adult). Each person is described by 14 features focused on personal information, including sensitive attributes such as race and sex. "
   ]
  },
  {
   "cell_type": "code",
   "execution_count": 1,
   "id": "f60c06a6-8206-42fd-b40a-27306b424144",
   "metadata": {},
   "outputs": [],
   "source": [
    "from numpy.random import default_rng\n",
    "from ydata.synthesizers.regular.model import RegularSynthesizer\n",
    "from ydata.metadata import Metadata\n",
    "from ydata.labs import DataSources"
   ]
  },
  {
   "cell_type": "code",
   "execution_count": 2,
   "id": "0e6676d4-c9b3-4c15-abf6-fbddaf235961",
   "metadata": {},
   "outputs": [
    {
     "name": "stdout",
     "output_type": "stream",
     "text": [
      "[########################################] | 100% Completed | 101.76 ms\n",
      "[########################################] | 100% Completed | 315.84 ms\n",
      "[########################################] | 100% Completed | 155.04 ms\n",
      "[########################################] | 100% Completed | 101.83 ms\n",
      "[########################################] | 100% Completed | 2.22 sms\n"
     ]
    }
   ],
   "source": [
    "datasource = DataSources.get(uid='{dasource-uid}')\n",
    "data = datasource.read()\n",
    "df = data.to_pandas()\n",
    "metadata = Metadata(data)"
   ]
  },
  {
   "cell_type": "code",
   "execution_count": 3,
   "id": "d411824d-3c09-4a83-9093-24e80b8f44ec",
   "metadata": {
    "tags": []
   },
   "outputs": [
    {
     "data": {
      "text/html": [
       "<div>\n",
       "<style scoped>\n",
       "    .dataframe tbody tr th:only-of-type {\n",
       "        vertical-align: middle;\n",
       "    }\n",
       "\n",
       "    .dataframe tbody tr th {\n",
       "        vertical-align: top;\n",
       "    }\n",
       "\n",
       "    .dataframe thead th {\n",
       "        text-align: right;\n",
       "    }\n",
       "</style>\n",
       "<table border=\"1\" class=\"dataframe\">\n",
       "  <thead>\n",
       "    <tr style=\"text-align: right;\">\n",
       "      <th></th>\n",
       "      <th>age</th>\n",
       "      <th>workclass</th>\n",
       "      <th>fnlwgt</th>\n",
       "      <th>education</th>\n",
       "      <th>education-num</th>\n",
       "      <th>marital-status</th>\n",
       "      <th>occupation</th>\n",
       "      <th>relationship</th>\n",
       "      <th>race</th>\n",
       "      <th>sex</th>\n",
       "      <th>capital-gain</th>\n",
       "      <th>capital-loss</th>\n",
       "      <th>hours-per-week</th>\n",
       "      <th>native-country</th>\n",
       "      <th>income</th>\n",
       "    </tr>\n",
       "  </thead>\n",
       "  <tbody>\n",
       "    <tr>\n",
       "      <th>0</th>\n",
       "      <td>39</td>\n",
       "      <td>State-gov</td>\n",
       "      <td>77516</td>\n",
       "      <td>Bachelors</td>\n",
       "      <td>13</td>\n",
       "      <td>Never-married</td>\n",
       "      <td>Adm-clerical</td>\n",
       "      <td>Not-in-family</td>\n",
       "      <td>White</td>\n",
       "      <td>Male</td>\n",
       "      <td>2174</td>\n",
       "      <td>0</td>\n",
       "      <td>40</td>\n",
       "      <td>United-States</td>\n",
       "      <td>&lt;=50K</td>\n",
       "    </tr>\n",
       "    <tr>\n",
       "      <th>1</th>\n",
       "      <td>50</td>\n",
       "      <td>Self-emp-not-inc</td>\n",
       "      <td>83311</td>\n",
       "      <td>Bachelors</td>\n",
       "      <td>13</td>\n",
       "      <td>Married-civ-spouse</td>\n",
       "      <td>Exec-managerial</td>\n",
       "      <td>Husband</td>\n",
       "      <td>White</td>\n",
       "      <td>Male</td>\n",
       "      <td>0</td>\n",
       "      <td>0</td>\n",
       "      <td>13</td>\n",
       "      <td>United-States</td>\n",
       "      <td>&lt;=50K</td>\n",
       "    </tr>\n",
       "    <tr>\n",
       "      <th>2</th>\n",
       "      <td>38</td>\n",
       "      <td>Private</td>\n",
       "      <td>215646</td>\n",
       "      <td>HS-grad</td>\n",
       "      <td>9</td>\n",
       "      <td>Divorced</td>\n",
       "      <td>Handlers-cleaners</td>\n",
       "      <td>Not-in-family</td>\n",
       "      <td>White</td>\n",
       "      <td>Male</td>\n",
       "      <td>0</td>\n",
       "      <td>0</td>\n",
       "      <td>40</td>\n",
       "      <td>United-States</td>\n",
       "      <td>&lt;=50K</td>\n",
       "    </tr>\n",
       "    <tr>\n",
       "      <th>3</th>\n",
       "      <td>53</td>\n",
       "      <td>Private</td>\n",
       "      <td>234721</td>\n",
       "      <td>11th</td>\n",
       "      <td>7</td>\n",
       "      <td>Married-civ-spouse</td>\n",
       "      <td>Handlers-cleaners</td>\n",
       "      <td>Husband</td>\n",
       "      <td>Black</td>\n",
       "      <td>Male</td>\n",
       "      <td>0</td>\n",
       "      <td>0</td>\n",
       "      <td>40</td>\n",
       "      <td>United-States</td>\n",
       "      <td>&lt;=50K</td>\n",
       "    </tr>\n",
       "    <tr>\n",
       "      <th>4</th>\n",
       "      <td>28</td>\n",
       "      <td>Private</td>\n",
       "      <td>338409</td>\n",
       "      <td>Bachelors</td>\n",
       "      <td>13</td>\n",
       "      <td>Married-civ-spouse</td>\n",
       "      <td>Prof-specialty</td>\n",
       "      <td>Wife</td>\n",
       "      <td>Black</td>\n",
       "      <td>Female</td>\n",
       "      <td>0</td>\n",
       "      <td>0</td>\n",
       "      <td>40</td>\n",
       "      <td>Cuba</td>\n",
       "      <td>&lt;=50K</td>\n",
       "    </tr>\n",
       "  </tbody>\n",
       "</table>\n",
       "</div>"
      ],
      "text/plain": [
       "   age         workclass  fnlwgt  education  education-num  \\\n",
       "0   39         State-gov   77516  Bachelors             13   \n",
       "1   50  Self-emp-not-inc   83311  Bachelors             13   \n",
       "2   38           Private  215646    HS-grad              9   \n",
       "3   53           Private  234721       11th              7   \n",
       "4   28           Private  338409  Bachelors             13   \n",
       "\n",
       "       marital-status         occupation   relationship   race     sex  \\\n",
       "0       Never-married       Adm-clerical  Not-in-family  White    Male   \n",
       "1  Married-civ-spouse    Exec-managerial        Husband  White    Male   \n",
       "2            Divorced  Handlers-cleaners  Not-in-family  White    Male   \n",
       "3  Married-civ-spouse  Handlers-cleaners        Husband  Black    Male   \n",
       "4  Married-civ-spouse     Prof-specialty           Wife  Black  Female   \n",
       "\n",
       "   capital-gain  capital-loss  hours-per-week native-country income  \n",
       "0          2174             0              40  United-States  <=50K  \n",
       "1             0             0              13  United-States  <=50K  \n",
       "2             0             0              40  United-States  <=50K  \n",
       "3             0             0              40  United-States  <=50K  \n",
       "4             0             0              40           Cuba  <=50K  "
      ]
     },
     "execution_count": 3,
     "metadata": {},
     "output_type": "execute_result"
    }
   ],
   "source": [
    "data.head()"
   ]
  },
  {
   "cell_type": "markdown",
   "id": "1f60671a-5705-4bda-8e27-a30a5980445d",
   "metadata": {},
   "source": [
    "## **Condition upon categorical features**\n",
    "\n",
    "In this first example, we will generate synthetic data conditioned upon two categorical features: native-country and sex. Specifically, we will only generate data for Female people from the United States (60%) and Mexico (40%).\n",
    "\n",
    "We start by defining which features to condition upon when calling the `fit` method."
   ]
  },
  {
   "cell_type": "code",
   "execution_count": 4,
   "id": "73e6d64e-b5fe-4ccc-b7d4-a6760d86cc25",
   "metadata": {},
   "outputs": [
    {
     "name": "stdout",
     "output_type": "stream",
     "text": [
      "INFO: 2023-04-12 11:09:06,629 [SYNTHESIZER] - Number columns considered for synth: 15\n",
      "INFO: 2023-04-12 11:09:06,874 [SYNTHESIZER] - Starting the synthetic data modeling process over 1x1 blocks.\n",
      "INFO: 2023-04-12 11:09:06,876 [SYNTHESIZER] - Preprocess segment\n",
      "INFO: 2023-04-12 11:09:06,878 [SYNTHESIZER] - Synthesizer init.\n",
      "INFO: 2023-04-12 11:09:06,879 [SYNTHESIZER] - Processing the data prior fitting the synthesizer.\n"
     ]
    },
    {
     "data": {
      "text/plain": [
       "<ydata.synthesizers.regular.model.RegularSynthesizer at 0x7f3e6a6ce110>"
      ]
     },
     "execution_count": 4,
     "metadata": {},
     "output_type": "execute_result"
    }
   ],
   "source": [
    "synthesizer = RegularSynthesizer()\n",
    "synthesizer.fit(data, metadata=metadata,\n",
    "                condition_on=[\"sex\", \"native-country\"])"
   ]
  },
  {
   "cell_type": "markdown",
   "id": "da8e9d40-b826-4201-bfe9-656ac7311f90",
   "metadata": {},
   "source": [
    "Afterward, we define the specific conditions when calling the sample method. In this case, we need to define the percentage of representativeness for each of the native countries."
   ]
  },
  {
   "cell_type": "code",
   "execution_count": 5,
   "id": "2d068330-bc2e-454a-97e2-d14c978abc0f",
   "metadata": {},
   "outputs": [
    {
     "name": "stdout",
     "output_type": "stream",
     "text": [
      "INFO: 2023-04-12 11:09:09,783 [SYNTHESIZER] - Start generating model samples.\n"
     ]
    }
   ],
   "source": [
    "synth_df = synthesizer.sample(n_samples=len(data),\n",
    "                              condition_on={\n",
    "                                  \"sex\": {\n",
    "                                      \"categories\": [{\n",
    "                                          \"category\": \"Female\",\n",
    "                                          \"percentage\": 1.0\n",
    "                                      }]\n",
    "                                  },\n",
    "                                  \"native-country\": {\n",
    "                                      \"categories\": [(\"United-States\", 0.6),\n",
    "                                                     (\"Mexico\", 0.4)]\n",
    "                                  }\n",
    "                              }).to_pandas()"
   ]
  },
  {
   "cell_type": "markdown",
   "id": "744080a3-0075-406a-b9e8-c95295e9c7ed",
   "metadata": {},
   "source": [
    "We can now check the percentages of representativeness for each category to validate if the conditions were respected."
   ]
  },
  {
   "cell_type": "code",
   "execution_count": 6,
   "id": "a4799de4-b3f2-4a20-b96e-a9a9e2ee5d26",
   "metadata": {},
   "outputs": [
    {
     "name": "stdout",
     "output_type": "stream",
     "text": [
      "\u001b[1mSex Feature (Synthetic)\n",
      "\u001b[1mFemale = 100%\n",
      "\n",
      "\u001b[1mNative Country Feature (Synthetic)\n",
      "\u001b[1mMexico = 40%\n",
      "\u001b[1mUnited-States = 60%\n"
     ]
    }
   ],
   "source": [
    "print(f'\\033[1mSex Feature (Synthetic)')\n",
    "print(f'\\033[1mFemale = {synth_df[\"sex\"].value_counts(normalize=True)[\"Female\"] * 100:.0f}%\\n')\n",
    "\n",
    "nc_vc = synth_df[\"native-country\"].value_counts(normalize=True)\n",
    "print(f'\\033[1mNative Country Feature (Synthetic)')\n",
    "print(f'\\033[1mMexico = {nc_vc[\"Mexico\"] * 100:.0f}%')\n",
    "print(f'\\033[1mUnited-States = {nc_vc[\"United-States\"] * 100:.0f}%')"
   ]
  },
  {
   "cell_type": "markdown",
   "id": "af638e67-29f3-422b-b729-d4b85374e095",
   "metadata": {},
   "source": [
    "We can also analyze the age mean on the original and synthetic data. When filtering by Female Mexicans, we can see the age obtained from the synthetic data matches the original data."
   ]
  },
  {
   "cell_type": "code",
   "execution_count": 7,
   "id": "472e6d7d-3ae0-4e16-a7df-1954ca3b3ed3",
   "metadata": {
    "tags": []
   },
   "outputs": [
    {
     "name": "stdout",
     "output_type": "stream",
     "text": [
      "\u001b[1mAge Mean (Original - No Filters) = 38.58164675532078\n",
      "\u001b[1mAge Mean (Original - Female Mexicans) = 32.73287671232877\n",
      "\u001b[1mAge Mean (Synthetic - Female Mexicans) = 32.84072160974482\n"
     ]
    }
   ],
   "source": [
    "print(f'\\033[1mAge Mean (Original - No Filters) = {df[\"age\"].mean()}')\n",
    "orig_female_mx = df[(df[\"native-country\"] == \"Mexico\") & (df[\"sex\"] == \"Female\")][\"age\"].mean()\n",
    "print(f'\\033[1mAge Mean (Original - Female Mexicans) = {orig_female_mx}')\n",
    "synth_female = synth_df[synth_df[\"native-country\"] == \"Mexico\"][\"age\"].mean()\n",
    "print(f'\\033[1mAge Mean (Synthetic - Female Mexicans) = {synth_female}')"
   ]
  },
  {
   "cell_type": "markdown",
   "id": "c0f90643-e8d0-4b8b-b48a-c9996d7d9b73",
   "metadata": {},
   "source": [
    "## **Condition upon numerical features**\n",
    "\n",
    "In this second example, we will generate synthetic data conditioned upon the age numerical feature. Specifically, we will only generate data for people aged between 55 and 60 years."
   ]
  },
  {
   "cell_type": "code",
   "execution_count": 8,
   "id": "823a16c8-de9d-4443-b96f-54e795b6fb90",
   "metadata": {},
   "outputs": [
    {
     "name": "stdout",
     "output_type": "stream",
     "text": [
      "INFO: 2023-04-12 11:09:10,837 [SYNTHESIZER] - Number columns considered for synth: 15\n",
      "INFO: 2023-04-12 11:09:11,089 [SYNTHESIZER] - Starting the synthetic data modeling process over 1x1 blocks.\n",
      "INFO: 2023-04-12 11:09:11,092 [SYNTHESIZER] - Preprocess segment\n",
      "INFO: 2023-04-12 11:09:11,095 [SYNTHESIZER] - Synthesizer init.\n",
      "INFO: 2023-04-12 11:09:11,095 [SYNTHESIZER] - Processing the data prior fitting the synthesizer.\n"
     ]
    },
    {
     "data": {
      "text/plain": [
       "<ydata.synthesizers.regular.model.RegularSynthesizer at 0x7f3e48b1cfd0>"
      ]
     },
     "execution_count": 8,
     "metadata": {},
     "output_type": "execute_result"
    }
   ],
   "source": [
    "synthesizer = RegularSynthesizer()\n",
    "synthesizer.fit(data, metadata=metadata,\n",
    "                condition_on=[\"age\"])"
   ]
  },
  {
   "cell_type": "markdown",
   "id": "937b1746-d640-45d6-ac70-e216e899fb65",
   "metadata": {},
   "source": [
    "For the specific conditions, we now define the minimum and maximum values for the age feature."
   ]
  },
  {
   "cell_type": "code",
   "execution_count": 9,
   "id": "d1917a22-b3c1-49fa-a519-82329052eee8",
   "metadata": {},
   "outputs": [
    {
     "name": "stdout",
     "output_type": "stream",
     "text": [
      "INFO: 2023-04-12 11:09:14,450 [SYNTHESIZER] - Start generating model samples.\n"
     ]
    }
   ],
   "source": [
    "synth_df = synthesizer.sample(n_samples=len(data),\n",
    "                              condition_on={\n",
    "                                  \"age\": {\n",
    "                                      \"minimum\": 55,\n",
    "                                      \"maximum\": 60\n",
    "                                  },\n",
    "                              }).to_pandas()"
   ]
  },
  {
   "cell_type": "markdown",
   "id": "b1751f54-af52-41e3-a668-6c3d2f750c12",
   "metadata": {},
   "source": [
    "We can now check the minimum and maximum values for the age feature to validate if the conditions were respected."
   ]
  },
  {
   "cell_type": "code",
   "execution_count": 10,
   "id": "511836d5-31c3-4020-b83e-cdcc15b07d41",
   "metadata": {},
   "outputs": [
    {
     "name": "stdout",
     "output_type": "stream",
     "text": [
      "\u001b[1mAge Min (Synthetic) = 55\n",
      "\u001b[1mAge Max (Synthetic) = 59\n"
     ]
    }
   ],
   "source": [
    "print(f'\\033[1mAge Min (Synthetic) = {synth_df[\"age\"].min()}')\n",
    "print(f'\\033[1mAge Max (Synthetic) = {synth_df[\"age\"].max()}')"
   ]
  },
  {
   "cell_type": "markdown",
   "id": "1a38d655-255f-4971-8b7c-5b9bbaea31ad",
   "metadata": {},
   "source": [
    "We can also analyze the hours-per-week mean on the original and synthetic data. When filtering by the age interval between 55 and 60, we can see that the hours-per-week obtained from the synthetic data matches the original data."
   ]
  },
  {
   "cell_type": "code",
   "execution_count": 11,
   "id": "01f83435-5e04-4ed1-8d3e-4b0619095548",
   "metadata": {
    "tags": []
   },
   "outputs": [
    {
     "name": "stdout",
     "output_type": "stream",
     "text": [
      "\u001b[1mHours Per Week Mean (Original - No Filters) = 40.437455852092995\n",
      "\u001b[1mHours Per Week Mean (Original - Age between 55 and 60) = 41.73299632352941\n",
      "\u001b[1mHours Per Week Mean (Synthetic - Age between 55 and 60) = 41.91311691901355\n"
     ]
    }
   ],
   "source": [
    "print(f'\\033[1mHours Per Week Mean (Original - No Filters) = {df[\"hours-per-week\"].mean()}')\n",
    "orig_age_55_60 = df[(df[\"age\"] >= 55) & (df[\"age\"] <= 60)]\n",
    "print(f'\\033[1mHours Per Week Mean (Original - Age between 55 and 60) = {orig_age_55_60[\"hours-per-week\"].mean()}')\n",
    "print(f'\\033[1mHours Per Week Mean (Synthetic - Age between 55 and 60) = {synth_df[\"hours-per-week\"].mean()}')"
   ]
  },
  {
   "cell_type": "markdown",
   "id": "eeff3fa3-1f43-4d11-bf5b-0ebf323bb4b7",
   "metadata": {},
   "source": [
    "## **Condition upon a Generator function**\n",
    "\n",
    "In this third example, we will generate synthetic data conditioned upon the age feature but using a Generator function. Specifically, we will generate data assuming the age feature follows a normal distribution with a mean of 25 and a standard deviation of 5."
   ]
  },
  {
   "cell_type": "code",
   "execution_count": 12,
   "id": "75f61e0d-749e-4ca7-be34-974af6ff2173",
   "metadata": {},
   "outputs": [
    {
     "name": "stdout",
     "output_type": "stream",
     "text": [
      "INFO: 2023-04-12 11:09:15,326 [SYNTHESIZER] - Number columns considered for synth: 15\n",
      "INFO: 2023-04-12 11:09:15,576 [SYNTHESIZER] - Starting the synthetic data modeling process over 1x1 blocks.\n",
      "INFO: 2023-04-12 11:09:15,579 [SYNTHESIZER] - Preprocess segment\n",
      "INFO: 2023-04-12 11:09:15,582 [SYNTHESIZER] - Synthesizer init.\n",
      "INFO: 2023-04-12 11:09:15,582 [SYNTHESIZER] - Processing the data prior fitting the synthesizer.\n"
     ]
    },
    {
     "data": {
      "text/plain": [
       "<ydata.synthesizers.regular.model.RegularSynthesizer at 0x7f3e48b1d120>"
      ]
     },
     "execution_count": 12,
     "metadata": {},
     "output_type": "execute_result"
    }
   ],
   "source": [
    "synthesizer = RegularSynthesizer()\n",
    "synthesizer.fit(data, metadata=metadata,\n",
    "                condition_on=[\"age\"])"
   ]
  },
  {
   "cell_type": "markdown",
   "id": "89bd5ebd-2e63-42d9-8f03-b86ce8f3273a",
   "metadata": {},
   "source": [
    "After training the synthesizer, we define the Generator function according to the desired condition. This function is then supplied to the `sample` method."
   ]
  },
  {
   "cell_type": "code",
   "execution_count": 13,
   "id": "45af2d38-d152-4f83-b8b7-b04427a66a0d",
   "metadata": {
    "tags": []
   },
   "outputs": [],
   "source": [
    "def generate_age():\n",
    "    yield from default_rng().normal(25, 5, len(data))"
   ]
  },
  {
   "cell_type": "code",
   "execution_count": 14,
   "id": "0210921d-b730-4104-966b-7077346ba252",
   "metadata": {},
   "outputs": [
    {
     "name": "stdout",
     "output_type": "stream",
     "text": [
      "INFO: 2023-04-12 11:09:18,989 [SYNTHESIZER] - Start generating model samples.\n"
     ]
    }
   ],
   "source": [
    "synth_df = synthesizer.sample(n_samples=len(data),\n",
    "                              condition_on={\n",
    "                                  \"age\": {\n",
    "                                      \"function\": generate_age\n",
    "                                  }\n",
    "                              }).to_pandas()"
   ]
  },
  {
   "cell_type": "markdown",
   "id": "0ec415ce-d31e-4d13-ba1d-9da1efb64ccf",
   "metadata": {},
   "source": [
    "We can now check the mean and standard deviation values for the age feature to validate if the conditions were respected."
   ]
  },
  {
   "cell_type": "code",
   "execution_count": 15,
   "id": "7e41c2f4-12bc-49d5-99f5-662203ba3fd3",
   "metadata": {
    "tags": []
   },
   "outputs": [
    {
     "name": "stdout",
     "output_type": "stream",
     "text": [
      "\u001b[1mAge Mean (Synthetic) = 24.627499155431344\n",
      "\u001b[1mAge Standard Deviation (Synthetic) = 4.73635677167138\n"
     ]
    }
   ],
   "source": [
    "print(f'\\033[1mAge Mean (Synthetic) = {synth_df[\"age\"].mean()}')\n",
    "print(f'\\033[1mAge Standard Deviation (Synthetic) = {synth_df[\"age\"].std()}')"
   ]
  },
  {
   "cell_type": "markdown",
   "id": "70bd6de4-bcef-48ea-8724-7334f55ef324",
   "metadata": {},
   "source": [
    "We can also analyze the hours-per-week mean on the original and synthetic data. As expected, the synthetic data presents a lower mean (according to the dataset, younger people work fewer hours per week)."
   ]
  },
  {
   "cell_type": "code",
   "execution_count": 16,
   "id": "f0e4c3df-d71c-4a73-9cdb-4d02e2869013",
   "metadata": {
    "tags": []
   },
   "outputs": [
    {
     "name": "stdout",
     "output_type": "stream",
     "text": [
      "\u001b[1mHours Per Week Mean (Original) = 40.437455852092995\n",
      "\u001b[1mHours Per Week Mean (Synthetic) = 37.421731519302234\n"
     ]
    }
   ],
   "source": [
    "print(f'\\033[1mHours Per Week Mean (Original) = {df[\"hours-per-week\"].mean()}')\n",
    "print(f'\\033[1mHours Per Week Mean (Synthetic) = {synth_df[\"hours-per-week\"].mean()}')"
   ]
  }
 ],
 "metadata": {
  "kernelspec": {
   "display_name": "Python 3 (ipykernel)",
   "language": "python",
   "name": "python3"
  },
  "language_info": {
   "codemirror_mode": {
    "name": "ipython",
    "version": 3
   },
   "file_extension": ".py",
   "mimetype": "text/x-python",
   "name": "python",
   "nbconvert_exporter": "python",
   "pygments_lexer": "ipython3",
   "version": "3.10.13"
  }
 },
 "nbformat": 4,
 "nbformat_minor": 5
}
