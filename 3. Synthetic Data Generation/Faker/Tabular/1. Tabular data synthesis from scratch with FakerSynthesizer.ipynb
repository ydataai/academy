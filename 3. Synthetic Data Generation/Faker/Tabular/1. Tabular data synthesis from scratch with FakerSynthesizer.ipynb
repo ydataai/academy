{
 "cells": [
  {
   "cell_type": "markdown",
   "id": "34c6874e-f559-45d4-8347-0a43138f3850",
   "metadata": {},
   "source": [
    "# Generate data from scratch - bootstrap your data\n",
    "\n",
    "This Notebook introduces the concept and methodology of data bootstrapping using YData Fabric. Data bootstrapping is an essential technique for enhancing the robustness and variability of your data, even if you have access or even real data available. Through practical code examples, you will learn how to generate synthetic datasets from scratch. This process is invaluable for building test cases, software development environment, hipothesis testing and privacy-preserving data sharing. \n",
    "\n",
    "By the end of this notebook, you'll be equipped with the tools to implement data bootstrapping in your own projects, ensuring you can derive meaningful insights even from minimal or skewed data sources."
   ]
  },
  {
   "cell_type": "markdown",
   "id": "0b9a7690-1166-4957-b446-576da9eae18c",
   "metadata": {
    "tags": []
   },
   "source": [
    "### Leverage Metadata to generate new test data\n",
    "\n",
    "YData Fabric **FakeSynthesizer** leverages the concept of Metadata to automate as much as possible the synthetic data generation. What does this mean? The **FakerSynthesizer** leverages your knowledge on the business expectations for the data, like variabletype (float, int, text, etc.) as well as distributions, formats and behaviours (is it expected to have missing data?) in order to generate new data records even if you have no access or real data available. \n",
    "\n",
    "For purposes of demo in this notebook we will be using the Metadata from an existing dataset, but you are able to create and provide your own Metadata."
   ]
  },
  {
   "cell_type": "code",
   "execution_count": null,
   "id": "b5f11e97-960d-4121-baa0-8cd44fb42a8b",
   "metadata": {
    "tags": []
   },
   "outputs": [],
   "source": [
    "# Importing YData's packages\n",
    "from ydata.labs import DataSources\n",
    "# Reading the Dataset from the DataSource\n",
    "datasource = DataSources.get(uid='9984f231-f795-453a-93d7-cabc58f3ea75', namespace='b9efe5f3-b8ae-4d4d-8ea6-209ddffc5bbc')\n",
    "dataset = datasource.dataset\n",
    "# Getting the calculated Metadata to get the profile overview information in the labs\n",
    "metadata = datasource.metadata\n",
    "print(metadata)"
   ]
  },
  {
   "cell_type": "markdown",
   "id": "5a6d8648-8a06-486a-9016-9b0df9358ca9",
   "metadata": {},
   "source": [
    "## Generate Synthetic data with Fabric FakerSynthesizer"
   ]
  },
  {
   "cell_type": "code",
   "execution_count": null,
   "id": "5d1c0926-3182-4c56-9561-1d9455fe2650",
   "metadata": {
    "tags": []
   },
   "outputs": [],
   "source": [
    "from ydata.synthesizers.faker.model import FakerSynthesizer\n",
    "\n",
    "synth = FakerSynthesizer()\n",
    "\n",
    "#fit your faker synthesizer to the desired Metadata\n",
    "synth.fit(metadata=metadata)"
   ]
  },
  {
   "cell_type": "markdown",
   "id": "ca7be1d4-7d73-4a67-ab63-bf512d85368e",
   "metadata": {},
   "source": [
    "### Generate new data samples"
   ]
  },
  {
   "cell_type": "code",
   "execution_count": null,
   "id": "99c5dbaa-8da8-4731-8d41-768e61a17516",
   "metadata": {},
   "outputs": [],
   "source": [
    "sample = synth.sample(1000)"
   ]
  },
  {
   "cell_type": "code",
   "execution_count": null,
   "id": "f4f328c4-6064-4d36-b95c-0c17a2938baf",
   "metadata": {},
   "outputs": [],
   "source": [
    "sample.head()"
   ]
  },
  {
   "cell_type": "markdown",
   "id": "7982ea92-fc42-4ba7-aa47-5f937eaf62ce",
   "metadata": {},
   "source": [
    "### Save your Synthesizer for later usage"
   ]
  },
  {
   "cell_type": "code",
   "execution_count": null,
   "id": "da93e709-661c-45c8-90ce-b35af436c382",
   "metadata": {},
   "outputs": [],
   "source": [
    "synth.save('synth.pkl')"
   ]
  }
 ],
 "metadata": {
  "kernelspec": {
   "display_name": "Python 3 (ipykernel)",
   "language": "python",
   "name": "python3"
  },
  "language_info": {
   "codemirror_mode": {
    "name": "ipython",
    "version": 3
   },
   "file_extension": ".py",
   "mimetype": "text/x-python",
   "name": "python",
   "nbconvert_exporter": "python",
   "pygments_lexer": "ipython3",
   "version": "3.10.12"
  }
 },
 "nbformat": 4,
 "nbformat_minor": 5
}
