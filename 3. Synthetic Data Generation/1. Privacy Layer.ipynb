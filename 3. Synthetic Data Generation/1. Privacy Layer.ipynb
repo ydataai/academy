{
 "cells": [
  {
   "cell_type": "markdown",
   "id": "46805f4c-18b4-4048-b1cb-e02d930e5a90",
   "metadata": {},
   "source": [
    "# **YData Synthetic Data generation privacy controls**\n",
    "\n",
    "YData synthesizers now offer a privacy layer that can provide differential privacy to the end-user by selecting one of three levels:\n",
    "- High fidelity - the default behavior, which leads to synthetic data with higher fidelity/utility and less privacy.\n",
    "- High privacy - enables the generation of synthetic data with higher privacy, accepting a loss of fidelity and utility.\n",
    "- Balanced fidelity/privacy - tries to find a balance between high fidelity, utility, and privacy, aiming to reach good enough results in all three settings.\n",
    "\n",
    "This notebook describes how to use the privacy layer with the regular synthesizer. The same logic here explained can be equally applied to the time series synthesizer.\n",
    "\n",
    "We will use the Breast Cancer Wisconsin dataset to demonstrate how to take advantage of the privacy layer. This dataset contains computed features from a digitized image of a fine needle aspirate (FNA) of several breast masses. Each row has the diagnosis (M for malignant and B for benign) and 32 real-valued features computed for the cell nuclei. The diagnosis is the dataset target."
   ]
  },
  {
   "cell_type": "code",
   "execution_count": 11,
   "id": "dab24009-9b6b-4c36-8b4a-87fa0c64f6a7",
   "metadata": {},
   "outputs": [],
   "source": [
    "from ydata.synthesizers.regular.model import RegularSynthesizer\n",
    "from ydata.metadata import Metadata\n",
    "from ydata.dataset import Dataset\n",
    "from ydata.labs import DataSources\n",
    "from ydata.report import SyntheticDataProfile\n",
    "from ydata.report.reports.report_type import ReportType\n",
    "from ydata.synthesizers.privacy import PrivacyLevel"
   ]
  },
  {
   "cell_type": "code",
   "execution_count": 12,
   "id": "5ff57fcf-aaa9-49f6-8f12-ea0efe78ce1b",
   "metadata": {},
   "outputs": [
    {
     "name": "stdout",
     "output_type": "stream",
     "text": [
      "[########################################] | 100% Completed | 103.85 ms\n",
      "[########################################] | 100% Completed | 104.14 ms\n",
      "[########################################] | 100% Completed | 419.92 ms\n",
      "[########################################] | 100% Completed | 103.60 ms\n",
      "[########################################] | 100% Completed | 2.11 sms\n"
     ]
    }
   ],
   "source": [
    "datasource = DataSources.get(uid='{dasource-uid}')\n",
    "data = datasource.read()\n",
    "data = data.drop_columns(columns=[\"id\"])\n",
    "metadata = Metadata(data)\n",
    "_target = \"diagnosis\""
   ]
  },
  {
   "cell_type": "code",
   "execution_count": 13,
   "id": "0487b44d-d6e4-4688-9f4a-1ddf337259bb",
   "metadata": {},
   "outputs": [
    {
     "data": {
      "text/html": [
       "<div>\n",
       "<style scoped>\n",
       "    .dataframe tbody tr th:only-of-type {\n",
       "        vertical-align: middle;\n",
       "    }\n",
       "\n",
       "    .dataframe tbody tr th {\n",
       "        vertical-align: top;\n",
       "    }\n",
       "\n",
       "    .dataframe thead th {\n",
       "        text-align: right;\n",
       "    }\n",
       "</style>\n",
       "<table border=\"1\" class=\"dataframe\">\n",
       "  <thead>\n",
       "    <tr style=\"text-align: right;\">\n",
       "      <th></th>\n",
       "      <th>diagnosis</th>\n",
       "      <th>radius_mean</th>\n",
       "      <th>texture_mean</th>\n",
       "      <th>perimeter_mean</th>\n",
       "      <th>area_mean</th>\n",
       "      <th>smoothness_mean</th>\n",
       "      <th>compactness_mean</th>\n",
       "      <th>concavity_mean</th>\n",
       "      <th>concave points_mean</th>\n",
       "      <th>symmetry_mean</th>\n",
       "      <th>...</th>\n",
       "      <th>radius_worst</th>\n",
       "      <th>texture_worst</th>\n",
       "      <th>perimeter_worst</th>\n",
       "      <th>area_worst</th>\n",
       "      <th>smoothness_worst</th>\n",
       "      <th>compactness_worst</th>\n",
       "      <th>concavity_worst</th>\n",
       "      <th>concave points_worst</th>\n",
       "      <th>symmetry_worst</th>\n",
       "      <th>fractal_dimension_worst</th>\n",
       "    </tr>\n",
       "  </thead>\n",
       "  <tbody>\n",
       "    <tr>\n",
       "      <th>0</th>\n",
       "      <td>M</td>\n",
       "      <td>17.99</td>\n",
       "      <td>10.38</td>\n",
       "      <td>122.80</td>\n",
       "      <td>1001.0</td>\n",
       "      <td>0.11840</td>\n",
       "      <td>0.27760</td>\n",
       "      <td>0.3001</td>\n",
       "      <td>0.14710</td>\n",
       "      <td>0.2419</td>\n",
       "      <td>...</td>\n",
       "      <td>25.38</td>\n",
       "      <td>17.33</td>\n",
       "      <td>184.60</td>\n",
       "      <td>2019.0</td>\n",
       "      <td>0.1622</td>\n",
       "      <td>0.6656</td>\n",
       "      <td>0.7119</td>\n",
       "      <td>0.2654</td>\n",
       "      <td>0.4601</td>\n",
       "      <td>0.11890</td>\n",
       "    </tr>\n",
       "    <tr>\n",
       "      <th>1</th>\n",
       "      <td>M</td>\n",
       "      <td>20.57</td>\n",
       "      <td>17.77</td>\n",
       "      <td>132.90</td>\n",
       "      <td>1326.0</td>\n",
       "      <td>0.08474</td>\n",
       "      <td>0.07864</td>\n",
       "      <td>0.0869</td>\n",
       "      <td>0.07017</td>\n",
       "      <td>0.1812</td>\n",
       "      <td>...</td>\n",
       "      <td>24.99</td>\n",
       "      <td>23.41</td>\n",
       "      <td>158.80</td>\n",
       "      <td>1956.0</td>\n",
       "      <td>0.1238</td>\n",
       "      <td>0.1866</td>\n",
       "      <td>0.2416</td>\n",
       "      <td>0.1860</td>\n",
       "      <td>0.2750</td>\n",
       "      <td>0.08902</td>\n",
       "    </tr>\n",
       "    <tr>\n",
       "      <th>2</th>\n",
       "      <td>M</td>\n",
       "      <td>19.69</td>\n",
       "      <td>21.25</td>\n",
       "      <td>130.00</td>\n",
       "      <td>1203.0</td>\n",
       "      <td>0.10960</td>\n",
       "      <td>0.15990</td>\n",
       "      <td>0.1974</td>\n",
       "      <td>0.12790</td>\n",
       "      <td>0.2069</td>\n",
       "      <td>...</td>\n",
       "      <td>23.57</td>\n",
       "      <td>25.53</td>\n",
       "      <td>152.50</td>\n",
       "      <td>1709.0</td>\n",
       "      <td>0.1444</td>\n",
       "      <td>0.4245</td>\n",
       "      <td>0.4504</td>\n",
       "      <td>0.2430</td>\n",
       "      <td>0.3613</td>\n",
       "      <td>0.08758</td>\n",
       "    </tr>\n",
       "    <tr>\n",
       "      <th>3</th>\n",
       "      <td>M</td>\n",
       "      <td>11.42</td>\n",
       "      <td>20.38</td>\n",
       "      <td>77.58</td>\n",
       "      <td>386.1</td>\n",
       "      <td>0.14250</td>\n",
       "      <td>0.28390</td>\n",
       "      <td>0.2414</td>\n",
       "      <td>0.10520</td>\n",
       "      <td>0.2597</td>\n",
       "      <td>...</td>\n",
       "      <td>14.91</td>\n",
       "      <td>26.50</td>\n",
       "      <td>98.87</td>\n",
       "      <td>567.7</td>\n",
       "      <td>0.2098</td>\n",
       "      <td>0.8663</td>\n",
       "      <td>0.6869</td>\n",
       "      <td>0.2575</td>\n",
       "      <td>0.6638</td>\n",
       "      <td>0.17300</td>\n",
       "    </tr>\n",
       "    <tr>\n",
       "      <th>4</th>\n",
       "      <td>M</td>\n",
       "      <td>20.29</td>\n",
       "      <td>14.34</td>\n",
       "      <td>135.10</td>\n",
       "      <td>1297.0</td>\n",
       "      <td>0.10030</td>\n",
       "      <td>0.13280</td>\n",
       "      <td>0.1980</td>\n",
       "      <td>0.10430</td>\n",
       "      <td>0.1809</td>\n",
       "      <td>...</td>\n",
       "      <td>22.54</td>\n",
       "      <td>16.67</td>\n",
       "      <td>152.20</td>\n",
       "      <td>1575.0</td>\n",
       "      <td>0.1374</td>\n",
       "      <td>0.2050</td>\n",
       "      <td>0.4000</td>\n",
       "      <td>0.1625</td>\n",
       "      <td>0.2364</td>\n",
       "      <td>0.07678</td>\n",
       "    </tr>\n",
       "  </tbody>\n",
       "</table>\n",
       "<p>5 rows × 31 columns</p>\n",
       "</div>"
      ],
      "text/plain": [
       "  diagnosis  radius_mean  texture_mean  perimeter_mean  area_mean  \\\n",
       "0         M        17.99         10.38          122.80     1001.0   \n",
       "1         M        20.57         17.77          132.90     1326.0   \n",
       "2         M        19.69         21.25          130.00     1203.0   \n",
       "3         M        11.42         20.38           77.58      386.1   \n",
       "4         M        20.29         14.34          135.10     1297.0   \n",
       "\n",
       "   smoothness_mean  compactness_mean  concavity_mean  concave points_mean  \\\n",
       "0          0.11840           0.27760          0.3001              0.14710   \n",
       "1          0.08474           0.07864          0.0869              0.07017   \n",
       "2          0.10960           0.15990          0.1974              0.12790   \n",
       "3          0.14250           0.28390          0.2414              0.10520   \n",
       "4          0.10030           0.13280          0.1980              0.10430   \n",
       "\n",
       "   symmetry_mean  ...  radius_worst  texture_worst  perimeter_worst  \\\n",
       "0         0.2419  ...         25.38          17.33           184.60   \n",
       "1         0.1812  ...         24.99          23.41           158.80   \n",
       "2         0.2069  ...         23.57          25.53           152.50   \n",
       "3         0.2597  ...         14.91          26.50            98.87   \n",
       "4         0.1809  ...         22.54          16.67           152.20   \n",
       "\n",
       "   area_worst  smoothness_worst  compactness_worst  concavity_worst  \\\n",
       "0      2019.0            0.1622             0.6656           0.7119   \n",
       "1      1956.0            0.1238             0.1866           0.2416   \n",
       "2      1709.0            0.1444             0.4245           0.4504   \n",
       "3       567.7            0.2098             0.8663           0.6869   \n",
       "4      1575.0            0.1374             0.2050           0.4000   \n",
       "\n",
       "   concave points_worst  symmetry_worst  fractal_dimension_worst  \n",
       "0                0.2654          0.4601                  0.11890  \n",
       "1                0.1860          0.2750                  0.08902  \n",
       "2                0.2430          0.3613                  0.08758  \n",
       "3                0.2575          0.6638                  0.17300  \n",
       "4                0.1625          0.2364                  0.07678  \n",
       "\n",
       "[5 rows x 31 columns]"
      ]
     },
     "execution_count": 13,
     "metadata": {},
     "output_type": "execute_result"
    }
   ],
   "source": [
    "data.head()"
   ]
  },
  {
   "cell_type": "markdown",
   "id": "756b950a-652c-41bb-beb8-2cb6942c3e58",
   "metadata": {
    "tags": []
   },
   "source": [
    "## **High Fidelity**\n",
    "\n",
    "The synthesizer has a parameter named `privacy_level`, which is optional and defaults to the high-fidelity setting. Nevertheless, we can also explicitly specify this level. We just have to import the `PrivacyLevel` enumeration and chose the `HIGH_FIDELITY` option."
   ]
  },
  {
   "cell_type": "code",
   "execution_count": 14,
   "id": "17428366-037f-44c2-8d90-e48e59241b8d",
   "metadata": {},
   "outputs": [
    {
     "name": "stdout",
     "output_type": "stream",
     "text": [
      "INFO: 2023-04-11 10:06:35,092 [SYNTHESIZER] - Number columns considered for synth: 31\n",
      "INFO: 2023-04-11 10:06:35,749 [SYNTHESIZER] - Starting the synthetic data modeling process over 1x1 blocks.\n",
      "INFO: 2023-04-11 10:06:35,752 [SYNTHESIZER] - Preprocess segment\n",
      "INFO: 2023-04-11 10:06:35,759 [SYNTHESIZER] - Synthesizer init.\n",
      "INFO: 2023-04-11 10:06:35,760 [SYNTHESIZER] - Processing the data prior fitting the synthesizer.\n",
      "INFO: 2023-04-11 10:06:37,468 [SYNTHESIZER] - Start generating model samples.\n"
     ]
    }
   ],
   "source": [
    "synthesizer = RegularSynthesizer()\n",
    "synthesizer.fit(data, metadata=metadata, privacy_level=PrivacyLevel.HIGH_FIDELITY)\n",
    "holdout_dataset = Dataset(synthesizer._holdout._data.compute())\n",
    "train_dataset = Dataset(synthesizer._holdout._train_data.compute())\n",
    "synthetic_dataset = synthesizer.sample(n_samples=len(holdout_dataset))"
   ]
  },
  {
   "cell_type": "code",
   "execution_count": 15,
   "id": "9b30bca2-53aa-41a3-bcb4-ad69bd8d2f8c",
   "metadata": {},
   "outputs": [
    {
     "name": "stdout",
     "output_type": "stream",
     "text": [
      "INFO: 2023-04-11 10:06:38,497 [PROFILEREPORT] - Starting metrics calculation.\n",
      "INFO: 2023-04-11 10:06:38,613 [PROFILEREPORT] - Synthetic data quality report selected target variable: diagnosis\n",
      "INFO: 2023-04-11 10:06:38,614 [PROFILEREPORT] - preparing data format.\n",
      "INFO: 2023-04-11 10:06:38,837 [PROFILEREPORT] - Preparing the data for metrics calculation\n",
      "INFO: 2023-04-11 10:06:38,946 [PROFILEREPORT] - Calculating privacy metrics.\n",
      "INFO: 2023-04-11 10:06:38,955 [PROFILEREPORT] - Calculating metric [Exact Matches].\n",
      "INFO: 2023-04-11 10:06:38,961 [PROFILEREPORT] - Metric [Exact Matches] took 0.00s.\n",
      "INFO: 2023-04-11 10:06:38,965 [PROFILEREPORT] - Calculating metric [Neighbours Privacy].\n",
      "INFO: 2023-04-11 10:06:38,975 [PROFILEREPORT] - Metric [Neighbours Privacy] took 0.01s.\n",
      "INFO: 2023-04-11 10:06:38,979 [PROFILEREPORT] - Calculating metric [Identifiability].\n",
      "INFO: 2023-04-11 10:06:38,992 [PROFILEREPORT] - Metric [Identifiability] took 0.01s.\n",
      "INFO: 2023-04-11 10:06:38,999 [PROFILEREPORT] - Calculating metric [Membership Inference Score].\n",
      "INFO: 2023-04-11 10:06:39,000 [PROFILEREPORT] - Membership Disclosure Score sample size was reduce to match the dataset with size 114.\n",
      "INFO: 2023-04-11 10:06:39,009 [PROFILEREPORT] - Metric [Membership Inference Score] took 0.01s.\n",
      "INFO: 2023-04-11 10:06:39,010 [PROFILEREPORT] - Calculating fidelity metrics.\n",
      "INFO: 2023-04-11 10:06:39,015 [PROFILEREPORT] - Calculating metric [Correlation Similarity].\n",
      "INFO: 2023-04-11 10:06:39,583 [PROFILEREPORT] - Metric [Correlation Similarity] took 0.57s.\n",
      "INFO: 2023-04-11 10:06:39,586 [PROFILEREPORT] - Calculating metric [Distance Distribution].\n",
      "INFO: 2023-04-11 10:06:39,607 [PROFILEREPORT] - Metric [Distance Distribution] took 0.02s.\n",
      "INFO: 2023-04-11 10:06:39,610 [PROFILEREPORT] - Calculating metric [Statistical Similarity].\n",
      "INFO: 2023-04-11 10:06:39,634 [PROFILEREPORT] - Metric [Statistical Similarity] took 0.02s.\n",
      "INFO: 2023-04-11 10:06:39,637 [PROFILEREPORT] - Calculating metric [Category Coverage].\n",
      "INFO: 2023-04-11 10:06:39,644 [PROFILEREPORT] - Metric [Category Coverage] took 0.00s.\n",
      "INFO: 2023-04-11 10:06:39,648 [PROFILEREPORT] - Calculating metric [Missing Category Coverage].\n",
      "INFO: 2023-04-11 10:06:39,659 [PROFILEREPORT] - Metric [Missing Category Coverage] took 0.01s.\n",
      "INFO: 2023-04-11 10:06:39,665 [PROFILEREPORT] - Calculating metric [Range Coverage].\n",
      "INFO: 2023-04-11 10:06:39,676 [PROFILEREPORT] - Metric [Range Coverage] took 0.01s.\n",
      "INFO: 2023-04-11 10:06:39,679 [PROFILEREPORT] - Calculating metric [Kolmogorov-Smirnov Test].\n",
      "INFO: 2023-04-11 10:06:39,704 [PROFILEREPORT] - Metric [Kolmogorov-Smirnov Test] took 0.02s.\n",
      "INFO: 2023-04-11 10:06:39,713 [PROFILEREPORT] - Calculating metric [Chi-Squared Test].\n",
      "INFO: 2023-04-11 10:06:39,724 [PROFILEREPORT] - Metric [Chi-Squared Test] took 0.01s.\n",
      "INFO: 2023-04-11 10:06:39,727 [PROFILEREPORT] - Calculating metric [Missing Values Similarity].\n",
      "INFO: 2023-04-11 10:06:39,728 [PROFILEREPORT] - Metric [Missing Values Similarity] took 0.00s.\n",
      "INFO: 2023-04-11 10:06:39,731 [PROFILEREPORT] - Calculating metric [Mutual Information].\n",
      "INFO: 2023-04-11 10:06:43,137 [PROFILEREPORT] - Metric [Mutual Information] took 3.41s.\n",
      "INFO: 2023-04-11 10:06:43,140 [PROFILEREPORT] - Calculating metric [Dimensionality Reduction].\n",
      "INFO: 2023-04-11 10:06:43,291 [PROFILEREPORT] - Metric [Dimensionality Reduction] took 0.15s.\n",
      "INFO: 2023-04-11 10:06:43,305 [PROFILEREPORT] - Calculating metric [Synthetic Classifier].\n",
      "INFO: 2023-04-11 10:06:43,641 [PROFILEREPORT] - Metric [Synthetic Classifier] took 0.33s.\n",
      "INFO: 2023-04-11 10:06:43,642 [PROFILEREPORT] - Calculating utility metrics.\n",
      "INFO: 2023-04-11 10:06:43,648 [PROFILEREPORT] - Calculating metric [QScore].\n",
      "INFO: 2023-04-11 10:06:46,665 [PROFILEREPORT] - Metric [QScore] took 3.00s.\n",
      "INFO: 2023-04-11 10:06:46,667 [PROFILEREPORT] - Calculating metric [Train on Synthetic Test on Real].\n",
      "INFO: 2023-04-11 10:06:48,747 [PROFILEREPORT] - Metric [Train on Synthetic Test on Real] took 2.08s.\n",
      "INFO: 2023-04-11 10:06:48,750 [PROFILEREPORT] - Calculating metric [Feature Importance].\n",
      "INFO: 2023-04-11 10:06:50,966 [PROFILEREPORT] - Metric [Feature Importance] took 2.21s.\n",
      "WARNING: 2023-04-11 10:06:50,999 Ignored `pointer-events: none` at 293:3, unknown property.\n",
      "WARNING: 2023-04-11 10:06:51,002 Ignored `transform: rotate(0deg)` at 303:3, invalid value.\n",
      "WARNING: 2023-04-11 10:06:51,004 Ignored `box-shadow: 0px 0px 4px rgba(26, 28, 32, 0.25)` at 316:3, unknown property.\n",
      "WARNING: 2023-04-11 10:06:51,006 Ignored `pointer-events: none` at 328:3, unknown property.\n",
      "WARNING: 2023-04-11 10:06:51,008 Ignored `inset: 0` at 337:3, unknown property.\n",
      "WARNING: 2023-04-11 10:06:51,010 Ignored `transform: rotate(0deg)` at 340:3, invalid value.\n"
     ]
    }
   ],
   "source": [
    "%%capture\n",
    "data_types = {k: v.datatype for k, v in metadata.columns.items()}\n",
    "sdf = SyntheticDataProfile(real=holdout_dataset,\n",
    "                           synth=synthetic_dataset,\n",
    "                           metadata=metadata,\n",
    "                           report_type=ReportType.TABULAR,\n",
    "                           target=_target,\n",
    "                           data_types=data_types,\n",
    "                           training_data=train_dataset)\n",
    "summary_metrics = sdf.get_summary()"
   ]
  },
  {
   "cell_type": "code",
   "execution_count": 16,
   "id": "d1a3cfe2-f65a-49f6-add4-55740637df81",
   "metadata": {},
   "outputs": [
    {
     "name": "stdout",
     "output_type": "stream",
     "text": [
      "\u001b[1mHIGH_FIDELITY\n",
      "\u001b[1mFidelity: 0.87\n",
      "\u001b[1mUtility: 0.70\n",
      "\u001b[1mPrivacy: 0.58\n"
     ]
    }
   ],
   "source": [
    "print(f\"\\033[1m{PrivacyLevel.HIGH_FIDELITY.name}\")\n",
    "print(f\"\\033[1mFidelity: {summary_metrics['fidelity']:.2f}\")\n",
    "print(f\"\\033[1mUtility: {summary_metrics['utility']:.2f}\")\n",
    "print(f\"\\033[1mPrivacy: {summary_metrics['privacy']:.2f}\")"
   ]
  },
  {
   "cell_type": "markdown",
   "id": "53790dda-a606-467c-b79c-997904fbab72",
   "metadata": {},
   "source": [
    "## **High Privacy**\n",
    "\n",
    "To achieve high privacy, the `privacy_level` parameter must be defined with the `HIGH_PRIVACY` option of the `PrivacyLevel` enumeration."
   ]
  },
  {
   "cell_type": "code",
   "execution_count": 17,
   "id": "b5487e96-0298-4e02-bcc0-3ae1efe7626d",
   "metadata": {},
   "outputs": [
    {
     "name": "stdout",
     "output_type": "stream",
     "text": [
      "INFO: 2023-04-11 10:06:52,838 [SYNTHESIZER] - Number columns considered for synth: 31\n",
      "INFO: 2023-04-11 10:07:13,238 [SYNTHESIZER] - Starting the synthetic data modeling process over 1x1 blocks.\n",
      "INFO: 2023-04-11 10:07:13,242 [SYNTHESIZER] - Preprocess segment\n",
      "INFO: 2023-04-11 10:07:13,249 [SYNTHESIZER] - Synthesizer init.\n",
      "INFO: 2023-04-11 10:07:13,250 [SYNTHESIZER] - Processing the data prior fitting the synthesizer.\n",
      "INFO: 2023-04-11 10:07:14,740 [SYNTHESIZER] - Start generating model samples.\n"
     ]
    }
   ],
   "source": [
    "synthesizer = RegularSynthesizer()\n",
    "synthesizer.fit(data, metadata=metadata, privacy_level=PrivacyLevel.HIGH_PRIVACY)\n",
    "holdout_dataset = Dataset(synthesizer._holdout._data.compute())\n",
    "train_dataset = Dataset(synthesizer._holdout._train_data.compute())\n",
    "synthetic_dataset = synthesizer.sample(n_samples=len(holdout_dataset))"
   ]
  },
  {
   "cell_type": "code",
   "execution_count": 18,
   "id": "ea614bc7-ad55-414f-af86-33253aef033a",
   "metadata": {},
   "outputs": [
    {
     "name": "stdout",
     "output_type": "stream",
     "text": [
      "INFO: 2023-04-11 10:07:15,968 [PROFILEREPORT] - Starting metrics calculation.\n",
      "INFO: 2023-04-11 10:07:16,090 [PROFILEREPORT] - Synthetic data quality report selected target variable: diagnosis\n",
      "INFO: 2023-04-11 10:07:16,091 [PROFILEREPORT] - preparing data format.\n",
      "INFO: 2023-04-11 10:07:16,278 [PROFILEREPORT] - Preparing the data for metrics calculation\n",
      "INFO: 2023-04-11 10:07:16,418 [PROFILEREPORT] - Calculating privacy metrics.\n",
      "INFO: 2023-04-11 10:07:16,423 [PROFILEREPORT] - Calculating metric [Exact Matches].\n",
      "INFO: 2023-04-11 10:07:16,431 [PROFILEREPORT] - Metric [Exact Matches] took 0.01s.\n",
      "INFO: 2023-04-11 10:07:16,434 [PROFILEREPORT] - Calculating metric [Neighbours Privacy].\n",
      "INFO: 2023-04-11 10:07:16,444 [PROFILEREPORT] - Metric [Neighbours Privacy] took 0.01s.\n",
      "INFO: 2023-04-11 10:07:16,448 [PROFILEREPORT] - Calculating metric [Identifiability].\n",
      "INFO: 2023-04-11 10:07:16,458 [PROFILEREPORT] - Metric [Identifiability] took 0.01s.\n",
      "INFO: 2023-04-11 10:07:16,471 [PROFILEREPORT] - Calculating metric [Membership Inference Score].\n",
      "INFO: 2023-04-11 10:07:16,472 [PROFILEREPORT] - Membership Disclosure Score sample size was reduce to match the dataset with size 114.\n",
      "INFO: 2023-04-11 10:07:16,490 [PROFILEREPORT] - Metric [Membership Inference Score] took 0.02s.\n",
      "INFO: 2023-04-11 10:07:16,491 [PROFILEREPORT] - Calculating fidelity metrics.\n",
      "INFO: 2023-04-11 10:07:16,495 [PROFILEREPORT] - Calculating metric [Correlation Similarity].\n",
      "INFO: 2023-04-11 10:07:17,140 [PROFILEREPORT] - Metric [Correlation Similarity] took 0.64s.\n",
      "INFO: 2023-04-11 10:07:17,143 [PROFILEREPORT] - Calculating metric [Distance Distribution].\n",
      "INFO: 2023-04-11 10:07:17,168 [PROFILEREPORT] - Metric [Distance Distribution] took 0.02s.\n",
      "INFO: 2023-04-11 10:07:17,172 [PROFILEREPORT] - Calculating metric [Statistical Similarity].\n",
      "INFO: 2023-04-11 10:07:17,225 [PROFILEREPORT] - Metric [Statistical Similarity] took 0.05s.\n",
      "INFO: 2023-04-11 10:07:17,229 [PROFILEREPORT] - Calculating metric [Category Coverage].\n",
      "INFO: 2023-04-11 10:07:17,247 [PROFILEREPORT] - Metric [Category Coverage] took 0.02s.\n",
      "INFO: 2023-04-11 10:07:17,258 [PROFILEREPORT] - Calculating metric [Missing Category Coverage].\n",
      "INFO: 2023-04-11 10:07:17,284 [PROFILEREPORT] - Metric [Missing Category Coverage] took 0.02s.\n",
      "INFO: 2023-04-11 10:07:17,291 [PROFILEREPORT] - Calculating metric [Range Coverage].\n",
      "INFO: 2023-04-11 10:07:17,302 [PROFILEREPORT] - Metric [Range Coverage] took 0.01s.\n",
      "INFO: 2023-04-11 10:07:17,307 [PROFILEREPORT] - Calculating metric [Kolmogorov-Smirnov Test].\n",
      "INFO: 2023-04-11 10:07:17,336 [PROFILEREPORT] - Metric [Kolmogorov-Smirnov Test] took 0.03s.\n",
      "INFO: 2023-04-11 10:07:17,340 [PROFILEREPORT] - Calculating metric [Chi-Squared Test].\n",
      "INFO: 2023-04-11 10:07:17,353 [PROFILEREPORT] - Metric [Chi-Squared Test] took 0.01s.\n",
      "INFO: 2023-04-11 10:07:17,356 [PROFILEREPORT] - Calculating metric [Missing Values Similarity].\n",
      "INFO: 2023-04-11 10:07:17,358 [PROFILEREPORT] - Metric [Missing Values Similarity] took 0.00s.\n",
      "INFO: 2023-04-11 10:07:17,362 [PROFILEREPORT] - Calculating metric [Mutual Information].\n",
      "INFO: 2023-04-11 10:07:20,852 [PROFILEREPORT] - Metric [Mutual Information] took 3.49s.\n",
      "INFO: 2023-04-11 10:07:20,858 [PROFILEREPORT] - Calculating metric [Dimensionality Reduction].\n",
      "INFO: 2023-04-11 10:07:20,999 [PROFILEREPORT] - Metric [Dimensionality Reduction] took 0.14s.\n",
      "INFO: 2023-04-11 10:07:21,003 [PROFILEREPORT] - Calculating metric [Synthetic Classifier].\n",
      "INFO: 2023-04-11 10:07:21,233 [PROFILEREPORT] - Metric [Synthetic Classifier] took 0.23s.\n",
      "INFO: 2023-04-11 10:07:21,234 [PROFILEREPORT] - Calculating utility metrics.\n",
      "INFO: 2023-04-11 10:07:21,238 [PROFILEREPORT] - Calculating metric [QScore].\n",
      "INFO: 2023-04-11 10:07:24,971 [PROFILEREPORT] - Metric [QScore] took 3.73s.\n",
      "INFO: 2023-04-11 10:07:24,973 [PROFILEREPORT] - Calculating metric [Train on Synthetic Test on Real].\n",
      "INFO: 2023-04-11 10:07:27,334 [PROFILEREPORT] - Metric [Train on Synthetic Test on Real] took 2.36s.\n",
      "INFO: 2023-04-11 10:07:27,337 [PROFILEREPORT] - Calculating metric [Feature Importance].\n",
      "INFO: 2023-04-11 10:07:29,315 [PROFILEREPORT] - Metric [Feature Importance] took 1.98s.\n",
      "WARNING: 2023-04-11 10:07:29,347 Ignored `pointer-events: none` at 293:3, unknown property.\n",
      "WARNING: 2023-04-11 10:07:29,349 Ignored `transform: rotate(0deg)` at 303:3, invalid value.\n",
      "WARNING: 2023-04-11 10:07:29,352 Ignored `box-shadow: 0px 0px 4px rgba(26, 28, 32, 0.25)` at 316:3, unknown property.\n",
      "WARNING: 2023-04-11 10:07:29,353 Ignored `pointer-events: none` at 328:3, unknown property.\n",
      "WARNING: 2023-04-11 10:07:29,355 Ignored `inset: 0` at 337:3, unknown property.\n",
      "WARNING: 2023-04-11 10:07:29,358 Ignored `transform: rotate(0deg)` at 340:3, invalid value.\n"
     ]
    }
   ],
   "source": [
    "%%capture\n",
    "data_types = {k: v.datatype for k, v in metadata.columns.items()}\n",
    "sdf = SyntheticDataProfile(real=holdout_dataset,\n",
    "                           synth=synthetic_dataset,\n",
    "                           metadata=metadata,\n",
    "                           report_type=ReportType.TABULAR,\n",
    "                           target=_target,\n",
    "                           data_types=data_types,\n",
    "                           training_data=train_dataset)\n",
    "summary_metrics = sdf.get_summary()"
   ]
  },
  {
   "cell_type": "code",
   "execution_count": 19,
   "id": "811a1ee8-2d59-4709-b1f6-ec9a90241e2a",
   "metadata": {},
   "outputs": [
    {
     "name": "stdout",
     "output_type": "stream",
     "text": [
      "\u001b[1mHIGH_PRIVACY\n",
      "\u001b[1mFidelity: 0.66\n",
      "\u001b[1mUtility: 0.35\n",
      "\u001b[1mPrivacy: 0.99\n"
     ]
    }
   ],
   "source": [
    "print(f\"\\033[1m{PrivacyLevel.HIGH_PRIVACY.name}\")\n",
    "print(f\"\\033[1mFidelity: {summary_metrics['fidelity']:.2f}\")\n",
    "print(f\"\\033[1mUtility: {summary_metrics['utility']:.2f}\")\n",
    "print(f\"\\033[1mPrivacy: {summary_metrics['privacy']:.2f}\")"
   ]
  },
  {
   "cell_type": "markdown",
   "id": "ba4b1d04-8435-4091-9bfc-5aa7548b0607",
   "metadata": {},
   "source": [
    "## **Balanced Fidelity/Privacy**\n",
    "\n",
    "To achieve the balanced setting between fidelity, utility, and privacy, the `privacy_level` parameter must be defined with the `BALANCED_PRIVACY_FIDELITY` option of the `PrivacyLevel` enumeration."
   ]
  },
  {
   "cell_type": "code",
   "execution_count": 20,
   "id": "3b542997-5d31-489c-9b95-8f722aac1fd2",
   "metadata": {},
   "outputs": [
    {
     "name": "stdout",
     "output_type": "stream",
     "text": [
      "INFO: 2023-04-11 10:07:31,534 [SYNTHESIZER] - Number columns considered for synth: 31\n",
      "INFO: 2023-04-11 10:07:50,798 [SYNTHESIZER] - Starting the synthetic data modeling process over 1x1 blocks.\n",
      "INFO: 2023-04-11 10:07:50,803 [SYNTHESIZER] - Preprocess segment\n",
      "INFO: 2023-04-11 10:07:50,810 [SYNTHESIZER] - Synthesizer init.\n",
      "INFO: 2023-04-11 10:07:50,811 [SYNTHESIZER] - Processing the data prior fitting the synthesizer.\n",
      "INFO: 2023-04-11 10:07:52,553 [SYNTHESIZER] - Start generating model samples.\n"
     ]
    }
   ],
   "source": [
    "synthesizer = RegularSynthesizer()\n",
    "synthesizer.fit(data, metadata=metadata, privacy_level=PrivacyLevel.BALANCED_PRIVACY_FIDELITY)\n",
    "holdout_dataset = Dataset(synthesizer._holdout._data.compute())\n",
    "train_dataset = Dataset(synthesizer._holdout._train_data.compute())\n",
    "synthetic_dataset = synthesizer.sample(n_samples=len(holdout_dataset))"
   ]
  },
  {
   "cell_type": "code",
   "execution_count": 21,
   "id": "f99ab142-93c1-4918-8c32-9a901d94aba8",
   "metadata": {},
   "outputs": [
    {
     "name": "stdout",
     "output_type": "stream",
     "text": [
      "INFO: 2023-04-11 10:07:53,513 [PROFILEREPORT] - Starting metrics calculation.\n",
      "INFO: 2023-04-11 10:07:53,653 [PROFILEREPORT] - Synthetic data quality report selected target variable: diagnosis\n",
      "INFO: 2023-04-11 10:07:53,658 [PROFILEREPORT] - preparing data format.\n",
      "INFO: 2023-04-11 10:07:53,893 [PROFILEREPORT] - Preparing the data for metrics calculation\n",
      "INFO: 2023-04-11 10:07:54,044 [PROFILEREPORT] - Calculating privacy metrics.\n",
      "INFO: 2023-04-11 10:07:54,053 [PROFILEREPORT] - Calculating metric [Exact Matches].\n",
      "INFO: 2023-04-11 10:07:54,062 [PROFILEREPORT] - Metric [Exact Matches] took 0.01s.\n",
      "INFO: 2023-04-11 10:07:54,066 [PROFILEREPORT] - Calculating metric [Neighbours Privacy].\n",
      "INFO: 2023-04-11 10:07:54,078 [PROFILEREPORT] - Metric [Neighbours Privacy] took 0.01s.\n",
      "INFO: 2023-04-11 10:07:54,082 [PROFILEREPORT] - Calculating metric [Identifiability].\n",
      "INFO: 2023-04-11 10:07:54,092 [PROFILEREPORT] - Metric [Identifiability] took 0.01s.\n",
      "INFO: 2023-04-11 10:07:54,104 [PROFILEREPORT] - Calculating metric [Membership Inference Score].\n",
      "INFO: 2023-04-11 10:07:54,105 [PROFILEREPORT] - Membership Disclosure Score sample size was reduce to match the dataset with size 114.\n",
      "INFO: 2023-04-11 10:07:54,116 [PROFILEREPORT] - Metric [Membership Inference Score] took 0.01s.\n",
      "INFO: 2023-04-11 10:07:54,118 [PROFILEREPORT] - Calculating fidelity metrics.\n",
      "INFO: 2023-04-11 10:07:54,122 [PROFILEREPORT] - Calculating metric [Correlation Similarity].\n",
      "INFO: 2023-04-11 10:07:54,820 [PROFILEREPORT] - Metric [Correlation Similarity] took 0.69s.\n",
      "INFO: 2023-04-11 10:07:54,822 [PROFILEREPORT] - Calculating metric [Distance Distribution].\n",
      "INFO: 2023-04-11 10:07:54,838 [PROFILEREPORT] - Metric [Distance Distribution] took 0.01s.\n",
      "INFO: 2023-04-11 10:07:54,841 [PROFILEREPORT] - Calculating metric [Statistical Similarity].\n",
      "INFO: 2023-04-11 10:07:54,863 [PROFILEREPORT] - Metric [Statistical Similarity] took 0.02s.\n",
      "INFO: 2023-04-11 10:07:54,866 [PROFILEREPORT] - Calculating metric [Category Coverage].\n",
      "INFO: 2023-04-11 10:07:54,871 [PROFILEREPORT] - Metric [Category Coverage] took 0.00s.\n",
      "INFO: 2023-04-11 10:07:54,875 [PROFILEREPORT] - Calculating metric [Missing Category Coverage].\n",
      "INFO: 2023-04-11 10:07:54,885 [PROFILEREPORT] - Metric [Missing Category Coverage] took 0.01s.\n",
      "INFO: 2023-04-11 10:07:54,889 [PROFILEREPORT] - Calculating metric [Range Coverage].\n",
      "INFO: 2023-04-11 10:07:54,898 [PROFILEREPORT] - Metric [Range Coverage] took 0.01s.\n",
      "INFO: 2023-04-11 10:07:54,901 [PROFILEREPORT] - Calculating metric [Kolmogorov-Smirnov Test].\n",
      "INFO: 2023-04-11 10:07:54,925 [PROFILEREPORT] - Metric [Kolmogorov-Smirnov Test] took 0.02s.\n",
      "INFO: 2023-04-11 10:07:54,929 [PROFILEREPORT] - Calculating metric [Chi-Squared Test].\n",
      "INFO: 2023-04-11 10:07:54,943 [PROFILEREPORT] - Metric [Chi-Squared Test] took 0.01s.\n",
      "INFO: 2023-04-11 10:07:54,947 [PROFILEREPORT] - Calculating metric [Missing Values Similarity].\n",
      "INFO: 2023-04-11 10:07:54,949 [PROFILEREPORT] - Metric [Missing Values Similarity] took 0.00s.\n",
      "INFO: 2023-04-11 10:07:54,954 [PROFILEREPORT] - Calculating metric [Mutual Information].\n",
      "INFO: 2023-04-11 10:07:58,656 [PROFILEREPORT] - Metric [Mutual Information] took 3.70s.\n",
      "INFO: 2023-04-11 10:07:58,660 [PROFILEREPORT] - Calculating metric [Dimensionality Reduction].\n",
      "INFO: 2023-04-11 10:07:58,739 [PROFILEREPORT] - Metric [Dimensionality Reduction] took 0.08s.\n",
      "INFO: 2023-04-11 10:07:58,742 [PROFILEREPORT] - Calculating metric [Synthetic Classifier].\n",
      "INFO: 2023-04-11 10:07:58,996 [PROFILEREPORT] - Metric [Synthetic Classifier] took 0.25s.\n",
      "INFO: 2023-04-11 10:07:58,997 [PROFILEREPORT] - Calculating utility metrics.\n",
      "INFO: 2023-04-11 10:07:59,001 [PROFILEREPORT] - Calculating metric [QScore].\n",
      "INFO: 2023-04-11 10:08:02,338 [PROFILEREPORT] - Metric [QScore] took 3.33s.\n",
      "INFO: 2023-04-11 10:08:02,342 [PROFILEREPORT] - Calculating metric [Train on Synthetic Test on Real].\n",
      "INFO: 2023-04-11 10:08:04,730 [PROFILEREPORT] - Metric [Train on Synthetic Test on Real] took 2.39s.\n",
      "INFO: 2023-04-11 10:08:04,734 [PROFILEREPORT] - Calculating metric [Feature Importance].\n",
      "INFO: 2023-04-11 10:08:07,185 [PROFILEREPORT] - Metric [Feature Importance] took 2.45s.\n",
      "WARNING: 2023-04-11 10:08:07,223 Ignored `pointer-events: none` at 293:3, unknown property.\n",
      "WARNING: 2023-04-11 10:08:07,225 Ignored `transform: rotate(0deg)` at 303:3, invalid value.\n",
      "WARNING: 2023-04-11 10:08:07,226 Ignored `box-shadow: 0px 0px 4px rgba(26, 28, 32, 0.25)` at 316:3, unknown property.\n",
      "WARNING: 2023-04-11 10:08:07,228 Ignored `pointer-events: none` at 328:3, unknown property.\n",
      "WARNING: 2023-04-11 10:08:07,229 Ignored `inset: 0` at 337:3, unknown property.\n",
      "WARNING: 2023-04-11 10:08:07,231 Ignored `transform: rotate(0deg)` at 340:3, invalid value.\n"
     ]
    }
   ],
   "source": [
    "%%capture\n",
    "data_types = {k: v.datatype for k, v in metadata.columns.items()}\n",
    "sdf = SyntheticDataProfile(real=holdout_dataset,\n",
    "                           synth=synthetic_dataset,\n",
    "                           metadata=metadata,\n",
    "                           report_type=ReportType.TABULAR,\n",
    "                           target=_target,\n",
    "                           data_types=data_types,\n",
    "                           training_data=train_dataset)\n",
    "summary_metrics = sdf.get_summary()"
   ]
  },
  {
   "cell_type": "code",
   "execution_count": 22,
   "id": "48ea56d8-2565-48e9-b678-b51eac9c0dbd",
   "metadata": {
    "tags": []
   },
   "outputs": [
    {
     "name": "stdout",
     "output_type": "stream",
     "text": [
      "\u001b[1mBALANCED_PRIVACY_FIDELITY\n",
      "\u001b[1mFidelity: 0.72\n",
      "\u001b[1mUtility: 0.64\n",
      "\u001b[1mPrivacy: 0.96\n"
     ]
    }
   ],
   "source": [
    "print(f\"\\033[1m{PrivacyLevel.BALANCED_PRIVACY_FIDELITY.name}\")\n",
    "print(f\"\\033[1mFidelity: {summary_metrics['fidelity']:.2f}\")\n",
    "print(f\"\\033[1mUtility: {summary_metrics['utility']:.2f}\")\n",
    "print(f\"\\033[1mPrivacy: {summary_metrics['privacy']:.2f}\")"
   ]
  }
 ],
 "metadata": {
  "kernelspec": {
   "display_name": "Python 3 (ipykernel)",
   "language": "python",
   "name": "python3"
  },
  "language_info": {
   "codemirror_mode": {
    "name": "ipython",
    "version": 3
   },
   "file_extension": ".py",
   "mimetype": "text/x-python",
   "name": "python",
   "nbconvert_exporter": "python",
   "pygments_lexer": "ipython3",
   "version": "3.10.0"
  }
 },
 "nbformat": 4,
 "nbformat_minor": 5
}
