{
 "cells": [
  {
   "cell_type": "markdown",
   "id": "ca0959ca-dc13-40fa-a61f-c6c7e9414068",
   "metadata": {},
   "source": [
    "# Synthetic data generation"
   ]
  },
  {
   "cell_type": "markdown",
   "id": "df2cc965-7d6b-4142-b41b-9cf4f8e4b4f1",
   "metadata": {},
   "source": [
    "#### Required imports"
   ]
  },
  {
   "cell_type": "code",
   "execution_count": 5,
   "id": "13b33675-a498-4e65-ae55-1435503a2772",
   "metadata": {},
   "outputs": [],
   "source": [
    "import pandas as pd\n",
    "\n",
    "from ydata.labs import DataSources\n",
    "\n",
    "from ydata.dataset import Dataset\n",
    "from ydata.metadata import Metadata"
   ]
  },
  {
   "cell_type": "markdown",
   "id": "037cf500-0ee8-4182-9f08-19cf3d4d95c0",
   "metadata": {},
   "source": [
    "## Read your data"
   ]
  },
  {
   "cell_type": "code",
   "execution_count": 11,
   "id": "cf3d6c2f-a412-42e0-aed6-b595f190a7ac",
   "metadata": {},
   "outputs": [],
   "source": [
    "### Read as a pandas DataFrame\n",
    "\n",
    "df = pd.read_csv('{insert-file-path}')\n",
    "\n",
    "#Create a dataset for scale\n",
    "dataset = Dataset(df)"
   ]
  },
  {
   "cell_type": "code",
   "execution_count": null,
   "id": "34bbb35f-93c4-422d-8907-7609c0b72d1b",
   "metadata": {},
   "outputs": [],
   "source": [
    "### Use a Datasource created in the UI\n",
    "#dataset = DataSources.get(uid='{insert-datasource-uid}')"
   ]
  },
  {
   "cell_type": "markdown",
   "id": "3281310a-451a-43de-98a7-618c5062cd6b",
   "metadata": {},
   "source": [
    "## Calculate your dataset Metadata"
   ]
  },
  {
   "cell_type": "code",
   "execution_count": 12,
   "id": "11a6fd45-843f-4047-b3f7-4f3e804096de",
   "metadata": {},
   "outputs": [
    {
     "name": "stdout",
     "output_type": "stream",
     "text": [
      "[########################################] | 100% Completed | 220.31 ms\n",
      "[########################################] | 100% Completed | 669.62 ms\n",
      "[########################################] | 100% Completed | 207.49 ms\n",
      "[########################################] | 100% Completed | 1.99 sms\n"
     ]
    }
   ],
   "source": [
    "#Compute your dataset metadata\n",
    "metadata = Metadata(dataset)"
   ]
  },
  {
   "cell_type": "code",
   "execution_count": 13,
   "id": "5d7e4ab6-847d-4aa9-8d0f-8bf85c8b7c33",
   "metadata": {},
   "outputs": [
    {
     "name": "stdout",
     "output_type": "stream",
     "text": [
      "\u001b[1mMetadata Summary \n",
      " \n",
      "\u001b[0m\u001b[1mDataset type: \u001b[0mTABULAR\n",
      "\u001b[1mDataset attributes: \u001b[0m\n",
      "\u001b[1mNumber of columns: \u001b[0m12\n",
      "\u001b[1mDuplicate rows: \u001b[0m148\n",
      "\u001b[1mTarget column: \u001b[0m\n",
      "\n",
      "\u001b[1mColumn detail: \u001b[0m\n",
      "         Column    Data type Variable type\n",
      "0           age    numerical           int\n",
      "1        gender  categorical           int\n",
      "2        height    numerical           int\n",
      "3        weight    numerical         float\n",
      "4         ap_hi    numerical           int\n",
      "5         ap_lo    numerical           int\n",
      "6   cholesterol  categorical           int\n",
      "7          gluc  categorical           int\n",
      "8         smoke  categorical           int\n",
      "9          alco  categorical           int\n",
      "10       active  categorical           int\n",
      "11       cardio  categorical           int\n",
      "\n",
      "\u001b[1mWarnings: \u001b[0m\n",
      "       Warning                                     Columns\n",
      "0     skewness                     [height, weight, ap_hi]\n",
      "1  correlation  [gender|height, ap_hi|ap_lo, ap_hi|cardio]\n",
      "2    imbalance    [cholesterol, gluc, smoke, alco, active]\n",
      "\n"
     ]
    }
   ],
   "source": [
    "print(metadata)"
   ]
  },
  {
   "cell_type": "markdown",
   "id": "a1a7b7a2-9404-4bb2-aaf7-9cb2f4353cdc",
   "metadata": {},
   "source": [
    "## Train & Generate synthetic data samples"
   ]
  },
  {
   "cell_type": "code",
   "execution_count": 15,
   "id": "7fff158c-8165-4be9-adf3-18c212937c2e",
   "metadata": {},
   "outputs": [
    {
     "name": "stdout",
     "output_type": "stream",
     "text": [
      "INFO: 2023-04-19 10:56:22,219 [SYNTHESIZER] - Number columns considered for synth: 12\n",
      "INFO: 2023-04-19 10:56:22,525 [SYNTHESIZER] - Starting the synthetic data modeling process over 2x1 blocks.\n",
      "INFO: 2023-04-19 10:56:22,526 [SYNTHESIZER] - Generating pipeline for segment (-0.001, 27468.0]\n",
      "INFO: 2023-04-19 10:56:22,538 [SYNTHESIZER] - Preprocess segment\n",
      "INFO: 2023-04-19 10:56:22,543 [SYNTHESIZER] - Synthesizer init.\n",
      "INFO: 2023-04-19 10:56:22,544 [SYNTHESIZER] - Processing the data prior fitting the synthesizer.\n",
      "INFO: 2023-04-19 10:56:31,182 [SYNTHESIZER] - Generating pipeline for segment (27468.0, 54936.0]\n",
      "INFO: 2023-04-19 10:56:31,192 [SYNTHESIZER] - Preprocess segment\n",
      "INFO: 2023-04-19 10:56:31,203 [SYNTHESIZER] - Synthesizer init.\n",
      "INFO: 2023-04-19 10:56:31,204 [SYNTHESIZER] - Processing the data prior fitting the synthesizer.\n"
     ]
    },
    {
     "data": {
      "text/plain": [
       "<ydata.synthesizers.regular.model.RegularSynthesizer at 0x7f052e68e9e0>"
      ]
     },
     "execution_count": 15,
     "metadata": {},
     "output_type": "execute_result"
    }
   ],
   "source": [
    "from ydata.synthesizers.regular import RegularSynthesizer\n",
    "\n",
    "synth = RegularSynthesizer()\n",
    "synth.fit(dataset, metadata=metadata)"
   ]
  },
  {
   "cell_type": "code",
   "execution_count": 17,
   "id": "4c7a9c55-51f8-4ab9-984a-1a568307f686",
   "metadata": {},
   "outputs": [
    {
     "name": "stdout",
     "output_type": "stream",
     "text": [
      "INFO: 2023-04-19 10:57:27,747 [SYNTHESIZER] - Start generating model samples.\n",
      "INFO: 2023-04-19 10:57:27,748 [SYNTHESIZER] - Sample segment (-0.001, 27468.0]\n",
      "INFO: 2023-04-19 10:57:31,566 [SYNTHESIZER] - Sample segment (27468.0, 54936.0]\n"
     ]
    }
   ],
   "source": [
    "## Generate as many synthetic samples as required. N_samples represents the number of rows to be generated.\n",
    "synth_sample = synth.sample(n_samples=len(dataset))"
   ]
  },
  {
   "cell_type": "code",
   "execution_count": 19,
   "id": "441127e2-662e-4727-835c-dddf6cf9e015",
   "metadata": {},
   "outputs": [],
   "source": [
    "#Convert your synthetic samples from a distributed setting to Pandas DataFrame to save the sample locally\n",
    "synth_sample = synth_sample.to_pandas()\n",
    "\n",
    "synth_sample.to_csv('synthetic_sample.csv')\n"
   ]
  },
  {
   "cell_type": "markdown",
   "id": "bf65380c-eb8a-4053-a132-f6ddc03f4b90",
   "metadata": {},
   "source": [
    "## Calculate quality report"
   ]
  },
  {
   "cell_type": "code",
   "execution_count": null,
   "id": "f36f3202-bd36-486e-9f48-b8b2237b28a9",
   "metadata": {},
   "outputs": [],
   "source": [
    "sdf = SyntheticDataProfile(report_type=ReportType.TABULAR)\n",
    "data_types = {k: v.datatype for k, v in metadata.columns.items()}\n",
    "\n",
    "sdf.generate_report(real={insert-holdout-dataset},\n",
    "                    synth=synth_sample,\n",
    "                    target=\"{insert-target-col-name}\",\n",
    "                    data_types=data_types,\n",
    "                    training_data={insert-training-dataset},\n",
    "                    metadata=metadata,\n",
    "                    pdf=True)"
   ]
  }
 ],
 "metadata": {
  "kernelspec": {
   "display_name": "Python 3 (ipykernel)",
   "language": "python",
   "name": "python3"
  },
  "language_info": {
   "codemirror_mode": {
    "name": "ipython",
    "version": 3
   },
   "file_extension": ".py",
   "mimetype": "text/x-python",
   "name": "python",
   "nbconvert_exporter": "python",
   "pygments_lexer": "ipython3",
   "version": "3.10.12"
  }
 },
 "nbformat": 4,
 "nbformat_minor": 5
}
