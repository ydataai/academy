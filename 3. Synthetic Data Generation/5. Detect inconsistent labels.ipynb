{
 "cells": [
  {
   "cell_type": "markdown",
   "id": "a1dba356-fd3f-41fa-918d-da6906fae826",
   "metadata": {},
   "source": [
    "# Data quality - label inconsistencies\n",
    "\n",
    "Label inconsistencies can significantly undermine the development of machine learning models, particularly in sensitive use cases like fraud detection. When labels are inconsistent—such as when similar transactions are labeled differently—it creates noise in the training data, which leads to unreliable models. This directly impacts the model’s ability to accurately predict fraudulent behavior, increasing the likelihood of both false positives and false negatives. In critical industries, such as finance, these errors can have substantial economic and operational consequences.\n",
    "\n",
    "Synthetic data generation is also impacted by label inconsistencies. If the original dataset contains labeling errors or inconsistencies, the synthetic data generated from it will replicate these issues, propagating flawed patterns and reducing the effectiveness of both synthetic data and models trained on them. Thus, ensuring label consistency is vital for maintaining the quality of your data! "
   ]
  },
  {
   "cell_type": "code",
   "execution_count": 3,
   "id": "3f057ac7-05bd-4310-a040-519345fd3659",
   "metadata": {
    "tags": []
   },
   "outputs": [
    {
     "name": "stdout",
     "output_type": "stream",
     "text": [
      "Collecting xgboost\n",
      "  Downloading xgboost-2.1.1-py3-none-manylinux_2_28_x86_64.whl.metadata (2.1 kB)\n",
      "Requirement already satisfied: numpy in /home/ydata/.venv/lib/python3.10/site-packages (from xgboost) (1.23.5)\n",
      "Collecting nvidia-nccl-cu12 (from xgboost)\n",
      "  Downloading nvidia_nccl_cu12-2.23.4-py3-none-manylinux2014_x86_64.whl.metadata (1.8 kB)\n",
      "Requirement already satisfied: scipy in /home/ydata/.venv/lib/python3.10/site-packages (from xgboost) (1.9.3)\n",
      "Downloading xgboost-2.1.1-py3-none-manylinux_2_28_x86_64.whl (153.9 MB)\n",
      "\u001b[2K   \u001b[90m━━━━━━━━━━━━━━━━━━━━━━━━━━━━━━━━━━━━━━━\u001b[0m \u001b[32m153.9/153.9 MB\u001b[0m \u001b[31m116.1 MB/s\u001b[0m eta \u001b[36m0:00:00\u001b[0m00:01\u001b[0m00:01\u001b[0m\n",
      "\u001b[?25hDownloading nvidia_nccl_cu12-2.23.4-py3-none-manylinux2014_x86_64.whl (199.0 MB)\n",
      "\u001b[2K   \u001b[90m━━━━━━━━━━━━━━━━━━━━━━━━━━━━━━━━━━━━━━━\u001b[0m \u001b[32m199.0/199.0 MB\u001b[0m \u001b[31m114.9 MB/s\u001b[0m eta \u001b[36m0:00:00\u001b[0m00:01\u001b[0m00:01\u001b[0m\n",
      "\u001b[?25hInstalling collected packages: nvidia-nccl-cu12, xgboost\n",
      "Successfully installed nvidia-nccl-cu12-2.23.4 xgboost-2.1.1\n"
     ]
    }
   ],
   "source": [
    "!pip install xgboost"
   ]
  },
  {
   "cell_type": "markdown",
   "id": "ea507530-54f5-4302-819e-7dad2c71e35c",
   "metadata": {
    "tags": []
   },
   "source": [
    "## How to detect inconsistent labels"
   ]
  },
  {
   "cell_type": "code",
   "execution_count": 10,
   "id": "9e1696c2-87a8-458d-89ba-574d6cd12a3a",
   "metadata": {
    "tags": []
   },
   "outputs": [],
   "source": [
    "import pandas as pd\n",
    "from sklearn.model_selection import cross_val_predict, train_test_split\n",
    "from xgboost import XGBClassifier\n",
    "\n",
    "from ydata.dataset import Dataset\n",
    "from ydata.metadata import Metadata\n",
    "from ydata.quality.labels import FindInconsistentLabelsEngine, LabelFilter, RankedBy"
   ]
  },
  {
   "cell_type": "code",
   "execution_count": 12,
   "id": "186e2978-dc0d-462e-8934-758e41e2be7e",
   "metadata": {
    "tags": []
   },
   "outputs": [
    {
     "name": "stdout",
     "output_type": "stream",
     "text": [
      "[########################################] | 100% Completed | 1.15 sms\n",
      "[########################################] | 100% Completed | 4.83 sms\n",
      "function\n",
      "Number of missclassified labels 645\n"
     ]
    }
   ],
   "source": [
    "# In this example it was used the credit card dataset from Kaggle https://www.kaggle.com/datasets/mlg-ulb/creditcardfraud\n",
    "df = pd.read_csv('data (2).csv')\n",
    "y = df['Class']\n",
    "X = df.drop('Class', axis=1).copy()\n",
    "\n",
    "# Create the train and test split\n",
    "df_train, df_test, y_train, y_test = train_test_split(\n",
    "    X, y, test_size=0.30, random_state=42)\n",
    "\n",
    "# XGBoost(experimental) supports categorical data.\n",
    "# Here we use default hyperparameters for simplicity.\n",
    "model = XGBClassifier(tree_method=\"hist\", enable_categorical=True)\n",
    "model.fit(df_train, y_train)\n",
    "\n",
    "# Evaluate model on test split with ground truth labels.\n",
    "model = XGBClassifier(tree_method=\"hist\", enable_categorical=True)\n",
    "pred_probs = cross_val_predict(model, df_train, y_train, method='predict_proba')\n",
    "\n",
    "df_train['Class'] = y_train\n",
    "dataset = Dataset(df_train)\n",
    "metadata = Metadata(dataset)\n",
    "\n",
    "findlabels = FindInconsistentLabelsEngine(filter_type=LabelFilter.CONFIDENT_LEARNING,\n",
    "                                          indices_ranked_by=RankedBy.SELF_CONFIDENCE)\n",
    "\n",
    "er = findlabels.fit_transform(X=dataset,\n",
    "                              label_name='Class',\n",
    "                              metadata=metadata,\n",
    "                              pred_probs=pred_probs)\n",
    "\n",
    "print(f\"Number of missclassified labels {len(er)}\")"
   ]
  }
 ],
 "metadata": {
  "kernelspec": {
   "display_name": "Python 3 (ipykernel)",
   "language": "python",
   "name": "python3"
  },
  "language_info": {
   "codemirror_mode": {
    "name": "ipython",
    "version": 3
   },
   "file_extension": ".py",
   "mimetype": "text/x-python",
   "name": "python",
   "nbconvert_exporter": "python",
   "pygments_lexer": "ipython3",
   "version": "3.10.12"
  }
 },
 "nbformat": 4,
 "nbformat_minor": 5
}
