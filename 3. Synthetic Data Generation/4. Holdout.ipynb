{
 "cells": [
  {
   "cell_type": "markdown",
   "id": "8674cdd1-598e-497c-80cd-1dcd29cbba6a",
   "metadata": {},
   "source": [
    "# YData Synthetic data generation Holdout\n",
    "\n",
    "The holdout dataset is a subset of the original data reserved during data processing to evaluate the performance of machine learning models. It plays a pivotal role in synthetic data generation by acting as an independent benchmark to assess the quality and generalizability of the synthetic data.\n",
    "\n",
    "In YData Fabric's synthetic data generation process, 20% of the provided dataset is automatically set aside by default as the holdout set. This holdout set is essential not only to mitigate risks of overfitting and bias but also to ensure that the synthetic data can effectively generalize to unseen data.\n",
    "\n",
    "For more detailed information about the holdout set and the synthetic data generation workflow, refer to this whitepaper.\n",
    "\n",
    "We will use the Adult Census Income dataset to demonstrate how to create and change the size of an Holdout set. This dataset is a collection of census data from 1994 mainly used for prediction tasks where the goal is to identify if a person makes over 50K a year (https://archive.ics.uci.edu/ml/datasets/adult). Each person is described by 14 features focused on personal information, including sensitive attributes such as race and sex. "
   ]
  },
  {
   "cell_type": "markdown",
   "id": "1cdf5ed8-b138-47cb-bd50-7fcfa967322f",
   "metadata": {
    "tags": []
   },
   "source": [
    "## Read the data"
   ]
  },
  {
   "cell_type": "code",
   "execution_count": 1,
   "id": "8b195c17-d756-4a26-bdf5-49361517d4ee",
   "metadata": {
    "tags": []
   },
   "outputs": [
    {
     "name": "stdout",
     "output_type": "stream",
     "text": [
      "\u001b[1mMetadata Summary \n",
      " \n",
      "\u001b[0m\u001b[1mDataset type: \u001b[0mTABULAR\n",
      "\u001b[1mDataset attributes: \u001b[0m\n",
      "\u001b[1mNumber of columns: \u001b[0m15\n",
      "\u001b[1mNumber of rows: \u001b[0m32561\n",
      "\u001b[1mDuplicate rows: \u001b[0m0\n",
      "\u001b[1mTarget column: \u001b[0m\n",
      "\n",
      "\u001b[1mColumn detail: \u001b[0m\n",
      "            Column    Data type Variable type Characteristics\n",
      "0              age    numerical           int                \n",
      "1        workclass  categorical        string                \n",
      "2           fnlwgt    numerical           int                \n",
      "3        education  categorical        string                \n",
      "4    education-num  categorical           int                \n",
      "5   marital-status  categorical        string                \n",
      "6       occupation  categorical        string                \n",
      "7     relationship  categorical        string                \n",
      "8             race  categorical        string                \n",
      "9              sex  categorical        string                \n",
      "10    capital-gain    numerical           int                \n",
      "11    capital-loss    numerical           int                \n",
      "12  hours-per-week    numerical           int                \n",
      "13  native-country       string        string                \n",
      "14          income  categorical        string                \n",
      "\n",
      "\u001b[1mWarnings: \u001b[0m\n",
      "       Warning                                                                                                            Columns\n",
      "0     skewness                                                                          [age, fnlwgt, capital-gain, capital-loss]\n",
      "1  cardinality                                                                                                   [native-country]\n",
      "2     missings                                                                            [workclass, occupation, native-country]\n",
      "3        zeros                                                                                       [capital-gain, capital-loss]\n",
      "4    imbalance                  [workclass, education, education-num, marital-status, relationship, race, native-country, income]\n",
      "5  correlation  [education|education-num, marital-status|relationship, marital-status|sex, relationship|sex, relationship|income]\n",
      "\n"
     ]
    }
   ],
   "source": [
    "# Importing YData's packages\n",
    "from ydata.labs import DataSources\n",
    "# Reading the Dataset from the DataSource\n",
    "datasource = DataSources.get(uid='37be2188-7938-4446-afba-839e5111eb97', namespace='17731ef6-bcc3-4aad-899c-ef507e9ea704')\n",
    "dataset = datasource.dataset\n",
    "# Getting the calculated Metadata to get the profile overview information in the labs\n",
    "metadata = datasource.metadata\n",
    "print(metadata)"
   ]
  },
  {
   "cell_type": "markdown",
   "id": "a73d9434-70b7-47c2-99cb-5318b8d7efe7",
   "metadata": {},
   "source": [
    "## Configuring the Synthetic data generation holdout set"
   ]
  },
  {
   "cell_type": "code",
   "execution_count": 3,
   "id": "e9b2e443-6b5b-4636-bdb9-f54da06e46bc",
   "metadata": {
    "tags": []
   },
   "outputs": [
    {
     "name": "stdout",
     "output_type": "stream",
     "text": [
      "INFO: 2024-08-16 11:33:57,886 [SYNTHESIZER] - Number columns considered for synth: 15\n",
      "INFO: 2024-08-16 11:34:05,675 [SYNTHESIZER] - Starting the synthetic data modeling process over 1x1 blocks.\n",
      "INFO: 2024-08-16 11:34:05,680 [SYNTHESIZER] - Preprocess segment\n",
      "INFO: 2024-08-16 11:34:05,689 [SYNTHESIZER] - Synthesizer init.\n",
      "INFO: 2024-08-16 11:34:05,690 [SYNTHESIZER] - Processing the data prior fitting the synthesizer.\n"
     ]
    },
    {
     "data": {
      "text/plain": [
       "<ydata.synthesizers.regular.model.RegularSynthesizer at 0x7ff6781feb30>"
      ]
     },
     "execution_count": 3,
     "metadata": {},
     "output_type": "execute_result"
    }
   ],
   "source": [
    "from ydata.synthesizers import RegularSynthesizer\n",
    "\n",
    "synth = RegularSynthesizer()\n",
    "synth.fit(X=dataset, metadata=metadata, holdout_size=0.3) \n",
    "# By default the houldout set is always set to 20%. \n",
    "# Depending the size and characteristics of the dataset it is recommended to have it tweaked."
   ]
  },
  {
   "cell_type": "markdown",
   "id": "6c3f075c-e0ba-4e7d-bf42-6ef4200e274c",
   "metadata": {},
   "source": [
    "#### Disable automatic holdout"
   ]
  },
  {
   "cell_type": "code",
   "execution_count": null,
   "id": "07770913-a8b7-402c-9b0a-f3cc25e9ff43",
   "metadata": {},
   "outputs": [],
   "source": [
    "from ydata.synthesizers import RegularSynthesizer\n",
    "\n",
    "synth = RegularSynthesizer()\n",
    "synth.fit(x=dataset, metadata=metadata, holdout_size=0.0) \n",
    "# Setting the holdout to 0 will disable this features\n",
    "# This is mainly recommend whenever you already have your own holdout or your dataset is too small. "
   ]
  },
  {
   "cell_type": "markdown",
   "id": "f1241548-9eaf-49dc-af2a-022674faf0a2",
   "metadata": {},
   "source": [
    "## Creating an holdout set"
   ]
  },
  {
   "cell_type": "code",
   "execution_count": 7,
   "id": "5c6d6d76-d58c-475b-8d0c-f5967ae24bb0",
   "metadata": {
    "tags": []
   },
   "outputs": [],
   "source": [
    "from ydata.dataset.holdout import Holdout\n",
    "\n",
    "holdout_config = Holdout(fraction=0.3)\n",
    "train, holdout = holdout_config.get_split(X=dataset, metadata=metadata, strategy='random')\n",
    "\n",
    "# this will return a Dataset object with 30% of th records compare to the original dataset."
   ]
  },
  {
   "cell_type": "code",
   "execution_count": 8,
   "id": "3968ef4b-07b7-4a8a-9ae0-dee6894988ff",
   "metadata": {
    "tags": []
   },
   "outputs": [
    {
     "name": "stdout",
     "output_type": "stream",
     "text": [
      "\u001b[1mDataset \n",
      " \n",
      "\u001b[0m\u001b[1mShape: \u001b[0m(9724, 15)\n",
      "\u001b[1mSchema: \u001b[0m\n",
      "            Column Variable type\n",
      "0              age           int\n",
      "1        workclass        string\n",
      "2           fnlwgt           int\n",
      "3        education        string\n",
      "4    education-num           int\n",
      "5   marital-status        string\n",
      "6       occupation        string\n",
      "7     relationship        string\n",
      "8             race        string\n",
      "9              sex        string\n",
      "10    capital-gain           int\n",
      "11    capital-loss           int\n",
      "12  hours-per-week           int\n",
      "13  native-country        string\n",
      "14          income        string\n",
      "\n",
      "\n"
     ]
    }
   ],
   "source": [
    "print(holdout)"
   ]
  }
 ],
 "metadata": {
  "kernelspec": {
   "display_name": "Python 3 (ipykernel)",
   "language": "python",
   "name": "python3"
  },
  "language_info": {
   "codemirror_mode": {
    "name": "ipython",
    "version": 3
   },
   "file_extension": ".py",
   "mimetype": "text/x-python",
   "name": "python",
   "nbconvert_exporter": "python",
   "pygments_lexer": "ipython3",
   "version": "3.10.12"
  }
 },
 "nbformat": 4,
 "nbformat_minor": 5
}
