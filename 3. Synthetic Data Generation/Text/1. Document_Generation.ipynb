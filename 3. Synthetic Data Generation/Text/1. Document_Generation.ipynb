{
 "cells": [
  {
   "metadata": {},
   "cell_type": "markdown",
   "source": [
    "# Synthetic Document generation with YData SDK\n",
    "Synthetic documents are AI-generated files that mimic real-world reports, resumes, contracts, and other types of documents. They are valuable for:\n",
    "\n",
    "- **Training LLMs** without using sensitive or proprietary data\n",
    "- **Testing pipelines** or document-processing systems with realistic content\n",
    "- **Augmenting datasets** when original documents are scarce or unavailable\n",
    "\n",
    "In this notebook we demonstrate how to generate synthetic documents using the `DocumentGenerator` class from the YData SDK.\n",
    "You will learn how to:\n",
    "1. Generate a single or a set of synthetic documents with your own requirements\n",
    "2. Adjust document formats and styles\n",
    "\n",
    "#### Prerequisites\n",
    "Make sure you have installed the YData SDK package:\n",
    "```\n",
    " pip install ydata-sdk\n",
    "```\n",
    "and that you're registered at https://ydata.ai/register"
   ],
   "id": "12c462e4e6a8a46b"
  },
  {
   "metadata": {},
   "cell_type": "markdown",
   "source": "## Document Generation",
   "id": "742dfe50594264fd"
  },
  {
   "metadata": {
    "jupyter": {
     "is_executing": true
    }
   },
   "cell_type": "code",
   "source": [
    "### Import required classes\n",
    "from ydata.synthesizers.text.model.document import DocumentGenerator, DocumentFormat"
   ],
   "id": "2b0dfef3ae7e678e",
   "outputs": [],
   "execution_count": null
  },
  {
   "metadata": {},
   "cell_type": "code",
   "outputs": [],
   "execution_count": null,
   "source": [
    "## Step 2: Initialize the Document Generator\n",
    "##Replace `Add-token` with your ydata-sdk token\n",
    "\n",
    "import os\n",
    "os['']=\"ADD-TOKEN\"\n",
    "\n",
    "# By default the model will leverage latest OpenAI model. You can also configure it to use Anthropic's claude instead, depending on the type of document you want to generate. \n",
    "# Us the input parameters `provider` and `model_name`\n",
    "generator = DocumentGenerator(\n",
    "    document_format=DocumentFormat.PDF  # Options: PDF, DOCX, HTML\n",
    ")"
   ],
   "id": "614e43aae2d1b099"
  },
  {
   "metadata": {},
   "cell_type": "markdown",
   "source": [
    "### Generate a single new synthetic document\n",
    "Customize the document with your desired settings:"
   ],
   "id": "64327f144756fed5"
  },
  {
   "metadata": {},
   "cell_type": "code",
   "outputs": [],
   "execution_count": null,
   "source": [
    "# Generate 1 corporate invoice\n",
    "generator.generate(\n",
    "    n_docs=1,  # Generate one document\n",
    "    document_type=\"Invoice\",  # Type of document to generate\n",
    "    audience=\"Corporate client\",  # Target audience\n",
    "    tone=\"professional\",  # Writing tone\n",
    "    purpose=\"Issue a detailed invoice for services rendered. Please provided detailed examples and real line items\",  # Document purpose\n",
    "    region=\"North America\",  # Regional context\n",
    "    language=\"English\",  # Output language\n",
    "    length=\"Long\",  # Document length (invoices are usually not long)\n",
    "    topics=\"Consulting services, Hourly rates, Tax breakdown, Payment terms\",\n",
    "    # Key topics as a single comma-separated string\n",
    "    style_guide=\"Professional design for a financial institution\",  # Style or branding requirements\n",
    "    output_dir=\"output/documents\",  # Output directory\n",
    ")\n",
    "\n",
    "# Generate one consumer invoice for supermarket goods\n",
    "generator.generate(\n",
    "    n_docs=1,  # Generate one document\n",
    "    document_type=\"Invoice\",  # Still an invoice\n",
    "    audience=\"Retail customer\",  # Target audience is a consumer\n",
    "    tone=\"professional\",  # Still professional but consumer-friendly\n",
    "    purpose=\"Detailed supermarket invoice with grocery and household items purchases.\",\n",
    "    # Purpose tailored to retail\n",
    "    region=\"North America\",  # Regional context\n",
    "    language=\"English\",  # Output language\n",
    "    length=\"Long\",  # Allows for many line items\n",
    "    topics=\"Groceries, Household goods, Unit price, Quantity, Subtotals, Tax, Total due, Payment method\",\n",
    "    # Supermarket-specific topics\n",
    "    style_guide=\"Clean and readable receipt-style format typical of supermarket invoices\",\n",
    "    # Style expectation for consumer retail\n",
    "    output_dir=\"output/documents\",  # Output directory\n",
    ")"
   ],
   "id": "22b5919755021917"
  },
  {
   "metadata": {},
   "cell_type": "markdown",
   "source": [
    "### Generate a set of new synthetic documents\n",
    "\n",
    "It’s also possible to generate multiple documents in a single run. Each document is uniquely crafted, maintaining variability in tone and content, without altering your specified input parameters. This makes it ideal for creating diverse and robust training datasets."
   ],
   "id": "64cadac8ddc1d442"
  },
  {
   "metadata": {},
   "cell_type": "code",
   "outputs": [],
   "execution_count": null,
   "source": [
    "generator.generate(\n",
    "    n_docs=5,  # Generate 5 documents with the same parameters\n",
    "    document_type=\"Report\",  # e.g., Resume, Report, Invoice, etc. This is a free text input field\n",
    "    audience=\"Technical\", # Who will read this, it is also a free text input field\n",
    "    tone=\"neutral\", # Style of writing limited to the following values: formal, casual, persuasive, empathetic, inspirational, enthusiastic, humorous, neutral and professional\n",
    "    purpose=\"Technical documentation\",\n",
    "    region=\"North America\", # Tailored regional language. This is a free text input field\n",
    "    language=\"English\", # Language for the document. This is a free text input field\n",
    "    length=\"Medium\", #This is a free text input field . Examples of good inputs: short, long, medium, descriptive, etc\n",
    "    topics=\"API documentation, code examples, best practices\",\n",
    "    style_guide=\"Clear and concise\",  # Layout and formatting hints. This is a free text input field\n",
    "    output_dir=\"output/documents\",  # Where to save the file. This is a free text input field\n",
    ")"
   ],
   "id": "f83ffa9fcaec467f"
  },
  {
   "metadata": {},
   "cell_type": "markdown",
   "source": [
    "Once the generations are completed, all generated documents are saved in the defined output_dir, in the case of this example  `output/CV` directory.\n",
    "\n",
    "## Conclusion\n",
    "Synthetic document generation is a valuable strategy for companies looking to improve the performance and generalization of their AI models—especially those working with language models or document processing systems.\n",
    "\n",
    "By creating high-quality, domain-specific synthetic documents, organizations can:\n",
    "- **Augment fine-tuning datasets** with diverse, multilingual examples\n",
    "- **Pre-train or adapt LLMs** to specific document structures or business jargon\n",
    "- **Expand coverage** across rare use cases or underrepresented formats\n",
    "- **Avoid legal risks** tied to using real documents containing PII or proprietary content\n",
    "\n",
    "This makes it particularly useful for teams in:\n",
    "- **Healthcare** (e.g., discharge summaries, lab reports)\n",
    "- **Finance** (e.g., credit statements, policy summaries)\n",
    "- **Legal** (e.g., contracts, NDAs)\n",
    "- **Human Resources** (e.g., resumes, evaluations)\n",
    "\n",
    "With just a few lines of code, you can generate realistic, custom-tailored PDFs, DOCX, or HTML files that accelerate model development without compromising on privacy or compliance.\n",
    "\n",
    "To explore more, visit the [YData SDK documentation](https://docs.sdk.ydata.ai/latest/synthetic_data/).\n"
   ],
   "id": "c588f96400e3f16"
  }
 ],
 "metadata": {
  "kernelspec": {
   "display_name": "Python 3",
   "language": "python",
   "name": "python3"
  },
  "language_info": {
   "codemirror_mode": {
    "name": "ipython",
    "version": 2
   },
   "file_extension": ".py",
   "mimetype": "text/x-python",
   "name": "python",
   "nbconvert_exporter": "python",
   "pygments_lexer": "ipython2",
   "version": "2.7.6"
  }
 },
 "nbformat": 4,
 "nbformat_minor": 5
}
