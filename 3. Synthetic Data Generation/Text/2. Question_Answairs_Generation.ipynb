{
 "cells": [
  {
   "metadata": {},
   "cell_type": "markdown",
   "source": [
    "# Question & Answers pairs generator\n",
    "Generating synthetic question-and-answer (Q&A) pairs from documents is a powerful way to enhance training datasets for large language models (LLMs). This is especially useful for tasks like:\n",
    "- Building or fine-tuning RAG and retrieval-based systems\n",
    "- Training models for document comprehension and summarization\n",
    "- Creating multilingual or domain-specific Q&A datasets without exposing real user data\n",
    "\n",
    "In this notebook, we’ll show how to use the `DocumentQAGeneration` class from the YData SDK to generate grounded Q&A pairs from documents, folders, or in-memory tables.\n",
    "\n",
    "#### Prerequisites\n",
    "Make sure you have installed the YData SDK package:\n",
    "```\n",
    " pip install ydata-sdk\n",
    "```\n",
    "and that you're registered at https://ydata.ai/register"
   ],
   "id": "12c462e4e6a8a46b"
  },
  {
   "metadata": {},
   "cell_type": "markdown",
   "source": "## Q&A pairs generation from existing documents",
   "id": "742dfe50594264fd"
  },
  {
   "metadata": {},
   "cell_type": "code",
   "outputs": [],
   "execution_count": null,
   "source": [
    "### Import required classes\n",
    "from ydata.synthesizers.text.model.qa import DocumentQAGeneration\n",
    "\n",
    "## Step 2:Initialize the Q&A Generator\n",
    "##Replace `Add-token` with your ydata-sdk token\n",
    "\n",
    "import os\n",
    "os['']=\"ADD-TOKEN\"\n",
    "\n",
    "# By default the model will leverage latest OpenAI model. You can also configure it to use Anthropic's claude instead, depending on the type of document you want to use to generate Q&A.\n",
    "# Use the input parameters `provider` and `model_name`\n",
    "qa_generator = DocumentQAGeneration()"
   ],
   "id": "6733a9a42b5881a0"
  },
  {
   "metadata": {},
   "cell_type": "markdown",
   "source": [
    "### Generate Q&A Pairs from a single input document\n",
    "You can extract question-and-answer pairs from a single supported document, such as `.docx` or `.txt`. The generator processes the file in chunks to ensure completeness and accuracy."
   ],
   "id": "64327f144756fed5"
  },
  {
   "metadata": {},
   "cell_type": "code",
   "outputs": [],
   "execution_count": null,
   "source": [
    "result = qa_generator.generate(\n",
    "    input_source=\"/path/to/your/file.docx\",\n",
    "    docs_extension=\"docx\",\n",
    "    num_qa_pairs=10\n",
    ")\n",
    "\n",
    "result"
   ],
   "id": "22b5919755021917"
  },
  {
   "metadata": {},
   "cell_type": "markdown",
   "source": [
    "### Generate Q&A Pairs from a Folder\n",
    "\n",
    "You can also generate Q&A pairs from an entire folder of documents. Supported file types include `.docx` and `.txt`, and each file is processed individually while maintaining consistent variability and quality."
   ],
   "id": "64cadac8ddc1d442"
  },
  {
   "metadata": {},
   "cell_type": "code",
   "outputs": [],
   "execution_count": null,
   "source": [
    "folder_result = qa_generator.generate(\n",
    "    input_source=\"/path/to/your/folder/\",\n",
    "    docs_extension=\"docx\",\n",
    "    num_qa_pairs=5\n",
    ")\n",
    "\n",
    "folder_result"
   ],
   "id": "f83ffa9fcaec467f"
  },
  {
   "metadata": {},
   "cell_type": "markdown",
   "source": [
    "### Generate Q&A Pairs from an In-Memory Table\n",
    "\n",
    "You can also generate Q&A pairs from an entire folder of documents. Supported file types include `.docx` and `.txt`, and each file is processed individually while maintaining consistent variability and quality.\n"
   ],
   "id": "1bd376e388740c28"
  },
  {
   "metadata": {},
   "cell_type": "code",
   "outputs": [],
   "execution_count": null,
   "source": [
    "import pyarrow as pa\n",
    "\n",
    "documents_table = pa.table({\n",
    "    \"text\": [\n",
    "        \"This is a sample document about machine learning. It discusses various algorithms and their applications.\",\n",
    "        \"Another document about data science and its importance in modern business.\"\n",
    "    ],\n",
    "    \"metadata\": [\n",
    "        {\"source\": \"doc1\", \"author\": \"John Doe\"},\n",
    "        {\"source\": \"doc2\", \"author\": \"Jane Smith\"}\n",
    "    ]\n",
    "})\n",
    "\n",
    "table_result = qa_generator.generate(\n",
    "    input_source=documents_table,\n",
    "    num_qa_pairs=3\n",
    ")\n",
    "\n",
    "table_result"
   ],
   "id": "56edeb4e8666a1c7"
  },
  {
   "metadata": {},
   "cell_type": "markdown",
   "source": [
    "## Conclusion\n",
    "\n",
    "Synthetic Q&A generation is a powerful tool for enhancing model training and evaluation. By programmatically generating high-quality, grounded Q&A pairs, organizations can:\n",
    "\n",
    "- Improve LLM performance on domain-specific questions\n",
    "- Enable more effective retrieval-augmented generation (RAG) systems\n",
    "- Enrich datasets while avoiding privacy or compliance issues\n",
    "\n",
    "This makes it especially useful for applications in:\n",
    "- Customer support automation\n",
    "- Legal document analysis\n",
    "- Educational content generation\n",
    "- Healthcare documentation and clinical QA systems\n",
    "\n",
    "For more details, visit the [YData SDK documentation](https://docs.sdk.ydata.ai/latest/synthetic_data/)."
   ],
   "id": "b078031e2ae0dce5"
  }
 ],
 "metadata": {
  "kernelspec": {
   "display_name": "Python 3",
   "language": "python",
   "name": "python3"
  },
  "language_info": {
   "codemirror_mode": {
    "name": "ipython",
    "version": 2
   },
   "file_extension": ".py",
   "mimetype": "text/x-python",
   "name": "python",
   "nbconvert_exporter": "python",
   "pygments_lexer": "ipython2",
   "version": "2.7.6"
  }
 },
 "nbformat": 4,
 "nbformat_minor": 5
}
