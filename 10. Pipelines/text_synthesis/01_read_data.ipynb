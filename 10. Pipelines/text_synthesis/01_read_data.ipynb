{
 "cells": [
  {
   "cell_type": "markdown",
   "id": "4f8aae52-85c5-4375-bff3-5b407a348882",
   "metadata": {
    "tags": []
   },
   "source": [
    "# Synthetic text generation"
   ]
  },
  {
   "cell_type": "markdown",
   "id": "5b35856d-21ed-4ff4-850a-fef806cdf2fb",
   "metadata": {},
   "source": [
    "Synthetic text generation plays a crucial role in improving the performance of Generative AI applications by providing abundant, high-quality training data without compromising real-world privacy. This is particularly valuable in sectors like healthcare and finance, where sensitive information must be protected. By utilizing synthetic data, generative AI can be trained more effectively, leading to better text generation that augments human creativity, automates routine tasks, and ultimately drives innovation while safeguarding privacy.\n",
    "\n",
    "In this pipeline we will be covering YData Fabric flow to augment existing unstructured datatasets while protecting sensitive and private data through PII identification and masking."
   ]
  },
  {
   "cell_type": "markdown",
   "id": "33882fd0-5099-411d-9d72-cc651ad45699",
   "metadata": {},
   "source": [
    "## Read an existing datasource"
   ]
  },
  {
   "cell_type": "code",
   "execution_count": 1,
   "id": "ec658c92",
   "metadata": {
    "collapsed": false,
    "jupyter": {
     "outputs_hidden": false
    },
    "tags": []
   },
   "outputs": [
    {
     "name": "stderr",
     "output_type": "stream",
     "text": [
      "/home/ydata/.venv/lib/python3.10/site-packages/ydata/dataset/dataset.py:80: UserWarning: All the input Variable Types were set as `string` or `object`. It is recommend to revise the VariableType settings for optimal results.\n",
      "  warnings.warn(\n",
      "/home/ydata/.venv/lib/python3.10/site-packages/ydata/dataset/dataset.py:80: UserWarning: All the input Variable Types were set as `string` or `object`. It is recommend to revise the VariableType settings for optimal results.\n",
      "  warnings.warn(\n",
      "/home/ydata/.venv/lib/python3.10/site-packages/ydata/dataset/dataset.py:80: UserWarning: All the input Variable Types were set as `string` or `object`. It is recommend to revise the VariableType settings for optimal results.\n",
      "  warnings.warn(\n"
     ]
    },
    {
     "name": "stdout",
     "output_type": "stream",
     "text": [
      "\u001b[1mMetadata Summary \n",
      " \n",
      "\u001b[0m\u001b[1mDataset type: \u001b[0mTABULAR\n",
      "\u001b[1mDataset attributes: \u001b[0m\n",
      "\u001b[1mNumber of columns: \u001b[0m1\n",
      "\u001b[1mNumber of rows: \u001b[0m75316\n",
      "\u001b[1mDuplicate rows: \u001b[0m20712\n",
      "\u001b[1mTarget column: \u001b[0m\n",
      "\n",
      "\u001b[1mColumn detail: \u001b[0m\n",
      "  Column Data type Variable type Characteristics\n",
      "0   text  longtext        string                \n",
      "\n",
      "\u001b[1mWarnings: \u001b[0m\n",
      "      Warning    Columns\n",
      "0  duplicates  [dataset]\n",
      "\n"
     ]
    }
   ],
   "source": [
    "# Importing YData's packages\n",
    "from ydata.labs import DataSources\n",
    "# Reading the Dataset from the DataSource\n",
    "datasource = DataSources.get(uid='{datasource-id}')\n",
    "dataset = datasource.dataset\n",
    "# Getting the calculated Metadata to get the profile overview information in the labs\n",
    "metadata = datasource.metadata\n",
    "print(metadata)"
   ]
  },
  {
   "cell_type": "markdown",
   "id": "b960d1ba-8d31-4226-b741-81996981955c",
   "metadata": {},
   "source": [
    "## Calculating the Metadata & the Profile"
   ]
  },
  {
   "cell_type": "code",
   "execution_count": null,
   "id": "5f37d652-3fd0-43fa-8830-8f52b07e7bc7",
   "metadata": {
    "tags": []
   },
   "outputs": [
    {
     "data": {
      "application/vnd.jupyter.widget-view+json": {
       "model_id": "f9b75e227e7141118d43f3726d964c41",
       "version_major": 2,
       "version_minor": 0
      },
      "text/plain": [
       "Summarize dataset:   0%|          | 0/5 [00:00<?, ?it/s]"
      ]
     },
     "metadata": {},
     "output_type": "display_data"
    }
   ],
   "source": [
    "from ydata.profiling import ProfileReport\n",
    "\n",
    "report = ProfileReport(dataset)\n",
    "report_html = report.to_html()"
   ]
  },
  {
   "cell_type": "markdown",
   "id": "3ca382b1-82d7-4359-bfe6-50d776ed8aaf",
   "metadata": {},
   "source": [
    "## Setting the pipeline step outputs"
   ]
  },
  {
   "cell_type": "code",
   "execution_count": null,
   "id": "338f9edc-38df-4b7c-8977-6b48bdbcef28",
   "metadata": {
    "tags": []
   },
   "outputs": [],
   "source": [
    "##add here the outputs logic\n",
    "import json\n",
    "\n",
    "df = dataset.head(15)\n",
    "\n",
    "profile_pipeline_output = {\n",
    "    'outputs' : [\n",
    "        {\n",
    "            'type': 'table',\n",
    "            'storage': 'inline',\n",
    "            'format': 'csv',\n",
    "            'header': list(df.columns),\n",
    "            'source': df.to_csv(header=False, index=True)\n",
    "        },\n",
    "        {\n",
    "          'type': 'web-app',\n",
    "          'storage': 'inline',\n",
    "          'source': report_html,\n",
    "        },\n",
    "    ]\n",
    "  }\n",
    "\n",
    "with open('mlpipeline-ui-metadata.json', 'w') as metadata_file:\n",
    "    json.dump(profile_pipeline_output, metadata_file)\n"
   ]
  }
 ],
 "metadata": {
  "kernelspec": {
   "display_name": "Python 3 (ipykernel)",
   "language": "python",
   "name": "python3"
  },
  "language_info": {
   "codemirror_mode": {
    "name": "ipython",
    "version": 3
   },
   "file_extension": ".py",
   "mimetype": "text/x-python",
   "name": "python",
   "nbconvert_exporter": "python",
   "pygments_lexer": "ipython3",
   "version": "3.10.12"
  }
 },
 "nbformat": 4,
 "nbformat_minor": 5
}
