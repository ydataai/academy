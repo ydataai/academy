{
 "cells": [
  {
   "cell_type": "markdown",
   "id": "6ac26ef7-b06f-4103-aad8-ae426f594414",
   "metadata": {
    "papermill": {
     "duration": 0.043052,
     "end_time": "2022-10-24T06:30:58.897744",
     "exception": false,
     "start_time": "2022-10-24T06:30:58.854692",
     "status": "completed"
    },
    "tags": []
   },
   "source": [
    "# 3. Imbalanced classes\n",
    "\n",
    "## Synthesize and Modeling the Data \n",
    "\n",
    "Class imbalance occurs when the number of a certain class outweights the number of other classes present in the dataset. If a naive classifier model is used under the presence of imbalanced classes, it can achieve high accuracy by assigning all cases to the majority class - but this is very damaging for a a business and can have high costs associated with it.\n",
    "\n",
    "\n",
    "Since we had earlier diagnosed an imbalanced class problem, using YData's state-of-the-art synthesizers, we can generate synthetic data for the minority class and balance it.\n",
    "\n",
    "However, we would only do so for the training dataset, thus continuously evaluating the performance against the real unaltered test dataset."
   ]
  },
  {
   "cell_type": "markdown",
   "id": "96d0b698-7e76-4fc5-a8f6-73eb1b3fa68e",
   "metadata": {
    "papermill": {
     "duration": 0.045129,
     "end_time": "2022-10-24T06:30:58.986966",
     "exception": false,
     "start_time": "2022-10-24T06:30:58.941837",
     "status": "completed"
    },
    "tags": []
   },
   "source": [
    "### Import the needed packages"
   ]
  },
  {
   "cell_type": "code",
   "execution_count": 1,
   "id": "211366eb-3e7c-4a02-85f3-89108aef89a6",
   "metadata": {},
   "outputs": [],
   "source": [
    "%%capture\n",
    "!pip install xgboost"
   ]
  },
  {
   "cell_type": "code",
   "execution_count": 2,
   "id": "f065aa5e-c316-4686-8e15-e202a2015709",
   "metadata": {
    "papermill": {
     "duration": 2.615864,
     "end_time": "2022-10-24T06:31:01.645661",
     "exception": false,
     "start_time": "2022-10-24T06:30:59.029797",
     "status": "completed"
    },
    "tags": []
   },
   "outputs": [],
   "source": [
    "import os\n",
    "import sys\n",
    "\n",
    "import pickle \n",
    "\n",
    "import pandas as pd\n",
    "\n",
    "from balance_model_training import train_model, augment_minority\n",
    "\n",
    "from ydata.dataset import Dataset\n",
    "from ydata.metadata import Metadata\n",
    "from ydata.synthesizers.regular import RegularSynthesizer"
   ]
  },
  {
   "cell_type": "code",
   "execution_count": 3,
   "id": "0e1f74f6",
   "metadata": {
    "papermill": {
     "duration": 0.05257,
     "end_time": "2022-10-24T06:31:01.742295",
     "exception": false,
     "start_time": "2022-10-24T06:31:01.689725",
     "status": "completed"
    },
    "tags": []
   },
   "outputs": [],
   "source": [
    "module_path = os.path.abspath(os.path.join('..'))\n",
    "if module_path not in sys.path:\n",
    "    sys.path.append(module_path)"
   ]
  },
  {
   "cell_type": "code",
   "execution_count": 4,
   "id": "08ebee4b-c8d5-4028-9a30-35bb80316f3c",
   "metadata": {
    "papermill": {
     "duration": 0.051136,
     "end_time": "2022-10-24T06:31:01.836175",
     "exception": false,
     "start_time": "2022-10-24T06:31:01.785039",
     "status": "completed"
    },
    "tags": []
   },
   "outputs": [],
   "source": [
    "augment=int(bool(os.getenv('augment', True)))\n",
    "sample_size = int(os.getenv('sample'))\n",
    "\n",
    "prep = {}\n",
    "\n",
    "label = os.getenv('label', 'Class')\n",
    "\n",
    "if not augment:\n",
    "    sample_size = 0"
   ]
  },
  {
   "cell_type": "markdown",
   "id": "2aafa489-1b22-405d-bc3e-9e1bbe99477f",
   "metadata": {
    "papermill": {
     "duration": 0.042214,
     "end_time": "2022-10-24T06:31:02.031270",
     "exception": false,
     "start_time": "2022-10-24T06:31:01.989056",
     "status": "completed"
    },
    "tags": []
   },
   "source": [
    "## Traing a synthesizer for the minority class"
   ]
  },
  {
   "cell_type": "code",
   "execution_count": 5,
   "id": "af1c45e5-ad3e-4917-ae91-4052f047f8d5",
   "metadata": {
    "papermill": {
     "duration": 0.237475,
     "end_time": "2022-10-24T06:31:02.313531",
     "exception": false,
     "start_time": "2022-10-24T06:31:02.076056",
     "status": "completed"
    },
    "tags": []
   },
   "outputs": [],
   "source": [
    "data = pd.read_csv('train.csv', index_col=[0])\n",
    "\n",
    "#load the metadata as well\n",
    "metadata = 'loading the metadata'"
   ]
  },
  {
   "cell_type": "markdown",
   "id": "5efeb82a-4204-497c-b95a-60eed3217791",
   "metadata": {},
   "source": [
    "Add here more details, below an example hon how to create a synthesizer"
   ]
  },
  {
   "cell_type": "code",
   "execution_count": 6,
   "id": "ad1f6116-5d38-4521-a29e-fed7b2fbb5e7",
   "metadata": {},
   "outputs": [
    {
     "name": "stdout",
     "output_type": "stream",
     "text": [
      "[########################################] | 100% Completed | 101.68 ms\n",
      "[########################################] | 100% Completed | 111.13 ms\n",
      "[########################################] | 100% Completed | 202.90 ms\n",
      "[########################################] | 100% Completed | 1.06 sms\n"
     ]
    }
   ],
   "source": [
    "#split the dataset into minority and majority class\n",
    "c_minority = data[data[label]==1]\n",
    "\n",
    "#Metadata for the minority class \n",
    "c_minority = Dataset(c_minority)\n",
    "minority_metadata = Metadata(c_minority)"
   ]
  },
  {
   "cell_type": "raw",
   "id": "f66fffac-0365-4c56-b239-3782766cd375",
   "metadata": {},
   "source": [
    "#### Fit the synthesizer to the training minority records\n",
    "#### YData synthesizer example to train\n",
    "synth = RegularSynthesizer()\n",
    "synth.fit(c_minority, metadata=minority_metadata)\n",
    "\n",
    "#### and sample new synthetic records\n",
    "#### Example on how to call YData synthesizers, the train_model function is the one responsible for train and agumentation \n",
    "sample = synth.sample(n_samples=1000)"
   ]
  },
  {
   "cell_type": "markdown",
   "id": "73785504-6f60-4963-8438-95181ed8755e",
   "metadata": {},
   "source": [
    "### Integrate the class augmentation with the classifier training\n",
    "\n",
    "Add here more details explaining the code below."
   ]
  },
  {
   "cell_type": "code",
   "execution_count": 8,
   "id": "b620eb0a",
   "metadata": {
    "papermill": {
     "duration": 24.608997,
     "end_time": "2022-10-24T06:31:26.966307",
     "exception": false,
     "start_time": "2022-10-24T06:31:02.357310",
     "status": "completed"
    },
    "tags": []
   },
   "outputs": [
    {
     "name": "stdout",
     "output_type": "stream",
     "text": [
      "0\n",
      "entrou\n",
      "145544\n",
      "(248, 30)\n",
      "[########################################] | 100% Completed | 101.44 ms\n",
      "[########################################] | 100% Completed | 203.00 ms\n",
      "[########################################] | 100% Completed | 947.97 ms\n",
      "INFO: 2023-02-16 18:54:32,998 [SYNTHESIZER] - Number columns considered for synth: 30\n",
      "INFO: 2023-02-16 18:54:33,287 [SYNTHESIZER] - Starting the synthetic data modeling process over 1x1 blocks.\n",
      "INFO: 2023-02-16 18:54:33,290 [SYNTHESIZER] - Preprocess segment\n",
      "INFO: 2023-02-16 18:54:33,295 [SYNTHESIZER] - Synthesizer init.\n",
      "INFO: 2023-02-16 18:54:33,296 [SYNTHESIZER] - Processing the data prior fitting the synthesizer.\n",
      "INFO: 2023-02-16 18:54:34,461 [SYNTHESIZER] - Start generating model samples.\n",
      "Size training: 291336\n",
      "Size test: 36449\n",
      "Model training: DummyClassifier\n",
      "Model training: RandomForestClassifier\n",
      "Model training: AdaBoostClassifier\n",
      "Model training: XGBClassifier\n"
     ]
    }
   ],
   "source": [
    "##add output ratio\n",
    "\n",
    "if augment==1:\n",
    "    result, models, n_samples= train_model(X=data, label=label, augmentation=True, train_synth=True, sample_size=sample_size)\n",
    "else:\n",
    "    result, models, n_samples= train_model(X=data, label=label, augmentation=False, train_synth=False, sample_size=sample_size)\n",
    "    \n",
    "prep['Balancing'] = augment\n",
    "prep['Num_samples'] = n_samples"
   ]
  },
  {
   "cell_type": "code",
   "execution_count": 11,
   "id": "a8de7a2c-1069-4ce6-8b7e-b4ef7e6153f8",
   "metadata": {
    "papermill": {
     "duration": 0.059637,
     "end_time": "2022-10-24T06:31:27.077645",
     "exception": false,
     "start_time": "2022-10-24T06:31:27.018008",
     "status": "completed"
    },
    "tags": []
   },
   "outputs": [],
   "source": [
    "#Save the best model? Does it make sense?\n",
    "#Here save the models dict? What can I do about this\n",
    "optimized_model = models[result.set_index('model')['f1_score'].idxmax()]"
   ]
  },
  {
   "cell_type": "code",
   "execution_count": 12,
   "id": "f15d0a23-839c-4230-80f5-03d3ee69e49d",
   "metadata": {
    "papermill": {
     "duration": 0.140915,
     "end_time": "2022-10-24T06:31:27.264940",
     "exception": false,
     "start_time": "2022-10-24T06:31:27.124025",
     "status": "completed"
    },
    "tags": []
   },
   "outputs": [],
   "source": [
    "#Here the model needs also to be an output to be shown\n",
    "pickle.dump(optimized_model, open('best_model.pkl', 'wb'))\n",
    "pickle.dump(prep, open('prep_parameters.pkl', 'wb'))"
   ]
  },
  {
   "cell_type": "markdown",
   "id": "62ca2b49-e2c8-481b-adb1-0b8ccdd0e47c",
   "metadata": {
    "papermill": {
     "duration": 0.044011,
     "end_time": "2022-10-24T06:31:27.354014",
     "exception": false,
     "start_time": "2022-10-24T06:31:27.310003",
     "status": "completed"
    },
    "tags": []
   },
   "source": [
    "### Creating the pipeline step outputs"
   ]
  },
  {
   "cell_type": "code",
   "execution_count": 13,
   "id": "f67a00b2-09e4-47aa-b1c6-85d4786680ab",
   "metadata": {
    "papermill": {
     "duration": 0.100735,
     "end_time": "2022-10-24T06:31:27.496925",
     "exception": false,
     "start_time": "2022-10-24T06:31:27.396190",
     "status": "completed"
    },
    "tags": []
   },
   "outputs": [],
   "source": [
    "import json \n",
    "\n",
    "metadata = {\n",
    "    'outputs' : [\n",
    "        {\n",
    "          'type': 'markdown',\n",
    "          'storage': 'inline',\n",
    "          'source': f'## **Dataset balancing:** {bool(augment)}',\n",
    "        },\n",
    "        {\n",
    "          'type': 'table',\n",
    "          'storage': 'inline',\n",
    "          'format': 'csv',\n",
    "          'header': list(result.columns),\n",
    "          'source': result.to_csv(header=False, index=False)\n",
    "        },\n",
    "    ]\n",
    "  }\n",
    "\n",
    "#heatmap_output(data=data_mask.corr()[mask_cols].drop(missing_col+mask_cols), title='Missing correlation')\n",
    "with open('mlpipeline-ui-metadata.json', 'w') as metadata_file:\n",
    "    json.dump(metadata, metadata_file)"
   ]
  }
 ],
 "metadata": {
  "kernelspec": {
   "display_name": "Python 3 (ipykernel)",
   "language": "python",
   "name": "python3"
  },
  "language_info": {
   "codemirror_mode": {
    "name": "ipython",
    "version": 3
   },
   "file_extension": ".py",
   "mimetype": "text/x-python",
   "name": "python",
   "nbconvert_exporter": "python",
   "pygments_lexer": "ipython3",
   "version": "3.10.9"
  },
  "papermill": {
   "duration": 30.667118,
   "end_time": "2022-10-24T06:31:28.162532",
   "environment_variables": {},
   "exception": null,
   "input_path": "/mnt/laboratory/1ffabd97-374f-483a-885a-d025b3a2e2ef/05_Balance_model.ipynb",
   "output_path": "/mnt/laboratory/1ffabd97-374f-483a-885a-d025b3a2e2ef/05_Balance_model.ipynb",
   "parameters": {},
   "start_time": "2022-10-24T06:30:57.495414",
   "version": "2.1.0"
  }
 },
 "nbformat": 4,
 "nbformat_minor": 5
}
