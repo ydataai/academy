{
 "cells": [
  {
   "cell_type": "markdown",
   "id": "07cc5a76-d6a6-4a81-97b3-bec378c41998",
   "metadata": {},
   "source": [
    "# Calculate report & Send email"
   ]
  },
  {
   "cell_type": "markdown",
   "id": "cb96b0aa-0cfc-44ad-a03a-a902b89915ba",
   "metadata": {},
   "source": [
    "### Read the computed differences"
   ]
  },
  {
   "cell_type": "code",
   "execution_count": 5,
   "id": "fbf395f6-ecba-46f1-91c1-82a42a2ada09",
   "metadata": {
    "tags": []
   },
   "outputs": [],
   "source": [
    "import pickle\n",
    "\n",
    "with open('summary_diff.pkl', \"rb\") as file:\n",
    "    summary_diff = pickle.load(file)\n",
    "\n",
    "with open('stats_diff.pkl', \"rb\") as file:\n",
    "    stats_diff = pickle.load(file)"
   ]
  },
  {
   "cell_type": "markdown",
   "id": "4466dd81-f79d-4646-bcca-35c5b0b357ba",
   "metadata": {},
   "source": [
    "### Calculate the report based on configured warnings"
   ]
  },
  {
   "cell_type": "code",
   "execution_count": 2,
   "id": "aacdf727-bd69-43f5-a01f-09615cc2a26e",
   "metadata": {
    "tags": []
   },
   "outputs": [],
   "source": [
    "from metadata.metadata_compare_report import get_report\n",
    "\n",
    "diff_report = get_report(summary_diff, stats_diff)"
   ]
  },
  {
   "cell_type": "markdown",
   "id": "b5f78d6f-9fe8-4245-9dae-aa264c0e7d70",
   "metadata": {},
   "source": [
    "### Send email"
   ]
  },
  {
   "cell_type": "code",
   "execution_count": 3,
   "id": "504c6cb2-4ea6-4834-acce-cc6b444b67e9",
   "metadata": {
    "tags": []
   },
   "outputs": [
    {
     "name": "stdout",
     "output_type": "stream",
     "text": [
      "Email sent successfully!\n"
     ]
    }
   ],
   "source": [
    "from utils.emails import Email, send_email\n",
    "\n",
    "email = Email(subject=\"Warnings - Compare distribution shift\", content=diff_report)\n",
    "\n",
    "send_email(\n",
    "    recipient_email=\"{insert-email}\",\n",
    "    email = email\n",
    ")"
   ]
  },
  {
   "cell_type": "markdown",
   "id": "96eeb6be-b1ca-449c-9ae2-b6b632175307",
   "metadata": {},
   "source": [
    "## Define pipeline outputs"
   ]
  },
  {
   "cell_type": "markdown",
   "id": "bc5e301f-10d4-41a1-a188-8b8e64d74f36",
   "metadata": {},
   "source": [
    "### Visualization"
   ]
  },
  {
   "cell_type": "code",
   "execution_count": null,
   "id": "a392b82a-3b49-407b-bed2-e12178cf9a3c",
   "metadata": {},
   "outputs": [],
   "source": [
    "import json\n",
    "\n",
    "profile_pipeline_output = {\n",
    "    'outputs' : [\n",
    "    {\n",
    "      'type': 'web-app',\n",
    "      'storage': 'inline',\n",
    "      'source': diff_report,\n",
    "    },\n",
    "    ]\n",
    "  }\n",
    "\n",
    "with open('mlpipeline-ui-metadata.json', 'w') as metadata_file:\n",
    "    json.dump(profile_pipeline_output, metadata_file)"
   ]
  },
  {
   "cell_type": "markdown",
   "id": "c6127a3c-6372-44c0-b201-2b142fca4d63",
   "metadata": {},
   "source": [
    "### Metrics"
   ]
  },
  {
   "cell_type": "code",
   "execution_count": null,
   "id": "e4b7cbcf-52e7-41c7-b8d5-be511b04326b",
   "metadata": {},
   "outputs": [],
   "source": [
    "metrics = {\n",
    "'metrics': [\n",
    "    {\n",
    "        'name': 'skewnessExtendedAmount',\n",
    "        'numberValue':  summary_diff['skewness']['ExtendedAmount'],\n",
    "        'format': 'PERCENTAGE'  \n",
    "    },\n",
    "    {\n",
    "        'name': 'skewnessSalesAmount',\n",
    "        'numberValue':  summary_diff['skewness']['SalesAmount'],\n",
    "        'format': 'PERCENTAGE'  \n",
    "    },\n",
    "]\n",
    "}\n",
    "with open('mlpipeline-metrics.json', 'w') as f:\n",
    "    json.dump(metrics, f)"
   ]
  }
 ],
 "metadata": {
  "kernelspec": {
   "display_name": "Python 3 (ipykernel)",
   "language": "python",
   "name": "python3"
  },
  "language_info": {
   "codemirror_mode": {
    "name": "ipython",
    "version": 3
   },
   "file_extension": ".py",
   "mimetype": "text/x-python",
   "name": "python",
   "nbconvert_exporter": "python",
   "pygments_lexer": "ipython3",
   "version": "3.10.12"
  }
 },
 "nbformat": 4,
 "nbformat_minor": 5
}
