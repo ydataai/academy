{
 "cells": [
  {
   "cell_type": "markdown",
   "id": "5bdd91f6-ebf0-4669-acd9-716b30f2678b",
   "metadata": {},
   "source": [
    "# Read & Profile a database\n",
    "\n",
    "This Jupyter Notebook provides an in-depth analysis of the Berka database, which contains detailed financial transactions from various cards. The dataset includes information on customer demographics, account balances, transactions, and loans. The primary use-case of this analysis is to generate a synthetic database that mirrors the characteristics and patterns of the original data. \n",
    "Through this notebook, we will explore how to build a pipeline that allow to read the most up to date data, train a synthetic data generator and write the generated data to a new database.  "
   ]
  },
  {
   "cell_type": "code",
   "execution_count": 1,
   "id": "2d6b657d-d85b-4654-a466-e15c8065b5d6",
   "metadata": {
    "tags": []
   },
   "outputs": [
    {
     "name": "stderr",
     "output_type": "stream",
     "text": [
      "/home/ydata/.venv/lib/python3.10/site-packages/distributed/client.py:3169: UserWarning: Sending large graph of size 9.55 MiB.\n",
      "This may cause some slowdown.\n",
      "Consider scattering data ahead of time and using futures.\n",
      "  warnings.warn(\n"
     ]
    },
    {
     "name": "stdout",
     "output_type": "stream",
     "text": [
      "\u001b[1mMultiMetadata Summary \n",
      " \n",
      "\u001b[0m\u001b[1mTables Summary \u001b[0m\n",
      "\u001b[1mNumber of tables: \u001b[0m9 \n",
      " \n",
      "  Table name  # cols  # nrows  Primary keys             Foreign keys PK characteristics                           FK characteristics Notes\n",
      "0     append       3       20            []                                                                                               \n",
      "1   district      16       77          [a1]                                        [id]                                                   \n",
      "2    account       4     4500  [account_id]            [district_id]               [id]                      {'district_id': ['id']}      \n",
      "3     client       6     5369   [client_id]            [district_id]               [id]                      {'district_id': ['id']}      \n",
      "4       disp       4     5369     [disp_id]  [client_id, account_id]               [id]  {'client_id': ['id'], 'account_id': ['id']}      \n",
      "5       loan       9      682     [loan_id]             [account_id]               [id]                       {'account_id': ['id']}      \n",
      "6      order       6     6471    [order_id]             [account_id]               [id]                       {'account_id': ['id']}      \n",
      "7      trans      10   135000    [trans_id]             [account_id]               [id]                       {'account_id': ['id']}      \n",
      "8       card       4      892     [card_id]                [disp_id]               [id]                          {'disp_id': ['id']}      \n",
      " \n",
      "\u001b[1mRelations Summary \u001b[0m\n",
      "\u001b[1mNumber of relations: \u001b[0m8 \n",
      " \n",
      "     Table       Column Parent Table Parent Column Relation Type\n",
      "0  account  district_id     district            a1           1-n\n",
      "1   client  district_id     district            a1           1-n\n",
      "2     disp    client_id       client     client_id           1-1\n",
      "3     disp   account_id      account    account_id           1-n\n",
      "4     loan   account_id      account    account_id           1-n\n",
      "5    order   account_id      account    account_id           1-n\n",
      "6    trans   account_id      account    account_id           1-n\n",
      "7     card      disp_id         disp       disp_id           1-n\n",
      " \n",
      "\u001b[1mWarnings Summary\u001b[0m\n",
      "\u001b[1mindependent_table: \u001b[0mFound 1 with no relationship with any other table\n",
      "\u001b[1mcircular_reference: \u001b[0mOne or more potential circular references found.\n",
      "\n"
     ]
    }
   ],
   "source": [
    "# Importing YData's packages\n",
    "from ydata.labs import DataSources\n",
    "# Reading the Dataset from the DataSource\n",
    "datasource = DataSources.get(uid='f1a18828-bb2b-442d-b0cd-b581ad96b1e9', namespace='4993afef-5f60-40a7-a61d-b42ceb77016c')\n",
    "dataset = datasource.dataset\n",
    "# Getting the calculated Metadata to get the profile overview information in the labs\n",
    "metadata = datasource.metadata\n",
    "print(metadata)"
   ]
  },
  {
   "cell_type": "code",
   "execution_count": 17,
   "id": "86cbafc7-ef21-4d66-81b7-75c3f0772f55",
   "metadata": {
    "tags": []
   },
   "outputs": [
    {
     "data": {
      "text/html": [
       "<div>\n",
       "<style scoped>\n",
       "    .dataframe tbody tr th:only-of-type {\n",
       "        vertical-align: middle;\n",
       "    }\n",
       "\n",
       "    .dataframe tbody tr th {\n",
       "        vertical-align: top;\n",
       "    }\n",
       "\n",
       "    .dataframe thead th {\n",
       "        text-align: right;\n",
       "    }\n",
       "</style>\n",
       "<table border=\"1\" class=\"dataframe\">\n",
       "  <thead>\n",
       "    <tr style=\"text-align: right;\">\n",
       "      <th></th>\n",
       "      <th>Table name</th>\n",
       "      <th># cols</th>\n",
       "      <th># nrows</th>\n",
       "    </tr>\n",
       "  </thead>\n",
       "  <tbody>\n",
       "    <tr>\n",
       "      <th>0</th>\n",
       "      <td>append</td>\n",
       "      <td>3</td>\n",
       "      <td>20</td>\n",
       "    </tr>\n",
       "    <tr>\n",
       "      <th>1</th>\n",
       "      <td>district</td>\n",
       "      <td>16</td>\n",
       "      <td>77</td>\n",
       "    </tr>\n",
       "    <tr>\n",
       "      <th>2</th>\n",
       "      <td>account</td>\n",
       "      <td>4</td>\n",
       "      <td>4500</td>\n",
       "    </tr>\n",
       "    <tr>\n",
       "      <th>3</th>\n",
       "      <td>client</td>\n",
       "      <td>6</td>\n",
       "      <td>5369</td>\n",
       "    </tr>\n",
       "    <tr>\n",
       "      <th>4</th>\n",
       "      <td>disp</td>\n",
       "      <td>4</td>\n",
       "      <td>5369</td>\n",
       "    </tr>\n",
       "    <tr>\n",
       "      <th>5</th>\n",
       "      <td>loan</td>\n",
       "      <td>9</td>\n",
       "      <td>682</td>\n",
       "    </tr>\n",
       "    <tr>\n",
       "      <th>6</th>\n",
       "      <td>order</td>\n",
       "      <td>6</td>\n",
       "      <td>6471</td>\n",
       "    </tr>\n",
       "    <tr>\n",
       "      <th>7</th>\n",
       "      <td>trans</td>\n",
       "      <td>10</td>\n",
       "      <td>135000</td>\n",
       "    </tr>\n",
       "    <tr>\n",
       "      <th>8</th>\n",
       "      <td>card</td>\n",
       "      <td>4</td>\n",
       "      <td>892</td>\n",
       "    </tr>\n",
       "  </tbody>\n",
       "</table>\n",
       "</div>"
      ],
      "text/plain": [
       "  Table name  # cols  # nrows\n",
       "0     append       3       20\n",
       "1   district      16       77\n",
       "2    account       4     4500\n",
       "3     client       6     5369\n",
       "4       disp       4     5369\n",
       "5       loan       9      682\n",
       "6      order       6     6471\n",
       "7      trans      10   135000\n",
       "8       card       4      892"
      ]
     },
     "execution_count": 17,
     "metadata": {},
     "output_type": "execute_result"
    }
   ],
   "source": [
    "import pandas as pd\n",
    "\n",
    "tables_info = []\n",
    "for k, table in metadata.items():\n",
    "   tables_info.append({\"Table name\": k,\n",
    "                         \"# cols\": table.ncols,\n",
    "                         \"# nrows\": table.summary['nrows'],})\n",
    "\n",
    "tables_info = pd.DataFrame(tables_info)\n",
    "tables_info"
   ]
  },
  {
   "cell_type": "code",
   "execution_count": null,
   "id": "844b5bb4-6d1f-47be-b565-7dd830f91199",
   "metadata": {},
   "outputs": [],
   "source": [
    "tables_info.to_csv('og_tables_info.csv', index=True)"
   ]
  },
  {
   "cell_type": "markdown",
   "id": "c7e54c4b-98e9-44e8-9f51-1754d523fd7b",
   "metadata": {},
   "source": [
    "## Profile Table transactions & card "
   ]
  },
  {
   "cell_type": "code",
   "execution_count": 2,
   "id": "7c6c50c2-b88f-4c00-b5f4-5d27ff6ba331",
   "metadata": {
    "tags": []
   },
   "outputs": [
    {
     "name": "stdout",
     "output_type": "stream",
     "text": [
      "INFO: 2024-08-07 09:46:37,482 generated new fontManager\n",
      "INFO: 2024-08-07 09:46:37,813 Pandas backend loaded 1.5.3\n",
      "INFO: 2024-08-07 09:46:37,820 Numpy backend loaded 1.23.5\n",
      "INFO: 2024-08-07 09:46:37,822 Pyspark backend NOT loaded\n",
      "INFO: 2024-08-07 09:46:37,823 Python backend loaded\n"
     ]
    },
    {
     "name": "stderr",
     "output_type": "stream",
     "text": [
      "/home/ydata/.venv/lib/python3.10/site-packages/numba/core/decorators.py:262: NumbaDeprecationWarning: \u001b[1mnumba.generated_jit is deprecated. Please see the documentation at: https://numba.readthedocs.io/en/stable/reference/deprecation.html#deprecation-of-generated-jit for more information and advice on a suitable replacement.\u001b[0m\n",
      "  warnings.warn(msg, NumbaDeprecationWarning)\n",
      "/home/ydata/.venv/lib/python3.10/site-packages/visions/backends/shared/nan_handling.py:51: NumbaDeprecationWarning: \u001b[1mThe 'nopython' keyword argument was not supplied to the 'numba.jit' decorator. The implicit default value for this argument is currently False, but it will be changed to True in Numba 0.59.0. See https://numba.readthedocs.io/en/stable/reference/deprecation.html#deprecation-of-object-mode-fall-back-behaviour-when-using-jit for details.\u001b[0m\n",
      "  def hasna(x: np.ndarray) -> bool:\n",
      "/home/ydata/.venv/lib/python3.10/site-packages/distributed/client.py:3169: UserWarning: Sending large graph of size 9.55 MiB.\n",
      "This may cause some slowdown.\n",
      "Consider scattering data ahead of time and using futures.\n",
      "  warnings.warn(\n"
     ]
    },
    {
     "data": {
      "application/vnd.jupyter.widget-view+json": {
       "model_id": "e005c7c8faea4fe3956da15b7d783bb4",
       "version_major": 2,
       "version_minor": 0
      },
      "text/plain": [
       "Summarize dataset:   0%|          | 0/5 [00:00<?, ?it/s]"
      ]
     },
     "metadata": {},
     "output_type": "display_data"
    },
    {
     "name": "stderr",
     "output_type": "stream",
     "text": [
      "/home/ydata/.venv/lib/python3.10/site-packages/ydata_profiling/model/correlations.py:66: UserWarning: There was an attempt to calculate the auto correlation, but this failed.\n",
      "To hide this warning, disable the calculation\n",
      "(using `df.profile_report(correlations={\"auto\": {\"calculate\": False}})`\n",
      "If this is problematic for your use case, please report this as an issue:\n",
      "https://github.com/ydataai/ydata-profiling/issues\n",
      "(include the error message: 'cannot reindex on an axis with duplicate labels')\n",
      "  warnings.warn(\n"
     ]
    },
    {
     "data": {
      "application/vnd.jupyter.widget-view+json": {
       "model_id": "47f04b6c332246abb039b78061d74cc8",
       "version_major": 2,
       "version_minor": 0
      },
      "text/plain": [
       "Generate report structure:   0%|          | 0/1 [00:00<?, ?it/s]"
      ]
     },
     "metadata": {},
     "output_type": "display_data"
    },
    {
     "data": {
      "application/vnd.jupyter.widget-view+json": {
       "model_id": "e7d840414b1743599a418db962754088",
       "version_major": 2,
       "version_minor": 0
      },
      "text/plain": [
       "Render HTML:   0%|          | 0/1 [00:00<?, ?it/s]"
      ]
     },
     "metadata": {},
     "output_type": "display_data"
    },
    {
     "data": {
      "application/vnd.jupyter.widget-view+json": {
       "model_id": "fcfa8a002bef4b54a7642c6c521807a9",
       "version_major": 2,
       "version_minor": 0
      },
      "text/plain": [
       "Summarize dataset:   0%|          | 0/5 [00:00<?, ?it/s]"
      ]
     },
     "metadata": {},
     "output_type": "display_data"
    },
    {
     "data": {
      "application/vnd.jupyter.widget-view+json": {
       "model_id": "2293fa71cafc4306b21870437bbc48b6",
       "version_major": 2,
       "version_minor": 0
      },
      "text/plain": [
       "Generate report structure:   0%|          | 0/1 [00:00<?, ?it/s]"
      ]
     },
     "metadata": {},
     "output_type": "display_data"
    },
    {
     "data": {
      "application/vnd.jupyter.widget-view+json": {
       "model_id": "cfc6b729ef534cafbb048b4f8be49a1c",
       "version_major": 2,
       "version_minor": 0
      },
      "text/plain": [
       "Render HTML:   0%|          | 0/1 [00:00<?, ?it/s]"
      ]
     },
     "metadata": {},
     "output_type": "display_data"
    }
   ],
   "source": [
    "from ydata.profiling import ProfileReport\n",
    "\n",
    "report_trans = ProfileReport(dataset['trans'], title='Profiling Berka transactions') \n",
    "report_card = ProfileReport(dataset['card'], title='Profiling Card transactions')\n",
    "\n",
    "report_trans_html = report_trans.to_html()\n",
    "report_card_html = report_card.to_html()\n"
   ]
  },
  {
   "cell_type": "markdown",
   "id": "ad28c6d2-d6bc-421c-9be5-cad1cdd9a8d9",
   "metadata": {},
   "source": [
    "### Pipeline outputs"
   ]
  },
  {
   "cell_type": "code",
   "execution_count": 7,
   "id": "b6da3d29-7ffc-47fd-8e80-a40222b20943",
   "metadata": {},
   "outputs": [],
   "source": [
    "##add here the outputs logic\n",
    "import json\n",
    "\n",
    "profile_pipeline_output = {\n",
    "    'outputs' :  [\n",
    "        {\n",
    "            'type': 'table',\n",
    "            'storage': 'inline',\n",
    "            'format': 'csv',\n",
    "            'header': list(tables_info.columns),\n",
    "            'source': tables_info.to_csv(header=False, index=True)\n",
    "        },\n",
    "        {\n",
    "          'type': 'web-app',\n",
    "          'storage': 'inline',\n",
    "          'source': report_trans_html,\n",
    "        },\n",
    "        {\n",
    "          'type': 'web-app',\n",
    "          'storage': 'inline',\n",
    "          'source': report_card_html,\n",
    "        },\n",
    "    ]\n",
    "  }\n",
    "with open('mlpipeline-ui-metadata.json', 'w') as metadata_file:\n",
    "    json.dump(profile_pipeline_output, metadata_file)\n"
   ]
  }
 ],
 "metadata": {
  "kernelspec": {
   "display_name": "Python 3 (ipykernel)",
   "language": "python",
   "name": "python3"
  },
  "language_info": {
   "codemirror_mode": {
    "name": "ipython",
    "version": 3
   },
   "file_extension": ".py",
   "mimetype": "text/x-python",
   "name": "python",
   "nbconvert_exporter": "python",
   "pygments_lexer": "ipython3",
   "version": "3.10.12"
  }
 },
 "nbformat": 4,
 "nbformat_minor": 5
}
