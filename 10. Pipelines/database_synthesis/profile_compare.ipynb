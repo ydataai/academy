{
 "cells": [
  {
   "cell_type": "markdown",
   "id": "4112a981-19bf-4331-ac30-25c35cf62f2a",
   "metadata": {},
   "source": [
    "# Profile compare table from a database - Real vs Synthetic data\n",
    "\n",
    "Profiling is crucial for comparing the quality of real and synthetic data in a database because it provides a detailed analysis of the data's characteristics, such as distribution, completeness, and consistency. By profiling both datasets, discrepancies and similarities can be identified, ensuring that the synthetic data accurately mirrors the real data's attributes. This process helps validate the reliability of synthetic data for testing, modeling, and decision-making, ensuring that the synthetic data is a trustworthy stand-in for real data without compromising data quality or integrity.\n",
    "\n",
    "In this notebook it is showcase how to compare profile a table from the original and another from the synthetic database."
   ]
  },
  {
   "cell_type": "markdown",
   "id": "6123d735-a2ed-4c71-9004-d39a11121f85",
   "metadata": {},
   "source": [
    "## Get the original data"
   ]
  },
  {
   "cell_type": "code",
   "execution_count": 1,
   "id": "e5b7e67a-587a-40b5-aa32-ed5d17adba72",
   "metadata": {
    "tags": []
   },
   "outputs": [],
   "source": [
    "# Importing YData's packages\n",
    "from ydata.labs import Connectors\n",
    "# Getting a previously created Connector\n",
    "connector = Connectors.get(uid='{datasource-id}')"
   ]
  },
  {
   "cell_type": "code",
   "execution_count": 2,
   "id": "4414236c-e041-4f8f-914a-5e63ad49d750",
   "metadata": {
    "tags": []
   },
   "outputs": [],
   "source": [
    "dataset = connector.query(\"SELECT * FROM berka.trans;\")"
   ]
  },
  {
   "cell_type": "markdown",
   "id": "9efa95ae-6f81-427b-a9f6-122929600a7b",
   "metadata": {},
   "source": [
    "## Get the synthetic data"
   ]
  },
  {
   "cell_type": "code",
   "execution_count": 3,
   "id": "2443c4c1-e13f-46af-9007-749d0f3eb239",
   "metadata": {
    "tags": []
   },
   "outputs": [],
   "source": [
    "# Importing YData's packages\n",
    "from ydata.labs import Connectors\n",
    "# Getting a previously created Connector\n",
    "connectorb = Connectors.get(uid='{connector-id}')\n"
   ]
  },
  {
   "cell_type": "code",
   "execution_count": 4,
   "id": "b8661c61-df72-4e3d-aff4-4b24ff00ea4a",
   "metadata": {
    "tags": []
   },
   "outputs": [],
   "source": [
    "synth_dataset = connectorb.query(\"SELECT * FROM berka_synth.trans;\")"
   ]
  },
  {
   "cell_type": "markdown",
   "id": "25062605-bcb7-47dd-8139-3dd2b85b3be9",
   "metadata": {},
   "source": [
    "## Generate the profiling compare"
   ]
  },
  {
   "cell_type": "code",
   "execution_count": 5,
   "id": "ca19466b-95d8-448b-969a-eefcb688dcba",
   "metadata": {
    "tags": []
   },
   "outputs": [
    {
     "name": "stdout",
     "output_type": "stream",
     "text": [
      "INFO: 2024-08-07 15:12:13,181 Pandas backend loaded 1.5.3\n",
      "INFO: 2024-08-07 15:12:13,190 Numpy backend loaded 1.23.5\n",
      "INFO: 2024-08-07 15:12:13,192 Pyspark backend NOT loaded\n",
      "INFO: 2024-08-07 15:12:13,193 Python backend loaded\n"
     ]
    },
    {
     "name": "stderr",
     "output_type": "stream",
     "text": [
      "/home/ydata/.venv/lib/python3.10/site-packages/numba/core/decorators.py:262: NumbaDeprecationWarning: \u001b[1mnumba.generated_jit is deprecated. Please see the documentation at: https://numba.readthedocs.io/en/stable/reference/deprecation.html#deprecation-of-generated-jit for more information and advice on a suitable replacement.\u001b[0m\n",
      "  warnings.warn(msg, NumbaDeprecationWarning)\n",
      "/home/ydata/.venv/lib/python3.10/site-packages/visions/backends/shared/nan_handling.py:51: NumbaDeprecationWarning: \u001b[1mThe 'nopython' keyword argument was not supplied to the 'numba.jit' decorator. The implicit default value for this argument is currently False, but it will be changed to True in Numba 0.59.0. See https://numba.readthedocs.io/en/stable/reference/deprecation.html#deprecation-of-object-mode-fall-back-behaviour-when-using-jit for details.\u001b[0m\n",
      "  def hasna(x: np.ndarray) -> bool:\n",
      "/home/ydata/.venv/lib/python3.10/site-packages/distributed/client.py:3169: UserWarning: Sending large graph of size 9.55 MiB.\n",
      "This may cause some slowdown.\n",
      "Consider scattering data ahead of time and using futures.\n",
      "  warnings.warn(\n",
      "/home/ydata/.venv/lib/python3.10/site-packages/distributed/client.py:3169: UserWarning: Sending large graph of size 9.54 MiB.\n",
      "This may cause some slowdown.\n",
      "Consider scattering data ahead of time and using futures.\n",
      "  warnings.warn(\n"
     ]
    },
    {
     "data": {
      "application/vnd.jupyter.widget-view+json": {
       "model_id": "0907506d970046fa8b5a89284e4175f2",
       "version_major": 2,
       "version_minor": 0
      },
      "text/plain": [
       "Summarize dataset:   0%|          | 0/5 [00:00<?, ?it/s]"
      ]
     },
     "metadata": {},
     "output_type": "display_data"
    },
    {
     "name": "stderr",
     "output_type": "stream",
     "text": [
      "/home/ydata/.venv/lib/python3.10/site-packages/ydata_profiling/model/correlations.py:66: UserWarning: There was an attempt to calculate the auto correlation, but this failed.\n",
      "To hide this warning, disable the calculation\n",
      "(using `df.profile_report(correlations={\"auto\": {\"calculate\": False}})`\n",
      "If this is problematic for your use case, please report this as an issue:\n",
      "https://github.com/ydataai/ydata-profiling/issues\n",
      "(include the error message: 'cannot reindex on an axis with duplicate labels')\n",
      "  warnings.warn(\n"
     ]
    },
    {
     "data": {
      "application/vnd.jupyter.widget-view+json": {
       "model_id": "01ead899300b462090b5631705d21c39",
       "version_major": 2,
       "version_minor": 0
      },
      "text/plain": [
       "Summarize dataset:   0%|          | 0/5 [00:00<?, ?it/s]"
      ]
     },
     "metadata": {},
     "output_type": "display_data"
    },
    {
     "name": "stderr",
     "output_type": "stream",
     "text": [
      "/home/ydata/.venv/lib/python3.10/site-packages/ydata_profiling/model/correlations.py:66: UserWarning: There was an attempt to calculate the auto correlation, but this failed.\n",
      "To hide this warning, disable the calculation\n",
      "(using `df.profile_report(correlations={\"auto\": {\"calculate\": False}})`\n",
      "If this is problematic for your use case, please report this as an issue:\n",
      "https://github.com/ydataai/ydata-profiling/issues\n",
      "(include the error message: 'cannot reindex on an axis with duplicate labels')\n",
      "  warnings.warn(\n"
     ]
    },
    {
     "data": {
      "application/vnd.jupyter.widget-view+json": {
       "model_id": "fee96b8cf5d04c41b980295e4c1b6c6c",
       "version_major": 2,
       "version_minor": 0
      },
      "text/plain": [
       "Generate report structure:   0%|          | 0/1 [00:00<?, ?it/s]"
      ]
     },
     "metadata": {},
     "output_type": "display_data"
    },
    {
     "data": {
      "application/vnd.jupyter.widget-view+json": {
       "model_id": "2bc21684642b417c994392ebd41e0b69",
       "version_major": 2,
       "version_minor": 0
      },
      "text/plain": [
       "Render HTML:   0%|          | 0/1 [00:00<?, ?it/s]"
      ]
     },
     "metadata": {},
     "output_type": "display_data"
    }
   ],
   "source": [
    "from ydata.profiling import ProfileReport\n",
    "\n",
    "report_og  = ProfileReport(dataset)\n",
    "report_synth = ProfileReport(synth_dataset)\n",
    "\n",
    "compare = report_og.compare(report_synth)\n",
    "compare_html = compare.to_html()"
   ]
  },
  {
   "cell_type": "markdown",
   "id": "ecf9a103-1b5a-4918-bd8a-7e4377f46e66",
   "metadata": {},
   "source": [
    "### Pipeline output"
   ]
  },
  {
   "cell_type": "code",
   "execution_count": 6,
   "id": "9c619599-6900-468b-9338-9bd22a879176",
   "metadata": {
    "tags": []
   },
   "outputs": [],
   "source": [
    "##add here the outputs logic\n",
    "import json\n",
    "\n",
    "profile_pipeline_output = {\n",
    "    'outputs' :  [\n",
    "        {\n",
    "          'type': 'web-app',\n",
    "          'storage': 'inline',\n",
    "          'source': compare_html,\n",
    "        },\n",
    "\n",
    "    ]\n",
    "  }\n",
    "with open('mlpipeline-ui-metadata.json', 'w') as metadata_file:\n",
    "    json.dump(profile_pipeline_output, metadata_file)\n"
   ]
  }
 ],
 "metadata": {
  "kernelspec": {
   "display_name": "Python 3 (ipykernel)",
   "language": "python",
   "name": "python3"
  },
  "language_info": {
   "codemirror_mode": {
    "name": "ipython",
    "version": 3
   },
   "file_extension": ".py",
   "mimetype": "text/x-python",
   "name": "python",
   "nbconvert_exporter": "python",
   "pygments_lexer": "ipython3",
   "version": "3.10.12"
  }
 },
 "nbformat": 4,
 "nbformat_minor": 5
}
