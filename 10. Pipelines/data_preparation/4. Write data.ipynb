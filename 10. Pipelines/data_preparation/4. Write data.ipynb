{
 "cells": [
  {
   "cell_type": "markdown",
   "id": "18df8d82-c281-42ec-97e2-6a0ae522d58a",
   "metadata": {},
   "source": [
    "# Write to AWS S3"
   ]
  },
  {
   "cell_type": "markdown",
   "id": "71bf8e18-1247-46f0-b073-37f1e94ccfff",
   "metadata": {},
   "source": [
    "### Get the joint dataset"
   ]
  },
  {
   "cell_type": "code",
   "execution_count": 6,
   "id": "196e1f93-d541-4578-b88a-814fc66580be",
   "metadata": {},
   "outputs": [],
   "source": [
    "import os\n",
    "\n",
    "conn_id = os.getenv('WRITE_CONNECTOR_ID', '{default-connector-id}')"
   ]
  },
  {
   "cell_type": "code",
   "execution_count": 7,
   "id": "dabd3bf2-5bd4-4400-ac14-8aa35bf26781",
   "metadata": {
    "tags": []
   },
   "outputs": [],
   "source": [
    "import pandas as pd\n",
    "\n",
    "from ydata.dataset import Dataset\n",
    "\n",
    "df = pd.read_csv('merged_df.csv')\n",
    "dataset = Dataset(df)"
   ]
  },
  {
   "cell_type": "markdown",
   "id": "09d3ce11-8382-468e-85b3-4de794d1cea9",
   "metadata": {},
   "source": [
    "### Write the dataset using a connector"
   ]
  },
  {
   "cell_type": "code",
   "execution_count": null,
   "outputs": [],
   "source": [
    "# Importing YData's packages\n",
    "from ydata.labs import Connectors\n",
    "# Getting a previously created Connector\n",
    "connector = Connectors.get(uid=f'{conn_id}', namespace='{namespace_id}')\n",
    "print(connector)"
   ],
   "metadata": {
    "collapsed": false
   }
  },
  {
   "cell_type": "code",
   "execution_count": 9,
   "id": "4a5c0039-1204-481c-936d-b88c79278d09",
   "metadata": {
    "tags": []
   },
   "outputs": [],
   "source": [
    "connector.write_file(data=dataset, path='{file_path}')\n"
   ]
  }
 ],
 "metadata": {
  "kernelspec": {
   "display_name": "Python 3 (ipykernel)",
   "language": "python",
   "name": "python3"
  },
  "language_info": {
   "codemirror_mode": {
    "name": "ipython",
    "version": 3
   },
   "file_extension": ".py",
   "mimetype": "text/x-python",
   "name": "python",
   "nbconvert_exporter": "python",
   "pygments_lexer": "ipython3",
   "version": "3.10.12"
  }
 },
 "nbformat": 4,
 "nbformat_minor": 5
}
