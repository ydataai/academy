{
 "cells": [
  {
   "cell_type": "markdown",
   "id": "28acd7f8-9264-4fa8-9ae5-27ddf8c3e53e",
   "metadata": {},
   "source": [
    "# Filter Products by dates"
   ]
  },
  {
   "cell_type": "code",
   "execution_count": 26,
   "id": "a721dbb6-d8ff-40c4-8d75-76b098edd22c",
   "metadata": {
    "tags": []
   },
   "outputs": [],
   "source": [
    "import os\n",
    "\n",
    "import pandas as pd\n",
    "\n",
    "startdate = os.getenv('START_DATE', '2000-01-01')\n",
    "df=pd.read_csv('dimproduct.csv', index_col = [0])"
   ]
  },
  {
   "cell_type": "code",
   "execution_count": 29,
   "id": "2e00a73e-7047-4df8-89f2-eabfda33ebfd",
   "metadata": {},
   "outputs": [],
   "source": [
    "#prep the original dataset\n",
    "numerical_cols=['standardcost', 'listprice', 'dealerprice']\n",
    "\n",
    "for col in numerical_cols:\n",
    "    df[col]=df[col].str.replace('$', '').str.replace(',', '').astype('float')"
   ]
  },
  {
   "cell_type": "code",
   "execution_count": 30,
   "id": "0385659c-6716-4e63-bb40-7895ada52447",
   "metadata": {
    "tags": []
   },
   "outputs": [],
   "source": [
    "filtered_df = df[(df['startdate'] >= startdate)]"
   ]
  },
  {
   "cell_type": "code",
   "execution_count": 31,
   "id": "a9c1fcf3-5638-4bce-a66d-cb039e6cefd3",
   "metadata": {
    "tags": []
   },
   "outputs": [],
   "source": [
    "cols = list(set(df.columns)-set(['startdate', 'enddate']))"
   ]
  },
  {
   "cell_type": "markdown",
   "id": "d8432bc7-440b-4237-822d-42a36abfd7df",
   "metadata": {
    "tags": []
   },
   "source": [
    "## Compare the profile"
   ]
  },
  {
   "cell_type": "code",
   "execution_count": 32,
   "id": "125a3162-8cbb-40d7-a2a6-d0d1f476bf30",
   "metadata": {},
   "outputs": [
    {
     "name": "stderr",
     "output_type": "stream",
     "text": [
      "/home/ydata/.venv/lib/python3.10/site-packages/ydata_profiling/utils/dataframe.py:137: SettingWithCopyWarning: \n",
      "A value is trying to be set on a copy of a slice from a DataFrame\n",
      "\n",
      "See the caveats in the documentation: https://pandas.pydata.org/pandas-docs/stable/user_guide/indexing.html#returning-a-view-versus-a-copy\n",
      "  df.rename(columns={\"index\": \"df_index\"}, inplace=True)\n"
     ]
    },
    {
     "data": {
      "application/vnd.jupyter.widget-view+json": {
       "model_id": "16d3005c96614c7daf83d1c119ebc2c1",
       "version_major": 2,
       "version_minor": 0
      },
      "text/plain": [
       "Summarize dataset:   0%|          | 0/5 [00:00<?, ?it/s]"
      ]
     },
     "metadata": {},
     "output_type": "display_data"
    },
    {
     "name": "stderr",
     "output_type": "stream",
     "text": [
      "/home/ydata/.venv/lib/python3.10/site-packages/ydata_profiling/utils/dataframe.py:137: SettingWithCopyWarning: \n",
      "A value is trying to be set on a copy of a slice from a DataFrame\n",
      "\n",
      "See the caveats in the documentation: https://pandas.pydata.org/pandas-docs/stable/user_guide/indexing.html#returning-a-view-versus-a-copy\n",
      "  df.rename(columns={\"index\": \"df_index\"}, inplace=True)\n"
     ]
    },
    {
     "data": {
      "application/vnd.jupyter.widget-view+json": {
       "model_id": "7341e3839eb14044941fae375ed46707",
       "version_major": 2,
       "version_minor": 0
      },
      "text/plain": [
       "Summarize dataset:   0%|          | 0/5 [00:00<?, ?it/s]"
      ]
     },
     "metadata": {},
     "output_type": "display_data"
    }
   ],
   "source": [
    "from ydata.profiling import ProfileReport\n",
    "\n",
    "og_report = ProfileReport(df[cols], title='Original product table')\n",
    "flt_report = ProfileReport(filtered_df[cols], title=f'Products in shelf after {startdate}')\n",
    "\n",
    "compare = og_report.compare(flt_report)"
   ]
  },
  {
   "cell_type": "code",
   "execution_count": 33,
   "id": "c6570bca-cd2e-46b1-90b5-07b916f8e9e0",
   "metadata": {},
   "outputs": [
    {
     "data": {
      "application/vnd.jupyter.widget-view+json": {
       "model_id": "c977657266f048079dbb2ef5edb87ee0",
       "version_major": 2,
       "version_minor": 0
      },
      "text/plain": [
       "Generate report structure:   0%|          | 0/1 [00:00<?, ?it/s]"
      ]
     },
     "metadata": {},
     "output_type": "display_data"
    },
    {
     "data": {
      "application/vnd.jupyter.widget-view+json": {
       "model_id": "a4b301805ecf40cebb2ac7cb471d3032",
       "version_major": 2,
       "version_minor": 0
      },
      "text/plain": [
       "Render HTML:   0%|          | 0/1 [00:00<?, ?it/s]"
      ]
     },
     "metadata": {},
     "output_type": "display_data"
    }
   ],
   "source": [
    "compare_html = compare.to_html()"
   ]
  },
  {
   "cell_type": "code",
   "execution_count": 34,
   "id": "fe437bee-5d15-41e1-aafe-4048e8fa9504",
   "metadata": {},
   "outputs": [],
   "source": [
    "filtered_df.to_csv('filtered_products.csv')"
   ]
  },
  {
   "cell_type": "markdown",
   "id": "f703aaca-55bf-44e5-8350-dfb589ec69f3",
   "metadata": {},
   "source": [
    "## Setting the pipeline step outputs"
   ]
  },
  {
   "cell_type": "code",
   "execution_count": 35,
   "id": "1baa365a-fd99-4fee-98d4-65dca40d98aa",
   "metadata": {
    "tags": []
   },
   "outputs": [],
   "source": [
    "##add here the outputs logic\n",
    "import json\n",
    "\n",
    "profile_pipeline_output = {\n",
    "    'outputs' : [\n",
    "        {\n",
    "          'type': 'web-app',\n",
    "          'storage': 'inline',\n",
    "          'source': compare_html,\n",
    "        },\n",
    "    ]\n",
    "  }\n",
    "\n",
    "with open('mlpipeline-ui-metadata.json', 'w') as metadata_file:\n",
    "    json.dump(profile_pipeline_output, metadata_file)\n"
   ]
  }
 ],
 "metadata": {
  "kernelspec": {
   "display_name": "Python 3 (ipykernel)",
   "language": "python",
   "name": "python3"
  },
  "language_info": {
   "codemirror_mode": {
    "name": "ipython",
    "version": 3
   },
   "file_extension": ".py",
   "mimetype": "text/x-python",
   "name": "python",
   "nbconvert_exporter": "python",
   "pygments_lexer": "ipython3",
   "version": "3.10.12"
  }
 },
 "nbformat": 4,
 "nbformat_minor": 5
}
