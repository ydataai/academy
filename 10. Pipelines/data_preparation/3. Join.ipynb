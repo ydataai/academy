{
 "cells": [
  {
   "cell_type": "markdown",
   "id": "60b720ac-6f1a-4b58-8caf-96c961247e25",
   "metadata": {},
   "source": [
    "# Join the different tables"
   ]
  },
  {
   "cell_type": "code",
   "execution_count": 73,
   "id": "75bc4b78-a59c-4beb-af10-c32acfcb2dec",
   "metadata": {
    "tags": []
   },
   "outputs": [],
   "source": [
    "import pandas as pd\n",
    "\n",
    "product = pd.read_csv('filtered_products.csv')\n",
    "internetsales = pd.read_csv('factinternetsales.csv')\n",
    "customer = pd.read_csv('dimcustomer.csv')"
   ]
  },
  {
   "cell_type": "markdown",
   "id": "7aa35bee-0011-432e-a509-e26d4a2ce96c",
   "metadata": {},
   "source": [
    "## Merge the datasets"
   ]
  },
  {
   "cell_type": "code",
   "execution_count": 74,
   "id": "060459e3-34c2-4fb2-b8b5-8917ea30df10",
   "metadata": {
    "tags": []
   },
   "outputs": [],
   "source": [
    "merged_df = pd.merge(internetsales, product[['productkey', 'englishproductname', 'standardcost', 'dealerprice', 'status']], on='productkey')"
   ]
  },
  {
   "cell_type": "code",
   "execution_count": 75,
   "id": "2329125b-cf58-40b2-ac39-fb814cea035f",
   "metadata": {
    "tags": []
   },
   "outputs": [],
   "source": [
    "merged_df = pd.merge(merged_df,customer, on='customerkey')"
   ]
  },
  {
   "cell_type": "markdown",
   "id": "ffedcce4-4859-43f7-9989-b5b53ef0a236",
   "metadata": {
    "tags": []
   },
   "source": [
    "## Select columns"
   ]
  },
  {
   "cell_type": "code",
   "execution_count": 76,
   "id": "755dd509-4c4f-4466-b794-06c81dcc582c",
   "metadata": {
    "tags": []
   },
   "outputs": [],
   "source": [
    "customer_cols=['customerkey', 'geographykey', 'birthdate', 'maritalstatus', 'gender', 'totalchildren', 'yearlyincome']\n",
    "sales_cols = ['productkey', 'unitprice', 'extendedamount', 'totalproductcost', 'freight', 'orderdate', 'duedate']\n",
    "product_cols=['englishproductname', 'status']\n",
    "\n",
    "flt_cols = sales_cols + product_cols + customer_cols"
   ]
  },
  {
   "cell_type": "code",
   "execution_count": 77,
   "id": "b7df9b52-3fec-4f28-bea0-9e8aaf5ed866",
   "metadata": {
    "tags": []
   },
   "outputs": [],
   "source": [
    "final_df = merged_df[flt_cols]"
   ]
  },
  {
   "cell_type": "markdown",
   "id": "2a85083e-7794-4316-b971-f40b8e9b0e35",
   "metadata": {},
   "source": [
    "## Prepare date cols"
   ]
  },
  {
   "cell_type": "code",
   "execution_count": 78,
   "id": "1b174424-a823-40bf-adf4-c6569c1de8d0",
   "metadata": {
    "tags": []
   },
   "outputs": [
    {
     "name": "stderr",
     "output_type": "stream",
     "text": [
      "/tmp/ipykernel_612/1131269319.py:4: SettingWithCopyWarning: \n",
      "A value is trying to be set on a copy of a slice from a DataFrame.\n",
      "Try using .loc[row_indexer,col_indexer] = value instead\n",
      "\n",
      "See the caveats in the documentation: https://pandas.pydata.org/pandas-docs/stable/user_guide/indexing.html#returning-a-view-versus-a-copy\n",
      "  final_df[col] = pd.to_datetime(final_df[col], format='%Y-%m-%d')\n",
      "/tmp/ipykernel_612/1131269319.py:4: SettingWithCopyWarning: \n",
      "A value is trying to be set on a copy of a slice from a DataFrame.\n",
      "Try using .loc[row_indexer,col_indexer] = value instead\n",
      "\n",
      "See the caveats in the documentation: https://pandas.pydata.org/pandas-docs/stable/user_guide/indexing.html#returning-a-view-versus-a-copy\n",
      "  final_df[col] = pd.to_datetime(final_df[col], format='%Y-%m-%d')\n",
      "/tmp/ipykernel_612/1131269319.py:4: SettingWithCopyWarning: \n",
      "A value is trying to be set on a copy of a slice from a DataFrame.\n",
      "Try using .loc[row_indexer,col_indexer] = value instead\n",
      "\n",
      "See the caveats in the documentation: https://pandas.pydata.org/pandas-docs/stable/user_guide/indexing.html#returning-a-view-versus-a-copy\n",
      "  final_df[col] = pd.to_datetime(final_df[col], format='%Y-%m-%d')\n"
     ]
    }
   ],
   "source": [
    "date_cols = ['orderdate', 'duedate', 'birthdate']\n",
    "\n",
    "for col in date_cols:\n",
    "    final_df[col] = pd.to_datetime(final_df[col], format='%Y-%m-%d')"
   ]
  },
  {
   "cell_type": "code",
   "execution_count": 79,
   "id": "f7f7215d-ec3d-4586-aa3b-a31f6fc27b1b",
   "metadata": {},
   "outputs": [],
   "source": [
    "final_df.to_csv('merged_df.csv', index=False)"
   ]
  },
  {
   "cell_type": "markdown",
   "id": "b414f847-ec92-40f3-92e2-e55892a8da80",
   "metadata": {
    "tags": []
   },
   "source": [
    "## Calculate the dataset Metadata"
   ]
  },
  {
   "cell_type": "code",
   "execution_count": 80,
   "id": "ed10cc7a-9d96-44e6-a4de-370007f20d5d",
   "metadata": {
    "tags": []
   },
   "outputs": [
    {
     "name": "stdout",
     "output_type": "stream",
     "text": [
      "[########################################] | 100% Completed | 102.61 ms\n",
      "[########################################] | 100% Completed | 102.61 ms\n",
      "[########################################] | 100% Completed | 1.29 sms\n",
      "[########################################] | 100% Completed | 4.47 sms\n"
     ]
    }
   ],
   "source": [
    "from ydata.dataset import Dataset\n",
    "from ydata.metadata import Metadata\n",
    "\n",
    "dataset = Dataset(final_df)\n",
    "m = Metadata(dataset)"
   ]
  },
  {
   "cell_type": "code",
   "execution_count": 81,
   "id": "31f39281-a63c-4166-9fc1-b7782d7ac1e6",
   "metadata": {
    "tags": []
   },
   "outputs": [],
   "source": [
    "m.update_datatypes({'productkey':'categorical', \n",
    "                    'englishproductname': 'categorical', \n",
    "                    'customerkey': 'categorical'})"
   ]
  },
  {
   "cell_type": "code",
   "execution_count": 82,
   "id": "70e70ccc-a850-4828-b2ae-b079475ef1ed",
   "metadata": {},
   "outputs": [],
   "source": [
    "m.save('metadata_merged.pkl')"
   ]
  },
  {
   "cell_type": "markdown",
   "id": "ed509150-733a-414b-bf27-c52576c04e74",
   "metadata": {},
   "source": [
    "## Profile the dataset"
   ]
  },
  {
   "cell_type": "code",
   "execution_count": 85,
   "id": "a81bba4e-264e-481e-b418-595ac145df7c",
   "metadata": {},
   "outputs": [
    {
     "name": "stderr",
     "output_type": "stream",
     "text": [
      "/home/ydata/.venv/lib/python3.10/site-packages/ydata_profiling/utils/dataframe.py:137: SettingWithCopyWarning: \n",
      "A value is trying to be set on a copy of a slice from a DataFrame\n",
      "\n",
      "See the caveats in the documentation: https://pandas.pydata.org/pandas-docs/stable/user_guide/indexing.html#returning-a-view-versus-a-copy\n",
      "  df.rename(columns={\"index\": \"df_index\"}, inplace=True)\n"
     ]
    },
    {
     "data": {
      "application/vnd.jupyter.widget-view+json": {
       "model_id": "09dde1e8e9d543ba93f284f1ef470db3",
       "version_major": 2,
       "version_minor": 0
      },
      "text/plain": [
       "Summarize dataset:   0%|          | 0/5 [00:00<?, ?it/s]"
      ]
     },
     "metadata": {},
     "output_type": "display_data"
    },
    {
     "data": {
      "application/vnd.jupyter.widget-view+json": {
       "model_id": "fec4eeb60b404cb1afd74ce005bcc56b",
       "version_major": 2,
       "version_minor": 0
      },
      "text/plain": [
       "Generate report structure:   0%|          | 0/1 [00:00<?, ?it/s]"
      ]
     },
     "metadata": {},
     "output_type": "display_data"
    },
    {
     "data": {
      "application/vnd.jupyter.widget-view+json": {
       "model_id": "254c7d738f5c452690c622dbce0fb569",
       "version_major": 2,
       "version_minor": 0
      },
      "text/plain": [
       "Render HTML:   0%|          | 0/1 [00:00<?, ?it/s]"
      ]
     },
     "metadata": {},
     "output_type": "display_data"
    }
   ],
   "source": [
    "from ydata.profiling import ProfileReport\n",
    "\n",
    "report = ProfileReport(final_df, title='Internet sales per customer and product')\n",
    "report_html = report.to_html()"
   ]
  },
  {
   "cell_type": "markdown",
   "id": "81873749-e6fb-48f6-90e3-c897bfe2cd39",
   "metadata": {},
   "source": [
    "## Pipeline outputs"
   ]
  },
  {
   "cell_type": "code",
   "execution_count": 84,
   "id": "753c38ad-f72f-4af2-90a3-588222948f9f",
   "metadata": {
    "tags": []
   },
   "outputs": [],
   "source": [
    "##add here the outputs logic\n",
    "import json\n",
    "\n",
    "profile_pipeline_output = {\n",
    "    'outputs' : [\n",
    "        {\n",
    "            'type': 'table',\n",
    "            'storage': 'inline',\n",
    "            'format': 'csv',\n",
    "            'header': list(final_df.columns),\n",
    "            'source': final_df.sample(10).to_csv(header=False, index=True)\n",
    "        },\n",
    "        {\n",
    "          'type': 'web-app',\n",
    "          'storage': 'inline',\n",
    "          'source': report_html,\n",
    "        },\n",
    "    ]\n",
    "  }\n",
    "\n",
    "with open('mlpipeline-ui-metadata.json', 'w') as metadata_file:\n",
    "    json.dump(profile_pipeline_output, metadata_file)"
   ]
  }
 ],
 "metadata": {
  "kernelspec": {
   "display_name": "Python 3 (ipykernel)",
   "language": "python",
   "name": "python3"
  },
  "language_info": {
   "codemirror_mode": {
    "name": "ipython",
    "version": 3
   },
   "file_extension": ".py",
   "mimetype": "text/x-python",
   "name": "python",
   "nbconvert_exporter": "python",
   "pygments_lexer": "ipython3",
   "version": "3.10.12"
  }
 },
 "nbformat": 4,
 "nbformat_minor": 5
}
