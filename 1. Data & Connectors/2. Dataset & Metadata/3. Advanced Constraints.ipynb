{
 "cells": [
  {
   "cell_type": "markdown",
   "metadata": {
    "jupyter": {
     "outputs_hidden": true
    }
   },
   "source": [
    "# Advanced Constraints"
   ]
  },
  {
   "cell_type": "markdown",
   "metadata": {
    "jupyter": {
     "outputs_hidden": false
    },
    "pycharm": {
     "name": "#%%\n"
    }
   },
   "source": [
    "The purpose of this tutorial is to demonstrate the advanced capabilities of the **Constraint Engine**. For an introduction to the constraints, refer to [Dataset & Constraints](https://github.com/ydataai/academy/blob/master/3%20-%20dataset-metadata/Metadata%20%26%20Constraints.ipynb).\n",
    "\n",
    "The plan of this notebook is as follows:\n",
    "\n",
    "1. **Rows versus Columns constraints**: we introduce the difference between rows and columns constraints and demonstrate how they can be used together.\n",
    "2. **Custom Constraints**: we show how to create your own constraints based on any python function. In addition, we show an advanced example to validate constraints with time dependencies between the rows.\n",
    "\n",
    "For more information please check the [API reference from ydata-sdk documentation](https://docs.sdk.ydata.ai/latest/api/).\n"
   ]
  },
  {
   "metadata": {},
   "cell_type": "markdown",
   "source": "## Authenticate with your YData account"
  },
  {
   "cell_type": "code",
   "metadata": {
    "tags": [],
    "ExecuteTime": {
     "end_time": "2025-05-07T23:00:31.469105Z",
     "start_time": "2025-05-07T23:00:31.465295Z"
    }
   },
   "source": [
    "# Authenticate with your ydata-sdk token - https://dashboard.ydata.ai/\n",
    "import os\n",
    "\n",
    "os.environ['YDATA_LICENSE_KEY'] = '{add-your-key}'"
   ],
   "outputs": [],
   "execution_count": 1
  },
  {
   "cell_type": "markdown",
   "metadata": {},
   "source": [
    "## Advanced constraints - transactional dataset with temporal dependency\n",
    "\n",
    "To illustrate this tutorial, we will generate a toy dataset representing the transaction on a bank account.   \n",
    "Each row represents a transaction. The dataset has only 3 columns:\n",
    "\n",
    "1. `amount`: the amount of the transaction\n",
    "2. `balance`: the current balance after the transaction is applied\n",
    "3. `constant`: a constant value (for the purpose of demonstrating some constraints)\n",
    "\n",
    "It is a very generous example, so the amount can only be positive such that your balance keeps growing! The amount is generated randomly according to normal distribution."
   ]
  },
  {
   "cell_type": "code",
   "metadata": {
    "tags": [],
    "ExecuteTime": {
     "end_time": "2025-05-07T23:00:37.309323Z",
     "start_time": "2025-05-07T23:00:36.775713Z"
    }
   },
   "source": [
    "import numpy as np\n",
    "import pandas as pd\n",
    "\n",
    "from ydata.dataset import Dataset\n",
    "\n",
    "def calculate_balance(df):\n",
    "    df['balance'] = df['amount'].cumsum()\n",
    "    return df\n",
    "\n",
    "n = 10 ** 3\n",
    "mu, sigma = 0, 0.1\n",
    "data = 100 * np.abs(np.random.normal(mu, sigma, n))\n",
    "df = pd.DataFrame()\n",
    "df['amount'] = data\n",
    "df['constant'] = 10\n",
    "df = calculate_balance(df)\n",
    "df = df.reset_index()\n",
    "\n",
    "dataset = Dataset(df)"
   ],
   "outputs": [],
   "execution_count": 2
  },
  {
   "cell_type": "code",
   "metadata": {
    "tags": [],
    "ExecuteTime": {
     "end_time": "2025-05-07T23:00:38.657150Z",
     "start_time": "2025-05-07T23:00:38.649118Z"
    }
   },
   "source": [
    "dataset.head()"
   ],
   "outputs": [
    {
     "data": {
      "text/plain": [
       "   index     amount  constant    balance\n",
       "0      0   6.230388        10   6.230388\n",
       "1      1   8.751423        10  14.981810\n",
       "2      2  16.900303        10  31.882113\n",
       "3      3  19.435222        10  51.317336\n",
       "4      4  15.795862        10  67.113198"
      ],
      "text/html": [
       "<div>\n",
       "<style scoped>\n",
       "    .dataframe tbody tr th:only-of-type {\n",
       "        vertical-align: middle;\n",
       "    }\n",
       "\n",
       "    .dataframe tbody tr th {\n",
       "        vertical-align: top;\n",
       "    }\n",
       "\n",
       "    .dataframe thead th {\n",
       "        text-align: right;\n",
       "    }\n",
       "</style>\n",
       "<table border=\"1\" class=\"dataframe\">\n",
       "  <thead>\n",
       "    <tr style=\"text-align: right;\">\n",
       "      <th></th>\n",
       "      <th>index</th>\n",
       "      <th>amount</th>\n",
       "      <th>constant</th>\n",
       "      <th>balance</th>\n",
       "    </tr>\n",
       "  </thead>\n",
       "  <tbody>\n",
       "    <tr>\n",
       "      <th>0</th>\n",
       "      <td>0</td>\n",
       "      <td>6.230388</td>\n",
       "      <td>10</td>\n",
       "      <td>6.230388</td>\n",
       "    </tr>\n",
       "    <tr>\n",
       "      <th>1</th>\n",
       "      <td>1</td>\n",
       "      <td>8.751423</td>\n",
       "      <td>10</td>\n",
       "      <td>14.981810</td>\n",
       "    </tr>\n",
       "    <tr>\n",
       "      <th>2</th>\n",
       "      <td>2</td>\n",
       "      <td>16.900303</td>\n",
       "      <td>10</td>\n",
       "      <td>31.882113</td>\n",
       "    </tr>\n",
       "    <tr>\n",
       "      <th>3</th>\n",
       "      <td>3</td>\n",
       "      <td>19.435222</td>\n",
       "      <td>10</td>\n",
       "      <td>51.317336</td>\n",
       "    </tr>\n",
       "    <tr>\n",
       "      <th>4</th>\n",
       "      <td>4</td>\n",
       "      <td>15.795862</td>\n",
       "      <td>10</td>\n",
       "      <td>67.113198</td>\n",
       "    </tr>\n",
       "  </tbody>\n",
       "</table>\n",
       "</div>"
      ]
     },
     "execution_count": 3,
     "metadata": {},
     "output_type": "execute_result"
    }
   ],
   "execution_count": 3
  },
  {
   "cell_type": "markdown",
   "metadata": {},
   "source": [
    "# Rows versus Columns constraints\n",
    "\n",
    "Generally, when it comes to validate constraints on a tabular dataset, there are two different aspects:\n",
    "1. the constraints that apply to the data points (e.g.: each row should have the column `balance` positive)\n",
    "2. the constraints that apply to quantity linked to the columns (e.g.: the average of the column `balance` must be positive)\n",
    "\n",
    "They are conceptually different because the **rows** constraints are applied to each data points independently while the **columns** constraint are applied to an aggregation of all rows and represent a **domain** validation.\n",
    "\n",
    "Both are useful to validate the quality of your data and perfectly works together seamlessly. However, there is conceptual difference on the output: the **rows** constraints return a mask indicating for each rows if the constraint is violated; the **columns** constraints returns a boolean indicating if a column violates the constraint or not."
   ]
  },
  {
   "cell_type": "markdown",
   "metadata": {},
   "source": [
    "In the example below, add two columns constraints:\n",
    "- the mean of the columns `amount` and `constant` must be between 7 and 10\n",
    "- the standard deviation of the columns `amount` and `constant` must be between 0 and 8"
   ]
  },
  {
   "cell_type": "code",
   "metadata": {
    "tags": [],
    "ExecuteTime": {
     "end_time": "2025-05-07T23:01:30.772760Z",
     "start_time": "2025-05-07T23:01:30.753741Z"
    }
   },
   "source": [
    "from ydata.constraints.engine import ConstraintEngine\n",
    "from ydata.constraints.columns import MeanBetween, StandardDeviationBetween\n",
    "\n",
    "# Leveraging pre-defined Constraints\n",
    "c1 = MeanBetween(lower_bound=7, upper_bound=10, columns=['amount', 'constant'])\n",
    "c2 = StandardDeviationBetween(lower_bound=0, upper_bound=8, columns=['amount', 'constant'])\n",
    "\n",
    "ce = ConstraintEngine()\n",
    "ce.add_constraints([c1, c2])\n",
    "ce.validate(dataset)"
   ],
   "outputs": [],
   "execution_count": 5
  },
  {
   "cell_type": "markdown",
   "metadata": {},
   "source": "In the field `violation_per_constraint`, it is possible to access more information for each constraint. For instance, `StandardDeviationBetween` shows that 1 column out of 2 columns have been violated."
  },
  {
   "cell_type": "code",
   "metadata": {
    "tags": [],
    "ExecuteTime": {
     "end_time": "2025-05-07T23:01:49.886199Z",
     "start_time": "2025-05-07T23:01:49.880825Z"
    }
   },
   "source": "ce.summary()",
   "outputs": [
    {
     "data": {
      "text/plain": [
       "{'rows_violation_count': np.int64(0),\n",
       " 'rows_violation_ratio': 0.0,\n",
       " 'violation_per_constraint': {'MeanBetweenRange on columns [amount, constant]': {'column_violation_count': np.int64(0),\n",
       "   'column_violation_ratio': 0.0,\n",
       "   'violated_columns': [],\n",
       "   'validation_time': 0.01},\n",
       "  'StandardDeviationBetween on columns [amount, constant]': {'column_violation_count': np.int64(1),\n",
       "   'column_violation_ratio': 0.5,\n",
       "   'violated_columns': ['constant'],\n",
       "   'validation_time': 0.01}}}"
      ]
     },
     "execution_count": 6,
     "metadata": {},
     "output_type": "execute_result"
    }
   ],
   "execution_count": 6
  },
  {
   "cell_type": "markdown",
   "metadata": {},
   "source": [
    "## Columns constraints\n",
    "\n",
    "In this section, we provide multiple examples of columns constraints."
   ]
  },
  {
   "cell_type": "code",
   "metadata": {
    "tags": [],
    "ExecuteTime": {
     "end_time": "2025-05-07T23:02:06.189953Z",
     "start_time": "2025-05-07T23:02:06.187093Z"
    }
   },
   "source": "from ydata.constraints.columns import (MeanBetween, StandardDeviationBetween, QuantileBetween, UniqueValuesBetween, SumLowerThan, Constant)",
   "outputs": [],
   "execution_count": 7
  },
  {
   "cell_type": "markdown",
   "metadata": {},
   "source": [
    "We would like to make sure that the mean value of the columns `amount` and the column `constant` is between 7 and 10 (included):"
   ]
  },
  {
   "cell_type": "code",
   "metadata": {
    "tags": [],
    "ExecuteTime": {
     "end_time": "2025-05-07T23:02:11.725952Z",
     "start_time": "2025-05-07T23:02:11.713472Z"
    }
   },
   "source": [
    "c = MeanBetween(lower_bound=7, upper_bound=10, columns=['amount', 'constant'])\n",
    "c.validate(dataset)"
   ],
   "outputs": [
    {
     "data": {
      "text/plain": [
       "   amount  constant\n",
       "0    True      True"
      ],
      "text/html": [
       "<div>\n",
       "<style scoped>\n",
       "    .dataframe tbody tr th:only-of-type {\n",
       "        vertical-align: middle;\n",
       "    }\n",
       "\n",
       "    .dataframe tbody tr th {\n",
       "        vertical-align: top;\n",
       "    }\n",
       "\n",
       "    .dataframe thead th {\n",
       "        text-align: right;\n",
       "    }\n",
       "</style>\n",
       "<table border=\"1\" class=\"dataframe\">\n",
       "  <thead>\n",
       "    <tr style=\"text-align: right;\">\n",
       "      <th></th>\n",
       "      <th>amount</th>\n",
       "      <th>constant</th>\n",
       "    </tr>\n",
       "  </thead>\n",
       "  <tbody>\n",
       "    <tr>\n",
       "      <th>0</th>\n",
       "      <td>True</td>\n",
       "      <td>True</td>\n",
       "    </tr>\n",
       "  </tbody>\n",
       "</table>\n",
       "</div>"
      ]
     },
     "execution_count": 8,
     "metadata": {},
     "output_type": "execute_result"
    }
   ],
   "execution_count": 8
  },
  {
   "cell_type": "markdown",
   "metadata": {},
   "source": [
    "We would like to make sure that the standard deviation is comprised between 0 (excluded) and 8:"
   ]
  },
  {
   "cell_type": "code",
   "metadata": {
    "tags": [],
    "ExecuteTime": {
     "end_time": "2025-05-07T23:02:14.264467Z",
     "start_time": "2025-05-07T23:02:14.253308Z"
    }
   },
   "source": [
    "c = StandardDeviationBetween(lower_bound=0, upper_bound=8, columns=['amount', 'constant'])\n",
    "c.validate(dataset)"
   ],
   "outputs": [
    {
     "data": {
      "text/plain": [
       "   amount  constant\n",
       "0    True     False"
      ],
      "text/html": [
       "<div>\n",
       "<style scoped>\n",
       "    .dataframe tbody tr th:only-of-type {\n",
       "        vertical-align: middle;\n",
       "    }\n",
       "\n",
       "    .dataframe tbody tr th {\n",
       "        vertical-align: top;\n",
       "    }\n",
       "\n",
       "    .dataframe thead th {\n",
       "        text-align: right;\n",
       "    }\n",
       "</style>\n",
       "<table border=\"1\" class=\"dataframe\">\n",
       "  <thead>\n",
       "    <tr style=\"text-align: right;\">\n",
       "      <th></th>\n",
       "      <th>amount</th>\n",
       "      <th>constant</th>\n",
       "    </tr>\n",
       "  </thead>\n",
       "  <tbody>\n",
       "    <tr>\n",
       "      <th>0</th>\n",
       "      <td>True</td>\n",
       "      <td>False</td>\n",
       "    </tr>\n",
       "  </tbody>\n",
       "</table>\n",
       "</div>"
      ]
     },
     "execution_count": 9,
     "metadata": {},
     "output_type": "execute_result"
    }
   ],
   "execution_count": 9
  },
  {
   "cell_type": "markdown",
   "metadata": {},
   "source": [
    "Because the column `constant` is constant, its standard deviation is exactly 0 and thus, the column violate the constraint!"
   ]
  },
  {
   "cell_type": "markdown",
   "metadata": {},
   "source": [
    "It is also possible to constraint any quantile to any particular interval. For instance, the following constraint check that the 25% centile is between 3 and 3.2:"
   ]
  },
  {
   "cell_type": "code",
   "metadata": {
    "tags": [],
    "ExecuteTime": {
     "end_time": "2025-05-07T23:02:17.378799Z",
     "start_time": "2025-05-07T23:02:17.368332Z"
    }
   },
   "source": [
    "c = QuantileBetween(quantile=0.25, lower_bound=3, upper_bound=3.2, columns='amount')\n",
    "c.validate(dataset)"
   ],
   "outputs": [
    {
     "data": {
      "text/plain": [
       "   amount\n",
       "0   False"
      ],
      "text/html": [
       "<div>\n",
       "<style scoped>\n",
       "    .dataframe tbody tr th:only-of-type {\n",
       "        vertical-align: middle;\n",
       "    }\n",
       "\n",
       "    .dataframe tbody tr th {\n",
       "        vertical-align: top;\n",
       "    }\n",
       "\n",
       "    .dataframe thead th {\n",
       "        text-align: right;\n",
       "    }\n",
       "</style>\n",
       "<table border=\"1\" class=\"dataframe\">\n",
       "  <thead>\n",
       "    <tr style=\"text-align: right;\">\n",
       "      <th></th>\n",
       "      <th>amount</th>\n",
       "    </tr>\n",
       "  </thead>\n",
       "  <tbody>\n",
       "    <tr>\n",
       "      <th>0</th>\n",
       "      <td>False</td>\n",
       "    </tr>\n",
       "  </tbody>\n",
       "</table>\n",
       "</div>"
      ]
     },
     "execution_count": 10,
     "metadata": {},
     "output_type": "execute_result"
    }
   ],
   "execution_count": 10
  },
  {
   "cell_type": "markdown",
   "metadata": {},
   "source": [
    "It is possible check that the number of unique value in a column belong to a given interval. The following example is equivalent to check that a column is constant as it requires the number of unique values to be between 0 (excluded) and 1:"
   ]
  },
  {
   "cell_type": "code",
   "metadata": {
    "tags": [],
    "ExecuteTime": {
     "end_time": "2025-05-07T23:02:19.841061Z",
     "start_time": "2025-05-07T23:02:19.830162Z"
    }
   },
   "source": [
    "c = UniqueValuesBetween(lower_bound=0, upper_bound=1, columns='constant')\n",
    "c.validate(dataset)"
   ],
   "outputs": [
    {
     "data": {
      "text/plain": [
       "   constant\n",
       "0      True"
      ],
      "text/html": [
       "<div>\n",
       "<style scoped>\n",
       "    .dataframe tbody tr th:only-of-type {\n",
       "        vertical-align: middle;\n",
       "    }\n",
       "\n",
       "    .dataframe tbody tr th {\n",
       "        vertical-align: top;\n",
       "    }\n",
       "\n",
       "    .dataframe thead th {\n",
       "        text-align: right;\n",
       "    }\n",
       "</style>\n",
       "<table border=\"1\" class=\"dataframe\">\n",
       "  <thead>\n",
       "    <tr style=\"text-align: right;\">\n",
       "      <th></th>\n",
       "      <th>constant</th>\n",
       "    </tr>\n",
       "  </thead>\n",
       "  <tbody>\n",
       "    <tr>\n",
       "      <th>0</th>\n",
       "      <td>True</td>\n",
       "    </tr>\n",
       "  </tbody>\n",
       "</table>\n",
       "</div>"
      ]
     },
     "execution_count": 11,
     "metadata": {},
     "output_type": "execute_result"
    }
   ],
   "execution_count": 11
  },
  {
   "cell_type": "markdown",
   "metadata": {},
   "source": [
    "For such a trivial example, we directly provide a constraint `Constant`:"
   ]
  },
  {
   "cell_type": "code",
   "metadata": {
    "tags": [],
    "ExecuteTime": {
     "end_time": "2025-05-07T23:02:21.870403Z",
     "start_time": "2025-05-07T23:02:21.859400Z"
    }
   },
   "source": [
    "c = Constant(columns='constant')\n",
    "c.validate(dataset)"
   ],
   "outputs": [
    {
     "data": {
      "text/plain": [
       "   constant\n",
       "0      True"
      ],
      "text/html": [
       "<div>\n",
       "<style scoped>\n",
       "    .dataframe tbody tr th:only-of-type {\n",
       "        vertical-align: middle;\n",
       "    }\n",
       "\n",
       "    .dataframe tbody tr th {\n",
       "        vertical-align: top;\n",
       "    }\n",
       "\n",
       "    .dataframe thead th {\n",
       "        text-align: right;\n",
       "    }\n",
       "</style>\n",
       "<table border=\"1\" class=\"dataframe\">\n",
       "  <thead>\n",
       "    <tr style=\"text-align: right;\">\n",
       "      <th></th>\n",
       "      <th>constant</th>\n",
       "    </tr>\n",
       "  </thead>\n",
       "  <tbody>\n",
       "    <tr>\n",
       "      <th>0</th>\n",
       "      <td>True</td>\n",
       "    </tr>\n",
       "  </tbody>\n",
       "</table>\n",
       "</div>"
      ]
     },
     "execution_count": 12,
     "metadata": {},
     "output_type": "execute_result"
    }
   ],
   "execution_count": 12
  },
  {
   "cell_type": "markdown",
   "metadata": {},
   "source": [
    "Finally, it is possible check that the sum of a column is lower than a value value:"
   ]
  },
  {
   "cell_type": "code",
   "metadata": {
    "tags": [],
    "ExecuteTime": {
     "end_time": "2025-05-07T23:02:23.706847Z",
     "start_time": "2025-05-07T23:02:23.695953Z"
    }
   },
   "source": [
    "c = SumLowerThan(value=10001, columns='constant')\n",
    "c.validate(dataset)"
   ],
   "outputs": [
    {
     "data": {
      "text/plain": [
       "   constant\n",
       "0      True"
      ],
      "text/html": [
       "<div>\n",
       "<style scoped>\n",
       "    .dataframe tbody tr th:only-of-type {\n",
       "        vertical-align: middle;\n",
       "    }\n",
       "\n",
       "    .dataframe tbody tr th {\n",
       "        vertical-align: top;\n",
       "    }\n",
       "\n",
       "    .dataframe thead th {\n",
       "        text-align: right;\n",
       "    }\n",
       "</style>\n",
       "<table border=\"1\" class=\"dataframe\">\n",
       "  <thead>\n",
       "    <tr style=\"text-align: right;\">\n",
       "      <th></th>\n",
       "      <th>constant</th>\n",
       "    </tr>\n",
       "  </thead>\n",
       "  <tbody>\n",
       "    <tr>\n",
       "      <th>0</th>\n",
       "      <td>True</td>\n",
       "    </tr>\n",
       "  </tbody>\n",
       "</table>\n",
       "</div>"
      ]
     },
     "execution_count": 13,
     "metadata": {},
     "output_type": "execute_result"
    }
   ],
   "execution_count": 13
  },
  {
   "cell_type": "markdown",
   "metadata": {},
   "source": "## Mixing Rows and Columns constraints"
  },
  {
   "metadata": {},
   "cell_type": "markdown",
   "source": "The Constraint Engine accepts both type of constraints:"
  },
  {
   "cell_type": "code",
   "metadata": {
    "tags": [],
    "ExecuteTime": {
     "end_time": "2025-05-07T23:03:32.842775Z",
     "start_time": "2025-05-07T23:03:32.821436Z"
    }
   },
   "source": [
    "from ydata.constraints.rows import GreaterThan\n",
    "\n",
    "# Rows constraint\n",
    "c1 = GreaterThan(columns=['amount', 'balance'], value=1)\n",
    "\n",
    "# Column constraint\n",
    "c2 = MeanBetween(lower_bound=7, upper_bound=10, columns=['amount', 'constant'])\n",
    "c3 = StandardDeviationBetween(lower_bound=0, upper_bound=8, columns=['amount', 'constant'])\n",
    "\n",
    "ce = ConstraintEngine()\n",
    "ce.add_constraints([c1, c2, c3])\n",
    "ce.validate(dataset)"
   ],
   "outputs": [],
   "execution_count": 16
  },
  {
   "cell_type": "code",
   "metadata": {
    "tags": [],
    "ExecuteTime": {
     "end_time": "2025-05-07T23:03:34.732222Z",
     "start_time": "2025-05-07T23:03:34.725686Z"
    }
   },
   "source": "ce.summary()",
   "outputs": [
    {
     "data": {
      "text/plain": [
       "{'rows_violation_count': np.int64(66),\n",
       " 'rows_violation_ratio': 0.066,\n",
       " 'violation_per_constraint': {\"GreaterThan(columns=['amount', 'balance'], value=1)\": {'rows_violation_count': np.int64(66),\n",
       "   'rows_violation_ratio': 0.066,\n",
       "   'validation_time': 0.01},\n",
       "  'MeanBetweenRange on columns [amount, constant]': {'column_violation_count': np.int64(0),\n",
       "   'column_violation_ratio': 0.0,\n",
       "   'violated_columns': [],\n",
       "   'validation_time': 0.01},\n",
       "  'StandardDeviationBetween on columns [amount, constant]': {'column_violation_count': np.int64(1),\n",
       "   'column_violation_ratio': 0.5,\n",
       "   'violated_columns': ['constant'],\n",
       "   'validation_time': 0.01}}}"
      ]
     },
     "execution_count": 17,
     "metadata": {},
     "output_type": "execute_result"
    }
   ],
   "execution_count": 17
  },
  {
   "cell_type": "markdown",
   "metadata": {},
   "source": [
    "Remember that for **rows** constraints, the percentage refers to the number of violated rows (e.g. 7.5% for the constraint `GreaterThan`) while it refers to columns for **columns** constraints (e.g. 50% of columns are violated for the constraint `StandardDeviationBetween`)."
   ]
  },
  {
   "cell_type": "markdown",
   "metadata": {},
   "source": [
    "# Custom constraints\n",
    "\n",
    "The constraints engine comes with several pre-defined constraints to validate your dataset. \n",
    "\n",
    "However, in some cases, your constraints cannot be directly expressed by these default constraints. In thise case, you can create your own custom constraints from any Python function or lambda."
   ]
  },
  {
   "cell_type": "code",
   "metadata": {
    "tags": [],
    "ExecuteTime": {
     "end_time": "2025-05-07T23:03:43.257524Z",
     "start_time": "2025-05-07T23:03:43.255509Z"
    }
   },
   "source": [
    "from ydata.constraints.rows import CustomConstraint"
   ],
   "outputs": [],
   "execution_count": 18
  },
  {
   "cell_type": "markdown",
   "metadata": {},
   "source": [
    "## A simple example"
   ]
  },
  {
   "cell_type": "markdown",
   "metadata": {},
   "source": [
    "In the following example, we create a `CustomConstraint` to validate that each row is strictly lower than 10. Keep in mind that this is just a toy example and that in reality, the function could be arbitrarily complex depending on your own use-case:"
   ]
  },
  {
   "cell_type": "code",
   "metadata": {
    "tags": [],
    "ExecuteTime": {
     "end_time": "2025-05-07T23:03:48.397603Z",
     "start_time": "2025-05-07T23:03:48.385555Z"
    }
   },
   "source": [
    "c = CustomConstraint(name='Positive', columns=['constant', 'amount'], check=lambda x: x < 10)\n",
    "mask = c.validate(dataset)\n",
    "mask"
   ],
   "outputs": [
    {
     "data": {
      "text/plain": [
       "     constant  amount\n",
       "0       False    True\n",
       "1       False    True\n",
       "2       False   False\n",
       "3       False   False\n",
       "4       False   False\n",
       "..        ...     ...\n",
       "995     False    True\n",
       "996     False    True\n",
       "997     False    True\n",
       "998     False   False\n",
       "999     False    True\n",
       "\n",
       "[1000 rows x 2 columns]"
      ],
      "text/html": [
       "<div>\n",
       "<style scoped>\n",
       "    .dataframe tbody tr th:only-of-type {\n",
       "        vertical-align: middle;\n",
       "    }\n",
       "\n",
       "    .dataframe tbody tr th {\n",
       "        vertical-align: top;\n",
       "    }\n",
       "\n",
       "    .dataframe thead th {\n",
       "        text-align: right;\n",
       "    }\n",
       "</style>\n",
       "<table border=\"1\" class=\"dataframe\">\n",
       "  <thead>\n",
       "    <tr style=\"text-align: right;\">\n",
       "      <th></th>\n",
       "      <th>constant</th>\n",
       "      <th>amount</th>\n",
       "    </tr>\n",
       "  </thead>\n",
       "  <tbody>\n",
       "    <tr>\n",
       "      <th>0</th>\n",
       "      <td>False</td>\n",
       "      <td>True</td>\n",
       "    </tr>\n",
       "    <tr>\n",
       "      <th>1</th>\n",
       "      <td>False</td>\n",
       "      <td>True</td>\n",
       "    </tr>\n",
       "    <tr>\n",
       "      <th>2</th>\n",
       "      <td>False</td>\n",
       "      <td>False</td>\n",
       "    </tr>\n",
       "    <tr>\n",
       "      <th>3</th>\n",
       "      <td>False</td>\n",
       "      <td>False</td>\n",
       "    </tr>\n",
       "    <tr>\n",
       "      <th>4</th>\n",
       "      <td>False</td>\n",
       "      <td>False</td>\n",
       "    </tr>\n",
       "    <tr>\n",
       "      <th>...</th>\n",
       "      <td>...</td>\n",
       "      <td>...</td>\n",
       "    </tr>\n",
       "    <tr>\n",
       "      <th>995</th>\n",
       "      <td>False</td>\n",
       "      <td>True</td>\n",
       "    </tr>\n",
       "    <tr>\n",
       "      <th>996</th>\n",
       "      <td>False</td>\n",
       "      <td>True</td>\n",
       "    </tr>\n",
       "    <tr>\n",
       "      <th>997</th>\n",
       "      <td>False</td>\n",
       "      <td>True</td>\n",
       "    </tr>\n",
       "    <tr>\n",
       "      <th>998</th>\n",
       "      <td>False</td>\n",
       "      <td>False</td>\n",
       "    </tr>\n",
       "    <tr>\n",
       "      <th>999</th>\n",
       "      <td>False</td>\n",
       "      <td>True</td>\n",
       "    </tr>\n",
       "  </tbody>\n",
       "</table>\n",
       "<p>1000 rows × 2 columns</p>\n",
       "</div>"
      ]
     },
     "execution_count": 19,
     "metadata": {},
     "output_type": "execute_result"
    }
   ],
   "execution_count": 19
  },
  {
   "cell_type": "markdown",
   "metadata": {},
   "source": [
    "We can check the number of non-violated rows. As expected, all rows in `constaint` are violated while about 25% are violated for the columne `amount`."
   ]
  },
  {
   "cell_type": "code",
   "metadata": {
    "tags": [],
    "ExecuteTime": {
     "end_time": "2025-05-07T23:03:53.050430Z",
     "start_time": "2025-05-07T23:03:53.045188Z"
    }
   },
   "source": [
    "mask.sum()"
   ],
   "outputs": [
    {
     "data": {
      "text/plain": [
       "constant      0\n",
       "amount      632\n",
       "dtype: int64"
      ]
     },
     "execution_count": 20,
     "metadata": {},
     "output_type": "execute_result"
    }
   ],
   "execution_count": 20
  },
  {
   "cell_type": "markdown",
   "metadata": {},
   "source": [
    "We can easily select the violated rows for any columns. For instance, to select all violated rows for the column `amount`:"
   ]
  },
  {
   "cell_type": "code",
   "metadata": {
    "tags": [],
    "ExecuteTime": {
     "end_time": "2025-05-07T23:03:55.768398Z",
     "start_time": "2025-05-07T23:03:55.762878Z"
    }
   },
   "source": [
    "df[~mask['amount']]"
   ],
   "outputs": [
    {
     "data": {
      "text/plain": [
       "     index     amount  constant      balance\n",
       "2        2  16.900303        10    31.882113\n",
       "3        3  19.435222        10    51.317336\n",
       "4        4  15.795862        10    67.113198\n",
       "7        7  16.880093        10   101.226684\n",
       "12      12  13.390411        10   145.702538\n",
       "..     ...        ...       ...          ...\n",
       "979    979  13.666237        10  8305.625657\n",
       "980    980  17.022473        10  8322.648130\n",
       "985    985  14.463560        10  8351.245571\n",
       "992    992  20.084837        10  8399.200244\n",
       "998    998  10.686240        10  8440.196438\n",
       "\n",
       "[368 rows x 4 columns]"
      ],
      "text/html": [
       "<div>\n",
       "<style scoped>\n",
       "    .dataframe tbody tr th:only-of-type {\n",
       "        vertical-align: middle;\n",
       "    }\n",
       "\n",
       "    .dataframe tbody tr th {\n",
       "        vertical-align: top;\n",
       "    }\n",
       "\n",
       "    .dataframe thead th {\n",
       "        text-align: right;\n",
       "    }\n",
       "</style>\n",
       "<table border=\"1\" class=\"dataframe\">\n",
       "  <thead>\n",
       "    <tr style=\"text-align: right;\">\n",
       "      <th></th>\n",
       "      <th>index</th>\n",
       "      <th>amount</th>\n",
       "      <th>constant</th>\n",
       "      <th>balance</th>\n",
       "    </tr>\n",
       "  </thead>\n",
       "  <tbody>\n",
       "    <tr>\n",
       "      <th>2</th>\n",
       "      <td>2</td>\n",
       "      <td>16.900303</td>\n",
       "      <td>10</td>\n",
       "      <td>31.882113</td>\n",
       "    </tr>\n",
       "    <tr>\n",
       "      <th>3</th>\n",
       "      <td>3</td>\n",
       "      <td>19.435222</td>\n",
       "      <td>10</td>\n",
       "      <td>51.317336</td>\n",
       "    </tr>\n",
       "    <tr>\n",
       "      <th>4</th>\n",
       "      <td>4</td>\n",
       "      <td>15.795862</td>\n",
       "      <td>10</td>\n",
       "      <td>67.113198</td>\n",
       "    </tr>\n",
       "    <tr>\n",
       "      <th>7</th>\n",
       "      <td>7</td>\n",
       "      <td>16.880093</td>\n",
       "      <td>10</td>\n",
       "      <td>101.226684</td>\n",
       "    </tr>\n",
       "    <tr>\n",
       "      <th>12</th>\n",
       "      <td>12</td>\n",
       "      <td>13.390411</td>\n",
       "      <td>10</td>\n",
       "      <td>145.702538</td>\n",
       "    </tr>\n",
       "    <tr>\n",
       "      <th>...</th>\n",
       "      <td>...</td>\n",
       "      <td>...</td>\n",
       "      <td>...</td>\n",
       "      <td>...</td>\n",
       "    </tr>\n",
       "    <tr>\n",
       "      <th>979</th>\n",
       "      <td>979</td>\n",
       "      <td>13.666237</td>\n",
       "      <td>10</td>\n",
       "      <td>8305.625657</td>\n",
       "    </tr>\n",
       "    <tr>\n",
       "      <th>980</th>\n",
       "      <td>980</td>\n",
       "      <td>17.022473</td>\n",
       "      <td>10</td>\n",
       "      <td>8322.648130</td>\n",
       "    </tr>\n",
       "    <tr>\n",
       "      <th>985</th>\n",
       "      <td>985</td>\n",
       "      <td>14.463560</td>\n",
       "      <td>10</td>\n",
       "      <td>8351.245571</td>\n",
       "    </tr>\n",
       "    <tr>\n",
       "      <th>992</th>\n",
       "      <td>992</td>\n",
       "      <td>20.084837</td>\n",
       "      <td>10</td>\n",
       "      <td>8399.200244</td>\n",
       "    </tr>\n",
       "    <tr>\n",
       "      <th>998</th>\n",
       "      <td>998</td>\n",
       "      <td>10.686240</td>\n",
       "      <td>10</td>\n",
       "      <td>8440.196438</td>\n",
       "    </tr>\n",
       "  </tbody>\n",
       "</table>\n",
       "<p>368 rows × 4 columns</p>\n",
       "</div>"
      ]
     },
     "execution_count": 21,
     "metadata": {},
     "output_type": "execute_result"
    }
   ],
   "execution_count": 21
  },
  {
   "cell_type": "markdown",
   "metadata": {},
   "source": [
    "## Custom constraints for series\n",
    "\n",
    "A more complex example is the validation of time series when the rows have calculated values that depends on the previous rows.   \n",
    "To handle such complex yet common use-cases, we provide a special synthax to refer to previous rows.\n",
    "\n",
    "Imagine the following example: our dataset represents transactions on a bank account, and a structural constraint that **must** be respected is that the total amount at transaction **n** must be equal to the total amount at step **n-1** plus the amount of the transaction **n**.\n",
    "If such constraint is violated it means that the data has some integrity issues. Although the example is fairly simple to understand, checking such integrity constraint with temporal dependency can be tricky.    \n",
    "\n",
    "However, this is made simple with the `Constraint Engine` and the `Custom Constraint` as illustrated on the following example:"
   ]
  },
  {
   "cell_type": "code",
   "metadata": {
    "tags": [],
    "ExecuteTime": {
     "end_time": "2025-05-07T23:03:59.005707Z",
     "start_time": "2025-05-07T23:03:59.002600Z"
    }
   },
   "source": [
    "def check_balance_with_serie(df):\n",
    "    return df['balance|n'] == df['balance|n-1'] + df['amount|n']  # "
   ],
   "outputs": [],
   "execution_count": 22
  },
  {
   "cell_type": "code",
   "metadata": {
    "tags": [],
    "ExecuteTime": {
     "end_time": "2025-05-07T23:03:59.556321Z",
     "start_time": "2025-05-07T23:03:59.553345Z"
    }
   },
   "source": [
    "# The custom synthax `column|n-k` is understood as the value `n-k` of the column `column` where `n` is the current row.\n",
    "c = CustomConstraint(name=\"Balance Check with Serie\", check=check_balance_with_serie,\n",
    "                          available_columns=['balance|n', 'amount|n', 'balance|n-1'])"
   ],
   "outputs": [],
   "execution_count": 23
  },
  {
   "cell_type": "markdown",
   "metadata": {},
   "source": [
    "There is no restriction on the order of the temporal dependencies. For instance, `amount|n-5` would refer to the amount five rows behind the current one.\n",
    "\n",
    "It is important to specify what colums you want to make available to your function using the parameter `available_columns` as above. It serves the purpose of preventing side effects and optimizing the validation of such constraint."
   ]
  },
  {
   "cell_type": "code",
   "metadata": {
    "tags": [],
    "ExecuteTime": {
     "end_time": "2025-05-07T23:04:00.740061Z",
     "start_time": "2025-05-07T23:04:00.727554Z"
    }
   },
   "source": [
    "mask = c.validate(dataset)\n",
    "mask.sum()"
   ],
   "outputs": [
    {
     "data": {
      "text/plain": [
       "0    1000\n",
       "dtype: int64"
      ]
     },
     "execution_count": 24,
     "metadata": {},
     "output_type": "execute_result"
    }
   ],
   "execution_count": 24
  },
  {
   "cell_type": "markdown",
   "metadata": {},
   "source": [
    "Because our dataset was constructed precisely to respect this constraint, we obtain no violated rows, as expected."
   ]
  },
  {
   "cell_type": "markdown",
   "metadata": {},
   "source": [
    "# Conclusion"
   ]
  },
  {
   "cell_type": "markdown",
   "metadata": {},
   "source": [
    "The `Constraint Engine` is a versatile tool to validate constraints and detect issues in your dataset. Because structural constraints takes two forms, we offer two different types of constraints:\n",
    "\n",
    "1. Rows constraints that check the validaty of each row,\n",
    "2. Column constraints that check the validity of a column property.\n",
    "\n",
    "When your constraint cannot be expressed with the default `Constraint` objects that we offer, it is possible to define `CustomConstraint` with no restriction, using Python function or lambda.\n",
    "\n",
    "Finally, we also allow to define constraints with time dependency between the rows, allowing to check the integrity of complex relationships."
   ]
  }
 ],
 "metadata": {
  "kernelspec": {
   "display_name": "Python 3 (ipykernel)",
   "language": "python",
   "name": "python3"
  },
  "language_info": {
   "codemirror_mode": {
    "name": "ipython",
    "version": 3
   },
   "file_extension": ".py",
   "mimetype": "text/x-python",
   "name": "python",
   "nbconvert_exporter": "python",
   "pygments_lexer": "ipython3",
   "version": "3.10.8"
  }
 },
 "nbformat": 4,
 "nbformat_minor": 4
}
