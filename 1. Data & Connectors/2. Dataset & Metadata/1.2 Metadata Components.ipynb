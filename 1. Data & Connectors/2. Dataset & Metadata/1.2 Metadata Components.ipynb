{
 "cells": [
  {
   "cell_type": "markdown",
   "id": "ea970f5b-e432-443d-b3f0-03c0f3edf631",
   "metadata": {},
   "source": [
    "# Metadata components\n",
    "\n",
    "The `Metadata` object is the central piece of the Data Catalog as it is responsible to extract information and insights from your datasets.    \n",
    "The main information about your dataset are summarized in the `Metadata.summary` which is a dictionary indexed on the different attributes from your dataset (e.g. `cardinality`, `zeros` or `correlation`).\n",
    "\n",
    "The metadata has several individual components:\n",
    "\n",
    "- the base component which offers, type inference, basic summary and statistics about the dataset\n",
    "- the correlation component to compute the correlation between all pairs of columns\n",
    "- the characteristics component to deduce some attributes from each column (e.g. `id`, `phone number`, `location`, etc.)\n",
    "- the interaction component to deduce the interaction between all pairs of columns (TBD)\n",
    "- the constraint engine to valid certain rules on the dataset (TBD)\n",
    "\n",
    "Because some of the components are computational intensive (e.g. correlation for datasets with a lot of columns), or not relevant for your particular use-case (e.g. the characteristics on a purely numerical dataset), the components can be triggered individually.\n",
    "\n",
    "In this tutorial, we will see how to easily determine what should be computed and how to finely tune the computation."
   ]
  },
  {
   "cell_type": "markdown",
   "id": "40bc272f-fa6c-45d2-b048-58326fc16f3d",
   "metadata": {},
   "source": [
    "First, let's retrieve our dataset from the datasource."
   ]
  },
  {
   "cell_type": "code",
   "execution_count": null,
   "id": "a7ce78a3-0a5d-4190-8f39-e41f016af9e7",
   "metadata": {},
   "outputs": [],
   "source": [
    "from ydata.labs import DataSources\n",
    "from ydata.metadata import Metadata\n",
    "\n",
    "datasource = DataSources.get(uid='{uid}', namespace='{namespace}')\n",
    "dataset = datasource.dataset"
   ]
  },
  {
   "cell_type": "markdown",
   "id": "cc08ccc1-cb30-4612-b575-3b053c5e489f",
   "metadata": {},
   "source": [
    "The metadata interface offers two flags to easily separate the most computationally expensive component from the main computation:\n",
    "- `infer_characteristics` (default: `False`): indicates if the characteristics should be deduced,\n",
    "- `pairwise_metrics` (default: `True`): indicates if the (computationally expensive) pairwise metrics should be computed. It includes the correlation and interactions."
   ]
  },
  {
   "cell_type": "code",
   "execution_count": 8,
   "id": "e28cfd0f-dbbd-47cf-b0f7-b3666f9ad05b",
   "metadata": {},
   "outputs": [
    {
     "name": "stdout",
     "output_type": "stream",
     "text": [
      "[########################################] | 100% Completed | 100.84 ms\n",
      "[########################################] | 100% Completed | 214.53 ms\n"
     ]
    }
   ],
   "source": [
    "m = Metadata(dataset, infer_characteristics=False, pairwise_metrics=False)"
   ]
  },
  {
   "cell_type": "code",
   "execution_count": 9,
   "id": "2452b29e-0c9b-4786-8f7b-93e8dee958d8",
   "metadata": {},
   "outputs": [
    {
     "name": "stdout",
     "output_type": "stream",
     "text": [
      "\u001b[1mMetadata Summary \n",
      " \n",
      "\u001b[0m\u001b[1mDataset type: \u001b[0mTABULAR\n",
      "\u001b[1mDataset attributes: \u001b[0m\n",
      "\u001b[1mNumber of columns: \u001b[0m8\n",
      "\u001b[1mNumber of rows: \u001b[0m10000\n",
      "\u001b[1mDuplicate rows: \u001b[0m0\n",
      "\u001b[1mTarget column: \u001b[0m\n",
      "\n",
      "\u001b[1mColumn detail: \u001b[0m\n",
      "        Column  Data type Variable type Characteristics\n",
      "0         name     string        string                \n",
      "1      address     string        string                \n",
      "2        email     string        string                \n",
      "3         city     string        string                \n",
      "4        state     string        string                \n",
      "5    date_time       date      datetime                \n",
      "6   randomdata  numerical           int                \n",
      "7  randomdata2  numerical         float                \n",
      "\n",
      "\u001b[1mWarnings: \u001b[0m\n",
      "       Warning                              Columns\n",
      "0  cardinality  [name, address, email, city, state]\n",
      "1       unique          [address, email, date_time]\n",
      "\n"
     ]
    }
   ],
   "source": [
    "print(m)"
   ]
  },
  {
   "cell_type": "markdown",
   "id": "f1e9d320-f5c5-4d4f-9e12-3b96cda41df9",
   "metadata": {},
   "source": [
    "It also means that the warnings related to these metrics are not available at this stage!    \n",
    "If you inspect the summary after the main computation, you can notice that the characteristics and correlation are not computed:"
   ]
  },
  {
   "cell_type": "code",
   "execution_count": 10,
   "id": "12a6f6da-0e67-469c-ad6c-e219054db7c0",
   "metadata": {},
   "outputs": [
    {
     "data": {
      "text/plain": [
       "({},\n",
       " Empty DataFrame\n",
       " Columns: []\n",
       " Index: [])"
      ]
     },
     "execution_count": 10,
     "metadata": {},
     "output_type": "execute_result"
    }
   ],
   "source": [
    "m.summary['characteristics'], m.summary['correlation']  # Both empty"
   ]
  },
  {
   "cell_type": "markdown",
   "id": "6c74d87b-943e-4f60-a94b-e9d397ed051d",
   "metadata": {},
   "source": [
    "It is possible to compute the characteristics or the correlation when needed. The following methods compute the characteristics and the summary. They return the corresponding values **and updates automatically the summary and the warnings**:"
   ]
  },
  {
   "cell_type": "code",
   "execution_count": 11,
   "id": "aa5f1c9c-13a3-4d52-92f0-6f22cb39c8ec",
   "metadata": {},
   "outputs": [
    {
     "data": {
      "text/plain": [
       "{'email': [{'characteristic': <ColumnCharacteristic.EMAIL: 'email'>,\n",
       "   'value': 0.9996985955896898,\n",
       "   'upper_bound': 1,\n",
       "   'lower_bound': 0.9993093265368261}],\n",
       " 'state': [{'characteristic': <ColumnCharacteristic.LOCATION: 'location'>,\n",
       "   'value': 0.9996985955896898,\n",
       "   'upper_bound': 1,\n",
       "   'lower_bound': 0.9993093265368261}]}"
      ]
     },
     "execution_count": 11,
     "metadata": {},
     "output_type": "execute_result"
    }
   ],
   "source": [
    "m.compute_characteristics(dataset)"
   ]
  },
  {
   "cell_type": "code",
   "execution_count": 12,
   "id": "c818fe59-1a18-4aca-ab7b-f4529d79673c",
   "metadata": {},
   "outputs": [
    {
     "data": {
      "text/html": [
       "<div>\n",
       "<style scoped>\n",
       "    .dataframe tbody tr th:only-of-type {\n",
       "        vertical-align: middle;\n",
       "    }\n",
       "\n",
       "    .dataframe tbody tr th {\n",
       "        vertical-align: top;\n",
       "    }\n",
       "\n",
       "    .dataframe thead th {\n",
       "        text-align: right;\n",
       "    }\n",
       "</style>\n",
       "<table border=\"1\" class=\"dataframe\">\n",
       "  <thead>\n",
       "    <tr style=\"text-align: right;\">\n",
       "      <th></th>\n",
       "      <th>name</th>\n",
       "      <th>address</th>\n",
       "      <th>email</th>\n",
       "      <th>city</th>\n",
       "      <th>state</th>\n",
       "      <th>date_time</th>\n",
       "      <th>randomdata</th>\n",
       "      <th>randomdata2</th>\n",
       "    </tr>\n",
       "  </thead>\n",
       "  <tbody>\n",
       "    <tr>\n",
       "      <th>name</th>\n",
       "      <td>1.000000</td>\n",
       "      <td>0.000000</td>\n",
       "      <td>0.017837</td>\n",
       "      <td>0.040656</td>\n",
       "      <td>0.003685</td>\n",
       "      <td>1.0</td>\n",
       "      <td>0.000000</td>\n",
       "      <td>0.012544</td>\n",
       "    </tr>\n",
       "    <tr>\n",
       "      <th>address</th>\n",
       "      <td>0.000000</td>\n",
       "      <td>1.000000</td>\n",
       "      <td>0.000143</td>\n",
       "      <td>0.000000</td>\n",
       "      <td>0.000000</td>\n",
       "      <td>1.0</td>\n",
       "      <td>0.000000</td>\n",
       "      <td>0.000000</td>\n",
       "    </tr>\n",
       "    <tr>\n",
       "      <th>email</th>\n",
       "      <td>0.017837</td>\n",
       "      <td>0.000143</td>\n",
       "      <td>1.000000</td>\n",
       "      <td>0.000000</td>\n",
       "      <td>0.000000</td>\n",
       "      <td>1.0</td>\n",
       "      <td>0.000000</td>\n",
       "      <td>0.000000</td>\n",
       "    </tr>\n",
       "    <tr>\n",
       "      <th>city</th>\n",
       "      <td>0.040656</td>\n",
       "      <td>0.000000</td>\n",
       "      <td>0.000000</td>\n",
       "      <td>1.000000</td>\n",
       "      <td>0.013123</td>\n",
       "      <td>1.0</td>\n",
       "      <td>0.012164</td>\n",
       "      <td>0.000000</td>\n",
       "    </tr>\n",
       "    <tr>\n",
       "      <th>state</th>\n",
       "      <td>0.003685</td>\n",
       "      <td>0.000000</td>\n",
       "      <td>0.000000</td>\n",
       "      <td>0.013123</td>\n",
       "      <td>1.000000</td>\n",
       "      <td>1.0</td>\n",
       "      <td>0.015672</td>\n",
       "      <td>0.000000</td>\n",
       "    </tr>\n",
       "    <tr>\n",
       "      <th>date_time</th>\n",
       "      <td>1.000000</td>\n",
       "      <td>1.000000</td>\n",
       "      <td>1.000000</td>\n",
       "      <td>1.000000</td>\n",
       "      <td>1.000000</td>\n",
       "      <td>1.0</td>\n",
       "      <td>1.000000</td>\n",
       "      <td>1.000000</td>\n",
       "    </tr>\n",
       "    <tr>\n",
       "      <th>randomdata</th>\n",
       "      <td>0.000000</td>\n",
       "      <td>0.000000</td>\n",
       "      <td>0.000000</td>\n",
       "      <td>0.012164</td>\n",
       "      <td>0.015672</td>\n",
       "      <td>1.0</td>\n",
       "      <td>1.000000</td>\n",
       "      <td>0.000858</td>\n",
       "    </tr>\n",
       "    <tr>\n",
       "      <th>randomdata2</th>\n",
       "      <td>0.012544</td>\n",
       "      <td>0.000000</td>\n",
       "      <td>0.000000</td>\n",
       "      <td>0.000000</td>\n",
       "      <td>0.000000</td>\n",
       "      <td>1.0</td>\n",
       "      <td>0.000858</td>\n",
       "      <td>1.000000</td>\n",
       "    </tr>\n",
       "  </tbody>\n",
       "</table>\n",
       "</div>"
      ],
      "text/plain": [
       "                 name   address     email      city     state  date_time  \\\n",
       "name         1.000000  0.000000  0.017837  0.040656  0.003685        1.0   \n",
       "address      0.000000  1.000000  0.000143  0.000000  0.000000        1.0   \n",
       "email        0.017837  0.000143  1.000000  0.000000  0.000000        1.0   \n",
       "city         0.040656  0.000000  0.000000  1.000000  0.013123        1.0   \n",
       "state        0.003685  0.000000  0.000000  0.013123  1.000000        1.0   \n",
       "date_time    1.000000  1.000000  1.000000  1.000000  1.000000        1.0   \n",
       "randomdata   0.000000  0.000000  0.000000  0.012164  0.015672        1.0   \n",
       "randomdata2  0.012544  0.000000  0.000000  0.000000  0.000000        1.0   \n",
       "\n",
       "             randomdata  randomdata2  \n",
       "name           0.000000     0.012544  \n",
       "address        0.000000     0.000000  \n",
       "email          0.000000     0.000000  \n",
       "city           0.012164     0.000000  \n",
       "state          0.015672     0.000000  \n",
       "date_time      1.000000     1.000000  \n",
       "randomdata     1.000000     0.000858  \n",
       "randomdata2    0.000858     1.000000  "
      ]
     },
     "execution_count": 12,
     "metadata": {},
     "output_type": "execute_result"
    }
   ],
   "source": [
    "m.compute_correlation(dataset)"
   ]
  },
  {
   "cell_type": "code",
   "execution_count": 13,
   "id": "07ceba58-26bc-45a6-aab7-a9b5bb940a5c",
   "metadata": {},
   "outputs": [
    {
     "data": {
      "text/plain": [
       "({'email': [{'characteristic': <ColumnCharacteristic.EMAIL: 'email'>,\n",
       "    'value': 0.9996985955896898,\n",
       "    'upper_bound': 1,\n",
       "    'lower_bound': 0.9993093265368261}],\n",
       "  'state': [{'characteristic': <ColumnCharacteristic.LOCATION: 'location'>,\n",
       "    'value': 0.9996985955896898,\n",
       "    'upper_bound': 1,\n",
       "    'lower_bound': 0.9993093265368261}]},\n",
       "                  name   address     email      city     state  date_time  \\\n",
       " name         1.000000  0.000000  0.017837  0.040656  0.003685        1.0   \n",
       " address      0.000000  1.000000  0.000143  0.000000  0.000000        1.0   \n",
       " email        0.017837  0.000143  1.000000  0.000000  0.000000        1.0   \n",
       " city         0.040656  0.000000  0.000000  1.000000  0.013123        1.0   \n",
       " state        0.003685  0.000000  0.000000  0.013123  1.000000        1.0   \n",
       " date_time    1.000000  1.000000  1.000000  1.000000  1.000000        1.0   \n",
       " randomdata   0.000000  0.000000  0.000000  0.012164  0.015672        1.0   \n",
       " randomdata2  0.012544  0.000000  0.000000  0.000000  0.000000        1.0   \n",
       " \n",
       "              randomdata  randomdata2  \n",
       " name           0.000000     0.012544  \n",
       " address        0.000000     0.000000  \n",
       " email          0.000000     0.000000  \n",
       " city           0.012164     0.000000  \n",
       " state          0.015672     0.000000  \n",
       " date_time      1.000000     1.000000  \n",
       " randomdata     1.000000     0.000858  \n",
       " randomdata2    0.000858     1.000000  )"
      ]
     },
     "execution_count": 13,
     "metadata": {},
     "output_type": "execute_result"
    }
   ],
   "source": [
    "m.summary['characteristics'], m.summary['correlation'] # Both are updated"
   ]
  },
  {
   "cell_type": "markdown",
   "id": "a0790b28-11e3-4274-9b67-22a9df338891",
   "metadata": {},
   "source": [
    "It is possible to defer the computation using the flag `deferred=True`. In this case the `compute_<component>` returns a `distributed.Future` object immediately. This is useful for large datasets for which any computation might take some time.\n",
    "\n",
    "\n",
    "The `Future` is also available in the `Metadata.status` dictionary under the key `<component>` (e.g. `Metadata.status['correlation']`).   \n",
    "When the task is finished, the metadata instance summary is automatically updated as well as the warnings."
   ]
  },
  {
   "cell_type": "code",
   "execution_count": 14,
   "id": "b380a472-508a-4723-9c4d-31aa486fde4e",
   "metadata": {},
   "outputs": [
    {
     "name": "stdout",
     "output_type": "stream",
     "text": [
      "[########################################] | 100% Completed | 202.69 ms\n"
     ]
    }
   ],
   "source": [
    "m = Metadata(dataset, infer_characteristics=False, pairwise_metrics=False)"
   ]
  },
  {
   "cell_type": "code",
   "execution_count": 18,
   "id": "d9ea27c1-1d73-4506-b930-c437ca471dbd",
   "metadata": {},
   "outputs": [],
   "source": [
    "future_correlation = m.compute_correlation(dataset, deferred=True)  # Returns immediately \n",
    "# ... Do something else in parallel"
   ]
  },
  {
   "cell_type": "code",
   "execution_count": 19,
   "id": "f9a76e24-5834-4ed6-a3b8-b65355daaad5",
   "metadata": {},
   "outputs": [
    {
     "data": {
      "text/plain": [
       "('pending', 'pending')"
      ]
     },
     "execution_count": 19,
     "metadata": {},
     "output_type": "execute_result"
    },
    {
     "name": "stderr",
     "output_type": "stream",
     "text": [
      "2024-01-09 11:56:14.858775: W tensorflow/compiler/tf2tensorrt/utils/py_utils.cc:38] TF-TRT Warning: Could not find TensorRT\n",
      "2024-01-09 11:56:15.255531: W tensorflow/core/common_runtime/gpu/gpu_device.cc:1956] Cannot dlopen some GPU libraries. Please make sure the missing libraries mentioned above are installed properly if you would like to use GPU. Follow the guide at https://www.tensorflow.org/install/gpu for how to download and setup the required libraries for your platform.\n",
      "Skipping registering GPU devices...\n"
     ]
    }
   ],
   "source": [
    "# It is possible to check the status either in the object itself or in the metadata.status\n",
    "future_correlation.status, m.status['correlation'].status  # `pending`"
   ]
  },
  {
   "cell_type": "code",
   "execution_count": 23,
   "id": "09285d13-0413-4c46-bac7-94d58c084933",
   "metadata": {},
   "outputs": [
    {
     "data": {
      "text/html": [
       "<div>\n",
       "<style scoped>\n",
       "    .dataframe tbody tr th:only-of-type {\n",
       "        vertical-align: middle;\n",
       "    }\n",
       "\n",
       "    .dataframe tbody tr th {\n",
       "        vertical-align: top;\n",
       "    }\n",
       "\n",
       "    .dataframe thead th {\n",
       "        text-align: right;\n",
       "    }\n",
       "</style>\n",
       "<table border=\"1\" class=\"dataframe\">\n",
       "  <thead>\n",
       "    <tr style=\"text-align: right;\">\n",
       "      <th></th>\n",
       "      <th>name</th>\n",
       "      <th>address</th>\n",
       "      <th>email</th>\n",
       "      <th>city</th>\n",
       "      <th>state</th>\n",
       "      <th>date_time</th>\n",
       "      <th>randomdata</th>\n",
       "      <th>randomdata2</th>\n",
       "    </tr>\n",
       "  </thead>\n",
       "  <tbody>\n",
       "    <tr>\n",
       "      <th>name</th>\n",
       "      <td>1.000000</td>\n",
       "      <td>0.000000</td>\n",
       "      <td>0.017837</td>\n",
       "      <td>0.040656</td>\n",
       "      <td>0.003685</td>\n",
       "      <td>1.0</td>\n",
       "      <td>0.000000</td>\n",
       "      <td>0.012544</td>\n",
       "    </tr>\n",
       "    <tr>\n",
       "      <th>address</th>\n",
       "      <td>0.000000</td>\n",
       "      <td>1.000000</td>\n",
       "      <td>0.000143</td>\n",
       "      <td>0.000000</td>\n",
       "      <td>0.000000</td>\n",
       "      <td>1.0</td>\n",
       "      <td>0.000000</td>\n",
       "      <td>0.000000</td>\n",
       "    </tr>\n",
       "    <tr>\n",
       "      <th>email</th>\n",
       "      <td>0.017837</td>\n",
       "      <td>0.000143</td>\n",
       "      <td>1.000000</td>\n",
       "      <td>0.000000</td>\n",
       "      <td>0.000000</td>\n",
       "      <td>1.0</td>\n",
       "      <td>0.000000</td>\n",
       "      <td>0.000000</td>\n",
       "    </tr>\n",
       "    <tr>\n",
       "      <th>city</th>\n",
       "      <td>0.040656</td>\n",
       "      <td>0.000000</td>\n",
       "      <td>0.000000</td>\n",
       "      <td>1.000000</td>\n",
       "      <td>0.013123</td>\n",
       "      <td>1.0</td>\n",
       "      <td>0.012164</td>\n",
       "      <td>0.000000</td>\n",
       "    </tr>\n",
       "    <tr>\n",
       "      <th>state</th>\n",
       "      <td>0.003685</td>\n",
       "      <td>0.000000</td>\n",
       "      <td>0.000000</td>\n",
       "      <td>0.013123</td>\n",
       "      <td>1.000000</td>\n",
       "      <td>1.0</td>\n",
       "      <td>0.015672</td>\n",
       "      <td>0.000000</td>\n",
       "    </tr>\n",
       "    <tr>\n",
       "      <th>date_time</th>\n",
       "      <td>1.000000</td>\n",
       "      <td>1.000000</td>\n",
       "      <td>1.000000</td>\n",
       "      <td>1.000000</td>\n",
       "      <td>1.000000</td>\n",
       "      <td>1.0</td>\n",
       "      <td>1.000000</td>\n",
       "      <td>1.000000</td>\n",
       "    </tr>\n",
       "    <tr>\n",
       "      <th>randomdata</th>\n",
       "      <td>0.000000</td>\n",
       "      <td>0.000000</td>\n",
       "      <td>0.000000</td>\n",
       "      <td>0.012164</td>\n",
       "      <td>0.015672</td>\n",
       "      <td>1.0</td>\n",
       "      <td>1.000000</td>\n",
       "      <td>0.000858</td>\n",
       "    </tr>\n",
       "    <tr>\n",
       "      <th>randomdata2</th>\n",
       "      <td>0.012544</td>\n",
       "      <td>0.000000</td>\n",
       "      <td>0.000000</td>\n",
       "      <td>0.000000</td>\n",
       "      <td>0.000000</td>\n",
       "      <td>1.0</td>\n",
       "      <td>0.000858</td>\n",
       "      <td>1.000000</td>\n",
       "    </tr>\n",
       "  </tbody>\n",
       "</table>\n",
       "</div>"
      ],
      "text/plain": [
       "                 name   address     email      city     state  date_time  \\\n",
       "name         1.000000  0.000000  0.017837  0.040656  0.003685        1.0   \n",
       "address      0.000000  1.000000  0.000143  0.000000  0.000000        1.0   \n",
       "email        0.017837  0.000143  1.000000  0.000000  0.000000        1.0   \n",
       "city         0.040656  0.000000  0.000000  1.000000  0.013123        1.0   \n",
       "state        0.003685  0.000000  0.000000  0.013123  1.000000        1.0   \n",
       "date_time    1.000000  1.000000  1.000000  1.000000  1.000000        1.0   \n",
       "randomdata   0.000000  0.000000  0.000000  0.012164  0.015672        1.0   \n",
       "randomdata2  0.012544  0.000000  0.000000  0.000000  0.000000        1.0   \n",
       "\n",
       "             randomdata  randomdata2  \n",
       "name           0.000000     0.012544  \n",
       "address        0.000000     0.000000  \n",
       "email          0.000000     0.000000  \n",
       "city           0.012164     0.000000  \n",
       "state          0.015672     0.000000  \n",
       "date_time      1.000000     1.000000  \n",
       "randomdata     1.000000     0.000858  \n",
       "randomdata2    0.000858     1.000000  "
      ]
     },
     "execution_count": 23,
     "metadata": {},
     "output_type": "execute_result"
    }
   ],
   "source": [
    "# Whenever the correlation is needed, you can wait for the result until it is available (if not already)\n",
    "corr_matrix = future_correlation.result()  # Wait for the result\n",
    "# or\n",
    "m.status['correlation'].result()"
   ]
  },
  {
   "cell_type": "markdown",
   "id": "ed935639-257f-4959-855a-1d310559ce34",
   "metadata": {},
   "source": [
    "It is now available in the summary as the computation is finished:"
   ]
  },
  {
   "cell_type": "code",
   "execution_count": 21,
   "id": "625b239f-9543-404c-b7e7-8f57d56b56e1",
   "metadata": {},
   "outputs": [
    {
     "data": {
      "text/html": [
       "<div>\n",
       "<style scoped>\n",
       "    .dataframe tbody tr th:only-of-type {\n",
       "        vertical-align: middle;\n",
       "    }\n",
       "\n",
       "    .dataframe tbody tr th {\n",
       "        vertical-align: top;\n",
       "    }\n",
       "\n",
       "    .dataframe thead th {\n",
       "        text-align: right;\n",
       "    }\n",
       "</style>\n",
       "<table border=\"1\" class=\"dataframe\">\n",
       "  <thead>\n",
       "    <tr style=\"text-align: right;\">\n",
       "      <th></th>\n",
       "      <th>name</th>\n",
       "      <th>address</th>\n",
       "      <th>email</th>\n",
       "      <th>city</th>\n",
       "      <th>state</th>\n",
       "      <th>date_time</th>\n",
       "      <th>randomdata</th>\n",
       "      <th>randomdata2</th>\n",
       "    </tr>\n",
       "  </thead>\n",
       "  <tbody>\n",
       "    <tr>\n",
       "      <th>name</th>\n",
       "      <td>1.000000</td>\n",
       "      <td>0.000000</td>\n",
       "      <td>0.017837</td>\n",
       "      <td>0.040656</td>\n",
       "      <td>0.003685</td>\n",
       "      <td>1.0</td>\n",
       "      <td>0.000000</td>\n",
       "      <td>0.012544</td>\n",
       "    </tr>\n",
       "    <tr>\n",
       "      <th>address</th>\n",
       "      <td>0.000000</td>\n",
       "      <td>1.000000</td>\n",
       "      <td>0.000143</td>\n",
       "      <td>0.000000</td>\n",
       "      <td>0.000000</td>\n",
       "      <td>1.0</td>\n",
       "      <td>0.000000</td>\n",
       "      <td>0.000000</td>\n",
       "    </tr>\n",
       "    <tr>\n",
       "      <th>email</th>\n",
       "      <td>0.017837</td>\n",
       "      <td>0.000143</td>\n",
       "      <td>1.000000</td>\n",
       "      <td>0.000000</td>\n",
       "      <td>0.000000</td>\n",
       "      <td>1.0</td>\n",
       "      <td>0.000000</td>\n",
       "      <td>0.000000</td>\n",
       "    </tr>\n",
       "    <tr>\n",
       "      <th>city</th>\n",
       "      <td>0.040656</td>\n",
       "      <td>0.000000</td>\n",
       "      <td>0.000000</td>\n",
       "      <td>1.000000</td>\n",
       "      <td>0.013123</td>\n",
       "      <td>1.0</td>\n",
       "      <td>0.012164</td>\n",
       "      <td>0.000000</td>\n",
       "    </tr>\n",
       "    <tr>\n",
       "      <th>state</th>\n",
       "      <td>0.003685</td>\n",
       "      <td>0.000000</td>\n",
       "      <td>0.000000</td>\n",
       "      <td>0.013123</td>\n",
       "      <td>1.000000</td>\n",
       "      <td>1.0</td>\n",
       "      <td>0.015672</td>\n",
       "      <td>0.000000</td>\n",
       "    </tr>\n",
       "    <tr>\n",
       "      <th>date_time</th>\n",
       "      <td>1.000000</td>\n",
       "      <td>1.000000</td>\n",
       "      <td>1.000000</td>\n",
       "      <td>1.000000</td>\n",
       "      <td>1.000000</td>\n",
       "      <td>1.0</td>\n",
       "      <td>1.000000</td>\n",
       "      <td>1.000000</td>\n",
       "    </tr>\n",
       "    <tr>\n",
       "      <th>randomdata</th>\n",
       "      <td>0.000000</td>\n",
       "      <td>0.000000</td>\n",
       "      <td>0.000000</td>\n",
       "      <td>0.012164</td>\n",
       "      <td>0.015672</td>\n",
       "      <td>1.0</td>\n",
       "      <td>1.000000</td>\n",
       "      <td>0.000858</td>\n",
       "    </tr>\n",
       "    <tr>\n",
       "      <th>randomdata2</th>\n",
       "      <td>0.012544</td>\n",
       "      <td>0.000000</td>\n",
       "      <td>0.000000</td>\n",
       "      <td>0.000000</td>\n",
       "      <td>0.000000</td>\n",
       "      <td>1.0</td>\n",
       "      <td>0.000858</td>\n",
       "      <td>1.000000</td>\n",
       "    </tr>\n",
       "  </tbody>\n",
       "</table>\n",
       "</div>"
      ],
      "text/plain": [
       "                 name   address     email      city     state  date_time  \\\n",
       "name         1.000000  0.000000  0.017837  0.040656  0.003685        1.0   \n",
       "address      0.000000  1.000000  0.000143  0.000000  0.000000        1.0   \n",
       "email        0.017837  0.000143  1.000000  0.000000  0.000000        1.0   \n",
       "city         0.040656  0.000000  0.000000  1.000000  0.013123        1.0   \n",
       "state        0.003685  0.000000  0.000000  0.013123  1.000000        1.0   \n",
       "date_time    1.000000  1.000000  1.000000  1.000000  1.000000        1.0   \n",
       "randomdata   0.000000  0.000000  0.000000  0.012164  0.015672        1.0   \n",
       "randomdata2  0.012544  0.000000  0.000000  0.000000  0.000000        1.0   \n",
       "\n",
       "             randomdata  randomdata2  \n",
       "name           0.000000     0.012544  \n",
       "address        0.000000     0.000000  \n",
       "email          0.000000     0.000000  \n",
       "city           0.012164     0.000000  \n",
       "state          0.015672     0.000000  \n",
       "date_time      1.000000     1.000000  \n",
       "randomdata     1.000000     0.000858  \n",
       "randomdata2    0.000858     1.000000  "
      ]
     },
     "execution_count": 21,
     "metadata": {},
     "output_type": "execute_result"
    }
   ],
   "source": [
    "m.summary['correlation']"
   ]
  },
  {
   "cell_type": "markdown",
   "id": "3ca00d63-86e6-4d54-9d41-cec2f743c811",
   "metadata": {},
   "source": [
    "In addition, you can now check if there are any warning about high correlation:"
   ]
  },
  {
   "cell_type": "code",
   "execution_count": 22,
   "id": "a03903cd-fe36-4a65-9741-c4c77afd3b20",
   "metadata": {},
   "outputs": [
    {
     "data": {
      "text/plain": [
       "[Warning(column=name|date_time, type=WarningType.CORRELATION, level=Level.HIGH, value=1.00),\n",
       " Warning(column=address|date_time, type=WarningType.CORRELATION, level=Level.HIGH, value=1.00),\n",
       " Warning(column=email|date_time, type=WarningType.CORRELATION, level=Level.HIGH, value=1.00),\n",
       " Warning(column=city|date_time, type=WarningType.CORRELATION, level=Level.HIGH, value=1.00),\n",
       " Warning(column=state|date_time, type=WarningType.CORRELATION, level=Level.HIGH, value=1.00),\n",
       " Warning(column=date_time|randomdata, type=WarningType.CORRELATION, level=Level.HIGH, value=1.00),\n",
       " Warning(column=date_time|randomdata2, type=WarningType.CORRELATION, level=Level.HIGH, value=1.00)]"
      ]
     },
     "execution_count": 22,
     "metadata": {},
     "output_type": "execute_result"
    }
   ],
   "source": [
    "m.warnings['correlation']"
   ]
  }
 ],
 "metadata": {
  "kernelspec": {
   "display_name": "Python 3 (ipykernel)",
   "language": "python",
   "name": "python3"
  },
  "language_info": {
   "codemirror_mode": {
    "name": "ipython",
    "version": 3
   },
   "file_extension": ".py",
   "mimetype": "text/x-python",
   "name": "python",
   "nbconvert_exporter": "python",
   "pygments_lexer": "ipython3",
   "version": "3.10.12"
  }
 },
 "nbformat": 4,
 "nbformat_minor": 5
}
