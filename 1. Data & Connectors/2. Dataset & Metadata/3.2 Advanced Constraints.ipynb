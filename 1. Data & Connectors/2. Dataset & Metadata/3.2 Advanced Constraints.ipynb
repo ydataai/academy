{
 "cells": [
  {
   "cell_type": "markdown",
   "metadata": {
    "jupyter": {
     "outputs_hidden": true
    }
   },
   "source": [
    "# Advanced Constraints"
   ]
  },
  {
   "cell_type": "markdown",
   "metadata": {
    "jupyter": {
     "outputs_hidden": false
    },
    "pycharm": {
     "name": "#%%\n"
    }
   },
   "source": [
    "The purpose of this tutorial is to demonstrate the advanced capabilities of the **Constraint Engine**. For an introduction to the constraints, refer to [Dataset & Constraints](https://github.com/ydataai/academy/blob/master/3%20-%20dataset-metadata/Metadata%20%26%20Constraints.ipynb).\n",
    "\n",
    "The plan of this notebook is as follows:\n",
    "\n",
    "1. **Rows versus Columns constraints**: we introduce the difference between rows and columns constraints and demonstrate how they can be used together.\n",
    "2. **Custom Constraints**: we show how to create your own constraints based on any python function. In addition, we show an advanced example to validate constraints with time dependencies between the rows.\n"
   ]
  },
  {
   "cell_type": "code",
   "execution_count": 1,
   "metadata": {
    "tags": []
   },
   "outputs": [],
   "source": [
    "from ydata.constraints.engine import ConstraintEngine"
   ]
  },
  {
   "cell_type": "markdown",
   "metadata": {},
   "source": [
    "## Toy dataset: a transactional dataset\n",
    "\n",
    "To illustrate this tutorial, we will generate a toy dataset representing the transaction on a bank account.   \n",
    "Each row represents a transaction. The dataset has only 3 columns:\n",
    "\n",
    "1. `amount`: the amount of the transaction\n",
    "2. `balance`: the current balance after the transaction is applied\n",
    "3. `constant`: a constant value (for the purpose of demonstrating some constraints)\n",
    "\n",
    "It is a very generous example, so the amount can only be positive such that your balance keeps growing! The amount is generated randomly according to normal distribution."
   ]
  },
  {
   "cell_type": "code",
   "execution_count": 2,
   "metadata": {
    "tags": []
   },
   "outputs": [],
   "source": [
    "import numpy as np\n",
    "import pandas as pd\n",
    "\n",
    "from ydata.dataset import Dataset\n",
    "from ydata.metadata import Metadata\n",
    "\n",
    "def calculate_balance(df):\n",
    "    df['balance'] = df['amount'].cumsum()\n",
    "    return df\n",
    "\n",
    "n = 10 ** 3\n",
    "mu, sigma = 0, 0.1\n",
    "data = 100 * np.abs(np.random.normal(mu, sigma, n))\n",
    "df = pd.DataFrame()\n",
    "df['amount'] = data\n",
    "df['constant'] = 10\n",
    "df = calculate_balance(df)\n",
    "df = df.reset_index()\n",
    "dataset = Dataset(df)"
   ]
  },
  {
   "cell_type": "code",
   "execution_count": 3,
   "metadata": {
    "tags": []
   },
   "outputs": [
    {
     "data": {
      "text/html": [
       "<div>\n",
       "<style scoped>\n",
       "    .dataframe tbody tr th:only-of-type {\n",
       "        vertical-align: middle;\n",
       "    }\n",
       "\n",
       "    .dataframe tbody tr th {\n",
       "        vertical-align: top;\n",
       "    }\n",
       "\n",
       "    .dataframe thead th {\n",
       "        text-align: right;\n",
       "    }\n",
       "</style>\n",
       "<table border=\"1\" class=\"dataframe\">\n",
       "  <thead>\n",
       "    <tr style=\"text-align: right;\">\n",
       "      <th></th>\n",
       "      <th>index</th>\n",
       "      <th>amount</th>\n",
       "      <th>constant</th>\n",
       "      <th>balance</th>\n",
       "    </tr>\n",
       "  </thead>\n",
       "  <tbody>\n",
       "    <tr>\n",
       "      <th>0</th>\n",
       "      <td>0</td>\n",
       "      <td>8.086574</td>\n",
       "      <td>10</td>\n",
       "      <td>8.086574</td>\n",
       "    </tr>\n",
       "    <tr>\n",
       "      <th>1</th>\n",
       "      <td>1</td>\n",
       "      <td>11.611861</td>\n",
       "      <td>10</td>\n",
       "      <td>19.698435</td>\n",
       "    </tr>\n",
       "    <tr>\n",
       "      <th>2</th>\n",
       "      <td>2</td>\n",
       "      <td>5.490258</td>\n",
       "      <td>10</td>\n",
       "      <td>25.188693</td>\n",
       "    </tr>\n",
       "    <tr>\n",
       "      <th>3</th>\n",
       "      <td>3</td>\n",
       "      <td>1.047175</td>\n",
       "      <td>10</td>\n",
       "      <td>26.235868</td>\n",
       "    </tr>\n",
       "    <tr>\n",
       "      <th>4</th>\n",
       "      <td>4</td>\n",
       "      <td>3.738388</td>\n",
       "      <td>10</td>\n",
       "      <td>29.974256</td>\n",
       "    </tr>\n",
       "  </tbody>\n",
       "</table>\n",
       "</div>"
      ],
      "text/plain": [
       "   index     amount  constant    balance\n",
       "0      0   8.086574        10   8.086574\n",
       "1      1  11.611861        10  19.698435\n",
       "2      2   5.490258        10  25.188693\n",
       "3      3   1.047175        10  26.235868\n",
       "4      4   3.738388        10  29.974256"
      ]
     },
     "execution_count": 3,
     "metadata": {},
     "output_type": "execute_result"
    }
   ],
   "source": [
    "dataset.head()"
   ]
  },
  {
   "cell_type": "markdown",
   "metadata": {},
   "source": [
    "# Rows versus Columns constraints\n",
    "\n",
    "Generally, when it comes to validate constraints on a tabular dataset, there are two different aspects:\n",
    "1. the constraints that apply to the data points (e.g.: each row should have the column `balance` positive)\n",
    "2. the constraints that apply to quantity linked to the columns (e.g.: the average of the column `balance` must be positive)\n",
    "\n",
    "They are conceptually different because the **rows** constraints are applied to each data points independently while the **columns** constraint are applied to an aggregation of all rows and represent a **domain** validation.\n",
    "\n",
    "Both are useful to validate the quality of your data and perfectly works together seamlessly. However, there is conceptual difference on the output: the **rows** constraints return a mask indicating for each rows if the constraint is violated; the **columns** constraints returns a boolean indicating if a column violates the constraint or not."
   ]
  },
  {
   "cell_type": "markdown",
   "metadata": {},
   "source": [
    "In the example below, add two columns constraints during the metadata calculation:\n",
    "- the mean of the columns `amount` and `constant` must be between 7 and 10\n",
    "- the standard deviation of the columns `amount` and `constant` must be between 0 and 8"
   ]
  },
  {
   "cell_type": "code",
   "execution_count": 4,
   "metadata": {
    "tags": []
   },
   "outputs": [
    {
     "name": "stdout",
     "output_type": "stream",
     "text": [
      "[########################################] | 100% Completed | 101.84 ms\n",
      "[########################################] | 100% Completed | 102.35 ms\n",
      "[########################################] | 100% Completed | 107.57 ms\n",
      "[########################################] | 100% Completed | 103.26 ms\n",
      "sample size: 10538\n",
      "[########################################] | 100% Completed | 101.93 ms\n",
      "sample size: 10538\n",
      "[                                        ] | 0% Completed | 468.64 us"
     ]
    },
    {
     "name": "stderr",
     "output_type": "stream",
     "text": [
      "/home/ricardopereira/anaconda3/envs/ydata/lib/python3.10/site-packages/dask/array/core.py:4893: RuntimeWarning: invalid value encountered in double_scalars\n",
      "  result = function(*args, **kwargs)\n"
     ]
    },
    {
     "name": "stdout",
     "output_type": "stream",
     "text": [
      "[########################################] | 100% Completed | 105.90 ms\n"
     ]
    }
   ],
   "source": [
    "from ydata.constraints.columns import MeanBetween, StandardDeviationBetween\n",
    "c1 = MeanBetween(lower_bound=7, upper_bound=10, columns=['amount', 'constant'])\n",
    "c2 = StandardDeviationBetween(lower_bound=0, upper_bound=8, columns=['amount', 'constant'])\n",
    "\n",
    "m = Metadata(dataset, constraints=[c1, c2])"
   ]
  },
  {
   "cell_type": "markdown",
   "metadata": {},
   "source": [
    "It is possible to have a summary of the constraints directly from the `Metadata` object.    \n",
    "\n",
    "In the field `violation_per_constraint`, it is possible to access more information for each constraint. For instance, `StandardDeviationBetween` shows that 1 column out of 2 columns have been violated."
   ]
  },
  {
   "cell_type": "code",
   "execution_count": 5,
   "metadata": {
    "tags": []
   },
   "outputs": [
    {
     "data": {
      "text/plain": [
       "{'rows_violation_count': 0,\n",
       " 'rows_violation_ratio': 0.0,\n",
       " 'violation_per_constraint': {'MeanBetweenRange on columns [amount, constant]': {'column_violation_count': 0,\n",
       "   'column_violation_ratio': 0.0,\n",
       "   'violated_columns': [],\n",
       "   'validation_time': 0.11},\n",
       "  'StandardDeviationBetween on columns [amount, constant]': {'column_violation_count': 1,\n",
       "   'column_violation_ratio': 0.5,\n",
       "   'violated_columns': ['constant'],\n",
       "   'validation_time': 0.14}}}"
      ]
     },
     "execution_count": 5,
     "metadata": {},
     "output_type": "execute_result"
    }
   ],
   "source": [
    "m.summary['constraints']"
   ]
  },
  {
   "cell_type": "markdown",
   "metadata": {},
   "source": [
    "Finally, it is possible to have a pretty print summary of the constraint engine validation:"
   ]
  },
  {
   "cell_type": "code",
   "execution_count": 6,
   "metadata": {
    "tags": []
   },
   "outputs": [
    {
     "data": {
      "text/plain": [
       "\n",
       "\u001b[1mConstraint Engine \n",
       " \n",
       "\u001b[0mNumber of Constraints: 2\n",
       "Number of Constraints Violated: 1 (50.0%)\n",
       "\n",
       "MeanBetweenRange on columns [amount, constant]: 0 (0.0%)\n",
       "StandardDeviationBetween on columns [amount, constant]: \u001b[1m 1 violated (50.0%) \u001b[0m"
      ]
     },
     "execution_count": 6,
     "metadata": {},
     "output_type": "execute_result"
    }
   ],
   "source": [
    "m._constraint_engine"
   ]
  },
  {
   "cell_type": "markdown",
   "metadata": {},
   "source": [
    "## Columns constraints\n",
    "\n",
    "In this section, we provide multiple examples of columns constraints."
   ]
  },
  {
   "cell_type": "code",
   "execution_count": 7,
   "metadata": {
    "tags": []
   },
   "outputs": [],
   "source": [
    "from ydata.constraints.columns import MeanBetween, StandardDeviationBetween, QuantileBetween, UniqueValuesBetween, NullValuesCountLowerThan, SumLowerThan, Constant"
   ]
  },
  {
   "cell_type": "markdown",
   "metadata": {},
   "source": [
    "We would like to make sure that the mean value of the columns `amount` and the column `constant` is between 7 and 10 (included):"
   ]
  },
  {
   "cell_type": "code",
   "execution_count": 8,
   "metadata": {
    "tags": []
   },
   "outputs": [
    {
     "name": "stdout",
     "output_type": "stream",
     "text": [
      "sample size: 10538\n"
     ]
    },
    {
     "data": {
      "text/html": [
       "<div>\n",
       "<style scoped>\n",
       "    .dataframe tbody tr th:only-of-type {\n",
       "        vertical-align: middle;\n",
       "    }\n",
       "\n",
       "    .dataframe tbody tr th {\n",
       "        vertical-align: top;\n",
       "    }\n",
       "\n",
       "    .dataframe thead th {\n",
       "        text-align: right;\n",
       "    }\n",
       "</style>\n",
       "<table border=\"1\" class=\"dataframe\">\n",
       "  <thead>\n",
       "    <tr style=\"text-align: right;\">\n",
       "      <th></th>\n",
       "      <th>amount</th>\n",
       "      <th>constant</th>\n",
       "    </tr>\n",
       "  </thead>\n",
       "  <tbody>\n",
       "    <tr>\n",
       "      <th>0</th>\n",
       "      <td>True</td>\n",
       "      <td>True</td>\n",
       "    </tr>\n",
       "  </tbody>\n",
       "</table>\n",
       "</div>"
      ],
      "text/plain": [
       "   amount  constant\n",
       "0    True      True"
      ]
     },
     "execution_count": 8,
     "metadata": {},
     "output_type": "execute_result"
    }
   ],
   "source": [
    "c = MeanBetween(lower_bound=7, upper_bound=10, columns=['amount', 'constant'])\n",
    "c.validate(dataset)"
   ]
  },
  {
   "cell_type": "markdown",
   "metadata": {},
   "source": [
    "We would like to make sure that the standard deviation is comprised between 0 (excluded) and 8:"
   ]
  },
  {
   "cell_type": "code",
   "execution_count": 9,
   "metadata": {
    "tags": []
   },
   "outputs": [
    {
     "name": "stdout",
     "output_type": "stream",
     "text": [
      "sample size: 10538\n"
     ]
    },
    {
     "data": {
      "text/html": [
       "<div>\n",
       "<style scoped>\n",
       "    .dataframe tbody tr th:only-of-type {\n",
       "        vertical-align: middle;\n",
       "    }\n",
       "\n",
       "    .dataframe tbody tr th {\n",
       "        vertical-align: top;\n",
       "    }\n",
       "\n",
       "    .dataframe thead th {\n",
       "        text-align: right;\n",
       "    }\n",
       "</style>\n",
       "<table border=\"1\" class=\"dataframe\">\n",
       "  <thead>\n",
       "    <tr style=\"text-align: right;\">\n",
       "      <th></th>\n",
       "      <th>amount</th>\n",
       "      <th>constant</th>\n",
       "    </tr>\n",
       "  </thead>\n",
       "  <tbody>\n",
       "    <tr>\n",
       "      <th>0</th>\n",
       "      <td>True</td>\n",
       "      <td>False</td>\n",
       "    </tr>\n",
       "  </tbody>\n",
       "</table>\n",
       "</div>"
      ],
      "text/plain": [
       "   amount  constant\n",
       "0    True     False"
      ]
     },
     "execution_count": 9,
     "metadata": {},
     "output_type": "execute_result"
    }
   ],
   "source": [
    "c = StandardDeviationBetween(lower_bound=0, upper_bound=8, columns=['amount', 'constant'])\n",
    "c.validate(dataset)"
   ]
  },
  {
   "cell_type": "markdown",
   "metadata": {},
   "source": [
    "Because the column `constant` is constant, its standard deviation is exactly 0 and thus, the column violate the constraint!"
   ]
  },
  {
   "cell_type": "markdown",
   "metadata": {},
   "source": [
    "It is also possible to constraint any quantile to any particular interval. For instance, the following constraint check that the 25% centile is between 3 and 3.2:"
   ]
  },
  {
   "cell_type": "code",
   "execution_count": 10,
   "metadata": {
    "tags": []
   },
   "outputs": [
    {
     "name": "stdout",
     "output_type": "stream",
     "text": [
      "sample size: 10538\n"
     ]
    },
    {
     "data": {
      "text/html": [
       "<div>\n",
       "<style scoped>\n",
       "    .dataframe tbody tr th:only-of-type {\n",
       "        vertical-align: middle;\n",
       "    }\n",
       "\n",
       "    .dataframe tbody tr th {\n",
       "        vertical-align: top;\n",
       "    }\n",
       "\n",
       "    .dataframe thead th {\n",
       "        text-align: right;\n",
       "    }\n",
       "</style>\n",
       "<table border=\"1\" class=\"dataframe\">\n",
       "  <thead>\n",
       "    <tr style=\"text-align: right;\">\n",
       "      <th></th>\n",
       "      <th>amount</th>\n",
       "    </tr>\n",
       "  </thead>\n",
       "  <tbody>\n",
       "    <tr>\n",
       "      <th>0</th>\n",
       "      <td>True</td>\n",
       "    </tr>\n",
       "  </tbody>\n",
       "</table>\n",
       "</div>"
      ],
      "text/plain": [
       "   amount\n",
       "0    True"
      ]
     },
     "execution_count": 10,
     "metadata": {},
     "output_type": "execute_result"
    }
   ],
   "source": [
    "c = QuantileBetween(quantile=0.25, lower_bound=3, upper_bound=3.2, columns='amount')\n",
    "c.validate(dataset)"
   ]
  },
  {
   "cell_type": "markdown",
   "metadata": {},
   "source": [
    "It is possible check that the number of unique value in a column belong to a given interval. The following example is equivalent to check that a column is constant as it requires the number of unique values to be between 0 (excluded) and 1:"
   ]
  },
  {
   "cell_type": "code",
   "execution_count": 11,
   "metadata": {
    "tags": []
   },
   "outputs": [
    {
     "name": "stdout",
     "output_type": "stream",
     "text": [
      "sample size: 10538\n"
     ]
    },
    {
     "data": {
      "text/html": [
       "<div>\n",
       "<style scoped>\n",
       "    .dataframe tbody tr th:only-of-type {\n",
       "        vertical-align: middle;\n",
       "    }\n",
       "\n",
       "    .dataframe tbody tr th {\n",
       "        vertical-align: top;\n",
       "    }\n",
       "\n",
       "    .dataframe thead th {\n",
       "        text-align: right;\n",
       "    }\n",
       "</style>\n",
       "<table border=\"1\" class=\"dataframe\">\n",
       "  <thead>\n",
       "    <tr style=\"text-align: right;\">\n",
       "      <th></th>\n",
       "      <th>constant</th>\n",
       "    </tr>\n",
       "  </thead>\n",
       "  <tbody>\n",
       "    <tr>\n",
       "      <th>0</th>\n",
       "      <td>True</td>\n",
       "    </tr>\n",
       "  </tbody>\n",
       "</table>\n",
       "</div>"
      ],
      "text/plain": [
       "   constant\n",
       "0      True"
      ]
     },
     "execution_count": 11,
     "metadata": {},
     "output_type": "execute_result"
    }
   ],
   "source": [
    "c = UniqueValuesBetween(lower_bound=0, upper_bound=1, columns='constant')\n",
    "c.validate(dataset)"
   ]
  },
  {
   "cell_type": "markdown",
   "metadata": {},
   "source": [
    "For such a trivial example, we directly provide a constraint `Constant`:"
   ]
  },
  {
   "cell_type": "code",
   "execution_count": 12,
   "metadata": {
    "tags": []
   },
   "outputs": [
    {
     "name": "stdout",
     "output_type": "stream",
     "text": [
      "sample size: 10538\n"
     ]
    },
    {
     "data": {
      "text/html": [
       "<div>\n",
       "<style scoped>\n",
       "    .dataframe tbody tr th:only-of-type {\n",
       "        vertical-align: middle;\n",
       "    }\n",
       "\n",
       "    .dataframe tbody tr th {\n",
       "        vertical-align: top;\n",
       "    }\n",
       "\n",
       "    .dataframe thead th {\n",
       "        text-align: right;\n",
       "    }\n",
       "</style>\n",
       "<table border=\"1\" class=\"dataframe\">\n",
       "  <thead>\n",
       "    <tr style=\"text-align: right;\">\n",
       "      <th></th>\n",
       "      <th>constant</th>\n",
       "    </tr>\n",
       "  </thead>\n",
       "  <tbody>\n",
       "    <tr>\n",
       "      <th>0</th>\n",
       "      <td>True</td>\n",
       "    </tr>\n",
       "  </tbody>\n",
       "</table>\n",
       "</div>"
      ],
      "text/plain": [
       "   constant\n",
       "0      True"
      ]
     },
     "execution_count": 12,
     "metadata": {},
     "output_type": "execute_result"
    }
   ],
   "source": [
    "c = Constant(columns='constant')\n",
    "c.validate(dataset)"
   ]
  },
  {
   "cell_type": "markdown",
   "metadata": {},
   "source": [
    "Finally, it is possible check that the sum of a column is lower than a value value:"
   ]
  },
  {
   "cell_type": "code",
   "execution_count": 13,
   "metadata": {
    "tags": []
   },
   "outputs": [
    {
     "name": "stdout",
     "output_type": "stream",
     "text": [
      "sample size: 10538\n"
     ]
    },
    {
     "data": {
      "text/html": [
       "<div>\n",
       "<style scoped>\n",
       "    .dataframe tbody tr th:only-of-type {\n",
       "        vertical-align: middle;\n",
       "    }\n",
       "\n",
       "    .dataframe tbody tr th {\n",
       "        vertical-align: top;\n",
       "    }\n",
       "\n",
       "    .dataframe thead th {\n",
       "        text-align: right;\n",
       "    }\n",
       "</style>\n",
       "<table border=\"1\" class=\"dataframe\">\n",
       "  <thead>\n",
       "    <tr style=\"text-align: right;\">\n",
       "      <th></th>\n",
       "      <th>constant</th>\n",
       "    </tr>\n",
       "  </thead>\n",
       "  <tbody>\n",
       "    <tr>\n",
       "      <th>0</th>\n",
       "      <td>True</td>\n",
       "    </tr>\n",
       "  </tbody>\n",
       "</table>\n",
       "</div>"
      ],
      "text/plain": [
       "   constant\n",
       "0      True"
      ]
     },
     "execution_count": 13,
     "metadata": {},
     "output_type": "execute_result"
    }
   ],
   "source": [
    "c = SumLowerThan(value=10001, columns='constant')\n",
    "c.validate(dataset)"
   ]
  },
  {
   "cell_type": "markdown",
   "metadata": {},
   "source": [
    "## Mixing Rows and Columns constraints"
   ]
  },
  {
   "cell_type": "markdown",
   "metadata": {},
   "source": [
    "The Constraint Engine accepts both type of constraints:"
   ]
  },
  {
   "cell_type": "code",
   "execution_count": 14,
   "metadata": {
    "tags": []
   },
   "outputs": [
    {
     "name": "stdout",
     "output_type": "stream",
     "text": [
      "[########################################] | 100% Completed | 101.95 ms\n",
      "[########################################] | 100% Completed | 101.65 ms\n",
      "[########################################] | 100% Completed | 105.03 ms\n",
      "[########################################] | 100% Completed | 104.09 ms\n",
      "sample size: 10538\n",
      "[########################################] | 100% Completed | 101.78 ms\n",
      "sample size: 10538\n",
      "[                                        ] | 0% Completed | 354.27 us"
     ]
    },
    {
     "name": "stderr",
     "output_type": "stream",
     "text": [
      "/home/ricardopereira/anaconda3/envs/ydata/lib/python3.10/site-packages/dask/array/core.py:4893: RuntimeWarning: invalid value encountered in double_scalars\n",
      "  result = function(*args, **kwargs)\n"
     ]
    },
    {
     "name": "stdout",
     "output_type": "stream",
     "text": [
      "[########################################] | 100% Completed | 103.87 ms\n",
      "sample size: 10538\n",
      "[########################################] | 100% Completed | 103.82 ms\n"
     ]
    }
   ],
   "source": [
    "from ydata.constraints.rows import GreaterThan\n",
    "\n",
    "# Rows constraint\n",
    "c1 = GreaterThan(columns=['amount', 'balance'], value=1)\n",
    "\n",
    "# Column constraint\n",
    "c2 = MeanBetween(lower_bound=7, upper_bound=10, columns=['amount', 'constant'])\n",
    "c3 = StandardDeviationBetween(lower_bound=0, upper_bound=8, columns=['amount', 'constant'])\n",
    "\n",
    "m = Metadata(dataset, constraints=[c1, c2, c3])"
   ]
  },
  {
   "cell_type": "code",
   "execution_count": 15,
   "metadata": {
    "tags": []
   },
   "outputs": [
    {
     "data": {
      "text/plain": [
       "\n",
       "\u001b[1mConstraint Engine \n",
       " \n",
       "\u001b[0mNumber of Constraints: 3\n",
       "Number of Constraints Violated: 2 (66.66666666666667%)\n",
       "\n",
       "GreaterThan 1 on columns [amount, balance]: \u001b[1m 77 violated (7.7%) \u001b[0m\n",
       "MeanBetweenRange on columns [amount, constant]: 0 (0.0%)\n",
       "StandardDeviationBetween on columns [amount, constant]: \u001b[1m 1 violated (50.0%) \u001b[0m"
      ]
     },
     "execution_count": 15,
     "metadata": {},
     "output_type": "execute_result"
    }
   ],
   "source": [
    "m._constraint_engine"
   ]
  },
  {
   "cell_type": "markdown",
   "metadata": {},
   "source": [
    "Remember that for **rows** constraints, the percentage refers to the number of violated rows (e.g. 7.5% for the constraint `GreaterThan`) while it refers to columns for **columns** constraints (e.g. 50% of columns are violated for the constraint `StandardDeviationBetween`)."
   ]
  },
  {
   "cell_type": "markdown",
   "metadata": {},
   "source": [
    "# Custom constraints\n",
    "\n",
    "The constraints engine comes with several pre-defined constraints to validate your dataset. \n",
    "\n",
    "However, in some cases, your constraints cannot be directly expressed by these default constraints. In thise case, you can create your own custom constraints from any Python function or lambda."
   ]
  },
  {
   "cell_type": "code",
   "execution_count": 16,
   "metadata": {
    "tags": []
   },
   "outputs": [],
   "source": [
    "from ydata.constraints.rows import CustomConstraint"
   ]
  },
  {
   "cell_type": "markdown",
   "metadata": {},
   "source": [
    "## A simple example"
   ]
  },
  {
   "cell_type": "markdown",
   "metadata": {},
   "source": [
    "In the following example, we create a `CustomConstraint` to validate that each row is strictly lower than 10. Keep in mind that this is just a toy example and that in reality, the function could be arbitrarily complex depending on your own use-case:"
   ]
  },
  {
   "cell_type": "code",
   "execution_count": 17,
   "metadata": {
    "tags": []
   },
   "outputs": [
    {
     "data": {
      "text/html": [
       "<div>\n",
       "<style scoped>\n",
       "    .dataframe tbody tr th:only-of-type {\n",
       "        vertical-align: middle;\n",
       "    }\n",
       "\n",
       "    .dataframe tbody tr th {\n",
       "        vertical-align: top;\n",
       "    }\n",
       "\n",
       "    .dataframe thead th {\n",
       "        text-align: right;\n",
       "    }\n",
       "</style>\n",
       "<table border=\"1\" class=\"dataframe\">\n",
       "  <thead>\n",
       "    <tr style=\"text-align: right;\">\n",
       "      <th></th>\n",
       "      <th>constant</th>\n",
       "      <th>amount</th>\n",
       "    </tr>\n",
       "  </thead>\n",
       "  <tbody>\n",
       "    <tr>\n",
       "      <th>0</th>\n",
       "      <td>False</td>\n",
       "      <td>True</td>\n",
       "    </tr>\n",
       "    <tr>\n",
       "      <th>1</th>\n",
       "      <td>False</td>\n",
       "      <td>False</td>\n",
       "    </tr>\n",
       "    <tr>\n",
       "      <th>2</th>\n",
       "      <td>False</td>\n",
       "      <td>True</td>\n",
       "    </tr>\n",
       "    <tr>\n",
       "      <th>3</th>\n",
       "      <td>False</td>\n",
       "      <td>True</td>\n",
       "    </tr>\n",
       "    <tr>\n",
       "      <th>4</th>\n",
       "      <td>False</td>\n",
       "      <td>True</td>\n",
       "    </tr>\n",
       "    <tr>\n",
       "      <th>...</th>\n",
       "      <td>...</td>\n",
       "      <td>...</td>\n",
       "    </tr>\n",
       "    <tr>\n",
       "      <th>995</th>\n",
       "      <td>False</td>\n",
       "      <td>True</td>\n",
       "    </tr>\n",
       "    <tr>\n",
       "      <th>996</th>\n",
       "      <td>False</td>\n",
       "      <td>True</td>\n",
       "    </tr>\n",
       "    <tr>\n",
       "      <th>997</th>\n",
       "      <td>False</td>\n",
       "      <td>False</td>\n",
       "    </tr>\n",
       "    <tr>\n",
       "      <th>998</th>\n",
       "      <td>False</td>\n",
       "      <td>True</td>\n",
       "    </tr>\n",
       "    <tr>\n",
       "      <th>999</th>\n",
       "      <td>False</td>\n",
       "      <td>False</td>\n",
       "    </tr>\n",
       "  </tbody>\n",
       "</table>\n",
       "<p>1000 rows × 2 columns</p>\n",
       "</div>"
      ],
      "text/plain": [
       "     constant  amount\n",
       "0       False    True\n",
       "1       False   False\n",
       "2       False    True\n",
       "3       False    True\n",
       "4       False    True\n",
       "..        ...     ...\n",
       "995     False    True\n",
       "996     False    True\n",
       "997     False   False\n",
       "998     False    True\n",
       "999     False   False\n",
       "\n",
       "[1000 rows x 2 columns]"
      ]
     },
     "execution_count": 17,
     "metadata": {},
     "output_type": "execute_result"
    }
   ],
   "source": [
    "c = CustomConstraint(name='Positive', columns=['constant', 'amount'], check=lambda x: x < 10)\n",
    "mask = c.validate(dataset)\n",
    "mask"
   ]
  },
  {
   "cell_type": "markdown",
   "metadata": {},
   "source": [
    "We can check the number of non-violated rows. As expected, all rows in `constaint` are violated while about 25% are violated for the columne `amount`."
   ]
  },
  {
   "cell_type": "code",
   "execution_count": 18,
   "metadata": {
    "tags": []
   },
   "outputs": [
    {
     "data": {
      "text/plain": [
       "constant      0\n",
       "amount      722\n",
       "dtype: int64"
      ]
     },
     "execution_count": 18,
     "metadata": {},
     "output_type": "execute_result"
    }
   ],
   "source": [
    "mask.sum()"
   ]
  },
  {
   "cell_type": "markdown",
   "metadata": {},
   "source": [
    "We can easily select the violated rows for any columns. For instance, to select all violated rows for the column `amount`:"
   ]
  },
  {
   "cell_type": "code",
   "execution_count": 19,
   "metadata": {
    "tags": []
   },
   "outputs": [
    {
     "data": {
      "text/html": [
       "<div>\n",
       "<style scoped>\n",
       "    .dataframe tbody tr th:only-of-type {\n",
       "        vertical-align: middle;\n",
       "    }\n",
       "\n",
       "    .dataframe tbody tr th {\n",
       "        vertical-align: top;\n",
       "    }\n",
       "\n",
       "    .dataframe thead th {\n",
       "        text-align: right;\n",
       "    }\n",
       "</style>\n",
       "<table border=\"1\" class=\"dataframe\">\n",
       "  <thead>\n",
       "    <tr style=\"text-align: right;\">\n",
       "      <th></th>\n",
       "      <th>index</th>\n",
       "      <th>amount</th>\n",
       "      <th>constant</th>\n",
       "      <th>balance</th>\n",
       "    </tr>\n",
       "  </thead>\n",
       "  <tbody>\n",
       "    <tr>\n",
       "      <th>1</th>\n",
       "      <td>1</td>\n",
       "      <td>11.611861</td>\n",
       "      <td>10</td>\n",
       "      <td>19.698435</td>\n",
       "    </tr>\n",
       "    <tr>\n",
       "      <th>20</th>\n",
       "      <td>20</td>\n",
       "      <td>23.574817</td>\n",
       "      <td>10</td>\n",
       "      <td>134.640153</td>\n",
       "    </tr>\n",
       "    <tr>\n",
       "      <th>21</th>\n",
       "      <td>21</td>\n",
       "      <td>11.530084</td>\n",
       "      <td>10</td>\n",
       "      <td>146.170237</td>\n",
       "    </tr>\n",
       "    <tr>\n",
       "      <th>24</th>\n",
       "      <td>24</td>\n",
       "      <td>10.104716</td>\n",
       "      <td>10</td>\n",
       "      <td>171.216787</td>\n",
       "    </tr>\n",
       "    <tr>\n",
       "      <th>27</th>\n",
       "      <td>27</td>\n",
       "      <td>18.436223</td>\n",
       "      <td>10</td>\n",
       "      <td>199.294875</td>\n",
       "    </tr>\n",
       "    <tr>\n",
       "      <th>...</th>\n",
       "      <td>...</td>\n",
       "      <td>...</td>\n",
       "      <td>...</td>\n",
       "      <td>...</td>\n",
       "    </tr>\n",
       "    <tr>\n",
       "      <th>987</th>\n",
       "      <td>987</td>\n",
       "      <td>21.505827</td>\n",
       "      <td>10</td>\n",
       "      <td>7582.775280</td>\n",
       "    </tr>\n",
       "    <tr>\n",
       "      <th>992</th>\n",
       "      <td>992</td>\n",
       "      <td>21.217103</td>\n",
       "      <td>10</td>\n",
       "      <td>7617.362578</td>\n",
       "    </tr>\n",
       "    <tr>\n",
       "      <th>994</th>\n",
       "      <td>994</td>\n",
       "      <td>14.084268</td>\n",
       "      <td>10</td>\n",
       "      <td>7640.474025</td>\n",
       "    </tr>\n",
       "    <tr>\n",
       "      <th>997</th>\n",
       "      <td>997</td>\n",
       "      <td>15.951926</td>\n",
       "      <td>10</td>\n",
       "      <td>7673.592720</td>\n",
       "    </tr>\n",
       "    <tr>\n",
       "      <th>999</th>\n",
       "      <td>999</td>\n",
       "      <td>16.154660</td>\n",
       "      <td>10</td>\n",
       "      <td>7692.256888</td>\n",
       "    </tr>\n",
       "  </tbody>\n",
       "</table>\n",
       "<p>278 rows × 4 columns</p>\n",
       "</div>"
      ],
      "text/plain": [
       "     index     amount  constant      balance\n",
       "1        1  11.611861        10    19.698435\n",
       "20      20  23.574817        10   134.640153\n",
       "21      21  11.530084        10   146.170237\n",
       "24      24  10.104716        10   171.216787\n",
       "27      27  18.436223        10   199.294875\n",
       "..     ...        ...       ...          ...\n",
       "987    987  21.505827        10  7582.775280\n",
       "992    992  21.217103        10  7617.362578\n",
       "994    994  14.084268        10  7640.474025\n",
       "997    997  15.951926        10  7673.592720\n",
       "999    999  16.154660        10  7692.256888\n",
       "\n",
       "[278 rows x 4 columns]"
      ]
     },
     "execution_count": 19,
     "metadata": {},
     "output_type": "execute_result"
    }
   ],
   "source": [
    "df[~mask['amount']]"
   ]
  },
  {
   "cell_type": "markdown",
   "metadata": {},
   "source": [
    "## Custom constraints for series\n",
    "\n",
    "A more complex example is the validation of time series when the rows have calculated values that depends on the previous rows.   \n",
    "To handle such complex yet common use-cases, we provide a special synthax to refer to previous rows.\n",
    "\n",
    "Imagine the following example: our dataset represents transactions on a bank account, and a structural constraint that **must** be respected is that the total amount at transaction **n** must be equal to the total amount at step **n-1** plus the amount of the transaction **n**.\n",
    "If such constraint is violated it means that the data has some integrity issues. Although the example is fairly simple to understand, checking such integrity constraint with temporal dependency can be tricky.    \n",
    "\n",
    "However, this is made simple with the `Constraint Engine` and the `Custom Constraint` as illustrated on the following example:"
   ]
  },
  {
   "cell_type": "code",
   "execution_count": 20,
   "metadata": {
    "tags": []
   },
   "outputs": [],
   "source": [
    "def check_balance_with_serie(df):\n",
    "    return df['balance|n'] == df['balance|n-1'] + df['amount|n']  # "
   ]
  },
  {
   "cell_type": "code",
   "execution_count": 21,
   "metadata": {
    "tags": []
   },
   "outputs": [],
   "source": [
    "# The custom synthax `column|n-k` is understood as the value `n-k` of the column `column` where `n` is the current row.\n",
    "c = CustomConstraint(name=\"Balance Check with Serie\", check=check_balance_with_serie,\n",
    "                          available_columns=['balance|n', 'amount|n', 'balance|n-1'])"
   ]
  },
  {
   "cell_type": "markdown",
   "metadata": {},
   "source": [
    "There is no restriction on the order of the temporal dependencies. For instance, `amount|n-5` would refer to the amount five rows behind the current one.\n",
    "\n",
    "It is important to specify what colums you want to make available to your function using the parameter `available_columns` as above. It serves the purpose of preventing side effects and optimizing the validation of such constraint."
   ]
  },
  {
   "cell_type": "code",
   "execution_count": 22,
   "metadata": {
    "tags": []
   },
   "outputs": [
    {
     "data": {
      "text/plain": [
       "0    1000\n",
       "dtype: int64"
      ]
     },
     "execution_count": 22,
     "metadata": {},
     "output_type": "execute_result"
    }
   ],
   "source": [
    "mask = c.validate(dataset)\n",
    "mask.sum()"
   ]
  },
  {
   "cell_type": "markdown",
   "metadata": {},
   "source": [
    "Because our dataset was constructed precisely to respect this constraint, we obtain no violated rows, as expected."
   ]
  },
  {
   "cell_type": "markdown",
   "metadata": {},
   "source": [
    "# Conclusion"
   ]
  },
  {
   "cell_type": "markdown",
   "metadata": {},
   "source": [
    "The `Constraint Engine` is a versatile tool to validate constraints and detect issues in your dataset. Because structural constraints takes two forms, we offer two different types of constraints:\n",
    "\n",
    "1. Rows constraints that check the validaty of each row,\n",
    "2. Column constraints that check the validity of a column property.\n",
    "\n",
    "When your constraint cannot be expressed with the default `Constraint` objects that we offer, it is possible to define `CustomConstraint` with no restriction, using Python function or lambda.\n",
    "\n",
    "Finally, we also allow to define constraints with time dependency between the rows, allowing to check the integrity of complex relationships."
   ]
  }
 ],
 "metadata": {
  "kernelspec": {
   "display_name": "Python 3 (ipykernel)",
   "language": "python",
   "name": "python3"
  },
  "language_info": {
   "codemirror_mode": {
    "name": "ipython",
    "version": 3
   },
   "file_extension": ".py",
   "mimetype": "text/x-python",
   "name": "python",
   "nbconvert_exporter": "python",
   "pygments_lexer": "ipython3",
   "version": "3.10.8"
  }
 },
 "nbformat": 4,
 "nbformat_minor": 4
}
