{
 "cells": [
  {
   "cell_type": "markdown",
   "metadata": {
    "collapsed": true,
    "jupyter": {
     "outputs_hidden": true
    }
   },
   "source": [
    "# The Metadata and Constraints"
   ]
  },
  {
   "cell_type": "markdown",
   "metadata": {
    "collapsed": false,
    "jupyter": {
     "outputs_hidden": false
    },
    "pycharm": {
     "name": "#%%\n"
    }
   },
   "source": [
    "**Metadata** objects are the pilar to leverage YData's package features. The **Metadata** is the object that can be shared between the different features and elements of YData plataform: *profiling*, *synthesizer* and *report*.    \n",
    "    \n",
    "- The object helps you extracting the main data from your dataset:\n",
    "    - The **columns metadata**: Both Variable and Data type (numerical, categorical, etc.)\n",
    "    - The **data warnings**: Checks for the presence of duplicates, variables with skewness, etc.\n",
    "    - The **data constraints**: They refer to business rules validation of the data. Constraints are flexible and easy to use. \n",
    "    \n",
    "In this Notebook, we will be showing you features and capabilities of this objects and how to combine them with other pieces from YData's package offer.\n",
    "\n",
    "The dataset used to explore the Metadata and Constraints can be found win [\"Kaggle - Home Loans\"](https://www.kaggle.com/code/sazid28/home-loan-prediction/data)."
   ]
  },
  {
   "cell_type": "code",
   "execution_count": 1,
   "metadata": {},
   "outputs": [],
   "source": [
    "from ydata.labs import DataSources\n",
    "from ydata.metadata import Metadata"
   ]
  },
  {
   "cell_type": "code",
   "execution_count": 2,
   "metadata": {},
   "outputs": [],
   "source": [
    "datasource = DataSources.get(uid='{uid}', namespace='{namespace}')\n",
    "data = datasource.dataset"
   ]
  },
  {
   "cell_type": "code",
   "execution_count": 3,
   "metadata": {},
   "outputs": [
    {
     "data": {
      "text/html": [
       "<div>\n",
       "<style scoped>\n",
       "    .dataframe tbody tr th:only-of-type {\n",
       "        vertical-align: middle;\n",
       "    }\n",
       "\n",
       "    .dataframe tbody tr th {\n",
       "        vertical-align: top;\n",
       "    }\n",
       "\n",
       "    .dataframe thead th {\n",
       "        text-align: right;\n",
       "    }\n",
       "</style>\n",
       "<table border=\"1\" class=\"dataframe\">\n",
       "  <thead>\n",
       "    <tr style=\"text-align: right;\">\n",
       "      <th></th>\n",
       "      <th>Loan_ID</th>\n",
       "      <th>Gender</th>\n",
       "      <th>Married</th>\n",
       "      <th>Dependents</th>\n",
       "      <th>Education</th>\n",
       "      <th>Self_Employed</th>\n",
       "      <th>ApplicantIncome</th>\n",
       "      <th>CoapplicantIncome</th>\n",
       "      <th>LoanAmount</th>\n",
       "      <th>Loan_Amount_Term</th>\n",
       "      <th>Credit_History</th>\n",
       "      <th>Property_Area</th>\n",
       "      <th>Loan_Status</th>\n",
       "    </tr>\n",
       "  </thead>\n",
       "  <tbody>\n",
       "    <tr>\n",
       "      <th>0</th>\n",
       "      <td>LP001002</td>\n",
       "      <td>Male</td>\n",
       "      <td>No</td>\n",
       "      <td>0</td>\n",
       "      <td>Graduate</td>\n",
       "      <td>No</td>\n",
       "      <td>5849</td>\n",
       "      <td>0.0</td>\n",
       "      <td>NaN</td>\n",
       "      <td>360.0</td>\n",
       "      <td>1.0</td>\n",
       "      <td>Urban</td>\n",
       "      <td>Y</td>\n",
       "    </tr>\n",
       "    <tr>\n",
       "      <th>1</th>\n",
       "      <td>LP001003</td>\n",
       "      <td>Male</td>\n",
       "      <td>Yes</td>\n",
       "      <td>1</td>\n",
       "      <td>Graduate</td>\n",
       "      <td>No</td>\n",
       "      <td>4583</td>\n",
       "      <td>1508.0</td>\n",
       "      <td>128.0</td>\n",
       "      <td>360.0</td>\n",
       "      <td>1.0</td>\n",
       "      <td>Rural</td>\n",
       "      <td>N</td>\n",
       "    </tr>\n",
       "    <tr>\n",
       "      <th>2</th>\n",
       "      <td>LP001005</td>\n",
       "      <td>Male</td>\n",
       "      <td>Yes</td>\n",
       "      <td>0</td>\n",
       "      <td>Graduate</td>\n",
       "      <td>Yes</td>\n",
       "      <td>3000</td>\n",
       "      <td>0.0</td>\n",
       "      <td>66.0</td>\n",
       "      <td>360.0</td>\n",
       "      <td>1.0</td>\n",
       "      <td>Urban</td>\n",
       "      <td>Y</td>\n",
       "    </tr>\n",
       "    <tr>\n",
       "      <th>3</th>\n",
       "      <td>LP001006</td>\n",
       "      <td>Male</td>\n",
       "      <td>Yes</td>\n",
       "      <td>0</td>\n",
       "      <td>Not Graduate</td>\n",
       "      <td>No</td>\n",
       "      <td>2583</td>\n",
       "      <td>2358.0</td>\n",
       "      <td>120.0</td>\n",
       "      <td>360.0</td>\n",
       "      <td>1.0</td>\n",
       "      <td>Urban</td>\n",
       "      <td>Y</td>\n",
       "    </tr>\n",
       "    <tr>\n",
       "      <th>4</th>\n",
       "      <td>LP001008</td>\n",
       "      <td>Male</td>\n",
       "      <td>No</td>\n",
       "      <td>0</td>\n",
       "      <td>Graduate</td>\n",
       "      <td>No</td>\n",
       "      <td>6000</td>\n",
       "      <td>0.0</td>\n",
       "      <td>141.0</td>\n",
       "      <td>360.0</td>\n",
       "      <td>1.0</td>\n",
       "      <td>Urban</td>\n",
       "      <td>Y</td>\n",
       "    </tr>\n",
       "    <tr>\n",
       "      <th>...</th>\n",
       "      <td>...</td>\n",
       "      <td>...</td>\n",
       "      <td>...</td>\n",
       "      <td>...</td>\n",
       "      <td>...</td>\n",
       "      <td>...</td>\n",
       "      <td>...</td>\n",
       "      <td>...</td>\n",
       "      <td>...</td>\n",
       "      <td>...</td>\n",
       "      <td>...</td>\n",
       "      <td>...</td>\n",
       "      <td>...</td>\n",
       "    </tr>\n",
       "    <tr>\n",
       "      <th>95</th>\n",
       "      <td>LP001326</td>\n",
       "      <td>Male</td>\n",
       "      <td>No</td>\n",
       "      <td>0</td>\n",
       "      <td>Graduate</td>\n",
       "      <td>&lt;NA&gt;</td>\n",
       "      <td>6782</td>\n",
       "      <td>0.0</td>\n",
       "      <td>NaN</td>\n",
       "      <td>360.0</td>\n",
       "      <td>NaN</td>\n",
       "      <td>Urban</td>\n",
       "      <td>N</td>\n",
       "    </tr>\n",
       "    <tr>\n",
       "      <th>96</th>\n",
       "      <td>LP001327</td>\n",
       "      <td>Female</td>\n",
       "      <td>Yes</td>\n",
       "      <td>0</td>\n",
       "      <td>Graduate</td>\n",
       "      <td>No</td>\n",
       "      <td>2484</td>\n",
       "      <td>2302.0</td>\n",
       "      <td>137.0</td>\n",
       "      <td>360.0</td>\n",
       "      <td>1.0</td>\n",
       "      <td>Semiurban</td>\n",
       "      <td>Y</td>\n",
       "    </tr>\n",
       "    <tr>\n",
       "      <th>97</th>\n",
       "      <td>LP001333</td>\n",
       "      <td>Male</td>\n",
       "      <td>Yes</td>\n",
       "      <td>0</td>\n",
       "      <td>Graduate</td>\n",
       "      <td>No</td>\n",
       "      <td>1977</td>\n",
       "      <td>997.0</td>\n",
       "      <td>50.0</td>\n",
       "      <td>360.0</td>\n",
       "      <td>1.0</td>\n",
       "      <td>Semiurban</td>\n",
       "      <td>Y</td>\n",
       "    </tr>\n",
       "    <tr>\n",
       "      <th>98</th>\n",
       "      <td>LP001334</td>\n",
       "      <td>Male</td>\n",
       "      <td>Yes</td>\n",
       "      <td>0</td>\n",
       "      <td>Not Graduate</td>\n",
       "      <td>No</td>\n",
       "      <td>4188</td>\n",
       "      <td>0.0</td>\n",
       "      <td>115.0</td>\n",
       "      <td>180.0</td>\n",
       "      <td>1.0</td>\n",
       "      <td>Semiurban</td>\n",
       "      <td>Y</td>\n",
       "    </tr>\n",
       "    <tr>\n",
       "      <th>99</th>\n",
       "      <td>LP001343</td>\n",
       "      <td>Male</td>\n",
       "      <td>Yes</td>\n",
       "      <td>0</td>\n",
       "      <td>Graduate</td>\n",
       "      <td>No</td>\n",
       "      <td>1759</td>\n",
       "      <td>3541.0</td>\n",
       "      <td>131.0</td>\n",
       "      <td>360.0</td>\n",
       "      <td>1.0</td>\n",
       "      <td>Semiurban</td>\n",
       "      <td>Y</td>\n",
       "    </tr>\n",
       "  </tbody>\n",
       "</table>\n",
       "<p>100 rows × 13 columns</p>\n",
       "</div>"
      ],
      "text/plain": [
       "     Loan_ID  Gender Married Dependents     Education Self_Employed  \\\n",
       "0   LP001002    Male      No          0      Graduate            No   \n",
       "1   LP001003    Male     Yes          1      Graduate            No   \n",
       "2   LP001005    Male     Yes          0      Graduate           Yes   \n",
       "3   LP001006    Male     Yes          0  Not Graduate            No   \n",
       "4   LP001008    Male      No          0      Graduate            No   \n",
       "..       ...     ...     ...        ...           ...           ...   \n",
       "95  LP001326    Male      No          0      Graduate          <NA>   \n",
       "96  LP001327  Female     Yes          0      Graduate            No   \n",
       "97  LP001333    Male     Yes          0      Graduate            No   \n",
       "98  LP001334    Male     Yes          0  Not Graduate            No   \n",
       "99  LP001343    Male     Yes          0      Graduate            No   \n",
       "\n",
       "    ApplicantIncome  CoapplicantIncome  LoanAmount  Loan_Amount_Term  \\\n",
       "0              5849                0.0         NaN             360.0   \n",
       "1              4583             1508.0       128.0             360.0   \n",
       "2              3000                0.0        66.0             360.0   \n",
       "3              2583             2358.0       120.0             360.0   \n",
       "4              6000                0.0       141.0             360.0   \n",
       "..              ...                ...         ...               ...   \n",
       "95             6782                0.0         NaN             360.0   \n",
       "96             2484             2302.0       137.0             360.0   \n",
       "97             1977              997.0        50.0             360.0   \n",
       "98             4188                0.0       115.0             180.0   \n",
       "99             1759             3541.0       131.0             360.0   \n",
       "\n",
       "    Credit_History Property_Area Loan_Status  \n",
       "0              1.0         Urban           Y  \n",
       "1              1.0         Rural           N  \n",
       "2              1.0         Urban           Y  \n",
       "3              1.0         Urban           Y  \n",
       "4              1.0         Urban           Y  \n",
       "..             ...           ...         ...  \n",
       "95             NaN         Urban           N  \n",
       "96             1.0     Semiurban           Y  \n",
       "97             1.0     Semiurban           Y  \n",
       "98             1.0     Semiurban           Y  \n",
       "99             1.0     Semiurban           Y  \n",
       "\n",
       "[100 rows x 13 columns]"
      ]
     },
     "execution_count": 3,
     "metadata": {},
     "output_type": "execute_result"
    }
   ],
   "source": [
    "data.head(100)"
   ]
  },
  {
   "cell_type": "code",
   "execution_count": 4,
   "metadata": {},
   "outputs": [
    {
     "name": "stdout",
     "output_type": "stream",
     "text": [
      "[########################################] | 100% Completed | 101.87 ms\n",
      "[########################################] | 100% Completed | 101.96 ms\n",
      "[########################################] | 100% Completed | 102.49 ms\n",
      "[########################################] | 100% Completed | 102.35 ms\n",
      "[########################################] | 100% Completed | 594.00 ms\n",
      "\u001b[1mMetadata Summary \n",
      " \n",
      "\u001b[0m\u001b[1mDataset type: \u001b[0mTABULAR\n",
      "\u001b[1mDataset attributes: \u001b[0m\n",
      "\u001b[1mNumber of columns: \u001b[0m13\n",
      "\u001b[1mDuplicate rows: \u001b[0m1\n",
      "\u001b[1mTarget column: \u001b[0m\n",
      "\n",
      "\u001b[1mColumn detail: \u001b[0m\n",
      "               Column    Data type Variable type Characteristics\n",
      "0             Loan_ID       string        string              id\n",
      "1              Gender  categorical        string                \n",
      "2             Married  categorical        string                \n",
      "3          Dependents  categorical        string                \n",
      "4           Education  categorical        string                \n",
      "5       Self_Employed  categorical        string                \n",
      "6     ApplicantIncome    numerical           int                \n",
      "7   CoapplicantIncome    numerical         float                \n",
      "8          LoanAmount    numerical         float                \n",
      "9    Loan_Amount_Term  categorical         float                \n",
      "10     Credit_History  categorical         float                \n",
      "11      Property_Area  categorical        string                \n",
      "12        Loan_Status  categorical        string                \n",
      "\n",
      "\u001b[1mWarnings: \u001b[0m\n",
      "           Warning                                                                                     Columns\n",
      "0         skewness                                                        [ApplicantIncome, CoapplicantIncome]\n",
      "1      cardinality                                                                                   [Loan_ID]\n",
      "2         missings  [Gender, Married, Dependents, Self_Employed, LoanAmount, Loan_Amount_Term, Credit_History]\n",
      "3            zeros                                                             [CoapplicantIncome, LoanAmount]\n",
      "4      correlation                                                                [ApplicantIncome|LoanAmount]\n",
      "5        imbalance                                              [Gender, Dependents, Education, Self_Employed]\n",
      "6           unique                                                                                   [Loan_ID]\n",
      "7  constant_length                                                                      [Loan_ID, Loan_Status]\n",
      "\n"
     ]
    }
   ],
   "source": [
    "#Extract the Metadata from the Dataset\n",
    "metadata = Metadata(data)\n",
    "print(metadata)"
   ]
  },
  {
   "cell_type": "code",
   "execution_count": 5,
   "metadata": {},
   "outputs": [
    {
     "name": "stdout",
     "output_type": "stream",
     "text": [
      "\n",
      "\u001b[1mMetadata summary\u001b[0m\n",
      "{'nrows': 614, 'cardinality': {'Loan_ID': 614, 'Gender': 2, 'Married': 2, 'Dependents': 4, 'Education': 2, 'Self_Employed': 2, 'ApplicantIncome': 505, 'CoapplicantIncome': 287, 'LoanAmount': 203, 'Loan_Amount_Term': 10, 'Credit_History': 2, 'Property_Area': 3, 'Loan_Status': 2}, 'iscategorical': {'Loan_ID': 614.0, 'Gender': 2.0, 'Married': 2.0, 'Dependents': 4.0, 'Education': 2.0, 'Self_Employed': 2.0, 'ApplicantIncome': 505.0, 'CoapplicantIncome': 287.0, 'LoanAmount': 203.0, 'Loan_Amount_Term': 10.0, 'Credit_History': 2.0, 'Property_Area': 3.0, 'Loan_Status': 2.0}, 'missings': Loan_ID               0\n",
      "Gender               13\n",
      "Married               3\n",
      "Dependents           15\n",
      "Education             0\n",
      "Self_Employed        32\n",
      "ApplicantIncome       0\n",
      "CoapplicantIncome     0\n",
      "LoanAmount           22\n",
      "Loan_Amount_Term     14\n",
      "Credit_History       50\n",
      "Property_Area         0\n",
      "Loan_Status           0\n",
      "dtype: int64, 'duplicates': 1, 'skewness': {'ApplicantIncome': 6.523526250899358, 'CoapplicantIncome': 7.473216996340462, 'LoanAmount': nan, 'Loan_Amount_Term': nan, 'Credit_History': nan}, 'string_len': {'Loan_ID': {'max': 8, 'min': 8, 'mean': 8.0}, 'Gender': {'max': 6, 'min': 4, 'mean': 4.372712146422629}, 'Married': {'max': 3, 'min': 2, 'mean': 2.65139116202946}, 'Dependents': {'max': 2, 'min': 1, 'mean': 1.0851419031719534}, 'Education': {'max': 12, 'min': 8, 'mean': 8.872964169381108}, 'Self_Employed': {'max': 3, 'min': 2, 'mean': 2.140893470790378}, 'Property_Area': {'max': 9, 'min': 5, 'mean': 6.517915309446254}, 'Loan_Status': {'max': 1, 'min': 1, 'mean': 1.0}}, 'word_count': {'Loan_ID': 1.0, 'Gender': 1.0, 'Married': 1.0, 'Dependents': 1.0, 'Education': 1.218241042345277, 'Self_Employed': 1.0, 'Property_Area': 1.0, 'Loan_Status': 1.0}, 'zeros': {'ApplicantIncome': 0, 'CoapplicantIncome': 273, 'LoanAmount': 22, 'Loan_Amount_Term': 14, 'Credit_History': 139}, 'infinity': {'ApplicantIncome': 0, 'CoapplicantIncome': 0, 'LoanAmount': 0, 'Loan_Amount_Term': 0, 'Credit_History': 0}, 'value_counts': {'Loan_ID': array([1, 1, 1, 1, 1, 1, 1, 1, 1, 1, 1, 1, 1, 1, 1, 1, 1, 1, 1, 1, 1, 1,\n",
      "       1, 1, 1, 1, 1, 1, 1, 1, 1, 1, 1, 1, 1, 1, 1, 1, 1, 1, 1, 1, 1, 1,\n",
      "       1, 1, 1, 1, 1, 1, 1, 1, 1, 1, 1, 1, 1, 1, 1, 1, 1, 1, 1, 1, 1, 1,\n",
      "       1, 1, 1, 1, 1, 1, 1, 1, 1, 1, 1, 1, 1, 1, 1, 1, 1, 1, 1, 1, 1, 1,\n",
      "       1, 1, 1, 1, 1, 1, 1, 1, 1, 1, 1, 1, 1, 1, 1, 1, 1, 1, 1, 1, 1, 1,\n",
      "       1, 1, 1, 1, 1, 1, 1, 1, 1, 1, 1, 1, 1, 1, 1, 1, 1, 1, 1, 1, 1, 1,\n",
      "       1, 1, 1, 1, 1, 1, 1, 1, 1, 1, 1, 1, 1, 1, 1, 1, 1, 1, 1, 1, 1, 1,\n",
      "       1, 1, 1, 1, 1, 1, 1, 1, 1, 1, 1, 1, 1, 1, 1, 1, 1, 1, 1, 1, 1, 1,\n",
      "       1, 1, 1, 1, 1, 1, 1, 1, 1, 1, 1, 1, 1, 1, 1, 1, 1, 1, 1, 1, 1, 1,\n",
      "       1, 1, 1, 1, 1, 1, 1, 1, 1, 1, 1, 1, 1, 1, 1, 1, 1, 1, 1, 1, 1, 1,\n",
      "       1, 1, 1, 1, 1, 1, 1, 1, 1, 1, 1, 1, 1, 1, 1, 1, 1, 1, 1, 1, 1, 1,\n",
      "       1, 1, 1, 1, 1, 1, 1, 1, 1, 1, 1, 1, 1, 1, 1, 1, 1, 1, 1, 1, 1, 1,\n",
      "       1, 1, 1, 1, 1, 1, 1, 1, 1, 1, 1, 1, 1, 1, 1, 1, 1, 1, 1, 1, 1, 1,\n",
      "       1, 1, 1, 1, 1, 1, 1, 1, 1, 1, 1, 1, 1, 1, 1, 1, 1, 1, 1, 1, 1, 1,\n",
      "       1, 1, 1, 1, 1, 1, 1, 1, 1, 1, 1, 1, 1, 1, 1, 1, 1, 1, 1, 1, 1, 1,\n",
      "       1, 1, 1, 1, 1, 1, 1, 1, 1, 1, 1, 1, 1, 1, 1, 1, 1, 1, 1, 1, 1, 1,\n",
      "       1, 1, 1, 1, 1, 1, 1, 1, 1, 1, 1, 1, 1, 1, 1, 1, 1, 1, 1, 1, 1, 1,\n",
      "       1, 1, 1, 1, 1, 1, 1, 1, 1, 1, 1, 1, 1, 1, 1, 1, 1, 1, 1, 1, 1, 1,\n",
      "       1, 1, 1, 1, 1, 1, 1, 1, 1, 1, 1, 1, 1, 1, 1, 1, 1, 1, 1, 1, 1, 1,\n",
      "       1, 1, 1, 1, 1, 1, 1, 1, 1, 1, 1, 1, 1, 1, 1, 1, 1, 1, 1, 1, 1, 1,\n",
      "       1, 1, 1, 1, 1, 1, 1, 1, 1, 1, 1, 1, 1, 1, 1, 1, 1, 1, 1, 1, 1, 1,\n",
      "       1, 1, 1, 1, 1, 1, 1, 1, 1, 1, 1, 1, 1, 1, 1, 1, 1, 1, 1, 1, 1, 1,\n",
      "       1, 1, 1, 1, 1, 1, 1, 1, 1, 1, 1, 1, 1, 1, 1, 1, 1, 1, 1, 1, 1, 1,\n",
      "       1, 1, 1, 1, 1, 1, 1, 1, 1, 1, 1, 1, 1, 1, 1, 1, 1, 1, 1, 1, 1, 1,\n",
      "       1, 1, 1, 1, 1, 1, 1, 1, 1, 1, 1, 1, 1, 1, 1, 1, 1, 1, 1, 1, 1, 1,\n",
      "       1, 1, 1, 1, 1, 1, 1, 1, 1, 1, 1, 1, 1, 1, 1, 1, 1, 1, 1, 1, 1, 1,\n",
      "       1, 1, 1, 1, 1, 1, 1, 1, 1, 1, 1, 1, 1, 1, 1, 1, 1, 1, 1, 1, 1, 1,\n",
      "       1, 1, 1, 1, 1, 1, 1, 1, 1, 1, 1, 1, 1, 1, 1, 1, 1, 1, 1, 1]), 'Gender': array([489, 112]), 'Married': array([398, 213]), 'Dependents': array([345, 102, 101,  51]), 'Education': array([480, 134]), 'Self_Employed': array([500,  82]), 'ApplicantIncome': array([9, 6, 6, 6, 5, 5, 5, 5, 4, 4, 4, 4, 3, 3, 3, 3, 3, 3, 3, 3, 3, 3,\n",
      "       2, 2, 2, 2, 2, 2, 2, 2, 2, 2, 2, 2, 2, 2, 2, 2, 2, 2, 2, 2, 2, 2,\n",
      "       2, 2, 2, 2, 2, 2, 2, 2, 2, 2, 2, 2, 2, 2, 2, 2, 1, 1, 1, 1, 1, 1,\n",
      "       1, 1, 1, 1, 1, 1, 1, 1, 1, 1, 1, 1, 1, 1, 1, 1, 1, 1, 1, 1, 1, 1,\n",
      "       1, 1, 1, 1, 1, 1, 1, 1, 1, 1, 1, 1, 1, 1, 1, 1, 1, 1, 1, 1, 1, 1,\n",
      "       1, 1, 1, 1, 1, 1, 1, 1, 1, 1, 1, 1, 1, 1, 1, 1, 1, 1, 1, 1, 1, 1,\n",
      "       1, 1, 1, 1, 1, 1, 1, 1, 1, 1, 1, 1, 1, 1, 1, 1, 1, 1, 1, 1, 1, 1,\n",
      "       1, 1, 1, 1, 1, 1, 1, 1, 1, 1, 1, 1, 1, 1, 1, 1, 1, 1, 1, 1, 1, 1,\n",
      "       1, 1, 1, 1, 1, 1, 1, 1, 1, 1, 1, 1, 1, 1, 1, 1, 1, 1, 1, 1, 1, 1,\n",
      "       1, 1, 1, 1, 1, 1, 1, 1, 1, 1, 1, 1, 1, 1, 1, 1, 1, 1, 1, 1, 1, 1,\n",
      "       1, 1, 1, 1, 1, 1, 1, 1, 1, 1, 1, 1, 1, 1, 1, 1, 1, 1, 1, 1, 1, 1,\n",
      "       1, 1, 1, 1, 1, 1, 1, 1, 1, 1, 1, 1, 1, 1, 1, 1, 1, 1, 1, 1, 1, 1,\n",
      "       1, 1, 1, 1, 1, 1, 1, 1, 1, 1, 1, 1, 1, 1, 1, 1, 1, 1, 1, 1, 1, 1,\n",
      "       1, 1, 1, 1, 1, 1, 1, 1, 1, 1, 1, 1, 1, 1, 1, 1, 1, 1, 1, 1, 1, 1,\n",
      "       1, 1, 1, 1, 1, 1, 1, 1, 1, 1, 1, 1, 1, 1, 1, 1, 1, 1, 1, 1, 1, 1,\n",
      "       1, 1, 1, 1, 1, 1, 1, 1, 1, 1, 1, 1, 1, 1, 1, 1, 1, 1, 1, 1, 1, 1,\n",
      "       1, 1, 1, 1, 1, 1, 1, 1, 1, 1, 1, 1, 1, 1, 1, 1, 1, 1, 1, 1, 1, 1,\n",
      "       1, 1, 1, 1, 1, 1, 1, 1, 1, 1, 1, 1, 1, 1, 1, 1, 1, 1, 1, 1, 1, 1,\n",
      "       1, 1, 1, 1, 1, 1, 1, 1, 1, 1, 1, 1, 1, 1, 1, 1, 1, 1, 1, 1, 1, 1,\n",
      "       1, 1, 1, 1, 1, 1, 1, 1, 1, 1, 1, 1, 1, 1, 1, 1, 1, 1, 1, 1, 1, 1,\n",
      "       1, 1, 1, 1, 1, 1, 1, 1, 1, 1, 1, 1, 1, 1, 1, 1, 1, 1, 1, 1, 1, 1,\n",
      "       1, 1, 1, 1, 1, 1, 1, 1, 1, 1, 1, 1, 1, 1, 1, 1, 1, 1, 1, 1, 1, 1,\n",
      "       1, 1, 1, 1, 1, 1, 1, 1, 1, 1, 1, 1, 1, 1, 1, 1, 1, 1, 1, 1, 1]), 'Property_Area': array([233, 202, 179]), 'Loan_Status': array([422, 192])}, 'correlation':                     Loan_ID    Gender   Married  Dependents  Education  \\\n",
      "Loan_ID            1.000000  0.000000  0.295408    0.000000   0.090403   \n",
      "Gender             0.000000  1.000000  0.255328    0.125195   0.088865   \n",
      "Married            0.295408  0.255328  1.000000    0.392488   0.022215   \n",
      "Dependents         0.000000  0.125195  0.392488    1.000000   0.045630   \n",
      "Education          0.090403  0.088865  0.022215    0.045630   1.000000   \n",
      "Self_Employed      0.096714  0.027299  0.000000    0.000000   0.000000   \n",
      "ApplicantIncome    0.013830  0.029856  0.010643    0.033938   0.212465   \n",
      "CoapplicantIncome  0.000000  0.131643  0.158981    0.026579   0.136874   \n",
      "LoanAmount         0.147054  0.134478  0.197589    0.104952   0.205798   \n",
      "Loan_Amount_Term   0.066598  0.000000  0.134750    0.119712   0.088458   \n",
      "Credit_History     0.000000  0.000000  0.000000    0.000000   0.000000   \n",
      "Property_Area      0.044831  0.101271  0.000000    0.036578   0.026782   \n",
      "Loan_Status        0.000000  0.000000  0.048538    0.021801   0.064164   \n",
      "\n",
      "                   Self_Employed  ApplicantIncome  CoapplicantIncome  \\\n",
      "Loan_ID                 0.096714         0.013830           0.000000   \n",
      "Gender                  0.027299         0.029856           0.131643   \n",
      "Married                 0.000000         0.010643           0.158981   \n",
      "Dependents              0.000000         0.033938           0.026579   \n",
      "Education               0.000000         0.212465           0.136874   \n",
      "Self_Employed           1.000000         0.159114           0.063216   \n",
      "ApplicantIncome         0.159114         1.000000          -0.319570   \n",
      "CoapplicantIncome       0.063216        -0.319570           1.000000   \n",
      "LoanAmount              0.046692         0.510598           0.243878   \n",
      "Loan_Amount_Term        0.000000        -0.039467          -0.015253   \n",
      "Credit_History          0.071737         0.039084          -0.010718   \n",
      "Property_Area           0.000000         0.080111           0.072515   \n",
      "Loan_Status             0.027350         0.017834           0.000000   \n",
      "\n",
      "                   LoanAmount  Loan_Amount_Term  Credit_History  \\\n",
      "Loan_ID              0.147054          0.066598        0.000000   \n",
      "Gender               0.134478          0.000000        0.000000   \n",
      "Married              0.197589          0.134750        0.000000   \n",
      "Dependents           0.104952          0.119712        0.000000   \n",
      "Education            0.205798          0.088458        0.000000   \n",
      "Self_Employed        0.046692          0.000000        0.071737   \n",
      "ApplicantIncome      0.510598         -0.039467        0.039084   \n",
      "CoapplicantIncome    0.243878         -0.015253       -0.010718   \n",
      "LoanAmount           1.000000          0.041322       -0.003839   \n",
      "Loan_Amount_Term     0.041322          1.000000        0.014000   \n",
      "Credit_History      -0.003839          0.014000        1.000000   \n",
      "Property_Area        0.129505          0.032837        0.000000   \n",
      "Loan_Status          0.095979          0.063925        0.034612   \n",
      "\n",
      "                   Property_Area  Loan_Status  \n",
      "Loan_ID                 0.044831     0.000000  \n",
      "Gender                  0.101271     0.000000  \n",
      "Married                 0.000000     0.048538  \n",
      "Dependents              0.036578     0.021801  \n",
      "Education               0.026782     0.064164  \n",
      "Self_Employed           0.000000     0.027350  \n",
      "ApplicantIncome         0.080111     0.017834  \n",
      "CoapplicantIncome       0.072515     0.000000  \n",
      "LoanAmount              0.129505     0.095979  \n",
      "Loan_Amount_Term        0.032837     0.063925  \n",
      "Credit_History          0.000000     0.034612  \n",
      "Property_Area           1.000000     0.120067  \n",
      "Loan_Status             0.120067     1.000000  , 'characteristics': {'Loan_ID': [{'characteristic': <ColumnCharacteristic.ID: 'id'>, 'value': 1, 'upper_bound': 1, 'lower_bound': 1}]}, 'constraints': {}, 'imbalance': {'Loan_ID': -2.220446049250313e-16, 'Gender': 0.30621389672990273, 'Married': 0.06718051051592788, 'Dependents': 0.18551390978605653, 'Education': 0.2430573328275899, 'Self_Employed': 0.41342604319090237, 'Property_Area': 0.005300072717494886, 'Loan_Status': 0.10373033015570687}}\n"
     ]
    }
   ],
   "source": [
    "#print metadata summary\n",
    "print('\\n\\033[1mMetadata summary\\033[0m')\n",
    "print(metadata.summary)"
   ]
  },
  {
   "cell_type": "code",
   "execution_count": 6,
   "metadata": {},
   "outputs": [],
   "source": [
    "## Setting the target variable\n",
    "metadata.target='Loan_Status'"
   ]
  },
  {
   "cell_type": "code",
   "execution_count": 7,
   "metadata": {},
   "outputs": [
    {
     "name": "stdout",
     "output_type": "stream",
     "text": [
      "Loan_Status\n"
     ]
    }
   ],
   "source": [
    "print(metadata.target.name)"
   ]
  },
  {
   "cell_type": "markdown",
   "metadata": {},
   "source": [
    "### Updating columns datatypes\n",
    "The automated inferences might not be totally correct in all the cases. For that reason, we always recommend to update the datatypes accordingly to the user understanding of the data. \n",
    "\n",
    "The update can be done by column or for a group of columns."
   ]
  },
  {
   "cell_type": "markdown",
   "metadata": {},
   "source": [
    "The code snippet below shows how to change the datatypes."
   ]
  },
  {
   "cell_type": "code",
   "execution_count": 8,
   "metadata": {},
   "outputs": [
    {
     "name": "stdout",
     "output_type": "stream",
     "text": [
      "\n",
      "\u001b[1mChanging one column data type\u001b[0m\n",
      "'Dependents': CATEGORICAL\n"
     ]
    }
   ],
   "source": [
    "#Getting the all metadata summary\n",
    "print('\\n\\033[1mChanging one column data type\\033[0m')\n",
    "metadata.update_datatypes({'Dependents': 'categorical'})\n",
    "print(f\"'Dependents': {metadata.columns['Dependents'].datatype.name}\")"
   ]
  },
  {
   "cell_type": "markdown",
   "metadata": {},
   "source": [
    "### Filtering metadata by columns\n",
    "For some activities the full metadata might not be needed and only a portion of the calls shall be considered for a certain activity (eg. data synthesis). The Metadata object allows the users to select only the needed columns, as per the example below."
   ]
  },
  {
   "cell_type": "code",
   "execution_count": 9,
   "metadata": {},
   "outputs": [
    {
     "name": "stdout",
     "output_type": "stream",
     "text": [
      "\n",
      "\u001b[1mNew avaialble metadata\u001b[0m\n",
      "\u001b[1mMetadata Summary \n",
      " \n",
      "\u001b[0m\u001b[1mDataset type: \u001b[0mTABULAR\n",
      "\u001b[1mDataset attributes: \u001b[0m\n",
      "\u001b[1mNumber of columns: \u001b[0m3\n",
      "\u001b[1mDuplicate rows: \u001b[0m1\n",
      "\u001b[1mTarget column: \u001b[0m\n",
      "\n",
      "\u001b[1mColumn detail: \u001b[0m\n",
      "          Column    Data type Variable type Characteristics\n",
      "0        Married  categorical        string                \n",
      "1     Dependents  categorical        string                \n",
      "2  Property_Area  categorical        string                \n",
      "\n",
      "\u001b[1mWarnings: \u001b[0m\n",
      "     Warning                Columns\n",
      "0   missings  [Married, Dependents]\n",
      "1  imbalance           [Dependents]\n",
      "\n"
     ]
    }
   ],
   "source": [
    "filtered_metadata = metadata[['encounter_id', 'Married', 'acarbose', 'Dependents', 'Property_Area']]\n",
    "\n",
    "print('\\n\\033[1mNew avaialble metadata\\033[0m')\n",
    "print(filtered_metadata)"
   ]
  },
  {
   "cell_type": "markdown",
   "metadata": {},
   "source": [
    "## Metadata & Constrains \n",
    "The constrains engine allows the user to define a certain level of expectations and validations for a certain dataset. This engine is helpfull to identify potential inconsistencies and descrepencies between records and business rules or logic. \n",
    "They can also be leverage to keep expectations and validations while building an data engineering/preprocessing flow.\n",
    "\n",
    "Constraints can be built as complex as needed. Following this tutorial provides a few **Constraints** examples - from default (`Positive`, `GreaterThan`) to customer."
   ]
  },
  {
   "cell_type": "code",
   "execution_count": 10,
   "metadata": {},
   "outputs": [],
   "source": [
    "from ydata.constraints.engine import ConstraintEngine\n",
    "from ydata.constraints.rows import GreaterThan, Positive, CustomConstraint"
   ]
  },
  {
   "cell_type": "code",
   "execution_count": 11,
   "metadata": {},
   "outputs": [
    {
     "name": "stdout",
     "output_type": "stream",
     "text": [
      "sample size: 10538\n",
      "sample size: 10538\n"
     ]
    }
   ],
   "source": [
    "c1 = GreaterThan(columns=['CoapplicantIncome', 'LoanAmount'], value=0)\n",
    "c2 = Positive(columns=['CoapplicantIncome'])\n",
    "\n",
    "ce = ConstraintEngine()\n",
    "ce.add_constraints([c1, c2])\n",
    "ce.validate(data)"
   ]
  },
  {
   "cell_type": "code",
   "execution_count": 12,
   "metadata": {},
   "outputs": [
    {
     "data": {
      "text/plain": [
       "{'rows_violation_count': 283,\n",
       " 'rows_violation_ratio': 0.4609120521172638,\n",
       " 'violation_per_constraint': {\"GreaterThan(columns=['CoapplicantIncome', 'LoanAmount'], value=0)\": {'rows_violation_count': 283,\n",
       "   'rows_violation_ratio': 0.4609120521172638,\n",
       "   'validation_time': 0.03},\n",
       "  \"Positive(columns=['CoapplicantIncome'])\": {'rows_violation_count': 273,\n",
       "   'rows_violation_ratio': 0.44462540716612375,\n",
       "   'validation_time': 0.02}}}"
      ]
     },
     "execution_count": 12,
     "metadata": {},
     "output_type": "execute_result"
    }
   ],
   "source": [
    "ce.summary()"
   ]
  },
  {
   "cell_type": "markdown",
   "metadata": {},
   "source": [
    "### Constrains integration with Metadata\n",
    "Constraints Engine can be easily integrated with your Metadata object and downstream application such as YData synthesizers. The below example show case how to add a constraint engine and leverage it to profile the data."
   ]
  },
  {
   "cell_type": "code",
   "execution_count": 13,
   "metadata": {},
   "outputs": [
    {
     "name": "stdout",
     "output_type": "stream",
     "text": [
      "[########################################] | 100% Completed | 101.47 ms\n",
      "[########################################] | 100% Completed | 102.54 ms\n",
      "[########################################] | 100% Completed | 104.66 ms\n",
      "[########################################] | 100% Completed | 102.43 ms\n",
      "[########################################] | 100% Completed | 535.00 ms\n",
      "sample size: 10538\n",
      "[########################################] | 100% Completed | 102.20 ms\n",
      "sample size: 10538\n",
      "[########################################] | 100% Completed | 102.26 ms\n"
     ]
    }
   ],
   "source": [
    "const_metadata = Metadata(data, constraints=[c1, c2])"
   ]
  },
  {
   "cell_type": "code",
   "execution_count": 14,
   "metadata": {
    "tags": []
   },
   "outputs": [
    {
     "data": {
      "text/plain": [
       "{'rows_violation_count': 283,\n",
       " 'rows_violation_ratio': 0.4609120521172638,\n",
       " 'violation_per_constraint': {\"GreaterThan(columns=['CoapplicantIncome', 'LoanAmount'], value=0)\": {'rows_violation_count': 283,\n",
       "   'rows_violation_ratio': 0.4609120521172638,\n",
       "   'validation_time': 0.14},\n",
       "  \"Positive(columns=['CoapplicantIncome'])\": {'rows_violation_count': 273,\n",
       "   'rows_violation_ratio': 0.44462540716612375,\n",
       "   'validation_time': 0.14}}}"
      ]
     },
     "execution_count": 14,
     "metadata": {},
     "output_type": "execute_result"
    }
   ],
   "source": [
    "const_metadata.summary['constraints']"
   ]
  }
 ],
 "metadata": {
  "kernelspec": {
   "display_name": "Python 3 (ipykernel)",
   "language": "python",
   "name": "python3"
  },
  "language_info": {
   "codemirror_mode": {
    "name": "ipython",
    "version": 3
   },
   "file_extension": ".py",
   "mimetype": "text/x-python",
   "name": "python",
   "nbconvert_exporter": "python",
   "pygments_lexer": "ipython3",
   "version": "3.10.12"
  }
 },
 "nbformat": 4,
 "nbformat_minor": 4
}
