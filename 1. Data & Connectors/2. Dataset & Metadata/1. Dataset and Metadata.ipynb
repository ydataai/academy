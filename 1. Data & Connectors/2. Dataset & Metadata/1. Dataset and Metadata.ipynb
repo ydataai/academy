{
 "cells": [
  {
   "cell_type": "markdown",
   "metadata": {
    "collapsed": true,
    "jupyter": {
     "outputs_hidden": true
    }
   },
   "source": [
    "# The Dataset and Metadata"
   ]
  },
  {
   "cell_type": "markdown",
   "metadata": {
    "collapsed": false,
    "jupyter": {
     "outputs_hidden": false
    },
    "pycharm": {
     "name": "#%%\n"
    }
   },
   "source": [
    "Both the **Dataset** and **Metadata** objects are the pilar to leverage [ydata-sdk](https://pypi.org/project/ydata-sdk/) features.\n",
    "- The **Dataset** object is an abstraction of different Python engines for handling data:    \n",
    "    - Dask: If you're looking for scalability and still prefer to keep it.\n",
    "    - Pandas: If you want to keep it as pythonic as possible.\n",
    "    - Numpy: If arrays are your thing.\n",
    "- The **Metadata** is the object that helps you extracting the main insights from your dataset and assess its quality:\n",
    "    - The columns metadata: Both Variable and Data type (numerical, categorical, etc.)\n",
    "    - The data warnings: Checks for the presence of duplicates, variables with skewness, etc.\n",
    "    \n",
    "The **Metadata** object only works with a **Dataset** as an input. In this Notebook, we will be showing you features and capabilities of these objects and how to combine them with other pieces from YData's package offer."
   ]
  },
  {
   "metadata": {},
   "cell_type": "markdown",
   "source": "### Authenticate with your YData account"
  },
  {
   "metadata": {
    "ExecuteTime": {
     "end_time": "2025-05-07T22:55:40.474469Z",
     "start_time": "2025-05-07T22:55:40.472184Z"
    }
   },
   "cell_type": "code",
   "source": [
    "# Authenticate with your ydata-sdk token - https://dashboard.ydata.ai/\n",
    "import os\n",
    "\n",
    "os.environ['YDATA_LICENSE_KEY'] = '{add-your-key}'"
   ],
   "outputs": [],
   "execution_count": 1
  },
  {
   "metadata": {},
   "cell_type": "markdown",
   "source": [
    "## 📥 Creating a Dataset from a DataFrame\n",
    "\n",
    "You can create a `Dataset` from a pandas, Dask, or NumPy object. Here’s a basic example with pandas:"
   ]
  },
  {
   "metadata": {
    "ExecuteTime": {
     "end_time": "2025-05-07T22:55:43.000174Z",
     "start_time": "2025-05-07T22:55:42.117064Z"
    }
   },
   "cell_type": "code",
   "source": [
    "import pandas as pd\n",
    "from ydata.dataset import Dataset\n",
    "\n",
    "# Create a simple DataFrame\n",
    "df = pd.DataFrame({\n",
    "    \"age\": [25, 32, 40],\n",
    "    \"income\": [50000, 60000, 75000],\n",
    "    \"gender\": [\"M\", \"F\", \"M\"]\n",
    "})\n",
    "\n",
    "# Wrap it into a ydata-sdk Dataset\n",
    "dataset = Dataset(df)\n",
    "dataset.head()"
   ],
   "outputs": [
    {
     "data": {
      "text/plain": [
       "   age  income gender\n",
       "0   25   50000      M\n",
       "1   32   60000      F\n",
       "2   40   75000      M"
      ],
      "text/html": [
       "<div>\n",
       "<style scoped>\n",
       "    .dataframe tbody tr th:only-of-type {\n",
       "        vertical-align: middle;\n",
       "    }\n",
       "\n",
       "    .dataframe tbody tr th {\n",
       "        vertical-align: top;\n",
       "    }\n",
       "\n",
       "    .dataframe thead th {\n",
       "        text-align: right;\n",
       "    }\n",
       "</style>\n",
       "<table border=\"1\" class=\"dataframe\">\n",
       "  <thead>\n",
       "    <tr style=\"text-align: right;\">\n",
       "      <th></th>\n",
       "      <th>age</th>\n",
       "      <th>income</th>\n",
       "      <th>gender</th>\n",
       "    </tr>\n",
       "  </thead>\n",
       "  <tbody>\n",
       "    <tr>\n",
       "      <th>0</th>\n",
       "      <td>25</td>\n",
       "      <td>50000</td>\n",
       "      <td>M</td>\n",
       "    </tr>\n",
       "    <tr>\n",
       "      <th>1</th>\n",
       "      <td>32</td>\n",
       "      <td>60000</td>\n",
       "      <td>F</td>\n",
       "    </tr>\n",
       "    <tr>\n",
       "      <th>2</th>\n",
       "      <td>40</td>\n",
       "      <td>75000</td>\n",
       "      <td>M</td>\n",
       "    </tr>\n",
       "  </tbody>\n",
       "</table>\n",
       "</div>"
      ]
     },
     "execution_count": 2,
     "metadata": {},
     "output_type": "execute_result"
    }
   ],
   "execution_count": 2
  },
  {
   "metadata": {},
   "cell_type": "markdown",
   "source": [
    "### 🔍 Exploring the Dataset\n",
    "\n",
    "Once you've created a `Dataset`, you can inspect its structure, content as well as filter and select columns. For more information regarding `Dataset` object interface please check [ydata-sdk's documentation](https://docs.sdk.ydata.ai/latest/api/datasets/dataset/)."
   ]
  },
  {
   "metadata": {
    "ExecuteTime": {
     "end_time": "2025-05-07T22:55:46.872245Z",
     "start_time": "2025-05-07T22:55:46.861509Z"
    }
   },
   "cell_type": "code",
   "source": [
    "# Number of rows\n",
    "print(\"Number of rows:\", dataset.nrows)\n",
    "\n",
    "# Shape of the dataset\n",
    "print(\"Shape:\", dataset.shape())\n",
    "\n",
    "# Schema: Column types and variable types\n",
    "print(\"Schema:\")\n",
    "print(dataset.schema)\n",
    "\n",
    "# First rows\n",
    "dataset.head()"
   ],
   "outputs": [
    {
     "name": "stdout",
     "output_type": "stream",
     "text": [
      "Number of rows: 3\n",
      "Shape: (3, 3)\n",
      "Schema:\n",
      "{'age': <VariableType.INT: 'int'>, 'income': <VariableType.INT: 'int'>, 'gender': <VariableType.STR: 'string'>}\n"
     ]
    },
    {
     "data": {
      "text/plain": [
       "   age  income gender\n",
       "0   25   50000      M\n",
       "1   32   60000      F\n",
       "2   40   75000      M"
      ],
      "text/html": [
       "<div>\n",
       "<style scoped>\n",
       "    .dataframe tbody tr th:only-of-type {\n",
       "        vertical-align: middle;\n",
       "    }\n",
       "\n",
       "    .dataframe tbody tr th {\n",
       "        vertical-align: top;\n",
       "    }\n",
       "\n",
       "    .dataframe thead th {\n",
       "        text-align: right;\n",
       "    }\n",
       "</style>\n",
       "<table border=\"1\" class=\"dataframe\">\n",
       "  <thead>\n",
       "    <tr style=\"text-align: right;\">\n",
       "      <th></th>\n",
       "      <th>age</th>\n",
       "      <th>income</th>\n",
       "      <th>gender</th>\n",
       "    </tr>\n",
       "  </thead>\n",
       "  <tbody>\n",
       "    <tr>\n",
       "      <th>0</th>\n",
       "      <td>25</td>\n",
       "      <td>50000</td>\n",
       "      <td>M</td>\n",
       "    </tr>\n",
       "    <tr>\n",
       "      <th>1</th>\n",
       "      <td>32</td>\n",
       "      <td>60000</td>\n",
       "      <td>F</td>\n",
       "    </tr>\n",
       "    <tr>\n",
       "      <th>2</th>\n",
       "      <td>40</td>\n",
       "      <td>75000</td>\n",
       "      <td>M</td>\n",
       "    </tr>\n",
       "  </tbody>\n",
       "</table>\n",
       "</div>"
      ]
     },
     "execution_count": 3,
     "metadata": {},
     "output_type": "execute_result"
    }
   ],
   "execution_count": 3
  },
  {
   "cell_type": "markdown",
   "metadata": {},
   "source": [
    "## ✳️ Creating Metadata from a Dataset\n",
    "\n",
    "The `Metadata` object gives you valuable insights about the dataset structure and data quality. It is also possible to interact and select the information that is hold by the `Metadata`object. For more information please check the [ydata-sdk's API reference documentation](https://docs.sdk.ydata.ai/latest/api/metadatas/metadata/).\n"
   ]
  },
  {
   "cell_type": "code",
   "metadata": {
    "ExecuteTime": {
     "end_time": "2025-05-07T22:56:23.570526Z",
     "start_time": "2025-05-07T22:55:50.087185Z"
    }
   },
   "source": [
    "from ydata.metadata import Metadata\n",
    "#Calculate the Dataset Metadata\n",
    "metadata = Metadata(dataset=dataset)\n",
    "\n",
    "#Getting the all metadata summary\n",
    "metadata"
   ],
   "outputs": [
    {
     "name": "stdout",
     "output_type": "stream",
     "text": [
      "[########################################] | 100% Completed | 104.88 ms\n",
      "[########################################] | 100% Completed | 104.36 ms\n"
     ]
    },
    {
     "data": {
      "text/plain": [
       "<ydata.metadata.metadata.Metadata at 0x12228ffb0>"
      ]
     },
     "execution_count": 4,
     "metadata": {},
     "output_type": "execute_result"
    }
   ],
   "execution_count": 4
  },
  {
   "cell_type": "code",
   "metadata": {
    "ExecuteTime": {
     "end_time": "2025-05-07T22:56:23.575690Z",
     "start_time": "2025-05-07T22:56:23.573929Z"
    }
   },
   "source": [
    "## Setting the target variable\n",
    "metadata.target='income'"
   ],
   "outputs": [],
   "execution_count": 5
  },
  {
   "cell_type": "markdown",
   "metadata": {},
   "source": [
    "### Updating columns datatypes\n",
    "The automated inferences might not be totally correct in all the cases. For that reason, we always recommend to update the datatypes accordingly to the user understanding of the data. \n",
    "\n",
    "The update can be done by column or for a group of columns."
   ]
  },
  {
   "cell_type": "code",
   "metadata": {
    "ExecuteTime": {
     "end_time": "2025-05-07T22:56:23.641536Z",
     "start_time": "2025-05-07T22:56:23.638424Z"
    }
   },
   "source": [
    "print(metadata)"
   ],
   "outputs": [
    {
     "name": "stdout",
     "output_type": "stream",
     "text": [
      "\u001B[1mMetadata Summary \n",
      " \n",
      "\u001B[0m\u001B[1mDataset type: \u001B[0mTABULAR\n",
      "\u001B[1mDataset attributes: \u001B[0m\n",
      "\u001B[1mNumber of columns: \u001B[0m3\n",
      "\u001B[1mNumber of rows: \u001B[0m3\n",
      "\u001B[1mDuplicate rows: \u001B[0m0\n",
      "\u001B[1mTarget column: \u001B[0m\n",
      "\n",
      "\u001B[1mColumn detail: \u001B[0m\n",
      "   Column    Data type Variable type Characteristics\n",
      "0     age  categorical           int                \n",
      "1  income  categorical           int                \n",
      "2  gender  categorical        string                \n",
      "\n",
      "\u001B[1mWarnings: \u001B[0m\n",
      "           Warning                                  Columns\n",
      "0           unique                            [age, income]\n",
      "1  constant_length                                 [gender]\n",
      "2      correlation  [age|income, age|gender, income|gender]\n",
      "\n"
     ]
    }
   ],
   "execution_count": 6
  },
  {
   "cell_type": "markdown",
   "metadata": {},
   "source": [
    "In this particular example, the 'encounter_id' column has been mistakenly identified as a numerical column, instead of a categorical one. The code snippet below shows how to change the datatypes:"
   ]
  },
  {
   "cell_type": "code",
   "metadata": {
    "ExecuteTime": {
     "end_time": "2025-05-07T22:56:23.746173Z",
     "start_time": "2025-05-07T22:56:23.742086Z"
    }
   },
   "source": [
    "#Getting the all metadata summary\n",
    "print('\\n\\033[1mChanging the gender column data type\\033[0m')\n",
    "metadata.update_datatypes({'gender': 'categorical'})\n",
    "\n",
    "print(f\"'encounter_id': {metadata.columns['gender'].datatype.name}\")"
   ],
   "outputs": [
    {
     "name": "stdout",
     "output_type": "stream",
     "text": [
      "\n",
      "\u001B[1mChanging the gender column data type\u001B[0m\n",
      "'encounter_id': CATEGORICAL\n"
     ]
    }
   ],
   "execution_count": 7
  },
  {
   "cell_type": "markdown",
   "metadata": {},
   "source": [
    "### Filtering metadata by columns\n",
    "For some activities the full metadata might not be needed and only a portion of the calls shall be considered for a certain activity (eg. data synthesis). The Metadata object allows the users to select only the needed columns, as per the example below."
   ]
  },
  {
   "cell_type": "code",
   "metadata": {
    "ExecuteTime": {
     "end_time": "2025-05-07T22:56:42.844317Z",
     "start_time": "2025-05-07T22:56:42.840141Z"
    }
   },
   "source": [
    "filtered_metadata = metadata['gender', 'income']\n",
    "\n",
    "print('\\n\\033[1mNew available metadata\\033[0m')\n",
    "print(filtered_metadata)"
   ],
   "outputs": [
    {
     "name": "stdout",
     "output_type": "stream",
     "text": [
      "\n",
      "\u001B[1mNew available metadata\u001B[0m\n",
      "\u001B[1mMetadata Summary \n",
      " \n",
      "\u001B[0m\u001B[1mDataset type: \u001B[0mTABULAR\n",
      "\u001B[1mDataset attributes: \u001B[0m\n",
      "\u001B[1mNumber of columns: \u001B[0m2\n",
      "\u001B[1mNumber of rows: \u001B[0m3\n",
      "\u001B[1mDuplicate rows: \u001B[0m0\n",
      "\u001B[1mTarget column: \u001B[0m\n",
      "\n",
      "\u001B[1mColumn detail: \u001B[0m\n",
      "   Column    Data type Variable type Characteristics\n",
      "0  income  categorical           int                \n",
      "1  gender  categorical        string                \n",
      "\n",
      "\u001B[1mWarnings: \u001B[0m\n",
      "           Warning   Columns\n",
      "0           unique  [income]\n",
      "1  constant_length  [gender]\n",
      "\n"
     ]
    }
   ],
   "execution_count": 8
  }
 ],
 "metadata": {
  "kernelspec": {
   "display_name": "Python 3 (ipykernel)",
   "language": "python",
   "name": "python3"
  },
  "language_info": {
   "codemirror_mode": {
    "name": "ipython",
    "version": 3
   },
   "file_extension": ".py",
   "mimetype": "text/x-python",
   "name": "python",
   "nbconvert_exporter": "python",
   "pygments_lexer": "ipython3",
   "version": "3.10.12"
  }
 },
 "nbformat": 4,
 "nbformat_minor": 4
}
