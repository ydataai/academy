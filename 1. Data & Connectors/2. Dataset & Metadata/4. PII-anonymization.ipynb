{
 "cells": [
  {
   "cell_type": "markdown",
   "id": "556e1a8e-ea01-4456-bbfe-74558a0c41af",
   "metadata": {},
   "source": [
    "# Identifying and anonymizing Personally Identifiable Information (PII) with ydata-sdk\n",
    "\n",
    "Many datasets contain Personal Information (PI) and therefore cannot easily be shared. It is not enough to simply synthesize a dataset to remove the personal information. Indeed, although the synthetic dataset does not contain any records from the original data, it may still include values that represent personally identifiable information (PII). For instance, in some context, the simple fact to have the name of a city might leak information about the entire dataset.\n",
    "\n",
    "To solve this problem, YData offers the possibility to anonymize any field such that the synthetic data do not contain any PI. The anonymizer mechanism provides several pre-configured anonymizer that corresponds to the most common scenarios (city, address, names, IP address) and also allows to specify a regular expression to match any format that you might have (e.g. an internal customer ID format).\n",
    "\n",
    "By the end of this notebook, you will learn how to:\n",
    "- Detect columns that contain PII\n",
    "- Apply built-in anonymization strategies (e.g., names, locations, IDs)\n",
    "- Generate a sanitized version of your dataset using `ydata-sdk`\n",
    "\n",
    "The dataset used in this notebook can be found at https://www.kaggle.com/datasets/yeanzc/telco-customer-churn-ibm-dataset"
   ]
  },
  {
   "metadata": {},
   "cell_type": "markdown",
   "source": "## Authenticate with your YData account",
   "id": "e14c0ac8123a2b47"
  },
  {
   "metadata": {
    "ExecuteTime": {
     "end_time": "2025-05-07T23:15:47.492265Z",
     "start_time": "2025-05-07T23:15:47.490022Z"
    }
   },
   "cell_type": "code",
   "source": [
    "# Authenticate with your ydata-sdk token - https://dashboard.ydata.ai/\n",
    "import os\n",
    "\n",
    "os.environ['YDATA_LICENSE_KEY'] = '{add-your-key}'"
   ],
   "id": "bf9e545501231390",
   "outputs": [],
   "execution_count": 1
  },
  {
   "cell_type": "markdown",
   "id": "49cd329f-8487-4627-ad49-1d6590299a30",
   "metadata": {},
   "source": "## Indentifying PII with ydata-sdk"
  },
  {
   "cell_type": "markdown",
   "id": "7a319eb2-ad6a-41d3-be93-c9e09c64c931",
   "metadata": {},
   "source": [
    "In this section, we simply load the dataset and display few rows to observe that there are personal information that should be anonymized."
   ]
  },
  {
   "metadata": {
    "ExecuteTime": {
     "end_time": "2025-05-07T23:16:00.788356Z",
     "start_time": "2025-05-07T23:16:00.028354Z"
    }
   },
   "cell_type": "code",
   "source": [
    "import pandas as pd\n",
    "\n",
    "from ydata.dataset import Dataset\n",
    "\n",
    "# Step 1: Load or create your Dataset\n",
    "df = pd.read_csv('insert-file-path')\n",
    "dataset = Dataset(df)"
   ],
   "id": "e777d0ae39351264",
   "outputs": [],
   "execution_count": 2
  },
  {
   "cell_type": "code",
   "id": "65b389fa-27dc-4deb-8a46-c5feb8a21f57",
   "metadata": {
    "ExecuteTime": {
     "end_time": "2025-05-07T23:16:00.801468Z",
     "start_time": "2025-05-07T23:16:00.794860Z"
    }
   },
   "source": [
    "df.head()"
   ],
   "outputs": [
    {
     "data": {
      "text/plain": [
       "    Loan_ID Gender Married Dependents     Education Self_Employed  \\\n",
       "0  LP001015   Male     Yes          0      Graduate            No   \n",
       "1  LP001022   Male     Yes          1      Graduate            No   \n",
       "2  LP001031   Male     Yes          2      Graduate            No   \n",
       "3  LP001035   Male     Yes          2      Graduate            No   \n",
       "4  LP001051   Male      No          0  Not Graduate            No   \n",
       "\n",
       "   ApplicantIncome  CoapplicantIncome  LoanAmount  Loan_Amount_Term  \\\n",
       "0             5720                  0       110.0             360.0   \n",
       "1             3076               1500       126.0             360.0   \n",
       "2             5000               1800       208.0             360.0   \n",
       "3             2340               2546       100.0             360.0   \n",
       "4             3276                  0        78.0             360.0   \n",
       "\n",
       "   Credit_History Property_Area  \n",
       "0             1.0         Urban  \n",
       "1             1.0         Urban  \n",
       "2             1.0         Urban  \n",
       "3             NaN         Urban  \n",
       "4             1.0         Urban  "
      ],
      "text/html": [
       "<div>\n",
       "<style scoped>\n",
       "    .dataframe tbody tr th:only-of-type {\n",
       "        vertical-align: middle;\n",
       "    }\n",
       "\n",
       "    .dataframe tbody tr th {\n",
       "        vertical-align: top;\n",
       "    }\n",
       "\n",
       "    .dataframe thead th {\n",
       "        text-align: right;\n",
       "    }\n",
       "</style>\n",
       "<table border=\"1\" class=\"dataframe\">\n",
       "  <thead>\n",
       "    <tr style=\"text-align: right;\">\n",
       "      <th></th>\n",
       "      <th>Loan_ID</th>\n",
       "      <th>Gender</th>\n",
       "      <th>Married</th>\n",
       "      <th>Dependents</th>\n",
       "      <th>Education</th>\n",
       "      <th>Self_Employed</th>\n",
       "      <th>ApplicantIncome</th>\n",
       "      <th>CoapplicantIncome</th>\n",
       "      <th>LoanAmount</th>\n",
       "      <th>Loan_Amount_Term</th>\n",
       "      <th>Credit_History</th>\n",
       "      <th>Property_Area</th>\n",
       "    </tr>\n",
       "  </thead>\n",
       "  <tbody>\n",
       "    <tr>\n",
       "      <th>0</th>\n",
       "      <td>LP001015</td>\n",
       "      <td>Male</td>\n",
       "      <td>Yes</td>\n",
       "      <td>0</td>\n",
       "      <td>Graduate</td>\n",
       "      <td>No</td>\n",
       "      <td>5720</td>\n",
       "      <td>0</td>\n",
       "      <td>110.0</td>\n",
       "      <td>360.0</td>\n",
       "      <td>1.0</td>\n",
       "      <td>Urban</td>\n",
       "    </tr>\n",
       "    <tr>\n",
       "      <th>1</th>\n",
       "      <td>LP001022</td>\n",
       "      <td>Male</td>\n",
       "      <td>Yes</td>\n",
       "      <td>1</td>\n",
       "      <td>Graduate</td>\n",
       "      <td>No</td>\n",
       "      <td>3076</td>\n",
       "      <td>1500</td>\n",
       "      <td>126.0</td>\n",
       "      <td>360.0</td>\n",
       "      <td>1.0</td>\n",
       "      <td>Urban</td>\n",
       "    </tr>\n",
       "    <tr>\n",
       "      <th>2</th>\n",
       "      <td>LP001031</td>\n",
       "      <td>Male</td>\n",
       "      <td>Yes</td>\n",
       "      <td>2</td>\n",
       "      <td>Graduate</td>\n",
       "      <td>No</td>\n",
       "      <td>5000</td>\n",
       "      <td>1800</td>\n",
       "      <td>208.0</td>\n",
       "      <td>360.0</td>\n",
       "      <td>1.0</td>\n",
       "      <td>Urban</td>\n",
       "    </tr>\n",
       "    <tr>\n",
       "      <th>3</th>\n",
       "      <td>LP001035</td>\n",
       "      <td>Male</td>\n",
       "      <td>Yes</td>\n",
       "      <td>2</td>\n",
       "      <td>Graduate</td>\n",
       "      <td>No</td>\n",
       "      <td>2340</td>\n",
       "      <td>2546</td>\n",
       "      <td>100.0</td>\n",
       "      <td>360.0</td>\n",
       "      <td>NaN</td>\n",
       "      <td>Urban</td>\n",
       "    </tr>\n",
       "    <tr>\n",
       "      <th>4</th>\n",
       "      <td>LP001051</td>\n",
       "      <td>Male</td>\n",
       "      <td>No</td>\n",
       "      <td>0</td>\n",
       "      <td>Not Graduate</td>\n",
       "      <td>No</td>\n",
       "      <td>3276</td>\n",
       "      <td>0</td>\n",
       "      <td>78.0</td>\n",
       "      <td>360.0</td>\n",
       "      <td>1.0</td>\n",
       "      <td>Urban</td>\n",
       "    </tr>\n",
       "  </tbody>\n",
       "</table>\n",
       "</div>"
      ]
     },
     "execution_count": 3,
     "metadata": {},
     "output_type": "execute_result"
    }
   ],
   "execution_count": 3
  },
  {
   "metadata": {
    "ExecuteTime": {
     "end_time": "2025-05-07T23:37:22.138551Z",
     "start_time": "2025-05-07T23:34:48.150357Z"
    }
   },
   "cell_type": "code",
   "source": [
    "from ydata.metadata import Metadata\n",
    "\n",
    "# Step 2: Calculate the metadata\n",
    "# When infer_characteristics is set to True, ydata-sdk will automatically infer data characteristics such as potential PII (e.g., email, name, etc.). By default, this option is set to False.\n",
    "metadata = Metadata(dataset, infer_characteristics = True)\n",
    "metadata"
   ],
   "id": "e028b4f12d4aed8d",
   "outputs": [
    {
     "name": "stdout",
     "output_type": "stream",
     "text": [
      "[########################################] | 100% Completed | 105.24 ms\n",
      "[########################################] | 100% Completed | 105.03 ms\n",
      "[########################################] | 100% Completed | 103.13 ms\n"
     ]
    },
    {
     "data": {
      "text/plain": [
       "<ydata.metadata.metadata.Metadata at 0x118c5fd10>"
      ]
     },
     "execution_count": 6,
     "metadata": {},
     "output_type": "execute_result"
    }
   ],
   "execution_count": 6
  },
  {
   "metadata": {
    "ExecuteTime": {
     "end_time": "2025-05-07T23:37:22.145139Z",
     "start_time": "2025-05-07T23:37:22.142332Z"
    }
   },
   "cell_type": "code",
   "source": "metadata.summary['characteristics']",
   "id": "71044ee9c3f27da7",
   "outputs": [
    {
     "data": {
      "text/plain": [
       "{'Loan_ID': [{'characteristic': <ColumnCharacteristic.ID: 'id'>,\n",
       "   'value': 1,\n",
       "   'upper_bound': 1,\n",
       "   'lower_bound': 1}]}"
      ]
     },
     "execution_count": 7,
     "metadata": {},
     "output_type": "execute_result"
    }
   ],
   "execution_count": 7
  },
  {
   "metadata": {},
   "cell_type": "markdown",
   "source": [
    "You can also define characteristics manually using the `characteristics` parameter.\n",
    "\n",
    "This parameter expects a dictionary that explicitly maps column names to known PII types. This is useful when you already know which columns contain sensitive information. The format should be:\n",
    "\n",
    "{ \"column_name\": \"pii_type\" }\n",
    "\n",
    "For example:\n",
    "{ \"email\": \"email\", \"customer_id\": \"id\" }"
   ],
   "id": "f1b2dd4975d7d468"
  },
  {
   "cell_type": "markdown",
   "id": "27294780-4094-4cf9-af4a-31cc7e6224e8",
   "metadata": {},
   "source": [
    "## Anonymizing PII with ydata-sdk\n",
    "\n",
    "Now that we were able to identify potential PII columns, it is also possible to create the logic to anonymize the columns Now that we've identified potential PII columns, we can define the logic to anonymize them using the Fabric Anonymizer.\n",
    "\n",
    "In this example, we'll demonstrate how to anonymize two specific columns: customerID and City.\n",
    "\n",
    "**Note:** This example focuses on demonstrating the anonymization workflow — not on fully securing the dataset. Other columns such as Lat Long, Latitude, Longitude, Zip Code, State, and Country may also contain sensitive information and should be reviewed carefully in a real-world scenario.\n",
    "\n",
    "To view the list of available built-in anonymization methods, use the following command:"
   ]
  },
  {
   "cell_type": "code",
   "id": "248ce8b2-db15-4581-837c-3b1f3fb5b8dd",
   "metadata": {
    "ExecuteTime": {
     "end_time": "2025-05-07T23:37:22.202786Z",
     "start_time": "2025-05-07T23:37:22.152533Z"
    }
   },
   "source": [
    "from ydata.preprocessors.methods.anonymization import AnonymizerType\n",
    "\n",
    "## Available anonymizer types list\n",
    "dict(AnonymizerType.__members__)"
   ],
   "outputs": [
    {
     "data": {
      "text/plain": [
       "{'REGEX': <AnonymizerType.REGEX: 1>,\n",
       " 'IP': <AnonymizerType.IP: 2>,\n",
       " 'IPV4': <AnonymizerType.IPV4: 3>,\n",
       " 'IPV6': <AnonymizerType.IPV6: 4>,\n",
       " 'HOSTNAME': <AnonymizerType.HOSTNAME: 5>,\n",
       " 'LICENSE_PLATE': <AnonymizerType.LICENSE_PLATE: 6>,\n",
       " 'ABA': <AnonymizerType.ABA: 7>,\n",
       " 'BANK_COUNTRY': <AnonymizerType.BANK_COUNTRY: 8>,\n",
       " 'BBAN': <AnonymizerType.BBAN: 9>,\n",
       " 'IBAN': <AnonymizerType.IBAN: 10>,\n",
       " 'SWIFT': <AnonymizerType.SWIFT: 11>,\n",
       " 'BARCODE': <AnonymizerType.BARCODE: 12>,\n",
       " 'COMPANY': <AnonymizerType.COMPANY: 13>,\n",
       " 'COMPANY_SUFFIX': <AnonymizerType.COMPANY_SUFFIX: 14>,\n",
       " 'COMPANY_EMAIL': <AnonymizerType.COMPANY_EMAIL: 15>,\n",
       " 'EMAIL': <AnonymizerType.EMAIL: 16>,\n",
       " 'DOMAIN_NAME': <AnonymizerType.DOMAIN_NAME: 17>,\n",
       " 'MAC_ADDRESS': <AnonymizerType.MAC_ADDRESS: 18>,\n",
       " 'PORT_NUMBER': <AnonymizerType.PORT_NUMBER: 19>,\n",
       " 'URI': <AnonymizerType.URI: 20>,\n",
       " 'USER_NAME': <AnonymizerType.USER_NAME: 21>,\n",
       " 'JOB': <AnonymizerType.JOB: 22>,\n",
       " 'FIRST_NAME': <AnonymizerType.FIRST_NAME: 23>,\n",
       " 'FIRST_NAME_FEMALE': <AnonymizerType.FIRST_NAME_FEMALE: 24>,\n",
       " 'FIRST_NAME_MALE': <AnonymizerType.FIRST_NAME_MALE: 25>,\n",
       " 'LAST_NAME': <AnonymizerType.LAST_NAME: 26>,\n",
       " 'NAME': <AnonymizerType.NAME: 27>,\n",
       " 'NAME_FEMALE': <AnonymizerType.NAME_FEMALE: 28>,\n",
       " 'NAME_MALE': <AnonymizerType.NAME_MALE: 29>,\n",
       " 'SSN': <AnonymizerType.SSN: 30>,\n",
       " 'CITY': <AnonymizerType.CITY: 31>,\n",
       " 'COUNTRY': <AnonymizerType.COUNTRY: 32>,\n",
       " 'COUNTRY_CODE': <AnonymizerType.COUNTRY_CODE: 33>,\n",
       " 'STREET_ADDRESS': <AnonymizerType.STREET_ADDRESS: 34>,\n",
       " 'STREET_NAME': <AnonymizerType.STREET_NAME: 35>,\n",
       " 'FULL_ADDRESS': <AnonymizerType.FULL_ADDRESS: 36>,\n",
       " 'URL': <AnonymizerType.URL: 37>,\n",
       " 'CREDIT_CARD_NUMBER': <AnonymizerType.CREDIT_CARD_NUMBER: 38>,\n",
       " 'CREDIT_CARD_PROVIDER': <AnonymizerType.CREDIT_CARD_PROVIDER: 39>,\n",
       " 'CREDIT_CARD_EXPIRE': <AnonymizerType.CREDIT_CARD_EXPIRE: 40>,\n",
       " 'VAT': <AnonymizerType.VAT: 41>,\n",
       " 'POSTCODE': <AnonymizerType.POSTCODE: 42>,\n",
       " 'PHONE': <AnonymizerType.PHONE: 43>,\n",
       " 'INT': <AnonymizerType.INT: 44>,\n",
       " 'UUID': <AnonymizerType.UUID: 45>}"
      ]
     },
     "execution_count": 8,
     "metadata": {},
     "output_type": "execute_result"
    }
   ],
   "execution_count": 8
  },
  {
   "cell_type": "markdown",
   "id": "b4021bc6-3da1-4566-b987-34874cd90630",
   "metadata": {},
   "source": [
    "For `CustomerID` anonymization we will use a REGEX as the value are specific to this dataset.    \n",
    "On the other hand, `City` can leverage the `AnonymizerType.CITY` to generate fake city names.\n",
    "\n",
    "The configuration is to be passed to the Synthesizer model and looks like the following mapping:"
   ]
  },
  {
   "cell_type": "code",
   "id": "4c2c907b-8cc8-4c7b-ad9c-21b570a8a5b3",
   "metadata": {
    "ExecuteTime": {
     "end_time": "2025-05-07T23:37:22.210939Z",
     "start_time": "2025-05-07T23:37:22.209610Z"
    }
   },
   "source": [
    "# Step 1: Configure the Anonymizer – Define which masking or replacement strategy should be applied to each PII column based on its type and sensitivity.\n",
    "anonymizer_config = {\n",
    "    'Loan_ID': {'type': 'regex', 'regex': r'[0-9]{4}-[A-Z]{5}'},  # Regex as a string is deduced automatically as AnonymizerType.REGEX\n",
    "    #'City': AnonymizerType.CITY  # Direct usage of AnonymizerType\n",
    "}"
   ],
   "outputs": [],
   "execution_count": 9
  },
  {
   "metadata": {
    "ExecuteTime": {
     "end_time": "2025-05-07T23:37:33.714673Z",
     "start_time": "2025-05-07T23:37:22.217305Z"
    }
   },
   "cell_type": "code",
   "source": [
    "from ydata.preprocessors.preprocess_methods import AnonymizerEngine\n",
    "\n",
    "# Step 2: Create your Anonymizer Engine\n",
    "anonymizer = AnonymizerEngine()\n",
    "dataset_anonymized = anonymizer.fit_transform(X=dataset, \n",
    "                                      config=anonymizer_config, \n",
    "                                      metadata=metadata)\n",
    "\n",
    "dataset_anonymized.head()"
   ],
   "id": "d2aec8e107973c55",
   "outputs": [
    {
     "data": {
      "text/plain": [
       "      Loan_ID Gender Married Dependents     Education Self_Employed  \\\n",
       "0  1080-EPXMZ   Male     Yes          0      Graduate            No   \n",
       "1  2038-EMCSV   Male     Yes          1      Graduate            No   \n",
       "2  7987-VIWFX   Male     Yes          2      Graduate            No   \n",
       "3  6188-XZFFB   Male     Yes          2      Graduate            No   \n",
       "4  6670-JTLDE   Male      No          0  Not Graduate            No   \n",
       "\n",
       "   ApplicantIncome  CoapplicantIncome  LoanAmount  Loan_Amount_Term  \\\n",
       "0             5720                  0       110.0             360.0   \n",
       "1             3076               1500       126.0             360.0   \n",
       "2             5000               1800       208.0             360.0   \n",
       "3             2340               2546       100.0             360.0   \n",
       "4             3276                  0        78.0             360.0   \n",
       "\n",
       "   Credit_History Property_Area  \n",
       "0             1.0         Urban  \n",
       "1             1.0         Urban  \n",
       "2             1.0         Urban  \n",
       "3             NaN         Urban  \n",
       "4             1.0         Urban  "
      ],
      "text/html": [
       "<div>\n",
       "<style scoped>\n",
       "    .dataframe tbody tr th:only-of-type {\n",
       "        vertical-align: middle;\n",
       "    }\n",
       "\n",
       "    .dataframe tbody tr th {\n",
       "        vertical-align: top;\n",
       "    }\n",
       "\n",
       "    .dataframe thead th {\n",
       "        text-align: right;\n",
       "    }\n",
       "</style>\n",
       "<table border=\"1\" class=\"dataframe\">\n",
       "  <thead>\n",
       "    <tr style=\"text-align: right;\">\n",
       "      <th></th>\n",
       "      <th>Loan_ID</th>\n",
       "      <th>Gender</th>\n",
       "      <th>Married</th>\n",
       "      <th>Dependents</th>\n",
       "      <th>Education</th>\n",
       "      <th>Self_Employed</th>\n",
       "      <th>ApplicantIncome</th>\n",
       "      <th>CoapplicantIncome</th>\n",
       "      <th>LoanAmount</th>\n",
       "      <th>Loan_Amount_Term</th>\n",
       "      <th>Credit_History</th>\n",
       "      <th>Property_Area</th>\n",
       "    </tr>\n",
       "  </thead>\n",
       "  <tbody>\n",
       "    <tr>\n",
       "      <th>0</th>\n",
       "      <td>1080-EPXMZ</td>\n",
       "      <td>Male</td>\n",
       "      <td>Yes</td>\n",
       "      <td>0</td>\n",
       "      <td>Graduate</td>\n",
       "      <td>No</td>\n",
       "      <td>5720</td>\n",
       "      <td>0</td>\n",
       "      <td>110.0</td>\n",
       "      <td>360.0</td>\n",
       "      <td>1.0</td>\n",
       "      <td>Urban</td>\n",
       "    </tr>\n",
       "    <tr>\n",
       "      <th>1</th>\n",
       "      <td>2038-EMCSV</td>\n",
       "      <td>Male</td>\n",
       "      <td>Yes</td>\n",
       "      <td>1</td>\n",
       "      <td>Graduate</td>\n",
       "      <td>No</td>\n",
       "      <td>3076</td>\n",
       "      <td>1500</td>\n",
       "      <td>126.0</td>\n",
       "      <td>360.0</td>\n",
       "      <td>1.0</td>\n",
       "      <td>Urban</td>\n",
       "    </tr>\n",
       "    <tr>\n",
       "      <th>2</th>\n",
       "      <td>7987-VIWFX</td>\n",
       "      <td>Male</td>\n",
       "      <td>Yes</td>\n",
       "      <td>2</td>\n",
       "      <td>Graduate</td>\n",
       "      <td>No</td>\n",
       "      <td>5000</td>\n",
       "      <td>1800</td>\n",
       "      <td>208.0</td>\n",
       "      <td>360.0</td>\n",
       "      <td>1.0</td>\n",
       "      <td>Urban</td>\n",
       "    </tr>\n",
       "    <tr>\n",
       "      <th>3</th>\n",
       "      <td>6188-XZFFB</td>\n",
       "      <td>Male</td>\n",
       "      <td>Yes</td>\n",
       "      <td>2</td>\n",
       "      <td>Graduate</td>\n",
       "      <td>No</td>\n",
       "      <td>2340</td>\n",
       "      <td>2546</td>\n",
       "      <td>100.0</td>\n",
       "      <td>360.0</td>\n",
       "      <td>NaN</td>\n",
       "      <td>Urban</td>\n",
       "    </tr>\n",
       "    <tr>\n",
       "      <th>4</th>\n",
       "      <td>6670-JTLDE</td>\n",
       "      <td>Male</td>\n",
       "      <td>No</td>\n",
       "      <td>0</td>\n",
       "      <td>Not Graduate</td>\n",
       "      <td>No</td>\n",
       "      <td>3276</td>\n",
       "      <td>0</td>\n",
       "      <td>78.0</td>\n",
       "      <td>360.0</td>\n",
       "      <td>1.0</td>\n",
       "      <td>Urban</td>\n",
       "    </tr>\n",
       "  </tbody>\n",
       "</table>\n",
       "</div>"
      ]
     },
     "execution_count": 10,
     "metadata": {},
     "output_type": "execute_result"
    }
   ],
   "execution_count": 10
  }
 ],
 "metadata": {
  "kernelspec": {
   "display_name": "Python 3 (ipykernel)",
   "language": "python",
   "name": "python3"
  },
  "language_info": {
   "codemirror_mode": {
    "name": "ipython",
    "version": 3
   },
   "file_extension": ".py",
   "mimetype": "text/x-python",
   "name": "python",
   "nbconvert_exporter": "python",
   "pygments_lexer": "ipython3",
   "version": "3.10.8"
  }
 },
 "nbformat": 4,
 "nbformat_minor": 5
}
