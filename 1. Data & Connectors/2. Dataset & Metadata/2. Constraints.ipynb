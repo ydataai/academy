{
 "cells": [
  {
   "cell_type": "markdown",
   "metadata": {
    "collapsed": true,
    "jupyter": {
     "outputs_hidden": true
    }
   },
   "source": [
    "# The Metadata and Constraints"
   ]
  },
  {
   "cell_type": "markdown",
   "metadata": {
    "collapsed": false,
    "jupyter": {
     "outputs_hidden": false
    },
    "pycharm": {
     "name": "#%%\n"
    }
   },
   "source": [
    "**Metadata** objects are the pilar to leverage [ydata-sdk's](https://pypi.org/project/ydata-sdk/) package features. The **Metadata** is the object that can be shared between the different features and elements of ydata-sdk: *profiling*, *synthesizer* and *report*.    \n",
    "    \n",
    "- The object helps you extracting the main data from your dataset:\n",
    "    - The **columns metadata**: Both Variable and Data type (numerical, categorical, etc.)\n",
    "    - The **data warnings**: Checks for the presence of duplicates, variables with skewness, etc.\n",
    "    - The **data constraints**: They refer to business rules validation of the data. Constraints are flexible and easy to use. \n",
    "    \n",
    "In this Notebook, we will be showing you features and capabilities of this objects and how to combine them with other pieces from YData's package offer.\n",
    "\n",
    "The dataset used to explore the Metadata and Constraints can be found win [\"Kaggle - Home Loans\"](https://www.kaggle.com/code/sazid28/home-loan-prediction/data)."
   ]
  },
  {
   "metadata": {},
   "cell_type": "markdown",
   "source": "## Authenticate with your YData account"
  },
  {
   "metadata": {
    "ExecuteTime": {
     "end_time": "2025-05-07T22:58:32.279010Z",
     "start_time": "2025-05-07T22:58:32.276478Z"
    }
   },
   "cell_type": "code",
   "source": [
    "# Authenticate with your ydata-sdk token - https://dashboard.ydata.ai/\n",
    "import os\n",
    "\n",
    "os.environ['YDATA_LICENSE_KEY'] = '{add-your-key}'"
   ],
   "outputs": [],
   "execution_count": 1
  },
  {
   "metadata": {},
   "cell_type": "markdown",
   "source": "## Create your Dataset & Metadata"
  },
  {
   "cell_type": "code",
   "metadata": {
    "ExecuteTime": {
     "end_time": "2025-05-07T22:58:35.486861Z",
     "start_time": "2025-05-07T22:58:34.944876Z"
    }
   },
   "source": [
    "import pandas as pd\n",
    "from ydata.dataset import Dataset\n",
    "\n",
    "df = pd.read_csv('insert-file-path.csv')\n",
    "dataset = Dataset(df)"
   ],
   "outputs": [],
   "execution_count": 2
  },
  {
   "cell_type": "code",
   "metadata": {
    "ExecuteTime": {
     "end_time": "2025-05-07T22:58:39.108606Z",
     "start_time": "2025-05-07T22:58:39.091942Z"
    }
   },
   "source": "dataset.head(100)",
   "outputs": [
    {
     "data": {
      "text/plain": [
       "     Loan_ID  Gender Married Dependents     Education Self_Employed  \\\n",
       "0   LP001015    Male     Yes          0      Graduate            No   \n",
       "1   LP001022    Male     Yes          1      Graduate            No   \n",
       "2   LP001031    Male     Yes          2      Graduate            No   \n",
       "3   LP001035    Male     Yes          2      Graduate            No   \n",
       "4   LP001051    Male      No          0  Not Graduate            No   \n",
       "..       ...     ...     ...        ...           ...           ...   \n",
       "95  LP001499  Female     Yes         3+      Graduate            No   \n",
       "96  LP001500    Male     Yes          1      Graduate            No   \n",
       "97  LP001501    Male     Yes          0      Graduate            No   \n",
       "98  LP001517    Male     Yes         3+      Graduate            No   \n",
       "99  LP001527    Male     Yes         3+      Graduate            No   \n",
       "\n",
       "    ApplicantIncome  CoapplicantIncome  LoanAmount  Loan_Amount_Term  \\\n",
       "0              5720                  0       110.0             360.0   \n",
       "1              3076               1500       126.0             360.0   \n",
       "2              5000               1800       208.0             360.0   \n",
       "3              2340               2546       100.0             360.0   \n",
       "4              3276                  0        78.0             360.0   \n",
       "..              ...                ...         ...               ...   \n",
       "95             6260                  0       110.0             360.0   \n",
       "96             3333               4200       256.0             360.0   \n",
       "97             3500               3250       140.0             360.0   \n",
       "98             9719                  0        61.0             360.0   \n",
       "99             6835                  0       188.0             360.0   \n",
       "\n",
       "    Credit_History Property_Area  \n",
       "0              1.0         Urban  \n",
       "1              1.0         Urban  \n",
       "2              1.0         Urban  \n",
       "3              NaN         Urban  \n",
       "4              1.0         Urban  \n",
       "..             ...           ...  \n",
       "95             1.0     Semiurban  \n",
       "96             1.0         Urban  \n",
       "97             1.0     Semiurban  \n",
       "98             1.0         Urban  \n",
       "99             NaN     Semiurban  \n",
       "\n",
       "[100 rows x 12 columns]"
      ],
      "text/html": [
       "<div>\n",
       "<style scoped>\n",
       "    .dataframe tbody tr th:only-of-type {\n",
       "        vertical-align: middle;\n",
       "    }\n",
       "\n",
       "    .dataframe tbody tr th {\n",
       "        vertical-align: top;\n",
       "    }\n",
       "\n",
       "    .dataframe thead th {\n",
       "        text-align: right;\n",
       "    }\n",
       "</style>\n",
       "<table border=\"1\" class=\"dataframe\">\n",
       "  <thead>\n",
       "    <tr style=\"text-align: right;\">\n",
       "      <th></th>\n",
       "      <th>Loan_ID</th>\n",
       "      <th>Gender</th>\n",
       "      <th>Married</th>\n",
       "      <th>Dependents</th>\n",
       "      <th>Education</th>\n",
       "      <th>Self_Employed</th>\n",
       "      <th>ApplicantIncome</th>\n",
       "      <th>CoapplicantIncome</th>\n",
       "      <th>LoanAmount</th>\n",
       "      <th>Loan_Amount_Term</th>\n",
       "      <th>Credit_History</th>\n",
       "      <th>Property_Area</th>\n",
       "    </tr>\n",
       "  </thead>\n",
       "  <tbody>\n",
       "    <tr>\n",
       "      <th>0</th>\n",
       "      <td>LP001015</td>\n",
       "      <td>Male</td>\n",
       "      <td>Yes</td>\n",
       "      <td>0</td>\n",
       "      <td>Graduate</td>\n",
       "      <td>No</td>\n",
       "      <td>5720</td>\n",
       "      <td>0</td>\n",
       "      <td>110.0</td>\n",
       "      <td>360.0</td>\n",
       "      <td>1.0</td>\n",
       "      <td>Urban</td>\n",
       "    </tr>\n",
       "    <tr>\n",
       "      <th>1</th>\n",
       "      <td>LP001022</td>\n",
       "      <td>Male</td>\n",
       "      <td>Yes</td>\n",
       "      <td>1</td>\n",
       "      <td>Graduate</td>\n",
       "      <td>No</td>\n",
       "      <td>3076</td>\n",
       "      <td>1500</td>\n",
       "      <td>126.0</td>\n",
       "      <td>360.0</td>\n",
       "      <td>1.0</td>\n",
       "      <td>Urban</td>\n",
       "    </tr>\n",
       "    <tr>\n",
       "      <th>2</th>\n",
       "      <td>LP001031</td>\n",
       "      <td>Male</td>\n",
       "      <td>Yes</td>\n",
       "      <td>2</td>\n",
       "      <td>Graduate</td>\n",
       "      <td>No</td>\n",
       "      <td>5000</td>\n",
       "      <td>1800</td>\n",
       "      <td>208.0</td>\n",
       "      <td>360.0</td>\n",
       "      <td>1.0</td>\n",
       "      <td>Urban</td>\n",
       "    </tr>\n",
       "    <tr>\n",
       "      <th>3</th>\n",
       "      <td>LP001035</td>\n",
       "      <td>Male</td>\n",
       "      <td>Yes</td>\n",
       "      <td>2</td>\n",
       "      <td>Graduate</td>\n",
       "      <td>No</td>\n",
       "      <td>2340</td>\n",
       "      <td>2546</td>\n",
       "      <td>100.0</td>\n",
       "      <td>360.0</td>\n",
       "      <td>NaN</td>\n",
       "      <td>Urban</td>\n",
       "    </tr>\n",
       "    <tr>\n",
       "      <th>4</th>\n",
       "      <td>LP001051</td>\n",
       "      <td>Male</td>\n",
       "      <td>No</td>\n",
       "      <td>0</td>\n",
       "      <td>Not Graduate</td>\n",
       "      <td>No</td>\n",
       "      <td>3276</td>\n",
       "      <td>0</td>\n",
       "      <td>78.0</td>\n",
       "      <td>360.0</td>\n",
       "      <td>1.0</td>\n",
       "      <td>Urban</td>\n",
       "    </tr>\n",
       "    <tr>\n",
       "      <th>...</th>\n",
       "      <td>...</td>\n",
       "      <td>...</td>\n",
       "      <td>...</td>\n",
       "      <td>...</td>\n",
       "      <td>...</td>\n",
       "      <td>...</td>\n",
       "      <td>...</td>\n",
       "      <td>...</td>\n",
       "      <td>...</td>\n",
       "      <td>...</td>\n",
       "      <td>...</td>\n",
       "      <td>...</td>\n",
       "    </tr>\n",
       "    <tr>\n",
       "      <th>95</th>\n",
       "      <td>LP001499</td>\n",
       "      <td>Female</td>\n",
       "      <td>Yes</td>\n",
       "      <td>3+</td>\n",
       "      <td>Graduate</td>\n",
       "      <td>No</td>\n",
       "      <td>6260</td>\n",
       "      <td>0</td>\n",
       "      <td>110.0</td>\n",
       "      <td>360.0</td>\n",
       "      <td>1.0</td>\n",
       "      <td>Semiurban</td>\n",
       "    </tr>\n",
       "    <tr>\n",
       "      <th>96</th>\n",
       "      <td>LP001500</td>\n",
       "      <td>Male</td>\n",
       "      <td>Yes</td>\n",
       "      <td>1</td>\n",
       "      <td>Graduate</td>\n",
       "      <td>No</td>\n",
       "      <td>3333</td>\n",
       "      <td>4200</td>\n",
       "      <td>256.0</td>\n",
       "      <td>360.0</td>\n",
       "      <td>1.0</td>\n",
       "      <td>Urban</td>\n",
       "    </tr>\n",
       "    <tr>\n",
       "      <th>97</th>\n",
       "      <td>LP001501</td>\n",
       "      <td>Male</td>\n",
       "      <td>Yes</td>\n",
       "      <td>0</td>\n",
       "      <td>Graduate</td>\n",
       "      <td>No</td>\n",
       "      <td>3500</td>\n",
       "      <td>3250</td>\n",
       "      <td>140.0</td>\n",
       "      <td>360.0</td>\n",
       "      <td>1.0</td>\n",
       "      <td>Semiurban</td>\n",
       "    </tr>\n",
       "    <tr>\n",
       "      <th>98</th>\n",
       "      <td>LP001517</td>\n",
       "      <td>Male</td>\n",
       "      <td>Yes</td>\n",
       "      <td>3+</td>\n",
       "      <td>Graduate</td>\n",
       "      <td>No</td>\n",
       "      <td>9719</td>\n",
       "      <td>0</td>\n",
       "      <td>61.0</td>\n",
       "      <td>360.0</td>\n",
       "      <td>1.0</td>\n",
       "      <td>Urban</td>\n",
       "    </tr>\n",
       "    <tr>\n",
       "      <th>99</th>\n",
       "      <td>LP001527</td>\n",
       "      <td>Male</td>\n",
       "      <td>Yes</td>\n",
       "      <td>3+</td>\n",
       "      <td>Graduate</td>\n",
       "      <td>No</td>\n",
       "      <td>6835</td>\n",
       "      <td>0</td>\n",
       "      <td>188.0</td>\n",
       "      <td>360.0</td>\n",
       "      <td>NaN</td>\n",
       "      <td>Semiurban</td>\n",
       "    </tr>\n",
       "  </tbody>\n",
       "</table>\n",
       "<p>100 rows × 12 columns</p>\n",
       "</div>"
      ]
     },
     "execution_count": 3,
     "metadata": {},
     "output_type": "execute_result"
    }
   ],
   "execution_count": 3
  },
  {
   "cell_type": "code",
   "metadata": {
    "ExecuteTime": {
     "end_time": "2025-05-07T22:58:43.529715Z",
     "start_time": "2025-05-07T22:58:42.501131Z"
    }
   },
   "source": [
    "from ydata.metadata import Metadata\n",
    "#Extract the Metadata from the Dataset\n",
    "metadata = Metadata(dataset)\n",
    "print(metadata)"
   ],
   "outputs": [
    {
     "name": "stdout",
     "output_type": "stream",
     "text": [
      "[########################################] | 100% Completed | 107.96 ms\n",
      "[########################################] | 100% Completed | 105.17 ms\n",
      "[########################################] | 100% Completed | 104.99 ms\n",
      "\u001B[1mMetadata Summary \n",
      " \n",
      "\u001B[0m\u001B[1mDataset type: \u001B[0mTABULAR\n",
      "\u001B[1mDataset attributes: \u001B[0m\n",
      "\u001B[1mNumber of columns: \u001B[0m12\n",
      "\u001B[1mNumber of rows: \u001B[0m367\n",
      "\u001B[1mDuplicate rows: \u001B[0m1\n",
      "\u001B[1mTarget column: \u001B[0m\n",
      "\n",
      "\u001B[1mColumn detail: \u001B[0m\n",
      "               Column    Data type Variable type Characteristics\n",
      "0             Loan_ID       string        string                \n",
      "1              Gender  categorical        string                \n",
      "2             Married  categorical        string                \n",
      "3          Dependents  categorical        string                \n",
      "4           Education  categorical        string                \n",
      "5       Self_Employed  categorical        string                \n",
      "6     ApplicantIncome    numerical           int                \n",
      "7   CoapplicantIncome    numerical           int                \n",
      "8          LoanAmount    numerical         float                \n",
      "9    Loan_Amount_Term  categorical         float                \n",
      "10     Credit_History  categorical         float                \n",
      "11      Property_Area  categorical        string                \n",
      "\n",
      "\u001B[1mWarnings: \u001B[0m\n",
      "           Warning                                                                            Columns\n",
      "0         skewness                                   [ApplicantIncome, CoapplicantIncome, LoanAmount]\n",
      "1      cardinality                                                                          [Loan_ID]\n",
      "2         missings  [Gender, Dependents, Self_Employed, LoanAmount, Loan_Amount_Term, Credit_History]\n",
      "3            zeros                                               [ApplicantIncome, CoapplicantIncome]\n",
      "4        imbalance   [Gender, Dependents, Education, Self_Employed, Loan_Amount_Term, Credit_History]\n",
      "5           unique                                                                          [Loan_ID]\n",
      "6  constant_length                                                                          [Loan_ID]\n",
      "\n"
     ]
    }
   ],
   "execution_count": 4
  },
  {
   "cell_type": "code",
   "metadata": {
    "ExecuteTime": {
     "end_time": "2025-05-07T22:58:46.261360Z",
     "start_time": "2025-05-07T22:58:46.252246Z"
    }
   },
   "source": [
    "#print metadata summary\n",
    "print('\\n\\033[1mMetadata summary\\033[0m')\n",
    "print(metadata.summary)"
   ],
   "outputs": [
    {
     "name": "stdout",
     "output_type": "stream",
     "text": [
      "\n",
      "\u001B[1mMetadata summary\u001B[0m\n",
      "{'nrows': 367, 'cardinality': {'Loan_ID': 367, 'Gender': 2, 'Married': 2, 'Dependents': 4, 'Education': 2, 'Self_Employed': 2, 'ApplicantIncome': 314, 'CoapplicantIncome': 194, 'LoanAmount': 144, 'Loan_Amount_Term': 12, 'Credit_History': 2, 'Property_Area': 3}, 'duplicates': 1, 'missings': {'Loan_ID': np.int64(0), 'Gender': np.int64(11), 'Married': np.int64(0), 'Dependents': np.int64(10), 'Education': np.int64(0), 'Self_Employed': np.int64(23), 'ApplicantIncome': np.int64(0), 'CoapplicantIncome': np.int64(0), 'LoanAmount': np.int64(5), 'Loan_Amount_Term': np.int64(6), 'Credit_History': np.int64(29), 'Property_Area': np.int64(0)}, 'skewness': {'ApplicantIncome': np.float64(8.40683417612701), 'CoapplicantIncome': np.float64(4.239936499795931), 'LoanAmount': np.float64(2.214288133774681), 'Loan_Amount_Term': np.float64(-2.6681719962961696), 'Credit_History': np.float64(-1.7147253696648368)}, 'infinity': {'ApplicantIncome': np.int64(0), 'CoapplicantIncome': np.int64(0), 'LoanAmount': np.int64(0), 'Loan_Amount_Term': np.int64(0), 'Credit_History': np.int64(0)}, 'zeros': {'ApplicantIncome': np.int64(2), 'CoapplicantIncome': np.int64(156), 'LoanAmount': np.int64(0), 'Loan_Amount_Term': np.int64(0), 'Credit_History': np.int64(59)}, 'string_len': {'Loan_ID': {'max': np.int64(8), 'min': np.int64(8), 'mean': np.float64(8.0)}, 'Gender': {'max': np.int64(6), 'min': np.int64(4), 'mean': np.float64(4.393258426966292)}, 'Married': {'max': np.int64(3), 'min': np.int64(2), 'mean': np.float64(2.6348773841961854)}, 'Dependents': {'max': np.int64(2), 'min': np.int64(1), 'mean': np.float64(1.112044817927171)}, 'Education': {'max': np.int64(12), 'min': np.int64(8), 'mean': np.float64(8.915531335149863)}, 'Self_Employed': {'max': np.int64(3), 'min': np.int64(2), 'mean': np.float64(2.1075581395348837)}, 'Property_Area': {'max': np.int64(9), 'min': np.int64(5), 'mean': np.float64(6.264305177111717)}}, 'word_count': {'Loan_ID': np.float64(1.0), 'Gender': np.float64(1.0), 'Married': np.float64(1.0), 'Dependents': np.float64(1.0), 'Education': np.float64(1.228882833787466), 'Self_Employed': np.float64(1.0), 'Property_Area': np.float64(1.0)}, 'domains': {'ApplicantIncome': {'min': np.int64(0), 'max': np.int64(72529)}, 'CoapplicantIncome': {'min': np.int64(0), 'max': np.int64(24000)}, 'LoanAmount': {'min': np.float64(28.0), 'max': np.float64(550.0)}, 'Loan_Amount_Term': {'min': np.float64(6.0), 'max': np.float64(480.0)}, 'Credit_History': {'min': np.float64(0.0), 'max': np.float64(1.0)}}, 'value_counts': {'Loan_ID': Loan_ID\n",
      "LP001015    1\n",
      "LP001022    1\n",
      "LP001031    1\n",
      "LP001035    1\n",
      "LP001051    1\n",
      "           ..\n",
      "LP002971    1\n",
      "LP002975    1\n",
      "LP002980    1\n",
      "LP002986    1\n",
      "LP002989    1\n",
      "Name: count, Length: 367, dtype: int64[pyarrow], 'Gender': Gender\n",
      "Male      286\n",
      "Female     70\n",
      "Name: count, dtype: int64[pyarrow], 'Married': Married\n",
      "Yes    233\n",
      "No     134\n",
      "Name: count, dtype: int64[pyarrow], 'Dependents': Dependents\n",
      "0     200\n",
      "2      59\n",
      "1      58\n",
      "3+     40\n",
      "Name: count, dtype: int64[pyarrow], 'Education': Education\n",
      "Graduate        283\n",
      "Not Graduate     84\n",
      "Name: count, dtype: int64[pyarrow], 'Self_Employed': Self_Employed\n",
      "No     307\n",
      "Yes     37\n",
      "Name: count, dtype: int64[pyarrow], 'ApplicantIncome': ApplicantIncome\n",
      "5000     6\n",
      "3500     6\n",
      "3333     5\n",
      "4333     4\n",
      "7500     4\n",
      "        ..\n",
      "3132     1\n",
      "3125     1\n",
      "3091     1\n",
      "3089     1\n",
      "72529    1\n",
      "Name: count, Length: 314, dtype: int64, 'CoapplicantIncome': CoapplicantIncome\n",
      "0        156\n",
      "2000       3\n",
      "700        3\n",
      "750        2\n",
      "2333       2\n",
      "        ... \n",
      "1936       1\n",
      "1951       1\n",
      "1963       1\n",
      "1966       1\n",
      "24000      1\n",
      "Name: count, Length: 194, dtype: int64, 'Property_Area': Property_Area\n",
      "Urban        140\n",
      "Semiurban    116\n",
      "Rural        111\n",
      "Name: count, dtype: int64[pyarrow], 'Loan_Amount_Term': Loan_Amount_Term\n",
      "360.0    311\n",
      "180.0     22\n",
      "480.0      8\n",
      "300.0      7\n",
      "240.0      4\n",
      "84.0       3\n",
      "6.0        1\n",
      "12.0       1\n",
      "36.0       1\n",
      "60.0       1\n",
      "120.0      1\n",
      "350.0      1\n",
      "Name: count, dtype: int64, 'Credit_History': Credit_History\n",
      "1.0    279\n",
      "0.0     59\n",
      "Name: count, dtype: int64}, 'characteristics': {}, 'imbalance': {'Loan_ID': np.float64(2.220446049250313e-16), 'Gender': np.float64(0.2848649215750826), 'Married': np.float64(0.053146644229781326), 'Dependents': np.float64(0.1613524441481774), 'Education': np.float64(0.22394125733345893), 'Self_Employed': np.float64(0.5074936524401005), 'Property_Area': np.float64(0.004779786182970258), 'Loan_Amount_Term': np.float64(0.739470311831854), 'Credit_History': np.float64(0.33197791848909364)}, 'correlation':                     Loan_ID    Gender   Married  Dependents  Education  \\\n",
      "Loan_ID            1.000000  0.000000  0.000000    0.000000   0.093043   \n",
      "Gender             0.000000  1.000000  0.299190    0.036452   0.000000   \n",
      "Married            0.000000  0.299190  1.000000    0.374795   0.000000   \n",
      "Dependents         0.000000  0.036452  0.374795    1.000000   0.099821   \n",
      "Education          0.093043  0.000000  0.000000    0.099821   1.000000   \n",
      "Self_Employed      0.000000  0.000000  0.000000    0.047929   0.000000   \n",
      "ApplicantIncome    0.000000  0.000000  0.000000    0.066175   0.194349   \n",
      "CoapplicantIncome  0.064625  0.000000  0.192205    0.077599   0.142412   \n",
      "LoanAmount         0.000000  0.128160  0.145875    0.000000   0.139763   \n",
      "Loan_Amount_Term   0.000000  0.000000  0.035098    0.000000   0.000000   \n",
      "Credit_History     0.000000  0.000000  0.048951    0.000000   0.000000   \n",
      "Property_Area      0.000000  0.000000  0.000000    0.000000   0.000000   \n",
      "\n",
      "                   Self_Employed  ApplicantIncome  CoapplicantIncome  \\\n",
      "Loan_ID                 0.000000         0.000000           0.064625   \n",
      "Gender                  0.000000         0.000000           0.000000   \n",
      "Married                 0.000000         0.000000           0.192205   \n",
      "Dependents              0.047929         0.066175           0.077599   \n",
      "Education               0.000000         0.194349           0.142412   \n",
      "Self_Employed           1.000000         0.088419           0.000000   \n",
      "ApplicantIncome         0.088419         1.000000          -0.362364   \n",
      "CoapplicantIncome       0.000000        -0.362364           1.000000   \n",
      "LoanAmount              0.000000         0.400260           0.209055   \n",
      "Loan_Amount_Term        0.000000         0.026880          -0.044965   \n",
      "Credit_History          0.000000         0.162641          -0.055118   \n",
      "Property_Area           0.065879         0.000000           0.102370   \n",
      "\n",
      "                   LoanAmount  Loan_Amount_Term  Credit_History  Property_Area  \n",
      "Loan_ID              0.000000          0.000000        0.000000       0.000000  \n",
      "Gender               0.128160          0.000000        0.000000       0.000000  \n",
      "Married              0.145875          0.035098        0.048951       0.000000  \n",
      "Dependents           0.000000          0.000000        0.000000       0.000000  \n",
      "Education            0.139763          0.000000        0.000000       0.000000  \n",
      "Self_Employed        0.000000          0.000000        0.000000       0.065879  \n",
      "ApplicantIncome      0.400260          0.026880        0.162641       0.000000  \n",
      "CoapplicantIncome    0.209055         -0.044965       -0.055118       0.102370  \n",
      "LoanAmount           1.000000          0.093819       -0.070105       0.000000  \n",
      "Loan_Amount_Term     0.093819          1.000000       -0.091193       0.000000  \n",
      "Credit_History      -0.070105         -0.091193        1.000000       0.000000  \n",
      "Property_Area        0.000000          0.000000        0.000000       1.000000  }\n"
     ]
    }
   ],
   "execution_count": 5
  },
  {
   "cell_type": "code",
   "metadata": {
    "ExecuteTime": {
     "end_time": "2025-05-07T22:59:27.732582Z",
     "start_time": "2025-05-07T22:59:27.730531Z"
    }
   },
   "source": [
    "## Setting the target variable\n",
    "metadata.target='Dependents'"
   ],
   "outputs": [],
   "execution_count": 7
  },
  {
   "cell_type": "code",
   "metadata": {
    "ExecuteTime": {
     "end_time": "2025-05-07T22:59:29.096842Z",
     "start_time": "2025-05-07T22:59:29.094341Z"
    }
   },
   "source": [
    "print(metadata.target.name)"
   ],
   "outputs": [
    {
     "name": "stdout",
     "output_type": "stream",
     "text": [
      "Dependents\n"
     ]
    }
   ],
   "execution_count": 8
  },
  {
   "cell_type": "markdown",
   "metadata": {},
   "source": [
    "### Updating columns datatypes\n",
    "The automated inferences might not be totally correct in all the cases. For that reason, we always recommend to update the datatypes accordingly to the user understanding of the data. \n",
    "\n",
    "The update can be done by column or for a group of columns."
   ]
  },
  {
   "cell_type": "markdown",
   "metadata": {},
   "source": [
    "The code snippet below shows how to change the datatypes."
   ]
  },
  {
   "cell_type": "code",
   "metadata": {
    "ExecuteTime": {
     "end_time": "2025-05-07T22:59:35.757532Z",
     "start_time": "2025-05-07T22:59:35.752200Z"
    }
   },
   "source": [
    "#Getting the all metadata summary\n",
    "print('\\n\\033[1mChanging one column data type\\033[0m')\n",
    "metadata.update_datatypes({'Dependents': 'categorical'})\n",
    "print(f\"'Dependents': {metadata.columns['Dependents'].datatype.name}\")"
   ],
   "outputs": [
    {
     "name": "stdout",
     "output_type": "stream",
     "text": [
      "\n",
      "\u001B[1mChanging one column data type\u001B[0m\n",
      "'Dependents': CATEGORICAL\n"
     ]
    }
   ],
   "execution_count": 9
  },
  {
   "cell_type": "markdown",
   "metadata": {},
   "source": [
    "### Filtering metadata by columns\n",
    "For some activities the full metadata might not be needed and only a portion of the calls shall be considered for a certain activity (eg. data synthesis). The Metadata object allows the users to select only the needed columns, as per the example below."
   ]
  },
  {
   "cell_type": "code",
   "metadata": {
    "ExecuteTime": {
     "end_time": "2025-05-07T22:59:41.563421Z",
     "start_time": "2025-05-07T22:59:41.557104Z"
    }
   },
   "source": [
    "filtered_metadata = metadata[['encounter_id', 'Married', 'acarbose', 'Dependents', 'Property_Area']]\n",
    "\n",
    "print('\\n\\033[1mNew avaialble metadata\\033[0m')\n",
    "print(filtered_metadata)"
   ],
   "outputs": [
    {
     "name": "stdout",
     "output_type": "stream",
     "text": [
      "\n",
      "\u001B[1mNew avaialble metadata\u001B[0m\n",
      "\u001B[1mMetadata Summary \n",
      " \n",
      "\u001B[0m\u001B[1mDataset type: \u001B[0mTABULAR\n",
      "\u001B[1mDataset attributes: \u001B[0m\n",
      "\u001B[1mNumber of columns: \u001B[0m3\n",
      "\u001B[1mNumber of rows: \u001B[0m367\n",
      "\u001B[1mDuplicate rows: \u001B[0m1\n",
      "\u001B[1mTarget column: \u001B[0m\n",
      "\n",
      "\u001B[1mColumn detail: \u001B[0m\n",
      "          Column    Data type Variable type Characteristics\n",
      "0        Married  categorical        string                \n",
      "1     Dependents  categorical        string                \n",
      "2  Property_Area  categorical        string                \n",
      "\n",
      "\u001B[1mWarnings: \u001B[0m\n",
      "     Warning       Columns\n",
      "0   missings  [Dependents]\n",
      "1  imbalance  [Dependents]\n",
      "\n"
     ]
    }
   ],
   "execution_count": 10
  },
  {
   "cell_type": "markdown",
   "metadata": {},
   "source": [
    "## Metadata & Constrains \n",
    "The constrains engine allows the user to define a certain level of expectations and validations for a certain dataset. This engine is helpfull to identify potential inconsistencies and descrepencies between records and business rules or logic. \n",
    "They can also be leverage to keep expectations and validations while building an data engineering/preprocessing flow.\n",
    "\n",
    "Constraints can be built as complex as needed. Following this tutorial provides a few **Constraints** examples - from default (`Positive`, `GreaterThan`) to customer."
   ]
  },
  {
   "cell_type": "code",
   "metadata": {
    "ExecuteTime": {
     "end_time": "2025-05-07T22:59:49.362312Z",
     "start_time": "2025-05-07T22:59:49.353839Z"
    }
   },
   "source": [
    "from ydata.constraints.engine import ConstraintEngine\n",
    "from ydata.constraints.rows import GreaterThan, Positive, CustomConstraint"
   ],
   "outputs": [],
   "execution_count": 11
  },
  {
   "cell_type": "code",
   "metadata": {
    "ExecuteTime": {
     "end_time": "2025-05-07T22:59:51.525101Z",
     "start_time": "2025-05-07T22:59:51.482471Z"
    }
   },
   "source": [
    "c1 = GreaterThan(columns=['CoapplicantIncome', 'LoanAmount'], value=0)\n",
    "c2 = Positive(columns=['CoapplicantIncome'])\n",
    "\n",
    "ce = ConstraintEngine()\n",
    "ce.add_constraints([c1, c2])\n",
    "ce.validate(dataset)"
   ],
   "outputs": [],
   "execution_count": 12
  },
  {
   "cell_type": "code",
   "metadata": {
    "ExecuteTime": {
     "end_time": "2025-05-07T22:59:53.843868Z",
     "start_time": "2025-05-07T22:59:53.838046Z"
    }
   },
   "source": [
    "ce.summary()"
   ],
   "outputs": [
    {
     "data": {
      "text/plain": [
       "{'rows_violation_count': np.int64(158),\n",
       " 'rows_violation_ratio': 0.4305177111716621,\n",
       " 'violation_per_constraint': {\"GreaterThan(columns=['CoapplicantIncome', 'LoanAmount'], value=0)\": {'rows_violation_count': np.int64(158),\n",
       "   'rows_violation_ratio': 0.4305177111716621,\n",
       "   'validation_time': 0.02},\n",
       "  \"Positive(columns=['CoapplicantIncome'])\": {'rows_violation_count': np.int64(156),\n",
       "   'rows_violation_ratio': 0.4250681198910082,\n",
       "   'validation_time': 0.02}}}"
      ]
     },
     "execution_count": 13,
     "metadata": {},
     "output_type": "execute_result"
    }
   ],
   "execution_count": 13
  }
 ],
 "metadata": {
  "kernelspec": {
   "display_name": "Python 3 (ipykernel)",
   "language": "python",
   "name": "python3"
  },
  "language_info": {
   "codemirror_mode": {
    "name": "ipython",
    "version": 3
   },
   "file_extension": ".py",
   "mimetype": "text/x-python",
   "name": "python",
   "nbconvert_exporter": "python",
   "pygments_lexer": "ipython3",
   "version": "3.10.12"
  }
 },
 "nbformat": 4,
 "nbformat_minor": 4
}
