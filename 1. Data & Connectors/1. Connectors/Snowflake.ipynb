{
 "cells": [
  {
   "cell_type": "markdown",
   "id": "e3c9bf11-14ea-47f7-9991-41cadba5dbe6",
   "metadata": {},
   "source": [
    "# Connectors - Snowflake\n",
    "\n",
    "[YData SDK](https://pypi.org/project/ydata-sdk/) provides a seamless integration with Snowflake, allowing you to connect,\n",
    "query, and manage your data in Snowflake with ease. This section will guide you through the benefits,\n",
    "setup, and usage of the Snowflake connector within ydata-sdk.\n",
    "\n",
    "### Benefits of Integration\n",
    "Integrating YData SDK with Snowflake offers several key benefits:\n",
    "\n",
    "- **Scalability:** Snowflake's architecture scales effortlessly with your data needs, while YData's tools ensure efficient data integration and management.\n",
    "- **Performance:** Leveraging Snowflake's high performance for data querying and YData's optimization techniques enhances overall data processing speed.\n",
    "- **Security:** Snowflake's robust security features, combined with YData's data governance capabilities, ensure your data remains secure and compliant.\n",
    "- **Interoperability:** YData SDK simplifies the process of connecting to Snowflake, allowing you to quickly set up and start using the data without extensive configuration. Benefit from the unique ydata-sdk functionalities like data preparation with Python, synthetic data generation and data profiling.\n"
   ]
  },
  {
   "cell_type": "markdown",
   "id": "d358cb66-0916-4e24-8c3e-9ebbe89c1cbc",
   "metadata": {},
   "source": "### Authenticate with your account YData"
  },
  {
   "cell_type": "code",
   "source": [
    "# Authenticate with your ydata-sdk token - https://dashboard.ydata.ai/\n",
    "import os\n",
    "\n",
    "os.environ['YDATA_LICENSE_KEY'] = '{add-your-key}'"
   ],
   "metadata": {
    "collapsed": false
   },
   "id": "b26c48993c4e1fe",
   "outputs": [],
   "execution_count": null
  },
  {
   "metadata": {},
   "cell_type": "markdown",
   "source": "## Create a Snowflake connector",
   "id": "a9524e7727e9d06b"
  },
  {
   "metadata": {},
   "cell_type": "code",
   "source": [
    "USERNAME = \"insert-username\"\n",
    "PASSWORD = \"insert-password\"\n",
    "ACCOUNT_IDENTIFIER = \"insert-account\"\n",
    "PORT = 443\n",
    "DATABASE_NAME = \"insert-DATABASE\"\n",
    "SCHEMA = \"insert-SCHEMA\"\n",
    "WAREHOUSE = \"insert-WAREHOUSE\"\n",
    "\n",
    "conn_str = {\n",
    "    \"hostname\": ACCOUNT_IDENTIFIER,\n",
    "    \"username\": USERNAME,\n",
    "    \"password\": PASSWORD,\n",
    "    \"port\": PORT,\n",
    "    \"database\": DATABASE_NAME,\n",
    "    \"warehouse\": WAREHOUSE\n",
    "}"
   ],
   "id": "6cf02f9210230205",
   "outputs": [],
   "execution_count": null
  },
  {
   "metadata": {},
   "cell_type": "code",
   "source": [
    "from ydata.connectors import SnowflakeConnector\n",
    "\n",
    "connector = SnowflakeConnector(conn_string=conn_str)"
   ],
   "id": "e8f5d0af6d623953",
   "outputs": [],
   "execution_count": null
  },
  {
   "cell_type": "markdown",
   "id": "d1ab64f8-e4d8-4c08-af68-06e9870b1566",
   "metadata": {},
   "source": [
    "### Navigate your database"
   ]
  },
  {
   "cell_type": "code",
   "id": "a7eca632-52d2-4fb1-8949-ace5fad6a77e",
   "metadata": {
    "tags": []
   },
   "source": [
    "#list the available schemas\n",
    "schemas = connector.list_schemas() #returns a list of schemas\n",
    "\n",
    "## get the metadata of a database schema\n",
    "schema = connector.get_database_schema(schema_name='insert-schema-name')"
   ],
   "outputs": [],
   "execution_count": null
  },
  {
   "cell_type": "markdown",
   "id": "80f76f8b-1a8b-4606-a4c1-9ba90343daa7",
   "metadata": {
    "tags": []
   },
   "source": [
    "## Read from your Snowflake\n",
    "Using the Snowflake connector it is possible to:\n",
    "- Get the data from a Snowflake table\n",
    "- Get a sample from a Snowflake table\n",
    "- Get the data from a query to a Snowflake instance\n",
    "- Get the full data from a selected database"
   ]
  },
  {
   "cell_type": "code",
   "id": "275ccdbe-b220-4926-b481-5f871653c764",
   "metadata": {
    "tags": []
   },
   "source": [
    "table = connector.get_table(table='cardio_test')\n",
    "print(table)"
   ],
   "outputs": [],
   "execution_count": null
  },
  {
   "cell_type": "code",
   "id": "f13e164e-666b-447d-a1e1-51f6c038b9d2",
   "metadata": {
    "tags": []
   },
   "source": [
    "table_sample = connector.get_table_sample(table='cardio_test', \n",
    "                                          sample_size=50)\n",
    "print(table_sample)"
   ],
   "outputs": [],
   "execution_count": null
  },
  {
   "cell_type": "code",
   "id": "80412745-1df9-4bed-bb18-2cff91dabe91",
   "metadata": {
    "tags": []
   },
   "source": [
    "query_output = connector.query(query=\"SELECT * FROM patients.cardio_test;\")\n",
    "print(query_output)"
   ],
   "outputs": [],
   "execution_count": null
  },
  {
   "cell_type": "markdown",
   "id": "2c0116a7-6794-402b-a3b8-2304f5c032bd",
   "metadata": {},
   "source": [
    "### Read from a database\n",
    "If you need to replicate an entire database or perform actions such as joining or merging full tables, you can read all tables within a schema or a specified set of tables using the Snowflake connector. The following actions are possible with the Snowflake connector:\n",
    "\n",
    "- Read an entire database in either lazy or non-lazy mode.\n",
    "- Read a specific set of tables.\n",
    "\n",
    "#### Lazy mode\n",
    "Lazy mode in YData Fabric's RDBMs connectors allows you to create an iterator that defers reading data from the database tables until an action is required. This approach optimizes performance and resource usage by loading data only when necessary.\n",
    "\n",
    "When using lazy mode, the data is not immediately fetched from the database. Instead, the connector sets up an iterator that references the tables. Data is read only when you perform actions that require accessing the actual data, such as counting the number of rows, joining tables, or filtering data."
   ]
  },
  {
   "cell_type": "code",
   "id": "aa78d8e8-d024-4393-9564-4ddf15073a2a",
   "metadata": {
    "tags": []
   },
   "source": [
    "database = connector.read_database(lazy=True)\n",
    "print(database)"
   ],
   "outputs": [],
   "execution_count": null
  },
  {
   "cell_type": "code",
   "id": "2924c959-4625-4996-a97b-48cc5448e04d",
   "metadata": {
    "tags": []
   },
   "source": [
    "tables = connector.get_tables(tables=['cardio_test', 'cardio_test2'])\n",
    "print(tables)"
   ],
   "outputs": [],
   "execution_count": null
  },
  {
   "cell_type": "markdown",
   "id": "525b263d-032c-473d-a10b-c51e0312e18a",
   "metadata": {},
   "source": [
    "## Write to your Snowflake\n",
    "If you need to write your data into a Snowflake instance you can also leverage your Snowflake connector for the following actions:\n",
    "\n",
    "- Write the data into a table\n",
    "- Write a new database schema"
   ]
  },
  {
   "cell_type": "code",
   "id": "fa0d8cfc-4146-4332-b205-7d080c374ae1",
   "metadata": {},
   "source": [
    "# Write the data to a new table called cardio_test in the set schema\n",
    "# If exists allow you to decide wether you want to append, replace or fail in case a table with the same name already exists in the schema.\n",
    "connector.write_table(data=tables['cardio_test'],\n",
    "                      name='cardio',\n",
    "                      if_exists='fail')"
   ],
   "outputs": [],
   "execution_count": null
  },
  {
   "cell_type": "code",
   "id": "f986515b-bd35-4630-b6f0-fbc2e6a01448",
   "metadata": {},
   "source": [
    "# Write the database as a new schema\n",
    "# table_names allow you to define a new name for the table in the database. If not provided it will be assumed the table names from your dataset.\n",
    "connector.write_database(data=database,\n",
    "                         schema_name='new_cardio',\n",
    "                         table_names={'cardio_test': 'cardio'})\n"
   ],
   "outputs": [],
   "execution_count": null
  }
 ],
 "metadata": {
  "kernelspec": {
   "display_name": "Python 3 (ipykernel)",
   "language": "python",
   "name": "python3"
  },
  "language_info": {
   "codemirror_mode": {
    "name": "ipython",
    "version": 3
   },
   "file_extension": ".py",
   "mimetype": "text/x-python",
   "name": "python",
   "nbconvert_exporter": "python",
   "pygments_lexer": "ipython3",
   "version": "3.10.12"
  }
 },
 "nbformat": 4,
 "nbformat_minor": 5
}
