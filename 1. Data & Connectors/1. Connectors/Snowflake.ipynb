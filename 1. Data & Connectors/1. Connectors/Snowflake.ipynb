{
 "cells": [
  {
   "cell_type": "markdown",
   "id": "e3c9bf11-14ea-47f7-9991-41cadba5dbe6",
   "metadata": {},
   "source": [
    "# Connectors - Snowflake\n",
    "\n",
    "[YData SDK](https://pypi.org/project/ydata-sdk/) provides a seamless integration with Snowflake, allowing you to connect,\n",
    "query, and manage your data in Snowflake with ease. This section will guide you through the benefits,\n",
    "setup, and usage of the Snowflake connector within ydata-sdk.\n",
    "\n",
    "### Benefits of Integration\n",
    "Integrating YData SDK with Snowflake offers several key benefits:\n",
    "\n",
    "- **Scalability:** Snowflake's architecture scales effortlessly with your data needs, while YData's tools ensure efficient data integration and management.\n",
    "- **Performance:** Leveraging Snowflake's high performance for data querying and YData's optimization techniques enhances overall data processing speed.\n",
    "- **Security:** Snowflake's robust security features, combined with YData's data governance capabilities, ensure your data remains secure and compliant.\n",
    "- **Interoperability:** YData SDK simplifies the process of connecting to Snowflake, allowing you to quickly set up and start using the data without extensive configuration. Benefit from the unique ydata-sdk functionalities like data preparation with Python, synthetic data generation and data profiling.\n"
   ]
  },
  {
   "cell_type": "markdown",
   "id": "d358cb66-0916-4e24-8c3e-9ebbe89c1cbc",
   "metadata": {},
   "source": "### Authenticate with your account YData"
  },
  {
   "cell_type": "code",
   "execution_count": null,
   "outputs": [],
   "source": [
    "# Authenticate with your ydata-sdk token - https://dashboard.ydata.ai/\n",
    "import os\n",
    "\n",
    "os.environ['YDATA_LICENSE_KEY'] = '{add-your-key}'"
   ],
   "metadata": {
    "collapsed": false
   },
   "id": "b26c48993c4e1fe"
  },
  {
   "metadata": {},
   "cell_type": "markdown",
   "source": "## Create a Snowflake connector",
   "id": "a9524e7727e9d06b"
  },
  {
   "metadata": {},
   "cell_type": "code",
   "outputs": [],
   "execution_count": null,
   "source": [
    "USERNAME = \"insert-username\"\n",
    "PASSWORD = \"insert-password\"\n",
    "ACCOUNT_IDENTIFIER = \"insert-account\"\n",
    "PORT = 443\n",
    "DATABASE_NAME = \"insert-DATABASE\"\n",
    "SCHEMA = \"insert-SCHEMA\"\n",
    "WAREHOUSE = \"insert-WAREHOUSE\"\n",
    "\n",
    "conn_str = {\n",
    "    \"hostname\": ACCOUNT_IDENTIFIER,\n",
    "    \"username\": USERNAME,\n",
    "    \"password\": PASSWORD,\n",
    "    \"port\": PORT,\n",
    "    \"database\": DATABASE_NAME,\n",
    "    \"warehouse\": WAREHOUSE\n",
    "}"
   ],
   "id": "6cf02f9210230205"
  },
  {
   "metadata": {},
   "cell_type": "code",
   "outputs": [],
   "execution_count": null,
   "source": [
    "from ydata.connectors import SnowflakeConnector\n",
    "\n",
    "connector = SnowflakeConnector(conn_string=conn_str)"
   ],
   "id": "e8f5d0af6d623953"
  },
  {
   "cell_type": "markdown",
   "id": "d1ab64f8-e4d8-4c08-af68-06e9870b1566",
   "metadata": {},
   "source": [
    "### Navigate your database"
   ]
  },
  {
   "cell_type": "code",
   "execution_count": 2,
   "id": "a7eca632-52d2-4fb1-8949-ace5fad6a77e",
   "metadata": {
    "tags": []
   },
   "outputs": [
    {
     "name": "stdout",
     "output_type": "stream",
     "text": [
      "INFO: 2024-05-24 20:06:32,083 Snowflake Connector for Python Version: 3.10.0, Python Version: 3.10.12, Platform: Linux-5.10.186-179.751.amzn2.x86_64-x86_64-with-glibc2.35\n",
      "INFO: 2024-05-24 20:06:32,085 This connection is in OCSP Fail Open Mode. TLS Certificates would be checked for validity and revocation status. Any other Certificate Revocation related exceptions or OCSP Responder failures would be disregarded in favor of connectivity.\n",
      "INFO: 2024-05-24 20:06:33,378 Number of results in first chunk: 1\n",
      "INFO: 2024-05-24 20:06:33,718 Number of results in first chunk: 1\n",
      "INFO: 2024-05-24 20:06:33,916 Number of results in first chunk: 1\n",
      "INFO: 2024-05-24 20:06:34,105 Number of results in first chunk: 1\n",
      "INFO: 2024-05-24 20:06:34,290 Number of results in first chunk: 1\n",
      "INFO: 2024-05-24 20:06:34,472 Number of results in first chunk: 1\n",
      "INFO: 2024-05-24 20:06:34,736 Number of results in first chunk: 3\n",
      "INFO: 2024-05-24 20:06:34,923 Number of results in first chunk: 1\n",
      "INFO: 2024-05-24 20:06:35,102 Number of results in first chunk: 1\n",
      "INFO: 2024-05-24 20:06:35,323 Number of results in first chunk: 7\n",
      "INFO: 2024-05-24 20:06:35,514 Number of results in first chunk: 1\n",
      "INFO: 2024-05-24 20:06:35,724 Number of results in first chunk: 0\n",
      "INFO: 2024-05-24 20:06:37,831 Number of results in first chunk: 76\n",
      "INFO: 2024-05-24 20:06:38,037 Number of results in first chunk: 0\n",
      "INFO: 2024-05-24 20:06:38,265 Number of results in first chunk: 0\n",
      "INFO: 2024-05-24 20:06:38,483 Number of results in first chunk: 1\n",
      "INFO: 2024-05-24 20:06:38,699 Number of results in first chunk: 1\n",
      "INFO: 2024-05-24 20:06:38,919 Number of results in first chunk: 1\n",
      "INFO: 2024-05-24 20:06:39,123 Number of results in first chunk: 1\n",
      "INFO: 2024-05-24 20:06:39,345 Number of results in first chunk: 1\n",
      "INFO: 2024-05-24 20:06:39,784 Number of results in first chunk: 1\n",
      "INFO: 2024-05-24 20:06:39,989 Number of results in first chunk: 1\n",
      "INFO: 2024-05-24 20:06:40,168 Number of results in first chunk: 1\n"
     ]
    }
   ],
   "source": [
    "#list the available schemas\n",
    "schemas = connector.list_schemas() #returns a list of schemas\n",
    "\n",
    "## get the metadata of a database schema\n",
    "schema = connector.get_database_schema(schema_name='PATIENTS')"
   ]
  },
  {
   "cell_type": "markdown",
   "id": "80f76f8b-1a8b-4606-a4c1-9ba90343daa7",
   "metadata": {
    "tags": []
   },
   "source": [
    "## Read from your Snowflake\n",
    "Using the Snowflake connector it is possible to:\n",
    "- Get the data from a Snowflake table\n",
    "- Get a sample from a Snowflake table\n",
    "- Get the data from a query to a Snowflake instance\n",
    "- Get the full data from a selected database"
   ]
  },
  {
   "cell_type": "code",
   "execution_count": 3,
   "id": "275ccdbe-b220-4926-b481-5f871653c764",
   "metadata": {
    "tags": []
   },
   "outputs": [
    {
     "name": "stdout",
     "output_type": "stream",
     "text": [
      "INFO: 2024-05-24 20:06:40,197 Snowflake Connector for Python Version: 3.10.0, Python Version: 3.10.12, Platform: Linux-5.10.186-179.751.amzn2.x86_64-x86_64-with-glibc2.35\n",
      "INFO: 2024-05-24 20:06:40,200 This connection is in OCSP Fail Open Mode. TLS Certificates would be checked for validity and revocation status. Any other Certificate Revocation related exceptions or OCSP Responder failures would be disregarded in favor of connectivity.\n",
      "INFO: 2024-05-24 20:06:40,886 Number of results in first chunk: 1\n",
      "INFO: 2024-05-24 20:06:41,067 Number of results in first chunk: 1\n",
      "INFO: 2024-05-24 20:06:41,240 Number of results in first chunk: 1\n",
      "INFO: 2024-05-24 20:06:41,427 Number of results in first chunk: 1\n",
      "INFO: 2024-05-24 20:06:41,619 Number of results in first chunk: 0\n",
      "INFO: 2024-05-24 20:06:43,651 Number of results in first chunk: 76\n",
      "INFO: 2024-05-24 20:06:43,866 Number of results in first chunk: 0\n",
      "INFO: 2024-05-24 20:06:44,057 Number of results in first chunk: 0\n",
      "INFO: 2024-05-24 20:06:44,267 Number of results in first chunk: 1\n",
      "INFO: 2024-05-24 20:06:44,446 Number of results in first chunk: 1\n",
      "INFO: 2024-05-24 20:06:44,447 closed\n",
      "INFO: 2024-05-24 20:06:44,639 No async queries seem to be running, deleting session\n",
      "INFO: 2024-05-24 20:06:44,807 Snowflake Connector for Python Version: 3.10.0, Python Version: 3.10.12, Platform: Linux-5.10.186-179.751.amzn2.x86_64-x86_64-with-glibc2.35\n",
      "INFO: 2024-05-24 20:06:44,808 This connection is in OCSP Fail Open Mode. TLS Certificates would be checked for validity and revocation status. Any other Certificate Revocation related exceptions or OCSP Responder failures would be disregarded in favor of connectivity.\n",
      "INFO: 2024-05-24 20:06:45,243 Number of results in first chunk: 1\n",
      "INFO: 2024-05-24 20:06:45,432 Number of results in first chunk: 1\n",
      "INFO: 2024-05-24 20:06:45,618 Number of results in first chunk: 1\n",
      "INFO: 2024-05-24 20:06:45,806 Number of results in first chunk: 1\n",
      "INFO: 2024-05-24 20:06:46,554 Number of results in first chunk: 5\n",
      "INFO: 2024-05-24 20:06:46,737 Number of results in first chunk: 1\n",
      "INFO: 2024-05-24 20:06:46,927 Number of results in first chunk: 1\n",
      "INFO: 2024-05-24 20:06:47,105 Number of results in first chunk: 1\n",
      "INFO: 2024-05-24 20:06:47,514 Number of results in first chunk: 1\n",
      "INFO: 2024-05-24 20:06:47,695 Number of results in first chunk: 1\n",
      "INFO: 2024-05-24 20:06:47,878 Number of results in first chunk: 1\n",
      "INFO: 2024-05-24 20:06:48,063 Number of results in first chunk: 1\n",
      "INFO: 2024-05-24 20:06:48,259 Number of results in first chunk: 1\n",
      "INFO: 2024-05-24 20:06:48,437 Number of results in first chunk: 1\n",
      "INFO: 2024-05-24 20:06:48,440 closed\n",
      "INFO: 2024-05-24 20:06:48,608 No async queries seem to be running, deleting session\n",
      "\u001B[1mDataset \n",
      " \n",
      "\u001B[0m\u001B[1mShape: \u001B[0m(1000, 12)\n",
      "\u001B[1mSchema: \u001B[0m\n",
      "         Column Variable type\n",
      "0            id           int\n",
      "1           age           int\n",
      "2        height           int\n",
      "3        weight           int\n",
      "4         ap_hi           int\n",
      "5         ap_lo           int\n",
      "6   cholesterol          bool\n",
      "7          gluc          bool\n",
      "8         smoke          bool\n",
      "9          alco          bool\n",
      "10       active          bool\n",
      "11       cardio          bool\n",
      "\n",
      "\n"
     ]
    }
   ],
   "source": [
    "table = connector.get_table(table='cardio_test')\n",
    "print(table)"
   ]
  },
  {
   "cell_type": "code",
   "execution_count": 4,
   "id": "f13e164e-666b-447d-a1e1-51f6c038b9d2",
   "metadata": {
    "tags": []
   },
   "outputs": [
    {
     "name": "stdout",
     "output_type": "stream",
     "text": [
      "INFO: 2024-05-24 20:07:37,251 Number of results in first chunk: 50\n",
      "INFO: 2024-05-24 20:07:37,253 Snowflake Connector for Python Version: 3.10.0, Python Version: 3.10.12, Platform: Linux-5.10.186-179.751.amzn2.x86_64-x86_64-with-glibc2.35\n",
      "INFO: 2024-05-24 20:07:37,254 This connection is in OCSP Fail Open Mode. TLS Certificates would be checked for validity and revocation status. Any other Certificate Revocation related exceptions or OCSP Responder failures would be disregarded in favor of connectivity.\n",
      "INFO: 2024-05-24 20:07:37,751 Number of results in first chunk: 50\n",
      "INFO: 2024-05-24 20:07:37,932 Number of results in first chunk: 1\n",
      "INFO: 2024-05-24 20:07:38,114 Number of results in first chunk: 1\n",
      "\u001B[1mDataset \n",
      " \n",
      "\u001B[0m\u001B[1mShape: \u001B[0m(50, 12)\n",
      "\u001B[1mSchema: \u001B[0m\n",
      "         Column Variable type\n",
      "0            id         float\n",
      "1           age         float\n",
      "2        height         float\n",
      "3        weight         float\n",
      "4         ap_hi         float\n",
      "5         ap_lo         float\n",
      "6   cholesterol          bool\n",
      "7          gluc          bool\n",
      "8         smoke          bool\n",
      "9          alco          bool\n",
      "10       active          bool\n",
      "11       cardio          bool\n",
      "\n",
      "\n"
     ]
    }
   ],
   "source": [
    "table_sample = connector.get_table_sample(table='cardio_test', \n",
    "                                          sample_size=50)\n",
    "print(table_sample)"
   ]
  },
  {
   "cell_type": "code",
   "execution_count": 5,
   "id": "80412745-1df9-4bed-bb18-2cff91dabe91",
   "metadata": {
    "tags": []
   },
   "outputs": [
    {
     "name": "stdout",
     "output_type": "stream",
     "text": [
      "INFO: 2024-05-24 20:07:38,476 Number of results in first chunk: 1000\n",
      "INFO: 2024-05-24 20:07:38,714 Number of results in first chunk: 1000\n",
      "INFO: 2024-05-24 20:07:38,894 Number of results in first chunk: 1\n",
      "INFO: 2024-05-24 20:07:39,077 Number of results in first chunk: 1\n",
      "\u001B[1mDataset \n",
      " \n",
      "\u001B[0m\u001B[1mShape: \u001B[0m(1000, 12)\n",
      "\u001B[1mSchema: \u001B[0m\n",
      "         Column Variable type\n",
      "0            id           int\n",
      "1           age           int\n",
      "2        height           int\n",
      "3        weight           int\n",
      "4         ap_hi           int\n",
      "5         ap_lo           int\n",
      "6   cholesterol          bool\n",
      "7          gluc          bool\n",
      "8         smoke          bool\n",
      "9          alco          bool\n",
      "10       active          bool\n",
      "11       cardio          bool\n",
      "\n",
      "\n"
     ]
    }
   ],
   "source": [
    "query_output = connector.query(query=\"SELECT * FROM patients.cardio_test;\")\n",
    "print(query_output)"
   ]
  },
  {
   "cell_type": "markdown",
   "id": "2c0116a7-6794-402b-a3b8-2304f5c032bd",
   "metadata": {},
   "source": [
    "### Read from a database\n",
    "If you need to replicate an entire database or perform actions such as joining or merging full tables, you can read all tables within a schema or a specified set of tables using the Snowflake connector. The following actions are possible with the Snowflake connector:\n",
    "\n",
    "- Read an entire database in either lazy or non-lazy mode.\n",
    "- Read a specific set of tables.\n",
    "\n",
    "#### Lazy mode\n",
    "Lazy mode in YData Fabric's RDBMs connectors allows you to create an iterator that defers reading data from the database tables until an action is required. This approach optimizes performance and resource usage by loading data only when necessary.\n",
    "\n",
    "When using lazy mode, the data is not immediately fetched from the database. Instead, the connector sets up an iterator that references the tables. Data is read only when you perform actions that require accessing the actual data, such as counting the number of rows, joining tables, or filtering data."
   ]
  },
  {
   "cell_type": "code",
   "execution_count": 6,
   "id": "aa78d8e8-d024-4393-9564-4ddf15073a2a",
   "metadata": {
    "tags": []
   },
   "outputs": [
    {
     "name": "stdout",
     "output_type": "stream",
     "text": [
      "INFO: 2024-05-24 20:07:39,369 Number of results in first chunk: 1\n",
      "INFO: 2024-05-24 20:07:39,587 Number of results in first chunk: 7\n",
      "INFO: 2024-05-24 20:07:39,771 Number of results in first chunk: 1\n",
      "INFO: 2024-05-24 20:07:39,971 Number of results in first chunk: 0\n",
      "INFO: 2024-05-24 20:07:41,421 Number of results in first chunk: 76\n",
      "INFO: 2024-05-24 20:07:41,642 Number of results in first chunk: 0\n",
      "INFO: 2024-05-24 20:07:41,860 Number of results in first chunk: 0\n",
      "INFO: 2024-05-24 20:07:42,073 Number of results in first chunk: 1\n",
      "INFO: 2024-05-24 20:07:42,273 Number of results in first chunk: 1\n",
      "INFO: 2024-05-24 20:07:42,500 Number of results in first chunk: 1\n",
      "INFO: 2024-05-24 20:07:42,693 Number of results in first chunk: 1\n",
      "INFO: 2024-05-24 20:07:42,896 Number of results in first chunk: 1\n",
      "INFO: 2024-05-24 20:07:43,112 Number of results in first chunk: 1\n",
      "INFO: 2024-05-24 20:07:43,319 Number of results in first chunk: 1\n",
      "INFO: 2024-05-24 20:07:43,495 Number of results in first chunk: 1\n",
      "\u001B[1mMultiDataset Summary \n",
      " \n",
      "\u001B[0m\u001B[1mNumber of tables: \u001B[0m7 \n",
      " \n",
      "            Table name  Num cols                         Num rows Primary keys Foreign keys Notes\n",
      "0         Cardio_fab_2        15  Number of rows not yet computed                                \n",
      "1          cardio_test        12  Number of rows not yet computed                                \n",
      "2         cardio_test2        12  Number of rows not yet computed                                \n",
      "3              disease        12  Number of rows not yet computed                                \n",
      "4  fabric_write_cardio        12  Number of rows not yet computed                                \n",
      "5           table_name         1  Number of rows not yet computed                                \n",
      "6                teste        12  Number of rows not yet computed                                \n"
     ]
    }
   ],
   "source": [
    "database = connector.read_database(lazy=True)\n",
    "print(database)"
   ]
  },
  {
   "cell_type": "code",
   "execution_count": 7,
   "id": "2924c959-4625-4996-a97b-48cc5448e04d",
   "metadata": {
    "tags": []
   },
   "outputs": [
    {
     "name": "stdout",
     "output_type": "stream",
     "text": [
      "INFO: 2024-05-24 20:07:43,548 Snowflake Connector for Python Version: 3.10.0, Python Version: 3.10.12, Platform: Linux-5.10.186-179.751.amzn2.x86_64-x86_64-with-glibc2.35\n",
      "INFO: 2024-05-24 20:07:43,555 This connection is in OCSP Fail Open Mode. TLS Certificates would be checked for validity and revocation status. Any other Certificate Revocation related exceptions or OCSP Responder failures would be disregarded in favor of connectivity.\n",
      "INFO: 2024-05-24 20:07:44,276 Number of results in first chunk: 1\n",
      "INFO: 2024-05-24 20:07:44,463 Number of results in first chunk: 1\n",
      "INFO: 2024-05-24 20:07:44,651 Number of results in first chunk: 1\n",
      "INFO: 2024-05-24 20:07:44,842 Number of results in first chunk: 1\n",
      "INFO: 2024-05-24 20:07:45,030 Number of results in first chunk: 0\n",
      "INFO: 2024-05-24 20:07:46,774 Number of results in first chunk: 76\n",
      "INFO: 2024-05-24 20:07:46,975 Number of results in first chunk: 0\n",
      "INFO: 2024-05-24 20:07:47,462 Number of results in first chunk: 0\n",
      "INFO: 2024-05-24 20:07:47,657 Number of results in first chunk: 1\n",
      "INFO: 2024-05-24 20:07:47,975 Number of results in first chunk: 1\n",
      "INFO: 2024-05-24 20:07:47,977 closed\n",
      "INFO: 2024-05-24 20:07:48,384 No async queries seem to be running, deleting session\n",
      "INFO: 2024-05-24 20:07:48,569 Snowflake Connector for Python Version: 3.10.0, Python Version: 3.10.12, Platform: Linux-5.10.186-179.751.amzn2.x86_64-x86_64-with-glibc2.35\n",
      "INFO: 2024-05-24 20:07:48,571 This connection is in OCSP Fail Open Mode. TLS Certificates would be checked for validity and revocation status. Any other Certificate Revocation related exceptions or OCSP Responder failures would be disregarded in favor of connectivity.\n",
      "INFO: 2024-05-24 20:07:49,062 Number of results in first chunk: 1\n",
      "INFO: 2024-05-24 20:07:49,288 Number of results in first chunk: 1\n",
      "INFO: 2024-05-24 20:07:49,520 Number of results in first chunk: 1\n",
      "INFO: 2024-05-24 20:07:49,697 Number of results in first chunk: 1\n",
      "INFO: 2024-05-24 20:07:49,875 Number of results in first chunk: 5\n",
      "INFO: 2024-05-24 20:07:50,127 Number of results in first chunk: 1\n",
      "INFO: 2024-05-24 20:07:50,321 Number of results in first chunk: 1\n",
      "INFO: 2024-05-24 20:07:50,553 Number of results in first chunk: 1\n",
      "INFO: 2024-05-24 20:07:50,945 Number of results in first chunk: 1\n",
      "INFO: 2024-05-24 20:07:51,120 Number of results in first chunk: 1\n",
      "INFO: 2024-05-24 20:07:51,329 Number of results in first chunk: 1\n",
      "INFO: 2024-05-24 20:07:51,506 Number of results in first chunk: 1\n",
      "INFO: 2024-05-24 20:07:51,988 Number of results in first chunk: 1\n",
      "INFO: 2024-05-24 20:07:52,165 Number of results in first chunk: 1\n",
      "INFO: 2024-05-24 20:07:52,169 closed\n",
      "INFO: 2024-05-24 20:07:52,327 No async queries seem to be running, deleting session\n",
      "INFO: 2024-05-24 20:07:52,512 Snowflake Connector for Python Version: 3.10.0, Python Version: 3.10.12, Platform: Linux-5.10.186-179.751.amzn2.x86_64-x86_64-with-glibc2.35\n",
      "INFO: 2024-05-24 20:07:52,513 This connection is in OCSP Fail Open Mode. TLS Certificates would be checked for validity and revocation status. Any other Certificate Revocation related exceptions or OCSP Responder failures would be disregarded in favor of connectivity.\n",
      "INFO: 2024-05-24 20:07:52,976 Number of results in first chunk: 1\n",
      "INFO: 2024-05-24 20:07:53,421 Number of results in first chunk: 1\n",
      "INFO: 2024-05-24 20:07:53,600 Number of results in first chunk: 1\n",
      "INFO: 2024-05-24 20:07:53,818 Number of results in first chunk: 1\n",
      "INFO: 2024-05-24 20:07:54,009 Number of results in first chunk: 0\n",
      "INFO: 2024-05-24 20:07:55,328 Number of results in first chunk: 76\n",
      "INFO: 2024-05-24 20:07:55,518 Number of results in first chunk: 0\n",
      "INFO: 2024-05-24 20:07:55,709 Number of results in first chunk: 0\n",
      "INFO: 2024-05-24 20:07:55,902 Number of results in first chunk: 1\n",
      "INFO: 2024-05-24 20:07:56,085 Number of results in first chunk: 1\n",
      "INFO: 2024-05-24 20:07:56,086 closed\n",
      "INFO: 2024-05-24 20:07:56,255 No async queries seem to be running, deleting session\n",
      "INFO: 2024-05-24 20:07:56,423 Snowflake Connector for Python Version: 3.10.0, Python Version: 3.10.12, Platform: Linux-5.10.186-179.751.amzn2.x86_64-x86_64-with-glibc2.35\n",
      "INFO: 2024-05-24 20:07:56,424 This connection is in OCSP Fail Open Mode. TLS Certificates would be checked for validity and revocation status. Any other Certificate Revocation related exceptions or OCSP Responder failures would be disregarded in favor of connectivity.\n",
      "INFO: 2024-05-24 20:07:56,990 Number of results in first chunk: 1\n",
      "INFO: 2024-05-24 20:07:57,169 Number of results in first chunk: 1\n",
      "INFO: 2024-05-24 20:07:57,353 Number of results in first chunk: 1\n",
      "INFO: 2024-05-24 20:07:57,551 Number of results in first chunk: 1\n",
      "INFO: 2024-05-24 20:07:58,120 Number of results in first chunk: 5\n",
      "INFO: 2024-05-24 20:07:58,294 Number of results in first chunk: 1\n",
      "INFO: 2024-05-24 20:07:58,473 Number of results in first chunk: 1\n",
      "INFO: 2024-05-24 20:07:58,651 Number of results in first chunk: 1\n",
      "INFO: 2024-05-24 20:07:58,832 Number of results in first chunk: 1\n",
      "INFO: 2024-05-24 20:07:59,014 Number of results in first chunk: 1\n",
      "INFO: 2024-05-24 20:07:59,200 Number of results in first chunk: 1\n",
      "INFO: 2024-05-24 20:07:59,382 Number of results in first chunk: 1\n",
      "INFO: 2024-05-24 20:07:59,563 Number of results in first chunk: 1\n",
      "INFO: 2024-05-24 20:07:59,747 Number of results in first chunk: 1\n",
      "INFO: 2024-05-24 20:07:59,750 closed\n",
      "INFO: 2024-05-24 20:07:59,921 No async queries seem to be running, deleting session\n",
      "{'cardio_test': <ydata.dataset.dataset.Dataset object at 0x7f787679ba60>, 'cardio_test2': <ydata.dataset.dataset.Dataset object at 0x7f78766d3640>}\n"
     ]
    }
   ],
   "source": [
    "tables = connector.get_tables(tables=['cardio_test', 'cardio_test2'])\n",
    "print(tables)"
   ]
  },
  {
   "cell_type": "markdown",
   "id": "525b263d-032c-473d-a10b-c51e0312e18a",
   "metadata": {},
   "source": [
    "## Write to your Snowflake\n",
    "If you need to write your data into a Snowflake instance you can also leverage your Snowflake connector for the following actions:\n",
    "\n",
    "- Write the data into a table\n",
    "- Write a new database schema"
   ]
  },
  {
   "cell_type": "code",
   "execution_count": null,
   "id": "fa0d8cfc-4146-4332-b205-7d080c374ae1",
   "metadata": {},
   "outputs": [],
   "source": [
    "# Write the data to a new table called cardio_test in the set schema\n",
    "# If exists allow you to decide wether you want to append, replace or fail in case a table with the same name already exists in the schema.\n",
    "connector.write_table(data=tables['cardio_test'],\n",
    "                      name='cardio',\n",
    "                      if_exists='fail')"
   ]
  },
  {
   "cell_type": "code",
   "execution_count": null,
   "id": "f986515b-bd35-4630-b6f0-fbc2e6a01448",
   "metadata": {},
   "outputs": [],
   "source": [
    "# Write the database as a new schema\n",
    "# table_names allow you to define a new name for the table in the database. If not provided it will be assumed the table names from your dataset.\n",
    "connector.write_database(data=database,\n",
    "                         schema_name='new_cardio',\n",
    "                         table_names={'cardio_test': 'cardio'})\n"
   ]
  }
 ],
 "metadata": {
  "kernelspec": {
   "display_name": "Python 3 (ipykernel)",
   "language": "python",
   "name": "python3"
  },
  "language_info": {
   "codemirror_mode": {
    "name": "ipython",
    "version": 3
   },
   "file_extension": ".py",
   "mimetype": "text/x-python",
   "name": "python",
   "nbconvert_exporter": "python",
   "pygments_lexer": "ipython3",
   "version": "3.10.12"
  }
 },
 "nbformat": 4,
 "nbformat_minor": 5
}
