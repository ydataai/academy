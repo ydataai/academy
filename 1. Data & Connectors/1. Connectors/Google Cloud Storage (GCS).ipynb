{
 "cells": [
  {
   "cell_type": "markdown",
   "id": "e3c9bf11-14ea-47f7-9991-41cadba5dbe6",
   "metadata": {},
   "source": [
    "# Connectors - Google Cloud Storage (GCS)\n",
    "\n",
    "In this notebook, you'll learn how to use `ydata-sdk` to connect to Google Cloud Storage (GCS) using the `GCSConnector`.\n",
    "\n",
    "This enables seamless access to GCS-hosted files for profiling, generating synthetic data, and anonymization workflows.\n",
    "\n",
    "Before you begin:\n",
    "1. Make sure you have a service account key with read and write access to your GCS Storage.\n",
    "2. This key should have access to the appropriate GCS buckets.\n",
    "\n",
    "### Benefits of Integration\n",
    "Integrating ydata-sdk with Google Cloud Storage (GCS) offers several key benefits:\n",
    "\n",
    "- **Direct Cloud Access:** Load and store data directly from GCS buckets using a unified SDK interface.\n",
    "- **Cloud-Native Workflows:** Avoid manual file downloads and local storage by operating fully in the cloud.\n",
    "- **Credential Security:** Use Google service account keys securely and consistently across environments.\n",
    "- **Integrated Tooling:** Unlock data profiling, synthesis, and Q&A generation directly from GCS data sources.\n",
    "- **Scalability & Automation:** Power reproducible pipelines and ML workflows at scale using cloud infrastructure.\n",
    "\n",
    "Before running this notebook:\n",
    "1. Ensure you have an `gcs_credentials.json` file with the necessary credentials to access the data in your GCS storage (read & write permissions)\n",
    "2. ydata-sdk installed"
   ]
  },
  {
   "cell_type": "markdown",
   "id": "d358cb66-0916-4e24-8c3e-9ebbe89c1cbc",
   "metadata": {},
   "source": "### Authenticate with your account YData"
  },
  {
   "cell_type": "code",
   "id": "72403051-83e4-4586-8839-43ad4d1ea3c4",
   "metadata": {},
   "source": [
    "# Authenticate with your ydata-sdk token - https://dashboard.ydata.ai/\n",
    "import os\n",
    "\n",
    "os.environ['YDATA_LICENSE_KEY'] = '{add-your-key}'"
   ],
   "outputs": [],
   "execution_count": null
  },
  {
   "metadata": {},
   "cell_type": "markdown",
   "source": "## Create your GCS connector",
   "id": "81db4afaa941118c"
  },
  {
   "metadata": {},
   "cell_type": "code",
   "source": [
    "from ydata.utils.formats import read_json\n",
    "\n",
    "def get_token(token_path: str):\n",
    "    \"\"\"\n",
    "    Utility to load the token from .secrets directory,\n",
    "    supporting both local and cloud environments.\n",
    "    \"\"\"\n",
    "    return read_json(token_path)\n",
    "\n",
    "token = get_token('insert-credentials-path')"
   ],
   "id": "8fa1cf75459434f5",
   "outputs": [],
   "execution_count": null
  },
  {
   "metadata": {},
   "cell_type": "code",
   "source": [
    "# 🔗 Initialize the AWS S3 connector\n",
    "from ydata.connectors import GCSConnector\n",
    "\n",
    "connector = GCSConnector(\"insert-bucket-name\", \n",
    "                         keyfile_dict=keyfile_dict)"
   ],
   "id": "fe8bc968be09dd44",
   "outputs": [],
   "execution_count": null
  },
  {
   "metadata": {},
   "cell_type": "markdown",
   "source": [
    "## Read from your Google cloud storage\n",
    "\n",
    "Using the GCS connector it is possible:\n",
    "- Read a file and a set of files from a folder\n",
    "- Get a sample of the full dataset\n",
    "- Write new data to a define folder"
   ],
   "id": "80f76f8b-1a8b-4606-a4c1-9ba90343daa7"
  },
  {
   "metadata": {},
   "cell_type": "code",
   "source": [
    "# 📁 List blobs (files) inside a specific bucket\n",
    "\n",
    "blobs = connector.list(key='insert-prefix', \n",
    "                       bucket_name='insert-bucket-name')\n",
    "print(\"Files:\", blobs)"
   ],
   "id": "196d6aaa211cfba",
   "outputs": [],
   "execution_count": null
  },
  {
   "cell_type": "code",
   "id": "80412745-1df9-4bed-bb18-2cff91dabe91",
   "metadata": {
    "tags": []
   },
   "source": [
    "# 📥 Read a file (e.g., CSV) from GCS\n",
    "from ydata.connectors.filetype import FileType\n",
    "\n",
    "file_path = \"gs://path-to-file/data.csv\"\n",
    "\n",
    "df = connector.read_file(\n",
    "    path=file_path,\n",
    "    file_type=FileType.CSV\n",
    ")\n",
    "df.head()"
   ],
   "outputs": [],
   "execution_count": null
  },
  {
   "metadata": {},
   "cell_type": "code",
   "source": [
    "# 🔍 Read a sample from the GCS file\n",
    "\n",
    "sample_df = connector.read_sample(\n",
    "    path=file_path,\n",
    "    file_type=FileType.CSV\n",
    ")\n",
    "sample_df.head()"
   ],
   "id": "29968c1a62a9e662",
   "outputs": [],
   "execution_count": null
  },
  {
   "cell_type": "markdown",
   "id": "525b263d-032c-473d-a10b-c51e0312e18a",
   "metadata": {},
   "source": "## Write to your GCS Storage"
  },
  {
   "cell_type": "code",
   "id": "fa0d8cfc-4146-4332-b205-7d080c374ae1",
   "metadata": {
    "tags": []
   },
   "source": [
    "# 📤 Write a file back to S3\n",
    "\n",
    "output_path = \"gs://path-to-file/output.csv\"\n",
    "connector.write_file(df, path=output_path)\n",
    "print(f\"File written to {output_path}\")"
   ],
   "outputs": [],
   "execution_count": null
  }
 ],
 "metadata": {
  "kernelspec": {
   "display_name": "Python 3 (ipykernel)",
   "language": "python",
   "name": "python3"
  },
  "language_info": {
   "codemirror_mode": {
    "name": "ipython",
    "version": 3
   },
   "file_extension": ".py",
   "mimetype": "text/x-python",
   "name": "python",
   "nbconvert_exporter": "python",
   "pygments_lexer": "ipython3",
   "version": "3.10.12"
  }
 },
 "nbformat": 4,
 "nbformat_minor": 5
}
