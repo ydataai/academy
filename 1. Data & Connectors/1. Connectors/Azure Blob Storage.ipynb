{
 "cells": [
  {
   "cell_type": "markdown",
   "id": "e3c9bf11-14ea-47f7-9991-41cadba5dbe6",
   "metadata": {},
   "source": [
    "# Connectors - Azure Blob Storage\n",
    "\n",
    "In this tutorial, you'll learn how to use `ydata-sdk` to interact with Azure Blob Storage.\n",
    "The `AzureBlobConnector` simplifies connecting to your Azure storage account, allowing \n",
    "you to list containers, read and sample files, and write processed or synthetic data back.\n",
    "\n",
    "### Benefits of Integration\n",
    "Integrating ydata-sdk with Azure Blob Storage offers several key benefits:\n",
    "\n",
    "- **Unified Data Access:** Directly interact with data stored in Azure without the need for custom scripts or SDK juggling.\n",
    "- **Secure and Scalable:** Leverage Azure's secure and scalable cloud infrastructure for enterprise-grade data operations.\n",
    "- **Data-Centric AI Ready:** Instantly apply ydata-sdk tools—profiling, anonymization, synthetic data generation—on data stored in Azure.\n",
    "- **Faster Prototyping and Automation:** Simplify workflows for experimentation or CI/CD pipelines with consistent, programmatic access to Azure blobs.\n",
    "- **Modular and Extensible:** Combine with other connectors or pipeline components in ydata-sdk to build reproducible, cloud-native ML pipelines.\n",
    "\n",
    "Before running this notebook:\n",
    "1. Ensure you have an `azure_credentials.json` file with the necessary credentials to access the data in your AzureBlobStorage (read & write permissions)\n",
    "2. ydata-sdk installed"
   ]
  },
  {
   "cell_type": "markdown",
   "id": "d358cb66-0916-4e24-8c3e-9ebbe89c1cbc",
   "metadata": {},
   "source": "### Authenticate with your YData account"
  },
  {
   "cell_type": "code",
   "execution_count": null,
   "id": "72403051-83e4-4586-8839-43ad4d1ea3c4",
   "metadata": {},
   "outputs": [],
   "source": [
    "# Authenticate with your ydata-sdk token - https://dashboard.ydata.ai/\n",
    "import os\n",
    "\n",
    "os.environ['YDATA_LICENSE_KEY'] = '{add-your-key}'"
   ]
  },
  {
   "metadata": {},
   "cell_type": "markdown",
   "source": "## Create your Azure Blob Storage connector",
   "id": "81db4afaa941118c"
  },
  {
   "metadata": {},
   "cell_type": "code",
   "outputs": [],
   "execution_count": null,
   "source": [
    "from ydata.utils.formats import read_json\n",
    "\n",
    "def get_token(token_path: str):\n",
    "    \"\"\"\n",
    "    Utility to load the token from .secrets directory,\n",
    "    supporting both local and cloud environments.\n",
    "    \"\"\"\n",
    "    return read_json(token_path)\n",
    "\n",
    "token = get_token('insert-credentials-path')"
   ],
   "id": "8fa1cf75459434f5"
  },
  {
   "metadata": {},
   "cell_type": "code",
   "outputs": [],
   "execution_count": null,
   "source": [
    "# 🔗 Initialize the Azure Blob connector\n",
    "from ydata.connectors import AzureBlobConnector\n",
    "\n",
    "connector = AzureBlobConnector(**token)"
   ],
   "id": "fe8bc968be09dd44"
  },
  {
   "metadata": {},
   "cell_type": "markdown",
   "source": [
    "## Read from your Azure Blob Storage\n",
    "\n",
    "Using the AzureBlobStorage connector it is possible:\n",
    "- Read a file and a set of files from a blob\n",
    "- Get a sample of the full dataset\n",
    "- Write new data to a define blob"
   ],
   "id": "80f76f8b-1a8b-4606-a4c1-9ba90343daa7"
  },
  {
   "metadata": {},
   "cell_type": "code",
   "outputs": [],
   "execution_count": null,
   "source": [
    "# 📦 List all containers in the Azure Storage Account\n",
    "containers = connector.list()\n",
    "print(\"Containers:\", containers)"
   ],
   "id": "f7b21a3a5bd08ba1"
  },
  {
   "metadata": {},
   "cell_type": "code",
   "outputs": [],
   "execution_count": null,
   "source": [
    "# 📁 List all blobs in a specific container\n",
    "\n",
    "# Replace with your actual container and prefix path\n",
    "container_path = \"abfs://your-container-name\"\n",
    "blobs = connector.list(path=container_path)\n",
    "print(\"Blobs:\", blobs)"
   ],
   "id": "196d6aaa211cfba"
  },
  {
   "cell_type": "code",
   "execution_count": 11,
   "id": "80412745-1df9-4bed-bb18-2cff91dabe91",
   "metadata": {
    "tags": []
   },
   "outputs": [
    {
     "name": "stdout",
     "output_type": "stream",
     "text": [
      "INFO: 2024-06-11 22:08:56,902 Successfully opened session 01ef283f-328f-115a-a977-2da27926d77a\n",
      "\u001B[1mDataset \n",
      " \n",
      "\u001B[0m\u001B[1mShape: \u001B[0m(5000, 13)\n",
      "\u001B[1mSchema: \u001B[0m\n",
      "         Column Variable type\n",
      "0            id        string\n",
      "1           age           int\n",
      "2        gender           int\n",
      "3        height           int\n",
      "4        weight         float\n",
      "5         ap_hi           int\n",
      "6         ap_lo           int\n",
      "7   cholesterol           int\n",
      "8          gluc           int\n",
      "9         smoke           int\n",
      "10         alco           int\n",
      "11       active           int\n",
      "12       cardio           int\n",
      "\n",
      "\n"
     ]
    }
   ],
   "source": [
    "# 📥 Read a CSV file from Azure Blob Storage\n",
    "from ydata.connectors.filetype import FileType\n",
    "\n",
    "csv_path = \"https://your-storage-url/path/to/data.csv\"\n",
    "\n",
    "df = connector.read_file(\n",
    "    path=csv_path,\n",
    "    file_type=FileType.CSV\n",
    ")\n",
    "df.head()"
   ]
  },
  {
   "metadata": {},
   "cell_type": "code",
   "outputs": [],
   "execution_count": null,
   "source": [
    "# 🔍 Read a sample of the CSV file\n",
    "\n",
    "sample_df = connector.read_sample(\n",
    "    path=\"abfs://your-c-name/path/to/data.csv\",\n",
    "    file_type=FileType.CSV\n",
    ")\n",
    "sample_df.head()"
   ],
   "id": "29968c1a62a9e662"
  },
  {
   "cell_type": "markdown",
   "id": "525b263d-032c-473d-a10b-c51e0312e18a",
   "metadata": {},
   "source": "## Write to your Azure Blob Storage"
  },
  {
   "cell_type": "code",
   "execution_count": 17,
   "id": "fa0d8cfc-4146-4332-b205-7d080c374ae1",
   "metadata": {
    "tags": []
   },
   "outputs": [
    {
     "name": "stdout",
     "output_type": "stream",
     "text": [
      "WARNING: 2024-06-11 22:14:05,486 Some parameters are only considered for CSV files: \"sep\", \"has_header\" and \"columns\".\n"
     ]
    }
   ],
   "source": [
    "# 📤 Write data back to Azure Blob Storage\n",
    "\n",
    "output_path = \"abfs://your-container-name/path/to/output.csv\"\n",
    "connector.write_file(df, path=output_path)\n",
    "print(f\"File written to {output_path}\")"
   ]
  }
 ],
 "metadata": {
  "kernelspec": {
   "display_name": "Python 3 (ipykernel)",
   "language": "python",
   "name": "python3"
  },
  "language_info": {
   "codemirror_mode": {
    "name": "ipython",
    "version": 3
   },
   "file_extension": ".py",
   "mimetype": "text/x-python",
   "name": "python",
   "nbconvert_exporter": "python",
   "pygments_lexer": "ipython3",
   "version": "3.10.12"
  }
 },
 "nbformat": 4,
 "nbformat_minor": 5
}
