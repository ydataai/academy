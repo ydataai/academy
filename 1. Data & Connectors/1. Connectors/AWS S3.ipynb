{
 "cells": [
  {
   "cell_type": "markdown",
   "id": "e3c9bf11-14ea-47f7-9991-41cadba5dbe6",
   "metadata": {},
   "source": [
    "# Connectors - AWS S3\n",
    "\n",
    "In this tutorial, you'll learn how to use `ydata-sdk` to connect to AWS S3. \n",
    "The `S3Connector` allows you to list buckets, read/write files, and sample datasets stored in S3.\n",
    "\n",
    "This is useful for integrating synthetic data workflows into cloud-native or hybrid ML pipelines.\n",
    "Make sure you have your AWS credentials (e.g., access key and secret key) available and with read and write access.\n",
    "\n",
    "### Benefits of Integration\n",
    "Integrating ydata-sdk with AWS S3 offers several key benefits:\n",
    "\n",
    "- **Seamless Cloud Access:** Easily browse, read, and write data from S3 buckets using a unified SDK interface.\n",
    "- **Cloud-Native Workflows:** Connect directly to your S3-based data lake to enable profiling, synthesis, and anonymization without local downloads.\n",
    "- **SDK-Wide Compatibility:** All features of ydata-sdk — from Q&A generation to synthetic tabular data—can operate directly on S3-hosted files.\n",
    "- **Scalable & Automated:** Ideal for automating recurring workflows or powering large-scale pipelines with S3 as a data backend.\n",
    "\n",
    "Before running this notebook:\n",
    "1. Ensure you have an `aws_credentials.json` file with the necessary credentials to access the data in your AWS S3 storage (read & write permissions)\n",
    "2. ydata-sdk installed"
   ]
  },
  {
   "cell_type": "markdown",
   "id": "d358cb66-0916-4e24-8c3e-9ebbe89c1cbc",
   "metadata": {},
   "source": "### Authenticate with your YData account"
  },
  {
   "cell_type": "code",
   "id": "72403051-83e4-4586-8839-43ad4d1ea3c4",
   "metadata": {
    "ExecuteTime": {
     "end_time": "2025-05-07T22:29:43.053491Z",
     "start_time": "2025-05-07T22:29:43.051320Z"
    }
   },
   "source": [
    "# Authenticate with your ydata-sdk token - https://dashboard.ydata.ai/\n",
    "import os\n",
    "\n",
    "os.environ['YDATA_LICENSE_KEY'] = '{add-your-key}'"
   ],
   "outputs": [],
   "execution_count": 2
  },
  {
   "metadata": {},
   "cell_type": "markdown",
   "source": "## Create your AWS S3 connector",
   "id": "81db4afaa941118c"
  },
  {
   "metadata": {
    "ExecuteTime": {
     "end_time": "2025-05-07T22:30:49.560512Z",
     "start_time": "2025-05-07T22:30:49.555848Z"
    }
   },
   "cell_type": "code",
   "source": [
    "from ydata.utils.formats import read_json\n",
    "\n",
    "def get_token(token_path: str):\n",
    "    \"\"\"\n",
    "    Utility to load the token from .secrets directory,\n",
    "    supporting both local and cloud environments.\n",
    "    \"\"\"\n",
    "    return read_json(token_path)\n",
    "\n",
    "token = get_token('insert-credentials-path')"
   ],
   "id": "8fa1cf75459434f5",
   "outputs": [],
   "execution_count": 3
  },
  {
   "metadata": {
    "ExecuteTime": {
     "end_time": "2025-05-07T22:31:06.148188Z",
     "start_time": "2025-05-07T22:30:51.799638Z"
    }
   },
   "cell_type": "code",
   "source": [
    "# 🔗 Initialize the AWS S3 connector\n",
    "from ydata.connectors import S3Connector\n",
    "\n",
    "connector = S3Connector(**token)"
   ],
   "id": "fe8bc968be09dd44",
   "outputs": [],
   "execution_count": 4
  },
  {
   "metadata": {},
   "cell_type": "markdown",
   "source": [
    "## Read from your AWS S3\n",
    "\n",
    "Using the AWS S3 connector it is possible:\n",
    "- Read a file and a set of files from a folder\n",
    "- Get a sample of the full dataset\n",
    "- Write new data to a define folder"
   ],
   "id": "80f76f8b-1a8b-4606-a4c1-9ba90343daa7"
  },
  {
   "metadata": {
    "ExecuteTime": {
     "end_time": "2025-05-07T22:31:36.635281Z",
     "start_time": "2025-05-07T22:31:35.329881Z"
    }
   },
   "cell_type": "code",
   "source": [
    "# 🪣 List all S3 buckets\n",
    "\n",
    "# We can check the contents of a certain bucket\n",
    "connector.list(bucket_name='insert-bucket-name')"
   ],
   "id": "f7b21a3a5bd08ba1",
   "outputs": [
    {
     "name": "stdout",
     "output_type": "stream",
     "text": [
      "Buckets: {'keys': [], 'prefixes': ['cardio', 'data-profiling', 'db_home_credit_risk', 'duarte', 'portela', 'regular', 'synthea_database', 'synthetic_data', 'syntheticdata', 'test_dbx', 'timeseries']}\n"
     ]
    }
   ],
   "execution_count": 7
  },
  {
   "metadata": {
    "ExecuteTime": {
     "end_time": "2025-05-07T22:33:08.248126Z",
     "start_time": "2025-05-07T22:33:07.635836Z"
    }
   },
   "cell_type": "code",
   "source": [
    "# We can check the contents of the prefix\n",
    "# We only have 1 key now, but there are other prefixes we can explore\n",
    "connector.list(bucket_name='insert-bucket-name', \n",
    "               prefix='insert-prefix')"
   ],
   "id": "196d6aaa211cfba",
   "outputs": [
    {
     "data": {
      "text/plain": [
       "{'keys': [],\n",
       " 'prefixes': ['__unitystorage',\n",
       "  'cardio',\n",
       "  'cardio_new',\n",
       "  'cardio_synthetic',\n",
       "  'credit_lending',\n",
       "  'credit_scoring.csv']}"
      ]
     },
     "execution_count": 11,
     "metadata": {},
     "output_type": "execute_result"
    }
   ],
   "execution_count": 11
  },
  {
   "metadata": {},
   "cell_type": "code",
   "outputs": [],
   "execution_count": null,
   "source": [
    "# List available files under a specific folder\n",
    "connector.list(bucket_name='insert-bucket-name', \n",
    "               prefix='syntheticdata/census')['keys']"
   ],
   "id": "a30be7cd4d40251c"
  },
  {
   "cell_type": "code",
   "id": "80412745-1df9-4bed-bb18-2cff91dabe91",
   "metadata": {
    "tags": [],
    "ExecuteTime": {
     "end_time": "2025-05-07T22:34:26.852315Z",
     "start_time": "2025-05-07T22:34:09.846682Z"
    }
   },
   "source": [
    "# 📥 Read a file from S3\n",
    "from ydata.connectors.filetype import FileType\n",
    "\n",
    "file_path = \"s3://your-bucket-name/path/to/data.csv\"\n",
    "df = connector.read_file(\n",
    "    path=file_path,\n",
    "    file_type=FileType.CSV\n",
    ")\n",
    "df.head()"
   ],
   "outputs": [
    {
     "name": "stderr",
     "output_type": "stream",
     "text": [
      "/opt/anaconda3/envs/ydatasdk/lib/python3.12/site-packages/dask/dataframe/__init__.py:49: FutureWarning: \n",
      "Dask dataframe query planning is disabled because dask-expr is not installed.\n",
      "\n",
      "You can install it with `pip install dask[dataframe]` or `conda install dask`.\n",
      "This will raise in a future version.\n",
      "\n",
      "  warnings.warn(msg, FutureWarning)\n"
     ]
    },
    {
     "data": {
      "text/plain": [
       "     age  gender  height  weight  ap_hi  ap_lo  cholesterol  gluc  smoke  \\\n",
       "0  18393       2     168    62.0    110     80            1     1      0   \n",
       "1  20228       1     156    85.0    140     90            3     1      0   \n",
       "2  18857       1     165    64.0    130     70            3     1      0   \n",
       "3  17623       2     169    82.0    150    100            1     1      0   \n",
       "4  17474       1     156    56.0    100     60            1     1      0   \n",
       "\n",
       "   alco  active  cardio  \n",
       "0     0       1       0  \n",
       "1     0       1       1  \n",
       "2     0       0       1  \n",
       "3     0       1       1  \n",
       "4     0       0       0  "
      ],
      "text/html": [
       "<div>\n",
       "<style scoped>\n",
       "    .dataframe tbody tr th:only-of-type {\n",
       "        vertical-align: middle;\n",
       "    }\n",
       "\n",
       "    .dataframe tbody tr th {\n",
       "        vertical-align: top;\n",
       "    }\n",
       "\n",
       "    .dataframe thead th {\n",
       "        text-align: right;\n",
       "    }\n",
       "</style>\n",
       "<table border=\"1\" class=\"dataframe\">\n",
       "  <thead>\n",
       "    <tr style=\"text-align: right;\">\n",
       "      <th></th>\n",
       "      <th>age</th>\n",
       "      <th>gender</th>\n",
       "      <th>height</th>\n",
       "      <th>weight</th>\n",
       "      <th>ap_hi</th>\n",
       "      <th>ap_lo</th>\n",
       "      <th>cholesterol</th>\n",
       "      <th>gluc</th>\n",
       "      <th>smoke</th>\n",
       "      <th>alco</th>\n",
       "      <th>active</th>\n",
       "      <th>cardio</th>\n",
       "    </tr>\n",
       "  </thead>\n",
       "  <tbody>\n",
       "    <tr>\n",
       "      <th>0</th>\n",
       "      <td>18393</td>\n",
       "      <td>2</td>\n",
       "      <td>168</td>\n",
       "      <td>62.0</td>\n",
       "      <td>110</td>\n",
       "      <td>80</td>\n",
       "      <td>1</td>\n",
       "      <td>1</td>\n",
       "      <td>0</td>\n",
       "      <td>0</td>\n",
       "      <td>1</td>\n",
       "      <td>0</td>\n",
       "    </tr>\n",
       "    <tr>\n",
       "      <th>1</th>\n",
       "      <td>20228</td>\n",
       "      <td>1</td>\n",
       "      <td>156</td>\n",
       "      <td>85.0</td>\n",
       "      <td>140</td>\n",
       "      <td>90</td>\n",
       "      <td>3</td>\n",
       "      <td>1</td>\n",
       "      <td>0</td>\n",
       "      <td>0</td>\n",
       "      <td>1</td>\n",
       "      <td>1</td>\n",
       "    </tr>\n",
       "    <tr>\n",
       "      <th>2</th>\n",
       "      <td>18857</td>\n",
       "      <td>1</td>\n",
       "      <td>165</td>\n",
       "      <td>64.0</td>\n",
       "      <td>130</td>\n",
       "      <td>70</td>\n",
       "      <td>3</td>\n",
       "      <td>1</td>\n",
       "      <td>0</td>\n",
       "      <td>0</td>\n",
       "      <td>0</td>\n",
       "      <td>1</td>\n",
       "    </tr>\n",
       "    <tr>\n",
       "      <th>3</th>\n",
       "      <td>17623</td>\n",
       "      <td>2</td>\n",
       "      <td>169</td>\n",
       "      <td>82.0</td>\n",
       "      <td>150</td>\n",
       "      <td>100</td>\n",
       "      <td>1</td>\n",
       "      <td>1</td>\n",
       "      <td>0</td>\n",
       "      <td>0</td>\n",
       "      <td>1</td>\n",
       "      <td>1</td>\n",
       "    </tr>\n",
       "    <tr>\n",
       "      <th>4</th>\n",
       "      <td>17474</td>\n",
       "      <td>1</td>\n",
       "      <td>156</td>\n",
       "      <td>56.0</td>\n",
       "      <td>100</td>\n",
       "      <td>60</td>\n",
       "      <td>1</td>\n",
       "      <td>1</td>\n",
       "      <td>0</td>\n",
       "      <td>0</td>\n",
       "      <td>0</td>\n",
       "      <td>0</td>\n",
       "    </tr>\n",
       "  </tbody>\n",
       "</table>\n",
       "</div>"
      ]
     },
     "execution_count": 12,
     "metadata": {},
     "output_type": "execute_result"
    }
   ],
   "execution_count": 12
  },
  {
   "metadata": {
    "ExecuteTime": {
     "end_time": "2025-05-07T22:34:34.194982Z",
     "start_time": "2025-05-07T22:34:26.858461Z"
    }
   },
   "cell_type": "code",
   "source": [
    "# 🔍 Read a sample from the S3 file\n",
    "\n",
    "sample_df = connector.read_sample(\n",
    "    path=file_path,\n",
    "    file_type=FileType.CSV\n",
    ")\n",
    "sample_df.head()"
   ],
   "id": "29968c1a62a9e662",
   "outputs": [
    {
     "name": "stderr",
     "output_type": "stream",
     "text": [
      "/opt/anaconda3/envs/ydatasdk/lib/python3.12/site-packages/dask/dataframe/__init__.py:49: FutureWarning: \n",
      "Dask dataframe query planning is disabled because dask-expr is not installed.\n",
      "\n",
      "You can install it with `pip install dask[dataframe]` or `conda install dask`.\n",
      "This will raise in a future version.\n",
      "\n",
      "  warnings.warn(msg, FutureWarning)\n"
     ]
    },
    {
     "data": {
      "text/plain": [
       "     age  gender  height  weight  ap_hi  ap_lo  cholesterol  gluc  smoke  \\\n",
       "0  18393       2     168    62.0    110     80            1     1      0   \n",
       "1  20228       1     156    85.0    140     90            3     1      0   \n",
       "2  18857       1     165    64.0    130     70            3     1      0   \n",
       "3  17623       2     169    82.0    150    100            1     1      0   \n",
       "4  17474       1     156    56.0    100     60            1     1      0   \n",
       "\n",
       "   alco  active  cardio  \n",
       "0     0       1       0  \n",
       "1     0       1       1  \n",
       "2     0       0       1  \n",
       "3     0       1       1  \n",
       "4     0       0       0  "
      ],
      "text/html": [
       "<div>\n",
       "<style scoped>\n",
       "    .dataframe tbody tr th:only-of-type {\n",
       "        vertical-align: middle;\n",
       "    }\n",
       "\n",
       "    .dataframe tbody tr th {\n",
       "        vertical-align: top;\n",
       "    }\n",
       "\n",
       "    .dataframe thead th {\n",
       "        text-align: right;\n",
       "    }\n",
       "</style>\n",
       "<table border=\"1\" class=\"dataframe\">\n",
       "  <thead>\n",
       "    <tr style=\"text-align: right;\">\n",
       "      <th></th>\n",
       "      <th>age</th>\n",
       "      <th>gender</th>\n",
       "      <th>height</th>\n",
       "      <th>weight</th>\n",
       "      <th>ap_hi</th>\n",
       "      <th>ap_lo</th>\n",
       "      <th>cholesterol</th>\n",
       "      <th>gluc</th>\n",
       "      <th>smoke</th>\n",
       "      <th>alco</th>\n",
       "      <th>active</th>\n",
       "      <th>cardio</th>\n",
       "    </tr>\n",
       "  </thead>\n",
       "  <tbody>\n",
       "    <tr>\n",
       "      <th>0</th>\n",
       "      <td>18393</td>\n",
       "      <td>2</td>\n",
       "      <td>168</td>\n",
       "      <td>62.0</td>\n",
       "      <td>110</td>\n",
       "      <td>80</td>\n",
       "      <td>1</td>\n",
       "      <td>1</td>\n",
       "      <td>0</td>\n",
       "      <td>0</td>\n",
       "      <td>1</td>\n",
       "      <td>0</td>\n",
       "    </tr>\n",
       "    <tr>\n",
       "      <th>1</th>\n",
       "      <td>20228</td>\n",
       "      <td>1</td>\n",
       "      <td>156</td>\n",
       "      <td>85.0</td>\n",
       "      <td>140</td>\n",
       "      <td>90</td>\n",
       "      <td>3</td>\n",
       "      <td>1</td>\n",
       "      <td>0</td>\n",
       "      <td>0</td>\n",
       "      <td>1</td>\n",
       "      <td>1</td>\n",
       "    </tr>\n",
       "    <tr>\n",
       "      <th>2</th>\n",
       "      <td>18857</td>\n",
       "      <td>1</td>\n",
       "      <td>165</td>\n",
       "      <td>64.0</td>\n",
       "      <td>130</td>\n",
       "      <td>70</td>\n",
       "      <td>3</td>\n",
       "      <td>1</td>\n",
       "      <td>0</td>\n",
       "      <td>0</td>\n",
       "      <td>0</td>\n",
       "      <td>1</td>\n",
       "    </tr>\n",
       "    <tr>\n",
       "      <th>3</th>\n",
       "      <td>17623</td>\n",
       "      <td>2</td>\n",
       "      <td>169</td>\n",
       "      <td>82.0</td>\n",
       "      <td>150</td>\n",
       "      <td>100</td>\n",
       "      <td>1</td>\n",
       "      <td>1</td>\n",
       "      <td>0</td>\n",
       "      <td>0</td>\n",
       "      <td>1</td>\n",
       "      <td>1</td>\n",
       "    </tr>\n",
       "    <tr>\n",
       "      <th>4</th>\n",
       "      <td>17474</td>\n",
       "      <td>1</td>\n",
       "      <td>156</td>\n",
       "      <td>56.0</td>\n",
       "      <td>100</td>\n",
       "      <td>60</td>\n",
       "      <td>1</td>\n",
       "      <td>1</td>\n",
       "      <td>0</td>\n",
       "      <td>0</td>\n",
       "      <td>0</td>\n",
       "      <td>0</td>\n",
       "    </tr>\n",
       "  </tbody>\n",
       "</table>\n",
       "</div>"
      ]
     },
     "execution_count": 13,
     "metadata": {},
     "output_type": "execute_result"
    }
   ],
   "execution_count": 13
  },
  {
   "cell_type": "markdown",
   "id": "525b263d-032c-473d-a10b-c51e0312e18a",
   "metadata": {},
   "source": "## Write to your AWS S3 Storage"
  },
  {
   "cell_type": "code",
   "id": "fa0d8cfc-4146-4332-b205-7d080c374ae1",
   "metadata": {
    "tags": []
   },
   "source": [
    "# 📤 Write a file back to S3\n",
    "\n",
    "output_path = \"s3://your-bucket-name/path/to/output.csv\"\n",
    "connector.write_file(df, path=output_path)\n",
    "print(f\"File written to {output_path}\")"
   ],
   "outputs": [],
   "execution_count": null
  }
 ],
 "metadata": {
  "kernelspec": {
   "display_name": "Python 3 (ipykernel)",
   "language": "python",
   "name": "python3"
  },
  "language_info": {
   "codemirror_mode": {
    "name": "ipython",
    "version": 3
   },
   "file_extension": ".py",
   "mimetype": "text/x-python",
   "name": "python",
   "nbconvert_exporter": "python",
   "pygments_lexer": "ipython3",
   "version": "3.10.12"
  }
 },
 "nbformat": 4,
 "nbformat_minor": 5
}
