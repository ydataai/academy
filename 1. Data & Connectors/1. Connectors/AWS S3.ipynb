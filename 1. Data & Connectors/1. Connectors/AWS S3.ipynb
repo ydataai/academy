{
 "cells": [
  {
   "cell_type": "markdown",
   "id": "e3c9bf11-14ea-47f7-9991-41cadba5dbe6",
   "metadata": {},
   "source": [
    "# Connectors - AWS S3\n",
    "\n",
    "In this tutorial, you'll learn how to use `ydata-sdk` to connect to AWS S3. \n",
    "The `S3Connector` allows you to list buckets, read/write files, and sample datasets stored in S3.\n",
    "\n",
    "This is useful for integrating synthetic data workflows into cloud-native or hybrid ML pipelines.\n",
    "Make sure you have your AWS credentials (e.g., access key and secret key) available and with read and write access.\n",
    "\n",
    "### Benefits of Integration\n",
    "Integrating ydata-sdk with AWS S3 offers several key benefits:\n",
    "\n",
    "- **Seamless Cloud Access:** Easily browse, read, and write data from S3 buckets using a unified SDK interface.\n",
    "- **Cloud-Native Workflows:** Connect directly to your S3-based data lake to enable profiling, synthesis, and anonymization without local downloads.\n",
    "- **SDK-Wide Compatibility:** All features of ydata-sdk — from Q&A generation to synthetic tabular data—can operate directly on S3-hosted files.\n",
    "- **Scalable & Automated:** Ideal for automating recurring workflows or powering large-scale pipelines with S3 as a data backend.\n",
    "\n",
    "Before running this notebook:\n",
    "1. Ensure you have an `aws_credentials.json` file with the necessary credentials to access the data in your AWS S3 storage (read & write permissions)\n",
    "2. ydata-sdk installed"
   ]
  },
  {
   "cell_type": "markdown",
   "id": "d358cb66-0916-4e24-8c3e-9ebbe89c1cbc",
   "metadata": {},
   "source": "### Authenticate with your account YData"
  },
  {
   "cell_type": "code",
   "id": "72403051-83e4-4586-8839-43ad4d1ea3c4",
   "metadata": {},
   "source": [
    "# Authenticate with your ydata-sdk token - https://dashboard.ydata.ai/\n",
    "import os\n",
    "\n",
    "os.environ['YDATA_LICENSE_KEY'] = '{add-your-key}'"
   ],
   "outputs": [],
   "execution_count": null
  },
  {
   "metadata": {},
   "cell_type": "markdown",
   "source": "## Create your AWS S3 connector",
   "id": "81db4afaa941118c"
  },
  {
   "metadata": {},
   "cell_type": "code",
   "source": [
    "from ydata.utils.formats import read_json\n",
    "\n",
    "def get_token(token_path: str):\n",
    "    \"\"\"\n",
    "    Utility to load the token from .secrets directory,\n",
    "    supporting both local and cloud environments.\n",
    "    \"\"\"\n",
    "    return read_json(token_path)\n",
    "\n",
    "token = get_token('insert-credentials-path')"
   ],
   "id": "8fa1cf75459434f5",
   "outputs": [],
   "execution_count": null
  },
  {
   "metadata": {},
   "cell_type": "code",
   "source": [
    "# 🔗 Initialize the AWS S3 connector\n",
    "from ydata.connectors import S3Connector\n",
    "\n",
    "connector = S3Connector(**token)"
   ],
   "id": "fe8bc968be09dd44",
   "outputs": [],
   "execution_count": null
  },
  {
   "metadata": {},
   "cell_type": "markdown",
   "source": [
    "## Read from your AWS S3\n",
    "\n",
    "Using the AWS S3 connector it is possible:\n",
    "- Read a file and a set of files from a folder\n",
    "- Get a sample of the full dataset\n",
    "- Write new data to a define folder"
   ],
   "id": "80f76f8b-1a8b-4606-a4c1-9ba90343daa7"
  },
  {
   "metadata": {},
   "cell_type": "code",
   "source": [
    "# 🪣 List all S3 buckets\n",
    "\n",
    "buckets = connector.list()\n",
    "print(\"Buckets:\", buckets)"
   ],
   "id": "f7b21a3a5bd08ba1",
   "outputs": [],
   "execution_count": null
  },
  {
   "metadata": {},
   "cell_type": "code",
   "source": [
    "# 📁 List files inside a specific S3 bucket\n",
    "\n",
    "bucket_path = \"s3://your-bucket-name/\"\n",
    "files = connector.list(path=bucket_path)\n",
    "print(\"Files:\", files)"
   ],
   "id": "196d6aaa211cfba",
   "outputs": [],
   "execution_count": null
  },
  {
   "cell_type": "code",
   "id": "80412745-1df9-4bed-bb18-2cff91dabe91",
   "metadata": {
    "tags": []
   },
   "source": [
    "# 📥 Read a file from S3\n",
    "from ydata.connectors.filetype import FileType\n",
    "\n",
    "file_path = \"s3://your-bucket-name/path/to/data.csv\"\n",
    "df = connector.read_file(\n",
    "    path=file_path,\n",
    "    file_type=FileType.CSV\n",
    ")\n",
    "df.head()"
   ],
   "outputs": [],
   "execution_count": null
  },
  {
   "metadata": {},
   "cell_type": "code",
   "source": [
    "# 🔍 Read a sample from the S3 file\n",
    "\n",
    "sample_df = connector.read_sample(\n",
    "    path=file_path,\n",
    "    file_type=FileType.CSV\n",
    ")\n",
    "sample_df.head()"
   ],
   "id": "29968c1a62a9e662",
   "outputs": [],
   "execution_count": null
  },
  {
   "cell_type": "markdown",
   "id": "525b263d-032c-473d-a10b-c51e0312e18a",
   "metadata": {},
   "source": "## Write to your AWS S3 Storage"
  },
  {
   "cell_type": "code",
   "id": "fa0d8cfc-4146-4332-b205-7d080c374ae1",
   "metadata": {
    "tags": []
   },
   "source": [
    "# 📤 Write a file back to S3\n",
    "\n",
    "output_path = \"s3://your-bucket-name/path/to/output.csv\"\n",
    "connector.write_file(df, path=output_path)\n",
    "print(f\"File written to {output_path}\")"
   ],
   "outputs": [],
   "execution_count": null
  }
 ],
 "metadata": {
  "kernelspec": {
   "display_name": "Python 3 (ipykernel)",
   "language": "python",
   "name": "python3"
  },
  "language_info": {
   "codemirror_mode": {
    "name": "ipython",
    "version": 3
   },
   "file_extension": ".py",
   "mimetype": "text/x-python",
   "name": "python",
   "nbconvert_exporter": "python",
   "pygments_lexer": "ipython3",
   "version": "3.10.12"
  }
 },
 "nbformat": 4,
 "nbformat_minor": 5
}
