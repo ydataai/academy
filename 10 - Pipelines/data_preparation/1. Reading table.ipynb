{
 "cells": [
  {
   "cell_type": "markdown",
   "id": "4f8aae52-85c5-4375-bff3-5b407a348882",
   "metadata": {
    "tags": []
   },
   "source": [
    "# Read table from database"
   ]
  },
  {
   "cell_type": "code",
   "execution_count": null,
   "outputs": [],
   "source": [
    "import os\n",
    "# Importing YData's packages\n",
    "from ydata.labs import Connectors\n",
    "# Getting a previously created Connector\n",
    "connector = Connectors.get(uid='{connector-id}',\n",
    "                           namespace='{namespace-id}')\n",
    "print(connector)"
   ],
   "metadata": {
    "collapsed": false
   }
  },
  {
   "cell_type": "code",
   "execution_count": 21,
   "id": "8e0c2552-4987-4af8-b43c-20c79bfbd6b6",
   "metadata": {
    "tags": []
   },
   "outputs": [],
   "source": [
    "table = os.getenv('table', 'dimcustomer')"
   ]
  },
  {
   "cell_type": "code",
   "execution_count": 22,
   "id": "fd4a5972-7f6b-4eda-89bd-97854b02e5aa",
   "metadata": {
    "tags": []
   },
   "outputs": [],
   "source": [
    "dataset = connector.connector.query(f\"SELECT * FROM {table};\")\n",
    "df = dataset.to_pandas()\n",
    "sample = df.head(10)"
   ]
  },
  {
   "cell_type": "markdown",
   "id": "b960d1ba-8d31-4226-b741-81996981955c",
   "metadata": {},
   "source": [
    "## Calculating the Metadata & the Profile"
   ]
  },
  {
   "cell_type": "code",
   "execution_count": 23,
   "id": "16685ece-a8ba-4cd7-9f71-dfcf8e71de39",
   "metadata": {
    "tags": []
   },
   "outputs": [
    {
     "name": "stderr",
     "output_type": "stream",
     "text": [
      "/tmp/ipykernel_502/926253412.py:15: FutureWarning: The default value of regex will change from True to False in a future version. In addition, single character regular expressions will *not* be treated as literal strings when regex=True.\n",
      "  df[col]=df[col].str.replace('$', '').str.replace(',', '').astype('float')\n"
     ]
    }
   ],
   "source": [
    "from ydata.metadata import Metadata\n",
    "\n",
    "if table == 'dimproduct':\n",
    "    cols = ['productkey', 'productalternatekey', 'englishproductname', 'standardcost','listprice', 'dealerprice','status', 'startdate', 'enddate']\n",
    "    df=df[cols]\n",
    "elif table == 'factinternetsales':\n",
    "    #prep the original dataset\n",
    "    cols=['unitprice','productstandardcost', 'totalproductcost', 'salesamount', 'taxamt','extendedamount', 'freight']\n",
    "\n",
    "    for col in cols:\n",
    "        df[col]=df[col].str.replace('$', '').str.replace(',', '').astype('float')\n",
    "else:\n",
    "    cols = ['yearlyincome']\n",
    "    for col in cols:\n",
    "        df[col]=df[col].str.replace('$', '').str.replace(',', '').astype('float')\n",
    "\n",
    "m = Metadata(dataset)"
   ]
  },
  {
   "cell_type": "code",
   "execution_count": 24,
   "id": "bf8c627f-a3bb-4d1f-b38c-f0d700d276ae",
   "metadata": {
    "tags": []
   },
   "outputs": [],
   "source": [
    "m.save(f'metadata_{table}.pkl')"
   ]
  },
  {
   "cell_type": "code",
   "execution_count": 25,
   "id": "5f37d652-3fd0-43fa-8830-8f52b07e7bc7",
   "metadata": {
    "tags": []
   },
   "outputs": [
    {
     "data": {
      "application/vnd.jupyter.widget-view+json": {
       "model_id": "0f4eb3ae4f274b52993ff654dfa365b4",
       "version_major": 2,
       "version_minor": 0
      },
      "text/plain": [
       "Summarize dataset:   0%|          | 0/5 [00:00<?, ?it/s]"
      ]
     },
     "metadata": {},
     "output_type": "display_data"
    },
    {
     "data": {
      "application/vnd.jupyter.widget-view+json": {
       "model_id": "a942e8018d90485494d3045480651a6b",
       "version_major": 2,
       "version_minor": 0
      },
      "text/plain": [
       "Generate report structure:   0%|          | 0/1 [00:00<?, ?it/s]"
      ]
     },
     "metadata": {},
     "output_type": "display_data"
    },
    {
     "data": {
      "application/vnd.jupyter.widget-view+json": {
       "model_id": "a4264384f68640daa77cb4452ede1f31",
       "version_major": 2,
       "version_minor": 0
      },
      "text/plain": [
       "Render HTML:   0%|          | 0/1 [00:00<?, ?it/s]"
      ]
     },
     "metadata": {},
     "output_type": "display_data"
    }
   ],
   "source": [
    "from ydata_profiling import ProfileReport\n",
    "\n",
    "report = ProfileReport(df, minimal=True)\n",
    "report_html = report.to_html()"
   ]
  },
  {
   "cell_type": "code",
   "execution_count": 26,
   "id": "99153d9b-f074-4e18-9768-48c8d91b9924",
   "metadata": {
    "tags": []
   },
   "outputs": [],
   "source": [
    "df.to_csv(f'{table}.csv', index=False)"
   ]
  },
  {
   "cell_type": "markdown",
   "id": "3ca382b1-82d7-4359-bfe6-50d776ed8aaf",
   "metadata": {},
   "source": [
    "## Setting the pipeline step outputs"
   ]
  },
  {
   "cell_type": "code",
   "execution_count": 27,
   "id": "338f9edc-38df-4b7c-8977-6b48bdbcef28",
   "metadata": {
    "tags": []
   },
   "outputs": [],
   "source": [
    "##add here the outputs logic\n",
    "import json\n",
    "\n",
    "profile_pipeline_output = {\n",
    "    'outputs' : [\n",
    "        {\n",
    "            'type': 'table',\n",
    "            'storage': 'inline',\n",
    "            'format': 'csv',\n",
    "            'header': list(sample.columns),\n",
    "            'source': sample.to_csv(header=False, index=True)\n",
    "        },\n",
    "        {\n",
    "          'type': 'web-app',\n",
    "          'storage': 'inline',\n",
    "          'source': report_html,\n",
    "        },\n",
    "    ]\n",
    "  }\n",
    "\n",
    "with open('mlpipeline-ui-metadata.json', 'w') as metadata_file:\n",
    "    json.dump(profile_pipeline_output, metadata_file)\n"
   ]
  }
 ],
 "metadata": {
  "kernelspec": {
   "display_name": "Python 3 (ipykernel)",
   "language": "python",
   "name": "python3"
  },
  "language_info": {
   "codemirror_mode": {
    "name": "ipython",
    "version": 3
   },
   "file_extension": ".py",
   "mimetype": "text/x-python",
   "name": "python",
   "nbconvert_exporter": "python",
   "pygments_lexer": "ipython3",
   "version": "3.10.12"
  }
 },
 "nbformat": 4,
 "nbformat_minor": 5
}
