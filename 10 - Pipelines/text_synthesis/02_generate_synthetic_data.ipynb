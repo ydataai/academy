{
 "cells": [
  {
   "cell_type": "markdown",
   "id": "ca0959ca-dc13-40fa-a61f-c6c7e9414068",
   "metadata": {},
   "source": [
    "# Synthetic text generation & Profile"
   ]
  },
  {
   "cell_type": "markdown",
   "id": "df2cc965-7d6b-4142-b41b-9cf4f8e4b4f1",
   "metadata": {},
   "source": [
    "#### Required imports"
   ]
  },
  {
   "cell_type": "code",
   "execution_count": 5,
   "id": "13b33675-a498-4e65-ae55-1435503a2772",
   "metadata": {},
   "outputs": [],
   "source": [
    "# Importing YData's packages\n",
    "from ydata.labs import DataSources\n",
    "# Reading the Dataset from the DataSource\n",
    "datasource = DataSources.get(uid='{datasource-id}')\n",
    "dataset = datasource.dataset\n",
    "# Getting the calculated Metadata to get the profile overview information in the labs\n",
    "metadata = datasource.metadata\n",
    "print(metadata)"
   ]
  },
  {
   "cell_type": "markdown",
   "id": "a1a7b7a2-9404-4bb2-aaf7-9cb2f4353cdc",
   "metadata": {},
   "source": [
    "## Train & Generate synthetic data samples"
   ]
  },
  {
   "cell_type": "code",
   "execution_count": 15,
   "id": "7fff158c-8165-4be9-adf3-18c212937c2e",
   "metadata": {},
   "outputs": [
    {
     "name": "stdout",
     "output_type": "stream",
     "text": [
      "INFO: 2023-04-19 10:56:22,219 [SYNTHESIZER] - Number columns considered for synth: 12\n",
      "INFO: 2023-04-19 10:56:22,525 [SYNTHESIZER] - Starting the synthetic data modeling process over 2x1 blocks.\n",
      "INFO: 2023-04-19 10:56:22,526 [SYNTHESIZER] - Generating pipeline for segment (-0.001, 27468.0]\n",
      "INFO: 2023-04-19 10:56:22,538 [SYNTHESIZER] - Preprocess segment\n",
      "INFO: 2023-04-19 10:56:22,543 [SYNTHESIZER] - Synthesizer init.\n",
      "INFO: 2023-04-19 10:56:22,544 [SYNTHESIZER] - Processing the data prior fitting the synthesizer.\n",
      "INFO: 2023-04-19 10:56:31,182 [SYNTHESIZER] - Generating pipeline for segment (27468.0, 54936.0]\n",
      "INFO: 2023-04-19 10:56:31,192 [SYNTHESIZER] - Preprocess segment\n",
      "INFO: 2023-04-19 10:56:31,203 [SYNTHESIZER] - Synthesizer init.\n",
      "INFO: 2023-04-19 10:56:31,204 [SYNTHESIZER] - Processing the data prior fitting the synthesizer.\n"
     ]
    },
    {
     "data": {
      "text/plain": [
       "<ydata.synthesizers.regular.model.RegularSynthesizer at 0x7f052e68e9e0>"
      ]
     },
     "execution_count": 15,
     "metadata": {},
     "output_type": "execute_result"
    }
   ],
   "source": [
    "from ydata.synthesizers.regular import TextSynthesizer\n",
    "\n",
    "synth = TextSynthesizer(model='open-ai')\n",
    "synth.fit(dataset, metadata=metadata)"
   ]
  },
  {
   "cell_type": "code",
   "execution_count": 17,
   "id": "4c7a9c55-51f8-4ab9-984a-1a568307f686",
   "metadata": {},
   "outputs": [
    {
     "name": "stdout",
     "output_type": "stream",
     "text": [
      "INFO: 2023-04-19 10:57:27,747 [SYNTHESIZER] - Start generating model samples.\n",
      "INFO: 2023-04-19 10:57:27,748 [SYNTHESIZER] - Sample segment (-0.001, 27468.0]\n",
      "INFO: 2023-04-19 10:57:31,566 [SYNTHESIZER] - Sample segment (27468.0, 54936.0]\n"
     ]
    }
   ],
   "source": [
    "## Generate as many synthetic samples as required. N_samples represents the number of rows to be generated.\n",
    "synth_sample = synth.sample(n_samples=len(dataset))"
   ]
  },
  {
   "cell_type": "markdown",
   "id": "b650ab24-46ba-4487-9e42-a5162dbf47f8",
   "metadata": {},
   "source": [
    "## Profile data"
   ]
  },
  {
   "cell_type": "code",
   "execution_count": 2,
   "id": "b70eb400-f19b-4873-9388-f96e9913168c",
   "metadata": {
    "tags": []
   },
   "outputs": [
    {
     "data": {
      "application/vnd.jupyter.widget-view+json": {
       "model_id": "88533ccd91f6446baf042b88449d0eca",
       "version_major": 2,
       "version_minor": 0
      },
      "text/plain": [
       "Summarize dataset:   0%|          | 0/5 [00:00<?, ?it/s]"
      ]
     },
     "metadata": {},
     "output_type": "display_data"
    },
    {
     "data": {
      "application/vnd.jupyter.widget-view+json": {
       "model_id": "f5c759873fdb415ba77aa9bbd35aa52e",
       "version_major": 2,
       "version_minor": 0
      },
      "text/plain": [
       "Generate report structure:   0%|          | 0/1 [00:00<?, ?it/s]"
      ]
     },
     "metadata": {},
     "output_type": "display_data"
    },
    {
     "data": {
      "application/vnd.jupyter.widget-view+json": {
       "model_id": "78cd2e87282c4315b4871c7d1433cdf4",
       "version_major": 2,
       "version_minor": 0
      },
      "text/plain": [
       "Render HTML:   0%|          | 0/1 [00:00<?, ?it/s]"
      ]
     },
     "metadata": {},
     "output_type": "display_data"
    }
   ],
   "source": [
    "from ydata.profiling import ProfileReport\n",
    "\n",
    "report = ProfileReport(synth_sample)\n",
    "report_html = report.to_html()"
   ]
  },
  {
   "cell_type": "markdown",
   "id": "973692ae-5746-4abc-ac74-03e83be9d812",
   "metadata": {},
   "source": [
    "### Pipeline outputs"
   ]
  },
  {
   "cell_type": "code",
   "execution_count": null,
   "id": "1bc28f72-1ad1-4046-a485-27785c0e00ba",
   "metadata": {},
   "outputs": [],
   "source": [
    "##add here the outputs logic\n",
    "import json\n",
    "\n",
    "profile_pipeline_output = {\n",
    "    'outputs' : [\n",
    "        {\n",
    "            'type': 'table',\n",
    "            'storage': 'inline',\n",
    "            'format': 'csv',\n",
    "            'header': list(synth_sample.columns),\n",
    "            'source': synth_sample.to_csv(header=False, index=True)\n",
    "        },\n",
    "        {\n",
    "          'type': 'web-app',\n",
    "          'storage': 'inline',\n",
    "          'source': report_html,\n",
    "        },\n",
    "    ]\n",
    "  }\n",
    "\n",
    "with open('mlpipeline-ui-metadata.json', 'w') as metadata_file:\n",
    "    json.dump(profile_pipeline_output, metadata_file)"
   ]
  }
 ],
 "metadata": {
  "kernelspec": {
   "display_name": "Python 3 (ipykernel)",
   "language": "python",
   "name": "python3"
  },
  "language_info": {
   "codemirror_mode": {
    "name": "ipython",
    "version": 3
   },
   "file_extension": ".py",
   "mimetype": "text/x-python",
   "name": "python",
   "nbconvert_exporter": "python",
   "pygments_lexer": "ipython3",
   "version": "3.10.12"
  }
 },
 "nbformat": 4,
 "nbformat_minor": 5
}
