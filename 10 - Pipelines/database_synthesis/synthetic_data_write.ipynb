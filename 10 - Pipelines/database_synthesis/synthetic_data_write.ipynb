{
 "cells": [
  {
   "cell_type": "markdown",
   "id": "0d76f223-aab9-41be-8893-1fdc72bea685",
   "metadata": {},
   "source": [
    "# Database synthetic data generation"
   ]
  },
  {
   "cell_type": "markdown",
   "id": "4a4c3ebf-8a27-434f-bc07-8ef157ad6f8c",
   "metadata": {},
   "source": [
    "In this Notebook we will guide on how you can generate a synthetic version of a database using YData Fabric's proprietary process.\n",
    "In this notebook, we will explore the techniques and methodologies employed by YData Fabric to create synthetic datasets that replicate the properties of real-world data. The notebook also covers the process of training these models on original datasets and generating new data."
   ]
  },
  {
   "cell_type": "markdown",
   "id": "aac90b77-802d-44a9-9a48-9dfa21deda9c",
   "metadata": {},
   "source": [
    "### Get the data from the database"
   ]
  },
  {
   "cell_type": "code",
   "execution_count": 3,
   "id": "74715aa8-efe8-42d7-97b2-51f5a244dd31",
   "metadata": {
    "tags": []
   },
   "outputs": [
    {
     "name": "stdout",
     "output_type": "stream",
     "text": [
      "\u001b[1mMultiMetadata Summary \n",
      " \n",
      "\u001b[0m\u001b[1mTables Summary \u001b[0m\n",
      "\u001b[1mNumber of tables: \u001b[0m9 \n",
      " \n",
      "  Table name  # cols  # nrows  Primary keys             Foreign keys PK characteristics                           FK characteristics Notes\n",
      "0     append       3       20            []                                                                                               \n",
      "1   district      16       77          [a1]                                        [id]                                                   \n",
      "2    account       4     4500  [account_id]            [district_id]               [id]                      {'district_id': ['id']}      \n",
      "3     client       6     5369   [client_id]            [district_id]               [id]                      {'district_id': ['id']}      \n",
      "4       disp       4     5369     [disp_id]  [client_id, account_id]               [id]  {'client_id': ['id'], 'account_id': ['id']}      \n",
      "5       loan       9      682     [loan_id]             [account_id]               [id]                       {'account_id': ['id']}      \n",
      "6      order       6     6471    [order_id]             [account_id]               [id]                       {'account_id': ['id']}      \n",
      "7      trans      10   135000    [trans_id]             [account_id]               [id]                       {'account_id': ['id']}      \n",
      "8       card       4      892     [card_id]                [disp_id]               [id]                          {'disp_id': ['id']}      \n",
      " \n",
      "\u001b[1mRelations Summary \u001b[0m\n",
      "\u001b[1mNumber of relations: \u001b[0m8 \n",
      " \n",
      "     Table       Column Parent Table Parent Column Relation Type\n",
      "0  account  district_id     district            a1           1-n\n",
      "1   client  district_id     district            a1           1-n\n",
      "2     disp    client_id       client     client_id           1-1\n",
      "3     disp   account_id      account    account_id           1-n\n",
      "4     loan   account_id      account    account_id           1-n\n",
      "5    order   account_id      account    account_id           1-n\n",
      "6    trans   account_id      account    account_id           1-n\n",
      "7     card      disp_id         disp       disp_id           1-n\n",
      " \n",
      "\u001b[1mWarnings Summary\u001b[0m\n",
      "\u001b[1mindependent_table: \u001b[0mFound 1 with no relationship with any other table\n",
      "\u001b[1mcircular_reference: \u001b[0mOne or more potential circular references found.\n",
      "\n"
     ]
    }
   ],
   "source": [
    "# Importing YData's packages\n",
    "from ydata.labs import DataSources\n",
    "# Reading the Dataset from the DataSource\n",
    "datasource = DataSources.get(uid='{datasource-id}')\n",
    "dataset = datasource.dataset\n",
    "# Getting the calculated Metadata to get the profile overview information in the labs\n",
    "metadata = datasource.metadata\n",
    "print(metadata)"
   ]
  },
  {
   "cell_type": "markdown",
   "id": "ccd071b4-f2de-45ab-aa98-54f9f6594411",
   "metadata": {},
   "source": [
    "## Synthetic data generation\n",
    "\n",
    "\n",
    "\n",
    "### Configure the MultiTableSynthesizer \n",
    "\n",
    "The configuration of the synthetic data generator will depend on the type of database as well as the expectations for the database quality and application. For more information on other configurations please check [YData Fabric Academy](https://github.com/ydataai/academy/blob/master/2-%20Synthetic%20Data/MultiTable).\n"
   ]
  },
  {
   "cell_type": "code",
   "execution_count": null,
   "id": "d0bc12ea-2ef0-48ae-b292-07d116d653a7",
   "metadata": {
    "tags": []
   },
   "outputs": [
    {
     "name": "stdout",
     "output_type": "stream",
     "text": [
      "INFO: 2024-08-07 10:27:46,066 (1/9) - Fitting table: [district]\n",
      "INFO: 2024-08-07 10:27:49,473 [SYNTHESIZER] - Number columns considered for synth: 16\n",
      "INFO: 2024-08-07 10:27:49,945 [SYNTHESIZER] - Starting the synthetic data modeling process over 1x1 blocks.\n",
      "INFO: 2024-08-07 10:27:49,949 [SYNTHESIZER] - Preprocess segment\n",
      "INFO: 2024-08-07 10:27:49,957 [SYNTHESIZER] - Synthesizer init.\n",
      "INFO: 2024-08-07 10:27:49,959 [SYNTHESIZER] - Processing the data prior fitting the synthesizer.\n",
      "INFO: 2024-08-07 10:27:50,291 (2/9) - Fitting table: [account]\n",
      "INFO: 2024-08-07 10:27:54,232 [SYNTHESIZER] - Number columns considered for synth: 21\n",
      "INFO: 2024-08-07 10:27:54,864 [SYNTHESIZER] - Starting the synthetic data modeling process over 1x1 blocks.\n",
      "INFO: 2024-08-07 10:27:54,867 [SYNTHESIZER] - Preprocess segment\n",
      "INFO: 2024-08-07 10:27:54,874 [SYNTHESIZER] - Synthesizer init.\n",
      "INFO: 2024-08-07 10:27:54,876 [SYNTHESIZER] - Processing the data prior fitting the synthesizer.\n",
      "INFO: 2024-08-07 10:27:55,897 (3/9) - Fitting table: [loan]\n",
      "INFO: 2024-08-07 10:27:58,308 [SYNTHESIZER] - Number columns considered for synth: 14\n",
      "INFO: 2024-08-07 10:27:58,756 [SYNTHESIZER] - Starting the synthetic data modeling process over 1x1 blocks.\n",
      "INFO: 2024-08-07 10:27:58,761 [SYNTHESIZER] - Preprocess segment\n",
      "INFO: 2024-08-07 10:27:58,770 [SYNTHESIZER] - Synthesizer init.\n",
      "INFO: 2024-08-07 10:27:58,772 [SYNTHESIZER] - Processing the data prior fitting the synthesizer.\n",
      "INFO: 2024-08-07 10:27:59,814 (4/9) - Fitting table: [trans]\n",
      "INFO: 2024-08-07 10:28:10,574 [SYNTHESIZER] - Number columns considered for synth: 15\n",
      "INFO: 2024-08-07 10:28:12,076 [SYNTHESIZER] - Starting the synthetic data modeling process over 2x1 blocks.\n",
      "INFO: 2024-08-07 10:28:12,078 [SYNTHESIZER] - Generating pipeline for segment (-0.001, 67499.5]\n",
      "INFO: 2024-08-07 10:28:12,086 [SYNTHESIZER] - Preprocess segment\n",
      "INFO: 2024-08-07 10:28:12,096 [SYNTHESIZER] - Synthesizer init.\n",
      "INFO: 2024-08-07 10:28:12,097 [SYNTHESIZER] - Processing the data prior fitting the synthesizer.\n"
     ]
    }
   ],
   "source": [
    "from ydata.synthesizers import MultiTableSynthesizer\n",
    "\n",
    "synth = MultiTableSynthesizer()\n",
    "synth.fit(dataset, metadata)"
   ]
  },
  {
   "cell_type": "markdown",
   "id": "25781702-d86e-4c48-a94a-0469f9626b2e",
   "metadata": {},
   "source": [
    "### Generate synthetic data"
   ]
  },
  {
   "cell_type": "code",
   "execution_count": null,
   "id": "876636f9-5316-4ee7-999c-49f149a7187b",
   "metadata": {},
   "outputs": [],
   "source": [
    "sample = synth.sample(n_samples=1.)\n",
    "print(sample)"
   ]
  },
  {
   "cell_type": "markdown",
   "id": "eb33f506-39fd-4339-acb4-0677d751db24",
   "metadata": {},
   "source": [
    "## Validate generated data referential integrity\n",
    "\n",
    "Validating referential integrity between real and synthetic databases is essential to ensure that relationships between data entities are consistently maintained. YData Fabric metadata validation ensures that the synthetic data is accurately validated in what concerns the structure and dependencies of the real data, preserving the logical consistency necessary for reliable testing and analysis."
   ]
  },
  {
   "cell_type": "code",
   "execution_count": null,
   "id": "b234086c-47ae-491e-aad8-3ff1848f5ec7",
   "metadata": {},
   "outputs": [],
   "source": [
    "from ydata.metadata.multimetadata import MultiMetadata\n",
    "\n",
    "m_sample = MultiMetadata(sample)\n",
    "print(m_sample.get_schema_validation_summary(metadata, sample, dataset))"
   ]
  },
  {
   "cell_type": "code",
   "execution_count": null,
   "id": "2ccbdcf1-66f2-4900-a9ac-7551ce513e05",
   "metadata": {},
   "outputs": [],
   "source": [
    "import pandas as pd\n",
    "\n",
    "tables_info = []\n",
    "for k, table in metadata.items():\n",
    "   tables_info.append({\"Table name\": k,\n",
    "                         \"# cols\": table.ncols,\n",
    "                         \"# nrows\": table.summary['nrows'],})\n",
    "\n",
    "tables_info_synth = pd.DataFrame(tables_info)\n",
    "tables_info_synth.to_csv('tables_info_synth.csv', index=True)"
   ]
  },
  {
   "cell_type": "markdown",
   "id": "1c90c80f-7a08-4a81-95d2-67d84ec6302f",
   "metadata": {},
   "source": [
    "## Write to a destination database"
   ]
  },
  {
   "cell_type": "code",
   "execution_count": null,
   "id": "f0f5a8cf-71c8-4388-aec5-56ce42489207",
   "metadata": {},
   "outputs": [],
   "source": [
    "# Importing YData's packages\n",
    "from ydata.labs import Connectors\n",
    "# Getting a previously created Connector\n",
    "connector = Connectors.get(uid='{connector-id}')"
   ]
  },
  {
   "cell_type": "code",
   "execution_count": null,
   "id": "d8fbcd6e-fd24-422d-9cfc-e196d85c61db",
   "metadata": {},
   "outputs": [],
   "source": [
    "connector.write_database(data=sample)"
   ]
  },
  {
   "cell_type": "markdown",
   "id": "e73cea58-a9d9-42f1-ab0b-126238e5803e",
   "metadata": {},
   "source": [
    "### Pipeline outputs"
   ]
  },
  {
   "cell_type": "code",
   "execution_count": null,
   "id": "f1f80a50-d2e9-422f-827e-51a6b13d6377",
   "metadata": {},
   "outputs": [],
   "source": [
    "##add here the outputs logic\n",
    "import json\n",
    "\n",
    "profile_pipeline_output = {\n",
    "    'outputs' :  [\n",
    "        {\n",
    "            'type': 'table',\n",
    "            'storage': 'inline',\n",
    "            'format': 'csv',\n",
    "            'header': list(tables_info_synth.columns),\n",
    "            'source': tables_info_synth.to_csv(header=False, index=True)\n",
    "        },\n",
    "    ]\n",
    "  }\n",
    "with open('mlpipeline-ui-metadata.json', 'w') as metadata_file:\n",
    "    json.dump(profile_pipeline_output, metadata_file)\n"
   ]
  }
 ],
 "metadata": {
  "kernelspec": {
   "display_name": "Python 3 (ipykernel)",
   "language": "python",
   "name": "python3"
  },
  "language_info": {
   "codemirror_mode": {
    "name": "ipython",
    "version": 3
   },
   "file_extension": ".py",
   "mimetype": "text/x-python",
   "name": "python",
   "nbconvert_exporter": "python",
   "pygments_lexer": "ipython3",
   "version": "3.10.12"
  }
 },
 "nbformat": 4,
 "nbformat_minor": 5
}
