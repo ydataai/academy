{
 "cells": [
  {
   "cell_type": "markdown",
   "id": "ca0959ca-dc13-40fa-a61f-c6c7e9414068",
   "metadata": {},
   "source": [
    "# Synthetic data generation from Time-series - Single Entity\n",
    "\n",
    "Time-Series is a type of data that holds a temporal dependency. It can include from categorical to numerical variables, and can be found in a multitude of use-case - from healthcare to financial services.\n",
    "\n",
    "YData Fabric offers an easy-to-use and familiar interface through the SDK to support Time-Series Synthesis. With the SDK and a few lines of code, users can replicate not only the general statistics of a dataset but also the temporal properties such as seasonality, periods and trends.\n",
    "\n",
    "[Air Quality](https://www.kaggle.com/datasets/sid321axn/beijing-multisite-airquality-data-set) is the dataset chosen to demo Fabric Time-Series synthesis properties and interface. For this example we are leveraging a single site."
   ]
  },
  {
   "cell_type": "markdown",
   "id": "6a3865aa-60a4-4f40-8dc3-f4c67daef7dd",
   "metadata": {
    "tags": []
   },
   "source": [
    "## Getting your data from the Data Catalog\n",
    "\n",
    "In this example we have create a new datasource from Google Cloud Storage and [created a Dataset in Fabric Data Catalog](https://docs.sdk.ydata.ai/latest/get-started/upload_csv/). Copy the required code snippet by clicking in the \"Explore in Labs\" button that you can find inside of the dataset detail as per the image below.\n",
    "\n",
    "![explore_in_labs.png](img/time_series_explore_in_lab.png)"
   ]
  },
  {
   "cell_type": "code",
   "execution_count": 1,
   "id": "13b33675-a498-4e65-ae55-1435503a2772",
   "metadata": {
    "tags": []
   },
   "outputs": [],
   "source": [
    "# Importing YData's packages\n",
    "from ydata.labs import DataSources\n",
    "# Reading the Dataset from the DataSource\n",
    "datasource = DataSources.get(uid='insert-datasource-id',\n",
    "                             namespace='insert-project-id')\n",
    "dataset = datasource.dataset"
   ]
  },
  {
   "cell_type": "code",
   "execution_count": 2,
   "id": "b0c45f49-8ea9-4564-bcd8-fa68f9bfb01e",
   "metadata": {
    "tags": []
   },
   "outputs": [],
   "source": [
    "#Update the dataset data types - Datetime is a date\n",
    "dataset.astype('Datetime', 'datetime')"
   ]
  },
  {
   "cell_type": "code",
   "execution_count": 3,
   "id": "98601bb4-c2e6-4739-a460-88ee86bcfe3c",
   "metadata": {
    "tags": []
   },
   "outputs": [
    {
     "name": "stdout",
     "output_type": "stream",
     "text": [
      "\u001B[1mDataset \n",
      " \n",
      "\u001B[0m\u001B[1mShape: \u001B[0m(35064, 15)\n",
      "\u001B[1mSchema: \u001B[0m\n",
      "      Column Variable type\n",
      "0         No           int\n",
      "1      PM2.5         float\n",
      "2       PM10         float\n",
      "3        SO2         float\n",
      "4        NO2         float\n",
      "5         CO         float\n",
      "6         O3         float\n",
      "7       TEMP         float\n",
      "8       PRES         float\n",
      "9       DEWP         float\n",
      "10      RAIN         float\n",
      "11        wd        string\n",
      "12      WSPM         float\n",
      "13   station        string\n",
      "14  Datetime      datetime\n",
      "\n",
      "\n"
     ]
    }
   ],
   "source": [
    "print(dataset)"
   ]
  },
  {
   "cell_type": "markdown",
   "id": "037cf500-0ee8-4182-9f08-19cf3d4d95c0",
   "metadata": {},
   "source": [
    "### Configure the Metadata for synthesis\n",
    "\n",
    "For the tiem-series synthesis there are two specific attributes to the Metadata that need to be set in order to generate Synthetic Data - *sortbykey*, that can only either be and integer or a date as it is used to understand the temporal order of the data, and *entities* this property is only required when your time-series dataset has time trajectories that refer to more than 1 entity (eg: patients, stores, stations, meters, etc)."
   ]
  },
  {
   "cell_type": "code",
   "execution_count": 5,
   "id": "cf3d6c2f-a412-42e0-aed6-b595f190a7ac",
   "metadata": {
    "tags": []
   },
   "outputs": [
    {
     "name": "stderr",
     "output_type": "stream",
     "text": [
      "/home/ydata/.venv/lib/python3.10/site-packages/ydata/metadata/metadata.py:214: UserWarning: Datasets other than Timeseries don't make use of dataset_attrs\n",
      "  warn(\"Datasets other than Timeseries don't make use of dataset_attrs\")\n"
     ]
    }
   ],
   "source": [
    "from ydata.metadata import Metadata\n",
    "\n",
    "dataset_attrs = {\n",
    "    'sortbykey': 'Datetime',\n",
    "}\n",
    "\n",
    "metadata = Metadata(dataset, dataset_type='timeseries', dataset_attrs=dataset_attrs)"
   ]
  },
  {
   "cell_type": "markdown",
   "id": "a1a7b7a2-9404-4bb2-aaf7-9cb2f4353cdc",
   "metadata": {},
   "source": [
    "## Train & Generate synthetic data samples"
   ]
  },
  {
   "cell_type": "code",
   "execution_count": 6,
   "id": "7fff158c-8165-4be9-adf3-18c212937c2e",
   "metadata": {
    "tags": []
   },
   "outputs": [
    {
     "name": "stdout",
     "output_type": "stream",
     "text": [
      "INFO: 2024-02-28 15:43:39,918 [SYNTHESIZER] - Initializing Time Series SYNTHESIZER.\n",
      "INFO: 2024-02-28 15:43:39,919 [SYNTHESIZER] - Number columns considered for synth: 15\n",
      "INFO: 2024-02-28 15:43:50,509 [SYNTHESIZER] - Starting the synthetic data modeling process over 1x1 blocks.\n",
      "INFO: 2024-02-28 15:43:50,516 [SYNTHESIZER] - Preprocess segment\n",
      "INFO: 2024-02-28 15:43:50,526 [SYNTHESIZER] - Synthesizer init.\n",
      "INFO: 2024-02-28 15:43:50,527 [SYNTHESIZER] - Processing the data prior fitting the synthesizer.\n"
     ]
    },
    {
     "data": {
      "text/plain": [
       "<ydata.synthesizers.timeseries.model.TimeSeriesSynthesizer at 0x7f54c03eb850>"
      ]
     },
     "execution_count": 6,
     "metadata": {},
     "output_type": "execute_result"
    }
   ],
   "source": [
    "from ydata.synthesizers import TimeSeriesSynthesizer\n",
    "\n",
    "synth = TimeSeriesSynthesizer()\n",
    "synth.fit(dataset, metadata=metadata)"
   ]
  },
  {
   "cell_type": "markdown",
   "id": "31fb9581-483b-4461-b8e3-902bbeef7da2",
   "metadata": {},
   "source": [
    "### Generating synthetic samples\n",
    "\n",
    "Different from the RegularSynthesizer that generates samples where is row is independent, the same does not happen to time-series data. For that reason the sampling is done based on the number of entities that you want to generate.\n",
    "This means that the series will have the same trajectory size and within the time period as the original data, but the number of entities generated my vary.\n",
    "In this case, and because our original data had only 1 entity we will be generating 1 synthetic entity."
   ]
  },
  {
   "cell_type": "code",
   "execution_count": 9,
   "id": "4c7a9c55-51f8-4ab9-984a-1a568307f686",
   "metadata": {
    "tags": []
   },
   "outputs": [
    {
     "name": "stdout",
     "output_type": "stream",
     "text": [
      "INFO: 2024-02-28 15:44:44,411 [SYNTHESIZER] - Start generating model samples.\n"
     ]
    }
   ],
   "source": [
    "synth_sample = synth.sample(n_entities=1)"
   ]
  },
  {
   "cell_type": "markdown",
   "id": "54f3cf93-9771-48e5-b58c-7e1d33a38d85",
   "metadata": {},
   "source": [
    "## Saving the data"
   ]
  },
  {
   "cell_type": "markdown",
   "id": "1c2492ed-4379-4397-a2be-45496ddc6bda",
   "metadata": {},
   "source": [
    "### Writing as a CSV"
   ]
  },
  {
   "cell_type": "code",
   "execution_count": 10,
   "id": "5579a23b-40f3-4484-8bbb-120ca9b07a16",
   "metadata": {
    "tags": []
   },
   "outputs": [],
   "source": [
    "synth_sample.to_pandas().to_csv('synthetic_sample.csv')\n"
   ]
  }
 ],
 "metadata": {
  "kernelspec": {
   "display_name": "Python 3 (ipykernel)",
   "language": "python",
   "name": "python3"
  },
  "language_info": {
   "codemirror_mode": {
    "name": "ipython",
    "version": 3
   },
   "file_extension": ".py",
   "mimetype": "text/x-python",
   "name": "python",
   "nbconvert_exporter": "python",
   "pygments_lexer": "ipython3",
   "version": "3.10.12"
  }
 },
 "nbformat": 4,
 "nbformat_minor": 5
}
