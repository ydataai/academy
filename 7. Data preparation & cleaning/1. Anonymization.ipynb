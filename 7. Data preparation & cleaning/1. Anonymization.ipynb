{
 "cells": [
  {
   "cell_type": "markdown",
   "id": "46282263-7eeb-48ee-ad4a-a072797cadc6",
   "metadata": {},
   "source": [
    "# Anonymizing PII\n",
    "\n",
    "Masking and anonymization are vital for data privacy, ensuring sensitive information is protected, especially under regulations like GDPR and HIPAA. These techniques allow companies to securely use data in development, testing, and analytics without exposing personal details, which mitigates risk and builds trust.\n",
    "\n",
    "Integrating these solutions into recurring data pipelines is essential for automated, consistent, and scalable data protection. This integration ensures that data is regularly anonymized or masked, adapting as regulations evolve and providing traceability for audits. In short, embedding masking and anonymization within pipelines safeguards data privacy efficiently and keeps organizations compliant."
   ]
  },
  {
   "cell_type": "markdown",
   "id": "37037eb5-6734-49f8-8d5b-3283385edc2d",
   "metadata": {},
   "source": [
    "### Reading the data from the Data Catalog"
   ]
  },
  {
   "cell_type": "code",
   "execution_count": 2,
   "id": "68a89ab0-0678-474a-9208-ac77752d552f",
   "metadata": {
    "tags": []
   },
   "outputs": [
    {
     "name": "stdout",
     "output_type": "stream",
     "text": [
      "\u001b[1mMetadata Summary \n",
      " \n",
      "\u001b[0m\u001b[1mDataset type: \u001b[0mTABULAR\n",
      "\u001b[1mDataset attributes: \u001b[0m\n",
      "\u001b[1mNumber of columns: \u001b[0m10\n",
      "\u001b[1mNumber of rows: \u001b[0m50000\n",
      "\u001b[1mDuplicate rows: \u001b[0m0\n",
      "\u001b[1mTarget column: \u001b[0m\n",
      "\n",
      "\u001b[1mColumn detail: \u001b[0m\n",
      "           Column    Data type Variable type Characteristics\n",
      "0   customer_name       string        string    name, person\n",
      "1           email       string        string       email, id\n",
      "2    phone_number       string        string           phone\n",
      "3         address     longtext        string         address\n",
      "4   purchase_date       string        string                \n",
      "5         product       string        string                \n",
      "6        quantity  categorical           int                \n",
      "7           price    numerical           int                \n",
      "8  payment_method  categorical        string                \n",
      "9    order_status  categorical        string                \n",
      "\n",
      "\u001b[1mWarnings: \u001b[0m\n",
      "           Warning                                                       Columns\n",
      "0      cardinality  [customer_name, email, phone_number, purchase_date, product]\n",
      "1            zeros                                                       [price]\n",
      "2           unique                                [email, phone_number, address]\n",
      "3  constant_length                                               [purchase_date]\n",
      "\n"
     ]
    }
   ],
   "source": [
    "# Importing YData's packages\n",
    "from ydata.labs import DataSources\n",
    "# Reading the Dataset from the DataSource\n",
    "datasource = DataSources.get(uid='{insert-uid}', namespace='{insert-namespace-id}')\n",
    "dataset = datasource.dataset\n",
    "# Getting the calculated Metadata to get the profile overview information in the labs\n",
    "metadata = datasource.metadata\n",
    "print(metadata)"
   ]
  },
  {
   "cell_type": "code",
   "execution_count": 3,
   "id": "4b427120-03e7-41fb-9133-a0a28f410050",
   "metadata": {
    "tags": []
   },
   "outputs": [
    {
     "data": {
      "text/html": [
       "<div>\n",
       "<style scoped>\n",
       "    .dataframe tbody tr th:only-of-type {\n",
       "        vertical-align: middle;\n",
       "    }\n",
       "\n",
       "    .dataframe tbody tr th {\n",
       "        vertical-align: top;\n",
       "    }\n",
       "\n",
       "    .dataframe thead th {\n",
       "        text-align: right;\n",
       "    }\n",
       "</style>\n",
       "<table border=\"1\" class=\"dataframe\">\n",
       "  <thead>\n",
       "    <tr style=\"text-align: right;\">\n",
       "      <th></th>\n",
       "      <th>customer_name</th>\n",
       "      <th>email</th>\n",
       "      <th>phone_number</th>\n",
       "      <th>address</th>\n",
       "      <th>purchase_date</th>\n",
       "      <th>product</th>\n",
       "      <th>quantity</th>\n",
       "      <th>price</th>\n",
       "      <th>payment_method</th>\n",
       "      <th>order_status</th>\n",
       "    </tr>\n",
       "  </thead>\n",
       "  <tbody>\n",
       "    <tr>\n",
       "      <th>0</th>\n",
       "      <td>Alexandra Harris</td>\n",
       "      <td>ncarrillo@example.net</td>\n",
       "      <td>017.770.9160x21749</td>\n",
       "      <td>Unit 3045 Box 9416\n",
       "DPO AA 76688</td>\n",
       "      <td>2021-12-23</td>\n",
       "      <td>idea</td>\n",
       "      <td>2</td>\n",
       "      <td>243</td>\n",
       "      <td>Gift Card</td>\n",
       "      <td>Delivered</td>\n",
       "    </tr>\n",
       "    <tr>\n",
       "      <th>1</th>\n",
       "      <td>Richard Graham</td>\n",
       "      <td>chasejessica@example.org</td>\n",
       "      <td>001-785-880-4267x26931</td>\n",
       "      <td>5431 Christine Lake Suite 050\n",
       "Lake Kevin, AZ 7...</td>\n",
       "      <td>2022-10-24</td>\n",
       "      <td>treat</td>\n",
       "      <td>3</td>\n",
       "      <td>237</td>\n",
       "      <td>Credit Card</td>\n",
       "      <td>Returned</td>\n",
       "    </tr>\n",
       "    <tr>\n",
       "      <th>2</th>\n",
       "      <td>Christopher Carlson MD</td>\n",
       "      <td>charris@example.org</td>\n",
       "      <td>+1-206-791-1312x020</td>\n",
       "      <td>4754 White Pass Apt. 984\n",
       "Smithchester, IA 58897</td>\n",
       "      <td>2021-01-04</td>\n",
       "      <td>occur</td>\n",
       "      <td>3</td>\n",
       "      <td>351</td>\n",
       "      <td>PayPal</td>\n",
       "      <td>Cancelled</td>\n",
       "    </tr>\n",
       "    <tr>\n",
       "      <th>3</th>\n",
       "      <td>Katie Gould</td>\n",
       "      <td>griffingina@example.net</td>\n",
       "      <td>840-176-1884x3130</td>\n",
       "      <td>10711 Ruiz Islands\n",
       "Krystalfurt, IL 75583</td>\n",
       "      <td>2023-08-23</td>\n",
       "      <td>able</td>\n",
       "      <td>5</td>\n",
       "      <td>495</td>\n",
       "      <td>Gift Card</td>\n",
       "      <td>Shipped</td>\n",
       "    </tr>\n",
       "    <tr>\n",
       "      <th>4</th>\n",
       "      <td>Theresa Young</td>\n",
       "      <td>troy45@example.com</td>\n",
       "      <td>(132)320-3616x6550</td>\n",
       "      <td>USNS Maldonado\n",
       "FPO AP 26854</td>\n",
       "      <td>2022-02-03</td>\n",
       "      <td>sense</td>\n",
       "      <td>3</td>\n",
       "      <td>230</td>\n",
       "      <td>PayPal</td>\n",
       "      <td>Pending</td>\n",
       "    </tr>\n",
       "  </tbody>\n",
       "</table>\n",
       "</div>"
      ],
      "text/plain": [
       "            customer_name                     email            phone_number  \\\n",
       "0        Alexandra Harris     ncarrillo@example.net      017.770.9160x21749   \n",
       "1          Richard Graham  chasejessica@example.org  001-785-880-4267x26931   \n",
       "2  Christopher Carlson MD       charris@example.org     +1-206-791-1312x020   \n",
       "3             Katie Gould   griffingina@example.net       840-176-1884x3130   \n",
       "4           Theresa Young        troy45@example.com      (132)320-3616x6550   \n",
       "\n",
       "                                             address purchase_date product  \\\n",
       "0                    Unit 3045 Box 9416\n",
       "DPO AA 76688    2021-12-23    idea   \n",
       "1  5431 Christine Lake Suite 050\n",
       "Lake Kevin, AZ 7...    2022-10-24   treat   \n",
       "2    4754 White Pass Apt. 984\n",
       "Smithchester, IA 58897    2021-01-04   occur   \n",
       "3           10711 Ruiz Islands\n",
       "Krystalfurt, IL 75583    2023-08-23    able   \n",
       "4                        USNS Maldonado\n",
       "FPO AP 26854    2022-02-03   sense   \n",
       "\n",
       "   quantity  price payment_method order_status  \n",
       "0         2    243      Gift Card    Delivered  \n",
       "1         3    237    Credit Card     Returned  \n",
       "2         3    351         PayPal    Cancelled  \n",
       "3         5    495      Gift Card      Shipped  \n",
       "4         3    230         PayPal      Pending  "
      ]
     },
     "execution_count": 3,
     "metadata": {},
     "output_type": "execute_result"
    }
   ],
   "source": [
    "dataset.head()"
   ]
  },
  {
   "cell_type": "markdown",
   "id": "ae94024b-cda6-4737-8905-115c06473182",
   "metadata": {},
   "source": [
    "## Anonymizing the information"
   ]
  },
  {
   "cell_type": "markdown",
   "id": "e19ad57f-dffc-4215-b1d7-6f9f015b3c04",
   "metadata": {
    "tags": []
   },
   "source": [
    "### Leveraging Fabric suggestions"
   ]
  },
  {
   "cell_type": "code",
   "execution_count": 5,
   "id": "c1b3ff70-4fe2-4133-8fc2-6113129b067c",
   "metadata": {
    "tags": []
   },
   "outputs": [],
   "source": [
    "from ydata.preprocessors.methods.anonymization import AnonymizerConfigurationBuilder, AnonymizerType\n",
    "\n",
    "#detected_pii_cols=list(detected_pii.keys())\n",
    "#if len(detected_pii_cols) > 0:\n",
    "from ydata.characteristics.characteristics import suggest_anonymizer_config\n",
    "\n",
    "anonymizer_config=suggest_anonymizer_config(metadata)\n",
    "config={}\n",
    "for col, v in anonymizer_config.items():\n",
    "    config[col] = v[0]['type']"
   ]
  },
  {
   "cell_type": "code",
   "execution_count": 6,
   "id": "8e8fc8dc-37aa-4200-a42c-9051606bd176",
   "metadata": {
    "tags": []
   },
   "outputs": [
    {
     "data": {
      "text/plain": [
       "{'customer_name': <AnonymizerType.NAME: 27>,\n",
       " 'email': <AnonymizerType.EMAIL: 16>,\n",
       " 'phone_number': <AnonymizerType.PHONE: 43>,\n",
       " 'address': <AnonymizerType.FULL_ADDRESS: 36>}"
      ]
     },
     "execution_count": 6,
     "metadata": {},
     "output_type": "execute_result"
    }
   ],
   "source": [
    "builder = AnonymizerConfigurationBuilder(config)"
   ]
  },
  {
   "cell_type": "code",
   "execution_count": 8,
   "id": "63ba509d-c1e5-40ab-90dd-ddf4ab6cb1f3",
   "metadata": {
    "tags": []
   },
   "outputs": [],
   "source": [
    "from ydata.preprocessors.preprocess_methods import AnonymizerEngine\n",
    "\n",
    "anonymizer = AnonymizerEngine()\n",
    "anon_dataset = anonymizer.fit_transform(X=dataset, config=config, metadata=metadata)"
   ]
  },
  {
   "cell_type": "code",
   "execution_count": 9,
   "id": "65c242d7-58e5-4ec6-95e0-b1996dc9d3d1",
   "metadata": {
    "tags": []
   },
   "outputs": [
    {
     "data": {
      "text/html": [
       "<div>\n",
       "<style scoped>\n",
       "    .dataframe tbody tr th:only-of-type {\n",
       "        vertical-align: middle;\n",
       "    }\n",
       "\n",
       "    .dataframe tbody tr th {\n",
       "        vertical-align: top;\n",
       "    }\n",
       "\n",
       "    .dataframe thead th {\n",
       "        text-align: right;\n",
       "    }\n",
       "</style>\n",
       "<table border=\"1\" class=\"dataframe\">\n",
       "  <thead>\n",
       "    <tr style=\"text-align: right;\">\n",
       "      <th></th>\n",
       "      <th>customer_name</th>\n",
       "      <th>email</th>\n",
       "      <th>phone_number</th>\n",
       "      <th>address</th>\n",
       "      <th>purchase_date</th>\n",
       "      <th>product</th>\n",
       "      <th>quantity</th>\n",
       "      <th>price</th>\n",
       "      <th>payment_method</th>\n",
       "      <th>order_status</th>\n",
       "    </tr>\n",
       "  </thead>\n",
       "  <tbody>\n",
       "    <tr>\n",
       "      <th>0</th>\n",
       "      <td>Mrs. Jennifer Yoder MD</td>\n",
       "      <td>lwest@example.com</td>\n",
       "      <td>9124138147</td>\n",
       "      <td>Unit 1039 Box 3940\\nDPO AE 32431</td>\n",
       "      <td>2021-12-23</td>\n",
       "      <td>idea</td>\n",
       "      <td>2</td>\n",
       "      <td>243</td>\n",
       "      <td>Gift Card</td>\n",
       "      <td>Delivered</td>\n",
       "    </tr>\n",
       "    <tr>\n",
       "      <th>1</th>\n",
       "      <td>John Walker</td>\n",
       "      <td>pamela00@example.net</td>\n",
       "      <td>9380480273</td>\n",
       "      <td>178 Suzanne Shoals\\nLake Vicki, WA 93295</td>\n",
       "      <td>2022-10-24</td>\n",
       "      <td>treat</td>\n",
       "      <td>3</td>\n",
       "      <td>237</td>\n",
       "      <td>Credit Card</td>\n",
       "      <td>Returned</td>\n",
       "    </tr>\n",
       "    <tr>\n",
       "      <th>2</th>\n",
       "      <td>Brandi Howe</td>\n",
       "      <td>vhernandez@example.org</td>\n",
       "      <td>6386415424</td>\n",
       "      <td>12169 Soto Street Apt. 219\\nEast Ryanchester, ...</td>\n",
       "      <td>2021-01-04</td>\n",
       "      <td>occur</td>\n",
       "      <td>3</td>\n",
       "      <td>351</td>\n",
       "      <td>PayPal</td>\n",
       "      <td>Cancelled</td>\n",
       "    </tr>\n",
       "    <tr>\n",
       "      <th>3</th>\n",
       "      <td>Misty Graham</td>\n",
       "      <td>jenningsalexander@example.org</td>\n",
       "      <td>6880352781</td>\n",
       "      <td>3537 Arnold Bypass Apt. 949\\nJohntown, DE 70208</td>\n",
       "      <td>2023-08-23</td>\n",
       "      <td>able</td>\n",
       "      <td>5</td>\n",
       "      <td>495</td>\n",
       "      <td>Gift Card</td>\n",
       "      <td>Shipped</td>\n",
       "    </tr>\n",
       "    <tr>\n",
       "      <th>4</th>\n",
       "      <td>Phillip Harris</td>\n",
       "      <td>patricia32@example.org</td>\n",
       "      <td>3904188171</td>\n",
       "      <td>0386 Lee Extensions\\nStephaniefort, ME 70718</td>\n",
       "      <td>2022-02-03</td>\n",
       "      <td>sense</td>\n",
       "      <td>3</td>\n",
       "      <td>230</td>\n",
       "      <td>PayPal</td>\n",
       "      <td>Pending</td>\n",
       "    </tr>\n",
       "  </tbody>\n",
       "</table>\n",
       "</div>"
      ],
      "text/plain": [
       "            customer_name                          email phone_number  \\\n",
       "0  Mrs. Jennifer Yoder MD              lwest@example.com   9124138147   \n",
       "1             John Walker           pamela00@example.net   9380480273   \n",
       "2             Brandi Howe         vhernandez@example.org   6386415424   \n",
       "3            Misty Graham  jenningsalexander@example.org   6880352781   \n",
       "4          Phillip Harris         patricia32@example.org   3904188171   \n",
       "\n",
       "                                             address purchase_date product  \\\n",
       "0                   Unit 1039 Box 3940\\nDPO AE 32431    2021-12-23    idea   \n",
       "1           178 Suzanne Shoals\\nLake Vicki, WA 93295    2022-10-24   treat   \n",
       "2  12169 Soto Street Apt. 219\\nEast Ryanchester, ...    2021-01-04   occur   \n",
       "3    3537 Arnold Bypass Apt. 949\\nJohntown, DE 70208    2023-08-23    able   \n",
       "4       0386 Lee Extensions\\nStephaniefort, ME 70718    2022-02-03   sense   \n",
       "\n",
       "   quantity  price payment_method order_status  \n",
       "0         2    243      Gift Card    Delivered  \n",
       "1         3    237    Credit Card     Returned  \n",
       "2         3    351         PayPal    Cancelled  \n",
       "3         5    495      Gift Card      Shipped  \n",
       "4         3    230         PayPal      Pending  "
      ]
     },
     "execution_count": 9,
     "metadata": {},
     "output_type": "execute_result"
    }
   ],
   "source": [
    "anon_dataset.head()"
   ]
  },
  {
   "cell_type": "markdown",
   "id": "b69e1572-4744-4b72-94bd-9dbfe029fa3a",
   "metadata": {},
   "source": [
    "### User provided configuration"
   ]
  },
  {
   "cell_type": "code",
   "execution_count": 27,
   "id": "1f035188-b305-4865-af2e-090d60e2dbd2",
   "metadata": {
    "tags": []
   },
   "outputs": [],
   "source": [
    "config = {\n",
    "        # Regex as a string is deduced automatically as AnonymizerType.REGEX\n",
    "        'customer_name': {\n",
    "            \"type\": \"name\",\n",
    "        },\n",
    "        'phone_number': {\n",
    "                \"type\": \"regex\",\n",
    "                \"regex\": r'[0-9]{9}',\n",
    "        },\n",
    "        'email': {\n",
    "                \"type\": \"email\"\n",
    "        },\n",
    "        'address': {\n",
    "                \"type\": AnonymizerType.FULL_ADDRESS\n",
    "        }\n",
    "    }\n",
    "\n",
    "builder = AnonymizerConfigurationBuilder(config)"
   ]
  },
  {
   "cell_type": "code",
   "execution_count": 28,
   "id": "7838f670-11bf-4b53-8b18-d4c1459e5534",
   "metadata": {
    "tags": []
   },
   "outputs": [],
   "source": [
    "from ydata.preprocessors.preprocess_methods import AnonymizerEngine\n",
    "\n",
    "anonymizer = AnonymizerEngine()\n",
    "anon_dataset = anonymizer.fit_transform(X=dataset, config=config, metadata=metadata)"
   ]
  },
  {
   "cell_type": "code",
   "execution_count": 30,
   "id": "c28a0ede-f6c3-40b5-9a67-2c0fb41e2450",
   "metadata": {
    "tags": []
   },
   "outputs": [
    {
     "data": {
      "text/html": [
       "<div>\n",
       "<style scoped>\n",
       "    .dataframe tbody tr th:only-of-type {\n",
       "        vertical-align: middle;\n",
       "    }\n",
       "\n",
       "    .dataframe tbody tr th {\n",
       "        vertical-align: top;\n",
       "    }\n",
       "\n",
       "    .dataframe thead th {\n",
       "        text-align: right;\n",
       "    }\n",
       "</style>\n",
       "<table border=\"1\" class=\"dataframe\">\n",
       "  <thead>\n",
       "    <tr style=\"text-align: right;\">\n",
       "      <th></th>\n",
       "      <th>customer_name</th>\n",
       "      <th>email</th>\n",
       "      <th>phone_number</th>\n",
       "      <th>address</th>\n",
       "      <th>purchase_date</th>\n",
       "      <th>product</th>\n",
       "      <th>quantity</th>\n",
       "      <th>price</th>\n",
       "      <th>payment_method</th>\n",
       "      <th>order_status</th>\n",
       "    </tr>\n",
       "  </thead>\n",
       "  <tbody>\n",
       "    <tr>\n",
       "      <th>0</th>\n",
       "      <td>Heather Johnson</td>\n",
       "      <td>williamguerrero@example.com</td>\n",
       "      <td>134476637</td>\n",
       "      <td>7630 Smith Wall Suite 015\\nWest Jordanville, M...</td>\n",
       "      <td>2021-12-23</td>\n",
       "      <td>idea</td>\n",
       "      <td>2</td>\n",
       "      <td>243</td>\n",
       "      <td>Gift Card</td>\n",
       "      <td>Delivered</td>\n",
       "    </tr>\n",
       "    <tr>\n",
       "      <th>1</th>\n",
       "      <td>Michael Payne</td>\n",
       "      <td>karen46@example.org</td>\n",
       "      <td>142075635</td>\n",
       "      <td>6592 Ronald Stream\\nEast Bernardtown, WY 79262</td>\n",
       "      <td>2022-10-24</td>\n",
       "      <td>treat</td>\n",
       "      <td>3</td>\n",
       "      <td>237</td>\n",
       "      <td>Credit Card</td>\n",
       "      <td>Returned</td>\n",
       "    </tr>\n",
       "    <tr>\n",
       "      <th>2</th>\n",
       "      <td>Ronnie Phillips</td>\n",
       "      <td>curtis79@example.com</td>\n",
       "      <td>771248879</td>\n",
       "      <td>882 Jackson Square\\nDavisbury, MI 60158</td>\n",
       "      <td>2021-01-04</td>\n",
       "      <td>occur</td>\n",
       "      <td>3</td>\n",
       "      <td>351</td>\n",
       "      <td>PayPal</td>\n",
       "      <td>Cancelled</td>\n",
       "    </tr>\n",
       "    <tr>\n",
       "      <th>3</th>\n",
       "      <td>Henry Chapman</td>\n",
       "      <td>ashley06@example.com</td>\n",
       "      <td>657801551</td>\n",
       "      <td>54911 Jose Knoll Apt. 278\\nGilesmouth, OR 91171</td>\n",
       "      <td>2023-08-23</td>\n",
       "      <td>able</td>\n",
       "      <td>5</td>\n",
       "      <td>495</td>\n",
       "      <td>Gift Card</td>\n",
       "      <td>Shipped</td>\n",
       "    </tr>\n",
       "    <tr>\n",
       "      <th>4</th>\n",
       "      <td>Rebecca Crawford</td>\n",
       "      <td>rebeccarice@example.net</td>\n",
       "      <td>306272013</td>\n",
       "      <td>384 Marcus Tunnel Suite 163\\nLake Lisatown, MP...</td>\n",
       "      <td>2022-02-03</td>\n",
       "      <td>sense</td>\n",
       "      <td>3</td>\n",
       "      <td>230</td>\n",
       "      <td>PayPal</td>\n",
       "      <td>Pending</td>\n",
       "    </tr>\n",
       "  </tbody>\n",
       "</table>\n",
       "</div>"
      ],
      "text/plain": [
       "      customer_name                        email phone_number  \\\n",
       "0   Heather Johnson  williamguerrero@example.com    134476637   \n",
       "1     Michael Payne          karen46@example.org    142075635   \n",
       "2   Ronnie Phillips         curtis79@example.com    771248879   \n",
       "3     Henry Chapman         ashley06@example.com    657801551   \n",
       "4  Rebecca Crawford      rebeccarice@example.net    306272013   \n",
       "\n",
       "                                             address purchase_date product  \\\n",
       "0  7630 Smith Wall Suite 015\\nWest Jordanville, M...    2021-12-23    idea   \n",
       "1     6592 Ronald Stream\\nEast Bernardtown, WY 79262    2022-10-24   treat   \n",
       "2            882 Jackson Square\\nDavisbury, MI 60158    2021-01-04   occur   \n",
       "3    54911 Jose Knoll Apt. 278\\nGilesmouth, OR 91171    2023-08-23    able   \n",
       "4  384 Marcus Tunnel Suite 163\\nLake Lisatown, MP...    2022-02-03   sense   \n",
       "\n",
       "   quantity  price payment_method order_status  \n",
       "0         2    243      Gift Card    Delivered  \n",
       "1         3    237    Credit Card     Returned  \n",
       "2         3    351         PayPal    Cancelled  \n",
       "3         5    495      Gift Card      Shipped  \n",
       "4         3    230         PayPal      Pending  "
      ]
     },
     "execution_count": 30,
     "metadata": {},
     "output_type": "execute_result"
    }
   ],
   "source": [
    "anon_dataset.head()"
   ]
  },
  {
   "cell_type": "markdown",
   "id": "6e0295e5-6dd5-4141-a8bb-1b00c4431f1f",
   "metadata": {},
   "source": [
    "## Write dataset to storage"
   ]
  },
  {
   "cell_type": "code",
   "execution_count": 33,
   "id": "6d1363c7-3885-433c-a5c4-a6683e4056e0",
   "metadata": {
    "tags": []
   },
   "outputs": [
    {
     "name": "stderr",
     "output_type": "stream",
     "text": [
      "/home/ydata/.venv/lib/python3.10/site-packages/distributed/client.py:3169: UserWarning: Sending large graph of size 14.20 MiB.\n",
      "This may cause some slowdown.\n",
      "Consider scattering data ahead of time and using futures.\n",
      "  warnings.warn(\n"
     ]
    }
   ],
   "source": [
    "# Importing YData's packages\n",
    "from ydata.labs import Connectors\n",
    "# Getting a previously created Connector\n",
    "connector = Connectors.get(uid='{insert-connector-uid}')\n",
    "connector.write_table(data=anon_dataset, name='anonymized_data')"
   ]
  }
 ],
 "metadata": {
  "kernelspec": {
   "display_name": "Python 3 (ipykernel)",
   "language": "python",
   "name": "python3"
  },
  "language_info": {
   "codemirror_mode": {
    "name": "ipython",
    "version": 3
   },
   "file_extension": ".py",
   "mimetype": "text/x-python",
   "name": "python",
   "nbconvert_exporter": "python",
   "pygments_lexer": "ipython3",
   "version": "3.10.12"
  }
 },
 "nbformat": 4,
 "nbformat_minor": 5
}
